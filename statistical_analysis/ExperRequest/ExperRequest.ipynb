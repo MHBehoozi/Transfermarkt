{
 "cells": [
  {
   "cell_type": "code",
   "execution_count": 1,
   "id": "91a0bd9e",
   "metadata": {},
   "outputs": [],
   "source": [
    "import numpy as np\n",
    "import pandas as pd\n",
    "import matplotlib.pyplot as plt"
   ]
  },
  {
   "cell_type": "code",
   "execution_count": 2,
   "id": "58b20b18",
   "metadata": {},
   "outputs": [
    {
     "data": {
      "text/html": [
       "<div>\n",
       "<style scoped>\n",
       "    .dataframe tbody tr th:only-of-type {\n",
       "        vertical-align: middle;\n",
       "    }\n",
       "\n",
       "    .dataframe tbody tr th {\n",
       "        vertical-align: top;\n",
       "    }\n",
       "\n",
       "    .dataframe thead th {\n",
       "        text-align: right;\n",
       "    }\n",
       "</style>\n",
       "<table border=\"1\" class=\"dataframe\">\n",
       "  <thead>\n",
       "    <tr style=\"text-align: right;\">\n",
       "      <th></th>\n",
       "      <th>Unnamed: 0</th>\n",
       "      <th>player_id</th>\n",
       "      <th>Season</th>\n",
       "      <th>Date</th>\n",
       "      <th>Left</th>\n",
       "      <th>Joined</th>\n",
       "      <th>MV</th>\n",
       "      <th>Fee</th>\n",
       "    </tr>\n",
       "  </thead>\n",
       "  <tbody>\n",
       "    <tr>\n",
       "      <th>0</th>\n",
       "      <td>0</td>\n",
       "      <td>108390</td>\n",
       "      <td>18/19</td>\n",
       "      <td>Aug9,2018</td>\n",
       "      <td>Chelsea</td>\n",
       "      <td>RealMadrid</td>\n",
       "      <td>€65.00m</td>\n",
       "      <td>€35.00m</td>\n",
       "    </tr>\n",
       "    <tr>\n",
       "      <th>1</th>\n",
       "      <td>1</td>\n",
       "      <td>404839</td>\n",
       "      <td>19/20</td>\n",
       "      <td>Jul21,2020</td>\n",
       "      <td>RealOviedo</td>\n",
       "      <td>RealMadrid</td>\n",
       "      <td>€2.70m</td>\n",
       "      <td>Endofloan</td>\n",
       "    </tr>\n",
       "    <tr>\n",
       "      <th>2</th>\n",
       "      <td>2</td>\n",
       "      <td>404839</td>\n",
       "      <td>19/20</td>\n",
       "      <td>Jan15,2020</td>\n",
       "      <td>RealMadrid</td>\n",
       "      <td>RealOviedo</td>\n",
       "      <td>€3.00m</td>\n",
       "      <td>loantransfer</td>\n",
       "    </tr>\n",
       "    <tr>\n",
       "      <th>3</th>\n",
       "      <td>3</td>\n",
       "      <td>404839</td>\n",
       "      <td>19/20</td>\n",
       "      <td>Jan14,2020</td>\n",
       "      <td>RealValladolid</td>\n",
       "      <td>RealMadrid</td>\n",
       "      <td>€3.00m</td>\n",
       "      <td>Endofloan</td>\n",
       "    </tr>\n",
       "    <tr>\n",
       "      <th>4</th>\n",
       "      <td>4</td>\n",
       "      <td>404839</td>\n",
       "      <td>19/20</td>\n",
       "      <td>Aug13,2019</td>\n",
       "      <td>RealMadrid</td>\n",
       "      <td>RealValladolid</td>\n",
       "      <td>€7.50m</td>\n",
       "      <td>loantransfer</td>\n",
       "    </tr>\n",
       "  </tbody>\n",
       "</table>\n",
       "</div>"
      ],
      "text/plain": [
       "   Unnamed: 0  player_id Season        Date            Left          Joined  \\\n",
       "0           0     108390  18/19   Aug9,2018         Chelsea      RealMadrid   \n",
       "1           1     404839  19/20  Jul21,2020      RealOviedo      RealMadrid   \n",
       "2           2     404839  19/20  Jan15,2020      RealMadrid      RealOviedo   \n",
       "3           3     404839  19/20  Jan14,2020  RealValladolid      RealMadrid   \n",
       "4           4     404839  19/20  Aug13,2019      RealMadrid  RealValladolid   \n",
       "\n",
       "        MV           Fee  \n",
       "0  €65.00m       €35.00m  \n",
       "1   €2.70m     Endofloan  \n",
       "2   €3.00m  loantransfer  \n",
       "3   €3.00m     Endofloan  \n",
       "4   €7.50m  loantransfer  "
      ]
     },
     "execution_count": 2,
     "metadata": {},
     "output_type": "execute_result"
    }
   ],
   "source": [
    "df = pd.read_csv('transfer table50.csv')\n",
    "df.head()"
   ]
  },
  {
   "cell_type": "code",
   "execution_count": 3,
   "id": "2bc94f1f",
   "metadata": {},
   "outputs": [
    {
     "data": {
      "text/html": [
       "<div>\n",
       "<style scoped>\n",
       "    .dataframe tbody tr th:only-of-type {\n",
       "        vertical-align: middle;\n",
       "    }\n",
       "\n",
       "    .dataframe tbody tr th {\n",
       "        vertical-align: top;\n",
       "    }\n",
       "\n",
       "    .dataframe thead th {\n",
       "        text-align: right;\n",
       "    }\n",
       "</style>\n",
       "<table border=\"1\" class=\"dataframe\">\n",
       "  <thead>\n",
       "    <tr style=\"text-align: right;\">\n",
       "      <th></th>\n",
       "      <th>player_id</th>\n",
       "      <th>Season</th>\n",
       "      <th>MV</th>\n",
       "      <th>Fee</th>\n",
       "    </tr>\n",
       "  </thead>\n",
       "  <tbody>\n",
       "    <tr>\n",
       "      <th>0</th>\n",
       "      <td>108390</td>\n",
       "      <td>18/19</td>\n",
       "      <td>€65.00m</td>\n",
       "      <td>€35.00m</td>\n",
       "    </tr>\n",
       "    <tr>\n",
       "      <th>1</th>\n",
       "      <td>404839</td>\n",
       "      <td>19/20</td>\n",
       "      <td>€2.70m</td>\n",
       "      <td>Endofloan</td>\n",
       "    </tr>\n",
       "    <tr>\n",
       "      <th>2</th>\n",
       "      <td>404839</td>\n",
       "      <td>19/20</td>\n",
       "      <td>€3.00m</td>\n",
       "      <td>loantransfer</td>\n",
       "    </tr>\n",
       "    <tr>\n",
       "      <th>3</th>\n",
       "      <td>404839</td>\n",
       "      <td>19/20</td>\n",
       "      <td>€3.00m</td>\n",
       "      <td>Endofloan</td>\n",
       "    </tr>\n",
       "    <tr>\n",
       "      <th>4</th>\n",
       "      <td>404839</td>\n",
       "      <td>19/20</td>\n",
       "      <td>€7.50m</td>\n",
       "      <td>loantransfer</td>\n",
       "    </tr>\n",
       "  </tbody>\n",
       "</table>\n",
       "</div>"
      ],
      "text/plain": [
       "   player_id Season       MV           Fee\n",
       "0     108390  18/19  €65.00m       €35.00m\n",
       "1     404839  19/20   €2.70m     Endofloan\n",
       "2     404839  19/20   €3.00m  loantransfer\n",
       "3     404839  19/20   €3.00m     Endofloan\n",
       "4     404839  19/20   €7.50m  loantransfer"
      ]
     },
     "execution_count": 3,
     "metadata": {},
     "output_type": "execute_result"
    }
   ],
   "source": [
    "df.drop(['Unnamed: 0','Date','Left','Joined'], inplace=True, axis=1)\n",
    "df.head()"
   ]
  },
  {
   "cell_type": "code",
   "execution_count": 4,
   "id": "0123e5f9",
   "metadata": {},
   "outputs": [
    {
     "data": {
      "text/plain": [
       "(6243, 4)"
      ]
     },
     "execution_count": 4,
     "metadata": {},
     "output_type": "execute_result"
    }
   ],
   "source": [
    "np.shape(df)"
   ]
  },
  {
   "cell_type": "code",
   "execution_count": 5,
   "id": "c7ac010f",
   "metadata": {},
   "outputs": [
    {
     "data": {
      "text/plain": [
       "player_id    6243\n",
       "Season       6243\n",
       "MV           6243\n",
       "Fee          6243\n",
       "dtype: int64"
      ]
     },
     "execution_count": 5,
     "metadata": {},
     "output_type": "execute_result"
    }
   ],
   "source": [
    "df.isna().count()"
   ]
  },
  {
   "cell_type": "code",
   "execution_count": 6,
   "id": "73d8a42d",
   "metadata": {},
   "outputs": [
    {
     "data": {
      "text/plain": [
       "array(['-', '€1.00m', '€1.10m', '€1.20m', '€1.25m', '€1.30m', '€1.35m',\n",
       "       '€1.40m', '€1.50m', '€1.60m', '€1.70m', '€1.75m', '€1.80m',\n",
       "       '€10.00m', '€10.50m', '€100.00m', '€100k', '€11.00m', '€12.00m',\n",
       "       '€12.50m', '€120.00m', '€125k', '€13.00m', '€13.50m', '€130.00m',\n",
       "       '€14.00m', '€14.50m', '€15.00m', '€150.00m', '€150k', '€16.00m',\n",
       "       '€17.00m', '€17.50m', '€175k', '€18.00m', '€2.00m', '€2.20m',\n",
       "       '€2.30m', '€2.40m', '€2.50m', '€2.70m', '€2.75m', '€2.80m',\n",
       "       '€20.00m', '€200k', '€22.00m', '€22.50m', '€23.00m', '€24.00m',\n",
       "       '€25.00m', '€250k', '€25k', '€27.00m', '€275k', '€28.00m',\n",
       "       '€3.00m', '€3.20m', '€3.30m', '€3.50m', '€3.60m', '€3.80m',\n",
       "       '€30.00m', '€300k', '€32.00m', '€325k', '€33.00m', '€35.00m',\n",
       "       '€350k', '€35k', '€36.00m', '€37.00m', '€375k', '€38.00m',\n",
       "       '€4.00m', '€4.20m', '€4.25m', '€4.30m', '€4.50m', '€4.80m',\n",
       "       '€40.00m', '€400k', '€42.00m', '€425k', '€45.00m', '€450k',\n",
       "       '€475k', '€5.00m', '€5.20m', '€5.40m', '€5.50m', '€50.00m',\n",
       "       '€500k', '€50k', '€525k', '€54.00m', '€55.00m', '€550k', '€56.00m',\n",
       "       '€6.00m', '€6.30m', '€6.50m', '€6.70m', '€6.80m', '€60.00m',\n",
       "       '€600k', '€625k', '€65.00m', '€650k', '€7.00m', '€7.20m', '€7.50m',\n",
       "       '€70.00m', '€700k', '€725k', '€750k', '€75k', '€8.00m', '€8.50m',\n",
       "       '€80.00m', '€800k', '€825k', '€85.00m', '€850k', '€9.00m',\n",
       "       '€9.50m', '€90.00m', '€900k', '€950k'], dtype=object)"
      ]
     },
     "execution_count": 6,
     "metadata": {},
     "output_type": "execute_result"
    }
   ],
   "source": [
    "np.unique(df['MV'])"
   ]
  },
  {
   "cell_type": "code",
   "execution_count": 7,
   "id": "541365b8",
   "metadata": {},
   "outputs": [],
   "source": [
    "df = df[df['MV'] != '-']"
   ]
  },
  {
   "cell_type": "code",
   "execution_count": 8,
   "id": "12942ed0",
   "metadata": {
    "scrolled": true
   },
   "outputs": [
    {
     "data": {
      "text/plain": [
       "array(['-', '?', 'Endofloan', 'Loanfee:€1.00m', 'Loanfee:€1.10m',\n",
       "       'Loanfee:€1.20m', 'Loanfee:€1.25m', 'Loanfee:€1.30m',\n",
       "       'Loanfee:€1.42m', 'Loanfee:€1.50m', 'Loanfee:€10.00m',\n",
       "       'Loanfee:€100k', 'Loanfee:€16.00m', 'Loanfee:€2.00m',\n",
       "       'Loanfee:€2.20m', 'Loanfee:€2.30m', 'Loanfee:€2.50m',\n",
       "       'Loanfee:€200k', 'Loanfee:€205k', 'Loanfee:€225k', 'Loanfee:€250k',\n",
       "       'Loanfee:€260k', 'Loanfee:€3.00m', 'Loanfee:€3.50m',\n",
       "       'Loanfee:€3.93m', 'Loanfee:€300k', 'Loanfee:€340k',\n",
       "       'Loanfee:€350k', 'Loanfee:€375k', 'Loanfee:€4.00m',\n",
       "       'Loanfee:€400k', 'Loanfee:€422k', 'Loanfee:€436k', 'Loanfee:€450k',\n",
       "       'Loanfee:€470k', 'Loanfee:€490k', 'Loanfee:€493k',\n",
       "       'Loanfee:€5.00m', 'Loanfee:€500k', 'Loanfee:€50k', 'Loanfee:€510k',\n",
       "       'Loanfee:€520k', 'Loanfee:€6.50m', 'Loanfee:€600k',\n",
       "       'Loanfee:€617k', 'Loanfee:€650k', 'Loanfee:€7.00m',\n",
       "       'Loanfee:€700k', 'Loanfee:€720k', 'Loanfee:€750k',\n",
       "       'Loanfee:€8.50m', 'Loanfee:€800k', 'Loanfee:€95k', 'Loanfee:€980k',\n",
       "       'freetransfer', 'loantransfer', '€1', '€1.00m', '€1.05m', '€1.10m',\n",
       "       '€1.15m', '€1.18m', '€1.20m', '€1.25m', '€1.30m', '€1.35m',\n",
       "       '€1.36m', '€1.38m', '€1.40m', '€1.50m', '€1.53m', '€1.60m',\n",
       "       '€1.70m', '€1.75m', '€1.80m', '€1.90m', '€1.95m', '€10.00m',\n",
       "       '€10.50m', '€10.56m', '€100k', '€11.00m', '€11.25m', '€11.30m',\n",
       "       '€11.50m', '€11.80m', '€115.00m', '€12.00m', '€12.50m', '€12.60m',\n",
       "       '€12.90m', '€120.00m', '€127.20m', '€13.00m', '€13.10m', '€13.30m',\n",
       "       '€13.50m', '€135.00m', '€14.00m', '€14.20m', '€14.25m', '€14.40m',\n",
       "       '€14.50m', '€14.70m', '€140.00m', '€15.00m', '€15.50m', '€150k',\n",
       "       '€16.00m', '€16.40m', '€16.46m', '€16.50m', '€16.70m', '€16.90m',\n",
       "       '€165k', '€167k', '€17.00m', '€17.25m', '€17.70m', '€170k',\n",
       "       '€18.00m', '€18.50m', '€18.70m', '€180.00m', '€19.00m', '€19.75m',\n",
       "       '€2.00m', '€2.10m', '€2.13m', '€2.15m', '€2.20m', '€2.23m',\n",
       "       '€2.24m', '€2.25m', '€2.30m', '€2.40m', '€2.50m', '€2.60m',\n",
       "       '€2.65m', '€2.70m', '€2.80m', '€2.87m', '€20.00m', '€20.50m',\n",
       "       '€20.90m', '€200k', '€20k', '€21.00m', '€21.50m', '€21.70m',\n",
       "       '€21.75m', '€22.00m', '€22.34m', '€22.50m', '€222.00m', '€23.00m',\n",
       "       '€23.44m', '€23.50m', '€24.00m', '€24.70m', '€25.00m', '€250k',\n",
       "       '€26.00m', '€27.00m', '€27.50m', '€28.00m', '€28.20m', '€29.30m',\n",
       "       '€3.00m', '€3.20m', '€3.25m', '€3.30m', '€3.49m', '€3.50m',\n",
       "       '€3.60m', '€3.75m', '€3.80m', '€3.85m', '€3.90m', '€30.00m',\n",
       "       '€300k', '€31.00m', '€32.00m', '€33.30m', '€33.50m', '€335k',\n",
       "       '€34.00m', '€35.00m', '€35.60m', '€35.90m', '€350k', '€35k',\n",
       "       '€36.00m', '€37.00m', '€375k', '€38.40m', '€395k', '€4.00m',\n",
       "       '€4.20m', '€4.25m', '€4.30m', '€4.40m', '€4.50m', '€4.60m',\n",
       "       '€4.70m', '€4.73m', '€4.80m', '€4.90m', '€40.00m', '€400k', '€40k',\n",
       "       '€41.00m', '€42.10m', '€43.00m', '€45.00m', '€450k', '€48.00m',\n",
       "       '€5.00m', '€5.13m', '€5.20m', '€5.30m', '€5.40m', '€5.50m',\n",
       "       '€5.57m', '€5.60m', '€5.70m', '€50.00m', '€500k', '€50k',\n",
       "       '€55.00m', '€550k', '€6.00m', '€6.10m', '€6.28m', '€6.30m',\n",
       "       '€6.40m', '€6.50m', '€6.60m', '€6.90m', '€60.00m', '€600k',\n",
       "       '€62.00m', '€63.00m', '€63.75m', '€640k', '€665k', '€68.00m',\n",
       "       '€680k', '€7.00m', '€7.10m', '€7.20m', '€7.50m', '€7.60m',\n",
       "       '€7.65m', '€700k', '€70k', '€72.00m', '€750k', '€765k', '€8.00m',\n",
       "       '€8.20m', '€8.25m', '€8.50m', '€8.60m', '€8.90m', '€800k', '€80k',\n",
       "       '€840k', '€850k', '€86.00m', '€875k', '€9.00m', '€9.20m', '€9.30m',\n",
       "       '€9.50m', '€9.59m', '€9.70m', '€9.75m', '€9.80m', '€900k', '€91k',\n",
       "       '€950k'], dtype=object)"
      ]
     },
     "execution_count": 8,
     "metadata": {},
     "output_type": "execute_result"
    }
   ],
   "source": [
    "np.unique(df['Fee'])"
   ]
  },
  {
   "cell_type": "code",
   "execution_count": 9,
   "id": "81c97be3",
   "metadata": {},
   "outputs": [],
   "source": [
    "a = ['-', '?', 'Endofloan', 'freetransfer', 'loantransfer']\n",
    "df = df[~df['Fee'].isin(a)]\n",
    "df = df[~df.Fee.str.contains('|'.join('Loanfee'))]"
   ]
  },
  {
   "cell_type": "code",
   "execution_count": 10,
   "id": "281659e6",
   "metadata": {},
   "outputs": [],
   "source": [
    "df['MV']=df['MV'].str.replace('€','')\n",
    "df['MV']=df['MV'].apply(lambda x: float(x[:-1]) * 1000000 if 'm' in x else float(x[:-2]) * 1000000000 if 'bn' in x else float(x[:-1]) * 1000 if x.endswith('k') else x)"
   ]
  },
  {
   "cell_type": "code",
   "execution_count": 11,
   "id": "3e277ceb",
   "metadata": {},
   "outputs": [],
   "source": [
    "df['Fee']=df['Fee'].str.replace('€','')\n",
    "df['Fee']=df['Fee'].apply(lambda x: float(x[:-1]) * 1000000 if 'm' in x else float(x[:-2]) * 1000000000 if 'bn' in x else float(x[:-1]) * 1000 if x.endswith('k') else x)"
   ]
  },
  {
   "cell_type": "code",
   "execution_count": 12,
   "id": "a330508c",
   "metadata": {},
   "outputs": [],
   "source": [
    "df.reset_index(drop=True, inplace=True)"
   ]
  },
  {
   "cell_type": "code",
   "execution_count": 13,
   "id": "f0f4fa7d",
   "metadata": {},
   "outputs": [
    {
     "data": {
      "text/html": [
       "<div>\n",
       "<style scoped>\n",
       "    .dataframe tbody tr th:only-of-type {\n",
       "        vertical-align: middle;\n",
       "    }\n",
       "\n",
       "    .dataframe tbody tr th {\n",
       "        vertical-align: top;\n",
       "    }\n",
       "\n",
       "    .dataframe thead th {\n",
       "        text-align: right;\n",
       "    }\n",
       "</style>\n",
       "<table border=\"1\" class=\"dataframe\">\n",
       "  <thead>\n",
       "    <tr style=\"text-align: right;\">\n",
       "      <th></th>\n",
       "      <th>player_id</th>\n",
       "      <th>Season</th>\n",
       "      <th>MV</th>\n",
       "      <th>Fee</th>\n",
       "    </tr>\n",
       "  </thead>\n",
       "  <tbody>\n",
       "    <tr>\n",
       "      <th>0</th>\n",
       "      <td>108390</td>\n",
       "      <td>18/19</td>\n",
       "      <td>65000000.0</td>\n",
       "      <td>35000000.0</td>\n",
       "    </tr>\n",
       "    <tr>\n",
       "      <th>1</th>\n",
       "      <td>404839</td>\n",
       "      <td>18/19</td>\n",
       "      <td>3500000.0</td>\n",
       "      <td>8500000.0</td>\n",
       "    </tr>\n",
       "    <tr>\n",
       "      <th>2</th>\n",
       "      <td>401530</td>\n",
       "      <td>19/20</td>\n",
       "      <td>50000000.0</td>\n",
       "      <td>50000000.0</td>\n",
       "    </tr>\n",
       "    <tr>\n",
       "      <th>3</th>\n",
       "      <td>401530</td>\n",
       "      <td>18/19</td>\n",
       "      <td>8000000.0</td>\n",
       "      <td>7000000.0</td>\n",
       "    </tr>\n",
       "    <tr>\n",
       "      <th>4</th>\n",
       "      <td>251896</td>\n",
       "      <td>15/16</td>\n",
       "      <td>2000000.0</td>\n",
       "      <td>5000000.0</td>\n",
       "    </tr>\n",
       "  </tbody>\n",
       "</table>\n",
       "</div>"
      ],
      "text/plain": [
       "   player_id Season          MV         Fee\n",
       "0     108390  18/19  65000000.0  35000000.0\n",
       "1     404839  18/19   3500000.0   8500000.0\n",
       "2     401530  19/20  50000000.0  50000000.0\n",
       "3     401530  18/19   8000000.0   7000000.0\n",
       "4     251896  15/16   2000000.0   5000000.0"
      ]
     },
     "execution_count": 13,
     "metadata": {},
     "output_type": "execute_result"
    }
   ],
   "source": [
    "df.head()"
   ]
  },
  {
   "cell_type": "code",
   "execution_count": 14,
   "id": "467d2d92",
   "metadata": {},
   "outputs": [],
   "source": [
    "df18 = df[df['Season'] == '18/19']"
   ]
  },
  {
   "cell_type": "code",
   "execution_count": 15,
   "id": "ce45a03e",
   "metadata": {},
   "outputs": [],
   "source": [
    "df18 = df18.sort_values(by=['Fee', 'MV'])"
   ]
  },
  {
   "cell_type": "code",
   "execution_count": null,
   "id": "ff7be1f3",
   "metadata": {},
   "outputs": [
    {
     "data": {
      "text/plain": [
       "<matplotlib.legend.Legend at 0x7f7c902c8e50>"
      ]
     },
     "execution_count": 18,
     "metadata": {},
     "output_type": "execute_result"
    }
   ],
   "source": [
    "X_axis = np.arange(len(df18['player_id']))\n",
    "plt.figure(figsize = (15,7.5))\n",
    "plt.bar(X_axis - 0.1, df18['MV']/1000000, 0.4, label = 'MV')\n",
    "plt.bar(X_axis + 0.1, df18['Fee']/1000000, 0.4, label = 'Fee')\n",
    "plt.xticks(X_axis, df18['player_id'])\n",
    "plt.xlabel(\"player_id\")\n",
    "plt.ylabel(\"million dollar\")\n",
    "plt.legend()"
   ]
  },
  {
   "cell_type": "code",
   "execution_count": 17,
   "id": "1a9c781d",
   "metadata": {},
   "outputs": [
    {
     "data": {
      "image/png": "[encoded data removed]",
      "text/plain": [
       "<Figure size 640x480 with 1 Axes>"
      ]
     },
     "metadata": {},
     "output_type": "display_data"
    }
   ],
   "source": [
    "bins = np.linspace(-100, 100, 1000)\n",
    "plt.hist(df18['MV'],bins=100, alpha=0.5, label='MV', color='r')\n",
    "plt.hist(df18['Fee'], bins=100, alpha=0.5, label='fee', color='g')\n",
    "plt.legend(loc='upper right')\n",
    "plt.show()"
   ]
  }
 ],
 "metadata": {
  "kernelspec": {
   "display_name": "Python 3 (ipykernel)",
   "language": "python",
   "name": "python3"
  },
  "language_info": {
   "codemirror_mode": {
    "name": "ipython",
    "version": 3
   },
   "file_extension": ".py",
   "mimetype": "text/x-python",
   "name": "python",
   "nbconvert_exporter": "python",
   "pygments_lexer": "ipython3",
   "version": "3.8.5"
  }
 },
 "nbformat": 4,
 "nbformat_minor": 5
}
