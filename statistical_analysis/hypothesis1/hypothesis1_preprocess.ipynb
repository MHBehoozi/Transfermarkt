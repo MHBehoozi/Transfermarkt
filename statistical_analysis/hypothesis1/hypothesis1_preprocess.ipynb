{
 "cells": [
  {
   "attachments": {},
   "cell_type": "markdown",
   "metadata": {},
   "source": [
    "# Import Libraries"
   ]
  },
  {
   "cell_type": "code",
   "execution_count": 92,
   "metadata": {},
   "outputs": [],
   "source": [
    "import pandas as pd\n",
    "from scipy import stats\n",
    "import matplotlib.pyplot as plt\n",
    "import numpy as np\n",
    "from datetime import datetime"
   ]
  },
  {
   "cell_type": "code",
   "execution_count": 93,
   "metadata": {},
   "outputs": [],
   "source": [
    "def calculate_age(born, given=pd.Timestamp('now').normalize().date()):\n",
    "    born = datetime.strptime(born, \"%m/%d/%Y\").date()\n",
    "    today = pd.Timestamp('now').normalize().date()\n",
    "    if given != today:\n",
    "        return given.year - born.year - ((given.month, given.day) < (born.month, born.day))\n",
    "    return today.year - born.year - ((today.month, today.day) < (born.month, born.day))\n",
    "\n",
    "# df['age'] = df['dob'].apply(calculate_age)"
   ]
  },
  {
   "attachments": {},
   "cell_type": "markdown",
   "metadata": {},
   "source": [
    "# Import Data"
   ]
  },
  {
   "cell_type": "code",
   "execution_count": 94,
   "metadata": {},
   "outputs": [],
   "source": [
    "player_40_df = pd.read_csv('data\\parsa\\player table40.csv')\n",
    "player_50_df = pd.read_csv('data\\parsa\\player table50.csv')\n",
    "player_75_df = pd.read_csv('data\\parsa\\player table75.csv')\n",
    "player_157_df = pd.read_csv('data\\parsa\\player table157.csv')\n",
    "player_189_df = pd.read_csv('data\\parsa\\player table189.csv')"
   ]
  },
  {
   "cell_type": "code",
   "execution_count": 95,
   "metadata": {},
   "outputs": [],
   "source": [
    "players_table_df = pd.concat([player_40_df, player_50_df, player_75_df, player_157_df, player_189_df], axis=0).drop(columns='Unnamed: 0')"
   ]
  },
  {
   "cell_type": "code",
   "execution_count": 96,
   "metadata": {},
   "outputs": [],
   "source": [
    "player_stats_40 = pd.read_csv('data\\parsa\\statistics table_40.csv')\n",
    "player_stats_50 = pd.read_csv('data\\parsa\\statistics table50.csv')\n",
    "player_stats_75 = pd.read_csv('data\\parsa\\statistics table75.csv')\n",
    "player_stats_157 = pd.read_csv('data\\parsa\\statistics table157.csv')\n",
    "player_stats_189 = pd.read_csv('data\\parsa\\statistics table189.csv')\n"
   ]
  },
  {
   "cell_type": "code",
   "execution_count": 97,
   "metadata": {},
   "outputs": [],
   "source": [
    "players_stats_df = pd.concat([player_stats_40, player_stats_50, player_stats_75, player_stats_157, player_stats_189], axis=0).drop(columns='Unnamed: 0')\n",
    "players_stats_df = players_stats_df[players_stats_df.Competition.isin(['Premier League', 'Bundesliga', 'Serie A', 'Ligue 1', 'LaLiga'])]\n",
    "players_stats_df = players_stats_df[players_stats_df.Season.isin(['21/22', '20/21', '19/20', '18/19', '17/18', '16/17'])].reset_index(drop=True)"
   ]
  },
  {
   "attachments": {},
   "cell_type": "markdown",
   "metadata": {},
   "source": [
    "# Preprocessing"
   ]
  },
  {
   "attachments": {},
   "cell_type": "markdown",
   "metadata": {},
   "source": [
    "## Birth Date in player_table"
   ]
  },
  {
   "cell_type": "code",
   "execution_count": 99,
   "metadata": {},
   "outputs": [],
   "source": [
    "# year extract\n",
    "year_serie = players_table_df.birth_date.apply(lambda ldate:ldate.split(',')[2].split(']')[0].split(\"'\")[1])\n",
    "players_table_df['birth_year'] = year_serie.astype('int')"
   ]
  },
  {
   "attachments": {},
   "cell_type": "markdown",
   "metadata": {},
   "source": [
    "## Gorup postitions in player table"
   ]
  },
  {
   "cell_type": "code",
   "execution_count": 100,
   "metadata": {},
   "outputs": [],
   "source": [
    "players_table_df.drop_duplicates(['player_id'], inplace=True)"
   ]
  },
  {
   "cell_type": "code",
   "execution_count": 101,
   "metadata": {},
   "outputs": [
    {
     "data": {
      "text/plain": [
       "main_position\n",
       "Attack                           1\n",
       "Attack Centre Forward          483\n",
       "Attack Left Winger             233\n",
       "Attack Right Winger            224\n",
       "Attack Second Striker           27\n",
       "Defender Centre Back           642\n",
       "Defender Left Back             269\n",
       "Defender Right Back            301\n",
       "Goalkeeper                     442\n",
       "midfield                         1\n",
       "midfield Attacking Midfield    234\n",
       "midfield Central Midfield      483\n",
       "midfield Defensive Midfield    284\n",
       "midfield Left Midfield          21\n",
       "midfield Right Midfield         28\n",
       "Name: player_id, dtype: int64"
      ]
     },
     "execution_count": 101,
     "metadata": {},
     "output_type": "execute_result"
    }
   ],
   "source": [
    "players_table_df.groupby('main_position').player_id.count()"
   ]
  },
  {
   "cell_type": "code",
   "execution_count": 102,
   "metadata": {},
   "outputs": [],
   "source": [
    "Attack_list = players_table_df.groupby('main_position').player_id.count().index.tolist()[0:5]\n",
    "Defender_list = players_table_df.groupby('main_position').player_id.count().index.tolist()[5:8]\n",
    "midfield_list = players_table_df.groupby('main_position').player_id.count().index.tolist()[9:]"
   ]
  },
  {
   "cell_type": "code",
   "execution_count": 103,
   "metadata": {},
   "outputs": [
    {
     "data": {
      "text/plain": [
       "main_position\n",
       "Attack                         968\n",
       "Defender Centre Back           642\n",
       "midfield Central Midfield      483\n",
       "Goalkeeper                     442\n",
       "Defender Right Back            301\n",
       "midfield Defensive Midfield    284\n",
       "Defender Left Back             269\n",
       "midfield Attacking Midfield    234\n",
       "midfield Right Midfield         28\n",
       "midfield Left Midfield          21\n",
       "midfield                         1\n",
       "Name: count, dtype: int64"
      ]
     },
     "execution_count": 103,
     "metadata": {},
     "output_type": "execute_result"
    }
   ],
   "source": [
    "players_table_df.main_position.replace(Attack_list, Attack_list[0]).value_counts()"
   ]
  },
  {
   "cell_type": "code",
   "execution_count": 104,
   "metadata": {},
   "outputs": [],
   "source": [
    "players_table_df['position_group'] = players_table_df.main_position.replace(Attack_list, Attack_list[0]).replace(Defender_list, 'Defender').replace(midfield_list, midfield_list[0])"
   ]
  },
  {
   "cell_type": "code",
   "execution_count": 105,
   "metadata": {},
   "outputs": [
    {
     "data": {
      "text/plain": [
       "[Text(0, 0, '968'), Text(0, 0, '1212'), Text(0, 0, '442'), Text(0, 0, '1051')]"
      ]
     },
     "execution_count": 105,
     "metadata": {},
     "output_type": "execute_result"
    },
    {
     "data": {
      "image/png": "[encoded data removed]",
      "text/plain": [
       "<Figure size 640x480 with 1 Axes>"
      ]
     },
     "metadata": {},
     "output_type": "display_data"
    }
   ],
   "source": [
    "ax = players_table_df.groupby('position_group').player_id.count().plot(kind='bar')\n",
    "ax.bar_label(ax.containers[0])"
   ]
  },
  {
   "attachments": {},
   "cell_type": "markdown",
   "metadata": {},
   "source": [
    "## Remove duplicated rows from players_stats_df"
   ]
  },
  {
   "cell_type": "code",
   "execution_count": 106,
   "metadata": {},
   "outputs": [
    {
     "data": {
      "text/plain": [
       "27713"
      ]
     },
     "execution_count": 106,
     "metadata": {},
     "output_type": "execute_result"
    }
   ],
   "source": [
    "len(players_stats_df)"
   ]
  },
  {
   "cell_type": "code",
   "execution_count": 107,
   "metadata": {},
   "outputs": [
    {
     "data": {
      "text/html": [
       "<div>\n",
       "<style scoped>\n",
       "    .dataframe tbody tr th:only-of-type {\n",
       "        vertical-align: middle;\n",
       "    }\n",
       "\n",
       "    .dataframe tbody tr th {\n",
       "        vertical-align: top;\n",
       "    }\n",
       "\n",
       "    .dataframe thead th {\n",
       "        text-align: right;\n",
       "    }\n",
       "</style>\n",
       "<table border=\"1\" class=\"dataframe\">\n",
       "  <thead>\n",
       "    <tr style=\"text-align: right;\">\n",
       "      <th></th>\n",
       "      <th>player_id</th>\n",
       "      <th>Season</th>\n",
       "      <th>Competition</th>\n",
       "      <th>Club</th>\n",
       "      <th>Squad</th>\n",
       "      <th>Appearances</th>\n",
       "      <th>PPG</th>\n",
       "      <th>Goals</th>\n",
       "      <th>Own goals</th>\n",
       "      <th>Substitutions on</th>\n",
       "      <th>Substitutions off</th>\n",
       "      <th>Yellow cards</th>\n",
       "      <th>Second yellow cards</th>\n",
       "      <th>Red cards</th>\n",
       "      <th>Goals conceded</th>\n",
       "      <th>Clean sheets</th>\n",
       "      <th>Minutes played</th>\n",
       "      <th>Assists</th>\n",
       "      <th>Penalty goals</th>\n",
       "      <th>Minutes per goal</th>\n",
       "    </tr>\n",
       "  </thead>\n",
       "  <tbody>\n",
       "    <tr>\n",
       "      <th>5482</th>\n",
       "      <td>270541</td>\n",
       "      <td>16/17</td>\n",
       "      <td>Bundesliga</td>\n",
       "      <td>1.FC Köln</td>\n",
       "      <td>10</td>\n",
       "      <td>6</td>\n",
       "      <td>0.50</td>\n",
       "      <td>-</td>\n",
       "      <td>-</td>\n",
       "      <td>6</td>\n",
       "      <td>-</td>\n",
       "      <td>2</td>\n",
       "      <td>-</td>\n",
       "      <td>-</td>\n",
       "      <td>NaN</td>\n",
       "      <td>NaN</td>\n",
       "      <td>79'</td>\n",
       "      <td>-</td>\n",
       "      <td>-</td>\n",
       "      <td>-</td>\n",
       "    </tr>\n",
       "    <tr>\n",
       "      <th>10430</th>\n",
       "      <td>270541</td>\n",
       "      <td>16/17</td>\n",
       "      <td>Bundesliga</td>\n",
       "      <td>1.FC Köln</td>\n",
       "      <td>10</td>\n",
       "      <td>6</td>\n",
       "      <td>0.50</td>\n",
       "      <td>-</td>\n",
       "      <td>-</td>\n",
       "      <td>6</td>\n",
       "      <td>-</td>\n",
       "      <td>2</td>\n",
       "      <td>-</td>\n",
       "      <td>-</td>\n",
       "      <td>NaN</td>\n",
       "      <td>NaN</td>\n",
       "      <td>79'</td>\n",
       "      <td>-</td>\n",
       "      <td>-</td>\n",
       "      <td>-</td>\n",
       "    </tr>\n",
       "    <tr>\n",
       "      <th>20820</th>\n",
       "      <td>270541</td>\n",
       "      <td>16/17</td>\n",
       "      <td>Bundesliga</td>\n",
       "      <td>1.FC Köln</td>\n",
       "      <td>10</td>\n",
       "      <td>6</td>\n",
       "      <td>0.50</td>\n",
       "      <td>-</td>\n",
       "      <td>-</td>\n",
       "      <td>6</td>\n",
       "      <td>-</td>\n",
       "      <td>2</td>\n",
       "      <td>-</td>\n",
       "      <td>-</td>\n",
       "      <td>NaN</td>\n",
       "      <td>NaN</td>\n",
       "      <td>79'</td>\n",
       "      <td>-</td>\n",
       "      <td>-</td>\n",
       "      <td>-</td>\n",
       "    </tr>\n",
       "    <tr>\n",
       "      <th>2935</th>\n",
       "      <td>189441</td>\n",
       "      <td>16/17</td>\n",
       "      <td>Serie A</td>\n",
       "      <td>AC Milan</td>\n",
       "      <td>16</td>\n",
       "      <td>12</td>\n",
       "      <td>1.08</td>\n",
       "      <td>-</td>\n",
       "      <td>-</td>\n",
       "      <td>8</td>\n",
       "      <td>2</td>\n",
       "      <td>3</td>\n",
       "      <td>-</td>\n",
       "      <td>-</td>\n",
       "      <td>NaN</td>\n",
       "      <td>NaN</td>\n",
       "      <td>533'</td>\n",
       "      <td>2</td>\n",
       "      <td>-</td>\n",
       "      <td>-</td>\n",
       "    </tr>\n",
       "    <tr>\n",
       "      <th>2960</th>\n",
       "      <td>111961</td>\n",
       "      <td>16/17</td>\n",
       "      <td>Serie A</td>\n",
       "      <td>AC Milan</td>\n",
       "      <td>35</td>\n",
       "      <td>34</td>\n",
       "      <td>1.65</td>\n",
       "      <td>7</td>\n",
       "      <td>-</td>\n",
       "      <td>1</td>\n",
       "      <td>8</td>\n",
       "      <td>5</td>\n",
       "      <td>-</td>\n",
       "      <td>-</td>\n",
       "      <td>NaN</td>\n",
       "      <td>NaN</td>\n",
       "      <td>2.820'</td>\n",
       "      <td>9</td>\n",
       "      <td>-</td>\n",
       "      <td>403'</td>\n",
       "    </tr>\n",
       "    <tr>\n",
       "      <th>...</th>\n",
       "      <td>...</td>\n",
       "      <td>...</td>\n",
       "      <td>...</td>\n",
       "      <td>...</td>\n",
       "      <td>...</td>\n",
       "      <td>...</td>\n",
       "      <td>...</td>\n",
       "      <td>...</td>\n",
       "      <td>...</td>\n",
       "      <td>...</td>\n",
       "      <td>...</td>\n",
       "      <td>...</td>\n",
       "      <td>...</td>\n",
       "      <td>...</td>\n",
       "      <td>...</td>\n",
       "      <td>...</td>\n",
       "      <td>...</td>\n",
       "      <td>...</td>\n",
       "      <td>...</td>\n",
       "      <td>...</td>\n",
       "    </tr>\n",
       "    <tr>\n",
       "      <th>2455</th>\n",
       "      <td>204103</td>\n",
       "      <td>21/22</td>\n",
       "      <td>Premier League</td>\n",
       "      <td>Wolverhampton Wanderers</td>\n",
       "      <td>21</td>\n",
       "      <td>20</td>\n",
       "      <td>1.55</td>\n",
       "      <td>1</td>\n",
       "      <td>-</td>\n",
       "      <td>10</td>\n",
       "      <td>6</td>\n",
       "      <td>-</td>\n",
       "      <td>-</td>\n",
       "      <td>-</td>\n",
       "      <td>NaN</td>\n",
       "      <td>NaN</td>\n",
       "      <td>1.062'</td>\n",
       "      <td>-</td>\n",
       "      <td>-</td>\n",
       "      <td>1.062'</td>\n",
       "    </tr>\n",
       "    <tr>\n",
       "      <th>7403</th>\n",
       "      <td>204103</td>\n",
       "      <td>21/22</td>\n",
       "      <td>Premier League</td>\n",
       "      <td>Wolverhampton Wanderers</td>\n",
       "      <td>21</td>\n",
       "      <td>20</td>\n",
       "      <td>1.55</td>\n",
       "      <td>1</td>\n",
       "      <td>-</td>\n",
       "      <td>10</td>\n",
       "      <td>6</td>\n",
       "      <td>-</td>\n",
       "      <td>-</td>\n",
       "      <td>-</td>\n",
       "      <td>NaN</td>\n",
       "      <td>NaN</td>\n",
       "      <td>1.062'</td>\n",
       "      <td>-</td>\n",
       "      <td>-</td>\n",
       "      <td>1.062'</td>\n",
       "    </tr>\n",
       "    <tr>\n",
       "      <th>15147</th>\n",
       "      <td>204103</td>\n",
       "      <td>21/22</td>\n",
       "      <td>Premier League</td>\n",
       "      <td>Wolverhampton Wanderers</td>\n",
       "      <td>21</td>\n",
       "      <td>20</td>\n",
       "      <td>1.55</td>\n",
       "      <td>1</td>\n",
       "      <td>-</td>\n",
       "      <td>10</td>\n",
       "      <td>6</td>\n",
       "      <td>-</td>\n",
       "      <td>-</td>\n",
       "      <td>-</td>\n",
       "      <td>NaN</td>\n",
       "      <td>NaN</td>\n",
       "      <td>1.062'</td>\n",
       "      <td>-</td>\n",
       "      <td>-</td>\n",
       "      <td>1.062'</td>\n",
       "    </tr>\n",
       "    <tr>\n",
       "      <th>17793</th>\n",
       "      <td>204103</td>\n",
       "      <td>21/22</td>\n",
       "      <td>Premier League</td>\n",
       "      <td>Wolverhampton Wanderers</td>\n",
       "      <td>21</td>\n",
       "      <td>20</td>\n",
       "      <td>1.55</td>\n",
       "      <td>1</td>\n",
       "      <td>-</td>\n",
       "      <td>10</td>\n",
       "      <td>6</td>\n",
       "      <td>-</td>\n",
       "      <td>-</td>\n",
       "      <td>-</td>\n",
       "      <td>NaN</td>\n",
       "      <td>NaN</td>\n",
       "      <td>1.062'</td>\n",
       "      <td>-</td>\n",
       "      <td>-</td>\n",
       "      <td>1.062'</td>\n",
       "    </tr>\n",
       "    <tr>\n",
       "      <th>26628</th>\n",
       "      <td>292246</td>\n",
       "      <td>21/22</td>\n",
       "      <td>Premier League</td>\n",
       "      <td>Wolverhampton Wanderers</td>\n",
       "      <td>31</td>\n",
       "      <td>30</td>\n",
       "      <td>1.37</td>\n",
       "      <td>5</td>\n",
       "      <td>-</td>\n",
       "      <td>10</td>\n",
       "      <td>16</td>\n",
       "      <td>2</td>\n",
       "      <td>-</td>\n",
       "      <td>-</td>\n",
       "      <td>NaN</td>\n",
       "      <td>NaN</td>\n",
       "      <td>1.821'</td>\n",
       "      <td>1</td>\n",
       "      <td>-</td>\n",
       "      <td>364'</td>\n",
       "    </tr>\n",
       "  </tbody>\n",
       "</table>\n",
       "<p>23220 rows × 20 columns</p>\n",
       "</div>"
      ],
      "text/plain": [
       "       player_id Season     Competition                     Club  Squad   \n",
       "5482      270541  16/17      Bundesliga                1.FC Köln     10  \\\n",
       "10430     270541  16/17      Bundesliga                1.FC Köln     10   \n",
       "20820     270541  16/17      Bundesliga                1.FC Köln     10   \n",
       "2935      189441  16/17         Serie A                 AC Milan     16   \n",
       "2960      111961  16/17         Serie A                 AC Milan     35   \n",
       "...          ...    ...             ...                      ...    ...   \n",
       "2455      204103  21/22  Premier League  Wolverhampton Wanderers     21   \n",
       "7403      204103  21/22  Premier League  Wolverhampton Wanderers     21   \n",
       "15147     204103  21/22  Premier League  Wolverhampton Wanderers     21   \n",
       "17793     204103  21/22  Premier League  Wolverhampton Wanderers     21   \n",
       "26628     292246  21/22  Premier League  Wolverhampton Wanderers     31   \n",
       "\n",
       "      Appearances   PPG Goals Own goals Substitutions on Substitutions off   \n",
       "5482            6  0.50     -         -                6                 -  \\\n",
       "10430           6  0.50     -         -                6                 -   \n",
       "20820           6  0.50     -         -                6                 -   \n",
       "2935           12  1.08     -         -                8                 2   \n",
       "2960           34  1.65     7         -                1                 8   \n",
       "...           ...   ...   ...       ...              ...               ...   \n",
       "2455           20  1.55     1         -               10                 6   \n",
       "7403           20  1.55     1         -               10                 6   \n",
       "15147          20  1.55     1         -               10                 6   \n",
       "17793          20  1.55     1         -               10                 6   \n",
       "26628          30  1.37     5         -               10                16   \n",
       "\n",
       "      Yellow cards Second yellow cards Red cards Goals conceded Clean sheets   \n",
       "5482             2                   -         -            NaN          NaN  \\\n",
       "10430            2                   -         -            NaN          NaN   \n",
       "20820            2                   -         -            NaN          NaN   \n",
       "2935             3                   -         -            NaN          NaN   \n",
       "2960             5                   -         -            NaN          NaN   \n",
       "...            ...                 ...       ...            ...          ...   \n",
       "2455             -                   -         -            NaN          NaN   \n",
       "7403             -                   -         -            NaN          NaN   \n",
       "15147            -                   -         -            NaN          NaN   \n",
       "17793            -                   -         -            NaN          NaN   \n",
       "26628            2                   -         -            NaN          NaN   \n",
       "\n",
       "      Minutes played Assists Penalty goals Minutes per goal  \n",
       "5482             79'       -             -                -  \n",
       "10430            79'       -             -                -  \n",
       "20820            79'       -             -                -  \n",
       "2935            533'       2             -                -  \n",
       "2960          2.820'       9             -             403'  \n",
       "...              ...     ...           ...              ...  \n",
       "2455          1.062'       -             -           1.062'  \n",
       "7403          1.062'       -             -           1.062'  \n",
       "15147         1.062'       -             -           1.062'  \n",
       "17793         1.062'       -             -           1.062'  \n",
       "26628         1.821'       1             -             364'  \n",
       "\n",
       "[23220 rows x 20 columns]"
      ]
     },
     "execution_count": 107,
     "metadata": {},
     "output_type": "execute_result"
    }
   ],
   "source": [
    "players_stats_df[players_stats_df.duplicated(['player_id', 'Season','Competition','Club'], keep=False)].sort_values(by=['Season','Club'])"
   ]
  },
  {
   "cell_type": "code",
   "execution_count": 108,
   "metadata": {},
   "outputs": [],
   "source": [
    "players_stats_df.drop_duplicates(['player_id', 'Season','Competition','Club'], inplace=True)"
   ]
  },
  {
   "cell_type": "code",
   "execution_count": 109,
   "metadata": {},
   "outputs": [
    {
     "data": {
      "text/plain": [
       "12258"
      ]
     },
     "execution_count": 109,
     "metadata": {},
     "output_type": "execute_result"
    }
   ],
   "source": [
    "len(players_stats_df)"
   ]
  },
  {
   "attachments": {},
   "cell_type": "markdown",
   "metadata": {},
   "source": [
    "## Modify player_stats Minutes played and Minutes per goal features"
   ]
  },
  {
   "cell_type": "code",
   "execution_count": 110,
   "metadata": {},
   "outputs": [],
   "source": [
    "for features in ['Minutes played', 'Minutes per goal']:\n",
    "    players_stats_df[features] = players_stats_df[features].str.replace('-', '0').fillna('0')\n",
    "    players_stats_df[features] = players_stats_df[features].str.replace('.', '').str.replace(\"'\", '')\n",
    "    players_stats_df[features] = players_stats_df[features].astype('int')\n"
   ]
  },
  {
   "attachments": {},
   "cell_type": "markdown",
   "metadata": {},
   "source": [
    "## Modify other player_stats features datatypes"
   ]
  },
  {
   "cell_type": "code",
   "execution_count": 111,
   "metadata": {},
   "outputs": [],
   "source": [
    "for features in players_stats_df:\n",
    "    try:\n",
    "        if players_stats_df[features].dtype == 'object' and '-' in players_stats_df[features].unique():\n",
    "            players_stats_df[features] = players_stats_df[features].str.replace('-', '0')\n",
    "            players_stats_df[features] = players_stats_df[features].astype('int')\n",
    "    except:\n",
    "        continue\n"
   ]
  },
  {
   "cell_type": "code",
   "execution_count": 112,
   "metadata": {},
   "outputs": [],
   "source": [
    "players_stats_df.PPG = players_stats_df.PPG.str.replace('0,00','0.0')\n",
    "players_stats_df.PPG = players_stats_df.PPG.astype('float')"
   ]
  },
  {
   "cell_type": "code",
   "execution_count": 113,
   "metadata": {},
   "outputs": [
    {
     "name": "stdout",
     "output_type": "stream",
     "text": [
      "['Goals conceded', 'Clean sheets', 'Assists', 'Penalty goals']\n"
     ]
    }
   ],
   "source": [
    "print(players_stats_df.select_dtypes('object').columns[3:].tolist())\n",
    "\n",
    "for features in players_stats_df.select_dtypes('object').columns[3:].tolist():\n",
    "    players_stats_df[features].fillna('0', inplace=True)\n",
    "    players_stats_df[features] = players_stats_df[features].astype('int')"
   ]
  },
  {
   "cell_type": "code",
   "execution_count": 114,
   "metadata": {},
   "outputs": [
    {
     "name": "stdout",
     "output_type": "stream",
     "text": [
      "<class 'pandas.core.frame.DataFrame'>\n",
      "Index: 12258 entries, 0 to 27712\n",
      "Data columns (total 20 columns):\n",
      " #   Column               Non-Null Count  Dtype  \n",
      "---  ------               --------------  -----  \n",
      " 0   player_id            12258 non-null  int64  \n",
      " 1   Season               12258 non-null  object \n",
      " 2   Competition          12258 non-null  object \n",
      " 3   Club                 12258 non-null  object \n",
      " 4   Squad                12258 non-null  int64  \n",
      " 5   Appearances          12258 non-null  int32  \n",
      " 6   PPG                  12258 non-null  float64\n",
      " 7   Goals                12258 non-null  int32  \n",
      " 8   Own goals            12258 non-null  int32  \n",
      " 9   Substitutions on     12258 non-null  int32  \n",
      " 10  Substitutions off    12258 non-null  int32  \n",
      " 11  Yellow cards         12258 non-null  int32  \n",
      " 12  Second yellow cards  12258 non-null  int32  \n",
      " 13  Red cards            12258 non-null  int32  \n",
      " 14  Goals conceded       12258 non-null  int32  \n",
      " 15  Clean sheets         12258 non-null  int32  \n",
      " 16  Minutes played       12258 non-null  int32  \n",
      " 17  Assists              12258 non-null  int32  \n",
      " 18  Penalty goals        12258 non-null  int32  \n",
      " 19  Minutes per goal     12258 non-null  int32  \n",
      "dtypes: float64(1), int32(14), int64(2), object(3)\n",
      "memory usage: 1.3+ MB\n"
     ]
    }
   ],
   "source": [
    "players_stats_df.info()"
   ]
  },
  {
   "attachments": {},
   "cell_type": "markdown",
   "metadata": {},
   "source": [
    "## players_transfers_df"
   ]
  },
  {
   "cell_type": "code",
   "execution_count": 115,
   "metadata": {},
   "outputs": [],
   "source": [
    "players_transfers_df = players_transfers_df[players_transfers_df.season >=2016]"
   ]
  },
  {
   "attachments": {},
   "cell_type": "markdown",
   "metadata": {},
   "source": [
    "# Merging Data"
   ]
  },
  {
   "attachments": {},
   "cell_type": "markdown",
   "metadata": {},
   "source": [
    "## Add club_id"
   ]
  },
  {
   "cell_type": "code",
   "execution_count": 116,
   "metadata": {},
   "outputs": [],
   "source": [
    "id_df = pd.read_csv('data\\club_ids101.csv')"
   ]
  },
  {
   "cell_type": "code",
   "execution_count": 117,
   "metadata": {},
   "outputs": [
    {
     "data": {
      "text/html": [
       "<div>\n",
       "<style scoped>\n",
       "    .dataframe tbody tr th:only-of-type {\n",
       "        vertical-align: middle;\n",
       "    }\n",
       "\n",
       "    .dataframe tbody tr th {\n",
       "        vertical-align: top;\n",
       "    }\n",
       "\n",
       "    .dataframe thead th {\n",
       "        text-align: right;\n",
       "    }\n",
       "</style>\n",
       "<table border=\"1\" class=\"dataframe\">\n",
       "  <thead>\n",
       "    <tr style=\"text-align: right;\">\n",
       "      <th></th>\n",
       "      <th>Unnamed: 0</th>\n",
       "      <th>club_id</th>\n",
       "      <th>club full name</th>\n",
       "      <th>club name</th>\n",
       "    </tr>\n",
       "  </thead>\n",
       "  <tbody>\n",
       "    <tr>\n",
       "      <th>0</th>\n",
       "      <td>0</td>\n",
       "      <td>281</td>\n",
       "      <td>Manchester City</td>\n",
       "      <td>Man City</td>\n",
       "    </tr>\n",
       "    <tr>\n",
       "      <th>1</th>\n",
       "      <td>1</td>\n",
       "      <td>631</td>\n",
       "      <td>Chelsea FC</td>\n",
       "      <td>Chelsea</td>\n",
       "    </tr>\n",
       "    <tr>\n",
       "      <th>2</th>\n",
       "      <td>2</td>\n",
       "      <td>9250</td>\n",
       "      <td>Chelsea FC U21</td>\n",
       "      <td>Chelsea U21</td>\n",
       "    </tr>\n",
       "    <tr>\n",
       "      <th>3</th>\n",
       "      <td>3</td>\n",
       "      <td>11</td>\n",
       "      <td>Arsenal FC</td>\n",
       "      <td>Arsenal</td>\n",
       "    </tr>\n",
       "    <tr>\n",
       "      <th>4</th>\n",
       "      <td>4</td>\n",
       "      <td>31</td>\n",
       "      <td>Liverpool FC</td>\n",
       "      <td>Liverpool</td>\n",
       "    </tr>\n",
       "    <tr>\n",
       "      <th>...</th>\n",
       "      <td>...</td>\n",
       "      <td>...</td>\n",
       "      <td>...</td>\n",
       "      <td>...</td>\n",
       "    </tr>\n",
       "    <tr>\n",
       "      <th>96</th>\n",
       "      <td>96</td>\n",
       "      <td>1005</td>\n",
       "      <td>US Lecce</td>\n",
       "      <td>Lecce</td>\n",
       "    </tr>\n",
       "    <tr>\n",
       "      <th>97</th>\n",
       "      <td>97</td>\n",
       "      <td>3522</td>\n",
       "      <td>Spezia Calcio</td>\n",
       "      <td>Spezia Calcio</td>\n",
       "    </tr>\n",
       "    <tr>\n",
       "      <th>98</th>\n",
       "      <td>98</td>\n",
       "      <td>276</td>\n",
       "      <td>Hellas Verona</td>\n",
       "      <td>Hellas Verona</td>\n",
       "    </tr>\n",
       "    <tr>\n",
       "      <th>99</th>\n",
       "      <td>99</td>\n",
       "      <td>1038</td>\n",
       "      <td>UC Sampdoria</td>\n",
       "      <td>Sampdoria</td>\n",
       "    </tr>\n",
       "    <tr>\n",
       "      <th>100</th>\n",
       "      <td>100</td>\n",
       "      <td>2239</td>\n",
       "      <td>US Cremonese</td>\n",
       "      <td>Cremonese</td>\n",
       "    </tr>\n",
       "  </tbody>\n",
       "</table>\n",
       "<p>101 rows × 4 columns</p>\n",
       "</div>"
      ],
      "text/plain": [
       "     Unnamed: 0  club_id   club full name      club name\n",
       "0             0      281  Manchester City       Man City\n",
       "1             1      631       Chelsea FC        Chelsea\n",
       "2             2     9250   Chelsea FC U21    Chelsea U21\n",
       "3             3       11       Arsenal FC        Arsenal\n",
       "4             4       31     Liverpool FC      Liverpool\n",
       "..          ...      ...              ...            ...\n",
       "96           96     1005         US Lecce          Lecce\n",
       "97           97     3522    Spezia Calcio  Spezia Calcio\n",
       "98           98      276    Hellas Verona  Hellas Verona\n",
       "99           99     1038     UC Sampdoria      Sampdoria\n",
       "100         100     2239     US Cremonese      Cremonese\n",
       "\n",
       "[101 rows x 4 columns]"
      ]
     },
     "execution_count": 117,
     "metadata": {},
     "output_type": "execute_result"
    }
   ],
   "source": [
    "id_df"
   ]
  },
  {
   "cell_type": "code",
   "execution_count": 118,
   "metadata": {},
   "outputs": [],
   "source": [
    "new_df = pd.merge(players_stats_df, id_df, left_on = 'Club', right_on= 'club full name').drop(columns=['Unnamed: 0', 'club full name', 'club name'])"
   ]
  },
  {
   "attachments": {},
   "cell_type": "markdown",
   "metadata": {},
   "source": [
    "## Investigate about New_season on new club"
   ]
  },
  {
   "cell_type": "code",
   "execution_count": 119,
   "metadata": {},
   "outputs": [],
   "source": [
    "new_df = new_df.sort_values(by=['player_id', 'Season']).reset_index(drop=True)"
   ]
  },
  {
   "cell_type": "code",
   "execution_count": 120,
   "metadata": {},
   "outputs": [],
   "source": [
    "result = []\n",
    "for pid in new_df.player_id.unique().tolist():\n",
    "    seasons = new_df[new_df.player_id == pid].Season.tolist()\n",
    "    # print(pid)\n",
    "    for j, s in enumerate(seasons):\n",
    "        # print(j, s)\n",
    "        c_cid = new_df[(new_df.player_id == pid) & (new_df.Season == s)].club_id.values[0]\n",
    "        if j == 0:\n",
    "            p_cid = c_cid\n",
    "        else:\n",
    "            p_cid = new_df[(new_df.player_id == pid) & (new_df.Season == seasons[j-1])].club_id.values[0]\n",
    "        \n",
    "        if c_cid != p_cid:\n",
    "            result.append({'player_id':pid, 'seasons':seasons[j], 'club_id':c_cid, 'New_season':True})\n",
    "        else:\n",
    "            result.append({'player_id':pid, 'seasons':seasons[j], 'club_id':c_cid, 'New_season':False})\n",
    "\n",
    "status_df = pd.DataFrame(result)"
   ]
  },
  {
   "cell_type": "code",
   "execution_count": 121,
   "metadata": {},
   "outputs": [
    {
     "data": {
      "text/html": [
       "<div>\n",
       "<style scoped>\n",
       "    .dataframe tbody tr th:only-of-type {\n",
       "        vertical-align: middle;\n",
       "    }\n",
       "\n",
       "    .dataframe tbody tr th {\n",
       "        vertical-align: top;\n",
       "    }\n",
       "\n",
       "    .dataframe thead th {\n",
       "        text-align: right;\n",
       "    }\n",
       "</style>\n",
       "<table border=\"1\" class=\"dataframe\">\n",
       "  <thead>\n",
       "    <tr style=\"text-align: right;\">\n",
       "      <th></th>\n",
       "      <th>player_id</th>\n",
       "      <th>seasons</th>\n",
       "      <th>club_id</th>\n",
       "      <th>New_season</th>\n",
       "    </tr>\n",
       "  </thead>\n",
       "  <tbody>\n",
       "    <tr>\n",
       "      <th>0</th>\n",
       "      <td>2857</td>\n",
       "      <td>17/18</td>\n",
       "      <td>1003</td>\n",
       "      <td>False</td>\n",
       "    </tr>\n",
       "    <tr>\n",
       "      <th>1</th>\n",
       "      <td>2857</td>\n",
       "      <td>21/22</td>\n",
       "      <td>1003</td>\n",
       "      <td>False</td>\n",
       "    </tr>\n",
       "    <tr>\n",
       "      <th>2</th>\n",
       "      <td>3333</td>\n",
       "      <td>16/17</td>\n",
       "      <td>31</td>\n",
       "      <td>False</td>\n",
       "    </tr>\n",
       "    <tr>\n",
       "      <th>3</th>\n",
       "      <td>3333</td>\n",
       "      <td>17/18</td>\n",
       "      <td>31</td>\n",
       "      <td>False</td>\n",
       "    </tr>\n",
       "    <tr>\n",
       "      <th>4</th>\n",
       "      <td>3333</td>\n",
       "      <td>18/19</td>\n",
       "      <td>31</td>\n",
       "      <td>False</td>\n",
       "    </tr>\n",
       "    <tr>\n",
       "      <th>...</th>\n",
       "      <td>...</td>\n",
       "      <td>...</td>\n",
       "      <td>...</td>\n",
       "      <td>...</td>\n",
       "    </tr>\n",
       "    <tr>\n",
       "      <th>8185</th>\n",
       "      <td>982864</td>\n",
       "      <td>21/22</td>\n",
       "      <td>1095</td>\n",
       "      <td>False</td>\n",
       "    </tr>\n",
       "    <tr>\n",
       "      <th>8186</th>\n",
       "      <td>988862</td>\n",
       "      <td>21/22</td>\n",
       "      <td>800</td>\n",
       "      <td>False</td>\n",
       "    </tr>\n",
       "    <tr>\n",
       "      <th>8187</th>\n",
       "      <td>991487</td>\n",
       "      <td>21/22</td>\n",
       "      <td>667</td>\n",
       "      <td>False</td>\n",
       "    </tr>\n",
       "    <tr>\n",
       "      <th>8188</th>\n",
       "      <td>991649</td>\n",
       "      <td>21/22</td>\n",
       "      <td>1095</td>\n",
       "      <td>False</td>\n",
       "    </tr>\n",
       "    <tr>\n",
       "      <th>8189</th>\n",
       "      <td>1020544</td>\n",
       "      <td>21/22</td>\n",
       "      <td>3524</td>\n",
       "      <td>False</td>\n",
       "    </tr>\n",
       "  </tbody>\n",
       "</table>\n",
       "<p>8190 rows × 4 columns</p>\n",
       "</div>"
      ],
      "text/plain": [
       "      player_id seasons  club_id  New_season\n",
       "0          2857   17/18     1003       False\n",
       "1          2857   21/22     1003       False\n",
       "2          3333   16/17       31       False\n",
       "3          3333   17/18       31       False\n",
       "4          3333   18/19       31       False\n",
       "...         ...     ...      ...         ...\n",
       "8185     982864   21/22     1095       False\n",
       "8186     988862   21/22      800       False\n",
       "8187     991487   21/22      667       False\n",
       "8188     991649   21/22     1095       False\n",
       "8189    1020544   21/22     3524       False\n",
       "\n",
       "[8190 rows x 4 columns]"
      ]
     },
     "execution_count": 121,
     "metadata": {},
     "output_type": "execute_result"
    }
   ],
   "source": [
    "status_df"
   ]
  },
  {
   "cell_type": "code",
   "execution_count": 122,
   "metadata": {},
   "outputs": [],
   "source": [
    "new_df['New_season'] = status_df['New_season']"
   ]
  },
  {
   "attachments": {},
   "cell_type": "markdown",
   "metadata": {},
   "source": [
    "## Add position to player_stats"
   ]
  },
  {
   "cell_type": "code",
   "execution_count": 127,
   "metadata": {},
   "outputs": [],
   "source": [
    "new_df = pd.merge(new_df, players_table_df[['player_id', 'position_group']], left_on='player_id', right_on='player_id')"
   ]
  },
  {
   "attachments": {},
   "cell_type": "markdown",
   "metadata": {},
   "source": [
    "## Add age to player_stats"
   ]
  },
  {
   "cell_type": "code",
   "execution_count": 131,
   "metadata": {},
   "outputs": [],
   "source": [
    "player_season_df = pd.read_csv('data\\AGE.csv')"
   ]
  },
  {
   "cell_type": "code",
   "execution_count": 135,
   "metadata": {},
   "outputs": [],
   "source": [
    "new_df = pd.merge(new_df, player_season_df[['player_id', 'season_short','Age']], left_on=['player_id', 'Season'], right_on=['player_id', 'season_short'])"
   ]
  },
  {
   "attachments": {},
   "cell_type": "markdown",
   "metadata": {},
   "source": [
    "# Dataframe finalization"
   ]
  },
  {
   "attachments": {},
   "cell_type": "markdown",
   "metadata": {},
   "source": [
    "## Re-order columns"
   ]
  },
  {
   "cell_type": "code",
   "execution_count": 137,
   "metadata": {},
   "outputs": [
    {
     "data": {
      "text/plain": [
       "Index(['player_id', 'Season', 'Competition', 'Club', 'Squad', 'Appearances',\n",
       "       'PPG', 'Goals', 'Own goals', 'Substitutions on', 'Substitutions off',\n",
       "       'Yellow cards', 'Second yellow cards', 'Red cards', 'Goals conceded',\n",
       "       'Clean sheets', 'Minutes played', 'Assists', 'Penalty goals',\n",
       "       'Minutes per goal', 'club_id', 'New_season', 'position_group',\n",
       "       'season_short', 'Age'],\n",
       "      dtype='object')"
      ]
     },
     "execution_count": 137,
     "metadata": {},
     "output_type": "execute_result"
    }
   ],
   "source": [
    "new_df.columns"
   ]
  },
  {
   "cell_type": "code",
   "execution_count": 140,
   "metadata": {},
   "outputs": [],
   "source": [
    "final_df = new_df[['player_id', 'Season', 'Age', 'Competition', 'Club', 'club_id', 'position_group', 'New_season', 'Squad', 'Appearances',\n",
    "       'PPG', 'Goals', 'Own goals','Clean sheets', 'Assists', 'Penalty goals', 'Goals conceded',\n",
    "       'Yellow cards', 'Second yellow cards', 'Red cards',\n",
    "       'Substitutions on', 'Substitutions off', 'Minutes played',\n",
    "       'Minutes per goal']]"
   ]
  },
  {
   "attachments": {},
   "cell_type": "markdown",
   "metadata": {},
   "source": [
    "## Remove season 16/17 records"
   ]
  },
  {
   "cell_type": "code",
   "execution_count": 144,
   "metadata": {},
   "outputs": [],
   "source": [
    "final_df = final_df.drop(final_df[final_df.Season == '16/17'].index)"
   ]
  },
  {
   "attachments": {},
   "cell_type": "markdown",
   "metadata": {},
   "source": [
    "## Export data as CSV file"
   ]
  },
  {
   "cell_type": "code",
   "execution_count": 145,
   "metadata": {},
   "outputs": [],
   "source": [
    "final_df.to_csv('player_season_preprocessed.csv', index=False)"
   ]
  }
 ],
 "metadata": {
  "kernelspec": {
   "display_name": "env_bootcamp_conda",
   "language": "python",
   "name": "python3"
  },
  "language_info": {
   "codemirror_mode": {
    "name": "ipython",
    "version": 3
   },
   "file_extension": ".py",
   "mimetype": "text/x-python",
   "name": "python",
   "nbconvert_exporter": "python",
   "pygments_lexer": "ipython3",
   "version": "3.9.0"
  },
  "orig_nbformat": 4
 },
 "nbformat": 4,
 "nbformat_minor": 2
}
