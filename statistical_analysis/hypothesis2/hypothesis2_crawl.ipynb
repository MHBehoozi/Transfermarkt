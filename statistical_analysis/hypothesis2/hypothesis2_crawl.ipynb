{
 "cells": [
  {
   "cell_type": "code",
   "execution_count": 1,
   "metadata": {},
   "outputs": [],
   "source": [
    "import requests\n",
    "from bs4 import BeautifulSoup\n",
    "import random\n",
    "import pandas as pd\n",
    "import re\n",
    "import numpy as np\n",
    "import time\n",
    "import jupytext"
   ]
  },
  {
   "cell_type": "code",
   "execution_count": 2,
   "metadata": {},
   "outputs": [],
   "source": [
    "Countries_1stLeagueName = ['premier-league', 'bundesliga', 'serie-a', 'ligue-1', 'laliga']"
   ]
  },
  {
   "cell_type": "code",
   "execution_count": 3,
   "metadata": {},
   "outputs": [],
   "source": [
    "table_urls = ['https://www.transfermarkt.com/premier-league/tabelle/wettbewerb/GB1?saison_id=2021', \n",
    "              'https://www.transfermarkt.com/bundesliga/tabelle/wettbewerb/GR1?saison_id=2021',\n",
    "              'https://www.transfermarkt.com/serie-a/tabelle/wettbewerb/IT1?saison_id=2021',\n",
    "              'https://www.transfermarkt.com/ligue-1/tabelle/wettbewerb/FR1?saison_id=2021',\n",
    "              'https://www.transfermarkt.com/laliga/tabelle/wettbewerb/ES1?saison_id=2021']"
   ]
  },
  {
   "cell_type": "code",
   "execution_count": 4,
   "metadata": {},
   "outputs": [],
   "source": [
    "headers = {'User-Agent': 'Mozilla/5.0 (Windows NT 10.0; Win64; x64) AppleWebKit/537.36 (KHTML, like Gecko) Chrome/96.0.4664.93 Safari/537.36',\n",
    "           \"Accept-Language\": \"en-US,en;q=0.5\"}"
   ]
  },
  {
   "cell_type": "code",
   "execution_count": 12,
   "metadata": {},
   "outputs": [],
   "source": [
    "responses = []\n",
    "for url in table_urls:\n",
    "    responses.append(requests.get(url=url, headers=headers))\n",
    "    time.sleep(random.random())"
   ]
  },
  {
   "cell_type": "code",
   "execution_count": 14,
   "metadata": {},
   "outputs": [],
   "source": [
    "soups = [BeautifulSoup(page.content, 'html.parser') for page in responses]"
   ]
  },
  {
   "cell_type": "code",
   "execution_count": 106,
   "metadata": {},
   "outputs": [],
   "source": [
    "results = []\n",
    "for soup in soups:\n",
    "    table = soup.select('div.responsive-table')[0]\n",
    "    teams = table.select('td.no-border-links.hauptlink')\n",
    "    titles = [team.find('a').get('title') for team in teams]\n",
    "    ids = [team.find('a').get('href').split('verein/')[1].split('/')[0] for team in teams]\n",
    "    rows = table.select('tr')[1:]\n",
    "    game_counts = [row.select('td.zentriert')[1].get_text() for row in rows]\n",
    "    points = [row.select('td.zentriert')[7].get_text() for row in rows]\n",
    "\n",
    "    for i in range(len(teams)):\n",
    "        results.append({'team_title':titles[i], 'team_id':int(ids[i]), 'game_count':int(game_counts[i]), 'points':int(points[i])})\n"
   ]
  },
  {
   "cell_type": "code",
   "execution_count": 107,
   "metadata": {},
   "outputs": [],
   "source": [
    "df = pd.DataFrame(results)"
   ]
  },
  {
   "cell_type": "code",
   "execution_count": 108,
   "metadata": {},
   "outputs": [],
   "source": [
    "uefa_paricipitants_url = 'https://www.transfermarkt.com/uefa-champions-league/teilnehmer/pokalwettbewerb/CL/saison_id/2021'"
   ]
  },
  {
   "cell_type": "code",
   "execution_count": 84,
   "metadata": {},
   "outputs": [],
   "source": [
    "uefa_response = requests.get(url=uefa_paricipitants_url, headers=headers)"
   ]
  },
  {
   "cell_type": "code",
   "execution_count": 85,
   "metadata": {},
   "outputs": [],
   "source": [
    "uefa_soup = BeautifulSoup(uefa_response.content, 'html.parser')"
   ]
  },
  {
   "cell_type": "code",
   "execution_count": 87,
   "metadata": {},
   "outputs": [],
   "source": [
    "uefa_tags = uefa_soup.select('td.links.no-border-links.hauptlink a')"
   ]
  },
  {
   "cell_type": "code",
   "execution_count": 88,
   "metadata": {},
   "outputs": [
    {
     "data": {
      "text/plain": [
       "32"
      ]
     },
     "execution_count": 88,
     "metadata": {},
     "output_type": "execute_result"
    }
   ],
   "source": [
    "len(uefa_tags)"
   ]
  },
  {
   "cell_type": "code",
   "execution_count": 118,
   "metadata": {},
   "outputs": [],
   "source": [
    "uefa_titles = [tag.get('title') for tag in uefa_tags]\n",
    "uefa_ids = [int(tag.get('href').split('verein/')[1].split('/')[0]) for tag in uefa_tags]"
   ]
  },
  {
   "cell_type": "code",
   "execution_count": 109,
   "metadata": {},
   "outputs": [
    {
     "data": {
      "text/html": [
       "<div>\n",
       "<style scoped>\n",
       "    .dataframe tbody tr th:only-of-type {\n",
       "        vertical-align: middle;\n",
       "    }\n",
       "\n",
       "    .dataframe tbody tr th {\n",
       "        vertical-align: top;\n",
       "    }\n",
       "\n",
       "    .dataframe thead th {\n",
       "        text-align: right;\n",
       "    }\n",
       "</style>\n",
       "<table border=\"1\" class=\"dataframe\">\n",
       "  <thead>\n",
       "    <tr style=\"text-align: right;\">\n",
       "      <th></th>\n",
       "      <th>team_title</th>\n",
       "      <th>team_id</th>\n",
       "      <th>game_count</th>\n",
       "      <th>points</th>\n",
       "    </tr>\n",
       "  </thead>\n",
       "  <tbody>\n",
       "    <tr>\n",
       "      <th>0</th>\n",
       "      <td>Manchester City</td>\n",
       "      <td>281</td>\n",
       "      <td>38</td>\n",
       "      <td>93</td>\n",
       "    </tr>\n",
       "    <tr>\n",
       "      <th>1</th>\n",
       "      <td>Liverpool FC</td>\n",
       "      <td>31</td>\n",
       "      <td>38</td>\n",
       "      <td>92</td>\n",
       "    </tr>\n",
       "    <tr>\n",
       "      <th>2</th>\n",
       "      <td>Chelsea FC</td>\n",
       "      <td>631</td>\n",
       "      <td>38</td>\n",
       "      <td>74</td>\n",
       "    </tr>\n",
       "    <tr>\n",
       "      <th>3</th>\n",
       "      <td>Tottenham Hotspur</td>\n",
       "      <td>148</td>\n",
       "      <td>38</td>\n",
       "      <td>71</td>\n",
       "    </tr>\n",
       "    <tr>\n",
       "      <th>4</th>\n",
       "      <td>Arsenal FC</td>\n",
       "      <td>11</td>\n",
       "      <td>38</td>\n",
       "      <td>69</td>\n",
       "    </tr>\n",
       "    <tr>\n",
       "      <th>...</th>\n",
       "      <td>...</td>\n",
       "      <td>...</td>\n",
       "      <td>...</td>\n",
       "      <td>...</td>\n",
       "    </tr>\n",
       "    <tr>\n",
       "      <th>89</th>\n",
       "      <td>RCD Mallorca</td>\n",
       "      <td>237</td>\n",
       "      <td>38</td>\n",
       "      <td>39</td>\n",
       "    </tr>\n",
       "    <tr>\n",
       "      <th>90</th>\n",
       "      <td>Cádiz CF</td>\n",
       "      <td>2687</td>\n",
       "      <td>38</td>\n",
       "      <td>39</td>\n",
       "    </tr>\n",
       "    <tr>\n",
       "      <th>91</th>\n",
       "      <td>Granada CF</td>\n",
       "      <td>16795</td>\n",
       "      <td>38</td>\n",
       "      <td>38</td>\n",
       "    </tr>\n",
       "    <tr>\n",
       "      <th>92</th>\n",
       "      <td>Levante UD</td>\n",
       "      <td>3368</td>\n",
       "      <td>38</td>\n",
       "      <td>35</td>\n",
       "    </tr>\n",
       "    <tr>\n",
       "      <th>93</th>\n",
       "      <td>Deportivo Alavés</td>\n",
       "      <td>1108</td>\n",
       "      <td>38</td>\n",
       "      <td>31</td>\n",
       "    </tr>\n",
       "  </tbody>\n",
       "</table>\n",
       "<p>94 rows × 4 columns</p>\n",
       "</div>"
      ],
      "text/plain": [
       "           team_title  team_id  game_count  points\n",
       "0     Manchester City      281          38      93\n",
       "1        Liverpool FC       31          38      92\n",
       "2          Chelsea FC      631          38      74\n",
       "3   Tottenham Hotspur      148          38      71\n",
       "4          Arsenal FC       11          38      69\n",
       "..                ...      ...         ...     ...\n",
       "89       RCD Mallorca      237          38      39\n",
       "90           Cádiz CF     2687          38      39\n",
       "91         Granada CF    16795          38      38\n",
       "92         Levante UD     3368          38      35\n",
       "93   Deportivo Alavés     1108          38      31\n",
       "\n",
       "[94 rows x 4 columns]"
      ]
     },
     "execution_count": 109,
     "metadata": {},
     "output_type": "execute_result"
    }
   ],
   "source": [
    "df"
   ]
  },
  {
   "cell_type": "code",
   "execution_count": 122,
   "metadata": {},
   "outputs": [],
   "source": [
    "df['uefa_status'] = df.team_id.isin(uefa_ids)\n",
    "df['team_performance'] = df.points/df.game_count"
   ]
  },
  {
   "cell_type": "code",
   "execution_count": 123,
   "metadata": {},
   "outputs": [
    {
     "data": {
      "text/html": [
       "<div>\n",
       "<style scoped>\n",
       "    .dataframe tbody tr th:only-of-type {\n",
       "        vertical-align: middle;\n",
       "    }\n",
       "\n",
       "    .dataframe tbody tr th {\n",
       "        vertical-align: top;\n",
       "    }\n",
       "\n",
       "    .dataframe thead th {\n",
       "        text-align: right;\n",
       "    }\n",
       "</style>\n",
       "<table border=\"1\" class=\"dataframe\">\n",
       "  <thead>\n",
       "    <tr style=\"text-align: right;\">\n",
       "      <th></th>\n",
       "      <th>team_title</th>\n",
       "      <th>team_id</th>\n",
       "      <th>game_count</th>\n",
       "      <th>points</th>\n",
       "      <th>uefa_status</th>\n",
       "      <th>team_performance</th>\n",
       "    </tr>\n",
       "  </thead>\n",
       "  <tbody>\n",
       "    <tr>\n",
       "      <th>0</th>\n",
       "      <td>Manchester City</td>\n",
       "      <td>281</td>\n",
       "      <td>38</td>\n",
       "      <td>93</td>\n",
       "      <td>True</td>\n",
       "      <td>2.447368</td>\n",
       "    </tr>\n",
       "    <tr>\n",
       "      <th>1</th>\n",
       "      <td>Liverpool FC</td>\n",
       "      <td>31</td>\n",
       "      <td>38</td>\n",
       "      <td>92</td>\n",
       "      <td>True</td>\n",
       "      <td>2.421053</td>\n",
       "    </tr>\n",
       "    <tr>\n",
       "      <th>2</th>\n",
       "      <td>Chelsea FC</td>\n",
       "      <td>631</td>\n",
       "      <td>38</td>\n",
       "      <td>74</td>\n",
       "      <td>True</td>\n",
       "      <td>1.947368</td>\n",
       "    </tr>\n",
       "    <tr>\n",
       "      <th>3</th>\n",
       "      <td>Tottenham Hotspur</td>\n",
       "      <td>148</td>\n",
       "      <td>38</td>\n",
       "      <td>71</td>\n",
       "      <td>False</td>\n",
       "      <td>1.868421</td>\n",
       "    </tr>\n",
       "    <tr>\n",
       "      <th>4</th>\n",
       "      <td>Arsenal FC</td>\n",
       "      <td>11</td>\n",
       "      <td>38</td>\n",
       "      <td>69</td>\n",
       "      <td>False</td>\n",
       "      <td>1.815789</td>\n",
       "    </tr>\n",
       "    <tr>\n",
       "      <th>...</th>\n",
       "      <td>...</td>\n",
       "      <td>...</td>\n",
       "      <td>...</td>\n",
       "      <td>...</td>\n",
       "      <td>...</td>\n",
       "      <td>...</td>\n",
       "    </tr>\n",
       "    <tr>\n",
       "      <th>89</th>\n",
       "      <td>RCD Mallorca</td>\n",
       "      <td>237</td>\n",
       "      <td>38</td>\n",
       "      <td>39</td>\n",
       "      <td>False</td>\n",
       "      <td>1.026316</td>\n",
       "    </tr>\n",
       "    <tr>\n",
       "      <th>90</th>\n",
       "      <td>Cádiz CF</td>\n",
       "      <td>2687</td>\n",
       "      <td>38</td>\n",
       "      <td>39</td>\n",
       "      <td>False</td>\n",
       "      <td>1.026316</td>\n",
       "    </tr>\n",
       "    <tr>\n",
       "      <th>91</th>\n",
       "      <td>Granada CF</td>\n",
       "      <td>16795</td>\n",
       "      <td>38</td>\n",
       "      <td>38</td>\n",
       "      <td>False</td>\n",
       "      <td>1.000000</td>\n",
       "    </tr>\n",
       "    <tr>\n",
       "      <th>92</th>\n",
       "      <td>Levante UD</td>\n",
       "      <td>3368</td>\n",
       "      <td>38</td>\n",
       "      <td>35</td>\n",
       "      <td>False</td>\n",
       "      <td>0.921053</td>\n",
       "    </tr>\n",
       "    <tr>\n",
       "      <th>93</th>\n",
       "      <td>Deportivo Alavés</td>\n",
       "      <td>1108</td>\n",
       "      <td>38</td>\n",
       "      <td>31</td>\n",
       "      <td>False</td>\n",
       "      <td>0.815789</td>\n",
       "    </tr>\n",
       "  </tbody>\n",
       "</table>\n",
       "<p>94 rows × 6 columns</p>\n",
       "</div>"
      ],
      "text/plain": [
       "           team_title  team_id  game_count  points  uefa_status   \n",
       "0     Manchester City      281          38      93         True  \\\n",
       "1        Liverpool FC       31          38      92         True   \n",
       "2          Chelsea FC      631          38      74         True   \n",
       "3   Tottenham Hotspur      148          38      71        False   \n",
       "4          Arsenal FC       11          38      69        False   \n",
       "..                ...      ...         ...     ...          ...   \n",
       "89       RCD Mallorca      237          38      39        False   \n",
       "90           Cádiz CF     2687          38      39        False   \n",
       "91         Granada CF    16795          38      38        False   \n",
       "92         Levante UD     3368          38      35        False   \n",
       "93   Deportivo Alavés     1108          38      31        False   \n",
       "\n",
       "    team_performance  \n",
       "0           2.447368  \n",
       "1           2.421053  \n",
       "2           1.947368  \n",
       "3           1.868421  \n",
       "4           1.815789  \n",
       "..               ...  \n",
       "89          1.026316  \n",
       "90          1.026316  \n",
       "91          1.000000  \n",
       "92          0.921053  \n",
       "93          0.815789  \n",
       "\n",
       "[94 rows x 6 columns]"
      ]
     },
     "execution_count": 123,
     "metadata": {},
     "output_type": "execute_result"
    }
   ],
   "source": [
    "df"
   ]
  },
  {
   "cell_type": "code",
   "execution_count": 130,
   "metadata": {},
   "outputs": [],
   "source": [
    "df.to_csv('tables.csv')"
   ]
  }
 ],
 "metadata": {
  "kernelspec": {
   "display_name": "Python 3 (ipykernel)",
   "language": "python",
   "name": "python3"
  },
  "language_info": {
   "codemirror_mode": {
    "name": "ipython",
    "version": 3
   },
   "file_extension": ".py",
   "mimetype": "text/x-python",
   "name": "python",
   "nbconvert_exporter": "python",
   "pygments_lexer": "ipython3",
   "version": "3.9.0"
  }
 },
 "nbformat": 4,
 "nbformat_minor": 4
}
