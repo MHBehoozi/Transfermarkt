{
 "cells": [
  {
   "attachments": {},
   "cell_type": "markdown",
   "metadata": {},
   "source": [
    "# Import Libraries and crawled data"
   ]
  },
  {
   "cell_type": "code",
   "execution_count": 1,
   "metadata": {},
   "outputs": [],
   "source": [
    "import pandas as pd\n",
    "from scipy import stats\n",
    "import matplotlib.pyplot as plt\n",
    "import numpy as np"
   ]
  },
  {
   "cell_type": "code",
   "execution_count": 2,
   "metadata": {},
   "outputs": [],
   "source": [
    "df = pd.read_csv('tables.csv').drop(columns=['Unnamed: 0'])"
   ]
  },
  {
   "cell_type": "code",
   "execution_count": 3,
   "metadata": {},
   "outputs": [
    {
     "data": {
      "text/html": [
       "<div>\n",
       "<style scoped>\n",
       "    .dataframe tbody tr th:only-of-type {\n",
       "        vertical-align: middle;\n",
       "    }\n",
       "\n",
       "    .dataframe tbody tr th {\n",
       "        vertical-align: top;\n",
       "    }\n",
       "\n",
       "    .dataframe thead th {\n",
       "        text-align: right;\n",
       "    }\n",
       "</style>\n",
       "<table border=\"1\" class=\"dataframe\">\n",
       "  <thead>\n",
       "    <tr style=\"text-align: right;\">\n",
       "      <th></th>\n",
       "      <th>team_title</th>\n",
       "      <th>team_id</th>\n",
       "      <th>game_count</th>\n",
       "      <th>points</th>\n",
       "      <th>uefa_status</th>\n",
       "      <th>team_performance</th>\n",
       "    </tr>\n",
       "  </thead>\n",
       "  <tbody>\n",
       "    <tr>\n",
       "      <th>0</th>\n",
       "      <td>Manchester City</td>\n",
       "      <td>281</td>\n",
       "      <td>38</td>\n",
       "      <td>93</td>\n",
       "      <td>True</td>\n",
       "      <td>2.447368</td>\n",
       "    </tr>\n",
       "    <tr>\n",
       "      <th>1</th>\n",
       "      <td>Liverpool FC</td>\n",
       "      <td>31</td>\n",
       "      <td>38</td>\n",
       "      <td>92</td>\n",
       "      <td>True</td>\n",
       "      <td>2.421053</td>\n",
       "    </tr>\n",
       "    <tr>\n",
       "      <th>2</th>\n",
       "      <td>Chelsea FC</td>\n",
       "      <td>631</td>\n",
       "      <td>38</td>\n",
       "      <td>74</td>\n",
       "      <td>True</td>\n",
       "      <td>1.947368</td>\n",
       "    </tr>\n",
       "    <tr>\n",
       "      <th>3</th>\n",
       "      <td>Tottenham Hotspur</td>\n",
       "      <td>148</td>\n",
       "      <td>38</td>\n",
       "      <td>71</td>\n",
       "      <td>False</td>\n",
       "      <td>1.868421</td>\n",
       "    </tr>\n",
       "    <tr>\n",
       "      <th>4</th>\n",
       "      <td>Arsenal FC</td>\n",
       "      <td>11</td>\n",
       "      <td>38</td>\n",
       "      <td>69</td>\n",
       "      <td>False</td>\n",
       "      <td>1.815789</td>\n",
       "    </tr>\n",
       "    <tr>\n",
       "      <th>...</th>\n",
       "      <td>...</td>\n",
       "      <td>...</td>\n",
       "      <td>...</td>\n",
       "      <td>...</td>\n",
       "      <td>...</td>\n",
       "      <td>...</td>\n",
       "    </tr>\n",
       "    <tr>\n",
       "      <th>89</th>\n",
       "      <td>RCD Mallorca</td>\n",
       "      <td>237</td>\n",
       "      <td>38</td>\n",
       "      <td>39</td>\n",
       "      <td>False</td>\n",
       "      <td>1.026316</td>\n",
       "    </tr>\n",
       "    <tr>\n",
       "      <th>90</th>\n",
       "      <td>Cádiz CF</td>\n",
       "      <td>2687</td>\n",
       "      <td>38</td>\n",
       "      <td>39</td>\n",
       "      <td>False</td>\n",
       "      <td>1.026316</td>\n",
       "    </tr>\n",
       "    <tr>\n",
       "      <th>91</th>\n",
       "      <td>Granada CF</td>\n",
       "      <td>16795</td>\n",
       "      <td>38</td>\n",
       "      <td>38</td>\n",
       "      <td>False</td>\n",
       "      <td>1.000000</td>\n",
       "    </tr>\n",
       "    <tr>\n",
       "      <th>92</th>\n",
       "      <td>Levante UD</td>\n",
       "      <td>3368</td>\n",
       "      <td>38</td>\n",
       "      <td>35</td>\n",
       "      <td>False</td>\n",
       "      <td>0.921053</td>\n",
       "    </tr>\n",
       "    <tr>\n",
       "      <th>93</th>\n",
       "      <td>Deportivo Alavés</td>\n",
       "      <td>1108</td>\n",
       "      <td>38</td>\n",
       "      <td>31</td>\n",
       "      <td>False</td>\n",
       "      <td>0.815789</td>\n",
       "    </tr>\n",
       "  </tbody>\n",
       "</table>\n",
       "<p>94 rows × 6 columns</p>\n",
       "</div>"
      ],
      "text/plain": [
       "           team_title  team_id  game_count  points  uefa_status   \n",
       "0     Manchester City      281          38      93         True  \\\n",
       "1        Liverpool FC       31          38      92         True   \n",
       "2          Chelsea FC      631          38      74         True   \n",
       "3   Tottenham Hotspur      148          38      71        False   \n",
       "4          Arsenal FC       11          38      69        False   \n",
       "..                ...      ...         ...     ...          ...   \n",
       "89       RCD Mallorca      237          38      39        False   \n",
       "90           Cádiz CF     2687          38      39        False   \n",
       "91         Granada CF    16795          38      38        False   \n",
       "92         Levante UD     3368          38      35        False   \n",
       "93   Deportivo Alavés     1108          38      31        False   \n",
       "\n",
       "    team_performance  \n",
       "0           2.447368  \n",
       "1           2.421053  \n",
       "2           1.947368  \n",
       "3           1.868421  \n",
       "4           1.815789  \n",
       "..               ...  \n",
       "89          1.026316  \n",
       "90          1.026316  \n",
       "91          1.000000  \n",
       "92          0.921053  \n",
       "93          0.815789  \n",
       "\n",
       "[94 rows x 6 columns]"
      ]
     },
     "execution_count": 3,
     "metadata": {},
     "output_type": "execute_result"
    }
   ],
   "source": [
    "df"
   ]
  },
  {
   "attachments": {},
   "cell_type": "markdown",
   "metadata": {},
   "source": [
    "# EDA"
   ]
  },
  {
   "cell_type": "code",
   "execution_count": 4,
   "metadata": {},
   "outputs": [
    {
     "data": {
      "text/html": [
       "<div>\n",
       "<style scoped>\n",
       "    .dataframe tbody tr th:only-of-type {\n",
       "        vertical-align: middle;\n",
       "    }\n",
       "\n",
       "    .dataframe tbody tr th {\n",
       "        vertical-align: top;\n",
       "    }\n",
       "\n",
       "    .dataframe thead th {\n",
       "        text-align: right;\n",
       "    }\n",
       "</style>\n",
       "<table border=\"1\" class=\"dataframe\">\n",
       "  <thead>\n",
       "    <tr style=\"text-align: right;\">\n",
       "      <th></th>\n",
       "      <th>team_id</th>\n",
       "      <th>game_count</th>\n",
       "      <th>points</th>\n",
       "      <th>team_performance</th>\n",
       "    </tr>\n",
       "  </thead>\n",
       "  <tbody>\n",
       "    <tr>\n",
       "      <th>count</th>\n",
       "      <td>94.000000</td>\n",
       "      <td>94.000000</td>\n",
       "      <td>94.000000</td>\n",
       "      <td>94.000000</td>\n",
       "    </tr>\n",
       "    <tr>\n",
       "      <th>mean</th>\n",
       "      <td>1967.095745</td>\n",
       "      <td>36.212766</td>\n",
       "      <td>49.617021</td>\n",
       "      <td>1.370962</td>\n",
       "    </tr>\n",
       "    <tr>\n",
       "      <th>std</th>\n",
       "      <td>6520.437973</td>\n",
       "      <td>4.295214</td>\n",
       "      <td>17.454153</td>\n",
       "      <td>0.458286</td>\n",
       "    </tr>\n",
       "    <tr>\n",
       "      <th>min</th>\n",
       "      <td>5.000000</td>\n",
       "      <td>26.000000</td>\n",
       "      <td>13.000000</td>\n",
       "      <td>0.500000</td>\n",
       "    </tr>\n",
       "    <tr>\n",
       "      <th>25%</th>\n",
       "      <td>370.750000</td>\n",
       "      <td>38.000000</td>\n",
       "      <td>37.250000</td>\n",
       "      <td>1.026316</td>\n",
       "    </tr>\n",
       "    <tr>\n",
       "      <th>50%</th>\n",
       "      <td>682.000000</td>\n",
       "      <td>38.000000</td>\n",
       "      <td>46.500000</td>\n",
       "      <td>1.302632</td>\n",
       "    </tr>\n",
       "    <tr>\n",
       "      <th>75%</th>\n",
       "      <td>1129.750000</td>\n",
       "      <td>38.000000</td>\n",
       "      <td>62.000000</td>\n",
       "      <td>1.677632</td>\n",
       "    </tr>\n",
       "    <tr>\n",
       "      <th>max</th>\n",
       "      <td>60949.000000</td>\n",
       "      <td>38.000000</td>\n",
       "      <td>93.000000</td>\n",
       "      <td>2.500000</td>\n",
       "    </tr>\n",
       "  </tbody>\n",
       "</table>\n",
       "</div>"
      ],
      "text/plain": [
       "            team_id  game_count     points  team_performance\n",
       "count     94.000000   94.000000  94.000000         94.000000\n",
       "mean    1967.095745   36.212766  49.617021          1.370962\n",
       "std     6520.437973    4.295214  17.454153          0.458286\n",
       "min        5.000000   26.000000  13.000000          0.500000\n",
       "25%      370.750000   38.000000  37.250000          1.026316\n",
       "50%      682.000000   38.000000  46.500000          1.302632\n",
       "75%     1129.750000   38.000000  62.000000          1.677632\n",
       "max    60949.000000   38.000000  93.000000          2.500000"
      ]
     },
     "execution_count": 4,
     "metadata": {},
     "output_type": "execute_result"
    }
   ],
   "source": [
    "df.describe()"
   ]
  },
  {
   "cell_type": "code",
   "execution_count": 5,
   "metadata": {},
   "outputs": [
    {
     "name": "stdout",
     "output_type": "stream",
     "text": [
      "Number of UEFA member clubs: 15\n",
      "Number of other clubs: 79\n"
     ]
    }
   ],
   "source": [
    "print('Number of UEFA member clubs:', len(df[df.uefa_status == True]))\n",
    "print('Number of other clubs:', len(df[df.uefa_status == False]))"
   ]
  },
  {
   "attachments": {},
   "cell_type": "markdown",
   "metadata": {},
   "source": [
    "Because of different club number of lgeaues, metric(team_performance) has calculated as season points divided by league club number"
   ]
  },
  {
   "cell_type": "code",
   "execution_count": 6,
   "metadata": {},
   "outputs": [
    {
     "name": "stdout",
     "output_type": "stream",
     "text": [
      "Mean of performance score of UEFA member clubs: 1.9578947368421054\n",
      "Mean of performance score of other clubs: 1.259519294829088\n"
     ]
    }
   ],
   "source": [
    "print('Mean of performance score of UEFA member clubs:', df[df.uefa_status == True].team_performance.mean())\n",
    "print('Mean of performance score of other clubs:', df[df.uefa_status == False].team_performance.mean())"
   ]
  },
  {
   "attachments": {},
   "cell_type": "markdown",
   "metadata": {},
   "source": [
    "# Split teams and create sample data"
   ]
  },
  {
   "cell_type": "code",
   "execution_count": 7,
   "metadata": {},
   "outputs": [],
   "source": [
    "group1 = df[df.uefa_status == True].team_performance\n",
    "group2 = df[df.uefa_status == False].team_performance"
   ]
  },
  {
   "attachments": {},
   "cell_type": "markdown",
   "metadata": {},
   "source": [
    "# Perform two-sample t-test with different sample sizes"
   ]
  },
  {
   "cell_type": "code",
   "execution_count": 8,
   "metadata": {},
   "outputs": [
    {
     "name": "stdout",
     "output_type": "stream",
     "text": [
      "t-statistic: 7.1376437028221655\n",
      "p-value: 4.121061874817815e-07\n"
     ]
    }
   ],
   "source": [
    "t_statistic, p_value = stats.ttest_ind(group1, group2, equal_var=False)\n",
    "\n",
    "print(\"t-statistic:\", t_statistic)\n",
    "print(\"p-value:\", p_value)"
   ]
  },
  {
   "cell_type": "code",
   "execution_count": 9,
   "metadata": {},
   "outputs": [
    {
     "name": "stdout",
     "output_type": "stream",
     "text": [
      "As 99.99995878938125 percent, performance of two teams are different.\n"
     ]
    }
   ],
   "source": [
    "print('As', (1-p_value)*100, 'percent, performance of two teams are different.')"
   ]
  },
  {
   "attachments": {},
   "cell_type": "markdown",
   "metadata": {},
   "source": [
    "# Draw plot of normal distribution"
   ]
  },
  {
   "cell_type": "code",
   "execution_count": 10,
   "metadata": {},
   "outputs": [],
   "source": [
    "# create x data to compute probiblity\n",
    "xmin , xmax = min(group1.min(), group2.min()), max(group1.max(), group2.max(), 3)\n",
    "x = np.linspace(xmin, xmax, 100)"
   ]
  },
  {
   "cell_type": "code",
   "execution_count": 11,
   "metadata": {},
   "outputs": [
    {
     "data": {
      "text/plain": [
       "Text(0.5, 0, 'As 99.99995878938125 percent, performance of two teams are different.')"
      ]
     },
     "execution_count": 11,
     "metadata": {},
     "output_type": "execute_result"
    },
    {
     "data": {
      "image/png": "[encoded data removed]",
      "text/plain": [
       "<Figure size 640x480 with 1 Axes>"
      ]
     },
     "metadata": {},
     "output_type": "display_data"
    }
   ],
   "source": [
    "fig, ax = plt.subplots()\n",
    "p1 = stats.norm.pdf(x, np.mean(group1), np.std(group1))\n",
    "p2 = stats.norm.pdf(x, np.mean(group2), np.std(group2))\n",
    "ax.plot(x, p1, 'b', label = 'UEFA_teams')\n",
    "ax.plot(x, p2, 'r', label = 'others')\n",
    "ax.set_title('Comparison of UEFA teams vs not UEFA temas\\nperfomance score (normal distribution)')\n",
    "ax.legend()\n",
    "ax.set_xlabel('As 99.99995878938125 percent, performance of two teams are different.')"
   ]
  },
  {
   "cell_type": "code",
   "execution_count": 12,
   "metadata": {},
   "outputs": [],
   "source": [
    "fig.savefig('hypothesis_test_2.png')"
   ]
  }
 ],
 "metadata": {
  "kernelspec": {
   "display_name": "env_bootcamp_conda",
   "language": "python",
   "name": "python3"
  },
  "language_info": {
   "codemirror_mode": {
    "name": "ipython",
    "version": 3
   },
   "file_extension": ".py",
   "mimetype": "text/x-python",
   "name": "python",
   "nbconvert_exporter": "python",
   "pygments_lexer": "ipython3",
   "version": "3.9.0"
  },
  "orig_nbformat": 4
 },
 "nbformat": 4,
 "nbformat_minor": 2
}
