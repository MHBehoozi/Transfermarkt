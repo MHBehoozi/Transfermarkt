{
 "cells": [
  {
   "attachments": {},
   "cell_type": "markdown",
   "metadata": {},
   "source": [
    "# import libraries"
   ]
  },
  {
   "cell_type": "code",
   "execution_count": 1,
   "metadata": {},
   "outputs": [],
   "source": [
    "import requests\n",
    "from bs4 import BeautifulSoup\n",
    "import random\n",
    "import pandas as pd\n",
    "import re\n",
    "import numpy as np\n",
    "import time\n",
    "import jupytext\n"
   ]
  },
  {
   "attachments": {},
   "cell_type": "markdown",
   "metadata": {},
   "source": [
    "# Extracting all leagues titles and urls"
   ]
  },
  {
   "cell_type": "code",
   "execution_count": 2,
   "metadata": {},
   "outputs": [],
   "source": [
    "headers = {'User-Agent': 'Mozilla/5.0 (Windows NT 10.0; Win64; x64) AppleWebKit/537.36 (KHTML, like Gecko) Chrome/96.0.4664.93 Safari/537.36',\n",
    "           \"Accept-Language\": \"en-US,en;q=0.5\"}"
   ]
  },
  {
   "cell_type": "code",
   "execution_count": 3,
   "metadata": {},
   "outputs": [],
   "source": [
    "Countries_Name = ['England', 'Germany', 'Italy', 'France', 'Spain']\n",
    "Countries_1stLeagueName = ['premier-league', 'bundesliga', 'serie-a', 'ligue-1', 'laliga']\n",
    "Countries_Url = ['https://www.transfermarkt.com/premier-league/startseite/wettbewerb/GB1/plus/?saison_id=20',\n",
    "             'https://www.transfermarkt.com/bundesliga/startseite/wettbewerb/L1/plus/?saison_id=20',\n",
    "             'https://www.transfermarkt.com/serie-a/startseite/wettbewerb/IT1/plus/?saison_id=20',\n",
    "             'https://www.transfermarkt.com/ligue-1/startseite/wettbewerb/FR1/plus/?saison_id=20',\n",
    "             'https://www.transfermarkt.com/laliga/startseite/wettbewerb/ES1']"
   ]
  },
  {
   "attachments": {},
   "cell_type": "markdown",
   "metadata": {},
   "source": [
    "# Request all leagues pages and extract clubs urls and titles"
   ]
  },
  {
   "cell_type": "code",
   "execution_count": 4,
   "metadata": {},
   "outputs": [],
   "source": [
    "links = []\n",
    "titles = []\n",
    "countries = []\n",
    "\n",
    "for i, url in enumerate(Countries_Url):\n",
    "    country = Countries_Name[i]\n",
    "    for i in range(15,22):\n",
    "        response = requests.get(url=url, headers=headers)\n",
    "        soup = BeautifulSoup(response.content, 'html.parser')\n",
    "        table = soup.find('div', class_='responsive-table')\n",
    "\n",
    "        if table:\n",
    "            rows = table.find_all('td', class_='hauptlink no-border-links')\n",
    "\n",
    "            for row in rows:\n",
    "                team_link = row.find('a')\n",
    "                \n",
    "                if team_link:\n",
    "                    team_href = team_link.get('href')\n",
    "                    team_title = team_link.get('title')\n",
    "                    if team_title not in titles:\n",
    "                        links.append(team_href)\n",
    "                        titles.append(team_title)\n",
    "                        countries.append(country)\n",
    "                        \n",
    "        time.sleep(random.random())"
   ]
  },
  {
   "cell_type": "code",
   "execution_count": 5,
   "metadata": {},
   "outputs": [
    {
     "name": "stdout",
     "output_type": "stream",
     "text": [
      "98\n",
      "**************************************************\n"
     ]
    },
    {
     "data": {
      "text/plain": [
       "{'Manchester City': '/manchester-city/startseite/verein/281/saison_id/2022',\n",
       " 'Chelsea FC': '/fc-chelsea/startseite/verein/631/saison_id/2022',\n",
       " 'Arsenal FC': '/fc-arsenal/startseite/verein/11/saison_id/2022',\n",
       " 'Liverpool FC': '/fc-liverpool/startseite/verein/31/saison_id/2022',\n",
       " 'Manchester United': '/manchester-united/startseite/verein/985/saison_id/2022',\n",
       " 'Tottenham Hotspur': '/tottenham-hotspur/startseite/verein/148/saison_id/2022',\n",
       " 'Newcastle United': '/newcastle-united/startseite/verein/762/saison_id/2022',\n",
       " 'West Ham United': '/west-ham-united/startseite/verein/379/saison_id/2022',\n",
       " 'Leicester City': '/leicester-city/startseite/verein/1003/saison_id/2022',\n",
       " 'Aston Villa': '/aston-villa/startseite/verein/405/saison_id/2022',\n",
       " 'Wolverhampton Wanderers': '/wolverhampton-wanderers/startseite/verein/543/saison_id/2022',\n",
       " 'Southampton FC': '/fc-southampton/startseite/verein/180/saison_id/2022',\n",
       " 'Brighton & Hove Albion': '/brighton-amp-hove-albion/startseite/verein/1237/saison_id/2022',\n",
       " 'Everton FC': '/fc-everton/startseite/verein/29/saison_id/2022',\n",
       " 'Nottingham Forest': '/nottingham-forest/startseite/verein/703/saison_id/2022',\n",
       " 'Brentford FC': '/fc-brentford/startseite/verein/1148/saison_id/2022',\n",
       " 'Leeds United': '/leeds-united/startseite/verein/399/saison_id/2022',\n",
       " 'Crystal Palace': '/crystal-palace/startseite/verein/873/saison_id/2022',\n",
       " 'Fulham FC': '/fc-fulham/startseite/verein/931/saison_id/2022',\n",
       " 'AFC Bournemouth': '/afc-bournemouth/startseite/verein/989/saison_id/2022',\n",
       " 'Bayern Munich': '/fc-bayern-munchen/startseite/verein/27/saison_id/2022',\n",
       " 'Borussia Dortmund': '/borussia-dortmund/startseite/verein/16/saison_id/2022',\n",
       " 'RB Leipzig': '/rasenballsport-leipzig/startseite/verein/23826/saison_id/2022',\n",
       " 'Bayer 04 Leverkusen': '/bayer-04-leverkusen/startseite/verein/15/saison_id/2022',\n",
       " 'Eintracht Frankfurt': '/eintracht-frankfurt/startseite/verein/24/saison_id/2022',\n",
       " 'Borussia Mönchengladbach': '/borussia-monchengladbach/startseite/verein/18/saison_id/2022',\n",
       " 'VfL Wolfsburg': '/vfl-wolfsburg/startseite/verein/82/saison_id/2022',\n",
       " 'SC Freiburg': '/sc-freiburg/startseite/verein/60/saison_id/2022',\n",
       " 'TSG 1899 Hoffenheim': '/tsg-1899-hoffenheim/startseite/verein/533/saison_id/2022',\n",
       " '1.FC Union Berlin': '/1-fc-union-berlin/startseite/verein/89/saison_id/2022',\n",
       " 'FC Augsburg': '/fc-augsburg/startseite/verein/167/saison_id/2022',\n",
       " 'VfB Stuttgart': '/vfb-stuttgart/startseite/verein/79/saison_id/2022',\n",
       " '1.FSV Mainz 05': '/1-fsv-mainz-05/startseite/verein/39/saison_id/2022',\n",
       " '1.FC Köln': '/1-fc-koln/startseite/verein/3/saison_id/2022',\n",
       " 'Hertha BSC': '/hertha-bsc/startseite/verein/44/saison_id/2022',\n",
       " 'SV Werder Bremen': '/sv-werder-bremen/startseite/verein/86/saison_id/2022',\n",
       " 'FC Schalke 04': '/fc-schalke-04/startseite/verein/33/saison_id/2022',\n",
       " 'VfL Bochum': '/vfl-bochum/startseite/verein/80/saison_id/2022',\n",
       " 'SSC Napoli': '/ssc-neapel/startseite/verein/6195/saison_id/2022',\n",
       " 'AC Milan': '/ac-mailand/startseite/verein/5/saison_id/2022',\n",
       " 'Inter Milan': '/inter-mailand/startseite/verein/46/saison_id/2022',\n",
       " 'Juventus FC': '/juventus-turin/startseite/verein/506/saison_id/2022',\n",
       " 'Atalanta BC': '/atalanta-bergamo/startseite/verein/800/saison_id/2022',\n",
       " 'AS Roma': '/as-rom/startseite/verein/12/saison_id/2022',\n",
       " 'SS Lazio': '/lazio-rom/startseite/verein/398/saison_id/2022',\n",
       " 'ACF Fiorentina': '/ac-florenz/startseite/verein/430/saison_id/2022',\n",
       " 'US Sassuolo': '/us-sassuolo/startseite/verein/6574/saison_id/2022',\n",
       " 'Torino FC': '/fc-turin/startseite/verein/416/saison_id/2022',\n",
       " 'Udinese Calcio': '/udinese-calcio/startseite/verein/410/saison_id/2022',\n",
       " 'Bologna FC 1909': '/fc-bologna/startseite/verein/1025/saison_id/2022',\n",
       " 'AC Monza': '/ac-monza/startseite/verein/2919/saison_id/2022',\n",
       " 'FC Empoli': '/fc-empoli/startseite/verein/749/saison_id/2022',\n",
       " 'US Salernitana 1919': '/us-salernitana-1919/startseite/verein/380/saison_id/2022',\n",
       " 'US Lecce': '/us-lecce/startseite/verein/1005/saison_id/2022',\n",
       " 'Spezia Calcio': '/spezia-calcio/startseite/verein/3522/saison_id/2022',\n",
       " 'Hellas Verona': '/hellas-verona/startseite/verein/276/saison_id/2022',\n",
       " 'UC Sampdoria': '/sampdoria-genua/startseite/verein/1038/saison_id/2022',\n",
       " 'US Cremonese': '/us-cremonese/startseite/verein/2239/saison_id/2022',\n",
       " 'Paris Saint-Germain': '/fc-paris-saint-germain/startseite/verein/583/saison_id/2022',\n",
       " 'AS Monaco': '/as-monaco/startseite/verein/162/saison_id/2022',\n",
       " 'Stade Rennais FC': '/fc-stade-rennes/startseite/verein/273/saison_id/2022',\n",
       " 'Olympique Marseille': '/olympique-marseille/startseite/verein/244/saison_id/2022',\n",
       " 'OGC Nice': '/ogc-nizza/startseite/verein/417/saison_id/2022',\n",
       " 'Olympique Lyon': '/olympique-lyon/startseite/verein/1041/saison_id/2022',\n",
       " 'LOSC Lille': '/losc-lille/startseite/verein/1082/saison_id/2022',\n",
       " 'RC Lens': '/rc-lens/startseite/verein/826/saison_id/2022',\n",
       " 'FC Nantes': '/fc-nantes/startseite/verein/995/saison_id/2022',\n",
       " 'Montpellier HSC': '/montpellier-hsc/startseite/verein/969/saison_id/2022',\n",
       " 'RC Strasbourg Alsace': '/rc-strassburg-alsace/startseite/verein/667/saison_id/2022',\n",
       " 'Stade Reims': '/stade-reims/startseite/verein/1421/saison_id/2022',\n",
       " 'FC Lorient': '/fc-lorient/startseite/verein/1158/saison_id/2022',\n",
       " 'FC Toulouse': '/fc-toulouse/startseite/verein/415/saison_id/2022',\n",
       " 'ESTAC Troyes': '/es-troyes-ac/startseite/verein/1095/saison_id/2022',\n",
       " 'Stade Brestois 29': '/stade-brest-29/startseite/verein/3911/saison_id/2022',\n",
       " 'Angers SCO': '/sco-angers/startseite/verein/1420/saison_id/2022',\n",
       " 'AJ Auxerre': '/aj-auxerre/startseite/verein/290/saison_id/2022',\n",
       " 'Clermont Foot 63': '/clermont-foot-63/startseite/verein/3524/saison_id/2022',\n",
       " 'AC Ajaccio': '/ac-ajaccio/startseite/verein/1147/saison_id/2022',\n",
       " 'Real Madrid': '/real-madrid/startseite/verein/418/saison_id/2022',\n",
       " 'FC Barcelona': '/fc-barcelona/startseite/verein/131/saison_id/2022',\n",
       " 'Atlético de Madrid': '/atletico-madrid/startseite/verein/13/saison_id/2022',\n",
       " 'Real Sociedad': '/real-sociedad-san-sebastian/startseite/verein/681/saison_id/2022',\n",
       " 'Villarreal CF': '/fc-villarreal/startseite/verein/1050/saison_id/2022',\n",
       " 'Real Betis Balompié': '/real-betis-sevilla/startseite/verein/150/saison_id/2022',\n",
       " 'Athletic Bilbao': '/athletic-bilbao/startseite/verein/621/saison_id/2022',\n",
       " 'Valencia CF': '/fc-valencia/startseite/verein/1049/saison_id/2022',\n",
       " 'Sevilla FC': '/fc-sevilla/startseite/verein/368/saison_id/2022',\n",
       " 'Celta de Vigo': '/celta-vigo/startseite/verein/940/saison_id/2022',\n",
       " 'Getafe CF': '/fc-getafe/startseite/verein/3709/saison_id/2022',\n",
       " 'CA Osasuna': '/ca-osasuna/startseite/verein/331/saison_id/2022',\n",
       " 'Girona FC': '/fc-girona/startseite/verein/12321/saison_id/2022',\n",
       " 'RCD Espanyol Barcelona': '/espanyol-barcelona/startseite/verein/714/saison_id/2022',\n",
       " 'Rayo Vallecano': '/rayo-vallecano/startseite/verein/367/saison_id/2022',\n",
       " 'RCD Mallorca': '/rcd-mallorca/startseite/verein/237/saison_id/2022',\n",
       " 'UD Almería': '/ud-almeria/startseite/verein/3302/saison_id/2022',\n",
       " 'Real Valladolid CF': '/real-valladolid/startseite/verein/366/saison_id/2022',\n",
       " 'Cádiz CF': '/fc-cadiz/startseite/verein/2687/saison_id/2022',\n",
       " 'Elche CF': '/fc-elche/startseite/verein/1531/saison_id/2022'}"
      ]
     },
     "execution_count": 5,
     "metadata": {},
     "output_type": "execute_result"
    }
   ],
   "source": [
    "print(len(dict(zip(titles,links))))\n",
    "print('*'*50)\n",
    "dict(zip(titles,links))"
   ]
  },
  {
   "cell_type": "code",
   "execution_count": 6,
   "metadata": {},
   "outputs": [],
   "source": [
    "ids = [re.search(r'verein/(.*?)/saison_id', element).group(1) for element in links]\n",
    "link_titles = [re.search(r'(.*?)/startseite', element).group(1) for element in links]"
   ]
  },
  {
   "attachments": {},
   "cell_type": "markdown",
   "metadata": {},
   "source": [
    "# Generating cup pages for every club"
   ]
  },
  {
   "cell_type": "code",
   "execution_count": 7,
   "metadata": {},
   "outputs": [],
   "source": [
    "main_url = 'https://www.transfermarkt.com'\n",
    "extension = '/erfolge/verein/'\n",
    "\n",
    "Victories_page_links = []\n",
    "\n",
    "for i in range(len(links)):\n",
    "    page_link = main_url + link_titles[i] + extension + ids[i]\n",
    "    Victories_page_links.append(page_link)"
   ]
  },
  {
   "cell_type": "code",
   "execution_count": 8,
   "metadata": {},
   "outputs": [
    {
     "data": {
      "text/plain": [
       "['https://www.transfermarkt.com/manchester-city/erfolge/verein/281',\n",
       " 'https://www.transfermarkt.com/fc-chelsea/erfolge/verein/631',\n",
       " 'https://www.transfermarkt.com/fc-arsenal/erfolge/verein/11',\n",
       " 'https://www.transfermarkt.com/fc-liverpool/erfolge/verein/31',\n",
       " 'https://www.transfermarkt.com/manchester-united/erfolge/verein/985',\n",
       " 'https://www.transfermarkt.com/tottenham-hotspur/erfolge/verein/148',\n",
       " 'https://www.transfermarkt.com/newcastle-united/erfolge/verein/762',\n",
       " 'https://www.transfermarkt.com/west-ham-united/erfolge/verein/379',\n",
       " 'https://www.transfermarkt.com/leicester-city/erfolge/verein/1003',\n",
       " 'https://www.transfermarkt.com/aston-villa/erfolge/verein/405',\n",
       " 'https://www.transfermarkt.com/wolverhampton-wanderers/erfolge/verein/543',\n",
       " 'https://www.transfermarkt.com/fc-southampton/erfolge/verein/180',\n",
       " 'https://www.transfermarkt.com/brighton-amp-hove-albion/erfolge/verein/1237',\n",
       " 'https://www.transfermarkt.com/fc-everton/erfolge/verein/29',\n",
       " 'https://www.transfermarkt.com/nottingham-forest/erfolge/verein/703',\n",
       " 'https://www.transfermarkt.com/fc-brentford/erfolge/verein/1148',\n",
       " 'https://www.transfermarkt.com/leeds-united/erfolge/verein/399',\n",
       " 'https://www.transfermarkt.com/crystal-palace/erfolge/verein/873',\n",
       " 'https://www.transfermarkt.com/fc-fulham/erfolge/verein/931',\n",
       " 'https://www.transfermarkt.com/afc-bournemouth/erfolge/verein/989',\n",
       " 'https://www.transfermarkt.com/fc-bayern-munchen/erfolge/verein/27',\n",
       " 'https://www.transfermarkt.com/borussia-dortmund/erfolge/verein/16',\n",
       " 'https://www.transfermarkt.com/rasenballsport-leipzig/erfolge/verein/23826',\n",
       " 'https://www.transfermarkt.com/bayer-04-leverkusen/erfolge/verein/15',\n",
       " 'https://www.transfermarkt.com/eintracht-frankfurt/erfolge/verein/24',\n",
       " 'https://www.transfermarkt.com/borussia-monchengladbach/erfolge/verein/18',\n",
       " 'https://www.transfermarkt.com/vfl-wolfsburg/erfolge/verein/82',\n",
       " 'https://www.transfermarkt.com/sc-freiburg/erfolge/verein/60',\n",
       " 'https://www.transfermarkt.com/tsg-1899-hoffenheim/erfolge/verein/533',\n",
       " 'https://www.transfermarkt.com/1-fc-union-berlin/erfolge/verein/89',\n",
       " 'https://www.transfermarkt.com/fc-augsburg/erfolge/verein/167',\n",
       " 'https://www.transfermarkt.com/vfb-stuttgart/erfolge/verein/79',\n",
       " 'https://www.transfermarkt.com/1-fsv-mainz-05/erfolge/verein/39',\n",
       " 'https://www.transfermarkt.com/1-fc-koln/erfolge/verein/3',\n",
       " 'https://www.transfermarkt.com/hertha-bsc/erfolge/verein/44',\n",
       " 'https://www.transfermarkt.com/sv-werder-bremen/erfolge/verein/86',\n",
       " 'https://www.transfermarkt.com/fc-schalke-04/erfolge/verein/33',\n",
       " 'https://www.transfermarkt.com/vfl-bochum/erfolge/verein/80',\n",
       " 'https://www.transfermarkt.com/ssc-neapel/erfolge/verein/6195',\n",
       " 'https://www.transfermarkt.com/ac-mailand/erfolge/verein/5',\n",
       " 'https://www.transfermarkt.com/inter-mailand/erfolge/verein/46',\n",
       " 'https://www.transfermarkt.com/juventus-turin/erfolge/verein/506',\n",
       " 'https://www.transfermarkt.com/atalanta-bergamo/erfolge/verein/800',\n",
       " 'https://www.transfermarkt.com/as-rom/erfolge/verein/12',\n",
       " 'https://www.transfermarkt.com/lazio-rom/erfolge/verein/398',\n",
       " 'https://www.transfermarkt.com/ac-florenz/erfolge/verein/430',\n",
       " 'https://www.transfermarkt.com/us-sassuolo/erfolge/verein/6574',\n",
       " 'https://www.transfermarkt.com/fc-turin/erfolge/verein/416',\n",
       " 'https://www.transfermarkt.com/udinese-calcio/erfolge/verein/410',\n",
       " 'https://www.transfermarkt.com/fc-bologna/erfolge/verein/1025',\n",
       " 'https://www.transfermarkt.com/ac-monza/erfolge/verein/2919',\n",
       " 'https://www.transfermarkt.com/fc-empoli/erfolge/verein/749',\n",
       " 'https://www.transfermarkt.com/us-salernitana-1919/erfolge/verein/380',\n",
       " 'https://www.transfermarkt.com/us-lecce/erfolge/verein/1005',\n",
       " 'https://www.transfermarkt.com/spezia-calcio/erfolge/verein/3522',\n",
       " 'https://www.transfermarkt.com/hellas-verona/erfolge/verein/276',\n",
       " 'https://www.transfermarkt.com/sampdoria-genua/erfolge/verein/1038',\n",
       " 'https://www.transfermarkt.com/us-cremonese/erfolge/verein/2239',\n",
       " 'https://www.transfermarkt.com/fc-paris-saint-germain/erfolge/verein/583',\n",
       " 'https://www.transfermarkt.com/as-monaco/erfolge/verein/162',\n",
       " 'https://www.transfermarkt.com/fc-stade-rennes/erfolge/verein/273',\n",
       " 'https://www.transfermarkt.com/olympique-marseille/erfolge/verein/244',\n",
       " 'https://www.transfermarkt.com/ogc-nizza/erfolge/verein/417',\n",
       " 'https://www.transfermarkt.com/olympique-lyon/erfolge/verein/1041',\n",
       " 'https://www.transfermarkt.com/losc-lille/erfolge/verein/1082',\n",
       " 'https://www.transfermarkt.com/rc-lens/erfolge/verein/826',\n",
       " 'https://www.transfermarkt.com/fc-nantes/erfolge/verein/995',\n",
       " 'https://www.transfermarkt.com/montpellier-hsc/erfolge/verein/969',\n",
       " 'https://www.transfermarkt.com/rc-strassburg-alsace/erfolge/verein/667',\n",
       " 'https://www.transfermarkt.com/stade-reims/erfolge/verein/1421',\n",
       " 'https://www.transfermarkt.com/fc-lorient/erfolge/verein/1158',\n",
       " 'https://www.transfermarkt.com/fc-toulouse/erfolge/verein/415',\n",
       " 'https://www.transfermarkt.com/es-troyes-ac/erfolge/verein/1095',\n",
       " 'https://www.transfermarkt.com/stade-brest-29/erfolge/verein/3911',\n",
       " 'https://www.transfermarkt.com/sco-angers/erfolge/verein/1420',\n",
       " 'https://www.transfermarkt.com/aj-auxerre/erfolge/verein/290',\n",
       " 'https://www.transfermarkt.com/clermont-foot-63/erfolge/verein/3524',\n",
       " 'https://www.transfermarkt.com/ac-ajaccio/erfolge/verein/1147',\n",
       " 'https://www.transfermarkt.com/real-madrid/erfolge/verein/418',\n",
       " 'https://www.transfermarkt.com/fc-barcelona/erfolge/verein/131',\n",
       " 'https://www.transfermarkt.com/atletico-madrid/erfolge/verein/13',\n",
       " 'https://www.transfermarkt.com/real-sociedad-san-sebastian/erfolge/verein/681',\n",
       " 'https://www.transfermarkt.com/fc-villarreal/erfolge/verein/1050',\n",
       " 'https://www.transfermarkt.com/real-betis-sevilla/erfolge/verein/150',\n",
       " 'https://www.transfermarkt.com/athletic-bilbao/erfolge/verein/621',\n",
       " 'https://www.transfermarkt.com/fc-valencia/erfolge/verein/1049',\n",
       " 'https://www.transfermarkt.com/fc-sevilla/erfolge/verein/368',\n",
       " 'https://www.transfermarkt.com/celta-vigo/erfolge/verein/940',\n",
       " 'https://www.transfermarkt.com/fc-getafe/erfolge/verein/3709',\n",
       " 'https://www.transfermarkt.com/ca-osasuna/erfolge/verein/331',\n",
       " 'https://www.transfermarkt.com/fc-girona/erfolge/verein/12321',\n",
       " 'https://www.transfermarkt.com/espanyol-barcelona/erfolge/verein/714',\n",
       " 'https://www.transfermarkt.com/rayo-vallecano/erfolge/verein/367',\n",
       " 'https://www.transfermarkt.com/rcd-mallorca/erfolge/verein/237',\n",
       " 'https://www.transfermarkt.com/ud-almeria/erfolge/verein/3302',\n",
       " 'https://www.transfermarkt.com/real-valladolid/erfolge/verein/366',\n",
       " 'https://www.transfermarkt.com/fc-cadiz/erfolge/verein/2687',\n",
       " 'https://www.transfermarkt.com/fc-elche/erfolge/verein/1531']"
      ]
     },
     "execution_count": 8,
     "metadata": {},
     "output_type": "execute_result"
    }
   ],
   "source": [
    "Victories_page_links"
   ]
  },
  {
   "cell_type": "code",
   "execution_count": 9,
   "metadata": {},
   "outputs": [
    {
     "data": {
      "text/plain": [
       "98"
      ]
     },
     "execution_count": 9,
     "metadata": {},
     "output_type": "execute_result"
    }
   ],
   "source": [
    "len(Victories_page_links)"
   ]
  },
  {
   "attachments": {},
   "cell_type": "markdown",
   "metadata": {},
   "source": [
    "# Request every cup page"
   ]
  },
  {
   "cell_type": "code",
   "execution_count": 11,
   "metadata": {},
   "outputs": [],
   "source": [
    "soups = []\n",
    "\n",
    "for url in Victories_page_links:\n",
    "    response = requests.get(url=url, headers=headers)\n",
    "    soup = BeautifulSoup(response.content, 'html.parser')\n",
    "    soups.append(soup)\n",
    "    time.sleep(random.random())"
   ]
  },
  {
   "attachments": {},
   "cell_type": "markdown",
   "metadata": {},
   "source": [
    "# Extracting cup tags for each club"
   ]
  },
  {
   "cell_type": "code",
   "execution_count": 12,
   "metadata": {},
   "outputs": [],
   "source": [
    "cup_tags = []\n",
    "for soup in soups:\n",
    "    cup_tags.append(soup.select('div.large-6.columns div.box'))"
   ]
  },
  {
   "cell_type": "code",
   "execution_count": 13,
   "metadata": {},
   "outputs": [],
   "source": [
    "# transforming '16/17' to '2016'\n",
    "def year_transformer(raw_year):\n",
    "    year = raw_year.split('/')[0]\n",
    "    if len(year) == 2:\n",
    "        if int(year) <=22:\n",
    "            return '20' + year\n",
    "        else:\n",
    "            return '19' + year\n",
    "    elif len(year) == 4:\n",
    "        return year"
   ]
  },
  {
   "attachments": {},
   "cell_type": "markdown",
   "metadata": {},
   "source": [
    "# Find all cups for each cup page and club from cup_tags"
   ]
  },
  {
   "cell_type": "code",
   "execution_count": 14,
   "metadata": {},
   "outputs": [],
   "source": [
    "result = []\n",
    "for i, club_tag in enumerate(cup_tags):\n",
    "    country = countries[i]\n",
    "    club_name = titles[i]\n",
    "    club_id = ids[i]\n",
    "    for tag in club_tag:\n",
    "        cup_name = tag.find('img').get('title')\n",
    "        years_part = tag.find('div', class_='erfolg_infotext_box').get_text()\n",
    "        years = [year_transformer(element) for element in years_part.split() if not element.__contains__(',')]\n",
    "        for year in years:\n",
    "            year = int(year)\n",
    "            result.append({'nation': country, 'club_id':club_id, 'club_name':club_name, 'cup_name':cup_name, 'win_year_from':year, 'win_year_to':year+1})\n",
    "    \n"
   ]
  },
  {
   "attachments": {},
   "cell_type": "markdown",
   "metadata": {},
   "source": [
    "# Convert and export results"
   ]
  },
  {
   "cell_type": "code",
   "execution_count": 15,
   "metadata": {},
   "outputs": [],
   "source": [
    "df = pd.DataFrame(result)\n",
    "df.to_csv('cup_winners.csv', index=False)"
   ]
  },
  {
   "cell_type": "code",
   "execution_count": 16,
   "metadata": {},
   "outputs": [
    {
     "data": {
      "text/html": [
       "<div>\n",
       "<style scoped>\n",
       "    .dataframe tbody tr th:only-of-type {\n",
       "        vertical-align: middle;\n",
       "    }\n",
       "\n",
       "    .dataframe tbody tr th {\n",
       "        vertical-align: top;\n",
       "    }\n",
       "\n",
       "    .dataframe thead th {\n",
       "        text-align: right;\n",
       "    }\n",
       "</style>\n",
       "<table border=\"1\" class=\"dataframe\">\n",
       "  <thead>\n",
       "    <tr style=\"text-align: right;\">\n",
       "      <th></th>\n",
       "      <th>nation</th>\n",
       "      <th>club_id</th>\n",
       "      <th>club_name</th>\n",
       "      <th>cup_name</th>\n",
       "      <th>win_year_from</th>\n",
       "      <th>win_year_to</th>\n",
       "    </tr>\n",
       "  </thead>\n",
       "  <tbody>\n",
       "    <tr>\n",
       "      <th>0</th>\n",
       "      <td>England</td>\n",
       "      <td>281</td>\n",
       "      <td>Manchester City</td>\n",
       "      <td>English Champion</td>\n",
       "      <td>2021</td>\n",
       "      <td>2022</td>\n",
       "    </tr>\n",
       "    <tr>\n",
       "      <th>1</th>\n",
       "      <td>England</td>\n",
       "      <td>281</td>\n",
       "      <td>Manchester City</td>\n",
       "      <td>English Champion</td>\n",
       "      <td>2020</td>\n",
       "      <td>2021</td>\n",
       "    </tr>\n",
       "    <tr>\n",
       "      <th>2</th>\n",
       "      <td>England</td>\n",
       "      <td>281</td>\n",
       "      <td>Manchester City</td>\n",
       "      <td>English Champion</td>\n",
       "      <td>2018</td>\n",
       "      <td>2019</td>\n",
       "    </tr>\n",
       "    <tr>\n",
       "      <th>3</th>\n",
       "      <td>England</td>\n",
       "      <td>281</td>\n",
       "      <td>Manchester City</td>\n",
       "      <td>English Champion</td>\n",
       "      <td>2017</td>\n",
       "      <td>2018</td>\n",
       "    </tr>\n",
       "    <tr>\n",
       "      <th>4</th>\n",
       "      <td>England</td>\n",
       "      <td>281</td>\n",
       "      <td>Manchester City</td>\n",
       "      <td>FA Cup Winner</td>\n",
       "      <td>2018</td>\n",
       "      <td>2019</td>\n",
       "    </tr>\n",
       "    <tr>\n",
       "      <th>...</th>\n",
       "      <td>...</td>\n",
       "      <td>...</td>\n",
       "      <td>...</td>\n",
       "      <td>...</td>\n",
       "      <td>...</td>\n",
       "      <td>...</td>\n",
       "    </tr>\n",
       "    <tr>\n",
       "      <th>161</th>\n",
       "      <td>Spain</td>\n",
       "      <td>368</td>\n",
       "      <td>Sevilla FC</td>\n",
       "      <td>Europa League Winner</td>\n",
       "      <td>2015</td>\n",
       "      <td>2016</td>\n",
       "    </tr>\n",
       "    <tr>\n",
       "      <th>162</th>\n",
       "      <td>Spain</td>\n",
       "      <td>331</td>\n",
       "      <td>CA Osasuna</td>\n",
       "      <td>Spanish 2nd tier champion</td>\n",
       "      <td>2018</td>\n",
       "      <td>2019</td>\n",
       "    </tr>\n",
       "    <tr>\n",
       "      <th>163</th>\n",
       "      <td>Spain</td>\n",
       "      <td>714</td>\n",
       "      <td>RCD Espanyol Barcelona</td>\n",
       "      <td>Spanish 2nd tier champion</td>\n",
       "      <td>2020</td>\n",
       "      <td>2021</td>\n",
       "    </tr>\n",
       "    <tr>\n",
       "      <th>164</th>\n",
       "      <td>Spain</td>\n",
       "      <td>367</td>\n",
       "      <td>Rayo Vallecano</td>\n",
       "      <td>Spanish 2nd tier champion</td>\n",
       "      <td>2017</td>\n",
       "      <td>2018</td>\n",
       "    </tr>\n",
       "    <tr>\n",
       "      <th>165</th>\n",
       "      <td>Spain</td>\n",
       "      <td>3302</td>\n",
       "      <td>UD Almería</td>\n",
       "      <td>Spanish 2nd tier champion</td>\n",
       "      <td>2021</td>\n",
       "      <td>2022</td>\n",
       "    </tr>\n",
       "  </tbody>\n",
       "</table>\n",
       "<p>166 rows × 6 columns</p>\n",
       "</div>"
      ],
      "text/plain": [
       "      nation club_id               club_name                   cup_name   \n",
       "0    England     281         Manchester City           English Champion  \\\n",
       "1    England     281         Manchester City           English Champion   \n",
       "2    England     281         Manchester City           English Champion   \n",
       "3    England     281         Manchester City           English Champion   \n",
       "4    England     281         Manchester City              FA Cup Winner   \n",
       "..       ...     ...                     ...                        ...   \n",
       "161    Spain     368              Sevilla FC       Europa League Winner   \n",
       "162    Spain     331              CA Osasuna  Spanish 2nd tier champion   \n",
       "163    Spain     714  RCD Espanyol Barcelona  Spanish 2nd tier champion   \n",
       "164    Spain     367          Rayo Vallecano  Spanish 2nd tier champion   \n",
       "165    Spain    3302              UD Almería  Spanish 2nd tier champion   \n",
       "\n",
       "     win_year_from  win_year_to  \n",
       "0             2021         2022  \n",
       "1             2020         2021  \n",
       "2             2018         2019  \n",
       "3             2017         2018  \n",
       "4             2018         2019  \n",
       "..             ...          ...  \n",
       "161           2015         2016  \n",
       "162           2018         2019  \n",
       "163           2020         2021  \n",
       "164           2017         2018  \n",
       "165           2021         2022  \n",
       "\n",
       "[166 rows x 6 columns]"
      ]
     },
     "execution_count": 16,
     "metadata": {},
     "output_type": "execute_result"
    }
   ],
   "source": [
    "df_selection = df[(df.win_year_from >=2015) & (df.win_year_to<=2022)].reset_index(drop=True)\n",
    "df_selection"
   ]
  },
  {
   "cell_type": "code",
   "execution_count": 17,
   "metadata": {},
   "outputs": [],
   "source": [
    "df_selection.to_csv('cup_winners_selected.csv', index=False)"
   ]
  },
  {
   "cell_type": "code",
   "execution_count": 18,
   "metadata": {},
   "outputs": [
    {
     "name": "stdout",
     "output_type": "stream",
     "text": [
      "[jupytext] Reading cup_crawler.ipynb in format ipynb\n",
      "[jupytext] Writing cup_crawler.py (destination file replaced)\n"
     ]
    }
   ],
   "source": [
    "!jupytext --to py -o cup_crawler.py cup_crawler.ipynb"
   ]
  }
 ],
 "metadata": {
  "kernelspec": {
   "display_name": "env_bootcamp_conda",
   "language": "python",
   "name": "python3"
  },
  "language_info": {
   "codemirror_mode": {
    "name": "ipython",
    "version": 3
   },
   "file_extension": ".py",
   "mimetype": "text/x-python",
   "name": "python",
   "nbconvert_exporter": "python",
   "pygments_lexer": "ipython3",
   "version": "3.9.0"
  },
  "orig_nbformat": 4
 },
 "nbformat": 4,
 "nbformat_minor": 2
}
