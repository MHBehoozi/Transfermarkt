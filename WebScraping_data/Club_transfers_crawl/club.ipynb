{
  "cells": [
    {
      "attachments": {},
      "cell_type": "markdown",
      "metadata": {
        "id": "mqQ7S683wyHr"
      },
      "source": [
        "# Club ID"
      ]
    },
    {
      "cell_type": "code",
      "execution_count": 1,
      "metadata": {
        "id": "ZpDiVHs7w34k"
      },
      "outputs": [],
      "source": [
        "import pandas as pd\n",
        "import numpy as np\n",
        "from bs4 import BeautifulSoup\n",
        "import requests "
      ]
    },
    {
      "cell_type": "code",
      "execution_count": 3,
      "metadata": {
        "id": "mqMECoRFxhiq"
      },
      "outputs": [],
      "source": [
        "headers = {'User-Agent': 'Mozilla/5.0 (Windows NT 10.0; Win64; x64) AppleWebKit/537.36 (KHTML, like Gecko) Chrome/96.0.4664.93 Safari/537.36',\n",
        "           \"Accept-Language\": \"en-US,en;q=0.5\"}"
      ]
    },
    {
      "cell_type": "code",
      "execution_count": 6,
      "metadata": {
        "id": "mumpBf1rw1Rg"
      },
      "outputs": [],
      "source": [
        "links=[]\n",
        "clubs=[]\n",
        "ids=[]\n",
        "years=np.arange(2015,2022) \n",
        "url_england='https://www.transfermarkt.com/premier-league/startseite/wettbewerb/GB1'\n",
        "\n",
        "for year in years:\n",
        "    \n",
        "    url=url_england +'/plus/?saison_id='+str(year)\n",
        "    main_page=requests.get(url,headers=headers)\n",
        "    soup = BeautifulSoup(main_page.content, 'html.parser')\n",
        "    table=soup.find('table',attrs={'class':'items'})\n",
        "    trs=table.find_all('tr') \n",
        "    for tr in trs[2:]:\n",
        "        td=tr.find('td',attrs={'class':'hauptlink no-border-links'}).find('a', href=True)\n",
        "        link='https://www.transfermarkt.com'+ td['href']\n",
        "        name=td['title']\n",
        "        links.append(link)  \n",
        "        id=link.split('https://www.transfermarkt.com/')[1].split('/')[3] \n",
        "        if name not in clubs:\n",
        "            clubs.append(name)\n",
        "            ids.append(id)"
      ]
    },
    {
      "cell_type": "code",
      "execution_count": 7,
      "metadata": {
        "colab": {
          "base_uri": "https://localhost:8080/"
        },
        "id": "SxZWcq5txycN",
        "outputId": "6491081e-2e4d-4be6-92df-52d58336d644"
      },
      "outputs": [
        {
          "data": {
            "text/plain": [
              "(31, 2)"
            ]
          },
          "execution_count": 7,
          "metadata": {},
          "output_type": "execute_result"
        }
      ],
      "source": [
        "clubs_id={}\n",
        "clubs_id['Club']=clubs\n",
        "clubs_id['id']=ids\n",
        "df=pd.DataFrame(data=clubs_id) \n",
        "df.shape"
      ]
    },
    {
      "cell_type": "code",
      "execution_count": 8,
      "metadata": {
        "colab": {
          "base_uri": "https://localhost:8080/",
          "height": 206
        },
        "id": "eIdHLEeWx0JD",
        "outputId": "8b8d303c-dc66-42f3-b7f4-7099697c3dc3"
      },
      "outputs": [
        {
          "data": {
            "text/html": [
              "\n",
              "  <div id=\"df-aade1271-e6e9-4c1f-94d5-a27d809f21b5\">\n",
              "    <div class=\"colab-df-container\">\n",
              "      <div>\n",
              "<style scoped>\n",
              "    .dataframe tbody tr th:only-of-type {\n",
              "        vertical-align: middle;\n",
              "    }\n",
              "\n",
              "    .dataframe tbody tr th {\n",
              "        vertical-align: top;\n",
              "    }\n",
              "\n",
              "    .dataframe thead th {\n",
              "        text-align: right;\n",
              "    }\n",
              "</style>\n",
              "<table border=\"1\" class=\"dataframe\">\n",
              "  <thead>\n",
              "    <tr style=\"text-align: right;\">\n",
              "      <th></th>\n",
              "      <th>Club</th>\n",
              "      <th>id</th>\n",
              "    </tr>\n",
              "  </thead>\n",
              "  <tbody>\n",
              "    <tr>\n",
              "      <th>0</th>\n",
              "      <td>Chelsea FC</td>\n",
              "      <td>631</td>\n",
              "    </tr>\n",
              "    <tr>\n",
              "      <th>1</th>\n",
              "      <td>Manchester City</td>\n",
              "      <td>281</td>\n",
              "    </tr>\n",
              "    <tr>\n",
              "      <th>2</th>\n",
              "      <td>Arsenal FC</td>\n",
              "      <td>11</td>\n",
              "    </tr>\n",
              "    <tr>\n",
              "      <th>3</th>\n",
              "      <td>Manchester United</td>\n",
              "      <td>985</td>\n",
              "    </tr>\n",
              "    <tr>\n",
              "      <th>4</th>\n",
              "      <td>Liverpool FC</td>\n",
              "      <td>31</td>\n",
              "    </tr>\n",
              "  </tbody>\n",
              "</table>\n",
              "</div>\n",
              "      <button class=\"colab-df-convert\" onclick=\"convertToInteractive('df-aade1271-e6e9-4c1f-94d5-a27d809f21b5')\"\n",
              "              title=\"Convert this dataframe to an interactive table.\"\n",
              "              style=\"display:none;\">\n",
              "        \n",
              "  <svg xmlns=\"http://www.w3.org/2000/svg\" height=\"24px\"viewBox=\"0 0 24 24\"\n",
              "       width=\"24px\">\n",
              "    <path d=\"M0 0h24v24H0V0z\" fill=\"none\"/>\n",
              "    <path d=\"M18.56 5.44l.94 2.06.94-2.06 2.06-.94-2.06-.94-.94-2.06-.94 2.06-2.06.94zm-11 1L8.5 8.5l.94-2.06 2.06-.94-2.06-.94L8.5 2.5l-.94 2.06-2.06.94zm10 10l.94 2.06.94-2.06 2.06-.94-2.06-.94-.94-2.06-.94 2.06-2.06.94z\"/><path d=\"M17.41 7.96l-1.37-1.37c-.4-.4-.92-.59-1.43-.59-.52 0-1.04.2-1.43.59L10.3 9.45l-7.72 7.72c-.78.78-.78 2.05 0 2.83L4 21.41c.39.39.9.59 1.41.59.51 0 1.02-.2 1.41-.59l7.78-7.78 2.81-2.81c.8-.78.8-2.07 0-2.86zM5.41 20L4 18.59l7.72-7.72 1.47 1.35L5.41 20z\"/>\n",
              "  </svg>\n",
              "      </button>\n",
              "      \n",
              "  <style>\n",
              "    .colab-df-container {\n",
              "      display:flex;\n",
              "      flex-wrap:wrap;\n",
              "      gap: 12px;\n",
              "    }\n",
              "\n",
              "    .colab-df-convert {\n",
              "      background-color: #E8F0FE;\n",
              "      border: none;\n",
              "      border-radius: 50%;\n",
              "      cursor: pointer;\n",
              "      display: none;\n",
              "      fill: #1967D2;\n",
              "      height: 32px;\n",
              "      padding: 0 0 0 0;\n",
              "      width: 32px;\n",
              "    }\n",
              "\n",
              "    .colab-df-convert:hover {\n",
              "      background-color: #E2EBFA;\n",
              "      box-shadow: 0px 1px 2px rgba(60, 64, 67, 0.3), 0px 1px 3px 1px rgba(60, 64, 67, 0.15);\n",
              "      fill: #174EA6;\n",
              "    }\n",
              "\n",
              "    [theme=dark] .colab-df-convert {\n",
              "      background-color: #3B4455;\n",
              "      fill: #D2E3FC;\n",
              "    }\n",
              "\n",
              "    [theme=dark] .colab-df-convert:hover {\n",
              "      background-color: #434B5C;\n",
              "      box-shadow: 0px 1px 3px 1px rgba(0, 0, 0, 0.15);\n",
              "      filter: drop-shadow(0px 1px 2px rgba(0, 0, 0, 0.3));\n",
              "      fill: #FFFFFF;\n",
              "    }\n",
              "  </style>\n",
              "\n",
              "      <script>\n",
              "        const buttonEl =\n",
              "          document.querySelector('#df-aade1271-e6e9-4c1f-94d5-a27d809f21b5 button.colab-df-convert');\n",
              "        buttonEl.style.display =\n",
              "          google.colab.kernel.accessAllowed ? 'block' : 'none';\n",
              "\n",
              "        async function convertToInteractive(key) {\n",
              "          const element = document.querySelector('#df-aade1271-e6e9-4c1f-94d5-a27d809f21b5');\n",
              "          const dataTable =\n",
              "            await google.colab.kernel.invokeFunction('convertToInteractive',\n",
              "                                                     [key], {});\n",
              "          if (!dataTable) return;\n",
              "\n",
              "          const docLinkHtml = 'Like what you see? Visit the ' +\n",
              "            '<a target=\"_blank\" href=https://colab.research.google.com/notebooks/data_table.ipynb>data table notebook</a>'\n",
              "            + ' to learn more about interactive tables.';\n",
              "          element.innerHTML = '';\n",
              "          dataTable['output_type'] = 'display_data';\n",
              "          await google.colab.output.renderOutput(dataTable, element);\n",
              "          const docLink = document.createElement('div');\n",
              "          docLink.innerHTML = docLinkHtml;\n",
              "          element.appendChild(docLink);\n",
              "        }\n",
              "      </script>\n",
              "    </div>\n",
              "  </div>\n",
              "  "
            ],
            "text/plain": [
              "                Club   id\n",
              "0         Chelsea FC  631\n",
              "1    Manchester City  281\n",
              "2         Arsenal FC   11\n",
              "3  Manchester United  985\n",
              "4       Liverpool FC   31"
            ]
          },
          "execution_count": 8,
          "metadata": {},
          "output_type": "execute_result"
        }
      ],
      "source": [
        "df.head()"
      ]
    },
    {
      "attachments": {},
      "cell_type": "markdown",
      "metadata": {
        "id": "eKcl62qxx7qt"
      },
      "source": [
        "# Income"
      ]
    },
    {
      "cell_type": "code",
      "execution_count": 11,
      "metadata": {
        "colab": {
          "base_uri": "https://localhost:8080/",
          "height": 36
        },
        "id": "9WrVRt6A0Heb",
        "outputId": "7ccfa584-ed93-466e-c8da-93a342d63d9c"
      },
      "outputs": [
        {
          "data": {
            "application/vnd.google.colaboratory.intrinsic+json": {
              "type": "string"
            },
            "text/plain": [
              "'https://www.transfermarkt.com/fc-chelsea/startseite/verein/631/saison_id/2015'"
            ]
          },
          "execution_count": 11,
          "metadata": {},
          "output_type": "execute_result"
        }
      ],
      "source": [
        "links[0]"
      ]
    },
    {
      "cell_type": "code",
      "execution_count": 14,
      "metadata": {
        "id": "6NG8DPc4zu0n"
      },
      "outputs": [],
      "source": [
        "main_page=requests.get(links[0],headers=headers)\n",
        "soup = BeautifulSoup(main_page.content, 'html.parser')\n",
        "transfer_record_box=soup.find_all('div', attrs={'data-viewport':'Transferbilanz'})[0] "
      ]
    },
    {
      "cell_type": "code",
      "execution_count": 22,
      "metadata": {
        "id": "ec9kPZFO0dpf"
      },
      "outputs": [],
      "source": [
        "income_td=transfer_record_box.find('table').find('tbody').find('tr',attrs={'class':'transfer-record__revenue'})"
      ]
    },
    {
      "cell_type": "code",
      "execution_count": 24,
      "metadata": {
        "colab": {
          "base_uri": "https://localhost:8080/",
          "height": 36
        },
        "id": "gW1HLUfb1qs9",
        "outputId": "3189a311-dcb4-49ba-df99-9dc4d0fc8617"
      },
      "outputs": [
        {
          "data": {
            "application/vnd.google.colaboratory.intrinsic+json": {
              "type": "string"
            },
            "text/plain": [
              "'32'"
            ]
          },
          "execution_count": 24,
          "metadata": {},
          "output_type": "execute_result"
        }
      ],
      "source": [
        "income_arrival=income_td.find('td',attrs={'class':'zentriert test-class transfer-record__text'}).text\n",
        "income_arrival"
      ]
    },
    {
      "cell_type": "code",
      "execution_count": 30,
      "metadata": {
        "colab": {
          "base_uri": "https://localhost:8080/",
          "height": 36
        },
        "id": "ICRZwduK2DE3",
        "outputId": "11daffe5-77af-46de-d728-53d917417ff9"
      },
      "outputs": [
        {
          "data": {
            "application/vnd.google.colaboratory.intrinsic+json": {
              "type": "string"
            },
            "text/plain": [
              "'€87.49m '"
            ]
          },
          "execution_count": 30,
          "metadata": {},
          "output_type": "execute_result"
        }
      ],
      "source": [
        "income=income_td.find('td',attrs={'class':'transfer-record__total transfer-record__total--positive'}).text.split('\\n')[1]\n",
        "income"
      ]
    },
    {
      "cell_type": "code",
      "execution_count": 34,
      "metadata": {
        "colab": {
          "base_uri": "https://localhost:8080/",
          "height": 36
        },
        "id": "l6pWyHyx1uXh",
        "outputId": "2888b951-9fbb-4ee3-c43a-fc3fc422a589"
      },
      "outputs": [
        {
          "data": {
            "application/vnd.google.colaboratory.intrinsic+json": {
              "type": "string"
            },
            "text/plain": [
              "'37'"
            ]
          },
          "execution_count": 34,
          "metadata": {},
          "output_type": "execute_result"
        }
      ],
      "source": [
        "expend_td=transfer_record_box.find('table').find('tbody').find('tr',attrs={'class':'transfer-record__expenses'})\n",
        "expend_arrival=expend_td.find('td',attrs={'class':'zentriert transfer-record__text'}).text\n",
        "expend_arrival"
      ]
    },
    {
      "cell_type": "code",
      "execution_count": 36,
      "metadata": {
        "colab": {
          "base_uri": "https://localhost:8080/",
          "height": 36
        },
        "id": "kWsNtMoS3lyA",
        "outputId": "ec7e2baf-e09b-4376-d3d0-ead1d8a5fdb0"
      },
      "outputs": [
        {
          "data": {
            "application/vnd.google.colaboratory.intrinsic+json": {
              "type": "string"
            },
            "text/plain": [
              "'€96.50m '"
            ]
          },
          "execution_count": 36,
          "metadata": {},
          "output_type": "execute_result"
        }
      ],
      "source": [
        "expend=expend_td.find('td',attrs={'class':'transfer-record__total transfer-record__total--negative'}).text.split('\\n')[1]\n",
        "expend"
      ]
    },
    {
      "cell_type": "code",
      "execution_count": 50,
      "metadata": {
        "colab": {
          "base_uri": "https://localhost:8080/",
          "height": 36
        },
        "id": "05txbUeR4Erp",
        "outputId": "734e6b4e-261c-4388-9d01-b81fb985abc8"
      },
      "outputs": [
        {
          "data": {
            "application/vnd.google.colaboratory.intrinsic+json": {
              "type": "string"
            },
            "text/plain": [
              "'€-9.01m '"
            ]
          },
          "execution_count": 50,
          "metadata": {},
          "output_type": "execute_result"
        }
      ],
      "source": [
        "overall_td=transfer_record_box.find('table').find('tfoot').find('tr').find('td',attrs={'class':'redtext rechts transfer-record__total'}).text.split('\\n')[1]\n",
        "overall_td "
      ]
    },
    {
      "attachments": {},
      "cell_type": "markdown",
      "metadata": {
        "id": "iYDQjnE9zNy-"
      },
      "source": [
        "# Coach Information"
      ]
    },
    {
      "cell_type": "code",
      "execution_count": 65,
      "metadata": {
        "id": "10FK6MKSx3LJ"
      },
      "outputs": [],
      "source": [
        "box=soup.find_all('div', attrs={'data-viewport':'Mitarbeiter_Historie'})[0] \n",
        "name=box.find('ul').find('li').find('div',attrs={'class':'container-main'}).find('a').text \n",
        "date=box.find('ul').find('li').find('div',attrs={'class':'container-tenure'}).text\n",
        "start_date=date.split('\\xa0–\\xa0')[0].rstrip().lstrip()\n",
        "end_date=date.split('\\xa0–\\xa0')[1].rstrip().lstrip()"
      ]
    },
    {
      "cell_type": "code",
      "execution_count": 66,
      "metadata": {
        "colab": {
          "base_uri": "https://localhost:8080/",
          "height": 36
        },
        "id": "r778b7HZ5vuN",
        "outputId": "fcbe8812-5b0f-47ce-8403-a5bcbf221586"
      },
      "outputs": [
        {
          "data": {
            "application/vnd.google.colaboratory.intrinsic+json": {
              "type": "string"
            },
            "text/plain": [
              "'Jul 1, 2013'"
            ]
          },
          "execution_count": 66,
          "metadata": {},
          "output_type": "execute_result"
        }
      ],
      "source": [
        "start_date"
      ]
    },
    {
      "cell_type": "code",
      "execution_count": 67,
      "metadata": {
        "colab": {
          "base_uri": "https://localhost:8080/",
          "height": 36
        },
        "id": "jOvnmH2b51Dm",
        "outputId": "956af5ea-2285-454f-adbd-9fb69c265d08"
      },
      "outputs": [
        {
          "data": {
            "application/vnd.google.colaboratory.intrinsic+json": {
              "type": "string"
            },
            "text/plain": [
              "'Dec 17, 2015'"
            ]
          },
          "execution_count": 67,
          "metadata": {},
          "output_type": "execute_result"
        }
      ],
      "source": [
        "end_date"
      ]
    },
    {
      "attachments": {},
      "cell_type": "markdown",
      "metadata": {
        "id": "-5l5oB2r6v6N"
      },
      "source": [
        "# Loop"
      ]
    },
    {
      "cell_type": "code",
      "execution_count": 108,
      "metadata": {
        "id": "OKes0SDn6ugj"
      },
      "outputs": [],
      "source": [
        "links=[]\n",
        "clubs=[]\n",
        "ids=[]\n",
        "seasons=[]\n",
        "income_arrivals=[]\n",
        "incomes=[]\n",
        "overall_balance=[]\n",
        "expend_arrivals=[]\n",
        "expends=[]\n",
        "years=np.arange(2015,2022) \n",
        "url_england='https://www.transfermarkt.com/premier-league/startseite/wettbewerb/GB1'\n",
        "\n",
        "for year in years:\n",
        "  \n",
        "    url=url_england +'/plus/?saison_id='+str(year)\n",
        "    main_page=requests.get(url,headers=headers)\n",
        "    soup = BeautifulSoup(main_page.content, 'html.parser') \n",
        "    table=soup.find('table',attrs={'class':'items'})\n",
        "    trs=table.find_all('tr') \n",
        "    for tr in trs[2:]:\n",
        "        td=tr.find('td',attrs={'class':'hauptlink no-border-links'}).find('a', href=True)\n",
        "        link='https://www.transfermarkt.com'+ td['href']\n",
        "        name=td['title']\n",
        "        links.append(link)  \n",
        "        id=link.split('https://www.transfermarkt.com/')[1].split('/')[3] \n",
        "        clubs.append(name)\n",
        "        ids.append(id) \n",
        "        seasons.append(year)\n",
        "      \n",
        "        #tranfer table \n",
        "        page=requests.get(link,headers=headers)\n",
        "        soup = BeautifulSoup(page.content, 'html.parser') \n",
        "        transfer_record_box=soup.find_all('div', attrs={'data-viewport':'Transferbilanz'})[0] \n",
        "        income_td=transfer_record_box.find('table').find('tbody').find('tr',attrs={'class':'transfer-record__revenue'})\n",
        "        income_arrival=income_td.find('td',attrs={'class':'zentriert test-class transfer-record__text'}).text\n",
        "        income_arrivals.append(income_arrival)\n",
        "\n",
        "        income=income_td.find('td',attrs={'class':'transfer-record__total transfer-record__total--positive'}).text.split('\\n')[1].rstrip().lstrip()\n",
        "        incomes.append(income) \n",
        "\n",
        "\n",
        "        expend_td=transfer_record_box.find('table').find('tbody').find('tr',attrs={'class':'transfer-record__expenses'})\n",
        "        expend_arrival=expend_td.find('td',attrs={'class':'zentriert transfer-record__text'}).text \n",
        "        expend_arrivals.append(expend_arrival)\n",
        "\n",
        "\n",
        "        expend=expend_td.find('td',attrs={'class':'transfer-record__total transfer-record__total--negative'}).text.split('\\n')[1]\n",
        "        expends.append(expend)\n",
        "        try:\n",
        "            overall_td=transfer_record_box.find('table').find('tfoot').find('tr').find('td',attrs={'class':'redtext rechts transfer-record__total'}).text.replace('\\n','')\n",
        "        except:\n",
        "            overall_td=transfer_record_box.find('table').find('tfoot').find('tr').find('td',attrs={'greentext rechts transfer-record__total'}).text.rstrip().lstrip().replace('+','')\n",
        "        overall_balance.append(overall_td) "
      ]
    },
    {
      "cell_type": "code",
      "execution_count": 109,
      "metadata": {
        "colab": {
          "base_uri": "https://localhost:8080/"
        },
        "id": "KytmYHgTCggX",
        "outputId": "f1ea25a4-0eec-4048-9947-ba8487b6e337"
      },
      "outputs": [
        {
          "data": {
            "text/plain": [
              "140"
            ]
          },
          "execution_count": 109,
          "metadata": {},
          "output_type": "execute_result"
        }
      ],
      "source": [
        "len(overall_balance) "
      ]
    },
    {
      "cell_type": "code",
      "execution_count": 110,
      "metadata": {
        "colab": {
          "base_uri": "https://localhost:8080/"
        },
        "id": "8BdvFnutCmHo",
        "outputId": "e3309da5-afaf-4684-94f9-f051f8b8cd51"
      },
      "outputs": [
        {
          "data": {
            "text/plain": [
              "140"
            ]
          },
          "execution_count": 110,
          "metadata": {},
          "output_type": "execute_result"
        }
      ],
      "source": [
        "len(incomes)"
      ]
    },
    {
      "cell_type": "code",
      "execution_count": 111,
      "metadata": {
        "colab": {
          "base_uri": "https://localhost:8080/"
        },
        "id": "b5nQXazODF1A",
        "outputId": "8ec76dce-b47d-4b87-df25-de6751071847"
      },
      "outputs": [
        {
          "data": {
            "text/plain": [
              "140"
            ]
          },
          "execution_count": 111,
          "metadata": {},
          "output_type": "execute_result"
        }
      ],
      "source": [
        "len(expends) "
      ]
    },
    {
      "cell_type": "code",
      "execution_count": 112,
      "metadata": {
        "colab": {
          "base_uri": "https://localhost:8080/"
        },
        "id": "Uw-ApByiELSU",
        "outputId": "509baf11-3dcb-4b4e-a6dd-babfcf5c4d57"
      },
      "outputs": [
        {
          "data": {
            "text/plain": [
              "140"
            ]
          },
          "execution_count": 112,
          "metadata": {},
          "output_type": "execute_result"
        }
      ],
      "source": [
        "len(expend_arrivals)"
      ]
    },
    {
      "cell_type": "code",
      "execution_count": 113,
      "metadata": {
        "colab": {
          "base_uri": "https://localhost:8080/"
        },
        "id": "FSZNG5fx7NBT",
        "outputId": "a78fc730-9d07-4094-f17a-b7bd082cabd4"
      },
      "outputs": [
        {
          "data": {
            "text/plain": [
              "(140, 8)"
            ]
          },
          "execution_count": 113,
          "metadata": {},
          "output_type": "execute_result"
        }
      ],
      "source": [
        "clubs_id={}\n",
        "clubs_id['Club']=clubs\n",
        "clubs_id['id']=ids\n",
        "clubs_id['Season']=seasons\n",
        "clubs_id['income']=incomes \n",
        "clubs_id['expend']=expends\n",
        "clubs_id['overall_balance']=overall_balance\n",
        "clubs_id['income_arrival']=income_arrivals\n",
        "clubs_id['expend_arrival']=expend_arrivals\n",
        "df=pd.DataFrame(data=clubs_id) \n",
        "df.shape"
      ]
    },
    {
      "cell_type": "code",
      "execution_count": 114,
      "metadata": {
        "colab": {
          "base_uri": "https://localhost:8080/",
          "height": 423
        },
        "id": "BYNo3tOv7wml",
        "outputId": "2ac8947e-73d5-4c70-e4ce-396f6104d921"
      },
      "outputs": [
        {
          "data": {
            "text/html": [
              "\n",
              "  <div id=\"df-2de63cce-a2ed-44b5-b9d8-14ed5017d3a9\">\n",
              "    <div class=\"colab-df-container\">\n",
              "      <div>\n",
              "<style scoped>\n",
              "    .dataframe tbody tr th:only-of-type {\n",
              "        vertical-align: middle;\n",
              "    }\n",
              "\n",
              "    .dataframe tbody tr th {\n",
              "        vertical-align: top;\n",
              "    }\n",
              "\n",
              "    .dataframe thead th {\n",
              "        text-align: right;\n",
              "    }\n",
              "</style>\n",
              "<table border=\"1\" class=\"dataframe\">\n",
              "  <thead>\n",
              "    <tr style=\"text-align: right;\">\n",
              "      <th></th>\n",
              "      <th>Club</th>\n",
              "      <th>id</th>\n",
              "      <th>Season</th>\n",
              "      <th>income</th>\n",
              "      <th>expend</th>\n",
              "      <th>overall_balance</th>\n",
              "      <th>income_arrival</th>\n",
              "      <th>expend_arrival</th>\n",
              "    </tr>\n",
              "  </thead>\n",
              "  <tbody>\n",
              "    <tr>\n",
              "      <th>0</th>\n",
              "      <td>Chelsea FC</td>\n",
              "      <td>631</td>\n",
              "      <td>2015</td>\n",
              "      <td>€87.49m</td>\n",
              "      <td>€96.50m</td>\n",
              "      <td>€-9.01m</td>\n",
              "      <td>32</td>\n",
              "      <td>37</td>\n",
              "    </tr>\n",
              "    <tr>\n",
              "      <th>1</th>\n",
              "      <td>Manchester City</td>\n",
              "      <td>281</td>\n",
              "      <td>2015</td>\n",
              "      <td>€67.44m</td>\n",
              "      <td>€208.47m</td>\n",
              "      <td>€-141.03m</td>\n",
              "      <td>23</td>\n",
              "      <td>20</td>\n",
              "    </tr>\n",
              "    <tr>\n",
              "      <th>2</th>\n",
              "      <td>Arsenal FC</td>\n",
              "      <td>11</td>\n",
              "      <td>2015</td>\n",
              "      <td>€2.50m</td>\n",
              "      <td>€26.50m</td>\n",
              "      <td>€-24.00m</td>\n",
              "      <td>11</td>\n",
              "      <td>13</td>\n",
              "    </tr>\n",
              "    <tr>\n",
              "      <th>3</th>\n",
              "      <td>Manchester United</td>\n",
              "      <td>985</td>\n",
              "      <td>2015</td>\n",
              "      <td>€100.67m</td>\n",
              "      <td>€156.00m</td>\n",
              "      <td>€-55.33m</td>\n",
              "      <td>20</td>\n",
              "      <td>22</td>\n",
              "    </tr>\n",
              "    <tr>\n",
              "      <th>4</th>\n",
              "      <td>Liverpool FC</td>\n",
              "      <td>31</td>\n",
              "      <td>2015</td>\n",
              "      <td>€90.55m</td>\n",
              "      <td>€126.50m</td>\n",
              "      <td>€-35.95m</td>\n",
              "      <td>24</td>\n",
              "      <td>23</td>\n",
              "    </tr>\n",
              "    <tr>\n",
              "      <th>...</th>\n",
              "      <td>...</td>\n",
              "      <td>...</td>\n",
              "      <td>...</td>\n",
              "      <td>...</td>\n",
              "      <td>...</td>\n",
              "      <td>...</td>\n",
              "      <td>...</td>\n",
              "      <td>...</td>\n",
              "    </tr>\n",
              "    <tr>\n",
              "      <th>135</th>\n",
              "      <td>Brentford FC</td>\n",
              "      <td>1148</td>\n",
              "      <td>2021</td>\n",
              "      <td>€1.00m</td>\n",
              "      <td>€36.70m</td>\n",
              "      <td>€-35.70m</td>\n",
              "      <td>13</td>\n",
              "      <td>17</td>\n",
              "    </tr>\n",
              "    <tr>\n",
              "      <th>136</th>\n",
              "      <td>Crystal Palace</td>\n",
              "      <td>873</td>\n",
              "      <td>2021</td>\n",
              "      <td>0</td>\n",
              "      <td>€85.62m</td>\n",
              "      <td>€-85.62m</td>\n",
              "      <td>15</td>\n",
              "      <td>11</td>\n",
              "    </tr>\n",
              "    <tr>\n",
              "      <th>137</th>\n",
              "      <td>Norwich City</td>\n",
              "      <td>1123</td>\n",
              "      <td>2021</td>\n",
              "      <td>€38.40m</td>\n",
              "      <td>€63.55m</td>\n",
              "      <td>€-25.15m</td>\n",
              "      <td>27</td>\n",
              "      <td>30</td>\n",
              "    </tr>\n",
              "    <tr>\n",
              "      <th>138</th>\n",
              "      <td>Watford FC</td>\n",
              "      <td>1010</td>\n",
              "      <td>2021</td>\n",
              "      <td>€12.85m</td>\n",
              "      <td>€43.50m</td>\n",
              "      <td>€-30.65m</td>\n",
              "      <td>27</td>\n",
              "      <td>28</td>\n",
              "    </tr>\n",
              "    <tr>\n",
              "      <th>139</th>\n",
              "      <td>Burnley FC</td>\n",
              "      <td>1132</td>\n",
              "      <td>2021</td>\n",
              "      <td>€40.50m</td>\n",
              "      <td>€49.40m</td>\n",
              "      <td>€-8.90m</td>\n",
              "      <td>6</td>\n",
              "      <td>8</td>\n",
              "    </tr>\n",
              "  </tbody>\n",
              "</table>\n",
              "<p>140 rows × 8 columns</p>\n",
              "</div>\n",
              "      <button class=\"colab-df-convert\" onclick=\"convertToInteractive('df-2de63cce-a2ed-44b5-b9d8-14ed5017d3a9')\"\n",
              "              title=\"Convert this dataframe to an interactive table.\"\n",
              "              style=\"display:none;\">\n",
              "        \n",
              "  <svg xmlns=\"http://www.w3.org/2000/svg\" height=\"24px\"viewBox=\"0 0 24 24\"\n",
              "       width=\"24px\">\n",
              "    <path d=\"M0 0h24v24H0V0z\" fill=\"none\"/>\n",
              "    <path d=\"M18.56 5.44l.94 2.06.94-2.06 2.06-.94-2.06-.94-.94-2.06-.94 2.06-2.06.94zm-11 1L8.5 8.5l.94-2.06 2.06-.94-2.06-.94L8.5 2.5l-.94 2.06-2.06.94zm10 10l.94 2.06.94-2.06 2.06-.94-2.06-.94-.94-2.06-.94 2.06-2.06.94z\"/><path d=\"M17.41 7.96l-1.37-1.37c-.4-.4-.92-.59-1.43-.59-.52 0-1.04.2-1.43.59L10.3 9.45l-7.72 7.72c-.78.78-.78 2.05 0 2.83L4 21.41c.39.39.9.59 1.41.59.51 0 1.02-.2 1.41-.59l7.78-7.78 2.81-2.81c.8-.78.8-2.07 0-2.86zM5.41 20L4 18.59l7.72-7.72 1.47 1.35L5.41 20z\"/>\n",
              "  </svg>\n",
              "      </button>\n",
              "      \n",
              "  <style>\n",
              "    .colab-df-container {\n",
              "      display:flex;\n",
              "      flex-wrap:wrap;\n",
              "      gap: 12px;\n",
              "    }\n",
              "\n",
              "    .colab-df-convert {\n",
              "      background-color: #E8F0FE;\n",
              "      border: none;\n",
              "      border-radius: 50%;\n",
              "      cursor: pointer;\n",
              "      display: none;\n",
              "      fill: #1967D2;\n",
              "      height: 32px;\n",
              "      padding: 0 0 0 0;\n",
              "      width: 32px;\n",
              "    }\n",
              "\n",
              "    .colab-df-convert:hover {\n",
              "      background-color: #E2EBFA;\n",
              "      box-shadow: 0px 1px 2px rgba(60, 64, 67, 0.3), 0px 1px 3px 1px rgba(60, 64, 67, 0.15);\n",
              "      fill: #174EA6;\n",
              "    }\n",
              "\n",
              "    [theme=dark] .colab-df-convert {\n",
              "      background-color: #3B4455;\n",
              "      fill: #D2E3FC;\n",
              "    }\n",
              "\n",
              "    [theme=dark] .colab-df-convert:hover {\n",
              "      background-color: #434B5C;\n",
              "      box-shadow: 0px 1px 3px 1px rgba(0, 0, 0, 0.15);\n",
              "      filter: drop-shadow(0px 1px 2px rgba(0, 0, 0, 0.3));\n",
              "      fill: #FFFFFF;\n",
              "    }\n",
              "  </style>\n",
              "\n",
              "      <script>\n",
              "        const buttonEl =\n",
              "          document.querySelector('#df-2de63cce-a2ed-44b5-b9d8-14ed5017d3a9 button.colab-df-convert');\n",
              "        buttonEl.style.display =\n",
              "          google.colab.kernel.accessAllowed ? 'block' : 'none';\n",
              "\n",
              "        async function convertToInteractive(key) {\n",
              "          const element = document.querySelector('#df-2de63cce-a2ed-44b5-b9d8-14ed5017d3a9');\n",
              "          const dataTable =\n",
              "            await google.colab.kernel.invokeFunction('convertToInteractive',\n",
              "                                                     [key], {});\n",
              "          if (!dataTable) return;\n",
              "\n",
              "          const docLinkHtml = 'Like what you see? Visit the ' +\n",
              "            '<a target=\"_blank\" href=https://colab.research.google.com/notebooks/data_table.ipynb>data table notebook</a>'\n",
              "            + ' to learn more about interactive tables.';\n",
              "          element.innerHTML = '';\n",
              "          dataTable['output_type'] = 'display_data';\n",
              "          await google.colab.output.renderOutput(dataTable, element);\n",
              "          const docLink = document.createElement('div');\n",
              "          docLink.innerHTML = docLinkHtml;\n",
              "          element.appendChild(docLink);\n",
              "        }\n",
              "      </script>\n",
              "    </div>\n",
              "  </div>\n",
              "  "
            ],
            "text/plain": [
              "                  Club    id  Season    income     expend overall_balance  \\\n",
              "0           Chelsea FC   631    2015   €87.49m   €96.50m         €-9.01m    \n",
              "1      Manchester City   281    2015   €67.44m  €208.47m       €-141.03m    \n",
              "2           Arsenal FC    11    2015    €2.50m   €26.50m        €-24.00m    \n",
              "3    Manchester United   985    2015  €100.67m  €156.00m        €-55.33m    \n",
              "4         Liverpool FC    31    2015   €90.55m  €126.50m        €-35.95m    \n",
              "..                 ...   ...     ...       ...        ...             ...   \n",
              "135       Brentford FC  1148    2021    €1.00m   €36.70m        €-35.70m    \n",
              "136     Crystal Palace   873    2021         0   €85.62m        €-85.62m    \n",
              "137       Norwich City  1123    2021   €38.40m   €63.55m        €-25.15m    \n",
              "138         Watford FC  1010    2021   €12.85m   €43.50m        €-30.65m    \n",
              "139         Burnley FC  1132    2021   €40.50m   €49.40m         €-8.90m    \n",
              "\n",
              "    income_arrival expend_arrival  \n",
              "0               32             37  \n",
              "1               23             20  \n",
              "2               11             13  \n",
              "3               20             22  \n",
              "4               24             23  \n",
              "..             ...            ...  \n",
              "135             13             17  \n",
              "136             15             11  \n",
              "137             27             30  \n",
              "138             27             28  \n",
              "139              6              8  \n",
              "\n",
              "[140 rows x 8 columns]"
            ]
          },
          "execution_count": 114,
          "metadata": {},
          "output_type": "execute_result"
        }
      ],
      "source": [
        "df"
      ]
    }
  ],
  "metadata": {
    "colab": {
      "provenance": []
    },
    "kernelspec": {
      "display_name": "Python 3",
      "name": "python3"
    },
    "language_info": {
      "name": "python"
    }
  },
  "nbformat": 4,
  "nbformat_minor": 0
}
