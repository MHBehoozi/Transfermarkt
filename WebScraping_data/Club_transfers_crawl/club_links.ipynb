{
  "nbformat": 4,
  "nbformat_minor": 0,
  "metadata": {
    "colab": {
      "provenance": []
    },
    "kernelspec": {
      "name": "python3",
      "display_name": "Python 3"
    },
    "language_info": {
      "name": "python"
    }
  },
  "cells": [
    {
      "cell_type": "code",
      "execution_count": 1,
      "metadata": {
        "id": "oAU5ylzXmKe4"
      },
      "outputs": [],
      "source": [
        "import pandas as pd\n",
        "from bs4 import BeautifulSoup\n",
        "import requests \n",
        "import time\n",
        "from lxml import html\n",
        "from tqdm import tqdm\n",
        "import lxml.etree as LE\n",
        "import time\n",
        "import numpy as np"
      ]
    },
    {
      "cell_type": "code",
      "source": [
        "headers = {'User-Agent': 'Mozilla/5.0 (Windows NT 10.0; Win64; x64) AppleWebKit/537.36 (KHTML, like Gecko) Chrome/96.0.4664.93 Safari/537.36',\n",
        "           \"Accept-Language\": \"en-US,en;q=0.5\"}"
      ],
      "metadata": {
        "id": "p39xuu4Onb0O"
      },
      "execution_count": 2,
      "outputs": []
    },
    {
      "cell_type": "code",
      "source": [
        "years=np.arange(2015,2022)\n",
        "years"
      ],
      "metadata": {
        "colab": {
          "base_uri": "https://localhost:8080/"
        },
        "id": "TxAwovVWqVrL",
        "outputId": "a4d7ddb6-def1-4e81-e7aa-b79edd94ff3d"
      },
      "execution_count": 131,
      "outputs": [
        {
          "output_type": "execute_result",
          "data": {
            "text/plain": [
              "array([2015, 2016, 2017, 2018, 2019, 2020, 2021])"
            ]
          },
          "metadata": {},
          "execution_count": 131
        }
      ]
    },
    {
      "cell_type": "code",
      "source": [
        "First_Tier=['https://www.transfermarkt.com/premier-league/startseite/wettbewerb/GB1',\n",
        "'https://www.transfermarkt.com/bundesliga/startseite/wettbewerb/L1',\n",
        "'https://www.transfermarkt.com/serie-a/startseite/wettbewerb/IT1',\n",
        "'https://www.transfermarkt.com/ligue-1/startseite/wettbewerb/FR1',\n",
        "'https://www.transfermarkt.com/laliga/startseite/wettbewerb/ES1'] "
      ],
      "metadata": {
        "id": "1K7hJ1OZzCOH"
      },
      "execution_count": 130,
      "outputs": []
    },
    {
      "cell_type": "code",
      "source": [
        "links=[]\n",
        "for league in First_Tier:\n",
        "    for year in years:\n",
        "       print(year)\n",
        "       url=league +'/plus/?saison_id='+str(year)\n",
        "       main_page=requests.get(url,headers=headers)\n",
        "       time.sleep(3)\n",
        "       soup = BeautifulSoup(main_page.content, 'html.parser')\n",
        "       table=soup.find('table',attrs={'class':'items'})\n",
        "       trs=table.find_all('tr') \n",
        "       for tr in trs[2:]:\n",
        "            td=tr.find('td',attrs={'class':'hauptlink no-border-links'}).find('a', href=True)\n",
        "            links.append('https://www.transfermarkt.com'+ td['href']) "
      ],
      "metadata": {
        "colab": {
          "base_uri": "https://localhost:8080/"
        },
        "id": "NEeA7_FLUwWY",
        "outputId": "5b21f905-1168-4adb-8ff5-5cad7fff9c31"
      },
      "execution_count": 133,
      "outputs": [
        {
          "output_type": "stream",
          "name": "stdout",
          "text": [
            "2015\n",
            "2016\n",
            "2017\n",
            "2018\n",
            "2019\n",
            "2020\n",
            "2021\n",
            "2015\n",
            "2016\n",
            "2017\n",
            "2018\n",
            "2019\n",
            "2020\n",
            "2021\n",
            "2015\n",
            "2016\n",
            "2017\n",
            "2018\n",
            "2019\n",
            "2020\n",
            "2021\n",
            "2015\n",
            "2016\n",
            "2017\n",
            "2018\n",
            "2019\n",
            "2020\n",
            "2021\n",
            "2015\n",
            "2016\n",
            "2017\n",
            "2018\n",
            "2019\n",
            "2020\n",
            "2021\n"
          ]
        }
      ]
    },
    {
      "cell_type": "code",
      "source": [
        "len(links)"
      ],
      "metadata": {
        "colab": {
          "base_uri": "https://localhost:8080/"
        },
        "id": "FsgMC7DZrcBP",
        "outputId": "06a66756-d910-44af-f884-f2f7cafbdb02"
      },
      "execution_count": 134,
      "outputs": [
        {
          "output_type": "execute_result",
          "data": {
            "text/plain": [
              "686"
            ]
          },
          "metadata": {},
          "execution_count": 134
        }
      ]
    }
  ]
}