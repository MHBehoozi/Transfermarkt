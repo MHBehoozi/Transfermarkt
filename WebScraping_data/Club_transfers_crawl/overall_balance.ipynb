{
  "nbformat": 4,
  "nbformat_minor": 0,
  "metadata": {
    "colab": {
      "provenance": []
    },
    "kernelspec": {
      "name": "python3",
      "display_name": "Python 3"
    },
    "language_info": {
      "name": "python"
    }
  },
  "cells": [
    {
      "cell_type": "markdown",
      "source": [
        "# Data collection of soccer players"
      ],
      "metadata": {
        "id": "8WYCFcT-KZ4O"
      }
    },
    {
      "cell_type": "markdown",
      "source": [
        "## Libraries"
      ],
      "metadata": {
        "id": "fg_NZPKpKf9w"
      }
    },
    {
      "cell_type": "code",
      "execution_count": null,
      "metadata": {
        "id": "hYlatFBiKjDZ"
      },
      "outputs": [],
      "source": [
        "import requests\n",
        "from bs4 import BeautifulSoup\n",
        "from lxml import html\n",
        "import numpy as np\n",
        "import pandas as pd\n",
        "from tqdm import tqdm\n",
        "import time \n",
        "import csv\n",
        "import re"
      ]
    },
    {
      "cell_type": "code",
      "source": [
        "headers = {'User-Agent': 'Mozilla/5.0 (Windows NT 10.0; Win64; x64) AppleWebKit/537.36 (KHTML, like Gecko) Chrome/96.0.4664.93 Safari/537.36',\n",
        "           \"Accept-Language\": \"en-US,en;q=0.5\"}"
      ],
      "metadata": {
        "id": "H5PrXk31oxHE"
      },
      "execution_count": null,
      "outputs": []
    },
    {
      "cell_type": "markdown",
      "source": [
        "#Club Table"
      ],
      "metadata": {
        "id": "JN_8s7f8_CYN"
      }
    },
    {
      "cell_type": "markdown",
      "source": [
        "### id"
      ],
      "metadata": {
        "id": "dmKErzN8L27m"
      }
    },
    {
      "cell_type": "code",
      "source": [
        "def player_id(link):\n",
        "  try:\n",
        "    player_id = (str(link).split('/'))[-1]\n",
        "    return player_id\n",
        "  except:\n",
        "    print(link +\" player id not found!\")\n",
        "    return np.nan"
      ],
      "metadata": {
        "id": "r8F6gMeRL4nd"
      },
      "execution_count": null,
      "outputs": []
    },
    {
      "cell_type": "code",
      "source": [
        "PROXY_ADDRESS = \"185.199.229.156\"\n",
        "PROXY_PORT =7492\n",
        "PROXY_USERNAME = \"zhudofyh\"\n",
        "PROXY_PASSWORD = \"k1tm10gcjs3u\"\n",
        "\n",
        "proxy_credential = {\"https\": f\"http://{PROXY_USERNAME}:{PROXY_PASSWORD}@{PROXY_ADDRESS}:{PROXY_PORT}\"}"
      ],
      "metadata": {
        "id": "Kk1FpTobc7xt"
      },
      "execution_count": null,
      "outputs": []
    },
    {
      "cell_type": "code",
      "source": [
        "headers = {'Authorization': 'Bearer YOUR_ACCESS_TOKEN',\n",
        "           'User-Agent': 'Mozilla/5.0 (Macintosh; Intel Mac OS X 10_11_5) AppleWebKit/537.36 (KHTML, like Gecko) Chrome/50.0.2661.102 Safari/537.36'}"
      ],
      "metadata": {
        "id": "4rNYoSNwdUjv"
      },
      "execution_count": null,
      "outputs": []
    },
    {
      "cell_type": "markdown",
      "source": [
        "#get all club links for five countries"
      ],
      "metadata": {
        "id": "fRbTVXQdpRDr"
      }
    },
    {
      "cell_type": "code",
      "source": [
        "country_url={'England':' https://www.transfermarkt.com/premier-league/startseite/wettbewerb/GB1',\n",
        "             'Spain' : 'https://www.transfermarkt.com/laliga/startseite/wettbewerb/ES1',\n",
        "             'Italy':   'https://www.transfermarkt.com/serie-a/startseite/wettbewerb/IT1',\n",
        "             'Germany':'https://www.transfermarkt.com/bundesliga/startseite/wettbewerb/L1',\n",
        "             'France': 'https://www.transfermarkt.com/ligue-1/startseite/wettbewerb/FR1'}"
      ],
      "metadata": {
        "id": "Dd6kuyMYrsSX"
      },
      "execution_count": null,
      "outputs": []
    },
    {
      "cell_type": "code",
      "source": [
        "links=[]\n",
        "clubs=[]\n",
        "ids=[]\n",
        "countries=[]\n",
        "seasons=[]\n",
        "years=np.arange(2015,2022) \n",
        "\n",
        "\n",
        "for country, url in country_url.items():\n",
        "    for year in years:\n",
        "        s_url=url +'/plus/?saison_id='+ str(year) \n",
        "        r = requests.get(s_url,headers =headers , proxies=proxy_credential)\n",
        "        soup = BeautifulSoup(r.content, 'html.parser')\n",
        "        time.sleep(20)\n",
        "    \n",
        "        table=soup.find('table',attrs={'class':'items'})\n",
        "        trs=table.find_all('tr')  \n",
        "        \n",
        "        for tr in trs[2:]:\n",
        "            td=tr.find('td',attrs={'class':'hauptlink no-border-links'}).find('a', href=True) \n",
        "            link='https://www.transfermarkt.com'+ td['href']\n",
        "            name=td['title'] \n",
        "            id=link.split('https://www.transfermarkt.com/')[1].split('/')[3] \n",
        "            if link not in links:\n",
        "                clubs.append(name)\n",
        "                ids.append(id) \n",
        "                countries.append(country)\n",
        "                links.append(link)\n",
        "                seasons.append(year)"
      ],
      "metadata": {
        "colab": {
          "base_uri": "https://localhost:8080/",
          "height": 599
        },
        "id": "g6JSc-vz39Za",
        "outputId": "3cafe0b5-127c-48ca-d91f-21a3ff43d2f0"
      },
      "execution_count": null,
      "outputs": [
        {
          "output_type": "stream",
          "name": "stdout",
          "text": [
            "<bound method Tag.prettify of <!DOCTYPE HTML PUBLIC \"-//W3C//DTD HTML 4.01 Transitional//EN\" \"http://www.w3.org/TR/html4/loose.dtd\">\n",
            "\n",
            "<html><head><meta content=\"text/html; charset=utf-8\" http-equiv=\"Content-Type\"/>\n",
            "<title>ERROR: The request could not be satisfied</title>\n",
            "</head><body>\n",
            "<h1>403 ERROR</h1>\n",
            "<h2>The request could not be satisfied.</h2>\n",
            "<hr noshade=\"\" size=\"1px\"/>\n",
            "Request blocked.\n",
            "We can't connect to the server for this app or website at this time. There might be too much traffic or a configuration error. Try again later, or contact the app or website owner.\n",
            "<br clear=\"all\"/>\n",
            "If you provide content to customers through CloudFront, you can find steps to troubleshoot and help prevent this error by reviewing the CloudFront documentation.\n",
            "<br clear=\"all\"/>\n",
            "<hr noshade=\"\" size=\"1px\"/>\n",
            "<pre>\n",
            "Generated by cloudfront (CloudFront)\n",
            "Request ID: gK-FcYF_M2PS61xECTkA-uzCSHdkeetXiyfWNLWZw1VFcixe0o_nlA==\n",
            "</pre>\n",
            "<address>\n",
            "</address>\n",
            "</body></html>>\n"
          ]
        },
        {
          "output_type": "error",
          "ename": "AttributeError",
          "evalue": "ignored",
          "traceback": [
            "\u001b[0;31m---------------------------------------------------------------------------\u001b[0m",
            "\u001b[0;31mAttributeError\u001b[0m                            Traceback (most recent call last)",
            "\u001b[0;32m<ipython-input-23-dc8671e88e0a>\u001b[0m in \u001b[0;36m<cell line: 9>\u001b[0;34m()\u001b[0m\n\u001b[1;32m     14\u001b[0m         \u001b[0mprint\u001b[0m\u001b[0;34m(\u001b[0m\u001b[0msoup\u001b[0m\u001b[0;34m.\u001b[0m\u001b[0mprettify\u001b[0m\u001b[0;34m)\u001b[0m\u001b[0;34m\u001b[0m\u001b[0;34m\u001b[0m\u001b[0m\n\u001b[1;32m     15\u001b[0m         \u001b[0mtable\u001b[0m\u001b[0;34m=\u001b[0m\u001b[0msoup\u001b[0m\u001b[0;34m.\u001b[0m\u001b[0mfind\u001b[0m\u001b[0;34m(\u001b[0m\u001b[0;34m'table'\u001b[0m\u001b[0;34m,\u001b[0m\u001b[0mattrs\u001b[0m\u001b[0;34m=\u001b[0m\u001b[0;34m{\u001b[0m\u001b[0;34m'class'\u001b[0m\u001b[0;34m:\u001b[0m\u001b[0;34m'items'\u001b[0m\u001b[0;34m}\u001b[0m\u001b[0;34m)\u001b[0m\u001b[0;34m\u001b[0m\u001b[0;34m\u001b[0m\u001b[0m\n\u001b[0;32m---> 16\u001b[0;31m         \u001b[0mtrs\u001b[0m\u001b[0;34m=\u001b[0m\u001b[0mtable\u001b[0m\u001b[0;34m.\u001b[0m\u001b[0mfind_all\u001b[0m\u001b[0;34m(\u001b[0m\u001b[0;34m'tr'\u001b[0m\u001b[0;34m)\u001b[0m\u001b[0;34m\u001b[0m\u001b[0;34m\u001b[0m\u001b[0m\n\u001b[0m\u001b[1;32m     17\u001b[0m         \u001b[0;32mfor\u001b[0m \u001b[0mtr\u001b[0m \u001b[0;32min\u001b[0m \u001b[0mtrs\u001b[0m\u001b[0;34m[\u001b[0m\u001b[0;36m2\u001b[0m\u001b[0;34m:\u001b[0m\u001b[0;34m]\u001b[0m\u001b[0;34m:\u001b[0m\u001b[0;34m\u001b[0m\u001b[0;34m\u001b[0m\u001b[0m\n\u001b[1;32m     18\u001b[0m             \u001b[0mtd\u001b[0m\u001b[0;34m=\u001b[0m\u001b[0mtr\u001b[0m\u001b[0;34m.\u001b[0m\u001b[0mfind\u001b[0m\u001b[0;34m(\u001b[0m\u001b[0;34m'td'\u001b[0m\u001b[0;34m,\u001b[0m\u001b[0mattrs\u001b[0m\u001b[0;34m=\u001b[0m\u001b[0;34m{\u001b[0m\u001b[0;34m'class'\u001b[0m\u001b[0;34m:\u001b[0m\u001b[0;34m'hauptlink no-border-links'\u001b[0m\u001b[0;34m}\u001b[0m\u001b[0;34m)\u001b[0m\u001b[0;34m.\u001b[0m\u001b[0mfind\u001b[0m\u001b[0;34m(\u001b[0m\u001b[0;34m'a'\u001b[0m\u001b[0;34m,\u001b[0m \u001b[0mhref\u001b[0m\u001b[0;34m=\u001b[0m\u001b[0;32mTrue\u001b[0m\u001b[0;34m)\u001b[0m\u001b[0;34m\u001b[0m\u001b[0;34m\u001b[0m\u001b[0m\n",
            "\u001b[0;31mAttributeError\u001b[0m: 'NoneType' object has no attribute 'find_all'"
          ]
        }
      ]
    },
    {
      "cell_type": "markdown",
      "source": [
        "#Expenditure,Income,Over_all_balance"
      ],
      "metadata": {
        "id": "6USZekgPSWra"
      }
    },
    {
      "cell_type": "code",
      "source": [
        "links=[]\n",
        "clubs=[]\n",
        "ids=[]\n",
        "countries=[]\n",
        "seasons=[]\n",
        "income_arrivals=[]\n",
        "incomes=[]\n",
        "overall_balance=[]\n",
        "expend_arrivals=[]\n",
        "expends=[]\n",
        "years=np.arange(2015,2022) \n",
        "\n",
        "\n",
        "for country, url in country_url.items():\n",
        "    for year in years:\n",
        "        s_url=url +'/plus/?saison_id='+ str(year) \n",
        "        main_page= requests.get(s_url,headers=headers)\n",
        "        soup = BeautifulSoup(main_page.content, 'html.parser')\n",
        "        table=soup.find('table',attrs={'class':'items'})\n",
        "        trs=table.find_all('tr') \n",
        "        for tr in trs[2:]:\n",
        "            td=tr.find('td',attrs={'class':'hauptlink no-border-links'}).find('a', href=True) \n",
        "            link='https://www.transfermarkt.com'+ td['href']\n",
        "            name=td['title'] \n",
        "            id=link.split('https://www.transfermarkt.com/')[1].split('/')[3] \n",
        "            clubs.append(name)\n",
        "            ids.append(id) \n",
        "            countries.append(country)\n",
        "            links.append(link)\n",
        "          \n",
        "            seasons.append(year)\n",
        "            #tranfer table \n",
        "            page=requests.get(link,headers=headers)\n",
        "            soup = BeautifulSoup(page.content, 'html.parser') \n",
        "            transfer_record_box=soup.find_all('div', attrs={'data-viewport':'Transferbilanz'})[0] \n",
        "            income_td=transfer_record_box.find('table').find('tbody').find('tr',attrs={'class':'transfer-record__revenue'})\n",
        "            income_arrival=income_td.find('td',attrs={'class':'zentriert test-class transfer-record__text'}).text\n",
        "            income_arrivals.append(income_arrival)\n",
        "\n",
        "            income=income_td.find('td',attrs={'class':'transfer-record__total transfer-record__total--positive'}).text.split('\\n')[1].rstrip().lstrip()\n",
        "            incomes.append(income) \n",
        "\n",
        "            expend_td=transfer_record_box.find('table').find('tbody').find('tr',attrs={'class':'transfer-record__expenses'})\n",
        "            expend_arrival=expend_td.find('td',attrs={'class':'zentriert transfer-record__text'}).text \n",
        "            expend_arrivals.append(expend_arrival)\n",
        "\n",
        "            expend=expend_td.find('td',attrs={'class':'transfer-record__total transfer-record__total--negative'}).text.split('\\n')[1]\n",
        "            expends.append(expend)\n",
        "            try:\n",
        "                overall_td=transfer_record_box.find('table').find('tfoot').find('tr').find('td',attrs={'class':'redtext rechts transfer-record__total'}).text.replace('\\n','')\n",
        "            except:\n",
        "                try:\n",
        "                    overall_td=transfer_record_box.find('table').find('tfoot').find('tr').find('td',attrs={'greentext rechts transfer-record__total'}).text.rstrip().lstrip()\n",
        "                except:\n",
        "                    overall_td=transfer_record_box.find('table').find('tfoot').find('tr').find('td',attrs={'rechts transfer-record__total'}).text.rstrip().lstrip().replace('+','')\n",
        "\n",
        "                  \n",
        "            overall_balance.append(overall_td)           \n",
        "          "
      ],
      "metadata": {
        "id": "leOO6GJ6Py3G"
      },
      "execution_count": null,
      "outputs": []
    },
    {
      "cell_type": "code",
      "source": [
        "clubs_id={}\n",
        "clubs_id['Club']=clubs\n",
        "clubs_id['id']=ids\n",
        "clubs_id['Country']=countries\n",
        "clubs_id['link']=links\n",
        "clubs_id['Season']=seasons\n",
        "clubs_id['income']=incomes \n",
        "clubs_id['expend']=expends\n",
        "clubs_id['overall_balance']=overall_balance\n",
        "clubs_id['income_arrival']=income_arrivals\n",
        "clubs_id['expend_arrival']=expend_arrivals\n",
        "df=pd.DataFrame(data=clubs_id) \n",
        "print(df.shape)\n",
        "df.head()"
      ],
      "metadata": {
        "id": "Hj2R_vLSQFnc",
        "outputId": "d4cc749f-5012-4ecb-d92e-6d521f25db83",
        "colab": {
          "base_uri": "https://localhost:8080/",
          "height": 354
        }
      },
      "execution_count": null,
      "outputs": [
        {
          "output_type": "stream",
          "name": "stdout",
          "text": [
            "(686, 10)\n"
          ]
        },
        {
          "output_type": "execute_result",
          "data": {
            "text/plain": [
              "                Club   id  Country  \\\n",
              "0         Chelsea FC  631  England   \n",
              "1    Manchester City  281  England   \n",
              "2         Arsenal FC   11  England   \n",
              "3  Manchester United  985  England   \n",
              "4       Liverpool FC   31  England   \n",
              "\n",
              "                                                link  Season    income  \\\n",
              "0  https://www.transfermarkt.com/fc-chelsea/start...    2015   €87.49m   \n",
              "1  https://www.transfermarkt.com/manchester-city/...    2015   €67.44m   \n",
              "2  https://www.transfermarkt.com/fc-arsenal/start...    2015    €2.50m   \n",
              "3  https://www.transfermarkt.com/manchester-unite...    2015  €100.67m   \n",
              "4  https://www.transfermarkt.com/fc-liverpool/sta...    2015   €90.55m   \n",
              "\n",
              "      expend overall_balance income_arrival expend_arrival  \n",
              "0   €96.50m         €-9.01m              32             37  \n",
              "1  €208.47m       €-141.03m              23             20  \n",
              "2   €26.50m        €-24.00m              11             13  \n",
              "3  €156.00m        €-55.33m              20             22  \n",
              "4  €126.50m        €-35.95m              24             23  "
            ],
            "text/html": [
              "\n",
              "  <div id=\"df-09e37e87-faee-46ba-a0fa-a62a6d7b7ad1\">\n",
              "    <div class=\"colab-df-container\">\n",
              "      <div>\n",
              "<style scoped>\n",
              "    .dataframe tbody tr th:only-of-type {\n",
              "        vertical-align: middle;\n",
              "    }\n",
              "\n",
              "    .dataframe tbody tr th {\n",
              "        vertical-align: top;\n",
              "    }\n",
              "\n",
              "    .dataframe thead th {\n",
              "        text-align: right;\n",
              "    }\n",
              "</style>\n",
              "<table border=\"1\" class=\"dataframe\">\n",
              "  <thead>\n",
              "    <tr style=\"text-align: right;\">\n",
              "      <th></th>\n",
              "      <th>Club</th>\n",
              "      <th>id</th>\n",
              "      <th>Country</th>\n",
              "      <th>link</th>\n",
              "      <th>Season</th>\n",
              "      <th>income</th>\n",
              "      <th>expend</th>\n",
              "      <th>overall_balance</th>\n",
              "      <th>income_arrival</th>\n",
              "      <th>expend_arrival</th>\n",
              "    </tr>\n",
              "  </thead>\n",
              "  <tbody>\n",
              "    <tr>\n",
              "      <th>0</th>\n",
              "      <td>Chelsea FC</td>\n",
              "      <td>631</td>\n",
              "      <td>England</td>\n",
              "      <td>https://www.transfermarkt.com/fc-chelsea/start...</td>\n",
              "      <td>2015</td>\n",
              "      <td>€87.49m</td>\n",
              "      <td>€96.50m</td>\n",
              "      <td>€-9.01m</td>\n",
              "      <td>32</td>\n",
              "      <td>37</td>\n",
              "    </tr>\n",
              "    <tr>\n",
              "      <th>1</th>\n",
              "      <td>Manchester City</td>\n",
              "      <td>281</td>\n",
              "      <td>England</td>\n",
              "      <td>https://www.transfermarkt.com/manchester-city/...</td>\n",
              "      <td>2015</td>\n",
              "      <td>€67.44m</td>\n",
              "      <td>€208.47m</td>\n",
              "      <td>€-141.03m</td>\n",
              "      <td>23</td>\n",
              "      <td>20</td>\n",
              "    </tr>\n",
              "    <tr>\n",
              "      <th>2</th>\n",
              "      <td>Arsenal FC</td>\n",
              "      <td>11</td>\n",
              "      <td>England</td>\n",
              "      <td>https://www.transfermarkt.com/fc-arsenal/start...</td>\n",
              "      <td>2015</td>\n",
              "      <td>€2.50m</td>\n",
              "      <td>€26.50m</td>\n",
              "      <td>€-24.00m</td>\n",
              "      <td>11</td>\n",
              "      <td>13</td>\n",
              "    </tr>\n",
              "    <tr>\n",
              "      <th>3</th>\n",
              "      <td>Manchester United</td>\n",
              "      <td>985</td>\n",
              "      <td>England</td>\n",
              "      <td>https://www.transfermarkt.com/manchester-unite...</td>\n",
              "      <td>2015</td>\n",
              "      <td>€100.67m</td>\n",
              "      <td>€156.00m</td>\n",
              "      <td>€-55.33m</td>\n",
              "      <td>20</td>\n",
              "      <td>22</td>\n",
              "    </tr>\n",
              "    <tr>\n",
              "      <th>4</th>\n",
              "      <td>Liverpool FC</td>\n",
              "      <td>31</td>\n",
              "      <td>England</td>\n",
              "      <td>https://www.transfermarkt.com/fc-liverpool/sta...</td>\n",
              "      <td>2015</td>\n",
              "      <td>€90.55m</td>\n",
              "      <td>€126.50m</td>\n",
              "      <td>€-35.95m</td>\n",
              "      <td>24</td>\n",
              "      <td>23</td>\n",
              "    </tr>\n",
              "  </tbody>\n",
              "</table>\n",
              "</div>\n",
              "      <button class=\"colab-df-convert\" onclick=\"convertToInteractive('df-09e37e87-faee-46ba-a0fa-a62a6d7b7ad1')\"\n",
              "              title=\"Convert this dataframe to an interactive table.\"\n",
              "              style=\"display:none;\">\n",
              "        \n",
              "  <svg xmlns=\"http://www.w3.org/2000/svg\" height=\"24px\"viewBox=\"0 0 24 24\"\n",
              "       width=\"24px\">\n",
              "    <path d=\"M0 0h24v24H0V0z\" fill=\"none\"/>\n",
              "    <path d=\"M18.56 5.44l.94 2.06.94-2.06 2.06-.94-2.06-.94-.94-2.06-.94 2.06-2.06.94zm-11 1L8.5 8.5l.94-2.06 2.06-.94-2.06-.94L8.5 2.5l-.94 2.06-2.06.94zm10 10l.94 2.06.94-2.06 2.06-.94-2.06-.94-.94-2.06-.94 2.06-2.06.94z\"/><path d=\"M17.41 7.96l-1.37-1.37c-.4-.4-.92-.59-1.43-.59-.52 0-1.04.2-1.43.59L10.3 9.45l-7.72 7.72c-.78.78-.78 2.05 0 2.83L4 21.41c.39.39.9.59 1.41.59.51 0 1.02-.2 1.41-.59l7.78-7.78 2.81-2.81c.8-.78.8-2.07 0-2.86zM5.41 20L4 18.59l7.72-7.72 1.47 1.35L5.41 20z\"/>\n",
              "  </svg>\n",
              "      </button>\n",
              "      \n",
              "  <style>\n",
              "    .colab-df-container {\n",
              "      display:flex;\n",
              "      flex-wrap:wrap;\n",
              "      gap: 12px;\n",
              "    }\n",
              "\n",
              "    .colab-df-convert {\n",
              "      background-color: #E8F0FE;\n",
              "      border: none;\n",
              "      border-radius: 50%;\n",
              "      cursor: pointer;\n",
              "      display: none;\n",
              "      fill: #1967D2;\n",
              "      height: 32px;\n",
              "      padding: 0 0 0 0;\n",
              "      width: 32px;\n",
              "    }\n",
              "\n",
              "    .colab-df-convert:hover {\n",
              "      background-color: #E2EBFA;\n",
              "      box-shadow: 0px 1px 2px rgba(60, 64, 67, 0.3), 0px 1px 3px 1px rgba(60, 64, 67, 0.15);\n",
              "      fill: #174EA6;\n",
              "    }\n",
              "\n",
              "    [theme=dark] .colab-df-convert {\n",
              "      background-color: #3B4455;\n",
              "      fill: #D2E3FC;\n",
              "    }\n",
              "\n",
              "    [theme=dark] .colab-df-convert:hover {\n",
              "      background-color: #434B5C;\n",
              "      box-shadow: 0px 1px 3px 1px rgba(0, 0, 0, 0.15);\n",
              "      filter: drop-shadow(0px 1px 2px rgba(0, 0, 0, 0.3));\n",
              "      fill: #FFFFFF;\n",
              "    }\n",
              "  </style>\n",
              "\n",
              "      <script>\n",
              "        const buttonEl =\n",
              "          document.querySelector('#df-09e37e87-faee-46ba-a0fa-a62a6d7b7ad1 button.colab-df-convert');\n",
              "        buttonEl.style.display =\n",
              "          google.colab.kernel.accessAllowed ? 'block' : 'none';\n",
              "\n",
              "        async function convertToInteractive(key) {\n",
              "          const element = document.querySelector('#df-09e37e87-faee-46ba-a0fa-a62a6d7b7ad1');\n",
              "          const dataTable =\n",
              "            await google.colab.kernel.invokeFunction('convertToInteractive',\n",
              "                                                     [key], {});\n",
              "          if (!dataTable) return;\n",
              "\n",
              "          const docLinkHtml = 'Like what you see? Visit the ' +\n",
              "            '<a target=\"_blank\" href=https://colab.research.google.com/notebooks/data_table.ipynb>data table notebook</a>'\n",
              "            + ' to learn more about interactive tables.';\n",
              "          element.innerHTML = '';\n",
              "          dataTable['output_type'] = 'display_data';\n",
              "          await google.colab.output.renderOutput(dataTable, element);\n",
              "          const docLink = document.createElement('div');\n",
              "          docLink.innerHTML = docLinkHtml;\n",
              "          element.appendChild(docLink);\n",
              "        }\n",
              "      </script>\n",
              "    </div>\n",
              "  </div>\n",
              "  "
            ]
          },
          "metadata": {},
          "execution_count": 36
        }
      ]
    },
    {
      "cell_type": "code",
      "source": [
        "df.to_csv('over_all_balance.csv', index=False)"
      ],
      "metadata": {
        "id": "TitMGh6b54ee"
      },
      "execution_count": null,
      "outputs": []
    }
  ]
}