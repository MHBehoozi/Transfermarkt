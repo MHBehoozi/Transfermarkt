{
 "cells": [
  {
   "cell_type": "code",
   "execution_count": 2,
   "metadata": {},
   "outputs": [
    {
     "name": "stderr",
     "output_type": "stream",
     "text": [
      "c:\\Users\\ASUS\\AppData\\Local\\Programs\\Python\\Python310\\lib\\site-packages\\numpy\\_distributor_init.py:30: UserWarning: loaded more than 1 DLL from .libs:\n",
      "c:\\Users\\ASUS\\AppData\\Local\\Programs\\Python\\Python310\\lib\\site-packages\\numpy\\.libs\\libopenblas.FB5AE2TYXYH2IJRDKGDGQ3XBKLKTF43H.gfortran-win_amd64.dll\n",
      "c:\\Users\\ASUS\\AppData\\Local\\Programs\\Python\\Python310\\lib\\site-packages\\numpy\\.libs\\libopenblas64__v0.3.21-gcc_10_3_0.dll\n",
      "  warnings.warn(\"loaded more than 1 DLL from .libs:\"\n"
     ]
    }
   ],
   "source": [
    "\n",
    "import requests\n",
    "from bs4 import BeautifulSoup\n",
    "import pandas as pd"
   ]
  },
  {
   "cell_type": "code",
   "execution_count": 28,
   "metadata": {},
   "outputs": [],
   "source": [
    "headers = {'User-Agent': \"Mozilla/5.0 (Windows NT 10.0; Win64; x64) AppleWebKit/537.36 (KHTML, like Gecko) Chrome/42.0.2311.135 Safari/537.36 Edge/12.246\"}\n",
    "url='https://www.transfermarkt.com/premier-league/kreuztabelle/wettbewerb/GB1/saison_id/2022'\n"
   ]
  },
  {
   "cell_type": "code",
   "execution_count": 52,
   "metadata": {},
   "outputs": [],
   "source": [
    "def get_goals(u):\n",
    "    goals=[]\n",
    "    response = requests.get(url=u, headers=headers)\n",
    "    soup = BeautifulSoup(response.content, 'html.parser')\n",
    "    table = soup.find('div', class_='responsive-table')\n",
    "    \n",
    "    record=table.find_all('tr')\n",
    "    for item in record:\n",
    "        spang=item.find_all('span',attrs={'class':'greentext'})\n",
    "        for s in spang:\n",
    "            try:\n",
    "                s=s.text.split(':')      \n",
    "                goals.append(int(s[0]))\n",
    "                goals.append(int(s[1]))\n",
    "            except:\n",
    "                goals.append(0)  \n",
    "        spanr=item.find_all('span',attrs={'class':'redtext'})\n",
    "        for s in spanr:\n",
    "            try:\n",
    "                s=s.text.split(':')      \n",
    "                goals.append(int(s[0]))\n",
    "                goals.append(int(s[1]))\n",
    "            except:\n",
    "                goals.append(0)\n",
    "        span=item.find_all('span')\n",
    "        for s in span:\n",
    "            try:\n",
    "                s=s.text.split(':')      \n",
    "                goals.append(int(s[0]))\n",
    "                goals.append(int(s[1]))\n",
    "            except:\n",
    "                goals.append(0)    \n",
    "    return goals             "
   ]
  },
  {
   "cell_type": "code",
   "execution_count": 60,
   "metadata": {},
   "outputs": [
    {
     "data": {
      "text/plain": [
       "1954"
      ]
     },
     "execution_count": 60,
     "metadata": {},
     "output_type": "execute_result"
    }
   ],
   "source": [
    "\n",
    "goals_England=get_goals('https://www.transfermarkt.de/premier-league/kreuztabelle/wettbewerb/GB1/saison_id/2021')\n",
    "total_goal_England=0\n",
    "for goal in goals_England:\n",
    "    total_goal_England+=goal\n",
    "total_goal_England"
   ]
  },
  {
   "cell_type": "code",
   "execution_count": 59,
   "metadata": {},
   "outputs": [
    {
     "data": {
      "text/plain": [
       "1716"
      ]
     },
     "execution_count": 59,
     "metadata": {},
     "output_type": "execute_result"
    }
   ],
   "source": [
    "goals_spain=get_goals('https://www.transfermarkt.de/laliga/kreuztabelle/wettbewerb/ES1/saison_id/2021')\n",
    "total_goal_spain=0\n",
    "for goal in goals_spain:\n",
    "    total_goal_spain+=goal\n",
    "total_goal_spain"
   ]
  },
  {
   "cell_type": "code",
   "execution_count": 58,
   "metadata": {},
   "outputs": [
    {
     "data": {
      "text/plain": [
       "1760"
      ]
     },
     "execution_count": 58,
     "metadata": {},
     "output_type": "execute_result"
    }
   ],
   "source": [
    "goals_Germany=get_goals('https://www.transfermarkt.de/bundesliga/kreuztabelle/wettbewerb/L1/saison_id/2021')\n",
    "total_goal_germany=0\n",
    "for goal in goals_Germany:\n",
    "    total_goal_germany+=goal\n",
    "total_goal_germany"
   ]
  },
  {
   "cell_type": "code",
   "execution_count": 57,
   "metadata": {},
   "outputs": [
    {
     "data": {
      "text/plain": [
       "1954"
      ]
     },
     "execution_count": 57,
     "metadata": {},
     "output_type": "execute_result"
    }
   ],
   "source": [
    "goals_Italy=get_goals('https://www.transfermarkt.de/serie-a/kreuztabelle/wettbewerb/IT1/saison_id/2021')\n",
    "total_goal_italy=0\n",
    "for goal in goals_Italy:\n",
    "    total_goal_italy+=goal\n",
    "total_goal_italy"
   ]
  },
  {
   "cell_type": "code",
   "execution_count": 55,
   "metadata": {},
   "outputs": [
    {
     "data": {
      "text/plain": [
       "1914"
      ]
     },
     "execution_count": 55,
     "metadata": {},
     "output_type": "execute_result"
    }
   ],
   "source": [
    "goals_France=get_goals('https://www.transfermarkt.de/ligue-1/kreuztabelle/wettbewerb/FR1/saison_id/2021')\n",
    "total_goal_France=0\n",
    "for goal in goals_France:\n",
    "    total_goal_France+=goal\n",
    "total_goal_France"
   ]
  },
  {
   "cell_type": "code",
   "execution_count": 61,
   "metadata": {},
   "outputs": [
    {
     "data": {
      "text/html": [
       "<div>\n",
       "<style scoped>\n",
       "    .dataframe tbody tr th:only-of-type {\n",
       "        vertical-align: middle;\n",
       "    }\n",
       "\n",
       "    .dataframe tbody tr th {\n",
       "        vertical-align: top;\n",
       "    }\n",
       "\n",
       "    .dataframe thead th {\n",
       "        text-align: right;\n",
       "    }\n",
       "</style>\n",
       "<table border=\"1\" class=\"dataframe\">\n",
       "  <thead>\n",
       "    <tr style=\"text-align: right;\">\n",
       "      <th></th>\n",
       "      <th>Name League</th>\n",
       "      <th>Total goals in 2021-2022</th>\n",
       "    </tr>\n",
       "  </thead>\n",
       "  <tbody>\n",
       "    <tr>\n",
       "      <th>0</th>\n",
       "      <td>PriemerLeague</td>\n",
       "      <td>1954</td>\n",
       "    </tr>\n",
       "    <tr>\n",
       "      <th>1</th>\n",
       "      <td>Laliga</td>\n",
       "      <td>1716</td>\n",
       "    </tr>\n",
       "    <tr>\n",
       "      <th>2</th>\n",
       "      <td>Bundesliga</td>\n",
       "      <td>1760</td>\n",
       "    </tr>\n",
       "    <tr>\n",
       "      <th>3</th>\n",
       "      <td>SeriaA</td>\n",
       "      <td>1954</td>\n",
       "    </tr>\n",
       "    <tr>\n",
       "      <th>4</th>\n",
       "      <td>Ligue1</td>\n",
       "      <td>1914</td>\n",
       "    </tr>\n",
       "  </tbody>\n",
       "</table>\n",
       "</div>"
      ],
      "text/plain": [
       "     Name League  Total goals in 2021-2022\n",
       "0  PriemerLeague                      1954\n",
       "1         Laliga                      1716\n",
       "2     Bundesliga                      1760\n",
       "3         SeriaA                      1954\n",
       "4         Ligue1                      1914"
      ]
     },
     "execution_count": 61,
     "metadata": {},
     "output_type": "execute_result"
    }
   ],
   "source": [
    "total={'Name League':['PriemerLeague','Laliga','Bundesliga','SeriaA','Ligue1'],\n",
    "       'Total goals in 2021-2022':[total_goal_England,total_goal_spain,total_goal_germany,total_goal_italy,total_goal_France]\n",
    "}\n",
    "df=pd.DataFrame(total,columns=['Name League','Total goals in 2021-2022'])\n",
    "df.to_csv('Season_goals.csv')\n",
    "df\n"
   ]
  },
  {
   "cell_type": "code",
   "execution_count": null,
   "metadata": {},
   "outputs": [],
   "source": []
  }
 ],
 "metadata": {
  "kernelspec": {
   "display_name": "Python 3",
   "language": "python",
   "name": "python3"
  },
  "language_info": {
   "codemirror_mode": {
    "name": "ipython",
    "version": 3
   },
   "file_extension": ".py",
   "mimetype": "text/x-python",
   "name": "python",
   "nbconvert_exporter": "python",
   "pygments_lexer": "ipython3",
   "version": "3.10.10"
  },
  "orig_nbformat": 4
 },
 "nbformat": 4,
 "nbformat_minor": 2
}
