{
  "nbformat": 4,
  "nbformat_minor": 0,
  "metadata": {
    "colab": {
      "provenance": []
    },
    "kernelspec": {
      "name": "python3",
      "display_name": "Python 3"
    },
    "language_info": {
      "name": "python"
    }
  },
  "cells": [
    {
      "cell_type": "code",
      "execution_count": 16,
      "metadata": {
        "id": "77XoP6Kx2HNS"
      },
      "outputs": [],
      "source": [
        "import pandas as pd\n",
        "import requests\n",
        "from bs4 import BeautifulSoup\n",
        "import urllib"
      ]
    },
    {
      "cell_type": "code",
      "source": [
        "url='https://www.transfermarkt.com/bundesliga/kreuztabelle/wettbewerb/L1/saison_id/2021'\n",
        "headers = {'Authorization': 'Bearer YOUR_ACCESS_TOKEN',\n",
        "           'User-Agent': 'Mozilla/5.0 (Macintosh; Intel Mac OS X 10_11_5) AppleWebKit/537.36 (KHTML, like Gecko) Chrome/50.0.2661.102 Safari/537.36'}"
      ],
      "metadata": {
        "id": "4MYhdEgVEFsA"
      },
      "execution_count": 40,
      "outputs": []
    },
    {
      "cell_type": "code",
      "source": [
        "PROXY_ADDRESS = \"185.199.229.156\"\n",
        "PROXY_PORT =7492\n",
        "PROXY_USERNAME = \"zhudofyh\"\n",
        "PROXY_PASSWORD = \"k1tm10gcjs3u\"\n",
        "\n",
        "proxy_credential = {\"https\": f\"http://{PROXY_USERNAME}:{PROXY_PASSWORD}@{PROXY_ADDRESS}:{PROXY_PORT}\"}"
      ],
      "metadata": {
        "id": "xsQzvisgHGas"
      },
      "execution_count": 41,
      "outputs": []
    },
    {
      "cell_type": "code",
      "source": [
        "r = requests.get(url, headers =headers , proxies=proxy_credential)\n",
        "if r.status_code == 200:\n",
        "\n",
        "    soup=BeautifulSoup(r.content, 'html.parser')\n",
        "\n",
        "else:\n",
        "\n",
        "    print('Error:', r.status_code)"
      ],
      "metadata": {
        "id": "bHNgfFmWEijV"
      },
      "execution_count": 42,
      "outputs": []
    },
    {
      "cell_type": "code",
      "source": [
        "soup.prettify()"
      ],
      "metadata": {
        "colab": {
          "base_uri": "https://localhost:8080/",
          "height": 123
        },
        "id": "krHuFuJhJImp",
        "outputId": "6f38f02a-2894-4e8a-fc8d-864c689287f6"
      },
      "execution_count": 44,
      "outputs": [
        {
          "output_type": "execute_result",
          "data": {
            "text/plain": [
              "'<!DOCTYPE html>\\n<html lang=\"en\">\\n <head>\\n  <script type=\"text/javascript\">\\n   !function () { var e = function () { var e, t = \"__tcfapiLocator\", a = [], n = window; for (; n;) { try { if (n.frames[t]) { e = n; break } } catch (e) { } if (n === window.top) break; n = n.parent } e || (!function e() { var a = n.document, r = !!n.frames[t]; if (!r) if (a.body) { var i = a.createElement(\"iframe\"); i.style.cssText = \"display:none\", i.name = t, a.body.appendChild(i) } else setTimeout(e, 5); return !r }(), n.__tcfapi = function () { for (var e, t = arguments.length, n = new Array(t), r = 0; r < t; r++)n[r] = arguments[r]; if (!n.length) return a; if (\"setGdprApplies\" === n[0]) n.length > 3 && 2 === parseInt(n[1], 10) && \"boolean\" == typeof n[3] && (e = n[3], \"function\" == typeof n[2] && n[2](\"set\", !0)); else if (\"ping\" === n[0]) { var i = { gdprApplies: e, cmpLoaded: !1, cmpStatus: \"stub\" }; \"function\" == typeof n[2] && n[2](i) } else a.push(n) }, n.addEventListener(\"message\", (function (e) { var t = \"string\" == typeof e.data, a = {}; try { a = t ? JSON.parse(e.data) : e.data } catch (e) { } var n = a.__tcfapiCall; n && window.__tcfapi(n.command, n.version, (function (a, r) { var i = { __tcfapiReturn: { returnValue: a, success: r, callId: n.callId } }; t && (i = JSON.stringify(i)), e.source.postMessage(i, \"*\") }), n.parameter) }), !1)) }; \"undefined\" != typeof module ? module.exports = e : e() }();\\n  </script>\\n  <script>\\n   window._sp_ = {\\n    config: {\"accountId\":1254,\"propertyId\":7427,\"gdpr\":{\"consentLanguage\":\"en\"},\"baseEndpoint\":\"https://cdn.privacy-mgmt.com\"}}\\n  </script>\\n  <script async=\"\" src=\"https://cdn.privacy-mgmt.com/wrapperMessagingWithoutDetection.js\">\\n  </script>\\n  <meta charset=\"utf-8\"/>\\n  <link href=\"/favicon.ico\" rel=\"shortcut icon\" type=\"image/x-icon\"/>\\n  <link href=\"/favicon-16x16.png\" rel=\"shortcut icon\" sizes=\"16x16\"/>\\n  <link href=\"/android-chrome-192x192.png\" rel=\"shortcut icon\" sizes=\"192x192\"/>\\n  <meta content=\"width=device-width, initial-scale=1.0, maximum-scale=2.0, user-scalable=no\" name=\"viewport\"/>\\n  <meta content=\"Bundesliga,Germany\" name=\"keywords\"/>\\n  <meta content=\"Mit Hilfe der Kreuztabelle erhält man einen einfachen und schnellen Überblick über alle Spiele der Teams der Bundesliga gegeneinander.\" name=\"description\"/>\\n  <meta content=\"article\" property=\"og:type\"/>\\n  <meta content=\"https://tmssl.akamaized.net/images/tm_logo.png\" property=\"og:image\"/>\\n  <meta content=\"\" property=\"og:description\"/>\\n  <meta content=\"Bundesliga - Results Grid 21/22\" property=\"og:title\"/>\\n  <meta content=\"https://www.transfermarkt.com/bundesliga/kreuztabelle/wettbewerb/L1/saison_id/2021\" property=\"og:url\"/>\\n  <link href=\"https://www.transfermarkt.de/bundesliga/kreuztabelle/wettbewerb/L1/saison_id/2021\" hreflang=\"de\" rel=\"alternate\">\\n   <link href=\"https://www.transfermarkt.de/bundesliga/kreuztabelle/wettbewerb/L1/saison_id/2021\" hreflang=\"de-LU\" rel=\"alternate\">\\n    <link href=\"https://www.transfermarkt.at/bundesliga/kreuztabelle/wettbewerb/L1/saison_id/2021\" hreflang=\"de-AT\" rel=\"alternate\"/>\\n    <link href=\"https://www.transfermarkt.ch/bundesliga/kreuztabelle/wettbewerb/L1/saison_id/2021\" hreflang=\"de-CH\" rel=\"alternate\"/>\\n    <link href=\"https://www.transfermarkt.com.tr/bundesliga/kreuztabelle/wettbewerb/L1/saison_id/2021\" hreflang=\"tr\" rel=\"alternate\"/>\\n    <link href=\"https://www.transfermarkt.it/bundesliga/kreuztabelle/wettbewerb/L1/saison_id/2021\" hreflang=\"it-CH\" rel=\"alternate\"/>\\n    <link href=\"https://www.transfermarkt.it/bundesliga/kreuztabelle/wettbewerb/L1/saison_id/2021\" hreflang=\"it\" rel=\"alternate\"/>\\n    <link href=\"https://www.transfermarkt.pl/bundesliga/kreuztabelle/wettbewerb/L1/saison_id/2021\" hreflang=\"pl\" rel=\"alternate\"/>\\n    <link href=\"https://www.transfermarkt.co.uk/bundesliga/kreuztabelle/wettbewerb/L1/saison_id/2021\" hreflang=\"en-GB\" rel=\"alternate\"/>\\n    <link href=\"https://www.transfermarkt.co.uk/bundesliga/kreuztabelle/wettbewerb/L1/saison_id/2021\" hreflang=\"en-IE\" rel=\"alternate\"/>\\n    <link href=\"https://www.transfermarkt.es/bundesliga/kreuztabelle/wettbewerb/L1/saison_id/2021\" hreflang=\"es\" rel=\"alternate\"/>\\n    <link href=\"https://www.transfermarkt.es/bundesliga/kreuztabelle/wettbewerb/L1/saison_id/2021\" hreflang=\"es-ES\" rel=\"alternate\"/>\\n    <link href=\"https://www.transfermarkt.es/bundesliga/kreuztabelle/wettbewerb/L1/saison_id/2021\" hreflang=\"es-CL\" rel=\"alternate\"/>\\n    <link href=\"https://www.transfermarkt.es/bundesliga/kreuztabelle/wettbewerb/L1/saison_id/2021\" hreflang=\"es-VE\" rel=\"alternate\"/>\\n    <link href=\"https://www.transfermarkt.es/bundesliga/kreuztabelle/wettbewerb/L1/saison_id/2021\" hreflang=\"es-EC\" rel=\"alternate\"/>\\n    <link href=\"https://www.transfermarkt.es/bundesliga/kreuztabelle/wettbewerb/L1/saison_id/2021\" hreflang=\"es-CU\" rel=\"alternate\"/>\\n    <link href=\"https://www.transfermarkt.nl/bundesliga/kreuztabelle/wettbewerb/L1/saison_id/2021\" hreflang=\"nl\" rel=\"alternate\"/>\\n    <link href=\"https://www.transfermarkt.pt/bundesliga/kreuztabelle/wettbewerb/L1/saison_id/2021\" hreflang=\"pt\" rel=\"alternate\"/>\\n    <link href=\"https://www.transfermarkt.world/bundesliga/kreuztabelle/wettbewerb/L1/saison_id/2021\" hreflang=\"ru\" rel=\"alternate\"/>\\n    <link href=\"https://www.transfermarkt.world/bundesliga/kreuztabelle/wettbewerb/L1/saison_id/2021\" hreflang=\"world\" rel=\"alternate\"/>\\n    <link href=\"https://www.transfermarkt.fr/bundesliga/kreuztabelle/wettbewerb/L1/saison_id/2021\" hreflang=\"fr-CH\" rel=\"alternate\"/>\\n    <link href=\"https://www.transfermarkt.fr/bundesliga/kreuztabelle/wettbewerb/L1/saison_id/2021\" hreflang=\"fr\" rel=\"alternate\"/>\\n    <link href=\"https://www.transfermarkt.fr/bundesliga/kreuztabelle/wettbewerb/L1/saison_id/2021\" hreflang=\"fr-CA\" rel=\"alternate\"/>\\n    <link href=\"https://www.transfermarkt.fr/bundesliga/kreuztabelle/wettbewerb/L1/saison_id/2021\" hreflang=\"fr-CI\" rel=\"alternate\"/>\\n    <link href=\"https://www.transfermarkt.fr/bundesliga/kreuztabelle/wettbewerb/L1/saison_id/2021\" hreflang=\"fr-LU\" rel=\"alternate\"/>\\n    <link href=\"https://www.transfermarkt.fr/bundesliga/kreuztabelle/wettbewerb/L1/saison_id/2021\" hreflang=\"fr-BE\" rel=\"alternate\"/>\\n    <link href=\"https://www.transfermarkt.com.br/bundesliga/kreuztabelle/wettbewerb/L1/saison_id/2021\" hreflang=\"pt-BR\" rel=\"alternate\"/>\\n    <link href=\"https://www.transfermarkt.us/bundesliga/kreuztabelle/wettbewerb/L1/saison_id/2021\" hreflang=\"en-US\" rel=\"alternate\"/>\\n    <link href=\"https://www.transfermarkt.us/bundesliga/kreuztabelle/wettbewerb/L1/saison_id/2021\" hreflang=\"en-CA\" rel=\"alternate\"/>\\n    <link href=\"https://www.transfermarkt.co.in/bundesliga/kreuztabelle/wettbewerb/L1/saison_id/2021\" hreflang=\"en-IN\" rel=\"alternate\"/>\\n    <link href=\"https://www.transfermarkt.co.za/bundesliga/kreuztabelle/wettbewerb/L1/saison_id/2021\" hreflang=\"en-ZA\" rel=\"alternate\"/>\\n    <link href=\"https://www.transfermarkt.com/bundesliga/kreuztabelle/wettbewerb/L1/saison_id/2021\" hreflang=\"x-default\" rel=\"alternate\"/>\\n    <link href=\"https://www.transfermarkt.com/bundesliga/kreuztabelle/wettbewerb/L1/saison_id/2021\" hreflang=\"en\" rel=\"alternate\"/>\\n    <link href=\"https://www.transfermarkt.be/bundesliga/kreuztabelle/wettbewerb/L1/saison_id/2021\" hreflang=\"nl-BE\" rel=\"alternate\"/>\\n    <link href=\"https://www.transfermarkt.com.ar/bundesliga/kreuztabelle/wettbewerb/L1/saison_id/2021\" hreflang=\"es-AR\" rel=\"alternate\"/>\\n    <link href=\"https://www.transfermarkt.mx/bundesliga/kreuztabelle/wettbewerb/L1/saison_id/2021\" hreflang=\"es-MX\" rel=\"alternate\"/>\\n    <link href=\"https://www.transfermarkt.co/bundesliga/kreuztabelle/wettbewerb/L1/saison_id/2021\" hreflang=\"es-CO\" rel=\"alternate\"/>\\n    <link href=\"https://www.transfermarkt.pe/bundesliga/kreuztabelle/wettbewerb/L1/saison_id/2021\" hreflang=\"es-PE\" rel=\"alternate\"/>\\n    <link href=\"https://www.transfermarkt.my/bundesliga/kreuztabelle/wettbewerb/L1/saison_id/2021\" hreflang=\"ms\" rel=\"alternate\"/>\\n    <link href=\"https://www.transfermarkt.jp/bundesliga/kreuztabelle/wettbewerb/L1/saison_id/2021\" hreflang=\"ja\" rel=\"alternate\"/>\\n    <link href=\"https://www.transfermarkt.co.id/bundesliga/kreuztabelle/wettbewerb/L1/saison_id/2021\" hreflang=\"id\" rel=\"alternate\"/>\\n    <link href=\"https://tmssl.akamaized.net/css/stylesheets/menue.css?lm=1685088459\" rel=\"stylesheet\" type=\"text/css\"/>\\n    <link href=\"https://tmssl.akamaized.net/styles/tm-main.min.css?lm=1685088441\" rel=\"stylesheet\" type=\"text/css\"/>\\n    <link href=\"https://tmssl.akamaized.net/css/stylesheets/main_desktop.css?lm=1685088459\" rel=\"stylesheet\" type=\"text/css\"/>\\n    <link href=\"https://tmssl.akamaized.net/css/print.css?_sn=1?lm=1685088459\" media=\"print\" rel=\"stylesheet\" type=\"text/css\"/>\\n    <link href=\"https://tmssl.akamaized.net/css/wettbewerb.css?lm=1685088459\" rel=\"stylesheet\" type=\"text/css\"/>\\n    <link href=\"https://tmssl.akamaized.net/css/statistiken.css?lm=1685088459\" rel=\"stylesheet\" type=\"text/css\"/>\\n    <link href=\"https://tmssl.akamaized.net/css/chosen.css?lm=1685088459\" rel=\"stylesheet\" type=\"text/css\"/>\\n    <link href=\"https://tmssl.akamaized.net/css/stylesheets/main.css?lm=1685088459\" rel=\"stylesheet\" type=\"text/css\"/>\\n    <link href=\"https://tmssl.akamaized.net/styles/tm-club-profile.min.css?lm=1685088441\" rel=\"stylesheet\" type=\"text/css\"/>\\n    <script src=\"https://tmssl.akamaized.net/js/vendor/jquery.min.js?lm=1685088449\" type=\"text/javascript\">\\n    </script>\\n    <script src=\"https://tmssl.akamaized.net/js/jquery.bxslider.js?lm=1685088449\" type=\"text/javascript\">\\n    </script>\\n    <script src=\"https://tmssl.akamaized.net/js/main.js?lm=1685088449\" type=\"text/javascript\">\\n    </script>\\n    <script src=\"https://tmssl.akamaized.net/js/chosen.ajaxaddition.jquery.js?lm=1685088449\" type=\"text/javascript\">\\n    </script>\\n    <script src=\"https://tmssl.akamaized.net/js/functions.js?lm=1685088449\" type=\"text/javascript\">\\n    </script>\\n    <script src=\"https://tmssl.akamaized.net/js/main_desktop.js?lm=1685088449\" type=\"text/javascript\">\\n    </script>\\n    <script src=\"https://tmssl.akamaized.net/js/chosen.jquery.js?lm=1685088449\" type=\"text/javascript\">\\n    </script>\\n    <title>\\n     Bundesliga - Results Grid 21/22 | Transfermarkt\\n    </title>\\n    <link href=\"/apple-touch-icon-152x152.png\" rel=\"apple-touch-icon-precomposed\"/>\\n    <link as=\"script\" href=\"//data-84a0f3455d.transfermarkt.com/iomm/latest/manager/base/es6/bundle.js\" id=\"IOMmBundle\" rel=\"preload\"/>\\n    <link as=\"script\" href=\"//data-84a0f3455d.transfermarkt.com/iomm/latest/bootstrap/loader.js\" rel=\"preload\"/>\\n    <script src=\"//data-84a0f3455d.transfermarkt.com/iomm/latest/bootstrap/loader.js\" type=\"text/javascript\">\\n    </script>\\n    <script type=\"text/javascript\">\\n     tmData = {\\n       loggedIn : \"0\",\\n       tmTraffic: \"0\",\\n   };\\n    </script>\\n    <script>\\n     // Set to the same value as the web property used on the site\\n\\t\\tvar gaProperty = \\'UA-3816204-13\\';\\n\\n\\t\\t// Disable tracking if the opt-out cookie exists.\\n\\t\\tvar disableStr = \\'ga-disable-\\' + gaProperty;\\n\\t\\tif (document.cookie.indexOf(disableStr + \\'=true\\') > -1) {\\n\\t\\t\\twindow[disableStr] = true;\\n\\t\\t}\\n\\n\\t\\t// Opt-out function\\n\\t\\tfunction gaOptout() {\\n\\t\\t\\tdocument.cookie = disableStr + \\'=true; expires=Thu, 31 Dec 2099 23:59:59 UTC; path=/\\';\\n\\t\\t\\twindow[disableStr] = true;\\n\\t\\t}\\n    </script>\\n    <script async=\"\" src=\"https://www.googletagmanager.com/gtag/js?id=UA-3816204-13\">\\n    </script>\\n    <script>\\n     window.dataLayer = window.dataLayer || [];\\n\\tfunction gtag() { dataLayer.push(arguments); } \\n   gtag(\\'set\\', \\'linker\\', { \\'domains\\': [/^transfermarkt\\\\.(com|de|nl|it|at|ch|es|fr|com\\\\.tr|pt|tv|pl|co\\\\.uk)$/]});\\n   gtag(\\'js\\', new Date()); \\n   gtag(\\'set\\',\\n  {\\n    \\'custom_map\\': {\\n                    \\'dimension1\\': \\'loggedIn\\',\\n                    \\'dimension2\\': \\'tmTraffic\\'\\n                }\\n  });\\n        gtag(\\'config\\', \\'UA-3816204-13\\', {\\n                \\'anonymize_ip\\': true,\\n                \\'transport_type\\': \\'beacon\\',\\n                \\'content_group1\\': \\'statistik\\',\\n                \\'content_group2\\': \\'wettbewerb\\',\\n                \\'content_group3\\': \\'kreuztabelle\\',\\n                \\'content_group4\\': \\'L1\\',\\n                \\'loggedIn\\': tmData.loggedIn,\\n                \\'tmTraffic\\': tmData.tmTraffic\\n            }); \\n   function tmEvent(category, action, label) {\\n                gtag(\\'event\\',\\n                    action,\\n                    {\\n                        \\'event_category\\': category,\\n                        \\'event_label\\': label\\n                    }\\n                );\\n            }\\n\\n            function tmTiming(value, name, event_category, event_label) {\\n                gtag(\\'event\\', \\'timing_complete\\', {\\n                    name,\\n                    value,\\n                    event_category,\\n                    event_label\\n                });\\n            }\\n    </script>\\n    <script src=\"https://tmssl.akamaized.net//ads/ads.js\" type=\"text/javascript\">\\n    </script>\\n    <script type=\"text/javascript\">\\n     window.tmGaId = \"UA-3816204-13\";\\n    </script>\\n    <!--Tisoomi-->\\n    <script type=\"text/javascript\">\\n     /* 26145115 */ !function(e,t){function n(e,t){var n=me(e);if(!n)return n;if(\"\"!=t)for(var i=0;i<t.length;i++){var r=p(t,i);\"^\"==r&&(n=n.parentNode),\"<\"==r&&(n=n.previousElementSibling),\">\"==r&&(n=n.nextElementSibling),\"y\"==r&&(n=n.firstChild)}return n}function i(e,t){var n=ce(t);return{x:e.clientX-n.left,y:e.clientY-n.top}}function r(e){for(var t=0,n=0;e;)t+=e.offsetLeft+e.clientLeft,n+=e.offsetTop+e.clientTop,e=e.offsetParent;return{x:t,y:n}}function l(e,t){var n=0,i=0,l=r(t);return(e.pageX||e.pageY)&&(n=e.pageX,i=e.pageY),(e.clientX||e.clientY)&&(n=e.clientX+document.body.scrollLeft+document.documentElement.scrollLeft,i=e.clientY+document.body.scrollTop+document.documentElement.scrollTop),n-=l.x,i-=l.y,{x:n,y:i}}function o(e,t){return pe(t)?i(e,t):l(e,t)}function s(e,t){e.addEventListener?m(e,\"click\",t,!0):e.attachEvent&&e.attachEvent(\"onclick\",function(){return t.call(e,window.event)})}function d(t,n){return e[b(\"c2V0VGltZW91dA==\")](t,n)}function a(e){return parseInt(e.toString().split(\".\")[0],10)}function p(e,t){return e[t]}function c(){return Ce=(Ae*Ce+De)%Qe}function u(){return c()/(Qe-1)}function f(){return u()}function z(e,t){return e>t?e:t}function w(){for(var e=\"\",t=65;t<91;t++)e+=h(t);for(var t=97;t<123;t++)e+=h(t);return e}function h(e){return p(\" !\\\\\"#$%&\\'()*+,-./0123456789:;<=>?@ABCDEFGHIJKLMNOPQRSTUVWXYZ[\"+p(\"\\\\\\\\\\\\\\\\\",0)+\"]^_`abcdefghijklmnopqrstuvwxyz{|}~\",e-32)}function b(e){var t,n,i,r,l,o,s,d=w()+\"0123456789+/=\",a=\"\",c=0;for(e=e.replace(/[^A-Za-z0-9\\\\+\\\\/\\\\=]/g,\"\");c<e.length;)r=d.indexOf(p(e,c++)),l=d.indexOf(p(e,c++)),o=d.indexOf(p(e,c++)),s=d.indexOf(p(e,c++)),t=r<<2|l>>4,n=(15&l)<<4|o>>2,i=(3&o)<<6|s,a+=h(t),64!=o&&(a+=h(n)),64!=s&&(a+=h(i));return a}function v(e){for(var t=w()+\"0123456789+/=\",n=e.length-1,i=-1,r=\"\";i<n;){var l=e.charCodeAt(++i)<<16|e.charCodeAt(++i)<<8|e.charCodeAt(++i);r+=t[l>>>18&63]+t[l>>>12&63]+t[l>>>6&63]+t[63&l]}var o=e.length%3;if(o>0)for(r=r.slice(0,o-3);r.length%4!=0;)r+=\"=\";return r}function g(){try{return navigator.userAgent||navigator.vendor||window.opera}catch(e){return\"unknown\"}}function m(t,n,i,r){r=r||!1;try{t.addEventListener(n,i,r),e.bzwslClne.push([t,n,i,r])}catch(l){t.attachEvent&&(t.attachEvent(\"on\"+n,i),e.bzwslClne.push([t,n,i,r]))}}function R(e){if(!e)return\"\";for(var t=b(\"ISIjJCUmJygpKissLS4vOjs8PT4/QFtcXV5ge3x9\"),n=\"\",i=0;i<e.length;i++){n+=t.indexOf(e[i])>-1?b(\"XA==\")+e[i]:e[i]}return n}function x(e){if(!e)return\"\";var t=\"\";return e.id&&e.id.length>0&&(t+=\"#\"+R(e.id)),e.className&&e.className.length>0&&(t+=\".\"+R(e.className).split(\" \").filter(function(e){return e&&e.length>0}).join(\".\")),t}function y(e){_e[e]=!1}function j(t,n){var i=Be++;e.bzwslClni&&e.bzwslClni.push(i),_e[i]=!0;var r=function(e){return function(){t.call(null),_e[i]&&d(r,e)}}(n);return d(r,n),i}function k(e){var t=!1;return Object.keys(e).forEach(function(n){t=t||e[n]}),!t}function E(e,t){return e&&(e.consents&&e.consents[t]||e.legitimateInterests&&e.legitimateInterests[t])}function T(t){return!!e.bzwsl521Flags.strictNCNA&&(E(t,2)&&E(t,7)&&E(t,9)&&E(t,10))}function q(t){return e[b(\"ZW5jb2RlVVJJQ29tcG9uZW50\")](t)}function V(e,t,n){var i=function(){return!!t()&&(n(),!0)};if(!i()){var r=j(function(){i()&&y(r)},250);i()}}function W(e){Z(e)}function Z(e){if(e.bzwsle30sdl&&!e.bzwsldd6Injct){e.bzwsldd6Injct=!0,e.bzwsld9ePc={},e.bzwsla6cOc=[],e.bzwslc16Am={},e.bzwsl35aAv={},e.bzwsl4e2Aw={},e.bzwslbb8Rqr={},e.bzwslb2aRqq=[],e.bzwsl35aAvt={},e.bzwsl01eEv={};var n=[];if(!e.bzwsl521Flags.welect.eenabled||SEKZKWelect()){if(bzwsl521Flags.pt666ls){var i=bzwsl521Flags.ba877it,r=bzwsl521Flags.mb3f3el||10,l=bzwsl521Flags.igb57BP,o=function(){var e=ie(\"style\");e.type=\"text/css\";var n=!1,i=ie(\"style\");i.type=\"text/css\";var r=!1;return function(o,s){if(s)if(\"b\"!==o||n){if(\"r\"===o)if(r){var d=i,a=d.sheet;a.insertRule(s,0)}else r=!0,re(i,s),le(t.body,i)}else{if(n=!0,l)for(var p=0;p<l.length;p++)s=s.replace(new RegExp(\"([;{])\"+l[p]+\": [^;]+;\",\"g\"),\"$1\");var d=\"[^:;{\",a=\"!important;\";s=s.replace(new RegExp(d+\"}]+: [^;]+\\\\\\\\s\"+a,\"g\"),\"\"),re(e,s),t.head.insertBefore(e,t.head.firstChild)}}}();if(i){if(i.length>r){for(var s=0,d=[0],p=[i[0]],c=1;c<r;c++){for(;d.indexOf(s)>-1;)s=a(f()*i.length);d.push(s),p[c]=i[s]}i=p,bzwsl521Flags.ba877it=p}for(var u={},z=0;z<i.length;z++){var w=\"string\"==typeof i[z]?me(i[z]):i[z];if(w&&w instanceof Node){var h={element:w,coefaso:{},rcbe4cls:Le(7),codb2tx:\"\"};if(h.codb2tx+=\".\"+h.rcbe4cls+\"{\",!l||l&&-1===l.indexOf(\"text-align\")){var b=fe(w,\"text-align\");h.coefaso[\"text-align\"]=b,h.codb2tx+=\"text-align:\"+b+\";\"}if(!l||l&&-1===l.indexOf(\"max-width\")){var b=fe(w,\"max-width\");h.coefaso[\"max-width\"]=b,h.codb2tx+=\"max-width:\"+b+\";\"}if(!l||l&&-1===l.indexOf(\"position\")){var b=fe(w,\"position\");h.coefaso.position=b,h.codb2tx+=\"position:\"+b+\";\"}if(!l||l&&-1===l.indexOf(\"margin\")){var b=fe(w,\"margin\");h.coefaso.margin=b,h.codb2tx+=\"margin:\"+b+\";\"}if(!l||l&&-1===l.indexOf(\"cursor\")){var b=fe(w,\"cursor\");h.coefaso.cursor=b,h.codb2tx+=\"cursor:\"+b+\";\"}if(!l||l&&-1===l.indexOf(\"content\")){var b=fe(w,\"content\");h.coefaso.content=b,h.codb2tx+=\"content:\"+b+\";\"}if(!l||l&&-1===l.indexOf(\"background\")){var b=fe(w,\"background\");h.coefaso.background=b,h.codb2tx+=\"background:\"+b+\";\"}if(!l||l&&-1===l.indexOf(\"color\")){var b=fe(w,\"color\");h.coefaso.color=b,h.codb2tx+=\"color:\"+b+\";\"}if(!l||l&&-1===l.indexOf(\"font-size\")){var b=fe(w,\"font-size\");h.coefaso[\"font-size\"]=b,h.codb2tx+=\"font-size:\"+b+\";\"}if(!l||l&&-1===l.indexOf(\"font-weight\")){var b=fe(w,\"font-weight\");h.coefaso[\"font-weight\"]=b,h.codb2tx+=\"font-weight:\"+b+\";\"}if(!l||l&&-1===l.indexOf(\"font-family\")){var b=fe(w,\"font-family\");h.coefaso[\"font-family\"]=b,h.codb2tx+=\"font-family:\"+b+\";\"}if(!l||l&&-1===l.indexOf(\"padding\")){var b=fe(w,\"padding\");h.coefaso.padding=b,h.codb2tx+=\"padding:\"+b+\";\"}if(!l||l&&-1===l.indexOf(\"box-sizing\")){var b=fe(w,\"box-sizing\");h.coefaso[\"box-sizing\"]=b,h.codb2tx+=\"box-sizing:\"+b+\";\"}if(!l||l&&-1===l.indexOf(\"pointer-events\")){var b=fe(w,\"pointer-events\");h.coefaso[\"pointer-events\"]=b,h.codb2tx+=\"pointer-events:\"+b+\";\"}if(!l||l&&-1===l.indexOf(\"line-height\")){var b=fe(w,\"line-height\");h.coefaso[\"line-height\"]=b,h.codb2tx+=\"line-height:\"+b+\";\"}if(!l||l&&-1===l.indexOf(\"display\")){var b=fe(w,\"display\");h.coefaso.display=b,h.codb2tx+=\"display:\"+b+\";\"}if(!l||l&&-1===l.indexOf(\"z-index\")){var b=fe(w,\"z-index\");h.coefaso[\"z-index\"]=b,h.codb2tx+=\"z-index:\"+b+\";\"}if(!l||l&&-1===l.indexOf(\"left\")){var b=fe(w,\"left\");h.coefaso.left=b,h.codb2tx+=\"left:\"+b+\";\"}if(!l||l&&-1===l.indexOf(\"margin-left\")){var b=fe(w,\"margin-left\");h.coefaso[\"margin-left\"]=b,h.codb2tx+=\"margin-left:\"+b+\";\"}if(!l||l&&-1===l.indexOf(\"top\")){var b=fe(w,\"top\");h.coefaso.top=b,h.codb2tx+=\"top:\"+b+\";\"}if(!l||l&&-1===l.indexOf(\"width\")){var b=fe(w,\"width\");h.coefaso.width=b,h.codb2tx+=\"width:\"+b+\";\"}if(!l||l&&-1===l.indexOf(\"bottom\")){var b=fe(w,\"bottom\");h.coefaso.bottom=b,h.codb2tx+=\"bottom:\"+b+\";\"}if(!l||l&&-1===l.indexOf(\"height\")){var b=fe(w,\"height\");h.coefaso.height=b,h.codb2tx+=\"height:\"+b+\";\"}if(!l||l&&-1===l.indexOf(\"right\")){var b=fe(w,\"right\");h.coefaso.right=b,h.codb2tx+=\"right:\"+b+\";\"}if(!l||l&&-1===l.indexOf(\"background-color\")){var b=fe(w,\"background-color\");h.coefaso[\"background-color\"]=b,h.codb2tx+=\"background-color:\"+b+\";\"}if(!l||l&&-1===l.indexOf(\"opacity\")){var b=fe(w,\"opacity\");h.coefaso.opacity=b,h.codb2tx+=\"opacity:\"+b+\";\"}if(!l||l&&-1===l.indexOf(\"font\")){var b=fe(w,\"font\");h.coefaso.font=b,h.codb2tx+=\"font:\"+b+\";\"}if(!l||l&&-1===l.indexOf(\"text-decoration\")){var b=fe(w,\"text-decoration\");h.coefaso[\"text-decoration\"]=b,h.codb2tx+=\"text-decoration:\"+b+\";\"}if(!l||l&&-1===l.indexOf(\"text-shadow\")){var b=fe(w,\"text-shadow\");h.coefaso[\"text-shadow\"]=b,h.codb2tx+=\"text-shadow:\"+b+\";\"}if(!l||l&&-1===l.indexOf(\" top\")){var b=fe(w,\" top\");h.coefaso[\" top\"]=b,h.codb2tx+=\" top:\"+b+\";\"}if(!l||l&&-1===l.indexOf(\" left\")){var b=fe(w,\" left\");h.coefaso[\" left\"]=b,h.codb2tx+=\" left:\"+b+\";\"}if(!l||l&&-1===l.indexOf(\"transform\")){var b=fe(w,\"transform\");h.coefaso.transform=b,h.codb2tx+=\"transform:\"+b+\";\"}if(!l||l&&-1===l.indexOf(\" z-index\")){var b=fe(w,\" z-index\");h.coefaso[\" z-index\"]=b,h.codb2tx+=\" z-index:\"+b+\";\"}if(!l||l&&-1===l.indexOf(\"overflow\")){var b=fe(w,\"overflow\");h.coefaso.overflow=b,h.codb2tx+=\"overflow:\"+b+\";\"}if(!l||l&&-1===l.indexOf(\"backdrop-filter\")){var b=fe(w,\"backdrop-filter\");h.coefaso[\"backdrop-filter\"]=b,h.codb2tx+=\"backdrop-filter:\"+b+\";\"}if(!l||l&&-1===l.indexOf(\"/* center container as beeing the middle point instead of x,y 0,0! */color\")){var b=fe(w,\"/* center container as beeing the middle point instead of x,y 0,0! */color\");h.coefaso[\"/* center container as beeing the middle point instead of x,y 0,0! */color\"]=b,h.codb2tx+=\"/* center container as beeing the middle point instead of x,y 0,0! */color:\"+b+\";\"}if(!l||l&&-1===l.indexOf(\"margin-bottom\")){var b=fe(w,\"margin-bottom\");h.coefaso[\"margin-bottom\"]=b,h.codb2tx+=\"margin-bottom:\"+b+\";\"}if(!l||l&&-1===l.indexOf(\"padding-left\")){var b=fe(w,\"padding-left\");h.coefaso[\"padding-left\"]=b,h.codb2tx+=\"padding-left:\"+b+\";\"}if(!l||l&&-1===l.indexOf(\"background-clip\")){var b=fe(w,\"background-clip\");h.coefaso[\"background-clip\"]=b,h.codb2tx+=\"background-clip:\"+b+\";\"}if(!l||l&&-1===l.indexOf(\"padding-top\")){var b=fe(w,\"padding-top\");h.coefaso[\"padding-top\"]=b,h.codb2tx+=\"padding-top:\"+b+\";\"}if(!l||l&&-1===l.indexOf(\"/* spreads cursor pointer area for the X-Button */margin-right\")){var b=fe(w,\"/* spreads cursor pointer area for the X-Button */margin-right\");h.coefaso[\"/* spreads cursor pointer area for the X-Button */margin-right\"]=b,h.codb2tx+=\"/* spreads cursor pointer area for the X-Button */margin-right:\"+b+\";\"}if(!l||l&&-1===l.indexOf(\"/* spreads cursor pointer area for the X-Button */cursor\")){var b=fe(w,\"/* spreads cursor pointer area for the X-Button */cursor\");h.coefaso[\"/* spreads cursor pointer area for the X-Button */cursor\"]=b,h.codb2tx+=\"/* spreads cursor pointer area for the X-Button */cursor:\"+b+\";\"}if(!l||l&&-1===l.indexOf(\"margin-top\")){var b=fe(w,\"margin-top\");h.coefaso[\"margin-top\"]=b,h.codb2tx+=\"margin-top:\"+b+\";\"}if(!l||l&&-1===l.indexOf(\"max-height\")){var b=fe(w,\"max-height\");h.coefaso[\"max-height\"]=b,h.codb2tx+=\"max-height:\"+b+\";\"}if(!l||l&&-1===l.indexOf(\"visibility\")){var b=fe(w,\"visibility\");h.coefaso.visibility=b,h.codb2tx+=\"visibility:\"+b+\";\"}if(!l||l&&-1===l.indexOf(\"direction\")){var b=fe(w,\"direction\");h.coefaso.direction=b,h.codb2tx+=\"direction:\"+b+\";\"}h.codb2tx+=\"} \",u[i[z]]=h,o(\"b\",\\'.dbgvzjbo{text-align: center;max-width: initial !important;position: relative;margin: 10px auto 0;cursor: pointer;content: \"AD\";background: rgba(255, 255, 255, 0.5);color: rgb(34 34 34);font-size: 10px;font-weight: bold;font-family: sans-serif;padding: 2px;box-sizing: content-box;pointer-events: none;line-height: 1;display: inline;z-index: 1;left: 50%;margin-left: -364px;top: 5px;width: 728px;bottom: 0;height: 100px;right: 0;background-color: #c0c0c0;opacity: 0.8;font: bold 14px/100% arial,sans-serif;text-decoration: none;text-shadow: 0 1px 0 #fff; top: 50%; left: 50%;transform: translate(-50%, -50%); z-index: 1000;overflow: hidden;backdrop-filter: blur(6px) !important;/* center container as beeing the middle point instead of x,y 0,0! */color: unset !important;margin-bottom: 8px;padding-left: 4px;background-clip: padding-box;padding-top: 8px;/* spreads cursor pointer area for the X-Button */margin-right: -5px;/* spreads cursor pointer area for the X-Button */cursor: pointer;margin-top: 10px;max-height: 800px;visibility: hidden;direction: rtl;} .jltwgnqyw{margin: 4px;text-align: left;position: absolute;left: 0;top: 0;color: #000;margin-left: 369px;content: \"x\";z-index: 1000;max-width: initial;height: 100%;width: 100%; left: 0;background-color: rgba(192,192, 192,0.5);right: 10px;bottom: 0 !important;overflow: hidden !important;opacity: unset !important;line-height: 12px;transform: translate(-50%, -50%) !important;cursor: unset !important;text-shadow: unset !important;box-sizing: content-box !important;display: block;background: #00000064;font-size: 13px;font: bold 10px/10px \"Helvetica Neue Condensed\", Helvetica, sans-serif;margin-bottom: 10px;} .wpqaswsvyk{position: fixed;top: 10px;z-index: 999999;left: 0 !important;right: 0 !important;background-color: rgba(192, 192, 192, 0.5) !important;content: \"Anzeige\";height: 19px;line-height: 17px;color: white;width: 17px;margin: 5px 0 15px;display: initial !important;text-align: right;max-width: 300px;margin-left: 10px;margin-bottom: 5px;} .giwnykyk{position: absolute !important;top: 0 !important;left: 50% !important;right: unset !important;content: \"X\" !important;height: 25px;width: 300px;color: #979797;line-height: 0;margin: 20px 0px;display: none;max-width: inherit;} .bccyltaxzm{top: 50% !important;content: \"Ad\";left: 100%;width: 9999px;height: 9999px;right: -7px;margin: 0 auto;max-width: 1034px;} .doeuucpj{top: 0px;width: 2px;height: 2px;right: -5px;} .lppbhczh{top: -5px;} .zfcxnlzgj{top: 6px;} \\'),o(\"r\",h.codb2tx),w.className+=\" \"+h.rcbe4cls,w.className+=\" dbgvzjbo\",w.className+=\" jltwgnqyw\",w.className+=\" wpqaswsvyk\",w.className+=\" giwnykyk\",w.className+=\" bccyltaxzm\",w.className+=\" doeuucpj\",w.className+=\" lppbhczh\",w.className+=\" zfcxnlzgj\"}}}}var v=ie(\"style\");v.type=\"text/css\",re(v,\\'#dttWxD {text-align: center;max-width: initial !important;position: relative;margin: 10px auto 0;}#dttWxD img {cursor: pointer;}#dttWxD:before {content: \"AD\";background: rgba(255, 255, 255, 0.5);color: rgb(34 34 34);font-size: 10px;font-weight: bold;font-family: sans-serif;margin: 4px;text-align: left;padding: 2px;position: absolute;box-sizing: content-box;pointer-events: none;line-height: 1;display: inline;z-index:1;}.doVJBUjm {text-align: center;max-width: initial !important;position: relative;margin: 10px auto 0;}.doVJBUjm img {cursor: pointer;}.doVJBUjm:before {content: \"AD\";background: rgba(255, 255, 255, 0.5);color: rgb(34 34 34);font-size: 10px;font-weight: bold;font-family: sans-serif;margin: 4px;text-align: left;padding: 2px;position: absolute;box-sizing: content-box;pointer-events: none;line-height: 1;display: inline;z-index:1;}#FDqErg > img {cursor: pointer; left: 50%; margin-left: -364px; position: absolute; top: 5px; width: 728px; } #FDqErg { bottom: 0; height: 100px; left: 0; position: fixed; right: 0; }#FDqErg796e { background-color: #c0c0c0; bottom: 0; left: 0; opacity: 0.8; position: absolute; right: 0; top: 0; }#FDqErg41f5 { color: #000; cursor: pointer; font: bold 14px/100% arial,sans-serif; left: 50%; margin-left: 369px; position: absolute; text-decoration: none; text-shadow: 0 1px 0 #fff; top: 5px; }#FDqErg41f5::after { content: \"x\"; }#FDqErg {z-index: 1000;}#FDqErg img {max-width: initial;z-index: 1000;cursor: pointer;}#wLIxFzk > img {cursor: pointer; position: fixed;  top: 50%;  left: 50%; transform: translate(-50%, -50%); } #wLIxFzk { height: 100%; width: 100%; position: fixed;  z-index: 1000;  left: 0; top: 0; overflow: hidden; }#wLIxFzk5d5d { background-color: rgba(192,192, 192,0.5); bottom: 0; left: 0; opacity: 0.8; position: absolute; right: 0; top: 0; }#wLIxFzk7097 { color: #000; cursor: pointer; font: bold 14px/100% arial,sans-serif; top: 10px; right: 10px; position: absolute; text-decoration: none; text-shadow: 0 1px 0 #fff; }#wLIxFzk7097::after { content: \"x\"; }#wLIxFzk {z-index: 999999;}#wLIxFzk > div:first-child {bottom: 0 !important;left: 0 !important;position: absolute !important;right: 0 !important;top: 0 !important;backdrop-filter: blur(6px) !important;overflow: hidden !important;background-color: rgba(192, 192, 192, 0.5) !important;opacity: unset !important;}#wLIxFzk > div:not(:first-child) {line-height: 12px; position: absolute !important;left: 50% !important;top: 50% !important;transform: translate(-50%, -50%) !important; /* center container as beeing the middle point instead of x,y 0,0! */color: unset !important;cursor: unset !important;right: unset !important;text-decoration: none;text-shadow: unset !important;box-sizing: content-box !important; /* Publisher might add some outer-paddings into the body, this one fixes it! */}#wLIxFzk > div:not(:first-child):before {content: \"Anzeige\";position: relative;margin-bottom: 8px;display: block;background: #00000064;height: 19px;font-family: sans-serif;padding-left: 4px;line-height: 17px;font-size: 13px;color: white;top: 0px;background-clip: padding-box;}#wLIxFzk > div:not(:first-child):after {content: \"X\" !important;position: absolute;width: 17px;height: 25px;top: -5px;display: block;right: 0;font-family: sans-serif;color: white;padding-top: 8px; /* spreads cursor pointer area for the X-Button */margin-right: -5px; /* spreads cursor pointer area for the X-Button */cursor: pointer;}#wLIxFzk img {cursor: pointer;}#WRXbNcdBGX {text-align: center;margin-top: 10px;} #WRXbNcdBGX img {cursor: pointer;}#WRXbNcdBGX:before {content: \"AD\";background: rgba(255, 255, 255, 0.5);color: rgb(34 34 34);font-size: 10px;font-weight: bold;font-family: sans-serif;margin: 4px;text-align: left;padding: 2px;position: absolute;box-sizing: content-box;pointer-events: none;line-height: 1;display: inline;z-index:1;}#IpHAZZvQ {text-align: center;margin-top: 10px;} #IpHAZZvQ img {cursor: pointer;}#IpHAZZvQ:before {content: \"AD\";background: rgba(255, 255, 255, 0.5);color: rgb(34 34 34);font-size: 10px;font-weight: bold;font-family: sans-serif;margin: 4px;text-align: left;padding: 2px;position: absolute;box-sizing: content-box;pointer-events: none;line-height: 1;display: inline;z-index:1;}#nJvYAXqDFM {margin: 5px 0 15px;text-align: center;} #nJvYAXqDFM img {cursor: pointer;}#nJvYAXqDFM:before {content: \"AD\";background: rgba(255, 255, 255, 0.5);color: rgb(34 34 34);font-size: 10px;font-weight: bold;font-family: sans-serif;margin: 4px;text-align: left;padding: 2px;position: absolute;box-sizing: content-box;pointer-events: none;line-height: 1;display: inline;z-index:1;}.XRohKy {margin: 5px 0 15px;text-align: center;} .XRohKy img {cursor: pointer;}.XRohKy:before {content: \"AD\";background: rgba(255, 255, 255, 0.5);color: rgb(34 34 34);font-size: 10px;font-weight: bold;font-family: sans-serif;margin: 4px;text-align: left;padding: 2px;position: absolute;box-sizing: content-box;pointer-events: none;line-height: 1;display: inline;z-index:1;}.wzHJAJsXMh {text-align: center;} .wzHJAJsXMh img {display: initial !important;cursor: pointer;}.wzHJAJsXMh:before {content: \"AD\";background: rgba(255, 255, 255, 0.5);color: rgb(34 34 34);font-size: 10px;font-weight: bold;font-family: sans-serif;margin: 4px;text-align: left;padding: 2px;position: absolute;box-sizing: content-box;pointer-events: none;line-height: 1;display: inline;z-index:1;}#PDsNOz {text-align: center;} #PDsNOz img {cursor: pointer;display: initial !important;}#PDsNOz:before {content: \"AD\";background: rgba(255, 255, 255, 0.5);color: rgb(34 34 34);font-size: 10px;font-weight: bold;font-family: sans-serif;margin: 4px;text-align: left;padding: 2px;position: absolute;box-sizing: content-box;pointer-events: none;line-height: 1;display: inline;z-index:1;}.qOTuIpiL {width: 300px;}.qOTuIpiL:not(:empty) {margin: 5px 0 15px;position: relative;}#UyWNSKH {}#rfODHu {text-align: center;}#rfODHu img {cursor: pointer;display: initial !important;}#rfODHu:after {content: \"Ad\";color: #979797;display: block;font: bold 10px/10px \"Helvetica Neue Condensed\", Helvetica, sans-serif;text-align: right;line-height: 0;top: 6px;margin-bottom: 10px;position: relative;}#AOjcLtm:not(:empty) {margin: 20px 0px;}#ySaqBSmkI {}.JRguuk {max-width:300px;max-height:800px;margin-left: 10px;}.Awlwlh {max-width:300px;max-height:800px;margin-left: 10px;}.VRNNsaTax {position: absolute;top: 0;left: 100%;z-index: 999999;}.VRNNsaTax img {cursor: pointer;max-width: initial !important;}.IUpQGvZO img {cursor: pointer;}#fPzNoI img {cursor: pointer;}#kRidWi img {cursor: pointer;}#LTqvXKsXTP img {cursor: pointer;}.oGvLsBBA img {cursor: pointer;}bkVRVjK img {cursor: pointer;}.QARHVUrVPq {position:fixed;left:0;top:0;right:0;bottom:0;cursor:pointer;} .QARHVUrVPq img{width:9999px;height:9999px;}@media screen and (max-width: 937px) {.QARHVUrVPq {display: none;visibility: hidden;}}.cryDxnfTu {position: absolute;width: 2px;height: 2px;right: -7px;top: 0;} .cryDxnfTu img {\\\\tcursor: pointer;max-width: inherit;}.gyJOovA {margin-bottom: 5px;direction: rtl;right: -5px;position: relative;line-height: 0;} .gyJOovA img {\\\\tcursor: pointer;}#HXRTyYjJvc {margin: 0 auto;max-width: 1034px;position: relative;}#HXRTyYjJvc:empty {display: none;visibility: hidden;}@media screen and (max-width: 937px) {#HXRTyYjJvc {display: none;visibility: hidden;}}@media print {.qOTuIpiL,#AOjcLtm,.VRNNsaTax,bkVRVjK,#HXRTyYjJvc,#dttWxD,.doVJBUjm,#FDqErg,#wLIxFzk,#WRXbNcdBGX,#IpHAZZvQ,#nJvYAXqDFM,.XRohKy,.wzHJAJsXMh,#PDsNOz,#rfODHu,.JRguuk,.Awlwlh,.IUpQGvZO,#fPzNoI,#kRidWi,#LTqvXKsXTP,.oGvLsBBA,.QARHVUrVPq,.cryDxnfTu,.gyJOovA,#UyWNSKH,#ySaqBSmkI{display:none;}} .bzwslHid {display:none !important;}\\'),le(lt,v),e.bzwslCln.push(v),setTimeout(O(n),0)}}}function M(e,t){if(t<0)return M(e,t+26);for(var n=\"\",i=0;i<e.length;i++){var r=e[i];if(r.match(/[a-z]/i)){var l=e.charCodeAt(i);l>=65&&l<=90?r=h((l-65+t)%26+65):l>=97&&l<=122&&(r=h((l-97+t)%26+97))}n+=r}return n}function O(e){var t=[];U(e,t),L(e,t),P(e,t),X()}function G(e,t){if(e&&t)for(var n=Object.keys(t),i=0;i<n.length;i++)\"[object Array]\"===Object.prototype.toString.call(t[n[i]])?ae(e,n[i],t[n[i]],\"important\"):ae(e,n[i],t[n[i]])}function F(n,i){if(n&&0!==n.children.length){var r=n.children[0],l=ce(n),o=ce(r),s=o.x-l.x+o.width,d=$e[i];d||(d=ie(\"style\"),$e[i]=d,t.head.appendChild(d),m(e,\"resize\",function(e,t){F(this,e)}.bind(n,i))),-1===d.innerHTML.indexOf(s+\"px\")&&(d.innerHTML=x(n)+\":after{width:\"+s+\"px;}\")}}function N(e,t,n){if(\"[object Array]\"===Object.prototype.toString.call(e))for(var i=0;i<e.length;i++){if((e[i].selector||e[i].selectorAll)&&!e[i].skipSelectorCSS)for(var r=Re(e[i].selector||e[i].selectorAll),l=0;l<r.length&&(G(r[l],e[i].cssApply),!e[i].selector);l++);e[i].function&&\"function\"==typeof e[i].function&&e[i].function(t,n),e[i].applyAdText&&\"function\"==typeof F&&F(t,n)}}function U(i,r){function l(t){var n=ie(\"div\");r[\"\"+b(Ue(b(\"V1lNaVk2TWtmS0VvZmpAQA==\"),-3))]=n,r[\"\"+b(Ue(b(\"UFdENFFHbkA=\"),-3))]=n,i[\"\"+b(Ue(b(\"V1lNaVk2TWtmS0VvZmpAQA==\"),-3))]=n,ve(n,\"qOTuIpiL AKGPSHVzZC\"),ze(t,n),e.bzwsld2544.w[10549]=n,e.bzwslCln.push(n)}function o(t){var n=ie(\"div\");r[\"\"+b(Ue(b(\"VzZZM2Y2VXxdWkl3WzNdV1s0Z3xcW0V6XVtMQA==\"),-3))]=n,r[\"\"+b(Ue(b(\"UFdENFFHakA=\"),-3))]=n,i[\"\"+b(Ue(b(\"VzZZM2Y2VXxdWkl3WzNdV1s0Z3xcW0V6XVtMQA==\"),-3))]=n,ge(n,\"AOjcLtm\"),ve(n,\"AKGPSHVzZC\"),ze(t,n),e.bzwsld2544.w[10548]=n,e.bzwslCln.push(n)}function s(t){var n=ie(\"div\");r[\"\"+b(Ue(b(\"WDN3XVs0TXNdNWszWzRnfFxbRXpdW0xA\"),-3))]=n,r[\"\"+b(Ue(b(\"UldUfVJEQEA=\"),-3))]=n,i[\"\"+b(Ue(b(\"WDN3XVs0TXNdNWszWzRnfFxbRXpdW0xA\"),-3))]=n,ge(n,\"kvWHIfFfbu\"),ve(n,\"VRNNsaTax hide-for-small\"),ze(t,n),e.bzwsld2544.w[9438]=n,e.bzwslCln.push(n)}function d(t){var n=ie(\"div\");r[\"\"+b(Ue(b(\"WDM0RVhvVUpVWFlIWzM8NGdKTXxcWm94WzRRdmU2VX0=\"),-3))]=n,r[\"\"+b(Ue(b(\"UkdufVJEQEA=\"),-3))]=n,i[\"\"+b(Ue(b(\"WDM0RVhvVUpVWFlIWzM8NGdKTXxcWm94WzRRdmU2VX0=\"),-3))]=n,ze(t,n),e.bzwsld2544.w[8938]=n;var l=ie(\"div\");re(l,\"\"+b(Ue(b(\"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\"),-3))),ke(l.childNodes,function(t,i){ze(n,i),e.bzwslCln.push(i)}),N([{function:function(e,t){e.remove&&e.remove()}}],n,8938),e.bzwslCln.push(n)}function a(t){var n=ie(\"div\");r[\"\"+b(Ue(b(\"WTVJdmVLRWtmSll8WzRnVlRZRVRVWUxA\"),-3))]=n,r[\"\"+b(Ue(b(\"UkdcOFF6QEA=\"),-3))]=n,i[\"\"+b(Ue(b(\"WTVJdmVLRWtmSll8WzRnVlRZRVRVWUxA\"),-3))]=n,ge(n,\"HXRTyYjJvc\"),ze(t,n),e.bzwsld2544.w[8697]=n,e.bzwslCln.push(n)}!function(t){if(e.bzwsl521Flags.video){var i=n(\"\"+b(Ue(b(\"TDVreWVaWHdmcFltZ0pJeF01e29PW1F6ZTZVdmRaZ3JnRkR2TEY4Nl1bTWxnWjhxT1tNb1w2VWtlcGd2XVdIQA==\"),-3)),\"\");i&&t(i)}}(l),function(t){if(e.bzwsl521Flags.video){var i=n(\"\"+b(Ue(b(\"ZVpJc2VsRC5MRjh8ZTZmalNsRHhlSkl8XTVYd1JGRHhlcFk2Znw0NmRaVXFdW1R3T1pReWVxVWtkWjhvZmxEdUxGcnZMSjRrZFo3alNsRHhmcDw2TEc3ak9we2tmcGdvT1dqak9xXXNdW2d6ZTZNM09bVXxcWlF1ZFo4cUxGdmpOakBA\"),-3)),\"\");i&&t(i)}}(o),function(t){if(!(e.bzwslf95Mobile||e.bzwsl521Flags.ncna&&e.bzwslf95Mobile)){var i=n(\"\"+b(Ue(b(\"T3Fnb2ZwTTRlcGZ3ZjV3OGY1UXxcW0VvZmw0bWU1ODNcWm94XVtMQA==\"),-3)),\"\");i&&t(i)}}(s),function(t){if(!(e.bzwslf95Mobile||e.bzwsl521Flags.ncna&&e.bzwslf95Mobile)){var i=n(\"\"+b(Ue(b(\"TDZNb1w1PHdlWll4XUpZfA==\"),-3)),\"\");i&&t(i)}}(d),function(i){if(!e.bzwslf95Mobile&&938<=(e.innerWidth||t.documentElement.clientWidth||t.body.clientWidth)&&(!e.bzwsl521Flags.ncna||!e.bzwslf95Mobile&&938<=(e.innerWidth||t.documentElement.clientWidth||t.body.clientWidth))){var r=n(\"\"+b(Ue(b(\"TDU4a2dwb2xcWnt1XVo3dkw1NGtkWjdA\"),-3)),\"\");r&&i(r)}}(a)}function P(t,n){function i(e,t){var i=n[\"\"+b(Ue(b(\"VzZZM2Y2VXxdWkl3WzNdV1s0Z3xcW0V6XVtMQA==\"),-3))];i?e(i):t(12353)}function r(i){var r=ie(\"div\");n[\"\"+b(Ue(b(\"VzZZM2Y2VXxdWkl3WzNdVw==\"),-3))]=r,n[\"\"+b(Ue(b(\"UFdMfVFXUEA=\"),-3))]=r,t[\"\"+b(Ue(b(\"VzZZM2Y2VXxdWkl3WzNdVw==\"),-3))]=r;var l;ge(r,\"UyWNSKH\"),l=\"#UyWNSKH\",le(i,r),e.bzwsld2544.a[12353]=r;var o=[];(e.bzwsld254tc.gn||e.bzwsld254tc.ab)&&o.push(b(\"QURCTE9DSw==\")),e.bzwsld254tc.pm&&o.push(\"PM\"),e.bzwsl521Flags.nc&&o.push(\"NC\"),0===o.length&&o.push(\"NONE\"),e.postMessage({from:nt,to:it,message:{type:\"loadVideoTag\",value:{positionId:12353,cssSelector:l,currentTrafficTypes:o}}}),e.bzwslCln.push(r)}function l(e,t){var i=n[\"\"+b(Ue(b(\"V1lNaVk2TWtmS0VvZmpAQA==\"),-3))];i?e(i):t(12352)}function o(i){var r=ie(\"div\");n[\"\"+b(Ue(b(\"VzZZM2Y2VXxdWkl3WzM0Vg==\"),-3))]=r,n[\"\"+b(Ue(b(\"UFdMfVFXTEA=\"),-3))]=r,t[\"\"+b(Ue(b(\"VzZZM2Y2VXxdWkl3WzM0Vg==\"),-3))]=r;var l;ge(r,\"ySaqBSmkI\"),l=\"#ySaqBSmkI\",le(i,r),e.bzwsld2544.a[12352]=r;var o=[];(e.bzwsld254tc.gn||e.bzwsld254tc.ab)&&o.push(b(\"QURCTE9DSw==\")),e.bzwsld254tc.pm&&o.push(\"PM\"),e.bzwsl521Flags.nc&&o.push(\"NC\"),0===o.length&&o.push(\"NONE\"),e.postMessage({from:nt,to:it,message:{type:\"loadVideoTag\",value:{positionId:12352,cssSelector:l,currentTrafficTypes:o}}}),e.bzwslCln.push(r)}V(12353,function(){var t=!0,i=n[\"\"+b(Ue(b(\"VzZZM2Y2VXxdWkl3WzNdV1s0Z3xcW0V6XVtMQA==\"),-3))];return t=t&&i,t=t&&t.getBoundingClientRect().top-e.innerHeight<=-150},function(){i(r,H)}),V(12352,function(){var t=!0,i=n[\"\"+b(Ue(b(\"V1lNaVk2TWtmS0VvZmpAQA==\"),-3))];return t=t&&i,t=t&&t.getBoundingClientRect().top-e.innerHeight<=-150},function(){l(o,H)})}function L(i,r){function l(t,n,r,l){r||xe(Ue(\"22zzz1wudqvihupdunw1frp2lpdjh25{Y}Hh7vTJeI84j|Jo8tJ6GXJQ7nrj}5|KpKX}47\\\\\\\\]7N2\"+e.bzwslc84Rnd+\"LXWv7o7oxq<kxfQ:984<howUj:JIn7]]4wmZkURYZNiP3V41jli\",-3),function(){if(!r){r=!0;var d=this;if(d.height<2)return void H(8694,n,!1);if(l==e.bzwslc84Rnd){var p=t,c=ie(\"div\");i[\"\"+b(Ue(b(\"VG5vUFdEQEA=\"),-3))]=c,ge(c,\"dttWxD\"),ve(c,\"cYTwmqf \");var u=d;e.bzwslc16Am[8694]&&(K(e.bzwslc16Am[8694]),e.bzwslc16Am[8694]=!1),s(u,function(t,n){if(!e.bzwsld9ePc[8694]){t.preventDefault(),t.stopPropagation();for(var n=o(t,this),i=0;i<e.bzwsla6cOc.length;i++){var r=e.bzwsla6cOc[i];if(8694==r.p&&n.x>=r.x&&n.x<r.x+r.w&&n.y>=r.y&&n.y<r.y+r.h){if(r.u){var l=r.t.length>0?r.t:\"_self\";l=0==t.button&&t.ctrlKey?\"_blank\":l,Te(e,r.u,r.u,l,!0)}return}}\\nvar s=[Ue(\"22zzz1wudqvihupdunw1frp2lpdjh2N]\\\\\\\\n6pWJo7H57KF7zTIQES8<;r\\\\\\\\XHlWev7pon6M4Z6rR2\"+e.bzwslc84Rnd+\"JVZjmM9hX\\\\\\\\gYZLEePmRPn\\\\\\\\nXOGjuh4hh7Y6miLK6mk}[GpV1jli\",-3),Ue(\"22zzz1wudqvihupdunw1frp2lpdjh2Ey;5GffxK{R3guGSVlhQi78xms}}YGPjJ4l<JpTmJIG42\"+e.bzwslc84Rnd+\"WWRKe[gnNNnpvrlmpjrXFw}LpW:ypux6peipWqYo\\\\\\\\nnmn{|1jli\",-3),Ue(\"22zzz1wudqvihupdunw1frp2lpdjh2[5tgvXH}W5MitKOVj4Msr65z|[X5oVF]8KwMSPqIXXw72\"+e.bzwslc84Rnd+\"GLGFkuqi}zXZ{P6kxI6P55jKNyvOp6Y|k{LwLW[nQqfqM391jli\",-3),Ue(\"22zzz1wudqvihupdunw1frp2lpdjh2kfoO34KsYHHGJT:Ts4i\\\\\\\\nSMN34\\\\\\\\<w;9VRZY7VXLpTg{62\"+e.bzwslc84Rnd+\"PJIiMg}GzThqt3<S\\\\\\\\4vO;ggGxvu9y8Mhh8y[h945H6|USgp1jli\",-3),Ue(\"22zzz1wudqvihupdunw1frp2lpdjh2jSKvsJpXjUtVGZGKrLwS5rNzUL\\\\\\\\\\\\\\\\K{J\\\\\\\\4]}RttWPgVsw2\"+e.bzwslc84Rnd+\"]IMRIUTWtnPvZhTOH}P]tgLXg|wvrVHzWGftYwrOqjI;YPM1jli\",-3),Ue(\"22zzz1wudqvihupdunw1frp2lpdjh2QVkQ7VULyJ5HGEW]5TIw:9HrwNRJiK9kyetMN3P<Ih{G2\"+e.bzwslc84Rnd+\"IMKKpGO}[JT|EWJfqJ;jMle;;XJYlQUVR:W]6KqPi;jfm741jli\",-3),Ue(\"22zzz1wudqvihupdunw1frp2lpdjh25lvjKfVPX<rs7E[MRUsFVPeEqlZmmxZF8VFWT9Ek;XY[2\"+e.bzwslc84Rnd+\"[VX;hMn[Qk\\\\\\\\pxXpnSFf[j9L|89VPFxQIj7r37[PJ46Kg:lh1jli\",-3),Ue(\"22zzz1wudqvihupdunw1frp2lpdjh2jHKTj9|:vGsGWYY6|w8XmX74fh{:JZwNSp]4jZvFyw6Q2\"+e.bzwslc84Rnd+\"KSQGG7NNMgZ|5}Lfs9;vnt56i\\\\\\\\KxLy99qJ99EN{I<w:VKx71jli\",-3),Ue(\"22zzz1wudqvihupdunw1frp2lpdjh29m[{HfVSL;\\\\\\\\|vxZerS6|YHo8O\\\\\\\\48nWtoIkSggJ]4k3no2\"+e.bzwslc84Rnd+\"HPPYF9S|ywrTofEmE|mUlqSU{ROEjrgjr6xu98V9s6M4w]z1jli\",-3),Ue(\"22zzz1wudqvihupdunw1frp2lpdjh2oW[fy]4G}6fFmjijhyP987u\\\\\\\\l7H|VyK\\\\\\\\x;Hn<[Uyz4M52\"+e.bzwslc84Rnd+\"SMHO;KiTt7qemUe7rMUef7SXlEU9XmQYmM]j{4hju44OTv\\\\\\\\1jli\",-3),Ue(\"22zzz1wudqvihupdunw1frp2lpdjh2HzIzQxeKEOsgil[[TZ8IYxwqL938P|vje7gYpf8SO9Rx2\"+e.bzwslc84Rnd+\"RPO{R7}j:[yL]Z4tXPrj:hP\\\\\\\\q7JwGKqXfY3Lj::37S:sRN71jli\",-3),Ue(\"22zzz1wudqvihupdunw1frp2lpdjh2qYY}[F;KU4o3h{OQI6rMoojO6<\\\\\\\\ygf3y[wxeYeN6[4Wy2\"+e.bzwslc84Rnd+\"Y[Pg\\\\\\\\6lj8}8uJEys[63e:JWXNJ4vvJojqSko85Z8EeE676V1jli\",-3)],d=[Ue(\"22zzz1wudqvihupdunw1frp2lpdjh2vNLxRn{rTPNtk;hJq{hIHSTkUq|6swPYkeQTI\\\\\\\\4FgLfg2\"+e.bzwslc84Rnd+\"\\\\\\\\ESn[Yk\\\\\\\\IoHKlZEeSsl[UHKyrOj\\\\\\\\7J4P}wY9[oTWXKuRppi1jli\",-3),Ue(\"22zzz1wudqvihupdunw1frp2lpdjh2HTwEhmIVg:guVEvp4huKtPhT\\\\\\\\YswT|hR5jnqmGOy3Ik[2\"+e.bzwslc84Rnd+\"\\\\\\\\GI;]nqN{viuyQFo6vZeQ;mI:;QE{NMi3;xGfTjwGwTg8WF1jli\",-3),Ue(\"22zzz1wudqvihupdunw1frp2lpdjh2MEF3zGFMF{YmO;G[Em<GZ;J3WGKwp]r<35OoloVl3YSr2\"+e.bzwslc84Rnd+\"[GI|:MPUnHLiGx:qn7I{<8e:{lYFVEQys{jv3|Iz;|}Gtvw1jli\",-3),Ue(\"22zzz1wudqvihupdunw1frp2lpdjh2ryXGILSsuvR9W{L5mHqe<TwKHgv:XxuR\\\\\\\\XINov5Po9eJ2\"+e.bzwslc84Rnd+\"I\\\\\\\\]xN:Z3<|RXPVpPNYkhmV[4KE3x{EGZu:nSqG:v]iyrZv;1jli\",-3),Ue(\"22zzz1wudqvihupdunw1frp2lpdjh2ON6Z3ej{rtnoPyQepOW5y6<tf9zYOWj:PS5tuppTm\\\\\\\\6u2\"+e.bzwslc84Rnd+\"ZEV5ZeeX3s{{tW9Ohn6moG4jmX\\\\\\\\:9JFk<u\\\\\\\\I9NuWRE7hZSF1jli\",-3),Ue(\"22zzz1wudqvihupdunw1frp2lpdjh2ts|WhPJ[tFwt7Zr9y\\\\\\\\q\\\\\\\\Xkug5EULGz8HXQsesyp{sye<2\"+e.bzwslc84Rnd+\"ZLJYnrplkGMoTOUyxm[yRZPsULNX7wzFuLKYU6wYPoXle}m1jli\",-3),Ue(\"22zzz1wudqvihupdunw1frp2lpdjh2OYUytI;;E4ufIrmEMfqJHzjFQ3]G3tve:F|\\\\\\\\me]tos7l2\"+e.bzwslc84Rnd+\"\\\\\\\\RG5H|r}49Y}9]Uw<:wP6V4ZMG{TI<StngYq|mWXqv7RG7I1jli\",-3),Ue(\"22zzz1wudqvihupdunw1frp2lpdjh2vqO{xhPJ|qKqXhYSf8Ggl|lF8Ulh[{9Z6nKjZtGZ3n3M2\"+e.bzwslc84Rnd+\"H]EGoWn}pj}4h3IfNNq8MX5jW|:nHMKMpPqf6STLOMltnMV1jli\",-3),Ue(\"22zzz1wudqvihupdunw1frp2lpdjh2J7;ORHwV8KGvw4:9s5HSPKGnX:X}{TgpPkYm6f<JZ{Tq2\"+e.bzwslc84Rnd+\"[O]TxQIPfjKeL34z8N<<fsJeQSk8\\\\\\\\z}QHIngn:k[nK7l9iJ1jli\",-3),Ue(\"22zzz1wudqvihupdunw1frp2lpdjh2U[\\\\\\\\]YnYL|U97jHm8{F:R;7OOxsIPzj:6RGsefF3ZKR7O2\"+e.bzwslc84Rnd+\"LNLQz{Krtkg34VwR{}hQhLyPfs|MrfFXuWI8;orE:lOTLym1jli\",-3),Ue(\"22zzz1wudqvihupdunw1frp2lpdjh2jj<PNSiLpMuI6<sH3XJ|xMNLYyPRIo|JO\\\\\\\\5Ll\\\\\\\\7fnjH]2\"+e.bzwslc84Rnd+\"]]RyY\\\\\\\\S:Ef3lZmlek\\\\\\\\v;]|fyEWUk[xerf}SNJp]fLw3ZprV1jli\",-3),Ue(\"22zzz1wudqvihupdunw1frp2lpdjh2U4uo4yw6GW9SV:XK}zJVLyuxineKY9wEIVJlgTRgGOVt2\"+e.bzwslc84Rnd+\"IZUrPFljE}|Fsi{jm7Gqm8R38W]puy3wOu<S<QO<NpYMsE81jli\",-3)],p=s[12*a(1*n.y/this.offsetHeight)+a(12*n.x/this.offsetWidth)],c=d[12*a(1*n.y/this.offsetHeight)+a(12*n.x/this.offsetWidth)];Te(e,p,c,\"_blank\")}}),le(c,d),ze(p,c),e.bzwsld2544.a[8694]=c,e.bzwslCln.push(c),N([{applyAdText:!0},{selector:\".werbung-billboard\",cssApply:{display:[\"none\"]}}],c,8694),Ke(c,8694,Ue(\"22zzz1wudqvihupdunw1frp2lpdjh2EQu:<EFTrNF]sZOljee;OGrik[;mvrW7T:iqFZP4xNK:2\"+e.bzwslc84Rnd+\"KQQ]8wr{uGx<8l44Rque5w;Su4QzSuuY9GnxYgK}}8;[NN|1jli\",-3)),H(8694,n,!0)}}},function(){H(8694,n,!1)})}function p(t,i,r){if(e.bzwslf95Mobile||e.bzwsl521Flags.ncna&&e.bzwslf95Mobile)r(8707,!t,!1);else{var l=n(\"\"+b(Ue(b(\"T3Fnb2ZwTTRlcGZ3XHBvdmVKTXlcW01u\"),-3)),\"\");l?i(l,!t,!1,e.bzwslc84Rnd):r(8707,!t,!1)}}function c(t,n,r,l){r||xe(Ue(\"22zzz1wudqvihupdunw1frp2lpdjh2s4FYSIH}TSLqThYuoN<wGv[i|qVl7ZPK;w[I4EvL4StH2\"+e.bzwslc84Rnd+\"URS<J8YvEsX]n:fmqmGpTTW]zTO\\\\\\\\\\\\\\\\m7viyNejEsONunzmem1jli\",-3),function(){if(!r){r=!0;var d=this;if(d.height<2)return void H(8707,n,!1);if(l==e.bzwslc84Rnd){var p=t,c=ie(\"div\");i[\"\"+b(Ue(b(\"VG5vUFdJPEpcWnt2XHBJbWR6QEA=\"),-3))]=c,ve(c,\"doVJBUjm \");var u=d;e.bzwslc16Am[8707]&&(K(e.bzwslc16Am[8707]),e.bzwslc16Am[8707]=!1),s(u,function(t,n){if(!e.bzwsld9ePc[8707]){t.preventDefault(),t.stopPropagation();for(var n=o(t,this),i=0;i<e.bzwsla6cOc.length;i++){var r=e.bzwsla6cOc[i];if(8707==r.p&&n.x>=r.x&&n.x<r.x+r.w&&n.y>=r.y&&n.y<r.y+r.h){if(r.u){var l=r.t.length>0?r.t:\"_self\";l=0==t.button&&t.ctrlKey?\"_blank\":l,Te(e,r.u,r.u,l,!0)}return}}var s=[Ue(\"22zzz1wudqvihupdunw1frp2lpdjh2XIjOOx:Ygj5UJpy\\\\\\\\XTI9z}VxzuLpY];k5[QW6<G{FeUh2\"+e.bzwslc84Rnd+\"OGKrWzp|IqxFz4ZV8kX\\\\\\\\\\\\\\\\m9ISVzVFOY<kW[Tz\\\\\\\\YZYP4gwLq1jli\",-3),Ue(\"22zzz1wudqvihupdunw1frp2lpdjh2\\\\\\\\{r[}qKee[6qRrEoWfZX]U:Gg[3JsuY|IRHVy5k\\\\\\\\g[yp2\"+e.bzwslc84Rnd+\"GRMrrky{7qoer73IjHR}]zj\\\\\\\\{qfyUNTUQ;eGWly[gWLvSQN1jli\",-3),Ue(\"22zzz1wudqvihupdunw1frp2lpdjh2Mx:Y[<snn]l}TYwnTjKqHJ8GuOWgw|osVgxoU\\\\\\\\97FPwj2\"+e.bzwslc84Rnd+\"OIMRio]hhIm<QvrNQfNPZswKHL\\\\\\\\mJylept44o7T6;GurX;[1jli\",-3),Ue(\"22zzz1wudqvihupdunw1frp2lpdjh2n:]o:stuO:qY7sve9Z<LiR:suOJE{X7v\\\\\\\\fp6K4;M:;n\\\\\\\\2\"+e.bzwslc84Rnd+\"QHSGkOYf:XwsRSFFmpkYIm{jrQEyGIO9giE33fg<tT[5g761jli\",-3),Ue(\"22zzz1wudqvihupdunw1frp2lpdjh2|sr8fzw]p}ivvejj;\\\\\\\\U7HINqSJ6XNVNHZM7meMgmk8|{2\"+e.bzwslc84Rnd+\"NGTOFotouExrP|5YKv{IXpZrj:fEfmpO5FyT\\\\\\\\kIPV4qRT<:1jli\",-3),Ue(\"22zzz1wudqvihupdunw1frp2lpdjh2:uq4i:xQzvqJVV<LvL;<;RUGX65ZTyM}]m|NM6JvRsWT2\"+e.bzwslc84Rnd+\"ZOJG]YWixg<o|[:g:vOF|FLy|}9]t;It9u<}uEgy[EKoM6|1jli\",-3),Ue(\"22zzz1wudqvihupdunw1frp2lpdjh2R9tK8u{lgU\\\\\\\\k<z;U3Fzr<ftE9z9wenXt]oJmX}8[]3I]2\"+e.bzwslc84Rnd+\"JOE[o|zZx3LlFMP9vVWM7y<SxiPPH[n7Eu:N5IiSg7h;v8U1jli\",-3),Ue(\"22zzz1wudqvihupdunw1frp2lpdjh2QrqO;l{}7y98[n9ei5x8O{nvZheuUk4oPw3pUNIsTNyM2\"+e.bzwslc84Rnd+\"]VPL3v[;7n}Er8z7YHFgZ:UkKi5oWOJ}u{pFRX<G5uGn[;k1jli\",-3),Ue(\"22zzz1wudqvihupdunw1frp2lpdjh2YS{5L;wP{V\\\\\\\\zo6m\\\\\\\\xPW8ULuYoLEm8G7In9<M|}ZXJFN62\"+e.bzwslc84Rnd+\"O[YGUYM\\\\\\\\x3v}OH:PKgE3]PWyR[u4uVL}jYGg4JFGof5mlzi1jli\",-3),Ue(\"22zzz1wudqvihupdunw1frp2lpdjh24NLgmh3wtsXR]JtjxQR5hiPrJp5[|h4vW:i8[h}jiSl[2\"+e.bzwslc84Rnd+\"N]Wx:MYQoQ]fkUiqshOj<M;m7g[vLMtmKLYnvt;MUT}vJMk1jli\",-3),Ue(\"22zzz1wudqvihupdunw1frp2lpdjh2Yxxx{|TG7NeH;mtjT{flzJhrYjVn\\\\\\\\[qe}sQ\\\\\\\\u[ySgUPM2\"+e.bzwslc84Rnd+\"QYFknXVS:S\\\\\\\\7KQXom;{f8jWMLnvr<jFf}X7ph8]yxNxL}Kx1jli\",-3),Ue(\"22zzz1wudqvihupdunw1frp2lpdjh2ruKs8H{TQ4qNxe6kwoo9ni5kfH:imKl8R6J4sU[IPf[82\"+e.bzwslc84Rnd+\"ZNNgnrjl}6EhgTzTFRh{GZkFVzrvu<v<m\\\\\\\\;U}hyo<wRIxLr1jli\",-3)],d=[Ue(\"22zzz1wudqvihupdunw1frp2lpdjh2mK9tHw5Mm[iGvy7omUjj]wsZWntZ:N:9k[PMyFFLgs{{2\"+e.bzwslc84Rnd+\"QENnO[L9<iYsL934wh{RQjO\\\\\\\\mZNHFq}f7e56NVe<Hl}:Sv91jli\",-3),Ue(\"22zzz1wudqvihupdunw1frp2lpdjh2\\\\\\\\EFiN\\\\\\\\9LnQ9{rpgF|XTqRh|qsEMioqiXGr\\\\\\\\M8O4P8g8P2\"+e.bzwslc84Rnd+\"KQQwWylQY}ISYYR}xhkHgLxPUz|l:EJVzF5jpYGrjy7J49k1jli\",-3),Ue(\"22zzz1wudqvihupdunw1frp2lpdjh2H|LOzLremoyWYxTo6eTIy<<9hpTtE8sXEHTRNIQeHnYh2\"+e.bzwslc84Rnd+\"QV[U;oNinxjuJePvQswzNxvLS\\\\\\\\m6[tPiEM:zUSh5E94L|el1jli\",-3),Ue(\"22zzz1wudqvihupdunw1frp2lpdjh2MLZ9|f7ikZJYlzEY}lVYiw66Tytt44wJI]nmWr9mIh:U2\"+e.bzwslc84Rnd+\"KWT<wGM7YP[fZ8rq\\\\\\\\8{;PMk4H4ITo\\\\\\\\Y4r[TOOxGq}{zRfM<1jli\",-3),Ue(\"22zzz1wudqvihupdunw1frp2lpdjh2r{FmOG}{LQLG\\\\\\\\|z}Ji7|<pOPEgXRuvPxRL98ZUet[OQp2\"+e.bzwslc84Rnd+\"KUIeHR8nMJSTYFLu]Ne45|Klks7vRPYgOfvZZS96nOiSK{m1jli\",-3),Ue(\"22zzz1wudqvihupdunw1frp2lpdjh2x9W8g6GoZT;}jU:V:o3k]J|eONIxY[jo|zPYz;UQW;P;2\"+e.bzwslc84Rnd+\"VFH<[xOqTMPg|zXfP7{qzku}KL3EY76LkYUm95U|VWsH<kW1jli\",-3),Ue(\"22zzz1wudqvihupdunw1frp2lpdjh2q3xVMWS[wOJrMpyUx:ZKQurrz\\\\\\\\3L6w5;sgVP7fX7g7FF2\"+e.bzwslc84Rnd+\"PTTvjre9npKot;K[WQlt{qzkf4R5ni:3T[5suP3p\\\\\\\\Mhu93u1jli\",-3),Ue(\"22zzz1wudqvihupdunw1frp2lpdjh2{G;MHrFpsWPW363;P9qQUX59IG5<}n9V[Y7l{[mFuYNf2\"+e.bzwslc84Rnd+\"FWVjq|gSznRWHejUNTKq5peIuj]XmP;m3EYw9M7KpKEV[gG1jli\",-3),Ue(\"22zzz1wudqvihupdunw1frp2lpdjh2W9E5Pr5r5WxR8vw}GLfE;ggU5NnKM]TM7\\\\\\\\OqLe{pPZmt2\"+e.bzwslc84Rnd+\"EXU}{7Q|PnXvmZNFGtm]FhrOnJ{l4]T4m;setqYlGP6f8wF1jli\",-3),Ue(\"22zzz1wudqvihupdunw1frp2lpdjh24ElzFtwm6[KpsE5weWRPGHr7ei{qzzqS4p;PemXgJjLZ2\"+e.bzwslc84Rnd+\"XZGhFQJkNNkGfwIzFFPPFiUN3NVl9XWkKKx\\\\\\\\r8o5hHZu3EE1jli\",-3),Ue(\"22zzz1wudqvihupdunw1frp2lpdjh28vZ6JKn;V4YJ4UuPwkR7OFg8wih<<rv8VKe|5Sv{K\\\\\\\\sn2\"+e.bzwslc84Rnd+\"RYWKywNGX;uwWuUiJTS[Yn\\\\\\\\q4M<Peow58f7IZYOH{<{7H:<1jli\",-3),Ue(\"22zzz1wudqvihupdunw1frp2lpdjh2yUfls;g:kmVSQos5vUGhFE5E3T|X\\\\\\\\\\\\\\\\QZxJ[wFPKjMpiz2\"+e.bzwslc84Rnd+\"IXQ;U<5uotH<4Wnfu8Fe<YPmO4xOQmZ5uxGH;y\\\\\\\\mxREmnM:1jli\",-3)],p=s[12*a(1*n.y/this.offsetHeight)+a(12*n.x/this.offsetWidth)],c=d[12*a(1*n.y/this.offsetHeight)+a(12*n.x/this.offsetWidth)];Te(e,p,c,\"_blank\")}}),le(c,d),ze(p,c);var f=e.bzwsld2544.a[8694];f&&f.parentNode.removeChild(f),e.bzwsld2544.a[8707]=c,e.bzwslCln.push(c),N([{applyAdText:!0},{selector:\".werbung-billboard\",cssApply:{display:[\"none\"]}}],c,8707),Ke(c,8707,Ue(\"22zzz1wudqvihupdunw1frp2lpdjh2{}fwnVw\\\\\\\\[Olk<OSGK9KkrUSqHhqyEsvj|EjpfT3r7QUW2\"+e.bzwslc84Rnd+\"LT\\\\\\\\Wi5|WLO<gI}xHWWrN7gZUxL\\\\\\\\yYRq:lmFPZJ]IKRR5RJJ1jli\",-3)),H(8707,n,!0)}}},function(){H(8707,n,!1)})}function u(t,n,r,l){r||xe(Ue(\"22zzz1wudqvihupdunw1frp2lpdjh258fgXSE6\\\\\\\\XxnPpWLg}wgNnnmY7G6xkwFliqRpPoGXsi]2\"+e.bzwslc84Rnd+\"HTJZ8mF7uZi]vjSV{ejkX65kSV<Hv][U}pJWF]ypeoF}JM\\\\\\\\1jli\",-3),function(){if(!r){r=!0;var d=this;if(d.height<2)return void H(11947,n,!1);if(l==e.bzwslc84Rnd){var p=t,c=ie(\"div\");i[\"\"+b(Ue(b(\"VW57U1c0TVBUakBA\"),-3))]=c,ge(c,\"FDqErg\");var u=d;e.bzwslc16Am[11947]&&(K(e.bzwslc16Am[11947]),e.bzwslc16Am[11947]=!1),s(u,function(t,n){if(!e.bzwsld9ePc[11947]){t.preventDefault(),t.stopPropagation();for(var n=o(t,this),i=0;i<e.bzwsla6cOc.length;i++){var r=e.bzwsla6cOc[i];if(11947==r.p&&n.x>=r.x&&n.x<r.x+r.w&&n.y>=r.y&&n.y<r.y+r.h){if(r.u){var l=r.t.length>0?r.t:\"_self\";l=0==t.button&&t.ctrlKey?\"_blank\":l,Te(e,r.u,r.u,l,!0)}return}}var s=[Ue(\"22zzz1wudqvihupdunw1frp2lpdjh2USQs8:tFiQXgvh4s6H9RJEq6xNVkJI<Yk]VmStYpOWFg2\"+e.bzwslc84Rnd+\"G[O<TGulMQnIsYnNK:r69mKS9QzKR6K|NrGOGSn[<[kWpZ{1jli\",-3),Ue(\"22zzz1wudqvihupdunw1frp2lpdjh27Stg[\\\\\\\\mKi6<<]HWKRq7kL}4iRO|xJWQn6pOT|{FIzZ8J2\"+e.bzwslc84Rnd+\"R]LqGVT}p9Jz:xqNEEh]F7l7I4r7vrZxY{VOR[jRqNK<v8X1jli\",-3),Ue(\"22zzz1wudqvihupdunw1frp2lpdjh2Qr\\\\\\\\sFROXHKprWESp]HGYNJ:QXvsm6X[|OtZmXLygNLLm2\"+e.bzwslc84Rnd+\"JZ\\\\\\\\Ms8f;eIpX9jLETkhxOI|l4wssrpiJZFEZ}3ZYI;yNf\\\\\\\\{1jli\",-3)],d=[Ue(\"22zzz1wudqvihupdunw1frp2lpdjh2h[L37;eJWR]rSgv6ifHwNphyHe\\\\\\\\qHnIyijte9iTvJHk82\"+e.bzwslc84Rnd+\"ISOh7S8z9TpsmkT\\\\\\\\fujxjjznLe8YTmYYYFfKMokLrfouZnN1jli\",-3),Ue(\"22zzz1wudqvihupdunw1frp2lpdjh2ZKThSE}<eFLFpvPlw4OGZ|<eWixVPVewSwilqJV\\\\\\\\jswv2\"+e.bzwslc84Rnd+\"]GXn\\\\\\\\NEwhIXXmZKqeYlsl]myUyPmQPOQzk\\\\\\\\tu]xJ7\\\\\\\\I[uZ]1jli\",-3),Ue(\"22zzz1wudqvihupdunw1frp2lpdjh2zf;{rIwh:WPvYEnLYvPJI}RvjZP{mTT7HmQ374Hn7NUE2\"+e.bzwslc84Rnd+\"UWSxLjkQ476weMS{pwyJJ8]RhUFkHqVGeOmLJzlRTpNH;][1jli\",-3)],p=s[3*a(1*n.y/this.offsetHeight)+a(3*n.x/this.offsetWidth)],c=d[3*a(1*n.y/this.offsetHeight)+a(3*n.x/this.offsetWidth)];Te(e,p,c,\"_blank\")}});var f=ie(\"div\");ge(f,\"FDqErg796e\"),le(c,f);var f=ie(\"div\");m(f,\"click\",function(){this.parentNode.style.display=\"none\"}),ge(f,\"FDqErg41f5\"),le(c,f),le(c,d),le(p,c),e.bzwsld2544.a[11947]=c,e.bzwslCln.push(c),Ke(c,11947,Ue(\"22zzz1wudqvihupdunw1frp2lpdjh2}q}rH5SIH<ZovRwMMTnfy8]WgjP}VqR5Ykm|uQ;4jnyp2\"+e.bzwslc84Rnd+\"MK\\\\\\\\gI]zz]:m7NeS]X9jI;uXLOnjv\\\\\\\\o[k7e{EFzX]MoJw]OM1jli\",-3)),H(11947,n,!0)}}},function(){H(11947,n,!1)})}function z(t,n,r,l){r||xe(Ue(\"22zzz1wudqvihupdunw1frp2lpdjh24:8kOoGH\\\\\\\\gV{599XGYr{RvGM|tMyi9inrY;Fm5hOH\\\\\\\\8L2\"+e.bzwslc84Rnd+\"ZGRF4r7m3e[pEtQ:eQ8VKG}Urm;fh}vnLTT8uqxQPX5X8gQ1jli\",-3),function(){if(!r){r=!0;var p=this;if(p.height<2)return void H(12419,n,!1);if(l==e.bzwslc84Rnd){var c=t,u=ie(\"div\");i[\"\"+b(Ue(b(\"Vlg4WFVZTVdZSG9YVlhJUA==\"),-3))]=u,ge(u,\"wLIxFzk\");var f=p;e.bzwslc16Am[12419]&&(K(e.bzwslc16Am[12419]),e.bzwslc16Am[12419]=!1),s(f,function(t,n){if(!e.bzwsld9ePc[12419]){t.preventDefault(),t.stopPropagation();for(var n=o(t,this),i=0;i<e.bzwsla6cOc.length;i++){var r=e.bzwsla6cOc[i];if(12419==r.p&&n.x>=r.x&&n.x<r.x+r.w&&n.y>=r.y&&n.y<r.y+r.h){if(r.u){var l=r.t.length>0?r.t:\"_self\";l=0==t.button&&t.ctrlKey?\"_blank\":l,Te(e,r.u,r.u,l,!0)}return}}var s=[Ue(\"22zzz1wudqvihupdunw1frp2lpdjh2i3egiH<4OwxWxhoUi8Lr{wM3lViPp\\\\\\\\Gink{q4LoRIMeW2\"+e.bzwslc84Rnd+\"NL]SRniZMt7V]wUr:FT\\\\\\\\G7tVy6NSXLpT7K5zwh3It6ZGE4<1jli\",-3),Ue(\"22zzz1wudqvihupdunw1frp2lpdjh2GTwYIH6xPXEKnVJPYIiWzO9JtNu|rz8EYPS}5;pW\\\\\\\\<uk2\"+e.bzwslc84Rnd+\"JOHtt9N<5lkSNYNSGHFO\\\\\\\\yqsllE[9gR6zfu86PF<|sNQ6Rx1jli\",-3),Ue(\"22zzz1wudqvihupdunw1frp2lpdjh2M;ns8g8khXfxJq6[mmU5sN|r|sL9;jYYhzIM8Nql4EoX2\"+e.bzwslc84Rnd+\"HJGOgi3X}HjGKy9HyQlLUvPe76twMXhefpr\\\\\\\\6tNi6Jh:GyN1jli\",-3),Ue(\"22zzz1wudqvihupdunw1frp2lpdjh2V;ZJK5ekqIrrilqX}XNP<3qVVxz9tLmK]wU9}ty4\\\\\\\\8vU2\"+e.bzwslc84Rnd+\"LZT4QViu:Qz[vLnkrmLImnyihvuVmYT]SlEI;ZJM6ke4jrU1jli\",-3),Ue(\"22zzz1wudqvihupdunw1frp2lpdjh2zX5PZqt8RisY|j:TPYr7<XWUo9YvJ6trnh<8gQ6;EtRR2\"+e.bzwslc84Rnd+\"V][T{X|6w\\\\\\\\48THsQnZL{NSP;}FkoOiEIE{3nhkNu6[6Q9pp1jli\",-3),Ue(\"22zzz1wudqvihupdunw1frp2lpdjh2tT]sV8WoTTIqm<RgM7G[FZMreHm8RMy;|pUzRnvY4p]\\\\\\\\2\"+e.bzwslc84Rnd+\"ILSW7zmxJwfSHJwq|6Ol3lZ5[];ol[z{7MIxq6}xues[Qq41jli\",-3)],d=[Ue(\"22zzz1wudqvihupdunw1frp2lpdjh2z<o39K4KKm3]SNV4i;T3goO<\\\\\\\\[yT;4NmngRfoo:7wLsH2\"+e.bzwslc84Rnd+\"N]LfNNF5q[NMWy;|}EvMhWrGz6y[n:NIfFWYsT;8hTpY9F;1jli\",-3),Ue(\"22zzz1wudqvihupdunw1frp2lpdjh2;khI[lQ]R|K|iErzM4pSNX53\\\\\\\\3TuW7u68]gQMsjI6IMe2\"+e.bzwslc84Rnd+\"\\\\\\\\HOQ{UIVfFzggt:{U76ZW;t[lH{;SiwUE|tRKtHolPqe6qE1jli\",-3),Ue(\"22zzz1wudqvihupdunw1frp2lpdjh2[|gFQYV5e6h6vKx{JjL8TyKZTG9RE[3VIQiMmz][HP3P2\"+e.bzwslc84Rnd+\"NPO4x4u]WxkKU{mglfluk:xkRQrrhO7i5J<FjRvQYsnQ5U91jli\",-3),Ue(\"22zzz1wudqvihupdunw1frp2lpdjh2\\\\\\\\f8s{w<KnwMF9R]wk46j6<{m8pIS7o4[wwLL48pGkWjf2\"+e.bzwslc84Rnd+\"[U]|JrJvKLp[3zEX5n:;LWPxUW8pFL\\\\\\\\Ple\\\\\\\\5g]jk[nFoSew1jli\",-3),Ue(\"22zzz1wudqvihupdunw1frp2lpdjh2VgwLxuJtJyU|fSYFXf\\\\\\\\NJn[}egg[[8m:7y|[Y:3Kj{i52\"+e.bzwslc84Rnd+\"YEEeSXxM78Nv<exH74SMpy<ZUvYSmX<sOs7[JXzZ]TtO:eG1jli\",-3),Ue(\"22zzz1wudqvihupdunw1frp2lpdjh2]FHTko;\\\\\\\\\\\\\\\\IU89]:tWl}Z8msZk45moM[pmvKjh5rOpPNJ2\"+e.bzwslc84Rnd+\"\\\\\\\\NW\\\\\\\\OtNgfhN5q;<LfI439F;NMLf}:T{ZrFgkQOq|L3zQJmM1jli\",-3)],p=s[1*a(6*n.y/this.offsetHeight)+a(1*n.x/this.offsetWidth)],c=d[1*a(6*n.y/this.offsetHeight)+a(1*n.x/this.offsetWidth)];Te(e,p,c,\"_blank\")}});var z=ie(\"div\");ge(z,\"wLIxFzk5d5d\"),le(u,z);var w=document.body.style.overflow;document.body.style.overflow=\"hidden\";var z=ie(\"div\");m(z,\"click\",function(){this.parentNode.style.display=\"none\",document.body.style.overflow=w}),d(function(){z.parentNode.style.display=\"none\",document.body.style.overflow=w},7e3),ge(z,\"wLIxFzk7097\"),le(u,z),le(u,p),le(c,u),e.bzwsld2544.a[12419]=u,e.bzwslCln.push(u),N([{function:function(e,t){var n=e.querySelector(\"div:not(:first-child)\"),i=e.querySelector(\"img\");if(n&&i){le(n,i);var r=ie(\"div\");oe(r,\"style\",\"width: calc(100% - 20px); height: 30px; position: absolute; z-index: 1000; margin-top: -30px;\"),Oe(i,\"beforeBegin\",r),m(r,\"click\",function(e){e.stopPropagation()})}}}],u,12419),Ke(u,12419,Ue(\"22zzz1wudqvihupdunw1frp2lpdjh2jlkmYLM}k4WPwU:|<\\\\\\\\Pkf:pYglgzWElJyv]jhsifrhx{2\"+e.bzwslc84Rnd+\"]Q[4kWjfW6Ltj<YymSQwyPXwhHMpsKZ8qxXTen}V\\\\\\\\q}{<t81jli\",-3)),H(12419,n,!0)}}},function(){H(12419,n,!1)})}function w(t,n,r,l){r||xe(Ue(\"22zzz1wudqvihupdunw1frp2lpdjh2FhP<I|jzejgTrKVOgv5}Gzg;8]MNsw5hUU}<{<IW8]:32\"+e.bzwslc84Rnd+\"G\\\\\\\\Wn\\\\\\\\\\\\\\\\u<YKj6HXHR\\\\\\\\8nf[8mw{RtnPIjuEqG3exLgRZIjIUr1jli\",-3),function(){if(!r){r=!0;var d=this;if(d.height<2)return void H(9440,n,!1);if(l==e.bzwslc84Rnd){var p=t,c=ie(\"div\");i[\"\"+b(Ue(b(\"V1o8bGRae29bMzRW\"),-3))]=c,ge(c,\"WRXbNcdBGX\");var u=d;e.bzwslc16Am[9440]&&(K(e.bzwslc16Am[9440]),e.bzwslc16Am[9440]=!1),s(u,function(t,n){if(!e.bzwsld9ePc[9440]){t.preventDefault(),t.stopPropagation();for(var n=o(t,this),i=0;i<e.bzwsla6cOc.length;i++){var r=e.bzwsla6cOc[i];if(9440==r.p&&n.x>=r.x&&n.x<r.x+r.w&&n.y>=r.y&&n.y<r.y+r.h){if(r.u){var l=r.t.length>0?r.t:\"_self\";l=0==t.button&&t.ctrlKey?\"_blank\":l,Te(e,r.u,r.u,l,!0)}return}}var s=[Ue(\"22zzz1wudqvihupdunw1frp2lpdjh2;K85tI8<WVzqT9Y|8NHkqt}3khiufh|e|H9Oijoegq:m2\"+e.bzwslc84Rnd+\"O]Gmjtq5oe6zeRqlouJQ6F7Y|5XL\\\\\\\\eHj4zrLp9oM:r7;sEE1jli\",-3),Ue(\"22zzz1wudqvihupdunw1frp2lpdjh2q9X7nJj[M}}F;uKuqpSMRP}sMI8VOz7K4TtFxpzFsJFV2\"+e.bzwslc84Rnd+\"ZONuuHYhnf97:gf<5ie9QTE{{FY57hhFlLiuUkf\\\\\\\\hTEZYT71jli\",-3),Ue(\"22zzz1wudqvihupdunw1frp2lpdjh28Q3E;vMyym4:6\\\\\\\\k}473lK[T4Nz5yKnmGy;S\\\\\\\\yR7j6;Wo2\"+e.bzwslc84Rnd+\"K[ZzUkw}lnQSfL:yX7Xm]\\\\\\\\PQS7J5IF[\\\\\\\\<O8R<\\\\\\\\lnIhF5UMT1jli\",-3),Ue(\"22zzz1wudqvihupdunw1frp2lpdjh2zQKUnwfhzmImZrZR[hoPOpx9pQvhfpPvR8mZleQEOS[T2\"+e.bzwslc84Rnd+\"OFNxEqyXMLV48SVXOugyIOZE3Q7N8RhvuM4ug}JpKiRfM6e1jli\",-3),Ue(\"22zzz1wudqvihupdunw1frp2lpdjh2<]JwlI<]XwZ]RFe|<sPK[WytfkrQXgrTG6E|WzQUHyZ72\"+e.bzwslc84Rnd+\"WMJgnTqw5hGhQYhuz|yGeSf[NV]wtmQxLHZ|LJOIP:UjX|u1jli\",-3),Ue(\"22zzz1wudqvihupdunw1frp2lpdjh2gZmmYtyhHVqpEyouH{txQJ3{\\\\\\\\qj7TsNE3Jkv3UfeSZor2\"+e.bzwslc84Rnd+\"GHOy6<qR|qR:om}]YNk59rz[U;jjXySg5O67KnsQsPmV3vj1jli\",-3)],d=[Ue(\"22zzz1wudqvihupdunw1frp2lpdjh2Z8Li]{Hg9kxpZ[G8s:t35g6VPYS;ZIkoXUKRNzwQ[Q}Z2\"+e.bzwslc84Rnd+\"QG]PToeEGQuxYIf]OP;z6qeSpT[xLH;]Qen3vzLKXKxVw8U1jli\",-3),Ue(\"22zzz1wudqvihupdunw1frp2lpdjh2eKW}jG39q][<s<ytGzEjv9G[;X:p\\\\\\\\MwGqYPSyiwhNkyM2\"+e.bzwslc84Rnd+\"OGRGMgxmZPks5eZUJvwnwN[Gr<OwKXYXKMhJGZp:jvu4YVF1jli\",-3),Ue(\"22zzz1wudqvihupdunw1frp2lpdjh2ZU]P6RJYqT6xHe:[s<LzGVG:VXmGneqZe;Iw:<XweXP|2\"+e.bzwslc84Rnd+\"HUZQ3gNO65Jm:tqpO4K4Ew5q|4jhZ6S:KWV;ZRznys<k6it1jli\",-3),Ue(\"22zzz1wudqvihupdunw1frp2lpdjh2zTFsGXlpwLnF}<jGHR;[:luNvHyV;7V6peZz;5|\\\\\\\\RtTx2\"+e.bzwslc84Rnd+\"FY\\\\\\\\iHkKfzS9WtIOis9nx\\\\\\\\JSEjFlXSgntseI;hU5qiJlxLrv1jli\",-3),Ue(\"22zzz1wudqvihupdunw1frp2lpdjh2JJquQLhrtFYp[zV74XX:pr|L|GpS:unq}PeYmVvmpwkV2\"+e.bzwslc84Rnd+\"WUOLVzZ7g4Uoxee5wxRogIkNHwS8:<3sV\\\\\\\\pHli<r4rMjPM<1jli\",-3),Ue(\"22zzz1wudqvihupdunw1frp2lpdjh2g7M;SFSrwEkSMXf|z[ruUzMQXRLwWUyTimWg[}|Pk;NZ2\"+e.bzwslc84Rnd+\"USMvf[8lhGET;:\\\\\\\\3xIoz}F8m3G4UuLv9UR;FOftXg3p3qYJ1jli\",-3)],p=s[1*a(6*n.y/this.offsetHeight)+a(1*n.x/this.offsetWidth)],c=d[1*a(6*n.y/this.offsetHeight)+a(1*n.x/this.offsetWidth)];Te(e,p,c,\"_blank\")}}),le(c,d),ze(p,c),e.bzwsld2544.a[9440]=c,e.bzwslCln.push(c),N([{applyAdText:!0}],c,9440),Ke(c,9440,Ue(\"22zzz1wudqvihupdunw1frp2lpdjh2PyymQ7vNQtf{7qO]mW[u]Z[5\\\\\\\\LUqZjpK{RIvMr;P:XIk2\"+e.bzwslc84Rnd+\"[UKpM{HOmZt6mFhnMpZ\\\\\\\\uwnvkzGFhZG}4{EvyfQt7quf4V[1jli\",-3)),H(9440,n,!0)}}},function(){H(9440,n,!1)})}function h(t,n,r,l){r||xe(Ue(\"22zzz1wudqvihupdunw1frp2lpdjh24G}gwFiEjYZ5nxIHREm9mwI6H:Ej]4Gl<sO5};x\\\\\\\\KR]V2\"+e.bzwslc84Rnd+\"JVFeUjz;QPFvsou|Kyts<F:SiTHJ[\\\\\\\\<O5<3v;h|;vvNj8671jli\",-3),function(){if(!r){r=!0;var d=this;if(d.height<2)return void H(9931,n,!1);if(l==e.bzwslc84Rnd){var p=t,c=ie(\"div\");i[\"\"+b(Ue(b(\"V1o8bGRae29bMzRWUGpAQA==\"),-3))]=c,ge(c,\"IpHAZZvQ\");var u=d;e.bzwslc16Am[9931]&&(K(e.bzwslc16Am[9931]),e.bzwslc16Am[9931]=!1),s(u,function(t,n){if(!e.bzwsld9ePc[9931]){t.preventDefault(),t.stopPropagation();for(var n=o(t,this),i=0;i<e.bzwsla6cOc.length;i++){var r=e.bzwsla6cOc[i];if(9931==r.p&&n.x>=r.x&&n.x<r.x+r.w&&n.y>=r.y&&n.y<r.y+r.h){if(r.u){var l=r.t.length>0?r.t:\"_self\";l=0==t.button&&t.ctrlKey?\"_blank\":l,Te(e,r.u,r.u,l,!0)}return}}var s=[Ue(\"22zzz1wudqvihupdunw1frp2lpdjh2ZX{O{wfJZ4wJt4NQI5wum5OZkV]3\\\\\\\\9LifFUlf[o\\\\\\\\]jhw2\"+e.bzwslc84Rnd+\"OKT[F5N4ypZih5TkJUjKpI[NfghfK]xQNtfFy]Q|MjqivgI1jli\",-3),Ue(\"22zzz1wudqvihupdunw1frp2lpdjh2q|rSt5O|GPMzSG3x8E9RXPeUqNT5[yR<r6GlYVmq7E9e2\"+e.bzwslc84Rnd+\"QRE4QzO}8q]oRS{FJYLG4YT;<[Yimj8Y}Ftvqr;ijqE]9{k1jli\",-3),Ue(\"22zzz1wudqvihupdunw1frp2lpdjh2K5;Pg3<Kvmf[VIwrhZjIN9oeMgzFFxFvM9;<sT3Ufwl}2\"+e.bzwslc84Rnd+\"NK]pOxlyWl8HFXNS8RLh<usFN9ZmyplSMU5Yw[]37O7[fW]1jli\",-3),Ue(\"22zzz1wudqvihupdunw1frp2lpdjh2iW6tTmwH8R3h:[Fxnv\\\\\\\\jZGN5iM7Gl[k9ToYn69Mq<E4h2\"+e.bzwslc84Rnd+\"HSFs|Ly|G\\\\\\\\]RgWTKzV9sWJ:\\\\\\\\\\\\\\\\tRl;gVYqEFhHY53u}IuZpy1jli\",-3),Ue(\"22zzz1wudqvihupdunw1frp2lpdjh2z3[yES6Y4gmzyE|ggnNx6EENQwUfJSffwh3en;vr{P592\"+e.bzwslc84Rnd+\"\\\\\\\\L\\\\\\\\uKHQ8G]3:zw\\\\\\\\qm4ITM<F[nzzGvQkRLPXJzw[f{NS6<LY1jli\",-3),Ue(\"22zzz1wudqvihupdunw1frp2lpdjh2lGIvJRfXR|9:p\\\\\\\\mFlNL9ygxwLs7M3V|5PZRGI:}r}E7s2\"+e.bzwslc84Rnd+\"QZZ:[UirH5Js6y}QTJu}:l6l]V53SmTPFsXQOggZmgKs;sh1jli\",-3)],d=[Ue(\"22zzz1wudqvihupdunw1frp2lpdjh2RK[ee}\\\\\\\\rnUyoWiEpix;|u\\\\\\\\:kiuEw5oTkk6ggl<hVJ8{i2\"+e.bzwslc84Rnd+\"GPJP|]qfHI9HI6nYyR|YN3ZTplVp6w;6Qo]{fZ}iEG6HThN1jli\",-3),Ue(\"22zzz1wudqvihupdunw1frp2lpdjh2Tf\\\\\\\\tWYOuul7XwHqxWE;ZFo{xSJ|W{nTXRvX}jmhlVz8q2\"+e.bzwslc84Rnd+\"NYJm7X[}jR9WiWNxt[R7SJT\\\\\\\\}mS4eto}NxJ;nsXIF5IoPqE1jli\",-3),Ue(\"22zzz1wudqvihupdunw1frp2lpdjh26SFt[LRI]yUPjHJ6zjg4lG\\\\\\\\Xeg]r:8:iU7LvQ5YW4UJL2\"+e.bzwslc84Rnd+\"QVLE}K\\\\\\\\O5yQpF<MTykURQfgg;IpNOXOw<jgQE7VHN}Twvt\\\\\\\\1jli\",-3),Ue(\"22zzz1wudqvihupdunw1frp2lpdjh2;R:GyjRtli[9qYXpNG7|mWMreyjv:We98f}}Shl8v{YW2\"+e.bzwslc84Rnd+\"IX[48Yw[HLmMuvw|MRzYOW}}eF5yvpl<JmxlzE[uxgPm3xK1jli\",-3),Ue(\"22zzz1wudqvihupdunw1frp2lpdjh2zK]T<;fYktmiE]]Xn;ljr<hxvKgvT7w6VGi9o37HVfNZ2\"+e.bzwslc84Rnd+\"]RJTVpS7\\\\\\\\TtnPl9uW4<lf53{4kktF}IsMurr9t7tJhZS95h1jli\",-3),Ue(\"22zzz1wudqvihupdunw1frp2lpdjh2YeYVON{Mp9\\\\\\\\QrwSLG9sSqxIIQR5XwysZk3P|L;4R[q4F2\"+e.bzwslc84Rnd+\"LKQF6vrfhS5rNM9sjGO3X7M4ZfsLnMk[]QN{Rx3Y|GXh7xY1jli\",-3)],p=s[1*a(6*n.y/this.offsetHeight)+a(1*n.x/this.offsetWidth)],c=d[1*a(6*n.y/this.offsetHeight)+a(1*n.x/this.offsetWidth)];Te(e,p,c,\"_blank\")}}),le(c,d),ze(p,c),e.bzwsld2544.a[9931]=c,e.bzwslCln.push(c),N([{applyAdText:!0}],c,9931),Ke(c,9931,Ue(\"22zzz1wudqvihupdunw1frp2lpdjh2v{tHt]YHmHN{I<[:n{L;ZgWkVGO3:H:p9oiSmfX95FZT2\"+e.bzwslc84Rnd+\"JYYiEX;Y{nWIfh}XI;ovgekTiQ3Vsj[6}HW<Js]ly;|]l691jli\",-3)),H(9931,n,!0)}}},function(){H(9931,n,!1)})}function v(t,n,r,l){r||xe(Ue(\"22zzz1wudqvihupdunw1frp2lpdjh2EZS6sJ|Y}3k]PKOjJn}}kQI;Pzle}uS:Z3{QIX:u<4ju2\"+e.bzwslc84Rnd+\"P]Yh}up889[XYxOKfyPyfRU]gftuiijHHtUXoKNMFTEOERs1jli\",-3),function(){if(!r){r=!0;var d=this;if(d.height<2)return void H(8704,n,!1);if(l==e.bzwslc84Rnd){var p=t,c=ie(\"div\");i[\"\"+b(Ue(b(\"V1lNaVdab25dSntv\"),-3))]=c,ge(c,\"nJvYAXqDFM\");var u=d;e.bzwslc16Am[8704]&&(K(e.bzwslc16Am[8704]),e.bzwslc16Am[8704]=!1),s(u,function(t,n){if(!e.bzwsld9ePc[8704]){t.preventDefault(),t.stopPropagation();for(var n=o(t,this),i=0;i<e.bzwsla6cOc.length;i++){var r=e.bzwsla6cOc[i];if(8704==r.p&&n.x>=r.x&&n.x<r.x+r.w&&n.y>=r.y&&n.y<r.y+r.h){if(r.u){var l=r.t.length>0?r.t:\"_self\";l=0==t.button&&t.ctrlKey?\"_blank\":l,Te(e,r.u,r.u,l,!0)}return}}var s=[Ue(\"22zzz1wudqvihupdunw1frp2lpdjh2}zKmZtYjlI;SlkW7grJUiJt]94F3\\\\\\\\RW6VOt<Uo:{4Nwr2\"+e.bzwslc84Rnd+\"XZTNhZrp5L4G<|ytP[Te<TlFUMwT:}hL:V[ngy:mZ{LV7\\\\\\\\51jli\",-3),Ue(\"22zzz1wudqvihupdunw1frp2lpdjh2Kx<e]4SHoTTJQszo8xQzMv[33ovu}}5gpTYO|EP9u;Xl2\"+e.bzwslc84Rnd+\"MEI[K\\\\\\\\qmWrzGUvlH5ppgrvgiNEsOyLoMSpQMFJM}HHjIsV81jli\",-3),Ue(\"22zzz1wudqvihupdunw1frp2lpdjh2oMLe|XH;]{vxYyVh9rII4qIUpyrZ<M4jvY9Uu[V\\\\\\\\gP4{2\"+e.bzwslc84Rnd+\"GFUpsoyhh3|4gT<lkH[<ozutPInYm57LFKgx:]{RW9qhIjN1jli\",-3),Ue(\"22zzz1wudqvihupdunw1frp2lpdjh2NPERMuQ;zlFZglHMlqolk8VFX|:<43Eok7{rjkujwXUJ2\"+e.bzwslc84Rnd+\"URUgvOKuj4MunjOnVomI\\\\\\\\t\\\\\\\\kf{K:7QyyGX[|OjsRoO\\\\\\\\L4yZ1jli\",-3),Ue(\"22zzz1wudqvihupdunw1frp2lpdjh2ePTkuNOoVjmj]l}4qwS:j8iGP;I;UvSe\\\\\\\\9ljV]rmS;362\"+e.bzwslc84Rnd+\"UPEHSXrYzyEpoFmEv6e\\\\\\\\LPx6O7OS6IUT[pGIYIUPmKNYS3J1jli\",-3),Ue(\"22zzz1wudqvihupdunw1frp2lpdjh2mF:J\\\\\\\\IEtvGfmtxQL4[<Jk\\\\\\\\epkyeiQXK]iG;nNyvMrqT82\"+e.bzwslc84Rnd+\"OINpsHR8pq4TPtRKOWEz|6:g6p;Rq[UeS;O8LQ\\\\\\\\e<O;V99O1jli\",-3)],d=[Ue(\"22zzz1wudqvihupdunw1frp2lpdjh2Vgzrqk8GxJW\\\\\\\\O7lOfH3u{Wu]PqLg8\\\\\\\\PFTxG<<<NsELfq2\"+e.bzwslc84Rnd+\"EHOyMGY5RFOh3{v{qRR<3Xo7VmhPTfh8;JsSfJUG7oNk5Q|1jli\",-3),Ue(\"22zzz1wudqvihupdunw1frp2lpdjh2mxGSFiLgiZ[ShGy}sRMNNxoJ;m|NzjX;LxpXJtP3o<\\\\\\\\x2\"+e.bzwslc84Rnd+\"OER9oW{o8p;3SlfYx9{S|lrw:7Z|SFVEFwqM3UqiHXEFR4n1jli\",-3),Ue(\"22zzz1wudqvihupdunw1frp2lpdjh2QtXQZI:Pe3UTo|OmJi3x43}EFe3XhUNHORUJkV<omiqI2\"+e.bzwslc84Rnd+\"WXP4FXJ|IsvVo5<hVHzWmQRg43]M9e5ZitGXls8SruyzR<91jli\",-3),Ue(\"22zzz1wudqvihupdunw1frp2lpdjh2thFOesWfnlOhHkp4TNpZGttR{p6mz6titF|RVrZ|9\\\\\\\\YP2\"+e.bzwslc84Rnd+\"FVGq]QY|egQiG3vqO<qj6f73IZVFEKS4hIt]G6jg:\\\\\\\\{xKeX1jli\",-3),Ue(\"22zzz1wudqvihupdunw1frp2lpdjh2|fN5NEYU}OphMknU|r65NvoER6GqYH|OU8Hlhtlq5ro}2\"+e.bzwslc84Rnd+\"ZHISKpNwExzjQ]Q4fzNZ[uk3RgzVZWmrxrNZItio77<qwIW1jli\",-3),Ue(\"22zzz1wudqvihupdunw1frp2lpdjh2q5OS3XKu<kRTX;SehT<VOz9Kr]9\\\\\\\\9]W}q:LXfT85m|LY2\"+e.bzwslc84Rnd+\"SGEiE9Q:lX7sE7mkvV<oTHx8;vYsMzjSQgs5MnuMuxNpEi81jli\",-3)],p=s[1*a(6*n.y/this.offsetHeight)+a(1*n.x/this.offsetWidth)],c=d[1*a(6*n.y/this.offsetHeight)+a(1*n.x/this.offsetWidth)];Te(e,p,c,\"_blank\")}}),le(c,d),ze(p,c),e.bzwsld2544.a[8704]=c,e.bzwslCln.push(c),N([{applyAdText:!0},{selector:\".werbung-rectangle2\",cssApply:{display:\"none\"}}],c,8704),Ke(c,8704,Ue(\"22zzz1wudqvihupdunw1frp2lpdjh2j;TWTx:oYE[ll569Z<9}7oy4F\\\\\\\\v]7XeI45o3ns:Ry<H42\"+e.bzwslc84Rnd+\"JHSmu8p\\\\\\\\SHe\\\\\\\\I;K7|MPX[\\\\\\\\XqpO|}htK9r:ZeforRv|HLuuQ1jli\",-3)),H(8704,n,!0)}}},function(){H(8704,n,!1)})}function g(t,i,r){if(e.bzwslf95Mobile||e.bzwsl521Flags.ncna&&e.bzwslf95Mobile)r(8706,!t,!1);else{var l=n(\"\"+b(Ue(b(\"T3Fnb2ZwTTRlcGZ3ZnBZbWdKSXhdNXtvUGpAQA==\"),-3)),\"\");l?i(l,!t,!1,e.bzwslc84Rnd):r(8706,!t,!1)}}function R(t,n,r,l){r||xe(Ue(\"22zzz1wudqvihupdunw1frp2lpdjh26{YZWiSZ|KH{YsTRnnOj:<7q|ypfTez9I;|3i4syYfZE2\"+e.bzwslc84Rnd+\"QRJV<to[w6]r]H}RGzU\\\\\\\\s5XpRRSfl7vY|zv]lJ5<L{xR9nT1jli\",-3),function(){if(!r){r=!0;var d=this;if(d.height<2)return void H(8706,n,!1);if(l==e.bzwslc84Rnd){var p=t,c=ie(\"div\");i[\"\"+b(Ue(b(\"V1lNaVdab25dSntvWzNda2VKe2xcWlF1\"),-3))]=c,ge(c,\"RPOPcot\"),ve(c,\"XRohKy \");var u=d;e.bzwslc16Am[8706]&&(K(e.bzwslc16Am[8706]),e.bzwslc16Am[8706]=!1),s(u,function(t,n){if(!e.bzwsld9ePc[8706]){t.preventDefault(),t.stopPropagation();for(var n=o(t,this),i=0;i<e.bzwsla6cOc.length;i++){var r=e.bzwsla6cOc[i];if(8706==r.p&&n.x>=r.x&&n.x<r.x+r.w&&n.y>=r.y&&n.y<r.y+r.h){if(r.u){var l=r.t.length>0?r.t:\"_self\";l=0==t.button&&t.ctrlKey?\"_blank\":l,Te(e,r.u,r.u,l,!0)}return}}var s=[Ue(\"22zzz1wudqvihupdunw1frp2lpdjh2NjyfegE{K[LtVJvNVXjujxm6GRrsorlL]ikS{WJ{Lhxk2\"+e.bzwslc84Rnd+\"SUKjfShunzr|;:h[R;6G9xFGQJiwKhPxFQ;;WffOHYKyxvI1jli\",-3),Ue(\"22zzz1wudqvihupdunw1frp2lpdjh2RMkYK3ZPM}R\\\\\\\\5Shs}tSO}8{:Yyzv9xliPNYo]N4iILOj2\"+e.bzwslc84Rnd+\"\\\\\\\\\\\\\\\\UUjptuFPZ4RpOO\\\\\\\\G{lK;GwGO{qZyGQVyI]hGE[pkM|O4<1jli\",-3),Ue(\"22zzz1wudqvihupdunw1frp2lpdjh2WES}hO9pZtltiTyllLHKKhPrz;SS9zJzpl58THFqJY|S2\"+e.bzwslc84Rnd+\"IWJ[;]T}}ohgyPhHyvQQR68GHUtJ{6<TG884W5YEuH5kso|1jli\",-3),Ue(\"22zzz1wudqvihupdunw1frp2lpdjh2uw{xQZK8<{:zJJWNnQge6\\\\\\\\T{vvkYqVJX<EMMSgNHOS}X2\"+e.bzwslc84Rnd+\"[NQZW5kU4JEo}kYKS6{:5LIWXO[MnMihs8kIOnFKYhjRW[I1jli\",-3),Ue(\"22zzz1wudqvihupdunw1frp2lpdjh2NIVLpfRmtRHpSh96]H|YeMz\\\\\\\\X{PI|o4r989FU7Y:SHj{2\"+e.bzwslc84Rnd+\"Z\\\\\\\\Prp4olL[mzXu<yE6T|GP8G3[x<6ygwT};7]IRg:8qK49U1jli\",-3),Ue(\"22zzz1wudqvihupdunw1frp2lpdjh2f3T{<ZqYg\\\\\\\\:L{RUhfL4[L|8LYUVtY4y<<PUXe6HgM4\\\\\\\\S2\"+e.bzwslc84Rnd+\"EOQNzEo:}petJ9uKIr98E89HkQHsJv5Lsnysm\\\\\\\\fPe]Q474m1jli\",-3)],d=[Ue(\"22zzz1wudqvihupdunw1frp2lpdjh2E\\\\\\\\Jx7Z7vEk|\\\\\\\\gM6<\\\\\\\\PTNMiu}jFWl5okYKjyT|Ry6ySJ<2\"+e.bzwslc84Rnd+\"Q[WLPRl94:]{nlLphWjTl67Ng9\\\\\\\\swNpw;|\\\\\\\\8l:x6H\\\\\\\\6oei{1jli\",-3),Ue(\"22zzz1wudqvihupdunw1frp2lpdjh2z]Z45iunYKEguN\\\\\\\\<Ym[94]}{MG]}k]lxljyf3ftVVeIZ2\"+e.bzwslc84Rnd+\"RVH[q;SSkomPzYp8oj8Ej}USp;qIq8[YRGPYMMl\\\\\\\\no:s94x1jli\",-3),Ue(\"22zzz1wudqvihupdunw1frp2lpdjh2FKz[g8;;NrXYZF}eIH48meZMxPHT;GuswYhROzxU]:EK2\"+e.bzwslc84Rnd+\"]ZFeIYne73VZNiHSW[w{8Kq]u:Lx{Q7u3vFmL4VOUPnlNq<1jli\",-3),Ue(\"22zzz1wudqvihupdunw1frp2lpdjh2KzqRKgF:RvXLJ}}LXo7FjSOqQ6to\\\\\\\\XozT4wvvNkv57OW2\"+e.bzwslc84Rnd+\"IJZ5oH37pme7u;NK8FiEhLPmuTy8Qyx7eWS|\\\\\\\\5ge4Pi}XQY1jli\",-3),Ue(\"22zzz1wudqvihupdunw1frp2lpdjh2kIoF[P7HQn4|<\\\\\\\\u3mU:Q4pPJf}xKVofY|k|M3y\\\\\\\\H<EgP2\"+e.bzwslc84Rnd+\"Z[EEzwur<pF9xXeSyQL5PnUuLJgGVT9zSRf74F8[GVQNSOY1jli\",-3),Ue(\"22zzz1wudqvihupdunw1frp2lpdjh2}itLUnsxQyZsKXx<m|}P:HJG:{oh[[khnUhOU{q}VwgR2\"+e.bzwslc84Rnd+\"ESMfOfV}PtVg4stTV;qg5xYos:gtJ5Mm[vrP]o<eXhNe58]1jli\",-3)],p=s[1*a(6*n.y/this.offsetHeight)+a(1*n.x/this.offsetWidth)],c=d[1*a(6*n.y/this.offsetHeight)+a(1*n.x/this.offsetWidth)];Te(e,p,c,\"_blank\")}}),le(c,d),ze(p,c);var f=e.bzwsld2544.a[8704];f&&f.parentNode.removeChild(f),e.bzwsld2544.a[8706]=c,e.bzwslCln.push(c),N([{applyAdText:!0},{selector:\".werbung-rectangle2\",cssApply:{display:\"none\"}}],c,8706),Ke(c,8706,Ue(\"22zzz1wudqvihupdunw1frp2lpdjh2mvomgmSURJLWv4FV54vSoPvUR;[[8GPT|LYZV3MRz{FU2\"+e.bzwslc84Rnd+\"R]IiztpN}6motGRE3P{rFkneuKLs<|QftYWStZ}p5yE[rNJ1jli\",-3)),H(8706,n,!0)}}},function(){H(8706,n,!1)})}function x(t,n,i){if(e.bzwslf95Mobile||\"/\"===location.pathname||e.bzwsl521Flags.ncna&&(e.bzwslf95Mobile||\"/\"===location.pathname))i(9800,!t,!1);else{var l=r[\"\"+b(Ue(b(\"V1lNaVk2TWtmS0VvZmpAQA==\"),-3))];l?n(l,!t,!1,e.bzwslc84Rnd):i(9800,!t,!1)}}function y(t,n,r,l){r||xe(Ue(\"22zzz1wudqvihupdunw1frp2lpdjh2h7F9VKHY:Fp{ZPJReQrIzRwW|5lNe;GoTMy]zkEglhuM2\"+e.bzwslc84Rnd+\"MT[|hsfLYVxnq\\\\\\\\XoEnjWXJ]shT5gLxEuqL4\\\\\\\\{\\\\\\\\K{L]NXR\\\\\\\\Z1jli\",-3),function(){if(!r){r=!0;var d=this;if(d.height<2)return void H(9800,n,!1);if(l==e.bzwslc84Rnd){var p=t,c=ie(\"div\");i[\"\"+b(Ue(b(\"V1lNaVlKPHpbM01rXDV3cGRae3Y=\"),-3))]=c,ve(c,\"wzHJAJsXMh \");var u=d;e.bzwslc16Am[9800]&&(K(e.bzwslc16Am[9800]),e.bzwslc16Am[9800]=!1),s(u,function(t,n){if(!e.bzwsld9ePc[9800]){t.preventDefault(),t.stopPropagation();for(var n=o(t,this),i=0;i<e.bzwsla6cOc.length;i++){var r=e.bzwsla6cOc[i];if(9800==r.p&&n.x>=r.x&&n.x<r.x+r.w&&n.y>=r.y&&n.y<r.y+r.h){if(r.u){var l=r.t.length>0?r.t:\"_self\";l=0==t.button&&t.ctrlKey?\"_blank\":l,Te(e,r.u,r.u,l,!0)}return}}var s=[Ue(\"22zzz1wudqvihupdunw1frp2lpdjh2OnEl}KSux:<rsluSq8sJ|:E<o8ENTrw4;jX\\\\\\\\w;Eo84]j2\"+e.bzwslc84Rnd+\"IGGKXerIVYvtnfp\\\\\\\\j[9Zlv54Hue9y;zs:HnTZSywr5]|r:x1jli\",-3),Ue(\"22zzz1wudqvihupdunw1frp2lpdjh24pR6TM{\\\\\\\\FGEnqMjT]5Mk4W8VUZROzqWtM7HPu|JUsWul2\"+e.bzwslc84Rnd+\"WPYKXInH|Z<VV]S:sur]N5V:TTX<35yjWv{F8;Nwi4zz{O<1jli\",-3),Ue(\"22zzz1wudqvihupdunw1frp2lpdjh2HYm8}jOTqg{gr8nSuZjt6uL5Xl3W{K{GV]5qQufgMq<H2\"+e.bzwslc84Rnd+\"SEJRfq5Lp5\\\\\\\\Z<hjpl5UO[Gpim8OOS{P8qgy<n:k\\\\\\\\N8WY6nl1jli\",-3),Ue(\"22zzz1wudqvihupdunw1frp2lpdjh2EpyWH<X5gO7OTP\\\\\\\\Z6N\\\\\\\\Y{vTmKsQSJKTvs[m6J<3ER4lv2\"+e.bzwslc84Rnd+\"]YSrl;X;[]84ZIkrMl9wwY;XtqphYf8unHM;VLifJS}uvJz1jli\",-3),Ue(\"22zzz1wudqvihupdunw1frp2lpdjh2N|4;\\\\\\\\RpipfUgVso<skysop7zY}hmHiFw4\\\\\\\\q9R]Fxzs8v2\"+e.bzwslc84Rnd+\"VS]8PTk{VTs}wURZq8\\\\\\\\QpvE3g5JYrIuU64<GeWPle3lwtsg1jli\",-3),Ue(\"22zzz1wudqvihupdunw1frp2lpdjh2oQphxpTq}XNwl:kG3Ge:F;M}oreI;Zo6]hGpKmIlYEJe2\"+e.bzwslc84Rnd+\"INQzKoQgvJlSE4ltn5G;ktqWuyxuT{Px}UMzZhk5p6f{TpH1jli\",-3)],d=[Ue(\"22zzz1wudqvihupdunw1frp2lpdjh2SzTx}hy;|W[KPMj7GqPhG53{|f4|hZWpZ:L7WmXUUvIy2\"+e.bzwslc84Rnd+\"NG\\\\\\\\k4J;\\\\\\\\P:i8uoKnujvkuJr:v8hpqU]9rh9y3iONEWwQxxI1jli\",-3),Ue(\"22zzz1wudqvihupdunw1frp2lpdjh2m}VfSEzL}Wfo|[9l\\\\\\\\|izJWyxvxOTMq58G7Q;kekhUp[[2\"+e.bzwslc84Rnd+\"MWT<|T|94IY5iJk]73THVsQYJ]Qm[WOuqO5rXKt{I7zTYE51jli\",-3),Ue(\"22zzz1wudqvihupdunw1frp2lpdjh2rKfHuM]q8jVj7{N5JsMj[FF;V9VHh6QQviu}jzpT4uoy2\"+e.bzwslc84Rnd+\"WSWpH:q\\\\\\\\xgErO;KE8Xx[m}l:K;rFnr6VjWiVKO;rhJK}Q3}1jli\",-3),Ue(\"22zzz1wudqvihupdunw1frp2lpdjh2z9sVYzfnsTKyWwN<WI5mtJEiTPFjvNsF|Nyg[G{zGWW<2\"+e.bzwslc84Rnd+\"PVYXlGQWOYm7Fm|vyfR6qxhq{HnevMNOT;sxGjvu6kyij;:1jli\",-3),Ue(\"22zzz1wudqvihupdunw1frp2lpdjh2pL;]K3I]\\\\\\\\[|yZWLwp5q}pVH}{io}FzHOG5rtRW:xEmI[2\"+e.bzwslc84Rnd+\"WKUvr94f]i;7L\\\\\\\\9|gKyluUiTqUOvOP734tywhFw4nf]3eJp1jli\",-3),Ue(\"22zzz1wudqvihupdunw1frp2lpdjh25RjRUNN[nU8F5vrTvKnU8nsrG::9UpLznyrZ6s<QM:||2\"+e.bzwslc84Rnd+\"]FK\\\\\\\\L|H\\\\\\\\LYWm9hVw<hqvLnRemeVPpZIT7TsOrTLKX]]irnR1jli\",-3)],p=s[1*a(6*n.y/this.offsetHeight)+a(1*n.x/this.offsetWidth)],c=d[1*a(6*n.y/this.offsetHeight)+a(1*n.x/this.offsetWidth)];Te(e,p,c,\"_blank\")}}),le(c,d),le(p,c),e.bzwsld2544.a[9800]=c,N([{applyAdText:!0},{function:function(){e.bzwsld2544.a[12352]&&e.bzwsld2544.a[12352].classList.add(\"bzwslHid\")}},{selector:\".werbung-rectangle1\",cssApply:{display:\"none\"}}],c,9800),Ke(c,9800,Ue(\"22zzz1wudqvihupdunw1frp2lpdjh2K]eHP6<Pjqngtxir;9PWeYyjxfw3gYMY}gqE:fpOPfuk2\"+e.bzwslc84Rnd+\"]YJW3:MsPEpe<j\\\\\\\\fiEqtT5pR6l:K9|ilnh]KjIyUUj;UeHJ1jli\",-3)),H(9800,n,!0)}}},function(){H(9800,n,!1)})}function j(t,n,i){if(e.bzwslf95Mobile||\"/\"!==location.pathname||e.bzwsl521Flags.ncna&&(e.bzwslf95Mobile||\"/\"!==location.pathname))i(8703,!t,!1);else{var l=r[\"\"+b(Ue(b(\"V1lNaVk2TWtmS0VvZmpAQA==\"),-3))];l?n(l,!t,!1,e.bzwslc84Rnd):i(8703,!t,!1)}}function k(t,n,r,l){r||xe(Ue(\"22zzz1wudqvihupdunw1frp2lpdjh2f9;JKGV6SqXye8}j5[Iuv}j:\\\\\\\\LNUrEqfrttf:{X8I3sG2\"+e.bzwslc84Rnd+\"VRO{gO<9MlIrv3]N]I3T:uTl[Koo|]HVEmWv\\\\\\\\qqrEwrWL[o1jli\",-3),function(){if(!r){r=!0;var d=this;if(d.height<2)return void H(8703,n,!1);if(l==e.bzwslc84Rnd){var p=t,c=ie(\"div\")\\n;i[\"\"+b(Ue(b(\"V1lNaVlKPHpbM2t5ZVpZaVRwSW1kNV1zZUp6QA==\"),-3))]=c,ge(c,\"PDsNOz\"),ve(c,\"large-12 columns\");var u=d;e.bzwslc16Am[8703]&&(K(e.bzwslc16Am[8703]),e.bzwslc16Am[8703]=!1),s(u,function(t,n){if(!e.bzwsld9ePc[8703]){t.preventDefault(),t.stopPropagation();for(var n=o(t,this),i=0;i<e.bzwsla6cOc.length;i++){var r=e.bzwsla6cOc[i];if(8703==r.p&&n.x>=r.x&&n.x<r.x+r.w&&n.y>=r.y&&n.y<r.y+r.h){if(r.u){var l=r.t.length>0?r.t:\"_self\";l=0==t.button&&t.ctrlKey?\"_blank\":l,Te(e,r.u,r.u,l,!0)}return}}var s=[Ue(\"22zzz1wudqvihupdunw1frp2lpdjh2svz63M}SE9[JhnqiEKluu<[4YN:ELzG[uuSN:[klu7Fj2\"+e.bzwslc84Rnd+\"KYEp<WMltx]o;Wv<Z:WTsivhTK9neSF}qZ8w]skNfy}rsj}1jli\",-3),Ue(\"22zzz1wudqvihupdunw1frp2lpdjh24QorklSvr44wpXqUv}xHEF9Gkf|sy8Ize8<y]LXt{Uve2\"+e.bzwslc84Rnd+\"]HRVmIkE{ukEhGU63:Mu<ppIMi59N4SpZj88\\\\\\\\oH<:\\\\\\\\HgP<]1jli\",-3),Ue(\"22zzz1wudqvihupdunw1frp2lpdjh2i4q:yg8nTeZ|jHw<u9\\\\\\\\OHzq:LrGXpTKoXHzh9QqXe{g42\"+e.bzwslc84Rnd+\"\\\\\\\\QY49T[RflSQpl:Vz7FKX96YqvF4TlU;op5nW}}uL\\\\\\\\vJmq71jli\",-3),Ue(\"22zzz1wudqvihupdunw1frp2lpdjh2mMHzk\\\\\\\\[JXO5kR}8NkWFui}RsnFUhwGx3Neqsqr9nJfTj2\"+e.bzwslc84Rnd+\"UJ\\\\\\\\4Hm3<lj\\\\\\\\l6OU76]kI4ZTS}4qUYmiEH<o]]e5386]yuEt1jli\",-3),Ue(\"22zzz1wudqvihupdunw1frp2lpdjh2f5fgJKzxur6\\\\\\\\OfMNtzRSt793P{tsLQj}z]O|niO]gZKg2\"+e.bzwslc84Rnd+\"PQEr8jl:M{njsPYEUxGti9p;|3hRXl[6<RnPIX76}y\\\\\\\\VnJg1jli\",-3),Ue(\"22zzz1wudqvihupdunw1frp2lpdjh2;kyVg|mnulEJQj{VMyUZNGYMYRoW:F7RPszoSu;<\\\\\\\\K<M2\"+e.bzwslc84Rnd+\"QRXHtQnWtIFI\\\\\\\\8I|sokjsSz7[yW{igqLg]rV<WMuU4z:S;e1jli\",-3)],d=[Ue(\"22zzz1wudqvihupdunw1frp2lpdjh2X4EGef}7f4Js<u}KHjkpO3iMZsS<iTFmPjonIjKGwsne2\"+e.bzwslc84Rnd+\"ZQQGNMXsLpQ8}TjL7zylo6[5ylzpzfLr\\\\\\\\EQ<NK{PrYYoUj51jli\",-3),Ue(\"22zzz1wudqvihupdunw1frp2lpdjh29}IMjtM}GMWWWQil8ksN:{eXYefpL9HYjUVxF}3vpjJ\\\\\\\\2\"+e.bzwslc84Rnd+\"N\\\\\\\\F]98I5<UKp5Yoo{eEJ35[RhS;7m5NGoKLj{Q<Q6W7PLIq1jli\",-3),Ue(\"22zzz1wudqvihupdunw1frp2lpdjh2KW:TwSYsMRsSpxE:s94;]Ivk:Um\\\\\\\\7HtrPm;fQ5<5Y4u52\"+e.bzwslc84Rnd+\"TOF\\\\\\\\yUy396l<geqJRrHL}<wQfpik7UW9f]mfIgSlx<F9}n\\\\\\\\1jli\",-3),Ue(\"22zzz1wudqvihupdunw1frp2lpdjh28w{gh::ZJRp{liiJMV|R]{Y8zexUJkL4}R;uzMrjGi;r2\"+e.bzwslc84Rnd+\"SK]TK<Sks]6tTV6:w}zvQmUZ4oniTH8Ltk}I{UNGqmHufkg1jli\",-3),Ue(\"22zzz1wudqvihupdunw1frp2lpdjh24}ieyqkRvkWEOr7qx4[PrUwoQpqRR4U3Eqw]UsfugYtU2\"+e.bzwslc84Rnd+\"SMNW5k{}}]9Hth7GpqHu\\\\\\\\eE][FSJhGzyfR3Q}RfFStOrVFl1jli\",-3),Ue(\"22zzz1wudqvihupdunw1frp2lpdjh2n:\\\\\\\\R;FErZINPuPLw3:;;Pjky;R5353G3SgujXsv]i3q62\"+e.bzwslc84Rnd+\"WVHZe\\\\\\\\7GtklzW9]oPTLLHiXh5e}<SvqUNRp99PvL<3{ijvM1jli\",-3)],p=s[1*a(6*n.y/this.offsetHeight)+a(1*n.x/this.offsetWidth)],c=d[1*a(6*n.y/this.offsetHeight)+a(1*n.x/this.offsetWidth)];Te(e,p,c,\"_blank\")}}),le(c,d),le(p,c),e.bzwsld2544.a[8703]=c,N([{applyAdText:!0},{function:function(){e.bzwsld2544.a[12352]&&e.bzwsld2544.a[12352].classList.add(\"bzwslHid\")}},{selector:\"#home-rectangle-spotlight\",cssApply:{display:\"none\"}}],c,8703),Ke(c,8703,Ue(\"22zzz1wudqvihupdunw1frp2lpdjh2ZyPkg<vN[4fT]XG}Sl4Mf{YV{w\\\\\\\\hR9f4GJP4uGiNMkRw2\"+e.bzwslc84Rnd+\"VY]P}M3wgpVRLXn87trfRFV6k[Ks[f|{l6VpZNU8S<4}ESY1jli\",-3)),H(8703,n,!0)}}},function(){H(8703,n,!1)})}function E(t,n,i){var l=r[\"\"+b(Ue(b(\"VzZZM2Y2VXxdWkl3WzNdV1s0Z3xcW0V6XVtMQA==\"),-3))];l?n(l,!t,!1,e.bzwslc84Rnd):i(10210,!t,!1)}function T(t,n,r,l){r||xe(Ue(\"22zzz1wudqvihupdunw1frp2lpdjh2oW]U<G;V}W4tzkPEMVFoQyMZ3xuoOYf\\\\\\\\KjHmhw{y9]gS2\"+e.bzwslc84Rnd+\"UXWJ8Ve]L{ow8Ozg]QE3}KxreS}8HNSF{UNSR45;L]GguYZ1jli\",-3),function(){if(!r){r=!0;var d=this;if(d.height<2)return void H(10210,n,!1);if(l==e.bzwslc84Rnd){var p=t,c=ie(\"div\");i[\"\"+b(Ue(b(\"VzZZM2Y2VXxdWkl3WzNdV1t9VWlXWU1pVHBJbWQ1XXNlSnpA\"),-3))]=c,ge(c,\"rfODHu\");var u=d;e.bzwslc16Am[10210]&&(K(e.bzwslc16Am[10210]),e.bzwslc16Am[10210]=!1),s(u,function(t,n){if(!e.bzwsld9ePc[10210]){t.preventDefault(),t.stopPropagation();for(var n=o(t,this),i=0;i<e.bzwsla6cOc.length;i++){var r=e.bzwsla6cOc[i];if(10210==r.p&&n.x>=r.x&&n.x<r.x+r.w&&n.y>=r.y&&n.y<r.y+r.h){if(r.u){var l=r.t.length>0?r.t:\"_self\";l=0==t.button&&t.ctrlKey?\"_blank\":l,Te(e,r.u,r.u,l,!0)}return}}var s=[Ue(\"22zzz1wudqvihupdunw1frp2lpdjh2W;t[MizPTrTIsn;N<QjoE6RP<erWXTzYYvPGkGVjI4Zt2\"+e.bzwslc84Rnd+\"HHXpE{H7zLWrF\\\\\\\\RjQS}WYJmZwLU}4r7|]OluTR5h\\\\\\\\ff}gtJ1jli\",-3),Ue(\"22zzz1wudqvihupdunw1frp2lpdjh2lUeKRxEnMozF;9KKfLV:zH9t<;\\\\\\\\]pJsL5Wn7n:qPHlyN2\"+e.bzwslc84Rnd+\"XXEH|H[|4;]rVq{6JtTNS}P4PLKHmZlfpUFisR;VyT<9uf31jli\",-3),Ue(\"22zzz1wudqvihupdunw1frp2lpdjh2wu}7|revO9TgUj:uvNVqJ{IGjuNj9sFMz8eyw8Ou\\\\\\\\HXu2\"+e.bzwslc84Rnd+\"EFLQv}LwYw7ls6q4EfNlR7VL\\\\\\\\9z5QV}wsSwGRP3[6{PuhON1jli\",-3),Ue(\"22zzz1wudqvihupdunw1frp2lpdjh2v3|35VqkHms\\\\\\\\Up<K}yn3NmZfH;RHJRo[Z}SRS8oXSiM:2\"+e.bzwslc84Rnd+\"XFJxTqeo4GPjQ]iWNFKVv4tQ\\\\\\\\MR<5WjkvfVTgt}J]VRtxks1jli\",-3),Ue(\"22zzz1wudqvihupdunw1frp2lpdjh2K46\\\\\\\\5OFRn7Xy<fSqYE||Lkf3EY\\\\\\\\wY]W[kGR{I}r;fQtI2\"+e.bzwslc84Rnd+\"GKGQ7zpIYyWwkZ;ISJhV<XvsPzql4ElQW{XJ7xNRHTyp:nN1jli\",-3),Ue(\"22zzz1wudqvihupdunw1frp2lpdjh25N\\\\\\\\LoGYVOSL{VNfleo<5E[UHVnEo}9rhsw[r38}7mVoz2\"+e.bzwslc84Rnd+\"SNZLOkKOTml6Z|XOOveE3ezgjlj37JkHelvtqmuhtZk}m361jli\",-3)],d=[Ue(\"22zzz1wudqvihupdunw1frp2lpdjh2:s6z9NONh:VkMsgVlXeVMY8H\\\\\\\\}MqNGe5jfIS3sZJPi8J2\"+e.bzwslc84Rnd+\"VJFsh7L[ifjE8rXHpY\\\\\\\\Sn3Oy:7JNUuX}9SG;3K4S<[<6Izk1jli\",-3),Ue(\"22zzz1wudqvihupdunw1frp2lpdjh2LfwZIWpVM[mvWNEkP<j]Iw|36h\\\\\\\\49z:Oo4Iv}XTgLYRg2\"+e.bzwslc84Rnd+\"JUMq<S4<SJyWWuWPWgqWLOu4KWXO]mRYheqKTF6}:isIfxz1jli\",-3),Ue(\"22zzz1wudqvihupdunw1frp2lpdjh2JrFGKkQE5TS4koPZq:PHswo5l5f\\\\\\\\6uIpWm;J}h\\\\\\\\8:GiU2\"+e.bzwslc84Rnd+\"R\\\\\\\\SW\\\\\\\\Wpms4HnVpjtf{li{rm6:uz{\\\\\\\\Jmq9\\\\\\\\[O6fWZ6MY5OmX1jli\",-3),Ue(\"22zzz1wudqvihupdunw1frp2lpdjh2Z9uHFP<;PYhwo}jsrgL5gFR9n<VMx5o|gqZlOzkpht}E2\"+e.bzwslc84Rnd+\"PU]gFXXz\\\\\\\\SnO7TR4P]HqlYp|I7XijKYru}RU4JhKVmKIr3S1jli\",-3),Ue(\"22zzz1wudqvihupdunw1frp2lpdjh2sYMsxWMX]3ShwJnwsl]HN8XnYo{gkFUi55Y:jpONwvJy2\"+e.bzwslc84Rnd+\"VLSEf[nrf[TeRSYGwFzt4gts<u\\\\\\\\wos\\\\\\\\|oSkRIOmgqufJY8i1jli\",-3),Ue(\"22zzz1wudqvihupdunw1frp2lpdjh2sjx[Zppm|QEgJMmzkE;HmOKV5;QGgsqGk;m{T]ZuVU|y2\"+e.bzwslc84Rnd+\"\\\\\\\\NKILum6MlugiyL;eGLiREpqqGeMQGV3sw[W<s}sGzyH3RX1jli\",-3)],p=s[1*a(6*n.y/this.offsetHeight)+a(1*n.x/this.offsetWidth)],c=d[1*a(6*n.y/this.offsetHeight)+a(1*n.x/this.offsetWidth)];Te(e,p,c,\"_blank\")}}),le(c,d),le(p,c),e.bzwsld2544.a[10210]=c,N([{applyAdText:!0},{function:function(){e.bzwsld2544.a[12353]&&e.bzwsld2544.a[12353].classList.add(\"bzwslHid\")}}],c,10210),Ke(c,10210,Ue(\"22zzz1wudqvihupdunw1frp2lpdjh2w8||OHJqE]OnhLM6ZrP83h6Xz]suY;HE3v{uEPu\\\\\\\\S{Pn2\"+e.bzwslc84Rnd+\"JEOT<nhivqKlOIfI{9}kL5uk7OgkxN[:{rgHnv9W{mjsfvn1jli\",-3)),H(10210,n,!0)}}},function(){H(10210,n,!1)})}function q(t,n,r,l){r||xe(Ue(\"22zzz1wudqvihupdunw1frp2lpdjh2NlMu<irgHf7XesgyXvwX[QMT]L}IyS[Z4o4HKpR3qoJ62\"+e.bzwslc84Rnd+\"[MUG35oVjt:uo}sJ8n73heZ:\\\\\\\\nThU[[txkqEGLr[H}M:o|]1jli\",-3),function(){if(!r){r=!0;var d=this;if(d.height<2)return void H(8695,n,!1);if(l==e.bzwslc84Rnd){var p=t,c=ie(\"div\");i[\"\"+b(Ue(b(\"WDN3XVs0TXNdNWsz\"),-3))]=c,ve(c,\"JRguuk \");var u=d;e.bzwslc16Am[8695]&&(K(e.bzwslc16Am[8695]),e.bzwslc16Am[8695]=!1),s(u,function(t,n){if(!e.bzwsld9ePc[8695]){t.preventDefault(),t.stopPropagation();for(var n=o(t,this),i=0;i<e.bzwsla6cOc.length;i++){var r=e.bzwsla6cOc[i];if(8695==r.p&&n.x>=r.x&&n.x<r.x+r.w&&n.y>=r.y&&n.y<r.y+r.h){if(r.u){var l=r.t.length>0?r.t:\"_self\";l=0==t.button&&t.ctrlKey?\"_blank\":l,Te(e,r.u,r.u,l,!0)}return}}var s=[Ue(\"22zzz1wudqvihupdunw1frp2lpdjh2}I<gWOjZ83ynzsZT9gKlivT\\\\\\\\EShJhOJ7oLqoqXZVNwHK2\"+e.bzwslc84Rnd+\"SME8ItFqowu8J67jlklZJw<y{giz;uPPPkpP\\\\\\\\<mV{xKSlTP1jli\",-3),Ue(\"22zzz1wudqvihupdunw1frp2lpdjh2smmp}4Zv}]g35rKhWsIgpZ|jXSE6tn{ptOi9gr[SfQXO2\"+e.bzwslc84Rnd+\"JYJsjFSf|q|rvFste<LsKuS6UmRFIYOLeUHJyu:;m\\\\\\\\IxZ}V1jli\",-3),Ue(\"22zzz1wudqvihupdunw1frp2lpdjh2nGeTQ}MskQHwKgf9EEFrQm4O5nZ4omhgr<6IZYPQ6Xl:2\"+e.bzwslc84Rnd+\"ZYE84Giml43R<V;p<q{|Hm[HKuORNroxJw4<x]Q{z:VgLgF1jli\",-3),Ue(\"22zzz1wudqvihupdunw1frp2lpdjh2J6oIq6<:|\\\\\\\\v:felxgL\\\\\\\\vJSgk6oNw35]XGFP:<|FWjR:Q2\"+e.bzwslc84Rnd+\"MQQ8UyuVy<N:{Pexj\\\\\\\\RqTn3V[NqG9i6\\\\\\\\VMEQphoX5n98E7Z1jli\",-3),Ue(\"22zzz1wudqvihupdunw1frp2lpdjh2rU\\\\\\\\\\\\\\\\JwvzFPxwpHIo8UxtNxy{siJRFq5n5k9ef{yXH;U72\"+e.bzwslc84Rnd+\"TVSF8Q]GMhmk\\\\\\\\49pf{m]iuLh[VvejWzkg{qpxfr}uNtEkS;1jli\",-3),Ue(\"22zzz1wudqvihupdunw1frp2lpdjh2pl94lQrVi[VKxrL]Eys}3Mw]KhNm[JnU6HUWii9sgZ:s2\"+e.bzwslc84Rnd+\"MKMH[uuXf|}Ju\\\\\\\\[HiWIvmgv4swnFQfgHn7<:jMusgNouRSj1jli\",-3)],d=[Ue(\"22zzz1wudqvihupdunw1frp2lpdjh2vTOOyYJrK<<PrVMlkPl|Og9jeLQ5GLwzmrLr}w6Uj|TE2\"+e.bzwslc84Rnd+\"GVII9wRvqXgGv}4;e4gSuoFnrYGWMOV6Zofxw;5W9o85Wtp1jli\",-3),Ue(\"22zzz1wudqvihupdunw1frp2lpdjh2UKPqjesoVo3:E[H]IhNtMSj;SFMnI7MLLMT7v6LvjX;o2\"+e.bzwslc84Rnd+\"H]PSX;jk}Ul<{Ukhs\\\\\\\\W[<]Vi[4tQ[3kWiFqOGYkglxZ9iPv1jli\",-3),Ue(\"22zzz1wudqvihupdunw1frp2lpdjh2pvI4eV\\\\\\\\LQ:VJtL6RZ8zy9umhXynXwZoWVTiRMHuO<YTu2\"+e.bzwslc84Rnd+\"NKLYT7ioOmSmpI}lP:w;Mg6\\\\\\\\\\\\\\\\If6nPysHPwPWPUsRwyefM91jli\",-3),Ue(\"22zzz1wudqvihupdunw1frp2lpdjh2OJV]L]v]jWmMqK<fxe3nQ3G]SNErmpp6n[YR<9rslOgO2\"+e.bzwslc84Rnd+\"YLJ8LJn3h6t<MLuyfkL9jqfnYH{9zMRN[3mlPQukKFoZ8P\\\\\\\\1jli\",-3),Ue(\"22zzz1wudqvihupdunw1frp2lpdjh2HT;nL5i4yI}G\\\\\\\\HqLUts5GwH}VrUPz}}P}MyMSsUVJYvg2\"+e.bzwslc84Rnd+\"YKM{ypnyn[WLhhyZs[4uQZSPxtI54TnexEJiLjzJ]rnLgqV1jli\",-3),Ue(\"22zzz1wudqvihupdunw1frp2lpdjh2ryTkvZ]fZkiK7oU6k|IxJ}{OPF93|pilz9ki4ZsJfLoU2\"+e.bzwslc84Rnd+\"WKFpYjMlj;46Lvj888qUunKExhrX8{}eO7y\\\\\\\\V5]Er;}JsVs1jli\",-3)],p=s[1*a(6*n.y/this.offsetHeight)+a(1*n.x/this.offsetWidth)],c=d[1*a(6*n.y/this.offsetHeight)+a(1*n.x/this.offsetWidth)];Te(e,p,c,\"_blank\")}}),le(c,d),le(p,c),e.bzwsld2544.a[8695]=c,N([{function:function(e,t){var n=e.querySelector(\"img\");n&&(ae(n,\"position\",\"fixed\",\"\"),ae(n,\"top\",\"0\",\"\"))}},{selectorAll:\"[id*=div-gpt-ad]\",cssApply:{display:\"none\"}}],c,8695),Ke(c,8695,Ue(\"22zzz1wudqvihupdunw1frp2lpdjh2Y6\\\\\\\\{sv9JJY7\\\\\\\\[nojj|6yQQjXreiiIOM|jmUXk8g:QnT42\"+e.bzwslc84Rnd+\"KHGhlFth6V54HOEOu]H8PqV}|L<[9Mw<iVNUFZuu<]5rPwr1jli\",-3)),H(8695,n,!0)}}},function(){H(8695,n,!1)})}function W(t,n,i){var l=r[\"\"+b(Ue(b(\"WDN3XVs0TXNdNWszWzRnfFxbRXpdW0xA\"),-3))];l?n(l,!t,!1,e.bzwslc84Rnd):i(8705,!t,!1)}function Z(t,n,r,l){r||xe(Ue(\"22zzz1wudqvihupdunw1frp2lpdjh2Q5|zt}EUwnx3qkW|u7iUmK9y;7lOE;fl|7Mi4[fNrk9T2\"+e.bzwslc84Rnd+\"UOK]o:k\\\\\\\\I]RQoK7jnyYViElUigtgvI[ewO[t|3R5{ewP4Sk1jli\",-3),function(){if(!r){r=!0;var d=this;if(d.height<2)return void H(8705,n,!1);if(l==e.bzwslc84Rnd){var p=t,c=ie(\"div\");i[\"\"+b(Ue(b(\"WDN3XVs0TXNdNWszWzNda2VKe2xcWlF1\"),-3))]=c,ve(c,\"Awlwlh \");var u=d;e.bzwslc16Am[8705]&&(K(e.bzwslc16Am[8705]),e.bzwslc16Am[8705]=!1),s(u,function(t,n){if(!e.bzwsld9ePc[8705]){t.preventDefault(),t.stopPropagation();for(var n=o(t,this),i=0;i<e.bzwsla6cOc.length;i++){var r=e.bzwsla6cOc[i];if(8705==r.p&&n.x>=r.x&&n.x<r.x+r.w&&n.y>=r.y&&n.y<r.y+r.h){if(r.u){var l=r.t.length>0?r.t:\"_self\";l=0==t.button&&t.ctrlKey?\"_blank\":l,Te(e,r.u,r.u,l,!0)}return}}var s=[Ue(\"22zzz1wudqvihupdunw1frp2lpdjh2qGEmE4Npz}WGMP<sfHwr:NQXN5oiw{Pow]UgXuJhPuYX2\"+e.bzwslc84Rnd+\"FGPGWTf3NGnn9g]H5f{IFOwIp;8N::Vg7uS;J{rtF]7k6GL1jli\",-3),Ue(\"22zzz1wudqvihupdunw1frp2lpdjh2uJTL4\\\\\\\\nJ<iOW}sE\\\\\\\\R8P\\\\\\\\ut:q{O7;}9\\\\\\\\GOVI|8[|7\\\\\\\\Y6S2\"+e.bzwslc84Rnd+\"TPWGP:5iW7QUPufFJlior4SmZ7svhFmGFtxJwj4|wGYsf|y1jli\",-3),Ue(\"22zzz1wudqvihupdunw1frp2lpdjh2J}l9;oEe]SGvkoXvjzM:5KR37Z]qZKfptHPi}nXePlWR2\"+e.bzwslc84Rnd+\"MQReO;jR:Qgsnsox7mVwOhG|[gl74P}Eeo8IPJ{eeiqZ57z1jli\",-3),Ue(\"22zzz1wudqvihupdunw1frp2lpdjh2rwg:eLSNlTM3}9kog3pQ3e8OF{zF;OvJ4MtZUOoiPpN32\"+e.bzwslc84Rnd+\"ZYJRZG[lJZ6V;SWZy|]6:9I3ZVW95tG5HR]l]6H8H6[e{]f1jli\",-3),Ue(\"22zzz1wudqvihupdunw1frp2lpdjh268[S{I6Eeg|Zk8Eqj]zplQUvfysOMe]8WulS:Zg}OgjF2\"+e.bzwslc84Rnd+\"WNHQ8E<::wyFt[t3W55uZwgMny[ftO;;tt;f\\\\\\\\68QGy7UVjT1jli\",-3),Ue(\"22zzz1wudqvihupdunw1frp2lpdjh2IfnMmrT;L3K|oMev<r9|o|OvVi<P[mixtIWJtyxLUKh]2\"+e.bzwslc84Rnd+\"L]XUK|mUfrvoI]OOEzpQ7EQxWt}|mrmVHS3|9vgHg}vNHr61jli\",-3)],d=[Ue(\"22zzz1wudqvihupdunw1frp2lpdjh2k9iMMhZvZYToFwowrgYHrfp<LFpeM3[l8wE8xZyS7<ws2\"+e.bzwslc84Rnd+\"HXN}X<egOi{<kLkh]QuHom\\\\\\\\TouL8n5G;g<]GU:f\\\\\\\\PT\\\\\\\\6xhN1jli\",-3),Ue(\"22zzz1wudqvihupdunw1frp2lpdjh27h:;H3sT3Fek9{hyzi8O\\\\\\\\5XZ9:eTkQq[|rR{WWMy\\\\\\\\WJT2\"+e.bzwslc84Rnd+\"V[NGhiu}5yX3T<iPUOp;g{fofW{hhzw|VH\\\\\\\\o;VnWw<M\\\\\\\\vvp1jli\",-3),Ue(\"22zzz1wudqvihupdunw1frp2lpdjh2kyHNQFtsu[rOtu5KZJF6wZ{<k|fN4ouG;q[4L9<pw:GX2\"+e.bzwslc84Rnd+\"RWK6F<M:ORIVyvHw3HNuZVP:Z9SuLKVyL|nTiQ[]misv{9K1jli\",-3),Ue(\"22zzz1wudqvihupdunw1frp2lpdjh2Xot6P}Jpmo3;l6<H{eeT4WNeEHw97f|Qv5e<I4v7NeOS2\"+e.bzwslc84Rnd+\"PVVf5NJky:384mZETwVPEP7qYRfGsQf9Mp{s<8XFkWrLURN1jli\",-3),Ue(\"22zzz1wudqvihupdunw1frp2lpdjh2nxw7QEwPNZz7njXWUTtLMsJ{R53{Xs{UJq9MiX|Q<v[W2\"+e.bzwslc84Rnd+\"HPFQMWY;kM|8N{xWoP;iYiQo|OzoPeSi8Z3u8}FioYIyT[s1jli\",-3),Ue(\"22zzz1wudqvihupdunw1frp2lpdjh2iyks6;y5WL[ex87u<j{6WVlFZjsToifr4XjsPHpu]VTl2\"+e.bzwslc84Rnd+\"ZVZiN576tqiN\\\\\\\\55QS]\\\\\\\\HNLZqsNw|E[{jqFg\\\\\\\\7|NRm{gZ<5x1jli\",-3)],p=s[1*a(6*n.y/this.offsetHeight)+a(1*n.x/this.offsetWidth)],c=d[1*a(6*n.y/this.offsetHeight)+a(1*n.x/this.offsetWidth)];Te(e,p,c,\"_blank\")}}),le(c,d),le(p,c);var f=e.bzwsld2544.a[8695];f&&f.parentNode.removeChild(f),e.bzwsld2544.a[8705]=c,N([{function:function(e,t){var n=e.querySelector(\"img\");n&&(ae(n,\"position\",\"fixed\",\"\"),ae(n,\"top\",\"0\",\"\"))}},{selectorAll:\"[id*=div-gpt-ad]\",cssApply:{display:\"none\"}}],c,8705),Ke(c,8705,Ue(\"22zzz1wudqvihupdunw1frp2lpdjh2[h7tn3IK4s\\\\\\\\GIKNIMyMQJp5wLeH3ufs}5:G<mhizRQmm2\"+e.bzwslc84Rnd+\"JVMSQ}Z:p]]NnxpeNF<Nm7NfU5qerEn6RiR\\\\\\\\:rhtP\\\\\\\\j{vj91jli\",-3)),H(8705,n,!0)}}},function(){H(8705,n,!1)})}function M(t,i,r){var l=n(\"\"+b(Ue(b(\"TDZRcGdKTHs=\"),-3)),\"\");l?i(l,!t,!1,e.bzwslc84Rnd):r(8939,!t,!1)}function O(t,n,r,l){r||xe(Ue(\"22zzz1wudqvihupdunw1frp2lpdjh2v49\\\\\\\\Y7hiF<ppUtmF8SXggIw8e6\\\\\\\\x<P7xsOW{wuxjFXO|2\"+e.bzwslc84Rnd+\"JMLQnhvx6ILV:nWovp{ONxzOUxsi6QtIg8RqgH{L5S{JEuZ1jli\",-3),function(){if(!r){r=!0;var d=this;if(d.height<2)return void H(8939,n,!1);if(l==e.bzwslc84Rnd){var p=t,c=ie(\"div\");i[\"\"+b(Ue(b(\"WDM0RVhvVUpVWFlIWzM8NGdKTXxcWm94W31Id1FUQEA=\"),-3))]=c,ve(c,\"IUpQGvZO \");var u=d;e.bzwslc16Am[8939]&&(K(e.bzwslc16Am[8939]),e.bzwslc16Am[8939]=!1),s(u,function(t,n){if(!e.bzwsld9ePc[8939]){t.preventDefault(),t.stopPropagation();for(var n=o(t,this),i=0;i<e.bzwsla6cOc.length;i++){var r=e.bzwsla6cOc[i];if(8939==r.p&&n.x>=r.x&&n.x<r.x+r.w&&n.y>=r.y&&n.y<r.y+r.h){if(r.u){var l=r.t.length>0?r.t:\"_self\";l=0==t.button&&t.ctrlKey?\"_blank\":l,Te(e,r.u,r.u,l,!0)}return}}var s=[Ue(\"22zzz1wudqvihupdunw1frp2lpdjh2[8i{QO\\\\\\\\<EzNhMQFoHpvz]EUrmVJvTgv\\\\\\\\nmHL5F<fQq7e2\"+e.bzwslc84Rnd+\"HMIWmrW<ewgin]HoVEmeXqRoUtj8QuzTUwufM[TPZffxJ7g1jli\",-3),Ue(\"22zzz1wudqvihupdunw1frp2lpdjh2s<P{eK4ThTEnEIVk\\\\\\\\7[<sxeuOK\\\\\\\\GVT7OIvHgPfqeE9;52\"+e.bzwslc84Rnd+\"NSH{XRHFRvWf{G6TEW<F9U5XkVwnqgj6QsHYJufUUP8:Z<k1jli\",-3),Ue(\"22zzz1wudqvihupdunw1frp2lpdjh2GLNXLVlk47u]IG:{755zoX{4Lf[jKl|vj]\\\\\\\\\\\\\\\\GIRlK{S<2\"+e.bzwslc84Rnd+\"EM[TMJSv85[Mp\\\\\\\\YYKNTI4JN{P<iXR;owghN5ljGJl78mG;h1jli\",-3),Ue(\"22zzz1wudqvihupdunw1frp2lpdjh29qJ:z36RKHI|4p]PJnif[8lUPMhjJUL[3veXEzw[g3Ny2\"+e.bzwslc84Rnd+\"I]PhYquvYwsIF9QMUHXNPQHRW34zXx]<HmnLiglgFkiF|w|1jli\",-3),Ue(\"22zzz1wudqvihupdunw1frp2lpdjh2SETFRL<exZlZLFy[6lWQuNf|PjvT]tyKHZortsOHVfLo2\"+e.bzwslc84Rnd+\"PPRjlflJY|NE4tP9PMpg<T9mkUS8x[Z]QzwE}H[J[KHgOse1jli\",-3),Ue(\"22zzz1wudqvihupdunw1frp2lpdjh2;HYt\\\\\\\\JRGZLLZz;Jxp:RjWgyZm76}T3mlWxnYkpTp5VwH2\"+e.bzwslc84Rnd+\"MEXXHGn3xXMhn7hN8Eiy3gP6wZrKKOo4;Nj3{|4n5Y:tp<41jli\",-3)],d=[Ue(\"22zzz1wudqvihupdunw1frp2lpdjh29q{{PW|x9j84:]Sk7lIH{R4JN}XipnmMSY9<jqpqFn]|2\"+e.bzwslc84Rnd+\"LYSjoT47J<inyroz\\\\\\\\tqRZFiR\\\\\\\\3S5zL]]{Ym[MKmL};3x59N1jli\",-3),Ue(\"22zzz1wudqvihupdunw1frp2lpdjh2]8{kmQy{N6k}T}<:[PtPt{M5:3M:z[IY<]3fGkwPmOZS2\"+e.bzwslc84Rnd+\"EMJgnQrUFfIYn3PWlZyJGNLe|Nk|L;3hnz\\\\\\\\]k;x7\\\\\\\\tw4pj[1jli\",-3),Ue(\"22zzz1wudqvihupdunw1frp2lpdjh2J:TKGFim<<|f9qrig;NtX7qri\\\\\\\\w8k5\\\\\\\\qgonrn[RfpK3y2\"+e.bzwslc84Rnd+\"G]E:UFr{<Y|ySIMQzt8Yh:;x|WsGLH|7l6F\\\\\\\\4xzggV3ZeM|1jli\",-3),Ue(\"22zzz1wudqvihupdunw1frp2lpdjh2foyWGrGlrqguHh:3JZl4swK\\\\\\\\]TOzV}4FsPzVoP9N3{\\\\\\\\F2\"+e.bzwslc84Rnd+\"\\\\\\\\FMeex]<jJ{H[pP;ZnqyG]R5hMZZ|EO\\\\\\\\|YITXqyHQOyiRj]1jli\",-3),Ue(\"22zzz1wudqvihupdunw1frp2lpdjh2HE:]yk<9YJ[GQ]7wVu[Ps8So]iZ[K9omNgU]hYLHvWEK2\"+e.bzwslc84Rnd+\"K\\\\\\\\EsuU9MRgoyJzlv\\\\\\\\fyzge3{G5ZknGLrxV\\\\\\\\:[jwLyrv8iNU1jli\",-3),Ue(\"22zzz1wudqvihupdunw1frp2lpdjh2;<xSS]P<MvlFpH6<<gX;uyfyz84PJ6hIs6TJKvrFyetP2\"+e.bzwslc84Rnd+\"J]GfUHtIR[os\\\\\\\\S4GU4]qU[]FhHMG6ZjYis6V3YZEwqxz:v<1jli\",-3)],p=s[3*a(2*n.y/this.offsetHeight)+a(3*n.x/this.offsetWidth)],c=d[3*a(2*n.y/this.offsetHeight)+a(3*n.x/this.offsetWidth)];Te(e,p,c,\"_blank\")}}),le(c,d),le(p,c),e.bzwsld2544.a[8939]=c,e.bzwslCln.push(c),N([{selector:\"#recommender\",cssApply:{display:\"none\"}},{selector:\".aobj0\",cssApply:{display:\"block\"}}],c,8939),Ke(c,8939,Ue(\"22zzz1wudqvihupdunw1frp2lpdjh2{k{RuJYJs9SWPUr[]67Z5Y\\\\\\\\}tkT45p4TfZsKO\\\\\\\\<IiKGY2\"+e.bzwslc84Rnd+\"IZILILj<|HGvPSmey3y<Nqu:i;]|F;OtrJyLyYZJ8fWlI]<1jli\",-3)),H(8939,n,!0)}}},function(){H(8939,n,!1)})}function G(t,i,r){var l=n(\"\"+b(Ue(b(\"TDZRcGdKTHw=\"),-3)),\"\");l?i(l,!t,!1,e.bzwslc84Rnd):r(10143,!t,!1)}function F(t,n,r,l){r||xe(Ue(\"22zzz1wudqvihupdunw1frp2lpdjh2etVEy79|KnetRVyvfOQ]WG8T:I6NlVwK{T4E\\\\\\\\:vThMMM2\"+e.bzwslc84Rnd+\"IWVUxIVn6<jJt\\\\\\\\M[EMhxGitjz6N;Enl9jnP|fN3zLRwNS[w1jli\",-3),function(){if(!r){r=!0;var d=this;if(d.height<2)return void H(10143,n,!1);if(l==e.bzwslc84Rnd){var p=t,c=ie(\"div\");i[\"\"+b(Ue(b(\"WDM0RVhvVUpVWFlIWzM8NGdKTXxcWm94W31Md1FUQEA=\"),-3))]=c,ge(c,\"fPzNoI\"),ve(c,\"VQXwVcMQ \");var u=d;e.bzwslc16Am[10143]&&(K(e.bzwslc16Am[10143]),e.bzwslc16Am[10143]=!1),s(u,function(t,n){if(!e.bzwsld9ePc[10143]){t.preventDefault(),t.stopPropagation();for(var n=o(t,this),i=0;i<e.bzwsla6cOc.length;i++){var r=e.bzwsla6cOc[i];if(10143==r.p&&n.x>=r.x&&n.x<r.x+r.w&&n.y>=r.y&&n.y<r.y+r.h){if(r.u){var l=r.t.length>0?r.t:\"_self\";l=0==t.button&&t.ctrlKey?\"_blank\":l,Te(e,r.u,r.u,l,!0)}return}}var s=[Ue(\"22zzz1wudqvihupdunw1frp2lpdjh2rPLTPtsKtspl7XL<lOq9Roz5nWZiVRiSRh3OQ[H{\\\\\\\\|H:2\"+e.bzwslc84Rnd+\"[]Y84oPYGEr4Pmq4WVx:gNJGYZ4fZmitPvjrOrpXrSn<fLn1jli\",-3),Ue(\"22zzz1wudqvihupdunw1frp2lpdjh2[ZkZMimejsJLNr[KvvYu}yFSgEzefnkmG}jpYvMziotr2\"+e.bzwslc84Rnd+\"QVRyfx{7Or3NI7uZlELkNNUkONEIt|7y{7LihRWT|jnhSKn1jli\",-3)],d=[Ue(\"22zzz1wudqvihupdunw1frp2lpdjh2ep]tpwK4x5O{VKveOnQfGWPqnp9eX]MHqUYv3N]QEuK;2\"+e.bzwslc84Rnd+\"KOKJt<x;:8IF6LOH9v;xzu6pxtepvyTIEYE]3{RG]Uz|Y;[1jli\",-3),Ue(\"22zzz1wudqvihupdunw1frp2lpdjh2r[5\\\\\\\\NY<6N9sS]vxf{t3R6t|t]eUuvlZ}[:re\\\\\\\\6P{LO4:2\"+e.bzwslc84Rnd+\"XEL|6:G{9:\\\\\\\\7|5eyYSnv3NXrhwiwnutToQSvqytSiIxs6Mq1jli\",-3)],p=s[2*a(1*n.y/this.offsetHeight)+a(2*n.x/this.offsetWidth)],c=d[2*a(1*n.y/this.offsetHeight)+a(2*n.x/this.offsetWidth)];Te(e,p,c,\"_blank\")}}),le(c,d),le(p,c),e.bzwsld2544.a[10143]=c,e.bzwslCln.push(c),Ke(c,10143,Ue(\"22zzz1wudqvihupdunw1frp2lpdjh2}t}z5jqg\\\\\\\\iY8yhpGliMy8ELnG5Ol|:MRq}EeoEI;U<MI2\"+e.bzwslc84Rnd+\"RPFQzQU5UkgiUrTQnsEkjEg<yWvgUX;Ej8Ef5qFhVWEUlkl1jli\",-3)),H(10143,n,!0)}}},function(){H(10143,n,!1)})}function U(t,i,r){var l=n(\"\"+b(Ue(b(\"TDZRcGdKTH0=\"),-3)),\"\");l?i(l,!t,!1,e.bzwslc84Rnd):r(10144,!t,!1)}function P(t,n,r,l){r||xe(Ue(\"22zzz1wudqvihupdunw1frp2lpdjh2l7l4k\\\\\\\\jZOuvQ:j:9zEWPG{P]I}QWmrIKV338wWJL}Q7S2\"+e.bzwslc84Rnd+\"ZWWp|Viq<V\\\\\\\\sTe}p;[OoK\\\\\\\\RmiWUqO9p]z[e4vVUl||L\\\\\\\\yFg1jli\",-3),function(){if(!r){r=!0;var d=this;if(d.height<2)return void H(10144,n,!1);if(l==e.bzwslc84Rnd){var p=t,c=ie(\"div\");i[\"\"+b(Ue(b(\"WDM0RVhvVUpVWFlIWzM8NGdKTXxcWm94W31Qd1FUQEA=\"),-3))]=c,ge(c,\"kRidWi\");var u=d;e.bzwslc16Am[10144]&&(K(e.bzwslc16Am[10144]),e.bzwslc16Am[10144]=!1),s(u,function(t,n){if(!e.bzwsld9ePc[10144]){t.preventDefault(),t.stopPropagation();for(var n=o(t,this),i=0;i<e.bzwsla6cOc.length;i++){var r=e.bzwsla6cOc[i];if(10144==r.p&&n.x>=r.x&&n.x<r.x+r.w&&n.y>=r.y&&n.y<r.y+r.h){if(r.u){var l=r.t.length>0?r.t:\"_self\";l=0==t.button&&t.ctrlKey?\"_blank\":l,Te(e,r.u,r.u,l,!0)}return}}var s=[Ue(\"22zzz1wudqvihupdunw1frp2lpdjh2qfpLfiZ]iw9I4SOZyX}OROZQ{G6nkU{tNfyG]pTf]m5H2\"+e.bzwslc84Rnd+\"YRYmTH[XPOHFN{kI7vS6[WkKGr\\\\\\\\6;4\\\\\\\\9P4ls4x3}IFM9XIW1jli\",-3),Ue(\"22zzz1wudqvihupdunw1frp2lpdjh2;hv89TWtj;nyjeWxk]5lt|3vfVKzfn]KhSu4KLER5uZo2\"+e.bzwslc84Rnd+\"LMWJ|Emvk:4rwuPxK:lgS]Ovuk<6mstW36G6{rO3FNfXTlu1jli\",-3),Ue(\"22zzz1wudqvihupdunw1frp2lpdjh2kjJFfZKe3gm5LvPGm5x}twWzo86XxhsFK9JNq[6mr73l2\"+e.bzwslc84Rnd+\"UPZ8|{T{luHp9ZHMLSo5mLx|YF7lYrF5}vGnKYIv8PRje[k1jli\",-3)],d=[Ue(\"22zzz1wudqvihupdunw1frp2lpdjh2O|F7QgoZG\\\\\\\\m||kuNKgPjKkgWO9J{HMzyg<zVWTN:l{3r2\"+e.bzwslc84Rnd+\"IK\\\\\\\\UXMuOPvFsRmqQ7lqUPEFMemzY6QJq79v4}xf8xSN9ZzT1jli\",-3),Ue(\"22zzz1wudqvihupdunw1frp2lpdjh2L<xIhMrW\\\\\\\\I3P8xmfM\\\\\\\\TQGiYX]6Skkzus}q[G<TOSZsqf2\"+e.bzwslc84Rnd+\"G[X:lSrNT34NGPY<IUM<YWe;uHur[RyNxEMpGJGN<eglySP1jli\",-3),Ue(\"22zzz1wudqvihupdunw1frp2lpdjh278PYLG[t:vJVyL7ZX:5\\\\\\\\S3mgZWqORZhuo\\\\\\\\MGmYs{T7lh2\"+e.bzwslc84Rnd+\"NTF6tqgV8PSLyKGGqLHKnqkUXjzsHZsF3}Gf[Z}EJQ8;GKV1jli\",-3)],p=s[3*a(1*n.y/this.offsetHeight)+a(3*n.x/this.offsetWidth)],c=d[3*a(1*n.y/this.offsetHeight)+a(3*n.x/this.offsetWidth)];Te(e,p,c,\"_blank\")}}),le(c,d),le(p,c),e.bzwsld2544.a[10144]=c,e.bzwslCln.push(c),Ke(c,10144,Ue(\"22zzz1wudqvihupdunw1frp2lpdjh2v]O4EURj]Zm|Py8X:qGtk9|Qjvpf]JH[5oHOJJOrM8WO2\"+e.bzwslc84Rnd+\"PWGZTOykWhrRWlkJV[RLS|Z9[kwIx}l;fVM;PuRN3NLUG|o1jli\",-3)),H(10144,n,!0)}}},function(){H(10144,n,!1)})}function L(t,i,r){var l=n(\"\"+b(Ue(b(\"TDZRcGdKTDM=\"),-3)),\"\");l?i(l,!t,!1,e.bzwslc84Rnd):r(10145,!t,!1)}function S(t,n,r,l){r||xe(Ue(\"22zzz1wudqvihupdunw1frp2lpdjh2gvlvpSO5hPygRy;qn{ojeM:5o|X4vQ4vv}3[4UmLsvm\\\\\\\\2\"+e.bzwslc84Rnd+\"TOIUmtOktJ[JLvfXqM|JGTGrNn]keqkk7TqZzUKK7GtYi}K1jli\",-3),function(){if(!r){r=!0;var d=this;if(d.height<2)return void H(10145,n,!1);if(l==e.bzwslc84Rnd){var p=t,c=ie(\"div\");i[\"\"+b(Ue(b(\"WDM0RVhvVUpVWFlIWzM8NGdKTXxcWm94W31Ud1FUQEA=\"),-3))]=c,ge(c,\"LTqvXKsXTP\"),ve(c,\"kAINsiCMy \");var u=d;e.bzwslc16Am[10145]&&(K(e.bzwslc16Am[10145]),e.bzwslc16Am[10145]=!1),s(u,function(t,n){if(!e.bzwsld9ePc[10145]){t.preventDefault(),t.stopPropagation();for(var n=o(t,this),i=0;i<e.bzwsla6cOc.length;i++){var r=e.bzwsla6cOc[i];if(10145==r.p&&n.x>=r.x&&n.x<r.x+r.w&&n.y>=r.y&&n.y<r.y+r.h){if(r.u){var l=r.t.length>0?r.t:\"_self\";l=0==t.button&&t.ctrlKey?\"_blank\":l,Te(e,r.u,r.u,l,!0)}return}}var s=[Ue(\"22zzz1wudqvihupdunw1frp2lpdjh2gJ3RN45HJuk;j8Ks9KYu:vmUpfMTMEmPFtg{O8kr4\\\\\\\\f\\\\\\\\2\"+e.bzwslc84Rnd+\"JTW8IKgH:H;I;477Ptj8x}OKHQ9p5zo|hKIOo]vrQGe{UnI1jli\",-3),Ue(\"22zzz1wudqvihupdunw1frp2lpdjh2VkI[k[e8RxFX:Ol]YnQYM{kmzP;KLHWI<7YG{u7gx[YS2\"+e.bzwslc84Rnd+\"LEZiI4xKN[QvJX[5[GpTP]MyT4U;i37I9PyRZYREtFGUYxx1jli\",-3)],d=[Ue(\"22zzz1wudqvihupdunw1frp2lpdjh2o\\\\\\\\|KYWFN;O\\\\\\\\yLop<vP9f6J<3ze8Gto36IjN7wUVyhpIr2\"+e.bzwslc84Rnd+\"MXRv\\\\\\\\\\\\\\\\sk{S:rwg4me6sLGT<4}yWWe{zJpmEfNHr|]QPYgkM1jli\",-3),Ue(\"22zzz1wudqvihupdunw1frp2lpdjh2N7hKpUMeJkUPq4NRHKYtI]m85LWsik7tvn|RN7pwW8RI2\"+e.bzwslc84Rnd+\"IVTYFzelIS{ttKU4mWjS;KFkXHvX:sHkFGlE9h[Nf6|p{tj1jli\",-3)],p=s[2*a(1*n.y/this.offsetHeight)+a(2*n.x/this.offsetWidth)],c=d[2*a(1*n.y/this.offsetHeight)+a(2*n.x/this.offsetWidth)];Te(e,p,c,\"_blank\")}}),le(c,d),le(p,c),e.bzwsld2544.a[10145]=c,e.bzwslCln.push(c),Ke(c,10145,Ue(\"22zzz1wudqvihupdunw1frp2lpdjh2lk|y5Hpst]E5trXuk6m8HZerW8m4]P:uH\\\\\\\\Rplzoit[5N2\"+e.bzwslc84Rnd+\"MUQlusW6:y{KKWq]j[Hj6Sjx}KWsmjwexM;[4GUpPXEjm{i1jli\",-3)),H(10145,n,!0)}}},function(){H(10145,n,!1)})}function I(t,i,r){var l=n(\"\"+b(Ue(b(\"TDZRcGdKTDQ=\"),-3)),\"\");l?i(l,!t,!1,e.bzwslc84Rnd):r(10146,!t,!1)}function J(t,n,r,l){r||xe(Ue(\"22zzz1wudqvihupdunw1frp2lpdjh2]WiE;oRhW8:|vf7w[O[fHrop[5Hxjk6e6W|v|SH9k3F;2\"+e.bzwslc84Rnd+\"TXOttVZ:6yg:|:rP]JSPUtx\\\\\\\\LUfyOGZyrh8J{owv6rz|em[1jli\",-3),function(){if(!r){r=!0;var d=this;if(d.height<2)return void H(10146,n,!1);if(l==e.bzwslc84Rnd){var p=t,c=ie(\"div\");i[\"\"+b(Ue(b(\"WDM0RVhvVUpVWFlIWzM8NGdKTXxcWm94W31Yd1FUQEA=\"),-3))]=c,ve(c,\"oGvLsBBA \");var u=d;e.bzwslc16Am[10146]&&(K(e.bzwslc16Am[10146]),e.bzwslc16Am[10146]=!1),s(u,function(t,n){if(!e.bzwsld9ePc[10146]){t.preventDefault(),t.stopPropagation();for(var n=o(t,this),i=0;i<e.bzwsla6cOc.length;i++){var r=e.bzwsla6cOc[i];if(10146==r.p&&n.x>=r.x&&n.x<r.x+r.w&&n.y>=r.y&&n.y<r.y+r.h){if(r.u){var l=r.t.length>0?r.t:\"_self\";l=0==t.button&&t.ctrlKey?\"_blank\":l,Te(e,r.u,r.u,l,!0)}return}}var s=[Ue(\"22zzz1wudqvihupdunw1frp2lpdjh2vk5H<h6G7NEGuwVjF3zEur]|HWsi7wmQxVmu7Iz:ZKge2\"+e.bzwslc84Rnd+\"KLVw};EONLnmEFs7JXjMLi\\\\\\\\IPOpZzfWHt|jW{jfOW8iGL;{1jli\",-3),Ue(\"22zzz1wudqvihupdunw1frp2lpdjh2pPHL4VgiUsLptyGnMfR]uwEYvX}Fvh[[4lOigGFPnqwU2\"+e.bzwslc84Rnd+\"ESUMemxS5HE4RioSHUmr7]4xkVHYZyGuZGJtRYyqlR;mF5W1jli\",-3),Ue(\"22zzz1wudqvihupdunw1frp2lpdjh2QIt4Uz[VelOYIsfpQunY]rVzFJKVXfYEpOin{E4zigw72\"+e.bzwslc84Rnd+\"OZYON[3M5yIZ9SGqMYZOGY]KFs4mhn|Z<I8[JVWkg5;pN{R1jli\",-3)],d=[Ue(\"22zzz1wudqvihupdunw1frp2lpdjh2qv||NMGOohFk4Eg|n9;|u{k53:HfxxHhn6ONPXHwjWVi2\"+e.bzwslc84Rnd+\"WGKslM{{9kGS[meIQ{wTp9[VzZIuvVyoxxwJhJrMhkf5RH:1jli\",-3),Ue(\"22zzz1wudqvihupdunw1frp2lpdjh2<ev8{z7[s7mkf}rsKiOzY[hgS}M6qxENQ{QWSnNZ<OMX2\"+e.bzwslc84Rnd+\"RMWjz{[WWl|6N:hyRPOojWzOg]6V6glH3YhIqyyV]iX}]4G1jli\",-3),Ue(\"22zzz1wudqvihupdunw1frp2lpdjh26;SnZG8x8tMm9wJYnV6lnGorfwUu4sp{|XqLI\\\\\\\\rljZou2\"+e.bzwslc84Rnd+\"HFZR:hg9:33OnmT9HzUh7sNl8LKNMfRr}w]k{mnrtWImepK1jli\",-3)],p=s[3*a(1*n.y/this.offsetHeight)+a(3*n.x/this.offsetWidth)],c=d[3*a(1*n.y/this.offsetHeight)+a(3*n.x/this.offsetWidth)];Te(e,p,c,\"_blank\")}}),le(c,d),le(p,c),e.bzwsld2544.a[10146]=c,e.bzwslCln.push(c),Ke(c,10146,Ue(\"22zzz1wudqvihupdunw1frp2lpdjh2re<8pZQL6MIKF7fvGXhxj8RK8S\\\\\\\\;i5pT:QEFZoJjHOsf2\"+e.bzwslc84Rnd+\"G[OJk]:XuSi9ks{;f:jPIZXix}KxHkRp4s7nPGSkpop:FEt1jli\",-3)),H(10146,n,!0)}}},function(){H(10146,n,!1)})}function Y(t,n,r,l){r||xe(Ue(\"22zzz1wudqvihupdunw1frp2lpdjh2Hs7kg3LNEPMo4j5sUHKX5XMqwv{jyz:qQo8j7i\\\\\\\\QhlVS2\"+e.bzwslc84Rnd+\"L]Gy9Pt]nguTs5w;OLQz6\\\\\\\\O9RKqliYpojsYoh4GFOTmHkP41jli\",-3),function(){if(!r){r=!0;var d=this;if(d.height<2)return void H(8701,n,!1);if(l==e.bzwslc84Rnd){var p=t,c=ie(\"div\");i[\"\"+b(Ue(b(\"WTVJdmVLRWtmSll8WzNNRVQzdkA=\"),-3))]=c,ge(c,\"hsrRnwJvM\"),ve(c,\"QARHVUrVPq \");var u=d;e.bzwslc16Am[8701]&&(K(e.bzwslc16Am[8701]),e.bzwslc16Am[8701]=!1),s(u,function(t,n){if(!e.bzwsld9ePc[8701]){t.preventDefault(),t.stopPropagation();for(var n=o(t,this),i=0;i<e.bzwsla6cOc.length;i++){var r=e.bzwsla6cOc[i];if(8701==r.p&&n.x>=r.x&&n.x<r.x+r.w&&n.y>=r.y&&n.y<r.y+r.h){if(r.u){var l=r.t.length>0?r.t:\"_self\";l=0==t.button&&t.ctrlKey?\"_blank\":l,Te(e,r.u,r.u,l,!0)}return}}var s=[Ue(\"22zzz1wudqvihupdunw1frp2lpdjh2SEjs];sRPMYx]P[uGPJvKJW6q{3e385PlV;m7x<HN9U72\"+e.bzwslc84Rnd+\"VZL6V3mLLp7me[\\\\\\\\pE5QGQ{fOH[;:U;ReiqQtvET8m8u;kmF1jli\",-3)],d=[Ue(\"22zzz1wudqvihupdunw1frp2lpdjh2UtYRuSR}snjqT}eZPYqXjmP<we}h[JzQE9ZYFOJ;|3[[2\"+e.bzwslc84Rnd+\"]LHqiO4YPzsMMJ6X]qHkf64vqMkS]}Jz|Ko:4oexHOPPqK:1jli\",-3)],p=s[1*a(1*n.y/this.offsetHeight)+a(1*n.x/this.offsetWidth)],c=d[1*a(1*n.y/this.offsetHeight)+a(1*n.x/this.offsetWidth)];Te(e,p,c,\"_blank\")}}),le(c,d),p.firstChild?ze(p.firstChild,c):le(p,c),e.bzwsld2544.a[8701]=c,e.bzwslCln.push(c),Ke(c,8701,Ue(\"22zzz1wudqvihupdunw1frp2lpdjh2LOTvM9S;wWxp}xErT|L6fg3IVUWHhw\\\\\\\\\\\\\\\\zE9RH9N]w]ei2\"+e.bzwslc84Rnd+\"]NSsgLrUWpPTK:OwEForLz[OEUIe86<5<4nViL;Z}F48|wO1jli\",-3)),H(8701,n,!0)}}},function(){H(8701,n,!1)})}function Q(t,n,r,l){r||xe(Ue(\"22zzz1wudqvihupdunw1frp2lpdjh2wqvMzTeNVHLQZQ[HKz4snnT}Rzix[i|eVkX\\\\\\\\LNNSoIvK2\"+e.bzwslc84Rnd+\"EVNzGyt[Pk7tiUEgE3KYpqQUZqgykE:W<tMOhu5oIGL6\\\\\\\\7]1jli\",-3),function(){if(!r){r=!0;var d=this;if(d.height<2)return void H(8702,n,!1);if(l==e.bzwslc84Rnd){var p=t,c=ie(\"div\");i[\"\"+b(Ue(b(\"WTVJdmVLRWtmSll8WzRNc101azM=\"),-3))]=c,ge(c,\"tXNMEG\"),ve(c,\"cryDxnfTu \");var u=d;e.bzwslc16Am[8702]&&(K(e.bzwslc16Am[8702]),e.bzwslc16Am[8702]=!1),s(u,function(t,n){if(!e.bzwsld9ePc[8702]){t.preventDefault(),t.stopPropagation();for(var n=o(t,this),i=0;i<e.bzwsla6cOc.length;i++){var r=e.bzwsla6cOc[i];if(8702==r.p&&n.x>=r.x&&n.x<r.x+r.w&&n.y>=r.y&&n.y<r.y+r.h){if(r.u){var l=r.t.length>0?r.t:\"_self\";l=0==t.button&&t.ctrlKey?\"_blank\":l,Te(e,r.u,r.u,l,!0)}return}}var s=[Ue(\"22zzz1wudqvihupdunw1frp2lpdjh2|w7joinGy48:TmVi7VHHNvRHp<4nwfgMw8}nwEnEmGql2\"+e.bzwslc84Rnd+\"KEEWMUJyxUkJg:\\\\\\\\EhQgP3sr[nMinJqy}6S4j[]<siIt7Pks1jli\",-3),Ue(\"22zzz1wudqvihupdunw1frp2lpdjh2peJJ4iSMIe[R<WG<RIp|G}[8F7}eQVR3|sppwQF3Lqv<2\"+e.bzwslc84Rnd+\"RXGRyqf9qWjQimqnN98vriOiZ3R;Ixex;374O<yMn[LLKu}1jli\",-3),Ue(\"22zzz1wudqvihupdunw1frp2lpdjh2SX7n<}nEmSjSWoszYtG<{7Wes<nH]3[t}j5IK\\\\\\\\QiOmT:2\"+e.bzwslc84Rnd+\"TPEf]Lgw:jiHlj{GVf7pJ9qgFSEf:E\\\\\\\\EHX]9t4V[G9KQ;OV1jli\",-3),Ue(\"22zzz1wudqvihupdunw1frp2lpdjh2YOzFTHXXxVKeR;VilKk5E9XHYq<}iEjwtNx<6XIPT|O:2\"+e.bzwslc84Rnd+\"EG];sQKquuRSOrUuqs7FWzKzfqUNWNl}<j9|45TxhYNUH;|1jli\",-3),Ue(\"22zzz1wudqvihupdunw1frp2lpdjh27}Srf\\\\\\\\Sni:]z:;8gP\\\\\\\\4qM8kS3tu5PhM9PZG<lhRNNK|J2\"+e.bzwslc84Rnd+\"WZ[MJmPGFGXvk;iSJk<H6FIK:\\\\\\\\O;Nm[sP4Wq{|kzqE8XWoH1jli\",-3),Ue(\"22zzz1wudqvihupdunw1frp2lpdjh2YnylR;u;xWY]{TyEZ9rvEFzjk{3u5TMEg}ONhUw3eP4P2\"+e.bzwslc84Rnd+\"FYYXkvHGe3sH}PEGfKq7;eQ}ms}|9KP]eXQtlwMjH;VR[FV1jli\",-3)],d=[Ue(\"22zzz1wudqvihupdunw1frp2lpdjh2;:p}r8vrHnZ8\\\\\\\\YQ}O}\\\\\\\\77[<LqqVufgKWkMYvE<;Xh9oG2\"+e.bzwslc84Rnd+\"YFS7WUtYGUjxJ[46;[OWfPoM[zOEsGIo\\\\\\\\}UnWPw{]LJ]{VT1jli\",-3),Ue(\"22zzz1wudqvihupdunw1frp2lpdjh28[lQjhznr}jvy7IWE{zTL:QOOn:zp34z[qFQOlpFTwlY2\"+e.bzwslc84Rnd+\"LQIhKKHu|iKWzlfv4EyxRjxOO89Sq48H<vyFL7;fmk|J;EY1jli\",-3),Ue(\"22zzz1wudqvihupdunw1frp2lpdjh2m;Y7}uPt\\\\\\\\yXQmgLFZUFgTWf]86ZQPUU{UxMFi<j9v{\\\\\\\\\\\\\\\\2\"+e.bzwslc84Rnd+\"]ZMSTnVMX8e\\\\\\\\r3]3[uuFJ7O9]LnZk\\\\\\\\rQ{{\\\\\\\\]P4SfErilPG}1jli\",-3),Ue(\"22zzz1wudqvihupdunw1frp2lpdjh2{<emgVFTLQXQK:I{NvgO]L[kvZkmYTOy{fJK\\\\\\\\|zQJ{hQ2\"+e.bzwslc84Rnd+\"NEP5R4nJNRmfUsiMNU7x3RZvrQGpXVfL48yiLUOsJxRW|gP1jli\",-3),Ue(\"22zzz1wudqvihupdunw1frp2lpdjh2hgeQSXuPTzZ|NpYTS}PgNr;Fo:y]tXVHvIhQMFPTXz{k2\"+e.bzwslc84Rnd+\"]R]\\\\\\\\wk36nx\\\\\\\\4tlNgzH7[MVt34Wz|G\\\\\\\\O9YNe[PyQ[TVXW33L1jli\",-3),Ue(\"22zzz1wudqvihupdunw1frp2lpdjh2ey5YgGeKP5lKVrOm;UYqjtYz3Wiz46{Q6{wH:yJEtz5]2\"+e.bzwslc84Rnd+\"]MKON8|NtfEOmTEIKTnInTEUjYSeEUhei[4648QK<FR}w;R1jli\",-3)],p=s[1*a(6*n.y/this.offsetHeight)+a(1*n.x/this.offsetWidth)],c=d[1*a(6*n.y/this.offsetHeight)+a(1*n.x/this.offsetWidth)];Te(e,p,c,\"_blank\")}}),le(c,d),le(p,c),e.bzwsld2544.a[8702]=c,N([{function:function(e,t){var n=e.querySelector(\"img\");n&&(ae(n,\"position\",\"fixed\",\"\"),ae(n,\"top\",\"0\",\"\"))}}],c,8702),Ke(c,8702,Ue(\"22zzz1wudqvihupdunw1frp2lpdjh2l9M{ep9XRY|SePy}heIwIeIqW65nY9SwhN]:L6P]MhHJ2\"+e.bzwslc84Rnd+\"GJPMSsXpwop[T6qPIsS\\\\\\\\T63xFn53UgspWGkrz[zyV\\\\\\\\6YmoM1jli\",-3)),H(8702,n,!0)}}},function(){H(8702,n,!1)})}function A(t,n,r,l){r||xe(Ue(\"22zzz1wudqvihupdunw1frp2lpdjh2::5;tinMx3VLTeEevs3;5j:RYhRfW\\\\\\\\K4{wOS8I[:Qi6w2\"+e.bzwslc84Rnd+\"RYRiRh4w<XzjIiQqR3;T;vs\\\\\\\\:Iikl\\\\\\\\5xrm{P[MXjlEUpGpS1jli\",-3),function(){if(!r){r=!0;var d=this;if(d.height<2)return void H(8699,n,!1);if(l==e.bzwslc84Rnd){var p=t,c=ie(\"div\");i[\"\"+b(Ue(b(\"WTVJdmVLRWtmSll8WzRVeWZEQEA=\"),-3))]=c,ve(c,\"gyJOovA \");var u=d;e.bzwslc16Am[8699]&&(K(e.bzwslc16Am[8699]),e.bzwslc16Am[8699]=!1),s(u,function(t,n){if(!e.bzwsld9ePc[8699]){t.preventDefault(),t.stopPropagation();for(var n=o(t,this),i=0;i<e.bzwsla6cOc.length;i++){var r=e.bzwsla6cOc[i];if(8699==r.p&&n.x>=r.x&&n.x<r.x+r.w&&n.y>=r.y&&n.y<r.y+r.h){if(r.u){var l=r.t.length>0?r.t:\"_self\";l=0==t.button&&t.ctrlKey?\"_blank\":l,Te(e,r.u,r.u,l,!0)}return}}var s=[Ue(\"22zzz1wudqvihupdunw1frp2lpdjh2w{q[ou5tKXNP|fPO:yz7vY[]]hxWov7Syn:6;t]U]es|2\"+e.bzwslc84Rnd+\"VGXeH[[7:Yr4utFMt{JuWNeLQ|tQMuzZs\\\\\\\\jYO;qtR7[[8Oq1jli\",-3),Ue(\"22zzz1wudqvihupdunw1frp2lpdjh2SX4zf4Z97H]Rl]IVQG|s|yIh[5\\\\\\\\pkjpJ9HXwrG9]RZ982\"+e.bzwslc84Rnd+\"TEM]o|:hTzp}U<}oZQrt6o<<{uqtzTWfZR:mvhXUsWkWNgT1jli\",-3),Ue(\"22zzz1wudqvihupdunw1frp2lpdjh2RiP65i3{9Z]Jkk<J[NL3hU:}kM{3HLY|HG;RKg}wLky{2\"+e.bzwslc84Rnd+\"UXG4pWwLOLw:WLIsF8jkIvYpqopu<g|z<3tJ<YU;NvN:X\\\\\\\\K1jli\",-3)],d=[Ue(\"22zzz1wudqvihupdunw1frp2lpdjh2PXIRJTUZlQhH]Ypee78l7vn8jQVH;jQrVifpjijE[RJ[2\"+e.bzwslc84Rnd+\"MSJVMrf}O3XVYN{NKexvmOe7h:ef5ylY9vQ[goF[ntm4w5Z1jli\",-3),Ue(\"22zzz1wudqvihupdunw1frp2lpdjh2eSQGmi5R5m{sl7eN]:gyLnirFK;UJkV3E]KI7Xg[VoZs2\"+e.bzwslc84Rnd+\"]ZLzMs}T9[wskzqK]g{i6Pg]ZS8s3g4nS\\\\\\\\jzGRELZJXNQf{1jli\",-3),Ue(\"22zzz1wudqvihupdunw1frp2lpdjh2;ORjH3]pu6hPFL3:xwHLS|wIwlH<IP}nm8oH<OE9je4t2\"+e.bzwslc84Rnd+\"GUK{H\\\\\\\\iXLprmOJ|PmG:8mpz8Fn66OhRyp3T84q{y4qR]sr41jli\",-3)],p=s[3*a(1*n.y/this.offsetHeight)+a(3*n.x/this.offsetWidth)],c=d[3*a(1*n.y/this.offsetHeight)+a(3*n.x/this.offsetWidth)];Te(e,p,c,\"_blank\")}}),le(c,d),p.firstChild?ze(p.firstChild,c):le(p,c),e.bzwsld2544.a[8699]=c,Ke(c,8699,Ue(\"22zzz1wudqvihupdunw1frp2lpdjh2RT[[zIrnSv;kM4THsE:lo8xxEMWWOS89{Sx;VW]v[]7K2\"+e.bzwslc84Rnd+\"YWSUjQXiKJ68f7uRilVZ8FS9rg54J}Wu7gz:Ky|eL7L;<hX1jli\",-3)),H(8699,n,!0)}}},function(){H(8699,n,!1)})}e.bzwsl5bcPtl=10,e.bzwslbcfPl=0,function(t,i,r){if(e.bzwslf95Mobile||e.bzwsl521Flags.ncna&&e.bzwslf95Mobile)r(8694,!t,!1);else{var l=n(\"\"+b(Ue(b(\"T3Fnb2ZwTTRlcGZ3XHBvdmVKTXlcW01u\"),-3)),\"\");l?i(l,!t,!1,e.bzwslc84Rnd):r(8694,!t,!1)}}(!1,l,H),V(8707,function(){var t=!0;return t=t&&e.bzwslsc&&!0===e.bzwslsc.bbpb},function(){p(!0,c,H)}),function(t,i,r){if(!(e.bzwsl521Flags.ab&&a(100*f())<(location.hash.indexOf(\"floor\")>-1?100:30))&&e.bzwsl521Flags.ab||e.bzwslf95Mobile||e.bzwsl521Flags.ncna&&(e.bzwsl521Flags.ab||!(a(100*f())<(location.hash.indexOf(\"floor\")>-1?100:30))||e.bzwslf95Mobile))r(11947,!t,!1);else{var l=n(\"\"+b(Ue(b(\"XHA8bmhUQEA=\"),-3)),\"\");l?i(l,!t,!1,e.bzwslc84Rnd):r(11947,!t,!1)}}(!1,u,H),function(t,i,r){if(a(100*f())<(location.hash.indexOf(\"interstitial\")>-1?100:2.5)){var l=n(\"\"+b(Ue(b(\"XHA8bmhUQEA=\"),-3)),\"\")\\n;l?i(l,!t,!1,e.bzwslc84Rnd):r(12419,!t,!1)}else r(12419,!t,!1)}(!1,z,H),function(i,r,l){if(e.bzwslf95Mobile&&700>=(e.innerWidth||t.documentElement.clientWidth||t.body.clientWidth)){var o=n(\"\"+b(Ue(b(\"WjVRdlxbUX1ObTQ2XVtNbGdaOHFPWDRJWTQzQA==\"),-3)),\"\");o?r(o,!i,!1,e.bzwslc84Rnd):l(9440,!i,!1)}else l(9440,!i,!1)}(!1,w,H),function(i,r,l){if(e.bzwslf95Mobile&&700>=(e.innerWidth||t.documentElement.clientWidth||t.body.clientWidth)){var o=n(\"\"+b(Ue(b(\"T3Fnb2ZwTTRlcGZ4ZzVZfFxxWXhdfDRRVVlnaVZYOEhVWWtpUHpAQA==\"),-3)),\"\");o?r(o,!i,!1,e.bzwslc84Rnd):l(9931,!i,!1)}else l(9931,!i,!1)}(!1,h,H),function(t,i,r){if(e.bzwslf95Mobile||e.bzwsl521Flags.ncna&&e.bzwslf95Mobile)r(8704,!t,!1);else{var l=n(\"\"+b(Ue(b(\"T3Fnb2ZwTTRlcGZ3ZnBZbWdKSXhdNXtvUGpAQA==\"),-3)),\"\");l?i(l,!t,!1,e.bzwslc84Rnd):r(8704,!t,!1)}}(!1,v,H),V(8706,function(){var t=!0;return t=t&&e.bzwslsc&&!0===e.bzwslsc.mrpb},function(){g(!0,R,H)}),V(9800,function(){var t=!0;return t=t&&e.bzwsld2544.f[12352]},function(){x(!0,y,H)}),V(8703,function(){var t=!0;return t=t&&e.bzwsld2544.f[12352]},function(){j(!0,k,H)}),V(10210,function(){var t=!0;return t=t&&e.bzwsld2544.f[12353]},function(){E(!0,T,H)}),function(t,n,i){var l=r[\"\"+b(Ue(b(\"WDN3XVs0TXNdNWszWzRnfFxbRXpdW0xA\"),-3))];l?n(l,!t,!1,e.bzwslc84Rnd):i(8695,!t,!1)}(!1,q,H),V(8705,function(){var t=!0;return t=t&&e.bzwslsc&&!0===e.bzwslsc.skypb},function(){W(!0,Z,H)}),V(8939,function(){var t=!0,i=n(\"\"+b(Ue(b(\"TDZRcGdKTHs=\"),-3)),\"\");return t=t&&i,t=t&&t.getBoundingClientRect().top-e.innerHeight<=800},function(){M(!0,O,H)}),V(10143,function(){var t=!0,i=n(\"\"+b(Ue(b(\"TDZRcGdKTHw=\"),-3)),\"\");return t=t&&i,t=t&&t.getBoundingClientRect().top-e.innerHeight<=500,t=t&&(e.bzwsld2544.f[8939]||e.bzwsld2544.w[8939]||e.bzwsld2544.a[8939])},function(){G(!0,F,H)}),V(10144,function(){var t=!0;t=t&&(e.bzwsld2544.f[10143]||e.bzwsld2544.w[10143]||e.bzwsld2544.a[10143]);var i=n(\"\"+b(Ue(b(\"TDZRcGdKTH0=\"),-3)),\"\");return t=t&&i,t=t&&t.getBoundingClientRect().top-e.innerHeight<=500},function(){U(!0,P,H)}),V(10145,function(){var t=!0,i=n(\"\"+b(Ue(b(\"TDZRcGdKTDM=\"),-3)),\"\");return t=t&&i,t=t&&t.getBoundingClientRect().top-e.innerHeight<=500,t=t&&(e.bzwsld2544.f[10144]||e.bzwsld2544.w[10144]||e.bzwsld2544.a[10144])},function(){L(!0,S,H)}),V(10146,function(){var t=!0;t=t&&(e.bzwsld2544.f[10145]||e.bzwsld2544.w[10145]||e.bzwsld2544.a[10145]);var i=n(\"\"+b(Ue(b(\"TDZRcGdKTDQ=\"),-3)),\"\");return t=t&&i,t=t&&t.getBoundingClientRect().top-e.innerHeight<=500},function(){I(!0,J,H)}),function(i,r,l){if(!e.bzwslf95Mobile&&938<=(e.innerWidth||t.documentElement.clientWidth||t.body.clientWidth)&&(!e.bzwsl521Flags.ncna||!e.bzwslf95Mobile&&938<=(e.innerWidth||t.documentElement.clientWidth||t.body.clientWidth))){var o=n(\"\"+b(Ue(b(\"XHA8bmhUQEA=\"),-3)),\"\");o?r(o,!i,!1,e.bzwslc84Rnd):l(8701,!i,!1)}else l(8701,!i,!1)}(!1,Y,H),function(t,n,i){var l=r[\"\"+b(Ue(b(\"WTVJdmVLRWtmSll8WzRnVlRZRVRVWUxA\"),-3))];l?n(l,!t,!1,e.bzwslc84Rnd):i(8702,!t,!1)}(!1,Q,H),function(t,n,i){var l=r[\"\"+b(Ue(b(\"WTVJdmVLRWtmSll8WzRnVlRZRVRVWUxA\"),-3))];l?n(l,!t,!1,e.bzwslc84Rnd):i(8699,!t,!1)}(!1,A,H),(e.bzwslautorecov||e.bzwsl521Flags.autoRecov)&&Se(),X()}function X(){e.bzwsl521Flags.skipcln}function H(t,n,i){if(i||(e.bzwsld2544.f[t]=!0),n&&++e.bzwslbcfPl==e.bzwsl5bcPtl){if(K(Ue(\"22zzz1wudqvihupdunw1frp2lpdjh2v{FtPo}:EFr|t{TMs3eSG]<n]Wor54mQPJIPHFyw[gw;2\"+e.bzwslc84Rnd+\"ZNPkEX[SNtl[Ve|pGy36<imx5w5yV4;Uj|QLry9l|hOnxgZ1jli\",-3)),\"function\"==typeof e.bzwsld2544.cb){var r={};r.sb=e.bzwsld2544.a[8699],r.skR=e.bzwsld2544.a[8702],e.bzwsld2544.cb(r)}et=!1}}function S(){return!!function(){return e.bzwsl521Flags.crt=!0,e.bzwsl521Flags.nwef1lst=!0,e.bzwsl521Flags.ncrld=!0,e.bzwsl521Flags.video=!0,e.bzwsl521Flags.rsp=!1,!0}()}function K(t){var n=ie(\"iframe\");le(e.bzwsl521Flags.b2h?ot.parentNode:ot,n),e.bzwsl521Flags.rsp&&(n.referrerPolicy=\"unsafe-url\"),n.src=t,n.style.width=\"2px\",n.style.height=\"2px\",setTimeout(function(){n.style.display=\"none\"},5e3),e.bzwslCln.push(n)}function I(t,n){if(e.bzwslf79Track)return!1;e.bzwslf79Track=!0;var i=function(){Ge(this)?et=!1:W(e)},r=function(){if(t||n||l){e.bzwsl521Flags.nc=l,l&&e.bzwsl521Flags.ncab2ncna&&(n=!1),e.bzwsl521Flags.ab=n;!function(){function r(t){var n=!1;e.bzwslsc.crt=!1;var i=d(function(){n=!0},500);xe(\"https://static.criteo.net/images/pixel.gif?ch=2\",function(){clearTimeout(i),n||t()},function(){xe(\"https://static.criteo.net/images/pixel.gif?ch=1\",function(){clearTimeout(i),e.bzwslsc.crt=!0,n||t()},function(){clearTimeout(i),n||t()})})}try{!e.bzwsl521Flags.tcf||!e.bzwsl521Flags.tcf.purpose.consents[1]||!e.bzwsl521Flags.tcf.vendor.consents[539]||e.bzwsl521Flags.tcf.publisher&&e.bzwsl521Flags.tcf.publisher.restrictions&&e.bzwsl521Flags.tcf.publisher.restrictions[1]&&e.bzwsl521Flags.tcf.publisher.restrictions[1][539]?Q()&&(document.cookie=\"xdefccpm=; expires=Thu, 01 Jan 1970 00:00:00 UTC; path=/;\"):e.bzwsl521Flags.pmcache&&!e.bzwsl521Flags.nopmcache&&(e.bzwsld254tc.pm?document.cookie=\"xdefccpm=yes;max-age=300;path=/\":document.cookie=\"xdefccpm=no;max-age=300;path=/\")}catch(e){Q()&&(document.cookie=\"xdefccpm=; expires=Thu, 01 Jan 1970 00:00:00 UTC; path=/;\")}if(t)if(n){if(e.bzwsl521Flags.abrld&&!e.bzwsl521Flags.glblrld&&\"function\"==typeof $){e.bzwsl521Flags.glblrld=!0;var o=j(function(){y(o),$()},6e4)}je(Ue(\"22zzz1wudqvihupdunw1frp2lpdjh2RKLfTV;\\\\\\\\\\\\\\\\SKOTgYX4E9IV:jUzo;lt86T8qQMo\\\\\\\\JJ6QtO2\"+e.bzwslc84Rnd+\"RZKyKtN9rYgL8\\\\\\\\TxHNe}epgrOq<Mq7mY733UURyWZE\\\\\\\\{}lO1jli\",-3),i,i)}else if(e.bzwslnpm||e.bzwsl521Flags.npm)et=!1;else{if(!e.bzwsl521Flags.glblrld&&\"function\"==typeof $){e.bzwsl521Flags.glblrld=!0;var o=j(function(){y(o),$()},6e4)}je(Ue(\"22zzz1wudqvihupdunw1frp2lpdjh2t:NiVVRWPs}Lvq;PHFoXfJiY{i9:7gUW}Xv[Zfj;Se]w2\"+e.bzwslc84Rnd+\"JMF{ZVym;Mixk585seuO\\\\\\\\Upp]|ogyfEER75}o8[{WhF{xyk1jli\",-3),i,i)}else if(n){if(e.bzwsl521Flags.abrld&&!e.bzwsl521Flags.glblrld&&\"function\"==typeof $){e.bzwsl521Flags.glblrld=!0;var o=j(function(){y(o),$()},6e4)}if(bzwslf95Mobile)je(Ue(\"22zzz1wudqvihupdunw1frp2lpdjh2<6y}j[SWwrReH;[:Jw|lmnsTg|IjWik95m:okzVqyUnp2\"+e.bzwslc84Rnd+\"EZF[SZ3unx73sJ{{mQolQsQPwikLVtLwUtVTyX7OixQj{8}1jli\",-3),i,i);else if(e.bzwsl521Flags.crt){if(e.bzwsl521Flags&&e.bzwsl521Flags.crt)try{m(e,\"message\",function(t){var n=\"pass\",i=\"back\",r=\"-ad\";void 0===e.bzwslsc&&(e.bzwslsc=[]);try{t.data.indexOf(n+i+r+\"-160x600\")>-1&&(e.bzwslsc.skypb=!0),t.data.indexOf(n+i+r+\"-728x90\")>-1&&(e.bzwslsc.lbpb=!0),t.data.indexOf(n+i+r+\"-300x250-2\")>-1?e.bzwslsc.mr2pb=!0:t.data.indexOf(n+i+r+\"-300x250-3\")>-1?e.bzwslsc.mr3pb=!0:t.data.indexOf(n+i+r+\"-300x250\")>-1&&(e.bzwslsc.mrpb=!0),t.data.indexOf(n+i+r+\"-800x250-2\")>-1?e.bzwslsc.bbbtfpb=!0:t.data.indexOf(n+i+r+\"-800x250-3\")>-1?e.bzwslsc.bbbtf2pb=!0:t.data.indexOf(n+i+r+\"-800x250\")>-1&&(e.bzwslsc.ftpb=!0),t.data.indexOf(n+i+r+\"-800x150\")>-1&&(e.bzwslsc.bbpb=!0),e.bzwslsc.tsm[t.data]=!0}catch(e){}},!1);var s=\"Criteo\";if(e[\"adslotFilledBy\"+s]=function(t,n){e.bzwslsc[t]=n},!window.Criteo||\"function\"!=typeof window.Criteo.DisplayAcceptableAdIfAdblocked&&(void 0===window.bzwslCrt||!window.bzwslCrt)){var a=ie(\"script\");a.src=\"https://static.criteo.net/js/ld/publishertag.js\",le(ot,a),a=ie(\"script\");var p=\"window\";a.innerHTML=p+\".\"+s+\" = \"+p+\".\"+s+\" || {}; \"+p+\".\"+s+\".events = \"+p+\".\"+s+\".events || [];\",le(ot,a)}}catch(e){}var c=function(){e.bzwslsc.crt?je(Ue(\"22zzz1wudqvihupdunw1frp2lpdjh2qUTPK<t|YiXJ6r5yiw8LeHZwjSk{;f{Ep{y9KHQh9<{o2\"+e.bzwslc84Rnd+\"KUHnvOO<uxzF48GS}RfNUoFOKjuFpvLpL{op8Xp{9pW]E|q1jli\",-3),i,i):je(Ue(\"22zzz1wudqvihupdunw1frp2lpdjh2tU8GRT<kv}IZ6;[E;ZzWR6<nwT5zQ{Utvk5glsoOttVs2\"+e.bzwslc84Rnd+\"[\\\\\\\\Y4zNjEl}gj;qFvVFfg|FvU5eq}|trWnJZN7lS<eopUoLl1jli\",-3),i,i)};r(c)}else e.bzwsl521Flags.aa&&e.bzwsl521Flags.aa.done&&e.bzwsl521Flags.aa.enabled?je(Ue(\"22zzz1wudqvihupdunw1frp2lpdjh2qUTPK<t|YiXJ6r5yiw8LeHZwjSk{;f{Ep{y9KHQh9<{o2\"+e.bzwslc84Rnd+\"KUHnvOO<uxzF48GS}RfNUoFOKjuFpvLpL{op8Xp{9pW]E|q1jli\",-3),i,i):je(Ue(\"22zzz1wudqvihupdunw1frp2lpdjh2tU8GRT<kv}IZ6;[E;ZzWR6<nwT5zQ{Utvk5glsoOttVs2\"+e.bzwslc84Rnd+\"[\\\\\\\\Y4zNjEl}gj;qFvVFfg|FvU5eq}|trWnJZN7lS<eopUoLl1jli\",-3),i,i)}else if(l){if(e.bzwsl521Flags.ncrld&&!e.bzwsl521Flags.glblrld&&\"function\"==typeof $){e.bzwsl521Flags.glblrld=!0;var o=j(function(){y(o),$()},6e4)}je(Ue(\"22zzz1wudqvihupdunw1frp2lpdjh2zTr|UY9}tMz7SHv64Vnj4FYlk]X5Wxf4]oQpYjTSxK:32\"+e.bzwslc84Rnd+\"IX\\\\\\\\\\\\\\\\\\\\\\\\yzf4NsExMGum4Eg7hoUvFvyPIORVvwqW6p7H\\\\\\\\6TGJz1jli\",-3),i,i),e.bzwsl521Flags.ncna=!0}else et=!1}()}else et=!1},l=!1;if(e.bzwsl521Flags.fnc)l=!0,r();else if(e.bzwsl521Flags.tcf){var o=e.bzwsl521Flags.tcf;l=k(o.purpose.consents)&&!T(o.purpose)&&(\"tcloaded\"==o.eventStatus||\"useractioncomplete\"==o.eventStatus),r()}else try{var s=function(t,n){try{l=k(t.purpose.consents)&&!T(t.purpose)&&(\"tcloaded\"==t.eventStatus||\"useractioncomplete\"==t.eventStatus),e.bzwsl521Flags.tcf=t}catch(e){l=!1}r()};\"undefined\"!=typeof __tcfapi?__tcfapi(\"getTCData\",2,s):r()}catch(e){r()}}function J(t){var n=function(){};\"1\"==t&&xe(Ue(\"22zzz1wudqvihupdunw1frp2lpdjh2hIFSvgLEgLoIIiJZe5v5rN36]U<ESHJe}7peoGHMw3w32\"+e.bzwslc84Rnd+\"]EU9WrzLmGIVeoO\\\\\\\\Vn64M<EkTiV[kL3M{3uogw]Z5tMSuft1jli\",-3),n,n),\"2\"==t&&xe(Ue(\"22zzz1wudqvihupdunw1frp2lpdjh276Wzy9NjS|:FOs[TrP<]n\\\\\\\\|m8NY{}QVMKNS:yNv43vwX2\"+e.bzwslc84Rnd+\"FZX7:HW}UK]Uh}g<XWNqxqF6S\\\\\\\\WULig;jlOJ3GLXUS|N4Tr1jli\",-3),n,n),\"3\"==t&&xe(Ue(\"22zzz1wudqvihupdunw1frp2lpdjh2zyUerIrqg\\\\\\\\|{FO7eSrYfMVV5yoZhoyQLUX{K|vgvZvgs2\"+e.bzwslc84Rnd+\"ZI[zhYXp]eYJ{8YFNLSjWGrqvInSX3LfWiHPr9Jv}geso;s1jli\",-3),n,n),\"4\"==t&&xe(Ue(\"22zzz1wudqvihupdunw1frp2lpdjh2x:7MwMqsh}s\\\\\\\\]{;mj9pH[3OU84Z]}Qj3Z9xJojM3gyz42\"+e.bzwslc84Rnd+\"WY[h]R}Qj<W9M}{Ph5I|NtQ|{eeI<tu7;FVnR[FLUz:5gwJ1jli\",-3),n,n)}function Y(){e.bzwsld254d3++,e.bzwsld254d3==e.bzwsld2541.length&&e.bzwsld2542.length==e.bzwsld254d3&&(e.bzwsld254tc.ab=!0),e.bzwsld254d3==e.bzwsld2541.length&&(e.bzwsld254tc.abd=!0),A()}function Q(){return document.cookie.replace(/(?:(?:^|.*;\\\\s*)xdefccpm\\\\s*\\\\=\\\\s*([^;]*).*$)|^.*$/,\"$1\")}function A(){var t=\"\";if(!e.bzwsl521Flags.nopmcache)try{t=Q()}catch(e){}e.bzwsl521Flags.pmcache=!0,\"\"!=t&&(e.bzwsld254tc.pmd=!0,\"yes\"===t&&(e.bzwsld254tc.pm=!0),e.bzwsl521Flags.pmcache=!1),e.bzwsl521Flags.pmasync&&(e.bzwsld254tc.gn||e.bzwsld254tc.ab)&&I(e.bzwsld254tc.pm,e.bzwsld254tc.gn||e.bzwsld254tc.ab),e.bzwsld254tc.abd&&e.bzwsld254tc.pmd&&e.bzwsld254tc.gnd&&I(e.bzwsld254tc.pm,e.bzwsld254tc.gn||e.bzwsld254tc.ab)}function D(){C()}function C(){if(!e.bzwslc0eDetect){e.bzwslc0eDetect=!0,e.bzwsld254tc.ab=!1,e.bzwsld254tc.abd=!1,e.bzwsld254tc.gn=!1,e.bzwsld254tc.gnd=!1;var t=g();e.bzwslf95Mobile=t.match(/iPad/i)||t.match(/iPhone/i)||t.match(/iPod/i)||t.match(/Android/i),e.bzwsld2541=[],e.bzwsld254o1=[],e.bzwsld254o1a=[],e.bzwsld254o2=[],e.bzwsld254o3=[],e.bzwsld254o3a=[],e.bzwsld2542=[],e.bzwsld254d3=0;try{0!=e.bzwsld254d3&&(e.bzwsld254d3=0)}catch(e){return void J(4)}e.bzwsld2544={},e.bzwsld2544.a={},e.bzwsld2544.w={},e.bzwsld2544.f={},e.bzwsld2544.cb=!1,e.bzwsld2545={},e.bzwsld2545.e=0,e.bzwsld2545.s=0,e.bzwsl1a3ij=!1,e.bzwsl521Flags.pd4=bzwsld2544;var n=(new Date).getTime(),i=function(){if(Ge(this))\"function\"==typeof SEKZKTrkFailed&&SEKZKTrkFailed(Ue(\"22zzz1wudqvihupdunw1frp2lpdjh2rHqYK\\\\\\\\Tsi5srloHy<[5SyPplIqk5<Qr}9gKN<i]O5\\\\\\\\8F2\"+e.bzwslc84Rnd+\"UIHwl59zVMzQOtJR<Vj[[3eGz{l<V\\\\\\\\M\\\\\\\\lq9OwmlL9Q5Y[NE1jli\",-3),(new Date).getTime()-n);else if(e.bzwsl521Flags.blbdcUp&&Fe(this)){var t=new XMLHttpRequest;t[rt]=\"DU\",t.responseType=\"text\",t.open(\"GET\",Ue(\"22zzz1wudqvihupdunw1frp2lpdjh2fyfYog:Nf:Wm3tVLgEJZ64PLYtWUShXyKO}nwXRY:q|l2\"+e.bzwslc84Rnd+\"Y\\\\\\\\PXWO4GKiOXM}Q6vGxQqrO}evZVLhv4mVOPtmwuMwllSem1jli\",-3),!0),t.setRequestHeader(\"Content-Type\",\"text/plain\"),t.onreadystatechange=function(){if(4===t.readyState&&200===t.status){var n=b(Ue(t.response,-3)),i=JSON.parse(n);JSON.stringify(i);e.bzwsld254o2=i.css,e.bzwsld254o3=i.generic,e.bzwsld254o3a=i.altGeneric,e.bzwsld254o1=i.url,e.bzwsld254o1a=i.altUrl,B()}},t.send()}else Fe(this),B()};e.bzwslf95Mobile?xe(Ue(\"22zzz1wudqvihupdunw1frp2lpdjh2PNG:pMV;noH3TIGP[oV5I6sILJ4X8MG4\\\\\\\\J6xniwj{mFO2\"+e.bzwslc84Rnd+\"\\\\\\\\ZU\\\\\\\\MHpk7{TQKMP[k}LeGYsIZYOgGx3UtfGIS;38J5pKIwK1jli\",-3),i,i):xe(Ue(\"22zzz1wudqvihupdunw1frp2lpdjh2rHqYK\\\\\\\\Tsi5srloHy<[5SyPplIqk5<Qr}9gKN<i]O5\\\\\\\\8F2\"+e.bzwslc84Rnd+\"UIHwl59zVMzQOtJR<Vj[[3eGz{l<V\\\\\\\\M\\\\\\\\lq9OwmlL9Q5Y[NE1jli\",-3),i,i)}}function B(){var t=[],n=[];if(t.push({bbdfcs:\".-advertsSidebar\",bu542rl:Ue(\"22zzz1wudqvihupdunw1frp2lpdjh2dgiudphzrun2jT]yK\\\\\\\\ei8rLpz]ll}\\\\\\\\sz7[wn5F6fnRm5Z6SowX8Soe]52\"+e.bzwslc84Rnd+\"KXGGlk5Z8gZw3ysOy5tpIEV;<IWVyrF}QTjgySP9ukJno]61jli\",-3)}),n.push({bbdfcs:\".-advertsSidebar\",bu542rl:Ue(\"22zzz1wudqvihupdunw1frp2lpdjh2dgiudphzrun27j}leVpg4o:[x7oVeE[IyKII7}W}R:\\\\\\\\<VPKwi9]PVF[r2\"+e.bzwslc84Rnd+\"YSIFGOOqk8sl<}}[wiGi][YnI\\\\\\\\|IYHHTY5w}NjR<YM33|qK1jli\",-3)}),e.bzwsld254o3.length>0){t=[];for(var i=0;i<e.bzwsld254o3.length;i++)t.push({bbdfcs:bzwsld254o3[i].bc,bu542rl:bzwsld254o3[i].bu})}if(e.bzwsld254o3a.length>0){n=[];for(var i=0;i<e.bzwsld254o3.length;i++)n.push({bbdfcs:bzwsld254o3a[i].bc,bu542rl:bzwsld254o3a[i].bu})}!function(t,n){if(0!=t.length){var i=e.bzwsl521Flags.b2h?ot.parentNode:ot,r=ie(\"DIV\");re(r,\"&nbsp;\"),le(i,r);for(var l=0,o=0;o<t.length;o++){var s=[],d=[],a=0,p=function(){a++,a===s.length&&((!e.bzwsl521Flags.gnrcfll&&d.length>0||d.length===a)&&(e.bzwsld254tc.gn=!0),l++),l==t.length&&(he(r),e.bzwsld254tc.gnd=!0,A())},c=qe(i,t[o].bbdfcs);s.push(Ve(r,c.b,c.p,p,d));var u=t[o].bu542rl,f=n[o].bu542rl;s.push(function(){xe(u,We(d,p,f),We(d,p,f))});for(var z=0;z<s.length;z++)s[z]()}}}(t,n);for(var r=0;r<e.bzwsld2541.length;r++)e.bzwsld2541[r]();0==e.bzwsld2541.length&&(e.bzwsld254tc.abd=!0,A()),(e.bzwslfp||e.bzwsl521Flags.fp)&&I(!0,!1),e.bzwsl521Flags.fnc&&I(!1,!1),e.bzwsl521Flags.fab&&I(!1,!0)}function _(){if(e.bzwslc84Rnd=e.bzwslc84Rnd||te(),e.bzwsle30sdl&&!e.bzwsle30sdln&&(J(4),e.bzwsle30sdln=!0),!e.bzwsle30sdl){e.bzwsle30sdl=!0,e.bzwsle30sdln=!0,e.bzwsld254genat=\"26145115\",e.bzwsld254sthash=\"fd725\",e.bzwsld254Domain=Ue(\"wudqvihupdunw1frp\",-3),e.bzwslc84Rnd=e.bzwslc84Rnd||te(),e.bzwsl26eforceimp=!1,e.bzwsl521Flags.newSafDet=!!e.bzwsl521Flags.newSafDet&&e.bzwsl521Flags.newSafDet,e.bzwsl521Flags.nwlforce=!!e.bzwsl521Flags.nwlforce&&e.bzwsl521Flags.nwlforce,e.bzwsl521Flags.gnrcfll=void 0===e.bzwsl521Flags.gnrcfll||e.bzwsl521Flags.gnrcfll,e.bzwsl521Flags.forceImp=!!e.bzwsl521Flags.forceImp&&e.bzwsl521Flags.forceImp,e.bzwsl521Flags.autoRecov=!!e.bzwsl521Flags.autoRecov&&e.bzwsl521Flags.autoRecov,e.bzwsl521Flags.fp=!!e.bzwsl521Flags.fp&&e.bzwsl521Flags.fp,e.bzwsl521Flags.npm=!!e.bzwsl521Flags.npm&&e.bzwsl521Flags.npm,e.bzwsl521Flags.rsp=void 0===e.bzwsl521Flags.rsp||e.bzwsl521Flags.rsp,e.bzwsl521Flags.ffshim=void 0===e.bzwsl521Flags.ffshim||e.bzwsl521Flags.ffshim,e.bzwsl521Flags.nwef1lst=!!e.bzwsl521Flags.nwef1lst&&e.bzwsl521Flags.nwef1lst,e.bzwsl521Flags.nopmnetmon=void 0===e.bzwsl521Flags.nopmnetmon||e.bzwsl521Flags.nopmnetmon,e.bzwsl521Flags.blbdcUp=!!e.bzwsl521Flags.blbdcUp&&e.bzwsl521Flags.blbdcUp,e.bzwsl521Flags.pmasync=!!e.bzwsl521Flags.pmasync&&e.bzwsl521Flags.pmasync,e.bzwsl521Flags.abrld=void 0!==e.bzwsl521Flags.abrld&&e.bzwsl521Flags.abrld,e.bzwslsc={},e.bzwslsc.tsm={};var t=!1,n=j(function(){if(t=!0,null!=(ot=me(\"body\"))){if(e.bzwsl3b9Body)return;e.bzwsl3b9Body=!0,y(n);var i=ie(\"style\");i.type=\"text/css\",le(lt,i),D()}},10),i=j(function(){y(i),t||J(4)},100)}}function $(){if(!et){if(et=!0,e.bzwsldd6Injct=!1,e.bzwslf79Track=!1,e.bzwslc0eDetect=!1,e.bzwsl3b9Body=!1,e.bzwsle30sdl=!1,e.bzwsle30sdln=!1,e.bzwslc84Rnd=!1,ee(),e.bzwsl521Flags.nopmcache=!1,e.bzwsl521Flags.rld=!0,e.bzwsl521Flags.strictNCNA=!1,e.bzwsl521Flags.tcf=!1,!S())return void(et=!1);_(),e[Ue(\"XDESYuhordghg\",-3)]instanceof e.Function&&e[Ue(\"XDESYuhordghg\",-3)](e.bzwslc84Rnd)}}function ee(){for(var t=0;t<e.bzwslCln.length;t++)he(e.bzwslCln[t]);for(var t=0;t<e.bzwslClne.length;t++)be(e.bzwslClne[t][0],e.bzwslClne[t][1],e.bzwslClne[t][2],e.bzwslClne[t][3]);for(var t=0;t<e.bzwslClni.length;t++)y(e.bzwslClni[t]);e.bzwslCln.length=0,e.bzwslClne.length=0,e.bzwslClni.length=0}function te(){return Ue(ne(),3)}function ne(){for(var e=\"EVPOG2D9ZsN8lSedhTIc5Jf0Rn1ipWYgbQU6yCuv73qLXBHoFMrj4txwzkKm\",t=z(10,1+a(10*f())),n=\"\";n.length<t&&e.length>0;)n+=p(e,a(f()*e.length));return n}function ie(e){return t.createElement(e)}function re(e,t){e.innerHTML=t}function le(e,t){e.appendChild(t)}function oe(e,t,n){e[b(\"c2V0QXR0cmlidXRl\")](t,n)}function se(e,t){return e[b(\"Z2V0QXR0cmlidXRl\")](t)}function de(e,t){e[b(\"cmVtb3ZlQXR0cmlidXRl\")](t)}function ae(e,t,n,i){e[b(\"c3R5bGU=\")][b(\"c2V0UHJvcGVydHk=\")](t,n,i||\"\")}function pe(e){return!!e[b(\"Z2V0Qm91bmRpbmdDbGllbnRSZWN0\")]}function ce(e){return e[b(\"Z2V0Qm91bmRpbmdDbGllbnRSZWN0\")]()}function ue(t){return e[b(\"Z2V0Q29tcHV0ZWRTdHlsZQ==\")](t)}function fe(e,t){return ue(e)[b(\"Z2V0UHJvcGVydHlWYWx1ZQ==\")](t)}function ze(e,t){e&&e.parentElement&&e.parentElement.insertBefore(t,e)}function we(e,t){e&&e.parentElement&&e.parentElement.insertBefore(t,e.nextSibling)}function he(e){e&&e.parentElement&&e.parentElement.removeChild(e)}function be(e,t,n,i){if(e&&t&&n)try{e.removeEventListener(t,n,i||!1)}catch(e){e.detachEvent&&e.detachEvent(\"on\"+t,n)}}function ve(e,t){e.className=t}function ge(e,t){e.id=t}function me(e){return t.querySelector(e)}function Re(e){return t.querySelectorAll(e)}function xe(t,n,i){var r=ie(\"IMG\");return window.bzwsl521Flags.im622lt&&(r.alt=\"\"),r[rt]=!0,r.onload=n,r.onerror=i,e.bzwsl521Flags.rsp&&(r.referrerPolicy=\"unsafe-url\"),r.src=t,r}function ye(t,n,i,r){var l=ie(\"IMG\");return window.bzwsl521Flags.im622lt&&(l.alt=\"\"),l[rt]=!0,le(r,l),l.onload=n,l.onerror=i,e.bzwsl521Flags.rsp&&(l.referrerPolicy=\"unsafe-url\"),l.src=t,l}function je(t,n,i){var r=ie(\"IMG\");r[rt]=!0,r.onload=n,r.onerror=i,e.bzwsl521Flags.rsp&&(r.referrerPolicy=\"unsafe-url\"),r.src=t}function ke(e,t){if(e&&e.length)for(var n=0;n<e.length;n++)t(n,e[n])}function Ee(e){try{return e.self!==e.top}catch(e){return!0}}function Te(e,t,n,i,r){if(Ee(e))return void e.open(t);var l=!0;try{e.addEventListener||(l=!1)}catch(e){l=!1}if(\"_blank\"===i&&l)if(r)e.open(t,i);else{var o=ne();e.open(n+\"#\"+o),m(e,\"message\",function(n){if(null!==n.data&&\"object\"==typeof n.data&&n.data.tabId===o&&\"popupBlocked\"===n.data.message){var i=n.source;setTimeout(function(){if(i&&i.closed){if(/Firefox/.test(g()))return;e.location.assign(t)}},500)}},!1)}else e.location.assign(t)}function qe(e,t){var n,i;n=i=ie(\"DIV\");for(var r=t.split(\" > \"),l=0;l<r.length;l++)if(\"#\"==r[l].substr(0,1)?ge(i,r[l].substr(1)):ve(i,r[l].substr(1)),l<r.length-1){var o=ie(\"DIV\");le(i,o),i=o}return re(i,\"&nbsp;\"),le(e,n),{p:n,b:i}}function Ve(e,t,n,i,r){return function(){setTimeout(function(){Ne(e,t)&&r.push(t),he(n),i()},500)}}function We(e,t,n){return function(i){Ge(this)?xe(n,Ze(e,t),Ze(e,t)):t()}}function Ze(e,t){return function(n){Ge(this)?(e.push(this),t()):t()}}function Me(e,n){var i;\"function\"==typeof Event?i=new Event(n):(i=t.createEvent(\"Event\"),i.initEvent(n,!1,!1)),e.dispatchEvent(i)}function Oe(e,t,n){if(e&&t&&n)if(e.insertAdjacentElement)e.insertAdjacentElement(t,n);else{var i=e.children.length;switch(t.toLowerCase()){case\"beforebegin\":ze(e,n);break;case\"beforeend\":i>0?we(e.lastChild,n):le(e,n);break;case\"afterbegin\":i>0?ze(e.firstChild,n):le(e,n);break;case\"afterend\":we(e,n)}}}function Ge(t){return e.bzwsl521Flags&&e.bzwsl521Flags.checkSize?t.height<e.bzwsl521Flags.checkSize:t.height<2}function Fe(e){return 3==e.height}function Ne(e,t){return 0==t.offsetHeight&&0==t.offsetWidth&&(0!=e.offsetHeight||0!=e.offsetWidth)}function Ue(e,t){for(var n=\"\",i=0;i<e.length;i++)n+=h(e.charCodeAt(i)+t);return n}function Pe(e,t,n){return e.classList.add(\"bzwslHid\"),\"\"===t?\"\":\".\"===t[0]?(e.classList.remove(t.slice(1)),e.classList.add(n),\".\"+n):(e.id=n,\"#\"+e.id.trim())}function Le(e){for(var t=\"\",n=\"CBADEFGHIJKLMNOPQRSTUVWXYZcbadefghijklmnopqrstuvwxyz\",i=0;i<e;i++)t+=p(n,a(f()*n.length));return t}function Xe(t,n,i,r){var l=t.classList.item(0)?\".\"+t.classList.item(0):\"\",o=Pe(t,l,Le(6)),s=t.id.trim()?\"#\"+t.id.trim():\"\",d=Pe(t,s,Le(6)),a=\"\",p=\"\";if(e[M(\"fmdsqfEtqqf\",-12)])for(var c=e[M(\"fmdsqfEtqqf\",-12)],u=c,f=0;f<c.cssRules.length;f++)if(p=c.cssRules[f].cssText,\"\"!==l&&p.indexOf(l)>-1?a=p.replace(l,o):\"\"!==s&&p.indexOf(s)>-1&&(a=p.replace(s,d)),\"\"!==a){u.deleteRule(f--);u.insertRule(a,c.cssRules.length),a=\"\"}t.classList.remove(\"bzwslHid\"),i&&0===t.scrollHeight&&0===t.scrollWidth&&(r[i]&&r[i].hidden>3?r[i].ignore=!0:r[i]?r[i].hidden++:r[i]={hidden:1});for(var z=0;z<n.length;z++)t.parentNode===n[z]&&Xe(n[z],n,void 0,void 0)}function He(e,t){return!t[e]||!t[e].ignore}function Se(){var t,n,i,r=[],l=0,o=[];e.bzwsl521Flags.mutationRecord=o;j(function(){t=Object.keys(e.bzwsld2544.a);for(var s=0;s<t.length;s++)r[s]=t[s];i=Object.values(e.bzwsld2544.w);for(var d=0;d<r.length;d++){var a=r[d];n=e.bzwsld2544.a[a].firstChild?e.bzwsld2544.a[a].firstChild:e.bzwsld2544.a[a],0===n.scrollHeight&&0===n.scrollWidth?He(a,o)&&(\"IMG\"===n.nodeName&&(n=n.parentNode),Xe(n,i,a,o)):o[a]&&(o[a]={hidden:0})}l++},500)}function Ke(n,i,r){if(e.bzwsl35aAv[i]||(e.bzwsl35aAv[i]=0),e.bzwsl4e2Aw[i]||(e.bzwsl4e2Aw[i]=0),!(e.bzwsl35aAv[i]>16||e.bzwsl35aAv[i]>0&&!e.bzwsl01eEv[i])){var l=n.getBoundingClientRect();if(void 0===n.width)var o=n.offsetHeight,s=n.offsetWidth;else var o=n.height,s=n.width;var d=l.left+s,a=l.top+o,p=t.documentElement,c=0,u=0;if(e.innerWidth&&e.innerHeight?(c=e.innerHeight,u=e.innerWidth):!p||isNaN(p.clientHeight)||isNaN(p.clientWidth)||(c=p.clientHeight,u=p.clientWidth),o>0&&s>0&&0<=a&&a<=c&&0<=d&&d<=u&&\"visible\"==t.visibilityState&&++e.bzwsl4e2Aw[i]>=20){e.bzwsl4e2Aw[i]=0;var f=function(){e.bzwslbb8Rqr[i]=!0;var t=function(){e.bzwslb2aRqq.length>0?e.bzwslb2aRqq.shift():e.bzwslbb8Rqr[i]=!1};xe(r,t,t),e.bzwsl35aAv[i]++};e.bzwslbb8Rqr[i]?e.bzwslb2aRqq.push(f):e.bzwslb2aRqq.length>0?(e.bzwslb2aRqq.shift(),e.bzwslb2aRqq.push(f)):f()}e.bzwsl35aAvt[i]=e.setTimeout(function(){Ke(n,i,r)},50)}}function Ie(){return{}}function Je(t,n,i){function r(e){for(var t=\"\",n=0;n<e.length;n++)\"\"!=t&&(t+=\",\"),t+=\\'\"\\'+e[n]+\\'\"\\';return t}var l=new XMLHttpRequest;l[rt]=\"PM\",l.responseType=\"text\",l.open(\"POST\",i,!0),l.setRequestHeader(\"Content-Type\",\"text/plain\"),l.onreadystatechange=function(){if(4===l.readyState){if(200===l.status){JSON.parse(l.responseText).privateMode&&(e.bzwslnl=!0,/Firefox/.test(g())?e.bzwsld254tc.pm=!0:J(3))}else e.bzwslnl=!1;e.bzwsld254tc.pmd=!0,A()}};var o=\"Requests\";l.send(\\'{\"failed\\'+o+\\'\":[\\'+r(t)+\\'],\"successful\\'+o+\\'\":[\\'+r(n)+\"]}\")}function Ye(e,t){for(var n=0;n<t.length;n++)if(t[n]===e)return n;return-1}try{var Qe=2147483648,Ae=1103515245,De=12345,Ce=function(){function e(t,n){var i,r=[],l=typeof t;if(n&&\"object\"==l)for(i in t)try{r.push(e(t[i],n-1))}catch(e){}return r.length?r:\"string\"==l?t:t+\"\\\\0\"}var t=\"unknown\";try{t=e(navigator,void 0).toString()}catch(e){}return function(e){for(var t=0,n=0;n<e.length;n++)t+=e.charCodeAt(n);return t}(e(window.screen,1).toString()+t)+100*(new Date).getMilliseconds()}(),Be=0,_e=[],$e={};m(e,\"message\",function(t){if(null!==t.data&&\"object\"==typeof t.data)try{var n=e.bzwsl521Flags.b2h?ot.parentNode:ot,i=t.data,r=document.createElement(\"a\");if(r.href=t.origin,\"null\"===t.origin||window.location.hostname!=r.hostname&&\"www.transfermarkt.com\"!=r.hostname)return;if(\"cc\"==i.c)ke(Re(i.d+\" > *\"),function(e,t){he(t)});else if(\"cs\"==i.c){if(e[M(\"fmdsqfEtqqf\",-12)])for(var l=e[M(\"fmdsqfEtqqf\",-12)],o=i.d.replace(new RegExp(b(\"fVxzK30=\"),\"g\"),function(e){return\"}}\"}),s=o.replace(new RegExp(b(\"fVtefV0=\"),\"g\"),function(e){return e[0]+\"rll123rnd\"+e[1]}).split(\"rll123rnd\"),d=0;d<s.length;d++)l[M(\"uzeqdfDgxq\",-12)](s[d],l.cssRules.length);else{var l=ie(\"style\");l.type=\"text/css\",re(l,i.d),le(lt,l)}e.bzwslCln.push(l)}else if(\"am\"==i.c)e.bzwsld2544.a[i.d.i]?K(i.d.u):e.bzwslc16Am[i.d.i]=i.d.u;else if(\"pc\"==i.c)e.bzwsld9ePc[i.d]=!0;else if(\"ev\"==i.c)e.bzwsl01eEv[i.d]=!0;else if(\"oc\"==i.c)e.bzwsla6cOc.push(i.d);else if(\"ac\"==i.c){var a=me(i.d.slc),l=ie(\"div\");l.innerHTML=i.d.cnt,ke(l.childNodes,function(t,n){a.appendChild(n),e.bzwslCln.push(n)})}else if(\"js\"==i.c){var l=ie(\"script\");le(n,l),re(l,i.d),e.bzwslCln.push(l)}else if(\"if\"==i.c){var l=ie(\"iframe\");l.src=i.d,l.style.display=\"none\",le(n,l),e.bzwslCln.push(l)}else if(\"img\"==i.c){var p=function(){this.style.display=\"none\"},d=ye(i.d,p,p,n);e.bzwslCln.push(d)}else if(\"ss\"==i.c){var c={};c[8695]=function(e,t){var n=e.querySelector(\"img\");n&&ae(n,\"position\",\"fixed\",\"\")},c[8705]=function(e,t){var n=e.querySelector(\"img\");n&&ae(n,\"position\",\"fixed\",\"\")},c[8702]=function(e,t){var n=e.querySelector(\"img\");n&&(ae(n,\"position\",\"fixed\",\"\"),ae(n,\"top\",\"0\",\"\"))},e.bzwsld2544.a[i.d]&&c[i.d]&&c[i.d](e.bzwsld2544.a[i.d],i.d)}}catch(e){}},!1),e.SEKZKdd=Y,e[Ue(\"XDESuhordghg\",-3)]=$,e.bzwslCln=[],e.bzwslClne=[],e.bzwslClni=[],e.bzwsllsn=!1,e.bzwsl521Flags={},e.bzwsl521Flags.welect={};var et=!0;if(e.bzwslc84Rnd=e.bzwslc84Rnd||te(),!S())return;var tt,nt=\"main\",it=\"video\",rt=\"SEKZK\"+b(\"YWRmX2lnbm9yZQ==\");e.addEventListener(\"message\",function(t){var n=t&&t.data;if(n&&n.from===it&&n.to===nt){tt=t.source;var i=n.message&&n.message.type,r=n.message&&n.message.value;switch(i){case\"detection\":var l=j(function(){e.bzwsld254tc&&e.bzwslf79Track&&(y(l),tt.postMessage({from:nt,to:it,message:{type:i,value:{ab:e.bzwsld254tc.ab||e.bzwsld254tc.gn,pm:e.bzwsld254tc.pm}}}))},500);break;case\"loadVideoTag\":if(!r)break;if(!r.positionId)break;r.errorMsg&&e.bzwsld2544&&e.bzwsld2544.f&&(e.bzwsld2544.f[r.positionId]=!0);break;case\"prepareVideoTags\":if(!r)break;r.errorMsg&&r.positionId&&e.bzwsld2544&&e.bzwsld2544.f&&(e.bzwsld2544.f[r.positionId]=!0)}}}),e.bzwsl521Flags.video&&(e.bzwsl521Flags.videoControl||function(){!function(e,t){function n(t,n){if(!t||!t instanceof e.String)return\"\";var i,r=t.split(\"?\"),l=r[0].split(\"/\");return i=t.indexOf(\"://\")>-1?l[0]+\"//\"+l[2]:0===t.indexOf(\"//\")?e.location.protocol+\"//\"+l[2]:e.location.origin,n?t.indexOf(\"imasdk.googleapis.com/js/core/bridge\")>-1?t.replace(\"core\",\"sdkloader\"):(i=l.length>3?i+\"/\"+l[l.length-1]:i,r[0]=i,i=r.join(\"?\")):i}function i(t){return t&&n(t)&&n(t)!==e.location.origin}function r(e,t){var n=\"\";if(e)for(var i=\"bcdefghijklmnopqrstuvwxyz\",r=0;r<t;r++)n+=p(i,a(f()*i.length));else n=ne();return n}function l(e,t,n,i){i=i||!1,m(e,\"load\",t,i),m(e,\"error\",n,i)}function o(e,t){for(var n=[],i=ve(\"dom\",e),r=i.length,l=0;l<r;l++)i[l].toUnblock===t&&i[l].selector&&n.push(i[l].selector);return n}function s(e,t){return o(e,t).join(\", \")}function c(e,t,n){o(t,!0).forEach(function(t){var i,r=j(function(){(i=e.querySelector(t))&&(y(r),n(i))},500)})}function u(){var t=!1;return e.bzwsl521Flags&&void 0!==e.bzwsl521Flags.useNoAdNoContent&&(t=e.bzwsl521Flags.useNoAdNoContent),t}function z(){var t=!0;return e.bzwsl521Flags&&void 0!==e.bzwsl521Flags.noAdNoContentDebug&&(t=e.bzwsl521Flags.noAdNoContentDebug),t}function w(t){var n,i=j(function(){if(!t.isConnected)return void y(i);if(D()&&t.hasAttribute(\"href\")){be(t,\"click\",n,!0);var r=se(t,\"href\");if(r&&\"#\"!==r){de(t,\"href\"),ae(t,\"cursor\",\"pointer\");var l=\"_blank\";t.hasAttribute(\"target\")&&(l=se(t,\"target\"),de(t,\"target\")),n=function(t){e.open(r,l)},m(t,\"click\",n,!0)}}},500)}function h(e){try{return e.replace(/^(http)?(s)?(:)?(\\\\/\\\\/)?/,function(){var e=\"\";return e+=arguments[1]?arguments[1]:\"http\",e+=arguments[2]?arguments[2]:\"http\"===arguments[1]?\"\":\"s\",e+=arguments[3]?arguments[3]:\":\",e+=arguments[4]?arguments[4]:\"//\"})}catch(t){return e}}function R(e){try{return-1!==new URL(e).host.indexOf(\".\")}catch(e){return!1}}function x(){function n(e){m(e.element,\"load\",e.onLoad),m(e.element,\"error\",e.onError)}function i(e){be(e.element,\"load\",e.onLoad),be(e.element,\"error\",e.onError)}function r(e){return ye.successfulTests.indexOf(e.name)>-1}function l(e){return ye.failedTests.indexOf(e.name)>-1}function o(e){return ye.successfulTests.push(e.name)}function s(e){return ye.failedTests.push(e.name)}function a(e){switch(e.start=Date.now(),e.name){case q.name:v(3e3);case j.name:case E.name:e.element.src=e.url;break;case k.name:var t=e.element;e.element=t.ownerDocument.createElement(\"script\"),e.element.src=e.url,e.element.onload=function(){Me(t,\"load\")},e.element.onerror=function(){Me(t,\"error\")},le(t.parentNode,e.element);break;case T.name:e.element.open(\"GET\",e.url,!0),e.element.send()}}function p(e){return r(j)?void i(j):2===j.element.height&&2===j.element.width?(i(j),o(j),void x(W)):l(j)?(i(j),void Q(j)):(s(j),void a(j))}function c(e){return r(j)?void i(j):l(j)?(i(j),void Q(j)):(s(j),void a(j))}function u(t){if(!r(k)){if(e[qe])return delete e[qe],i(k),he(k.element),o(k),void x(W);if(l(k))return i(k),he(k.element),void Q(k);s(k),a(k)}}function f(e){if(!r(k)){if(l(k))return i(k),he(k.element),void Q(k);s(k),a(k)}}function z(e){be(E.element,\"canplay\",E.onLoad),be(E.element,\"error\",E.onError),o(E),x(W)}function w(e){if(r(E)||l(E))return be(E.element,\"canplay\",E.onLoad),be(E.element,\"error\",E.onError),void(l(E)&&Q(E));s(E),a(E)}function h(e){if(r(T))return void i(T);var t=T.element.response;try{t=JSON.parse(t)}catch(e){t={}}return t[qe]?(i(T),o(T),void x(W)):l(T)?(i(T),void Q(T)):(s(T),void a(T))}function b(e){return r(T)?void i(T):l(T)?(i(T),void Q(T)):(s(T),void a(T))}function v(t){d(function(){if(!r(q)){var t={from:Ne,to:Fe,timeout:!0};t[qe]=!0,e.postMessage(t,\"*\")}},t)}function g(t){q.element.contentWindow.document&&(be(q.element,\"load\",q.onLoad),e.addEventListener(\"message\",R),v(3e3),q.element.src=q.url)}function R(t){var n=t&&t.data;if(n&&n.from===Ne&&n.to===Fe&&n[qe]){if(!r(q)){if(!0===n.timeout)return void(l(q)?(be(e,\"message\",R),he(q.element),Q(q)):(s(q),a(q)));o(q)}n.inIframeRecoveryBlocking&&(V={name:V.name+\"__\"+(n.debugData&&n.debugData.reason||\"\")+\"__\",timing:n.debugData&&n.debugData.timing||0},s(V),be(e,\"message\",R),he(q.element),Q(V))}}function x(e){var i=e.shift();if(i&&i.url)switch(i.start=Date.now(),i.name){case j.name:i.element=ie(\"IMG\"),n(i),i.element[Pe]=i.name,i.element.src=i.url;break;case k.name:i.element=ie(\"script\"),n(i),i.element.src=i.url,le(t.body,i.element);break;case E.name:i.element=ie(\"video\"),m(i.element,\"canplay\",i.onLoad),m(i.element,\"error\",i.onError),i.element.src=i.url;break;case T.name:i.element=new XMLHttpRequest,i.element[Pe]=T.name,i.element.open(\"GET\",i.url,!0),n(i),i.element.send();break;case q.name:i.element=ie(\"iframe\"),i.element.style.display=\"none\",m(i.element,\"load\",i.onLoad),le(t.body,i.element)}}function y(e){\"complete\"===t.readyState&&(be(t,\"readystatechange\",y),x(W))}var j={name:\"imageRecovery\",onLoad:p,onError:c,url:J(\"ping\",\"image\")},k={name:\"scriptRecovery\",onLoad:u,onError:f,url:J(\"ping\",\"script\")},E={name:\"videoRecovery\",onLoad:z,onError:w,url:J(\"ping\",\"video\")},T={name:\"xhrRecovery\",onLoad:h,onError:b,url:J(\"ping\",\"xhr\")},q={name:\"iframeRecovery\",onLoad:g,url:J(\"ping\",\"iframe\")},V={name:\"inIframeRecovery\"},W=[j,k,E,T,q];\"complete\"===t.readyState?x(W):t.addEventListener(\"readystatechange\",y)}function k(e,t){var n=\"id\"===t.type?\"#\":\".\",i=new RegExp(\"\\\\\\\\\"+n+t.oldValue,\"g\"),r=t.ctx.isHiddenOnPurpose;if(!r&&e.cssText&&e.selectorText&&i.test(e.selectorText)&&(t.ctx.isHiddenOnPurpose=r||t.ctx.hiddenElem.matches(e.selectorText)&&/display\\\\s*:\\\\s*none/.test(e.cssText),!t.ctx.isHiddenOnPurpose)){var l=e.cssText;t.ctx.newStylesheet.innerHTML+=l.replace(i,n+t.newValue)}}function E(e,t){var n;try{var i=t.ctx.additionalBlacklistedCssStyles;for(var r in i)if(i.hasOwnProperty(r)&&t.oldValue===r)for(var l=0;l<i[r].length;l++)e.insertRule(i[r].shift());n=Array.from(e.rules||e.cssRules)}catch(e){return void e.name}n.forEach(function(e){k(e,t)})}function T(e){var t=e.oldValue;if(t&&!e.ctx.isHiddenOnPurpose){var n=e.ctx.hiddenElem,i=n.ownerDocument;Array.from(i.styleSheets).forEach(function(t){E(t,e)}),e.ctx.isHiddenOnPurpose||(\"id\"===e.type?n.id=n.id.replace(t,e.newValue):n.className=n.className.replace(t,e.newValue))}}function V(e){var t,n=e.ownerDocument,i=e.style.display,l={hiddenElem:e,isHiddenOnPurpose:i.indexOf(\"none\")>-1,newStylesheet:n.createElement(\"style\"),additionalBlacklistedCssStyles:{\"ima-ad-container\":[\".ima-ad-container{top:0;position:absolute;width:100%;height:100%}\"]}};e.className.split(\" \").forEach(function(e){t={ctx:l,type:\"class\",oldValue:e,newValue:r().replace(/^[0-9]+/,\"\")},T(t)}),t={ctx:l,type:\"id\",oldValue:e.id,newValue:r().replace(/^[0-9]+/,\"\")},T(t),l.isHiddenOnPurpose||n.head.appendChild(l.newStylesheet)}\\nfunction W(e){for(var t=e,n=t.ownerDocument,i=n.defaultView,r=t&&t.parentNode;r&&(\"function\"==typeof r.createElement||0===r.scrollHeight&&0===r.scrollWidth);)if(t=r,!(r=t.parentNode))try{if(n===i.parent.document)return null;r=n.defaultView.frameElement,r.style.height=\"100%\",r.style.width=\"100%\",i=i.parent,n=i.document}catch(e){return e.name,null}return t}function Z(e,t,n,i){if(!n.adf_visibility_checked&&(n.adf_visibility_checked=!0,!n.adf_unhidden))var r=0,l=j(function(){if(r>=t)return void y(l);if(\"iframe\"===i||0===n.scrollHeight&&0===n.scrollWidth){y(l);var e=W(n);if(!e)return;n.adf_unhidden=!0,V(e)}r+=1},e)}function M(e,t){var n=new XMLHttpRequest;n[Pe]=\"checkIfBlocked\",n.open(\"GET\",e,!0),n.onload=function(){t(!1)},n.onerror=function(){t(!0)},n.send()}function O(e,t){if(!e.adf_recovery_checked&&\"backgroundImage\"===t){var n=e.style,i=n.backgroundImage.slice(4,-1).replace(/[\\'\"]/g,\"\");if(!i)return;e.adf_recovery_checked=!0,M(i,function(n){n&&(e.adf_actual_src=i,e.adf_tagName=t,C(null,e))})}}function G(){var e=J(\"cookie\",\"image\"),n=t.createElement(\"IMG\");n[Pe]=\"cookie\",n.src=e}function F(e,t){var n=s(\"playerContainer\",!0);if(!n)return!1;if(!e.isConnected){if(!t||!t.isConnected)return!1;e=t}var i=e.ownerDocument;if(\"iframe\"===i.adf_rewritten)return!0;var r=i.defaultView,l=e;for(l=l.closest(n);!l;){try{var o=r.parent.document}catch(e){return!1}if(i===o)return!1;l=r.frameElement,i=l.ownerDocument,r=i.defaultView,l=l.closest(n)}return!0}function N(e,t,i){var r=!1,l=[{resourceTypeSpecific:ve(t,e.type)}];\"network\"===t&&l.push({nonResourceTypeSpecific:ve(t,\"all\")});for(var o=l.length,s=0;s<o;s++){var d=Object.keys(l[s])[0];l[s]&&l[s][d]&&(r=r||l[s][d].some(function(r){var l=i?r.toUnblock:!r.toUnblock;if(\"network\"===t){var o=new RegExp(r.method),s=new RegExp(r.urlRegExp),a=\"nonResourceTypeSpecific\"===d?n(e.url):e.url;l=l&&o.test(e.requestMethod)&&s.test(a)}else if(\"dom\"===t)if(\"iframe\"===e.type){var p=r.attributeKey,c=new RegExp(r.attributeValueRegExp);l=l&&c.test(e.element[p]),l=\"early\"===r.specialCharacteristic?l&&!recoveryEnabled:\"outside\"===r.specialCharacteristic?l&&!F(e.element,e.elementFutureParent):\"onAdblock\"===r.specialCharacteristic&&l&&(_e||Te.indexOf(\"ADBLOCK\")>-1)}else l=\"anchor\"===e.type&&l&&e.element.matches(r.selector)&&!F(e.element,e.elementFutureParent);return l}))}return r}function U(e,t){return N(e,t,!1)}function P(e,t){return N(e,t,!0)}function L(e,t,n,r){if(!D())return!1;var l={type:t,requestMethod:\"GET\",url:n,element:e,elementFutureParent:r};switch(t){case\"script\":case\"css\":case\"video\":if(U(l,\"network\"))return!1;if(!P(l,\"network\")&&!F(e,r))return!1;break;case\"iframe\":if(i(n)&&U(l,\"network\"))return!1;if(!i(n)||!P(l,\"network\")){if(U(l,\"dom\"))return!1;if(!P(l,\"dom\")&&!F(e,r))return!1}break;case\"anchor\":if(l.type=\"anchor\",U(l,\"dom\"))return!1;if(!P(l,\"dom\"))return!1;break;case\"clickTarget\":if(!F(e,r))return!1;break;case\"xhr\":if(e.adf_xhrOpenArgs&&e.adf_xhrOpenArgs[0]&&(l.requestMethod=e.adf_xhrOpenArgs[0]),U(l,\"network\"))return!1;break;case\"backgroundimage\":l.type=\"image\";case\"image\":if(U(l,\"network\"))return!1;if(!P(l,\"network\")){if(e.ownerDocument&&e.parentNode&&!F(e,r))return!1;if(e.orgnl_script&&!F(e.orgnl_script,r))return!1}break;default:return!1}return!0}function X(e){l(e,B,B,!0),m(e,\"pointerup\",function(e){L(e.target,\"clickTarget\",\"\")&&(Ce=!0,d(function(){Ce=!1},500))},!0)}function H(e){\"function\"==typeof e.orgnl_error_hdlr&&(e.onerror=e.orgnl_error_hdlr,e.orgnl_error_hdlr=null),\"function\"==typeof e.orgnl_readystatechange_hdlr&&(e.onreadystatechange=e.orgnl_readystatechange_hdlr)}function S(e){return void z()}function K(e){if(!e)return!1;try{var t=q(v(JSON.stringify(e))),n=r(!0,3)}catch(e){return!1}return\"?\"+n+\"=\"+t}function I(t,n,i){if(!t||!n)return!1;var r={requestType:t,resourceType:/backgroundimage/.test(n)?\"image\":n,rewrittenUrl:We,pageUrl:xe,referer:xe,publisherLogId:Ze,pageLogId:Oe,impressionId:Ue(e.bzwslc84Rnd,-3)};if(\"ping\"===t)r.isMainFrame=!0,r.nonceWord=qe;else if(\"cookie\"===t)r.consentString=Se.consentString;else if(\"popup\"!==n){if(\"string\"!=typeof i)return!1;r.originalUrl=i,r.gdprApplies=Se.gdprApplies,r.consentString=Se.consentString,e.self!==e.top?(r.videoWidth=Re&&Re.scrollWidth>0?Re.scrollWidth.toString():\"640\",r.videoHeight=Re&&Re.scrollHeight>0?Re.scrollHeight.toString():\"480\"):(r.videoWidth=e.innerWidth>0?e.innerWidth.toString():\"640\",r.videoHeight=e.innerHeight>0?e.innerHeight.toString():\"480\"),r.currentTrafficTypes=Te,r.activeAdTagProviders=Je}return r.type=\"video\"+p(r.resourceType,0).toUpperCase()+r.resourceType.slice(1),r}function J(e,t,n){var i=I(e,t,n);if(!i)return!1;var r=K(i);return!!r&&We+r}function Y(t,n,i,r){var l={requestType:\"ad-tag\",resourceType:\"xhr\",prepare:r,trafficType:i,consentString:Se.consentString,publisherLogId:Ze,pageLogId:Oe,impressionId:Ue(e.bzwslc84Rnd,-3),pageUrl:xe,rewrittenUrl:We,type:\"videoAdTag\"};if(!l.impressionId)return!1;if(!r&&(l.positionId=t,l.cssSelector=n,!l.positionId||!l.cssSelector))return!1;var o=K(l);return!!o&&We+o}function Q(e){var t={reason:e.name,timing:e.timing||Date.now()-e.start},n={reason:e.name,timing:e.timing||Date.now()-e.start,whileab:\"on\"},i=3e3,r=j(function(){if(i<=0)return void y(r);i-=100,Re&&!Re.adf_hidden&&(et||(et=!0,S(t)),u()&&(Re.style.setProperty(\"display\",\"none\",\"important\"),Re.adf_hidden=!0)),Be&&(y(r),_e&&S(n))},100)}function A(){Re&&Re.adf_hidden&&Re.style.removeProperty(\"display\")}function D(){return!Ae&&0===ye.failedTests.length&&We&&We.split(\"/\")[2]&&Re&&(Te.indexOf(\"ADBLOCK\")>-1||Te.indexOf(\"PM\")>-1)&&Ee.currentCount<Ee.cappingPerPI}function C(e,t){e&&e.stopImmediatePropagation(),m(t,\"error\",B,!0),t.forcedRecovery=!0,Me(t,\"error\")}function B(e){function r(){g||v||y||(Me(l,\"error\"),y=!0)}if(D()){Re&&!De&&(De=!0,x());var l=e.target;if(l&&!l[Pe]){var a=l.adf_xhrOpenArgs||null,p=l.adf_actual_src||l.src||l.href||a&&a[1]||\"\";if(p!==xe){var c=l.adf_tagName||l.tagName||\"\";if(c=c.toLowerCase(),\"link\"===c?c=\"css\":\"img\"===c&&(c=\"image\"),o(\"blockedBackgroundImage\",!0).forEach(function(e){var n=t.querySelector(e);n&&O(n,\"backgroundImage\")}),/iframe|xhr|script|image|video|css|backgroundimage/.test(c)&&L(l,c,p)&&(!je||l.forcedRecovery||je!==l)&&(clearTimeout(ke),je=l,ke=d(function(){je=null},1e3),p)){var u=e.adf_event_type||e.type;if(p=h(p),R(p)){var f=l.adf_rewritten||!1,z=l.ownerDocument||t;if(\"video\"===c&&\"canplay\"===u||\"iframe\"===c&&\"load\"===u&&f){var w=s(\"hiddenElement\",!1);w&&l.closest(w)||Z(200,15,l,c)}var b=n(p);if(!f&&b!==He)if(\"load\"===u)switch(c){case\"xhr\":H(l);break;case\"iframe\":i(p)&&C(e,l)}else if(\"error\"===u){e.stopImmediatePropagation();var v=!1,g=!1,y=!1;l.adf_rewritten=!0,m(l,\"load\",function(e){v=!0}),d(r,7e3),Ee.currentCount++;var j=J(\"recovery\",c,p);if(!j)return H(l),void r();var k,E;d(function(){switch(c){case\"xhr\":a[1]=j,l.open.apply(l,a),l.adf_req_headers.forEach(function(e){l.setRequestHeader.apply(l,e)}),l.withCredentials=!0,H(l),l.send(l.adf_body);break;case\"image\":l.src=j;break;case\"backgroundimage\":l.style.backgroundImage=\"url(\"+j+\")\";break;case\"script\":k=z.createElement(\"script\"),Array.from(l.attributes).forEach(function(e){oe(k,e.nodeName,\"src\"===e.nodeName?j:e.nodeValue)}),k.onload=function(){Me(l,\"load\")},m(k,\"error\",r),E=l.parentNode,E&&l.isConnected||(E=z.head),le(E,k),k.src=p,k.adf_actual_src=j,k.adf_rewritten=!0;break;case\"iframe\":/imasdk.googleapis.com/.test(p)&&(j+=\"&=\"+n(p,!0)),l.src=j;break;case\"video\":if(l.src!==p)return;m(l,\"canplay\",function(){ae(l,\"display\",\"block\",\"important\"),g=!0,l.adf_rewritten=!1,l.play()}),l.preload=\"auto\",l.src=j;break;case\"css\":l.href=j}},0)}}else if(\"iframe\"===c&&\"load\"===u&&l.contentDocument){$(l);var w=s(\"hiddenElement\",!1);w&&l.closest(w)||Z(200,15,l,c)}}}}}}function _(e){var t=e.target;!t.adf_rewritten&&i(t.src)&&L(t,\"iframe\",t.src)&&(e.stopImmediatePropagation(),t.removeEventListener(\"load\",_,!0),m(t,\"error\",B,!0),Me(t,\"error\"))}function $(e){i(e.src)?m(e,\"load\",_,!0):e.contentDocument?(pe(e.contentDocument),m(e,\"load\",ee,!0)):d(function(){e.contentDocument?pe(e.contentDocument):m(e,\"load\",ee,!0)},0)}function ee(e){try{var t=e.target;t.removeEventListener(\"load\",ee,!0),i(t.src)?_(e):t.contentDocument&&(X(t.contentDocument),pe(t.contentDocument))}catch(e){}}function pe(t){if(!t.adf_rewritten){t.adf_rewritten=\"main\";var n=e;n!==t.defaultView&&(t.adf_rewritten=\"iframe\",n=t.defaultView),c(t,\"hiddenElement\",function(e){Z(200,15,e)}),c(t,\"anchor\",function(e){w(e)}),t.querySelectorAll(\"script\").forEach(function(e){X(e)});var i=e.Function.bind,l=i.bind(i),o=function(e,t){return new(l(e,null).apply(null,t))};n.Image=function(e){function n(){var n=o(e,arguments);return D()?(n.orgnl_script=t.currentScript,X(n),n):n}return n.prototype=e.prototype,n}(n.Image),function(e){n.XMLHttpRequest.prototype.open=function(){var t=this;try{if(!arguments[0]||!arguments[1]||/^\\\\/[^\\\\/]/.test(arguments[1])||!L(t,\"xhr\",arguments[1])||t.adf_rewritten||t[Pe])return;t.adf_xhrOpenArgs=arguments,t.adf_tagName=\"xhr\",t.adf_req_headers=[]}finally{e.apply(t,arguments)}}}(n.XMLHttpRequest.prototype.open),function(e){n.XMLHttpRequest.prototype.setRequestHeader=function(){var t=this;try{if(\"xhr\"!==t.adf_tagName||t.adf_rewritten||t[Pe]||!(t.adf_req_headers instanceof n.Array)||!D())return;t.adf_req_headers.push(arguments)}finally{e.apply(t,arguments)}}}(n.XMLHttpRequest.prototype.setRequestHeader),function(e){n.XMLHttpRequest.prototype.send=function(){var t=this;try{if(\"xhr\"!==t.adf_tagName||t.adf_rewritten||t[Pe]||t.hasOwnProperty(\"adf_body\")||!D())return;if(t.orgnl_error_hdlr=t.onerror,t.onerror=null,t.orgnl_readystatechange_hdlr=t.onreadystatechange,t.onreadystatechange=function(e){return 4!==t.readyState?void(\"function\"==typeof t.orgnl_readystatechange_hdlr&&t.orgnl_readystatechange_hdlr(e)):/^[23]/.test(t.status)?(e.adf_event_type=\"load\",B(e),void(\"function\"==typeof t.orgnl_readystatechange_hdlr&&t.orgnl_readystatechange_hdlr(e))):(e.adf_event_type=\"error\",void B(e))},t.adf_body=arguments[0],P({type:\"xhr\",requestMethod:t.adf_xhrOpenArgs[0],url:t.adf_xhrOpenArgs[1]},\"network\"))return void C(null,t);X(t)}catch(e){H(t)}finally{e.apply(t,arguments)}}}(n.XMLHttpRequest.prototype.send),function(e){n.open=function(){function t(){if(i&&!i.opener||p>100){try{i.opener=n}catch(e){}y(a)}else p+=1}var i;try{if(!D()||!Ce)return void(i=e.apply(n,arguments));var l=arguments[0],o=r(),s=d(function(){Q({name:\"clickRecovery\",timing:3e3})},3e3);m(n,\"message\",function(e){e.data.message&&\"ping\"===e.data.message&&e.data.tabId&&e.data.tabId===o&&(clearTimeout(s),e.source.postMessage({message:\"pong\",targetURL:l,tabId:o,video:!0},\"*\"))},!0),i=e.apply(n,[me+\"#\"+o]);var a,p=0;try{i.opener=n}catch(e){}a=j(t,1)}catch(t){i=e.apply(n,arguments)}finally{return i}}}(n.open),function(t){e.bzwsl521Flags&&e.bzwsl521Flags.fetchRecoveryOff||(n.fetch=function(){var e=arguments;try{var i={type:\"xhr\",requestMethod:e&&e[1]&&e[1].method?e[1].method:\"GET\",url:e&&e[0]?e[0]:\"\"};return D()&&i.url&&!U(i,\"network\")?(i.url=h(i.url),R(i.url)?new Promise(function(i,r){t.apply(n,e).then(function(e){i(e)}).catch(function(l){function o(e){s||a||(r(e),a=!0)}var s=!1,a=!1;try{var p=e[0];Ee.currentCount++;var c=J(\"recovery\",\"xhr\",p);if(!c)return void o(l);d(function(){e[0]=c,t.apply(n,e).then(function(e){s=!0,i(e)}).catch(function(e){o(e)})},0)}catch(e){o(l)}})}):t.apply(n,e)):t.apply(n,e)}catch(i){return t.apply(n,e)}})}(n.fetch),function(e,i){e&&(t.body.appendChild=function(){var t=e.apply(this,arguments);try{var n=arguments[0],i=n&&n.tagName&&n.tagName.toLowerCase();if(L(n,i,n.src||n.href,this))switch(i){case\"iframe\":$(n);break;case\"script\":X(n)}}catch(e){}return t}),n.Node.prototype.appendChild=function(){var e=i.apply(this,arguments);try{var t=arguments[0],n=t&&t.tagName&&t.tagName.toLowerCase();if(n=\"a\"===n?\"anchor\":n,L(t,n,t.src||t.href,this))switch(n){case\"iframe\":$(t);break;case\"anchor\":w(t);break;case\"script\":X(t)}}catch(e){}return e}}(t.body&&t.body.appendChild,n.Node.prototype.appendChild),function(e){n.Node.prototype.replaceChild=function(){var t=e.apply(this,arguments);try{var i=arguments[0]instanceof n.Element&&arguments[0].querySelector(\"IFRAME\");i&&L(i,\"iframe\",i.src,this)&&(/Firefox/.test(n.navigator.userAgent)?m(i,\"load\",ee,!0):$(i))}catch(e){}return t}}(n.Node.prototype.replaceChild),function(e){n.Node.prototype.insertBefore=function(){var t=e.apply(this,arguments);try{var n=arguments[0],i=n&&n.tagName&&n.tagName.toLowerCase();if(L(n,i,n.src||n.href,this))switch(i){case\"script\":X(n)}}catch(e){}return t}}(n.Node.prototype.insertBefore),X(t),function(e){t.createElement=function(){var n=e.apply(t,arguments);try{if(!D())return n;var i=arguments[0]&&arguments[0].toLowerCase();switch(i){case\"iframe\":m(n,\"load\",_,!0);break;case\"video\":!function(e){n.appendChild=function(){try{var t=arguments[0].localName;if(!L(n,i,n.src))return e.apply(n,arguments);if(\"source\"!==t)return e.apply(n,arguments);if(arguments[0].src&&!n.src)return n.src=arguments[0].src,null}catch(e){}}}(n.appendChild),m(n,\"error\",B,!0),m(n,\"canplay\",B,!0);break;case\"img\":n.orgnl_script=t.currentScript;case\"div\":case\"script\":X(n)}}catch(e){}return n}}(t.createElement)}}function ce(t,n){e.bzwslc84Rnd=t||te(),me=J(\"recovery\",\"popup\"),Re=null,xe=e.location.href,ye={failedTests:[],successfulTests:[]},je=null,clearTimeout(ke),clearTimeout(it),Ee={currentCount:0,cappingPerPI:2500,maxRecoveryDurationInMins:20},Te=[],Ke=[],callNextAdTag=function(e){\"function\"==typeof Ke[e]&&Ke[e]()},Je=[],Ye=[],Ae=void 0===n?a(100*f())>=100:n,De=!1,Ce=!1,Be=!1,_e=!1,$e=!1,et=!1,tt=\"toBePrepared\",Qe={},nt=!1,it=d(function(){Ae=!0},60*Ee.maxRecoveryDurationInMins*1e3)}function ue(e,t){tt=\"preparing\";var n=Y(null,null,e.currentTrafficTypes.join(\",\"),!0),i=null,r=new XMLHttpRequest;r.onload=function(){if(r.response&&\"json\"===r.responseType)if(\"// ad tag error\"===r.response.content)i=\"Ad tag error\";else{tt=\"prepared\";for(var n,l,o;Ye.length>0;)n=Ye.shift(),l=n.videoTagParameters,o=n.caller,fe(l,o),function(e,t){Ke[e.positionId]=function(){fe(e,t)}}(l,o)}else i=\"Invalid response\";ze(\"prepareVideoTags\",e.positionId,t,i)},r.onerror=function(){i=\"Failed request\",ze(\"prepareVideoTags\",e.positionId,t,i)},r[Pe]=!0,r.responseType=\"json\",r.open(\"GET\",n,!0),r.send()}function fe(e,n){var i=t.querySelector(e.cssSelector);if(!i)return l=\"No tag container\",void ze(\"loadVideoTag\",e.positionId,n,l);var r=Y(e.positionId,e.cssSelector,e.currentTrafficTypes.join(\",\"),!1),l=null,o=new XMLHttpRequest;o.onload=function(){if(o.response&&\"json\"===o.responseType&&o.response.content)if(\"// ad tag error\"===o.response.content)l=\"Ad tag error\";else if(o.response.content===\"// no banner for position \"+e.positionId)l=\"No fill\";else{var t=0===Je.length?0:1e3;d(function(){i.innerHTML=\"\",ge(o.response.adTagProvider,o.response.adTagVersion,e);var t=ie(\"script\");re(t,o.response.content),le(i,t)},t)}else l=\"Invalid response\";ze(\"loadVideoTag\",e.positionId,n,l)},o.onerror=function(){l=\"Failed request\",ze(\"loadVideoTag\",e.positionId,n,l)},o[Pe]=!0,o.responseType=\"json\",o.open(\"GET\",r,!0),o.send()}function ze(e,t,n,i){n.postMessage({from:Fe,to:Ge,message:{type:e,value:{positionId:t,errorMsg:i}}},\"*\")}function we(e){var t=[];if(!Te)return t;for(var n=e.length,i=0;i<n;i++){for(var r=!1,l=e[i].trafficTypes.length,o=0;o<l;o++){var s=e[i].trafficTypes[o];if(Te.includes(s))r=!0;else if(s.startsWith(\"!\")&&Te.includes(s.substring(1))){r=!1;break}}r&&t.push(e[i].rule)}return t}function ve(e,t){var n=Qe[e+\"_\"+t];if(n)return n;var i=[],r=Ve.generic[e][t],l=we(r);i=i.concat(l);for(var o=Je.length,s=0;s<o;s++){var d=Je[s].adTagProvider;if(d){var a=Je[s].adTagVersion,p=Ve.specific[d][a][e][t],c=we(p);i=i.concat(c)}}return Qe[e+\"_\"+t]=i,i}function ge(e,n,i){if(\"string\"==typeof e&&\"string\"==typeof n&&\"object\"==typeof i){Te=i.currentTrafficTypes;var r=i.cssSelector?i.cssSelector:\"*\";Re=t.querySelector(r);var l,o={trafficTypes:Te,rule:{selector:r,toUnblock:!0}};e=e.toLowerCase(),e&&Ve.specific[e]?(n=\"v\"+n,l=Ve.specific[e][n],Je.push({adTagProvider:e,adTagVersion:n})):l=Ve.generic,l.dom.playerContainer.push(o),Qe={},D()&&nt&&(G(),nt=!1)}}if(!(e[Ue(\"ylghrVfulswLvDouhdg|H{hfxwhg\",-3)]||e.location.search.indexOf(\"forceVideoOff=true\")>-1)){e[Ue(\"ylghrVfulswLvDouhdg|H{hfxwhg\",-3)]=!0,\"function\"==typeof Ie&&(Ie=ge),e[Ue(\"XDESYuhordghg\",-3)]=ce;var me,Re,xe,ye,je,ke,Ee,Te,qe=\"dTtOjVxeyX\",Ve={generic:{network:{script:[{trafficTypes:[\"ADBLOCK\",\"PM\"],rule:{urlRegExp:\"imasdk.googleapis.com/js/sdkloader/\",method:\".*\",toUnblock:!0}},{trafficTypes:[\"ADBLOCK\",\"PM\"],rule:{urlRegExp:\"/integrator.js\",method:\".*\",toUnblock:!0}},{trafficTypes:[\"ADBLOCK\",\"PM\"],rule:{urlRegExp:\"/client.js\",method:\".*\",toUnblock:!0}},{trafficTypes:[\"ADBLOCK\",\"PM\"],rule:{urlRegExp:\"/vpaid.js\",method:\".*\",toUnblock:!0}},{trafficTypes:[\"ADBLOCK\",\"PM\"],rule:{urlRegExp:\"geo.moatads.com/n.js\",method:\".*\",toUnblock:!0}},{trafficTypes:[\"ADBLOCK\",\"PM\"],rule:{urlRegExp:\"cdn.doubleverify.com/dv-measurements\",method:\".*\",toUnblock:!0}},{trafficTypes:[\"ADBLOCK\",\"PM\"],rule:{urlRegExp:\"/vast.js\",method:\".*\",toUnblock:!0}},{trafficTypes:[\"ADBLOCK\"],rule:{urlRegExp:\"/googima.js\",method:\".*\",toUnblock:!0}},{trafficTypes:[\"ADBLOCK\",\"PM\"],rule:{urlRegExp:\"secure-assets.rubiconproject.com.*usync.js\",method:\".*\",toUnblock:!1}}],image:[{trafficTypes:[\"ADBLOCK\"],rule:{urlRegExp:\"servt.vid-play.com/track\",method:\".*\",toUnblock:!1}},{trafficTypes:[\"ADBLOCK\"],rule:{urlRegExp:\"prd.jwpltx.com\",method:\".*\",toUnblock:!1}},{trafficTypes:[\"ADBLOCK\"],rule:{urlRegExp:\"pp.lp4.io\",method:\".*\",toUnblock:!1}},{trafficTypes:[\"ADBLOCK\"],rule:{urlRegExp:\"meetrics.net/data\",method:\".*\",toUnblock:!1}},{trafficTypes:[\"ADBLOCK\"],rule:{urlRegExp:\"k.streamrail.com/x\",method:\".*\",toUnblock:!1}},{trafficTypes:[\"ADBLOCK\"],rule:{urlRegExp:\"m6r.eu/video/empty\",method:\".*\",toUnblock:!1}},{trafficTypes:[\"ADBLOCK\"],rule:{urlRegExp:\"brid.tv/ping.gif\",method:\".*\",toUnblock:!1}},{trafficTypes:[\"PM\"],rule:{urlRegExp:\"/gen_204\",method:\".*\",toUnblock:!1}},{trafficTypes:[\"ADBLOCK\",\"PM\"],rule:{urlRegExp:\"aniview.com\",method:\".*\",toUnblock:!1}},{trafficTypes:[\"ADBLOCK\",\"PM\"],rule:{urlRegExp:\"id.rlcdn.com\",method:\".*\",toUnblock:!1}},{trafficTypes:[\"ADBLOCK\",\"PM\"],rule:{urlRegExp:\"youtube.com\",method:\".*\",toUnblock:!1}},{trafficTypes:[\"ADBLOCK\",\"PM\"],rule:{urlRegExp:\"googleadservices.com\",method:\".*\",toUnblock:!1}}],video:[],iframe:[{trafficTypes:[\"ADBLOCK\",\"PM\"],rule:{urlRegExp:\"ad.yieldlab.net.+\\\\\\\\/2x2\",method:\".*\",toUnblock:!1}},{trafficTypes:[\"!ADBLOCK\",\"PM\"],rule:{urlRegExp:\".*\",method:\".*\",toUnblock:!1}}],xhr:[{trafficTypes:[\"ADBLOCK\",\"PM\"],rule:{urlRegExp:\"adnxs.com.+\\\\\\\\/prebid\",method:\".*\",toUnblock:!1}},{trafficTypes:[\"ADBLOCK\",\"PM\"],rule:{urlRegExp:\"rtb.openx.net/openrtbb\",method:\"POST\",toUnblock:!1}},{trafficTypes:[\"ADBLOCK\",\"PM\"],rule:{urlRegExp:\"adnxs.com.+v3$\",method:\"POST\",toUnblock:!1}},{trafficTypes:[\"ADBLOCK\",\"PM\"],rule:{urlRegExp:\"360yield.com.+pb$\",method:\"POST\",toUnblock:!1}},{trafficTypes:[\"ADBLOCK\",\"PM\"],rule:{urlRegExp:\"paper/public/js/ads/adex.js\",method:\".*\",toUnblock:!1}},{trafficTypes:[\"ADBLOCK\",\"PM\"],rule:{urlRegExp:\"doubleclick.net/pagead/ppub_config\",method:\".*\",toUnblock:!1}},{trafficTypes:[\"ADBLOCK\",\"PM\"],rule:{urlRegExp:\"rubiconproject.com/openrtb2/auction\",method:\".*\",toUnblock:!1}},{trafficTypes:[\"ADBLOCK\",\"PM\"],rule:{urlRegExp:\"_.rocks\",method:\".*\",toUnblock:!1}},{trafficTypes:[\"PM\"],rule:{urlRegExp:\"pubads.g.doubleclick.net/gampad/ads\",method:\"GET\",toUnblock:!0}}],css:[],all:[{trafficTypes:[\"ADBLOCK\",\"PM\"],rule:{urlRegExp:\"https?://[^/]*rocks[^/]*\",method:\".*\",toUnblock:!1}},{trafficTypes:[\"ADBLOCK\",\"PM\"],rule:{urlRegExp:\"https?://[^/]*emsservice[^/]*\",method:\".*\",toUnblock:!1}},{trafficTypes:[\"ADBLOCK\",\"PM\"],rule:{urlRegExp:\"https?://[^/]*jwplayer[^/]*\",method:\".*\",toUnblock:!1}},{trafficTypes:[\"ADBLOCK\",\"PM\"],rule:{urlRegExp:\"https?://[^/]*ligatus[^/]*\",method:\".*\",toUnblock:!1}},{trafficTypes:[\"ADBLOCK\",\"PM\"],rule:{urlRegExp:\"https?://[^/]*kameleoon[^/]*\",method:\".*\",toUnblock:!1}},{trafficTypes:[\"ADBLOCK\",\"PM\"],rule:{urlRegExp:\"https?://[^/]*facebook[^/]*\",method:\".*\",toUnblock:!1}},{trafficTypes:[\"ADBLOCK\",\"PM\"],rule:{urlRegExp:\"https?://[^/]*native.adscale.de[^/]*\",method:\".*\",toUnblock:!1}},{trafficTypes:[\"ADBLOCK\",\"PM\"],rule:{urlRegExp:\"https?://[^/]*justpremium[^/]*\",method:\".*\",toUnblock:!1}},{trafficTypes:[\"ADBLOCK\",\"PM\"],rule:{urlRegExp:\"https?://[^/]*twitter.com[^/]*\",method:\".*\",toUnblock:!1}},{trafficTypes:[\"ADBLOCK\",\"PM\"],rule:{urlRegExp:\"https?://[^/]*consensu[^/]*\",method:\".*\",toUnblock:!1}},{trafficTypes:[\"ADBLOCK\",\"PM\"],rule:{urlRegExp:\"https?://[^/]*meetrics[^/]*\",method:\".*\",toUnblock:!1}},{trafficTypes:[\"ADBLOCK\",\"PM\"],rule:{urlRegExp:\"https?://[^/]*daznplayer[^/]*\",method:\".*\",toUnblock:!1}},{trafficTypes:[\"ADBLOCK\",\"PM\"],rule:{urlRegExp:\"https?://[^/]*api.rlcdn.com[^/]*\",method:\".*\",toUnblock:!1}},{trafficTypes:[\"ADBLOCK\",\"PM\"],rule:{urlRegExp:\"https?://[^/]*publisher-assets.spot.im[^/]*\",method:\".*\",toUnblock:!1}},{trafficTypes:[\"ADBLOCK\",\"PM\"],rule:{urlRegExp:\"mdsngpush\\\\\\\\.\",method:\".*\",toUnblock:!1}},{trafficTypes:[\"ADBLOCK\",\"PM\"],rule:{urlRegExp:\"https?://[^/]*ad.lkqd.net[^/]*\",method:\".*\",toUnblock:!1}},{trafficTypes:[\"ADBLOCK\",\"PM\"],rule:{urlRegExp:\"https?://[^/]*aniview.com[^/]*\",method:\".*\",toUnblock:!1}},{trafficTypes:[\"ADBLOCK\",\"PM\"],rule:{urlRegExp:\"https?://[^/]*taboola.com[^/]*\",method:\".*\",toUnblock:!1}},{trafficTypes:[\"ADBLOCK\",\"PM\"],rule:{urlRegExp:\"https?://[^/]*spot.im[^/]*\",method:\".*\",toUnblock:!1}},{trafficTypes:[\"ADBLOCK\",\"PM\"],rule:{urlRegExp:\"https?://[^/]*pub.doubleverify.com[^/]*\",method:\".*\",toUnblock:!1}},{trafficTypes:[\"ADBLOCK\",\"PM\"],rule:{urlRegExp:\"https?://[^/]*ap.lijit.com[^/]*\",method:\".*\",toUnblock:!1}},{trafficTypes:[\"ADBLOCK\",\"PM\"],rule:{urlRegExp:\"https?://[^/]*brwsrfrm.com[^/]*\",method:\".*\",toUnblock:!1}}]},dom:{hiddenElement:[{trafficTypes:[\"ADBLOCK\"],rule:{selector:\".ad-element\",toUnblock:!0}},{trafficTypes:[\"ADBLOCK\"],rule:{selector:\"#content_video_ima-ad-container\",toUnblock:!1}},{trafficTypes:[\"ADBLOCK\"],rule:{selector:\".fp-engine\",toUnblock:!1}}],blockedBackgroundImage:[{trafficTypes:[\"ADBLOCK\"],rule:{selector:\".GUI-module__container__thumbnail\",toUnblock:!0}}],iframe:[],anchor:[],playerContainer:[]}},specific:{sn:{v1:{network:{script:[],image:[],video:[],iframe:[],xhr:[],css:[],all:[]},dom:{hiddenElement:[],blockedBackgroundImage:[],iframe:[],anchor:[],playerContainer:[]}}},pl:{v1:{network:{script:[],image:[],video:[],iframe:[],xhr:[],css:[],all:[]},dom:{hiddenElement:[],blockedBackgroundImage:[],iframe:[],anchor:[],playerContainer:[]}}},dn:{v1:{network:{script:[],image:[],video:[],iframe:[],xhr:[],css:[{trafficTypes:[\"ADBLOCK\"],rule:{urlRegExp:\"www.dianomi.com.*dianomi-context.css\",method:\".*\",toUnblock:!0}}],all:[]},dom:{hiddenElement:[],blockedBackgroundImage:[{trafficTypes:[\"ADBLOCK\"],rule:{selector:\".dianomi-video-background\",toUnblock:!0}}],iframe:[],anchor:[{trafficTypes:[\"ADBLOCK\"],rule:{selector:\".dianomihref\",toUnblock:!0}}],playerContainer:[]}}},tv:{v1:{network:{script:[{trafficTypes:[\"ADBLOCK\",\"PM\"],rule:{urlRegExp:\"doubleclick.net/gampad/adx.+target-video\",method:\".*\",toUnblock:!0}},{trafficTypes:[\"ADBLOCK\",\"PM\"],rule:{urlRegExp:\"target-video.com/player/build/plugins/adunit.js\",method:\".*\",toUnblock:!0}}],image:[],video:[],iframe:[],xhr:[],css:[],all:[]},dom:{hiddenElement:[],blockedBackgroundImage:[],iframe:[],anchor:[],playerContainer:[]}}},vi:{v1:{network:{script:[{trafficTypes:[\"ADBLOCK\",\"PM\"],rule:{urlRegExp:\"vi-serve.com\",method:\".*\",toUnblock:!0}}],image:[{trafficTypes:[\"PM\"],rule:{urlRegExp:\"t.vi-serve.com\",method:\".*\",toUnblock:!1}},{trafficTypes:[\"ADBLOCK\",\"PM\"],rule:{urlRegExp:\"pixel.inforsea.com\",method:\".*\",toUnblock:!1}}],video:[],iframe:[],xhr:[],css:[],all:[]},dom:{hiddenElement:[],blockedBackgroundImage:[],iframe:[],anchor:[],playerContainer:[]}}},sh:{v1:{network:{script:[{trafficTypes:[\"ADBLOCK\",\"PM\"],rule:{urlRegExp:\"showheroes.com\",method:\".*\",toUnblock:!0}}],image:[],video:[],iframe:[],xhr:[],css:[],all:[]},dom:{hiddenElement:[],blockedBackgroundImage:[],iframe:[{trafficTypes:[\"ADBLOCK\",\"PM\"],rule:{specialCharacteristic:\"early\",attributeKey:\"id\",attributeValueRegExp:\"showheroes-iframe\",toUnblock:!0}},{trafficTypes:[\"ADBLOCK\",\"PM\"],rule:{specialCharacteristic:\"outside\",attributeKey:\"id\",attributeValueRegExp:\"showheroes-iframe\",toUnblock:!0}}],anchor:[{trafficTypes:[\"ADBLOCK\"],rule:{selector:\"#control-clickthrough\",toUnblock:!0}}],playerContainer:[]}},v2:{network:{script:[],image:[{trafficTypes:[\"ADBLOCK\",\"PM\"],rule:{urlRegExp:\"viralize.tv/t-bid-done\",method:\".*\",toUnblock:!1}},{trafficTypes:[\"ADBLOCK\",\"PM\"],rule:{urlRegExp:\"viralize.tv/track\",method:\".*\",toUnblock:!1}},{trafficTypes:[\"!ADBLOCK\",\"PM\"],rule:{urlRegExp:\"viralize.tv/t-bid-opportunity\",method:\".*\",toUnblock:!1}},{trafficTypes:[\"ADBLOCK\"],rule:{urlRegExp:\"ib.adnxs.com/getuid\",method:\".*\",toUnblock:!1}}],video:[],iframe:[],xhr:[],css:[],all:[{trafficTypes:[\"ADBLOCK\",\"PM\"],rule:{urlRegExp:\"https?://[^/]*smartadserver.com[^/]*\",method:\".*\",toUnblock:!0}},{trafficTypes:[\"ADBLOCK\"],rule:{urlRegExp:\"https?://[^/]*ads.stickyadstv.com[^/]*\",method:\".*\",toUnblock:!0}},{trafficTypes:[\"ADBLOCK\",\"PM\"],rule:{urlRegExp:\"https?://[^/]*ad.yieldlab.net[^/]*\",method:\".*\",toUnblock:!0}},{trafficTypes:[\"ADBLOCK\",\"PM\"],rule:{urlRegExp:\"https?://[^/]*rubiconproject.com[^/]*\",method:\".*\",toUnblock:!0}}]},dom:{hiddenElement:[],blockedBackgroundImage:[],iframe:[],anchor:[],playerContainer:[]}},v3:{network:{script:[],image:[{trafficTypes:[\"ADBLOCK\",\"PM\"],rule:{urlRegExp:\"viralize.tv/t-bid-done\",method:\".*\",toUnblock:!1}},{trafficTypes:[\"ADBLOCK\",\"PM\"],rule:{urlRegExp:\"viralize.tv/track\",method:\".*\",toUnblock:!1}},{trafficTypes:[\"!ADBLOCK\",\"PM\"],rule:{urlRegExp:\"viralize.tv/t-bid-opportunity\",method:\".*\",toUnblock:!1}},{trafficTypes:[\"ADBLOCK\"],rule:{urlRegExp:\"ib.adnxs.com/getuid\",method:\".*\",toUnblock:!1}}],video:[],iframe:[],xhr:[],css:[],all:[{trafficTypes:[\"ADBLOCK\",\"PM\"],rule:{urlRegExp:\"https?://[^/]*smartadserver.com[^/]*\",method:\".*\",toUnblock:!0}},{trafficTypes:[\"ADBLOCK\"],rule:{urlRegExp:\"https?://[^/]*ads.stickyadstv.com[^/]*\",method:\".*\",toUnblock:!0}},{trafficTypes:[\"ADBLOCK\",\"PM\"],rule:{urlRegExp:\"https?://[^/]*ad.yieldlab.net[^/]*\",method:\".*\",toUnblock:!0}},{trafficTypes:[\"ADBLOCK\",\"PM\"],rule:{urlRegExp:\"https?://[^/]*rubiconproject.com[^/]*\",method:\".*\",toUnblock:!0}}]},dom:{hiddenElement:[],blockedBackgroundImage:[],iframe:[],anchor:[],playerContainer:[]}}},ip:{v1:{network:{script:[{trafficTypes:[\"ADBLOCK\",\"PM\"],rule:{urlRegExp:\"\\\\\\\\.impactify\\\\\\\\..*/.*\\\\\\\\.js\",method:\".*\",toUnblock:!0}}],image:[],video:[],iframe:[],xhr:[],css:[],all:[]},dom:{hiddenElement:[],blockedBackgroundImage:[],iframe:[],anchor:[],playerContainer:[{trafficTypes:[\"ADBLOCK\",\"PM\"],rule:{selector:\".impactify-AM-player\",toUnblock:!0}}]}}},vb:{v1:{network:{script:[],image:[],video:[],iframe:[],xhr:[],css:[],all:[{trafficTypes:[\"ADBLOCK\"],rule:{urlRegExp:\"https?://[^/]*\\\\\\\\.vlyby\\\\\\\\.com\",method:\".*\",toUnblock:!0}}]},dom:{hiddenElement:[{trafficTypes:[\"ADBLOCK\"],rule:{selector:\"#qimad_0_ima-adf-container\",toUnblock:!1}}],blockedBackgroundImage:[],iframe:[],anchor:[],playerContainer:[{trafficTypes:[\"ADBLOCK\",\"PM\"],rule:{selector:\"#videowrapper_0\",toUnblock:!0}}]}}},pm:{v1:{network:{script:[],image:[],video:[],iframe:[],xhr:[],css:[{trafficTypes:[\"ADBLOCK\",\"PM\"],rule:{urlRegExp:\"https?://[^/]*primis.tech.*primisslate.css\",method:\".*\",toUnblock:!0}}],all:[]},dom:{hiddenElement:[],blockedBackgroundImage:[],iframe:[],anchor:[],playerContainer:[]}}}}},We=e.location.protocol+\"//\"+Ue(\"mxeelh1gh\",-3),Ze=b(\"dHJhbnNmZXJtYXJrdGdtYmg=\"),Oe=b(\"dHJhbnNmZXJtYXJrdGNvbQ==\"),Ge=\"main\",Fe=\"video\",Ne=\"testIframe\",Pe=\"SEKZK\"+b(\"YWRmX2lnbm9yZQ==\"),Le=g(),Xe=new RegExp(\"googlebot/|Googlebot-Mobile|Googlebot-Image|Google favicon|Mediapartners-Google|bingbot|slurp|java|wget|curl|Commons-HttpClient|Python-urllib|libwww|httpunit|nutch|phpcrawl|msnbot|jyxobot|FAST-WebCrawler|FAST Enterprise Crawler|biglotron|teoma|convera|seekbot|gigablast|exabot|ngbot|ia_archiver|GingerCrawler|webmon |httrack|webcrawler|grub.org|UsineNouvelleCrawler|antibot|netresearchserver|speedy|fluffy|bibnum.bnf|findlink|msrbot|panscient|yacybot|AISearchBot|IOI|ips-agent|tagoobot|MJ12bot|dotbot|woriobot|yanga|buzzbot|mlbot|yandexbot|purebot|Linguee Bot|Voyager|CyberPatrol|voilabot|baiduspider|citeseerxbot|spbot|twengabot|postrank|turnitinbot|scribdbot|page2rss|sitebot|linkdex|Adidxbot|blekkobot|ezooms|dotbot|Mail.RU_Bot|discobot|heritrix|findthatfile|europarchive.org|NerdByNature.Bot|sistrix crawler|ahrefsbot|Aboundex|domaincrawler|wbsearchbot|summify|ccbot|edisterbot|seznambot|ec2linkfinder|gslfbot|aihitbot|intelium_bot|facebookexternalhit|yeti|RetrevoPageAnalyzer|lb-spider|sogou|lssbot|careerbot|wotbox|wocbot|ichiro|DuckDuckBot|lssrocketcrawler|drupact|webcompanycrawler|acoonbot|openindexspider|gnam gnam spider|web-archive-net.com.bot|backlinkcrawler|coccoc|integromedb|content crawler spider|toplistbot|seokicks-robot|it2media-domain-crawler|ip-web-crawler.com|siteexplorer.info|elisabot|proximic|changedetection|blexbot|arabot|WeSEE:Search|niki-bot|CrystalSemanticsBot|rogerbot|360Spider|psbot|InterfaxScanBot|Lipperhey SEO Service|CC Metadata Scaper|g00g1e.net|GrapeshotCrawler|urlappendbot|brainobot|fr-crawler|binlar|SimpleCrawler|Livelapbot|Twitterbot|cXensebot|smtbot|bnf.fr_bot|A6-Indexer|ADmantX|Facebot|Twitterbot|OrangeBot|memorybot|AdvBot|MegaIndex|SemanticScholarBot|ltx71|nerdybot|xovibot|BUbiNG|Qwantify|archive.org_bot|Applebot|TweetmemeBot|crawler4j|findxbot|SemrushBot|yoozBot|lipperhey|y!j-asr|Domain Re-Animator Bot|AddThis|unknown|ysearch|web spider|Oberforstmeister|BingPreview|PhantomJS|misc crawler\",\"i\"),He=n(We),Se={consentString:\"\",gdprApplies:\"1\"};e.callNextAdTag=null;var Ke,Je,Ye,Qe,Ae,De,Ce,Be,_e,$e,et,tt,nt,it;if(ce(e.bzwslc84Rnd,Ae),-1===e.location.search.indexOf(\"forceVideoOn=true\")){if(Xe.test(Le))return;if(a(100*f())>=100)return}e.addEventListener(\"message\",function(e){var t=e&&e.data;if(t&&t.to===Fe){var n=e.source,i=t.message&&t.message.type,r=t.message&&t.message.value;switch(i){case\"noAdNoContent\":if(\"iframeAgent\"!==t.from)return;Q(r);break;case\"loadVideoTag\":if(t.from!==Ge)return;switch(tt){case\"toBePrepared\":Ye.push({videoTagParameters:r,caller:n}),ue(r,n);break;case\"preparing\":Ye.push({videoTagParameters:r,caller:n});break;case\"prepared\":fe(r,n),Ke[r.positionId]=function(){fe(r,n)}}break;case\"detection\":if(t.from!==Ge)return;Be=!0,_e=r.ab,$e=r.pm,_e||A();break;case\"newImp\":if(t.from!==Ge)return;ce(r)}}}),e.top.postMessage({from:Fe,to:Ge,message:{type:\"detection\",value:\"request\"}},\"*\"),function(){var t;try{t=e.top.__tcfapi}catch(e){return}\"function\"==typeof t&&t(\"addEventListener\",2,function(e,t){t&&/tcloaded|useractioncomplete/.test(e.eventStatus)&&e.tcString!==Se.consentString&&(Se.consentString=e.tcString||Se.consentString,Se.gdprApplies=e.gdprApplies&&\"1\"||Se.gdprApplies,nt=!0,D()&&(G(),nt=!1))})}(),pe(t)}}(window,document)}());var lt=me(\"head\"),ot=null;if(e.bzwsld254tc={},e.bzwsld254tc.pm=!1,e.bzwsld254tc.pmd=!1,/Firefox/.test(g())||e.bzwsl521Flags.nwlforce)if(-1==g().indexOf(\"Safari\")||e.bzwsl521Flags.nwlforce)if(e.bzwsl521Flags.nwef1lst){if(-1!=g().indexOf(\"Firefox\")){if(!e.bzwsl521Flags.nopmidx)try{var st=e.indexedDB.open(\"test\");st.onerror=function(t){t.preventDefault(),e.bzwslnl=!0,e.bzwsld254tc.pmd=!0,e.bzwsld254tc.pm=!0,A()},st.onsuccess=function(e){e.preventDefault()}}catch(e){}!function(){if(e.bzwsl521Flags.ffshim)var t=0,n=j(function(){try{googletag&&\"2021050601\"==googletag.getVersion()&&void 0===googletag._loaded_?(e.bzwslnl=!0,e.bzwsld254tc.pmd=!0,e.bzwsld254tc.pm=!0,y(n),A()):++t>10&&y(n)}catch(e){++t>10&&y(n)}},500)}()}var dt=!1;Object.keys(e).forEach(function(t){e.hasOwnProperty(t)&&t.match(/^bzwsl.{3}NLRun$/g)&&(dt=e[t])}),dt||e.bzwsl521Flags.nopmnetmon?(e.bzwslnl=!0,e.bzwsld254tc.pmd=!0,A()):(e.bzwsle92NLRun=!0,function(){function t(e,t){if(t.target){var i=t.target.src||\"\";if(\"\"!==i&&-1==i.indexOf(\"chrome-extension://\")){var r=new URL(i).hostname||\"\";if(\"\"!==r){if(t.target.adf_rewritten)return void(Ye(r,n)<0&&n.push(r));Ye(r,e)<0&&e.push(r)}}}}\\nvar n=new Array,i=new Array,r=t.bind(null,n),l=t.bind(null,i);m(document,\"error\",r,!0),m(document,\"load\",l,!0),e.SEKZKnwld={error:{events:n,listener:r},load:{events:i,listener:l}},function(t){document.createElement=function(){var n=t.apply(this,arguments);return m(n,\"error\",e.SEKZKnwld.error.listener,!0),m(n,\"load\",e.SEKZKnwld.load.listener,!0),n}}(document.createElement)}(),function(){function t(){!function(){for(var t=0;t<e.SEKZKnwld.load.events.length;t++){var n=Ye(e.SEKZKnwld.load.events[t],e.SEKZKnwld.error.events);n>-1&&e.SEKZKnwld.error.events.splice(n,1)}}(),e.SEKZKnwld.error.events.length>0&&e.SEKZKnwld.load.events.length>0?Je(e.SEKZKnwld.error.events,e.SEKZKnwld.load.events,Ue(\"22plwvhoi1qhw2wpfrp2Vs]7<;xk:Vr7{Hfvh3<3YkQ3uvHEJ9S:Nil9Xp6KUwSz2\"+e.bzwslc84Rnd+\"YFKjSIywl6HqsluQF{V:{|q3gEWx<z53IoeY5}}p4l\\\\\\\\|<\\\\\\\\h1jli\",-3)):(e.bzwsld254tc.pmd=!0,A())}var n=0,i=0,r=0,l=0,o=0,s=0,d=j(function(){r=e.SEKZKnwld.error.events.size,l=e.SEKZKnwld.load.events.size,n=r+l,o<=10?(n-i==0&&o>0&&s++,s>4&&(y(d),t(),s=0)):(y(d),t()),i=n,o++},500)}())}else e.bzwslnl=!0,e.bzwsld254tc.pmd=!0,A();else;else e.bzwsld254tc.pmd=!0,A();try{e.addEventListener?m(e,b(\"YWRuZGRuZC5pbml0\"),_):e.attachEvent&&e.attachEvent(b(\"YWRuZGRuZC5pbml0\"),_),\"complete\"===t.readyState?_():(-1==g().search(\"Firefox\")&&(t.addEventListener?m(t,b(\"RE9NQ29udGVudExvYWRlZA==\"),_):t.attachEvent&&t.attachEvent(\"onreadystatechange\",function(){\"complete\"===t.readyState&&_()})),m(e,\"load\",_))}catch(e){_()}}catch(e){}}(window,document); /* fd725 */\\n    </script>\\n    <div class=\"werbung werbung-header\">\\n     <script type=\"text/javascript\">\\n      var PWT={}; //Initialize Namespace\\n                var googletag = googletag || {};\\n                googletag.cmd = googletag.cmd || [];\\n                var gptRan = false;\\n                PWT.jsLoaded = function(){ //PubMatic pwt.js on load callback is used to load GPT\\n                    loadGPT();\\n                };\\n                var loadGPT = function() {\\n                    // Check the gptRan flag\\n                    if (!gptRan) {\\n                        gptRan = true;\\n                        var gads = document.createElement(\\'script\\');\\n                        var useSSL = \\'https:\\' == document.location.protocol;\\n                        gads.src = (useSSL ? \\'https:\\' : \\'http:\\') + \\'//securepubads.g.doubleclick.net/tag/js/gpt.js\\';\\n                        var node = document.getElementsByTagName(\\'script\\')[0];\\n                        node.parentNode.insertBefore(gads, node);\\n                    }\\n                };\\n                // Failsafe to call gpt\\n                setTimeout(loadGPT, 500);\\n     </script>\\n     <script type=\"text/javascript\">\\n      (function() {\\n                    var purl = window.location.href;\\n                    var url = \\'//ads.pubmatic.com/AdServer/js/pwt/163229/10103\\';\\n                    var profileVersionId = \\'\\';\\n                    if(purl.indexOf(\\'pwtv=\\')>0){\\n                        var regexp = /pwtv=(.*?)(&|$)/g;\\n                    var matches = regexp.exec(purl);\\n                    if(matches.length >= 2 && matches[1].length > 0){\\n                        profileVersionId = \\'/\\'+matches[1];\\n                    }\\n                }\\n                    var wtads = document.createElement(\\'script\\');\\n                    wtads.async = true;\\n                    wtads.type = \\'text/javascript\\';\\n                    wtads.src = url+profileVersionId+\\'/pwt.js\\';\\n                    var node = document.getElementsByTagName(\\'script\\')[0];\\n                    node.parentNode.insertBefore(wtads, node);\\n                })();\\n     </script>\\n     <!-- Start GPT Tag -->\\n     <script async=\"\" src=\"https://securepubads.g.doubleclick.net/tag/js/gpt.js\">\\n     </script>\\n     <script>\\n      window.googletag = window.googletag || {cmd: []};\\n                  googletag.cmd.push(function() {\\n                    googletag.defineSlot(\"/58778164/Desktop-Billboard-1\", [[960, 90], [970, 250], [950, 90], [728, 90], [970, 90]], \"div-gpt-ad-1621524903956-0\")\\n                    .addService(googletag.pubads());\\n                    googletag.defineSlot(\"/58778164/Desktop-MediumRectangle-1\", [[300, 250], [336, 280]], \"div-gpt-ad-1621526463511-0\")\\n                    .addService(googletag.pubads());\\n                    googletag.defineSlot(\"/58778164/Desktop-Skyscraper-1\", [[160, 600], [336, 280], [300, 250], [300, 600], [120, 600]], \"div-gpt-ad-1621527521939-0\")\\n                    .addService(googletag.pubads());\\n                    googletag.defineSlot(\"/58778164/Desktop-MediumRectangle-2\", [[336, 280], [300, 250]], \"div-gpt-ad-1621528018930-0\")\\n                    .addService(googletag.pubads());\\n                    googletag.defineSlot(\"/58778164/Desktop-Skyscraper-2\",  [[300, 250], [336, 280], [160, 600], [300, 600], [120, 600]], \"div-gpt-ad-1621528123398-0\")\\n                    .addService(googletag.pubads());\\n                    googletag.defineSlot(\"/58778164/Desktop-Billboard-2\",  [[950, 90], [970, 250], [728, 90], [970, 90], [960, 90], [300, 250]], \"div-gpt-ad-1621528173524-0\")\\n                    .addService(googletag.pubads());\\n                     googletag.pubads().enableLazyLoad({\\n                        fetchMarginPercent: 500,\\n                        renderMarginPercent: 200,\\n                        mobileScaling: 2.0});\\n                    googletag.pubads().setCentering(true);\\n                    googletag.pubads().disableInitialLoad();\\n                    googletag.pubads().enableSingleRequest();\\n                    googletag.pubads().setTargeting(\"cg1\", [\"\"]);\\n                    googletag.pubads().setTargeting(\"URL\", \"\");\\n                    googletag.enableServices();\\n                  });\\n     </script>\\n     <!-- End GPT Tag -->\\n    </div>\\n    <script>\\n     !function(e,n){\\n\\t\\tfunction t(e){\\n\\t\\t\\treturn\"object\"==typeof e?JSON.parse(JSON.stringify(e)):e\\n\\t\\t}\\n\\t\\te[n]=e[n]||\\n\\t\\t{\\n\\t\\t\\tnlsQ:function(o,r,c){\\n\\t\\t\\t\\tvar s=e.document,\\n\\t\\t\\t\\ta=s.createElement(\"script\");\\n\\t\\t\\t\\ta.async=1,\\n\\t\\t\\t\\ta.src=(\"http:\"===e.location.protocol?\"http:\":\"https:\")+\"//cdn-gl.nmrodam.com/conf/\"+o+\".js#name=\"+r+\"&ns=\"+n;\\n\\t\\t\\t\\tvar i=s.getElementsByTagName(\"script\")[0];\\n\\t\\t\\t\\treturn i.parentNode.insertBefore(a,i),\\n\\t\\t\\t\\te[n][r]=e[n][r]||{g:c||{},\\n\\t\\t\\t\\tggPM:function(o,c,s,a,i){e[n][r].q=e[n][r].q||[];try{var l=t([o,c,s,a,i]);e[n][r].q.push(l)}catch(e){console&&console.log&&console.log(\"Error: Cannot register event in Nielsen SDK queue.\")}},\\n\\t\\t\\t\\ttrackEvent:function(o){e[n][r].te=e[n][r].te||[];try{var c=t(o);e[n][r].te.push(c)}catch(e){console&&console.log&&console.log(\"Error: Cannot register event in Nielsen SDK queue.\")}}},\\n\\t\\t\\t\\te[n][r]\\n\\t\\t\\t}\\n\\t\\t}\\n\\t}(window,\"NOLBUNDLE\");\\n    var nSdkInstance = NOLBUNDLE.nlsQ(\"PE4A80FAF-20B6-495A-80A9-DF01A093F9EF\",\"nlsnInstance\");\\n    </script>\\n   </link>\\n  </link>\\n </head>\\n <body class=\"\" data-cmp-layer-id=\"225676\" data-tm-tld=\"com\" itemscope=\"\" itemtype=\"http://schema.org/WebPage\">\\n  <tm-language-hint>\\n  </tm-language-hint>\\n  <div id=\"main\">\\n   <div class=\"werbung-skyscraper-container\">\\n    <div class=\"werbung werbung-skyscraper\">\\n     <div id=\"div-gpt-ad-1621527521939-0\" style=\"min-width: 160px; min-height: 250px;\">\\n     </div>\\n     <script>\\n      googletag.cmd.push(function() { googletag.display(\"div-gpt-ad-1621527521939-0\"); });\\n     </script>\\n    </div>\\n   </div>\\n   <div class=\"werbung-skyscraperbtf-container\">\\n    <div class=\"werbung werbung-skyscraperbtf\">\\n     <div id=\"div-gpt-ad-1621528123398-0\" style=\"min-width: 160px; min-height: 250px;\">\\n     </div>\\n     <script>\\n      googletag.cmd.push(function() { googletag.display(\"div-gpt-ad-1621528123398-0\"); });\\n     </script>\\n    </div>\\n   </div>\\n   <header class=\"tm-header\">\\n    <div class=\"tm-header__box\">\\n     <a href=\"/\">\\n      <img alt=\"Transfermarkt\" class=\"icon-logo\" height=\"62\" src=\"https://tmsi.akamaized.net/head/transfermarkt_logo.svg\" title=\"Transfermarkt\" width=\"156\"/>\\n     </a>\\n     <tm-domainswitcher open-list=\"false\" tld=\"com\">\\n     </tm-domainswitcher>\\n     <div class=\"tm-header__social-box\">\\n      <a class=\"header__social-link\" href=\"https://www.facebook.com/Transfermarkt.global\" onclick=\"tmEvent(\\'SM-Icons_Header\\',\\'click\\',\\'Facebook\\');\\n\" target=\"_blank\">\\n       <img class=\"header__icon\" height=\"20\" src=\"https://tmsi.akamaized.net/icons/socialMedia/fb_icon_hover.svg\" width=\"20\"/>\\n      </a>\\n      <a class=\"header__social-link\" href=\"https://twitter.com/TMuk_news\" onclick=\"tmEvent(\\'SM-Icons_Header\\',\\'click\\',\\'Twitter\\');\\n\" target=\"_blank\">\\n       <img class=\"header__icon\" height=\"20\" src=\"https://tmsi.akamaized.net/icons/socialMedia/twitter_icon_hover.svg\" width=\"20\"/>\\n      </a>\\n      <a class=\"header__social-link\" href=\"http://instagram.com/transfermarkt_official\" onclick=\"tmEvent(\\'SM-Icons_Header\\',\\'click\\',\\'Instagram\\');\\n\" target=\"_blank\">\\n       <img class=\"header__icon\" height=\"20\" src=\"https://tmsi.akamaized.net/icons/socialMedia/instagram_icon_hover.svg\" width=\"20\"/>\\n      </a>\\n      <a class=\"header__social-link\" href=\"/intern/rssguide\" onclick=\"tmEvent(\\'SM-Icons_Header\\',\\'click\\',\\'RSS\\');\\n\" target=\"_blank\">\\n       <img class=\"header__icon\" height=\"20\" src=\"https://tmsi.akamaized.net/icons/socialMedia/rss_icon_hover.svg\" width=\"20\"/>\\n      </a>\\n      <a class=\"header__social-link\" href=\"https://www.tiktok.com/@transfermarkt\" onclick=\"tmEvent(\\'SM-Icons_Header\\',\\'click\\',\\'Tiktok\\');\\n\" target=\"_blank\">\\n       <img class=\"header__icon\" height=\"20\" src=\"https://tmsi.akamaized.net/icons/tiktok.svg\" width=\"20\"/>\\n      </a>\\n     </div>\\n     <div class=\"tm-header__input-wrapper\" id=\"schnellsuche-platz\">\\n      <form action=\"/schnellsuche/ergebnis/schnellsuche\" class=\"tm-header__form\" id=\"schnellsuche\" name=\"schnellsuche\">\\n       <input autocorrect=\"off\" class=\"tm-header__input--search-field\" name=\"query\" onclick=\"\" placeholder=\"Enter search term\" spellcheck=\"false\" type=\"text\" value=\"\"/>\\n       <input alt=\"search\" class=\"tm-header__input--search-send\" type=\"submit\" value=\"\"/>\\n      </form>\\n      <a class=\"tm-header__search-detail\" href=\"/detailsuche/spielerdetail/suche\" id=\"detailsuche-head\" title=\"To the player detail search\">\\n       <img alt=\"search\" class=\"tm-header__icon-detail-search\" height=\"26\" src=\"https://tmsi.akamaized.net/icons/search_icon_plus_blue_white.svg\" width=\"26\"/>\\n      </a>\\n     </div>\\n    </div>\\n    <nav class=\"main-navbar navihalter\">\\n     <ul class=\"main-navbar__container megamenu_dark_bar megamenu_dark\" itemscope=\"itemscope\" itemtype=\"http://www.schema.org/SiteNavigationElement\">\\n      <a class=\"sticky-logo hide-for-small\" href=\"/\">\\n       <span class=\"tm_svg\" title=\"Transfermarkt\">\\n       </span>\\n      </a>\\n      <li class=\"main-navbar__list\" data-nav-group=\"news\">\\n       <span class=\"main-navbar__list-title tm-main-nav-el\" onclick=\"tmEvent(\\'News\\',\\'click\\',\\'menu\\');\\n\">\\n        News\\n       </span>\\n       <div class=\"main-navbar__drop-down\">\\n        <img class=\"navigation-loading-spinner\" height=\"40\" src=\"https://tmsi.akamaized.net/icons/tm_spinner_inverted.min.svg\" width=\"40\">\\n        </img>\\n       </div>\\n       <li class=\"main-navbar__list\" data-nav-group=\"transfers\">\\n        <span class=\"main-navbar__list-title tm-main-nav-el\" onclick=\"tmEvent(\\'Transfers &amp; Gerüchte\\',\\'click\\',\\'menu\\');\\n\">\\n         Transfers &amp; rumours\\n        </span>\\n        <div class=\"main-navbar__drop-down\">\\n         <img class=\"navigation-loading-spinner\" height=\"40\" src=\"https://tmsi.akamaized.net/icons/tm_spinner_inverted.min.svg\" width=\"40\">\\n         </img>\\n        </div>\\n        <li class=\"main-navbar__list\" data-nav-group=\"marktwerte\">\\n         <span class=\"main-navbar__list-title tm-main-nav-el\" onclick=\"tmEvent(\\'Marktwerte\\',\\'click\\',\\'menu\\');\\n\">\\n          Market values\\n         </span>\\n         <div class=\"main-navbar__drop-down\">\\n          <img class=\"navigation-loading-spinner\" height=\"40\" src=\"https://tmsi.akamaized.net/icons/tm_spinner_inverted.min.svg\" width=\"40\">\\n          </img>\\n         </div>\\n         <li class=\"main-navbar__list aktiv\" data-nav-group=\"wettbewerbe\">\\n          <span class=\"main-navbar__list-title tm-main-nav-el\" onclick=\"tmEvent(\\'Wettbewerbe\\',\\'click\\',\\'menu\\');\\n\">\\n           Competitions\\n          </span>\\n          <div class=\"main-navbar__drop-down\">\\n           <img class=\"navigation-loading-spinner\" height=\"40\" src=\"https://tmsi.akamaized.net/icons/tm_spinner_inverted.min.svg\" width=\"40\">\\n           </img>\\n          </div>\\n          <li class=\"main-navbar__list\" data-nav-group=\"foren\">\\n           <a class=\"main-navbar__list-title tm-main-nav-el\" href=\"/uebersicht/index/forum/com\" onclick=\"tmEvent(\\'Foren\\',\\'click\\',\\'menu\\');\\n\">\\n            Forums\\n           </a>\\n           <div class=\"main-navbar__drop-down\">\\n            <img class=\"navigation-loading-spinner\" height=\"40\" src=\"https://tmsi.akamaized.net/icons/tm_spinner_inverted.min.svg\" width=\"40\">\\n            </img>\\n           </div>\\n           <li class=\"main-navbar__list\" data-nav-group=\"meintm\">\\n            <span class=\"main-navbar__list-title tm-main-nav-el\" onclick=\"tmEvent(\\'MeinTM\\',\\'click\\',\\'menu\\');\\n\">\\n             My TM\\n            </span>\\n            <div class=\"main-navbar__drop-down\">\\n             <img class=\"navigation-loading-spinner\" height=\"40\" src=\"https://tmsi.akamaized.net/icons/tm_spinner_inverted.min.svg\" width=\"40\">\\n             </img>\\n            </div>\\n            <li class=\"main-navbar__list\">\\n             <a class=\"main-navbar__list-title tm-main-nav-el live-navilink\" href=\"/ticker/index/live\" onclick=\"tmEvent(\\'Live\\',\\'click\\',\\'menu\\');\\n\">\\n              Live\\n              <tm-live-match-counter auto-request=\"true\" content=\\'[\"Live match\", \"live matches\"]\\'>\\n              </tm-live-match-counter>\\n             </a>\\n            </li>\\n           </li>\\n          </li>\\n         </li>\\n        </li>\\n       </li>\\n      </li>\\n     </ul>\\n     <form action=\"/schnellsuche/ergebnis/schnellsuche\" class=\"noclose sticky-suche\" id=\"schnellsuche-sticky\" name=\"schnellsuche\">\\n      <input class=\"header-suche\" name=\"query\" onclick=\"\" placeholder=\"Enter search term\" type=\"text\"/>\\n      <input alt=\"search\" class=\"header-suche-abschicken\" src=\"https://tmssl.akamaized.net//images/suchicon.png\" type=\"image\"/>\\n     </form>\\n     <a class=\"header-suche-detailsuche\" href=\"/detailsuche/spielerdetail/suche\" id=\"detailsuche-head\" title=\"To the player detail search\">\\n      <span class=\"icon-detailsuche\">\\n      </span>\\n     </a>\\n     <a href=\"#\" id=\"arrow-up-xy\">\\n      <svg enable-background=\"new 0 0 100 100\" height=\"100px\" id=\"Layer_1\" style=\"fill: white; width: 20px; height: 20px;\" version=\"1.1\" viewbox=\"0 0 100 100\" width=\"100px\" x=\"0px\" xml:space=\"preserve\" xmlns=\"http://www.w3.org/2000/svg\" xmlns:xlink=\"http://www.w3.org/1999/xlink\" y=\"0px\">\\n       <g>\\n        <path d=\"M78.016,49.132L51.961,12.714c-0.471-0.66-1.233-1.049-2.043-1.051c-0.006,0-0.006,0-0.006,0\\n                                c-0.815,0.002-1.575,0.396-2.048,1.059L21.977,49.14c-0.546,0.767-0.616,1.776-0.183,2.612c0.426,0.835,1.292,1.361,2.236,1.361\\n                                h12.183l-0.001,32.709c0,1.39,1.125,2.515,2.516,2.515l22.541-0.001c1.389,0.001,2.515-1.124,2.516-2.517l0-32.705h12.187\\n                                c0.94,0,1.803-0.53,2.237-1.367C78.641,50.911,78.566,49.9,78.016,49.132z\">\\n        </path>\\n       </g>\\n      </svg>\\n     </a>\\n     <div class=\"tm-login\" id=\"login\" onclick=\"tmEvent(\\'login\\',\\'click\\',\\'sign_in_button\\');\\n\">\\n      <svg class=\"tm-login__image\" enable-background=\"new 0 0 100 100\" fill=\"#FFF\" height=\"100px\" id=\"Layer_1\" version=\"1.1\" viewbox=\"0 0 100 100\" width=\"100px\" x=\"0px\" xml:space=\"preserve\" xmlns=\"http://www.w3.org/2000/svg\" xmlns:xlink=\"http://www.w3.org/1999/xlink\" y=\"0px\">\\n       <g>\\n        <path d=\"M80.161,60.441l-15.66-7.47l-6.622-3.159c2.892-1.822,5.241-4.634,6.778-8.022c1.22-2.69,1.946-5.734,1.946-8.99\\n                c0-1.827-0.29-3.562-0.694-5.236C63.94,19.453,57.605,13.477,50,13.477c-7.461,0-13.701,5.763-15.792,13.645\\n                c-0.482,1.808-0.815,3.688-0.815,5.68c0,3.459,0.808,6.684,2.181,9.489c1.587,3.254,3.94,5.937,6.804,7.662l-6.342,2.953\\n                l-16.168,7.53c-1.404,0.658-2.327,2.242-2.327,4.011v15.062v2.703c0,2.381,1.659,4.312,3.708,4.312h57.505\\n                c2.048,0,3.708-1.93,3.708-4.312v-2.703V64.446C82.46,62.683,81.552,61.114,80.161,60.441z\">\\n        </path>\\n       </g>\\n      </svg>\\n      <span class=\"tm-login__cta\">\\n       Log in\\n      </span>\\n     </div>\\n    </nav>\\n    <div class=\"quick-select-wrapper\">\\n     <div class=\"ssc\" id=\"quickselect-skeleton\" style=\"height: 40px;\">\\n      <div class=\"ssc-wrapper flex\" style=\"height: 100%; padding: 0\">\\n       <div class=\"ssc-square quickselect-element\" style=\"width: 40px;\">\\n       </div>\\n       <div class=\"ssc-square quickselect-element quickselect-selector\" style=\"width: 171.06px;\">\\n       </div>\\n       <div class=\"ssc-square quickselect-element quickselect-selector\" style=\"width: 170.84px;\">\\n       </div>\\n       <div class=\"ssc-square quickselect-element quickselect-selector\" style=\"width: 138.03px;\">\\n       </div>\\n       <div class=\"ssc-square quickselect-element quickselect-selector\" style=\"width: 141.5px;\">\\n       </div>\\n      </div>\\n     </div>\\n     <tm-quick-select-bar default-club=\"\" default-competition=\"L1\" default-country=\"40\" default-player=\"\" dropdown-visible=\"\" translations=\\'{\"home\":\"Home\",\"country\":\"Country\",\"competition\":\"Competition\",\"club\":\"Club\",\"player\":\"Player\",\"attack\":\"Attack\",\"midfield\":\"Midfield\",\"defense\":\"Defence\",\"goalkeeper\":\"Goalkeeper\"}\\'>\\n     </tm-quick-select-bar>\\n    </div>\\n    <div class=\"werbung werbung-billboard\">\\n     <div id=\"div-gpt-ad-1621524903956-0\" style=\"min-width: 728px; min-height: 90px;\">\\n     </div>\\n     <script>\\n      googletag.cmd.push(function() { googletag.display(\"div-gpt-ad-1621524903956-0\"); });\\n     </script>\\n    </div>\\n   </header>\\n   <main>\\n    <header class=\"data-header\">\\n     <div class=\"data-header__headline-container\">\\n      <div class=\"data-header__headline-wrapper data-header__headline-wrapper--oswald\">\\n       Bundesliga\\n      </div>\\n     </div>\\n     <div class=\"data-header__box--big\">\\n      <a class=\"data-header__box__club-link\" href=\"/wettbewerbe/national/wettbewerbe/40\">\\n       <img alt=\"\\n                Germany\" class=\"data-header__box__flag\" height=\"80\" src=\"https://tmssl.akamaized.net/images/flagge/headerRund/40.png?lm=1520612525\" width=\"80\"/>\\n      </a>\\n      <div class=\"data-header__club-info\">\\n       <span class=\"data-header__club\" itemprop=\"affiliation\">\\n        <a href=\"/wettbewerbe/national/wettbewerbe/40\">\\n         Germany\\n        </a>\\n       </span>\\n       <span class=\"data-header__label\">\\n        League level:\\n        <span class=\"data-header__content\" itemprop=\"dataItem\">\\n         First Tier\\n        </span>\\n       </span>\\n       <span class=\"data-header__label\">\\n        Reigning champion:\\n        <span class=\"data-header__content\" itemprop=\"dataItem\">\\n         <a href=\"/bayern-munich/startseite/verein/27\" title=\"Bayern Munich\">\\n          Bayern Munich\\n         </a>\\n        </span>\\n       </span>\\n       <span class=\"data-header__label\">\\n        Record-holding champions:\\n        <span class=\"data-header__content\" itemprop=\"dataItem\">\\n         <a href=\"/bayern-munich/startseite/verein/27\" title=\"Bayern Munich\">\\n          Bayern Munich\\n         </a>\\n         <span class=\"data-header__content\">\\n          32\\n         </span>\\n         <span class=\"data-header__content\">\\n          time(s)\\n         </span>\\n        </span>\\n       </span>\\n       <span class=\"data-header__label\">\\n        UEFA coefficient:\\n        <span class=\"data-header__content\" itemprop=\"dataItem\">\\n         <a href=\"/uefa/5jahreswertung/statistik\">\\n          3. Pos.\\n         </a>\\n         <span class=\"data-header__content\">\\n          82.481\\n         </span>\\n         <span class=\"data-header__content\">\\n          Points\\n         </span>\\n        </span>\\n       </span>\\n      </div>\\n     </div>\\n     <div class=\"data-header__profile-container\">\\n      <img alt=\"Bundesliga\" class=\"\" src=\"https://tmssl.akamaized.net/images/logo/header/l1.png?lm=1525905518\" title=\"Bundesliga\">\\n      </img>\\n     </div>\\n     <div class=\"data-header__info-box\">\\n      <div class=\"data-header__details\">\\n       <ul class=\"data-header__items\">\\n        <li class=\"data-header__label\">\\n         Number of teams:\\n         <span class=\"data-header__content\" itemprop=\"dataItem\">\\n          18 teams\\n         </span>\\n        </li>\\n        <li class=\"data-header__label\">\\n         Players:\\n         <span class=\"data-header__content\" itemprop=\"dataItem\">\\n          519\\n         </span>\\n        </li>\\n        <li class=\"data-header__label\">\\n         Foreigners:\\n         <span class=\"data-header__content\" itemprop=\"dataItem\">\\n          <a href=\"/bundesliga/gastarbeiter/wettbewerb/L1\">\\n           274\\xa0Players\\n          </a>\\n          <span class=\"tabellenplatz\">\\n           52.8%\\n          </span>\\n         </span>\\n        </li>\\n       </ul>\\n       <ul class=\"data-header__items\">\\n        <li class=\"data-header__label\">\\n         ø-Market value:\\n         <span class=\"data-header__content\" itemprop=\"dataItem\">\\n          €8.34m\\n         </span>\\n        </li>\\n        <li class=\"data-header__label\">\\n         ø-Age:\\n         <span class=\"data-header__content\" itemprop=\"dataItem\">\\n          26.2\\n         </span>\\n        </li>\\n       </ul>\\n      </div>\\n     </div>\\n    </header>\\n    <script>\\n     !function(t,$,e,s,i,a,o){$[t]||($[t]={init:function(){_(\"i\",arguments)},fetchBids:function(){_(\"f\",arguments)},setDisplayBids:function(){},targetingKeys:function(){return[]},_Q:[]},(a=e.createElement(s)).async=!0,a.src=i,(o=e.getElementsByTagName(s)[0]).parentNode.insertBefore(a,o));function _(e,s){$[t]._Q.push([e,s])}}(\"apstag\",window,document,\"script\",\"//c.amazon-adsystem.com/aax2/apstag.js\"),apstag.init({pubID:\"5134\",adServer:\"googletag\"});const initAmazonAdBids=(t,$)=>{($&&\"tcloaded\"===t.eventStatus||\"useractioncomplete\"===t.eventStatus)&&apstag.fetchBids(\\n                                    {slots:[\\n                                        {slotID:\"div-gpt-ad-1621524903956-0\",slotName:\"58778164/Desktop-Billboard-1\",sizes:[[960,90],[970,250],[950,90],[728,90],[970,90],]},\\n                                        {slotID:\"div-gpt-ad-1621526463511-0\",slotName:\"58778164/Desktop-MediumRectangle-1\",sizes:[[300,250],[336,280],]},\\n                                        {slotID:\"div-gpt-ad-1621527521939-0\",slotName:\"58778164/Desktop-Skyscraper-1\",sizes:[[160,600],[336,280],[300,250],[300,600],[120, 600],]},\\n                                        {slotID:\"div-gpt-ad-1621528018930-0\",slotName:\"58778164/Desktop-MediumRectangle-2\",sizes:[[336,280],[300,250],]},\\n                                        {slotID:\"div-gpt-ad-1621528123398-0\",slotName:\"58778164/Desktop-Skyscraper-2\",sizes:[[300,250],[336,280],[160,600],[300,600], [120, 600],]},\\n                                        {slotID:\"div-gpt-ad-1621528173524-0\",slotName:\"58778164/Desktop-Billboard-2\",sizes:[[950,90],[970,250],[728,90],[970,90],[960,90], [300, 250],]},\\n                                        {slotID:\"div-gpt-ad-1621534289296-0\",slotName:\"58778164/Mobile-MediumRectangle-1\",sizes:[[300,100],[300,250],]},\\n                                        {slotID:\"div-gpt-ad-1679341468193-0\",slotName:\"58778164/Mobile-MediumRectangle-2\",sizes:[[300, 250], [320, 50], [250, 250], [300, 100], [336, 280],]},\\n                                        {slotID:\"div-gpt-ad-1621534369294-0\",slotName:\"58778164/Mobile-Halfpage-1\",sizes:[[300,600],[300,250],]},\\n                                        {slotID:\"div-gpt-ad-1621534432829-0\",slotName:\"58778164/Mobile-Sticky\",sizes:[[300,50],[320,50],]},],timeout:2e3},\\n                                        function(t){googletag.cmd.push(function(){apstag.setDisplayBids(),googletag.pubads().refresh()})})};\"function\"==typeof window.__tcfapi&&window.__tcfapi(\"addEventListener\",2,initAmazonAdBids);\\n    </script>\\n    <a class=\"db mt10\" href=\"https://www.transfermarkt.com/upgrade-or-downgrade-have-your-say-on-the-new-market-values-of-mac-allister-sancho-amp-co-/view/news/421602\" onclick=\"tmEvent(\\'banner\\', \\'https://www.transfermarkt.com/upgrade-or-downgrade-have-your-say-on-the-new-market-values-of-mac-allister-sancho-amp-co-/view/news/421602\\', \\'d-day-banner\\');\">\\n     <img alt=\"deadline-day banner\" height=\"99\" src=\"https://dzjovqk3zamsg.cloudfront.net/MVU_Analysis_PremierLeague_Banner_Desktop_2.jpg\" width=\"1034\"/>\\n    </a>\\n    <div class=\"row hide-on-print\" data-action=\"kreuztabelle\" data-controller=\"wettbewerb\" data-id=\"L1\" data-path=\"bundesliga/kreuztabelle/wettbewerb/L1/saison_id/2021\" data-season=\"2021\" id=\"subnavi\">\\n     <div class=\"page_wrapper subnavi\">\\n      <div class=\"large-12 columns\">\\n       <div class=\"subnavi_box\" id=\"subnavigation\">\\n        <div class=\"submenu-text show-for-small\">\\n         <a name=\"SubNavi\" title=\"Navigation\">\\n          <span>\\n           ≡ Sub menu\\n          </span>\\n         </a>\\n        </div>\\n        <nav>\\n         <ul id=\"submenu\">\\n          <li class=\"show-for-small\" id=\"close_submenu\">\\n           <div id=\"submenu-icon\">\\n            <span class=\"clicked\">\\n            </span>\\n            <span class=\"clicked\">\\n            </span>\\n           </div>\\n           <a>\\n            Close menu\\n           </a>\\n          </li>\\n          <li class=\"first-button\" data-nav-group=\"overview\" id=\"overview\">\\n           <a class=\"tm-subnav-item megamenu\" href=\"/bundesliga/startseite/wettbewerb/L1/saison_id/2021\" name=\"SubNavi\" onclick=\"tmEvent(\\'subnavigation_wettbewerb\\',\\'click\\',\\'title_uebersicht\\');\\n\">\\n            Overview\\n           </a>\\n          </li>\\n          <li class=\"\" data-nav-group=\"tables\" id=\"tables\">\\n           <a class=\"tm-subnav-item megamenu_drop\" href=\"#subnavi\" name=\"SubNavi\" onclick=\"tmEvent(\\'subnavigation_wettbewerb\\',\\'click\\',\\'tabellen\\');\\n\">\\n            Tables\\n           </a>\\n           <div class=\"dropdown_fullwidth\" title=\"\">\\n            <div>\\n             <img class=\"navigation-loading-spinner\" height=\"40\" src=\"https://tmsi.akamaized.net/icons/tm_spinner_inverted.min.svg\" width=\"40\"/>\\n            </div>\\n           </div>\\n          </li>\\n          <li class=\"\" data-nav-group=\"transfers\" id=\"transfers\">\\n           <a class=\"tm-subnav-item megamenu_drop\" href=\"#subnavi\" name=\"SubNavi\" onclick=\"tmEvent(\\'subnavigation_wettbewerb\\',\\'click\\',\\'title_transfers\\');\\n\">\\n            Transfers\\n           </a>\\n           <div class=\"dropdown_fullwidth\" title=\"\">\\n            <div>\\n             <img class=\"navigation-loading-spinner\" height=\"40\" src=\"https://tmsi.akamaized.net/icons/tm_spinner_inverted.min.svg\" width=\"40\"/>\\n            </div>\\n           </div>\\n          </li>\\n          <li class=\"\" data-nav-group=\"market-values\" id=\"market-values\">\\n           <a class=\"tm-subnav-item megamenu_drop\" href=\"#subnavi\" name=\"SubNavi\" onclick=\"tmEvent(\\'subnavigation_wettbewerb\\',\\'click\\',\\'title_marktwerte\\');\\n\">\\n            Market Values\\n           </a>\\n           <div class=\"dropdown_fullwidth\" title=\"\">\\n            <div>\\n             <img class=\"navigation-loading-spinner\" height=\"40\" src=\"https://tmsi.akamaized.net/icons/tm_spinner_inverted.min.svg\" width=\"40\"/>\\n            </div>\\n           </div>\\n          </li>\\n          <li class=\"\" data-nav-group=\"players\" id=\"players\">\\n           <a class=\"tm-subnav-item megamenu_drop\" href=\"#subnavi\" name=\"SubNavi\" onclick=\"tmEvent(\\'subnavigation_wettbewerb\\',\\'click\\',\\'title_spieler\\');\\n\">\\n            Players\\n           </a>\\n           <div class=\"dropdown_fullwidth\" title=\"\">\\n            <div>\\n             <img class=\"navigation-loading-spinner\" height=\"40\" src=\"https://tmsi.akamaized.net/icons/tm_spinner_inverted.min.svg\" width=\"40\"/>\\n            </div>\\n           </div>\\n          </li>\\n          <li class=\"\" data-nav-group=\"clubs\" id=\"clubs\">\\n           <a class=\"tm-subnav-item megamenu_drop\" href=\"#subnavi\" name=\"SubNavi\" onclick=\"tmEvent(\\'subnavigation_wettbewerb\\',\\'click\\',\\'title_vereine\\');\\n\">\\n            Clubs\\n           </a>\\n           <div class=\"dropdown_fullwidth\" title=\"\">\\n            <div>\\n             <img class=\"navigation-loading-spinner\" height=\"40\" src=\"https://tmsi.akamaized.net/icons/tm_spinner_inverted.min.svg\" width=\"40\"/>\\n            </div>\\n           </div>\\n          </li>\\n          <li class=\"\" data-nav-group=\"information-amp-facts\" id=\"information-amp-facts\">\\n           <a class=\"tm-subnav-item megamenu_drop\" href=\"#subnavi\" name=\"SubNavi\" onclick=\"tmEvent(\\'subnavigation_wettbewerb\\',\\'click\\',\\'daten_und_fakten\\');\\n\">\\n            Information &amp; facts\\n           </a>\\n           <div class=\"dropdown_fullwidth\" title=\"\">\\n            <div>\\n             <img class=\"navigation-loading-spinner\" height=\"40\" src=\"https://tmsi.akamaized.net/icons/tm_spinner_inverted.min.svg\" width=\"40\"/>\\n            </div>\\n           </div>\\n          </li>\\n          <li class=\"\" data-nav-group=\"history\" id=\"history\">\\n           <a class=\"tm-subnav-item megamenu_drop\" href=\"#subnavi\" name=\"SubNavi\" onclick=\"tmEvent(\\'subnavigation_wettbewerb\\',\\'click\\',\\'title_historie\\');\\n\">\\n            History\\n           </a>\\n           <div class=\"dropdown_fullwidth\" title=\"\">\\n            <div>\\n             <img class=\"navigation-loading-spinner\" height=\"40\" src=\"https://tmsi.akamaized.net/icons/tm_spinner_inverted.min.svg\" width=\"40\"/>\\n            </div>\\n           </div>\\n          </li>\\n          <li class=\"\" data-nav-group=\"news\" id=\"news\">\\n           <a class=\"tm-subnav-item megamenu\" href=\"/bundesliga/news/wettbewerb/L1\" name=\"SubNavi\" onclick=\"tmEvent(\\'subnavigation_wettbewerb\\',\\'click\\',\\'title_news\\');\\n\">\\n            News\\n           </a>\\n          </li>\\n         </ul>\\n        </nav>\\n       </div>\\n      </div>\\n     </div>\\n    </div>\\n    <script>\\n     var stickySubTop = $(\\'#subnavigation\\').offset().top;\\n        stickySubTop = stickySubTop - 60;\\n        var main = $(\"#main\");\\n        $(document).ready(function() {\\n            $(window).on(\\'scroll load\\', function() {\\n                if (!main.hasClass(\"stickySubnavigation\")) {\\n                    stickySubTop = $(\\'#subnavigation\\').offset().top;\\n                }\\n                if ($(window).scrollTop() > stickySubTop) {\\n                    main.addClass(\"stickySubnavigation\");\\n                } else {\\n                    main.removeClass(\"stickySubnavigation\");\\n                }\\n            });\\n        });\\n    </script>\\n    <style>\\n     .forum-anchor {\\n            margin-top: -80px;\\n        }\\n    </style>\\n    <div class=\"row\">\\n     <div class=\"large-12 columns\">\\n      <div class=\"box\">\\n       <h1 class=\"content-box-headline\">\\n        Results Grid\\n       </h1>\\n       <p class=\"info-content\">\\n        Results Grid\\n       </p>\\n       <form class=\"js-switcher\">\\n        <div class=\"row\">\\n         <div class=\"large-12 columns\">\\n          <table class=\"auflistung\">\\n           <tbody>\\n            <tr>\\n             <td>\\n              Filter by Season:\\n             </td>\\n             <td>\\n              <div class=\"inline-select\">\\n               <select class=\"chzn-select\" data-placeholder=\"Eine Saison auswählen\" name=\"saison_id\" tabindex=\"0\">\\n                <option value=\"2022\">\\n                 22/23\\n                </option>\\n                <option selected=\"selected\" value=\"2021\">\\n                 21/22\\n                </option>\\n                <option value=\"2020\">\\n                 20/21\\n                </option>\\n                <option value=\"2019\">\\n                 19/20\\n                </option>\\n                <option value=\"2018\">\\n                 18/19\\n                </option>\\n                <option value=\"2017\">\\n                 17/18\\n                </option>\\n                <option value=\"2016\">\\n                 16/17\\n                </option>\\n                <option value=\"2015\">\\n                 15/16\\n                </option>\\n                <option value=\"2014\">\\n                 14/15\\n                </option>\\n                <option value=\"2013\">\\n                 13/14\\n                </option>\\n                <option value=\"2012\">\\n                 12/13\\n                </option>\\n                <option value=\"2011\">\\n                 11/12\\n                </option>\\n                <option value=\"2010\">\\n                 10/11\\n                </option>\\n                <option value=\"2009\">\\n                 09/10\\n                </option>\\n                <option value=\"2008\">\\n                 08/09\\n                </option>\\n                <option value=\"2007\">\\n                 07/08\\n                </option>\\n                <option value=\"2006\">\\n                 06/07\\n                </option>\\n                <option value=\"2005\">\\n                 05/06\\n                </option>\\n                <option value=\"2004\">\\n                 04/05\\n                </option>\\n                <option value=\"2003\">\\n                 03/04\\n                </option>\\n                <option value=\"2002\">\\n                 02/03\\n                </option>\\n                <option value=\"2001\">\\n                 01/02\\n                </option>\\n                <option value=\"2000\">\\n                 00/01\\n                </option>\\n                <option value=\"1999\">\\n                 99/00\\n                </option>\\n                <option value=\"1998\">\\n                 98/99\\n                </option>\\n                <option value=\"1997\">\\n                 97/98\\n                </option>\\n                <option value=\"1996\">\\n                 96/97\\n                </option>\\n                <option value=\"1995\">\\n                 95/96\\n                </option>\\n                <option value=\"1994\">\\n                 94/95\\n                </option>\\n                <option value=\"1993\">\\n                 93/94\\n                </option>\\n                <option value=\"1992\">\\n                 92/93\\n                </option>\\n                <option value=\"1991\">\\n                 91/92\\n                </option>\\n                <option value=\"1990\">\\n                 90/91\\n                </option>\\n                <option value=\"1989\">\\n                 89/90\\n                </option>\\n                <option value=\"1988\">\\n                 88/89\\n                </option>\\n                <option value=\"1987\">\\n                 87/88\\n                </option>\\n                <option value=\"1986\">\\n                 86/87\\n                </option>\\n                <option value=\"1985\">\\n                 85/86\\n                </option>\\n                <option value=\"1984\">\\n                 84/85\\n                </option>\\n                <option value=\"1983\">\\n                 83/84\\n                </option>\\n                <option value=\"1982\">\\n                 82/83\\n                </option>\\n                <option value=\"1981\">\\n                 81/82\\n                </option>\\n                <option value=\"1980\">\\n                 80/81\\n                </option>\\n                <option value=\"1979\">\\n                 79/80\\n                </option>\\n                <option value=\"1978\">\\n                 78/79\\n                </option>\\n                <option value=\"1977\">\\n                 77/78\\n                </option>\\n                <option value=\"1976\">\\n                 76/77\\n                </option>\\n                <option value=\"1975\">\\n                 75/76\\n                </option>\\n                <option value=\"1974\">\\n                 74/75\\n                </option>\\n                <option value=\"1973\">\\n                 73/74\\n                </option>\\n                <option value=\"1972\">\\n                 72/73\\n                </option>\\n                <option value=\"1971\">\\n                 71/72\\n                </option>\\n                <option value=\"1970\">\\n                 70/71\\n                </option>\\n                <option value=\"1969\">\\n                 69/70\\n                </option>\\n                <option value=\"1968\">\\n                 68/69\\n                </option>\\n                <option value=\"1967\">\\n                 67/68\\n                </option>\\n                <option value=\"1966\">\\n                 66/67\\n                </option>\\n                <option value=\"1965\">\\n                 65/66\\n                </option>\\n                <option value=\"1964\">\\n                 64/65\\n                </option>\\n                <option value=\"1963\">\\n                 63/64\\n                </option>\\n               </select>\\n              </div>\\n             </td>\\n            </tr>\\n           </tbody>\\n          </table>\\n         </div>\\n        </div>\\n       </form>\\n       <div class=\"responsive-table\">\\n        <table class=\"kreuztabelle\">\\n         <tr>\\n          <td>\\n          </td>\\n          <td>\\n           <a href=\"/fc-bayern-munchen/startseite/verein/27/saison_id/2021\" title=\"Bayern Munich\">\\n            <img alt=\"Bayern Munich\" class=\"tiny_wappen\" src=\"https://tmssl.akamaized.net/images/wappen/tiny/27.png?lm=1498251238\" title=\"Bayern Munich\"/>\\n           </a>\\n          </td>\\n          <td>\\n           <a href=\"/borussia-dortmund/startseite/verein/16/saison_id/2021\" title=\"Borussia Dortmund\">\\n            <img alt=\"Borussia Dortmund\" class=\"tiny_wappen\" src=\"https://tmssl.akamaized.net/images/wappen/tiny/16.png?lm=1396275280\" title=\"Borussia Dortmund\"/>\\n           </a>\\n          </td>\\n          <td>\\n           <a href=\"/bayer-04-leverkusen/startseite/verein/15/saison_id/2021\" title=\"Bayer 04 Leverkusen\">\\n            <img alt=\"Bayer 04 Leverkusen\" class=\"tiny_wappen\" src=\"https://tmssl.akamaized.net/images/wappen/tiny/15.png?lm=1651221781\" title=\"Bayer 04 Leverkusen\"/>\\n           </a>\\n          </td>\\n          <td>\\n           <a href=\"/rasenballsport-leipzig/startseite/verein/23826/saison_id/2021\" title=\"RB Leipzig\">\\n            <img alt=\"RB Leipzig\" class=\"tiny_wappen\" src=\"https://tmssl.akamaized.net/images/wappen/tiny/23826.png?lm=1619431624\" title=\"RB Leipzig\"/>\\n           </a>\\n          </td>\\n          <td>\\n           <a href=\"/1-fc-union-berlin/startseite/verein/89/saison_id/2021\" title=\"1.FC Union Berlin\">\\n            <img alt=\"1.FC Union Berlin\" class=\"tiny_wappen\" src=\"https://tmssl.akamaized.net/images/wappen/tiny/89.png?lm=1402956210\" title=\"1.FC Union Berlin\"/>\\n           </a>\\n          </td>\\n          <td>\\n           <a href=\"/sc-freiburg/startseite/verein/60/saison_id/2021\" title=\"SC Freiburg\">\\n            <img alt=\"SC Freiburg\" class=\"tiny_wappen\" src=\"https://tmssl.akamaized.net/images/wappen/tiny/60.png?lm=1517249279\" title=\"SC Freiburg\"/>\\n           </a>\\n          </td>\\n          <td>\\n           <a href=\"/1-fc-koln/startseite/verein/3/saison_id/2021\" title=\"1.FC Köln\">\\n            <img alt=\"1.FC Köln\" class=\"tiny_wappen\" src=\"https://tmssl.akamaized.net/images/wappen/tiny/3.png?lm=1656580823\" title=\"1.FC Köln\"/>\\n           </a>\\n          </td>\\n          <td>\\n           <a href=\"/1-fsv-mainz-05/startseite/verein/39/saison_id/2021\" title=\"1.FSV Mainz 05\">\\n            <img alt=\"1.FSV Mainz 05\" class=\"tiny_wappen\" src=\"https://tmssl.akamaized.net/images/wappen/tiny/39.png?lm=1564748880\" title=\"1.FSV Mainz 05\"/>\\n           </a>\\n          </td>\\n          <td>\\n           <a href=\"/tsg-1899-hoffenheim/startseite/verein/533/saison_id/2021\" title=\"TSG 1899 Hoffenheim\">\\n            <img alt=\"TSG 1899 Hoffenheim\" class=\"tiny_wappen\" src=\"https://tmssl.akamaized.net/images/wappen/tiny/533.png?lm=1675591766\" title=\"TSG 1899 Hoffenheim\"/>\\n           </a>\\n          </td>\\n          <td>\\n           <a href=\"/borussia-monchengladbach/startseite/verein/18/saison_id/2021\" title=\"Borussia Mönchengladbach\">\\n            <img alt=\"Borussia Mönchengladbach\" class=\"tiny_wappen\" src=\"https://tmssl.akamaized.net/images/wappen/tiny/18.png?lm=1656585796\" title=\"Borussia Mönchengladbach\"/>\\n           </a>\\n          </td>\\n          <td>\\n           <a href=\"/eintracht-frankfurt/startseite/verein/24/saison_id/2021\" title=\"Eintracht Frankfurt\">\\n            <img alt=\"Eintracht Frankfurt\" class=\"tiny_wappen\" src=\"https://tmssl.akamaized.net/images/wappen/tiny/24.png?lm=1403806187\" title=\"Eintracht Frankfurt\"/>\\n           </a>\\n          </td>\\n          <td>\\n           <a href=\"/vfl-wolfsburg/startseite/verein/82/saison_id/2021\" title=\"VfL Wolfsburg\">\\n            <img alt=\"VfL Wolfsburg\" class=\"tiny_wappen\" src=\"https://tmssl.akamaized.net/images/wappen/tiny/82.png?lm=1503060755\" title=\"VfL Wolfsburg\"/>\\n           </a>\\n          </td>\\n          <td>\\n           <a href=\"/vfl-bochum/startseite/verein/80/saison_id/2021\" title=\"VfL Bochum\">\\n            <img alt=\"VfL Bochum\" class=\"tiny_wappen\" src=\"https://tmssl.akamaized.net/images/wappen/tiny/80.png?lm=1656583090\" title=\"VfL Bochum\"/>\\n           </a>\\n          </td>\\n          <td>\\n           <a href=\"/fc-augsburg/startseite/verein/167/saison_id/2021\" title=\"FC Augsburg\">\\n            <img alt=\"FC Augsburg\" class=\"tiny_wappen\" src=\"https://tmssl.akamaized.net/images/wappen/tiny/167.png?lm=1656582897\" title=\"FC Augsburg\"/>\\n           </a>\\n          </td>\\n          <td>\\n           <a href=\"/vfb-stuttgart/startseite/verein/79/saison_id/2021\" title=\"VfB Stuttgart\">\\n            <img alt=\"VfB Stuttgart\" class=\"tiny_wappen\" src=\"https://tmssl.akamaized.net/images/wappen/tiny/79.png?lm=1680587427\" title=\"VfB Stuttgart\"/>\\n           </a>\\n          </td>\\n          <td>\\n           <a href=\"/hertha-bsc/startseite/verein/44/saison_id/2021\" title=\"Hertha BSC\">\\n            <img alt=\"Hertha BSC\" class=\"tiny_wappen\" src=\"https://tmssl.akamaized.net/images/wappen/tiny/44.png?lm=1656580875\" title=\"Hertha BSC\"/>\\n           </a>\\n          </td>\\n          <td>\\n           <a href=\"/arminia-bielefeld/startseite/verein/10/saison_id/2021\" title=\"Arminia Bielefeld\">\\n            <img alt=\"Arminia Bielefeld\" class=\"tiny_wappen\" src=\"https://tmssl.akamaized.net/images/wappen/tiny/10.png?lm=1629204733\" title=\"Arminia Bielefeld\"/>\\n           </a>\\n          </td>\\n          <td>\\n           <a href=\"/spvgg-greuther-furth/startseite/verein/65/saison_id/2021\" title=\"SpVgg Greuther Fürth\">\\n            <img alt=\"SpVgg Greuther Fürth\" class=\"tiny_wappen\" src=\"https://tmssl.akamaized.net/images/wappen/tiny/65.png?lm=1503682935\" title=\"SpVgg Greuther Fürth\"/>\\n           </a>\\n          </td>\\n          <td>\\n          </td>\\n         </tr>\\n         <tr>\\n          <td>\\n           <a href=\"/fc-bayern-munchen/startseite/verein/27/saison_id/2021\" title=\"Bayern Munich\">\\n            <img alt=\"Bayern Munich\" class=\"tiny_wappen\" src=\"https://tmssl.akamaized.net/images/wappen/tiny/27.png?lm=1498251238\" title=\"Bayern Munich\"/>\\n           </a>\\n          </td>\\n          <td>\\n           <nobr>\\n            -\\n           </nobr>\\n          </td>\\n          <td>\\n           <nobr>\\n            <a class=\"ergebnis-link\" href=\"/bayern-munich_borussia-dortmund/index/spielbericht/3588607\" id=\"3588607\" title=\"31. Matchday, Sat 23.04.2022\">\\n             <span class=\"greentext\">\\n              3:1\\n             </span>\\n            </a>\\n           </nobr>\\n          </td>\\n          <td>\\n           <nobr>\\n            <a class=\"ergebnis-link\" href=\"/bayern-munich_bayer-04-leverkusen/index/spielbericht/3588508\" id=\"3588508\" title=\"25. Matchday, Sat 05.03.2022\">\\n             <span class=\"\">\\n              1:1\\n             </span>\\n            </a>\\n           </nobr>\\n          </td>\\n          <td>\\n           <nobr>\\n            <a class=\"ergebnis-link\" href=\"/bayern-munich_rb-leipzig/index/spielbericht/3588454\" id=\"3588454\" title=\"21. Matchday, Sat 05.02.2022\">\\n             <span class=\"greentext\">\\n              3:2\\n             </span>\\n            </a>\\n           </nobr>\\n          </td>\\n          <td>\\n           <nobr>\\n            <a class=\"ergebnis-link\" href=\"/bayern-munich_1-fc-union-berlin/index/spielbericht/3588544\" id=\"3588544\" title=\"27. Matchday, Sat 19.03.2022\">\\n             <span class=\"greentext\">\\n              4:0\\n             </span>\\n            </a>\\n           </nobr>\\n          </td>\\n          <td>\\n           <nobr>\\n            <a class=\"ergebnis-link\" href=\"/bayern-munich_sc-freiburg/index/spielbericht/3588283\" id=\"3588283\" title=\"11. Matchday, Sat 06.11.2021\">\\n             <span class=\"greentext\">\\n              2:1\\n             </span>\\n            </a>\\n           </nobr>\\n          </td>\\n          <td>\\n           <nobr>\\n            <a class=\"ergebnis-link\" href=\"/bayern-munich_1-fc-koln/index/spielbericht/3588148\" id=\"3588148\" title=\"2. Matchday, Sun 22.08.2021\">\\n             <span class=\"greentext\">\\n              3:2\\n             </span>\\n            </a>\\n           </nobr>\\n          </td>\\n          <td>\\n           <nobr>\\n            <a class=\"ergebnis-link\" href=\"/bayern-munich_1-fsv-mainz-05/index/spielbericht/3588346\" id=\"3588346\" title=\"15. Matchday, Sat 11.12.2021\">\\n             <span class=\"greentext\">\\n              2:1\\n             </span>\\n            </a>\\n           </nobr>\\n          </td>\\n          <td>\\n           <nobr>\\n            <a class=\"ergebnis-link\" href=\"/bayern-munich_tsg-1899-hoffenheim/index/spielbericht/3588256\" id=\"3588256\" title=\"9. Matchday, Sat 23.10.2021\">\\n             <span class=\"greentext\">\\n              4:0\\n             </span>\\n            </a>\\n           </nobr>\\n          </td>\\n          <td>\\n           <nobr>\\n            <a class=\"ergebnis-link\" href=\"/bayern-munich_borussia-monchengladbach/index/spielbericht/3588400\" id=\"3588400\" title=\"18. Matchday, Fri 07.01.2022\">\\n             <span class=\"redtext\">\\n              1:2\\n             </span>\\n            </a>\\n           </nobr>\\n          </td>\\n          <td>\\n           <nobr>\\n            <a class=\"ergebnis-link\" href=\"/bayern-munich_eintracht-frankfurt/index/spielbericht/3588220\" id=\"3588220\" title=\"7. Matchday, Sun 03.10.2021\">\\n             <span class=\"redtext\">\\n              1:2\\n             </span>\\n            </a>\\n           </nobr>\\n          </td>\\n          <td>\\n           <nobr>\\n            <a class=\"ergebnis-link\" href=\"/bayern-munich_vfl-wolfsburg/index/spielbericht/3588382\" id=\"3588382\" title=\"17. Matchday, Fri 17.12.2021\">\\n             <span class=\"greentext\">\\n              4:0\\n             </span>\\n            </a>\\n           </nobr>\\n          </td>\\n          <td>\\n           <nobr>\\n            <a class=\"ergebnis-link\" href=\"/bayern-munich_vfl-bochum/index/spielbericht/3588193\" id=\"3588193\" title=\"5. Matchday, Sat 18.09.2021\">\\n             <span class=\"greentext\">\\n              7:0\\n             </span>\\n            </a>\\n           </nobr>\\n          </td>\\n          <td>\\n           <nobr>\\n            <a class=\"ergebnis-link\" href=\"/bayern-munich_fc-augsburg/index/spielbericht/3588580\" id=\"3588580\" title=\"29. Matchday, Sat 09.04.2022\">\\n             <span class=\"greentext\">\\n              1:0\\n             </span>\\n            </a>\\n           </nobr>\\n          </td>\\n          <td>\\n           <nobr>\\n            <a class=\"ergebnis-link\" href=\"/bayern-munich_vfb-stuttgart/index/spielbericht/3588649\" id=\"3588649\" title=\"33. Matchday, Sun 08.05.2022\">\\n             <span class=\"\">\\n              2:2\\n             </span>\\n            </a>\\n           </nobr>\\n          </td>\\n          <td>\\n           <nobr>\\n            <a class=\"ergebnis-link\" href=\"/bayern-munich_hertha-bsc/index/spielbericht/3588166\" id=\"3588166\" title=\"3. Matchday, Sat 28.08.2021\">\\n             <span class=\"greentext\">\\n              5:0\\n             </span>\\n            </a>\\n           </nobr>\\n          </td>\\n          <td>\\n           <nobr>\\n            <a class=\"ergebnis-link\" href=\"/bayern-munich_arminia-bielefeld/index/spielbericht/3588319\" id=\"3588319\" title=\"13. Matchday, Sat 27.11.2021\">\\n             <span class=\"greentext\">\\n              1:0\\n             </span>\\n            </a>\\n           </nobr>\\n          </td>\\n          <td>\\n           <nobr>\\n            <a class=\"ergebnis-link\" href=\"/bayern-munich_spvgg-greuther-furth/index/spielbericht/3588481\" id=\"3588481\" title=\"23. Matchday, Sun 20.02.2022\">\\n             <span class=\"greentext\">\\n              4:1\\n             </span>\\n            </a>\\n           </nobr>\\n          </td>\\n          <td>\\n           <a href=\"/fc-bayern-munchen/startseite/verein/27/saison_id/2021\" title=\"Bayern Munich\">\\n            <img alt=\"Bayern Munich\" class=\"tiny_wappen\" src=\"https://tmssl.akamaized.net/images/wappen/tiny/27.png?lm=1498251238\" title=\"Bayern Munich\"/>\\n           </a>\\n          </td>\\n         </tr>\\n         <tr>\\n          <td>\\n           <a href=\"/borussia-dortmund/startseite/verein/16/saison_id/2021\" title=\"Borussia Dortmund\">\\n            <img alt=\"Borussia Dortmund\" class=\"tiny_wappen\" src=\"https://tmssl.akamaized.net/images/wappen/tiny/16.png?lm=1396275280\" title=\"Borussia Dortmund\"/>\\n           </a>\\n          </td>\\n          <td>\\n           <nobr>\\n            <a class=\"ergebnis-link\" href=\"/borussia-dortmund_bayern-munich/index/spielbericht/3588337\" id=\"3588337\" title=\"14. Matchday, Sat 04.12.2021\">\\n             <span class=\"redtext\">\\n              2:3\\n             </span>\\n            </a>\\n           </nobr>\\n          </td>\\n          <td>\\n           <nobr>\\n            -\\n           </nobr>\\n          </td>\\n          <td>\\n           <nobr>\\n            <a class=\"ergebnis-link\" href=\"/borussia-dortmund_bayer-04-leverkusen/index/spielbericht/3588455\" id=\"3588455\" title=\"21. Matchday, Sun 06.02.2022\">\\n             <span class=\"redtext\">\\n              2:5\\n             </span>\\n            </a>\\n           </nobr>\\n          </td>\\n          <td>\\n           <nobr>\\n            <a class=\"ergebnis-link\" href=\"/borussia-dortmund_rb-leipzig/index/spielbericht/3588562\" id=\"3588562\" title=\"28. Matchday, Sat 02.04.2022\">\\n             <span class=\"redtext\">\\n              1:4\\n             </span>\\n            </a>\\n           </nobr>\\n          </td>\\n          <td>\\n           <nobr>\\n            <a class=\"ergebnis-link\" href=\"/borussia-dortmund_1-fc-union-berlin/index/spielbericht/3588194\" id=\"3588194\" title=\"5. Matchday, Sun 19.09.2021\">\\n             <span class=\"greentext\">\\n              4:2\\n             </span>\\n            </a>\\n           </nobr>\\n          </td>\\n          <td>\\n           <nobr>\\n            <a class=\"ergebnis-link\" href=\"/borussia-dortmund_sc-freiburg/index/spielbericht/3588418\" id=\"3588418\" title=\"19. Matchday, Fri 14.01.2022\">\\n             <span class=\"greentext\">\\n              5:1\\n             </span>\\n            </a>\\n           </nobr>\\n          </td>\\n          <td>\\n           <nobr>\\n            <a class=\"ergebnis-link\" href=\"/borussia-dortmund_1-fc-koln/index/spielbericht/3588274\" id=\"3588274\" title=\"10. Matchday, Sat 30.10.2021\">\\n             <span class=\"greentext\">\\n              2:0\\n             </span>\\n            </a>\\n           </nobr>\\n          </td>\\n          <td>\\n           <nobr>\\n            <a class=\"ergebnis-link\" href=\"/borussia-dortmund_1-fsv-mainz-05/index/spielbericht/3588238\" id=\"3588238\" title=\"8. Matchday, Sat 16.10.2021\">\\n             <span class=\"greentext\">\\n              3:1\\n             </span>\\n            </a>\\n           </nobr>\\n          </td>\\n          <td>\\n           <nobr>\\n            <a class=\"ergebnis-link\" href=\"/borussia-dortmund_tsg-1899-hoffenheim/index/spielbericht/3588167\" id=\"3588167\" title=\"3. Matchday, Fri 27.08.2021\">\\n             <span class=\"greentext\">\\n              3:2\\n             </span>\\n            </a>\\n           </nobr>\\n          </td>\\n          <td>\\n           <nobr>\\n            <a class=\"ergebnis-link\" href=\"/borussia-dortmund_borussia-monchengladbach/index/spielbericht/3588482\" id=\"3588482\" title=\"23. Matchday, Sun 20.02.2022\">\\n             <span class=\"greentext\">\\n              6:0\\n             </span>\\n            </a>\\n           </nobr>\\n          </td>\\n          <td>\\n           <nobr>\\n            <a class=\"ergebnis-link\" href=\"/borussia-dortmund_eintracht-frankfurt/index/spielbericht/3588140\" id=\"3588140\" title=\"1. Matchday, Sat 14.08.2021\">\\n             <span class=\"greentext\">\\n              5:2\\n             </span>\\n            </a>\\n           </nobr>\\n          </td>\\n          <td>\\n           <nobr>\\n            <a class=\"ergebnis-link\" href=\"/borussia-dortmund_vfl-wolfsburg/index/spielbericht/3588589\" id=\"3588589\" title=\"30. Matchday, Sat 16.04.2022\">\\n             <span class=\"greentext\">\\n              6:1\\n             </span>\\n            </a>\\n           </nobr>\\n          </td>\\n          <td>\\n           <nobr>\\n            <a class=\"ergebnis-link\" href=\"/borussia-dortmund_vfl-bochum/index/spielbericht/3588625\" id=\"3588625\" title=\"32. Matchday, Sat 30.04.2022\">\\n             <span class=\"redtext\">\\n              3:4\\n             </span>\\n            </a>\\n           </nobr>\\n          </td>\\n          <td>\\n           <nobr>\\n            <a class=\"ergebnis-link\" href=\"/borussia-dortmund_fc-augsburg/index/spielbericht/3588222\" id=\"3588222\" title=\"7. Matchday, Sat 02.10.2021\">\\n             <span class=\"greentext\">\\n              2:1\\n             </span>\\n            </a>\\n           </nobr>\\n          </td>\\n          <td>\\n           <nobr>\\n            <a class=\"ergebnis-link\" href=\"/borussia-dortmund_vfb-stuttgart/index/spielbericht/3588301\" id=\"3588301\" title=\"12. Matchday, Sat 20.11.2021\">\\n             <span class=\"greentext\">\\n              2:1\\n             </span>\\n            </a>\\n           </nobr>\\n          </td>\\n          <td>\\n           <nobr>\\n            <a class=\"ergebnis-link\" href=\"/borussia-dortmund_hertha-bsc/index/spielbericht/3588667\" id=\"3588667\" title=\"34. Matchday, Sat 14.05.2022\">\\n             <span class=\"greentext\">\\n              2:1\\n             </span>\\n            </a>\\n           </nobr>\\n          </td>\\n          <td>\\n           <nobr>\\n            <a class=\"ergebnis-link\" href=\"/borussia-dortmund_arminia-bielefeld/index/spielbericht/3588526\" id=\"3588526\" title=\"26. Matchday, Sun 13.03.2022\">\\n             <span class=\"greentext\">\\n              1:0\\n             </span>\\n            </a>\\n           </nobr>\\n          </td>\\n          <td>\\n           <nobr>\\n            <a class=\"ergebnis-link\" href=\"/borussia-dortmund_spvgg-greuther-furth/index/spielbericht/3588373\" id=\"3588373\" title=\"16. Matchday, Wed 15.12.2021\">\\n             <span class=\"greentext\">\\n              3:0\\n             </span>\\n            </a>\\n           </nobr>\\n          </td>\\n          <td>\\n           <a href=\"/borussia-dortmund/startseite/verein/16/saison_id/2021\" title=\"Borussia Dortmund\">\\n            <img alt=\"Borussia Dortmund\" class=\"tiny_wappen\" src=\"https://tmssl.akamaized.net/images/wappen/tiny/16.png?lm=1396275280\" title=\"Borussia Dortmund\"/>\\n           </a>\\n          </td>\\n         </tr>\\n         <tr>\\n          <td>\\n           <a href=\"/bayer-04-leverkusen/startseite/verein/15/saison_id/2021\" title=\"Bayer 04 Leverkusen\">\\n            <img alt=\"Bayer 04 Leverkusen\" class=\"tiny_wappen\" src=\"https://tmssl.akamaized.net/images/wappen/tiny/15.png?lm=1651221781\" title=\"Bayer 04 Leverkusen\"/>\\n           </a>\\n          </td>\\n          <td>\\n           <nobr>\\n            <a class=\"ergebnis-link\" href=\"/bayer-04-leverkusen_bayern-munich/index/spielbericht/3588240\" id=\"3588240\" title=\"8. Matchday, Sun 17.10.2021\">\\n             <span class=\"redtext\">\\n              1:5\\n             </span>\\n            </a>\\n           </nobr>\\n          </td>\\n          <td>\\n           <nobr>\\n            <a class=\"ergebnis-link\" href=\"/bayer-04-leverkusen_borussia-dortmund/index/spielbericht/3588177\" id=\"3588177\" title=\"4. Matchday, Sat 11.09.2021\">\\n             <span class=\"redtext\">\\n              3:4\\n             </span>\\n            </a>\\n           </nobr>\\n          </td>\\n          <td>\\n           <nobr>\\n            -\\n           </nobr>\\n          </td>\\n          <td>\\n           <nobr>\\n            <a class=\"ergebnis-link\" href=\"/bayer-04-leverkusen_rb-leipzig/index/spielbericht/3588590\" id=\"3588590\" title=\"30. Matchday, Sun 17.04.2022\">\\n             <span class=\"redtext\">\\n              0:1\\n             </span>\\n            </a>\\n           </nobr>\\n          </td>\\n          <td>\\n           <nobr>\\n            <a class=\"ergebnis-link\" href=\"/bayer-04-leverkusen_1-fc-union-berlin/index/spielbericht/3588403\" id=\"3588403\" title=\"18. Matchday, Sat 08.01.2022\">\\n             <span class=\"\">\\n              2:2\\n             </span>\\n            </a>\\n           </nobr>\\n          </td>\\n          <td>\\n           <nobr>\\n            <a class=\"ergebnis-link\" href=\"/bayer-04-leverkusen_sc-freiburg/index/spielbericht/3588669\" id=\"3588669\" title=\"34. Matchday, Sat 14.05.2022\">\\n             <span class=\"greentext\">\\n              2:1\\n             </span>\\n            </a>\\n           </nobr>\\n          </td>\\n          <td>\\n           <nobr>\\n            <a class=\"ergebnis-link\" href=\"/bayer-04-leverkusen_1-fc-koln/index/spielbericht/3588528\" id=\"3588528\" title=\"26. Matchday, Sun 13.03.2022\">\\n             <span class=\"redtext\">\\n              0:1\\n             </span>\\n            </a>\\n           </nobr>\\n          </td>\\n          <td>\\n           <nobr>\\n            <a class=\"ergebnis-link\" href=\"/bayer-04-leverkusen_1-fsv-mainz-05/index/spielbericht/3588213\" id=\"3588213\" title=\"6. Matchday, Sat 25.09.2021\">\\n             <span class=\"greentext\">\\n              1:0\\n             </span>\\n            </a>\\n           </nobr>\\n          </td>\\n          <td>\\n           <nobr>\\n            <a class=\"ergebnis-link\" href=\"/bayer-04-leverkusen_tsg-1899-hoffenheim/index/spielbericht/3588375\" id=\"3588375\" title=\"16. Matchday, Wed 15.12.2021\">\\n             <span class=\"\">\\n              2:2\\n             </span>\\n            </a>\\n           </nobr>\\n          </td>\\n          <td>\\n           <nobr>\\n            <a class=\"ergebnis-link\" href=\"/bayer-04-leverkusen_borussia-monchengladbach/index/spielbericht/3588151\" id=\"3588151\" title=\"2. Matchday, Sat 21.08.2021\">\\n             <span class=\"greentext\">\\n              4:0\\n             </span>\\n            </a>\\n           </nobr>\\n          </td>\\n          <td>\\n           <nobr>\\n            <a class=\"ergebnis-link\" href=\"/bayer-04-leverkusen_eintracht-frankfurt/index/spielbericht/3588626\" id=\"3588626\" title=\"32. Matchday, Mon 02.05.2022\">\\n             <span class=\"greentext\">\\n              2:0\\n             </span>\\n            </a>\\n           </nobr>\\n          </td>\\n          <td>\\n           <nobr>\\n            <a class=\"ergebnis-link\" href=\"/bayer-04-leverkusen_vfl-wolfsburg/index/spielbericht/3588276\" id=\"3588276\" title=\"10. Matchday, Sat 30.10.2021\">\\n             <span class=\"redtext\">\\n              0:2\\n             </span>\\n            </a>\\n           </nobr>\\n          </td>\\n          <td>\\n           <nobr>\\n            <a class=\"ergebnis-link\" href=\"/bayer-04-leverkusen_vfl-bochum/index/spielbericht/3588302\" id=\"3588302\" title=\"12. Matchday, Sat 20.11.2021\">\\n             <span class=\"greentext\">\\n              1:0\\n             </span>\\n            </a>\\n           </nobr>\\n          </td>\\n          <td>\\n           <nobr>\\n            <a class=\"ergebnis-link\" href=\"/bayer-04-leverkusen_fc-augsburg/index/spielbericht/3588438\" id=\"3588438\" title=\"20. Matchday, Sat 22.01.2022\">\\n             <span class=\"greentext\">\\n              5:1\\n             </span>\\n            </a>\\n           </nobr>\\n          </td>\\n          <td>\\n           <nobr>\\n            <a class=\"ergebnis-link\" href=\"/bayer-04-leverkusen_vfb-stuttgart/index/spielbericht/3588465\" id=\"3588465\" title=\"22. Matchday, Sat 12.02.2022\">\\n             <span class=\"greentext\">\\n              4:2\\n             </span>\\n            </a>\\n           </nobr>\\n          </td>\\n          <td>\\n           <nobr>\\n            <a class=\"ergebnis-link\" href=\"/bayer-04-leverkusen_hertha-bsc/index/spielbericht/3588564\" id=\"3588564\" title=\"28. Matchday, Sat 02.04.2022\">\\n             <span class=\"greentext\">\\n              2:1\\n             </span>\\n            </a>\\n           </nobr>\\n          </td>\\n          <td>\\n           <nobr>\\n            <a class=\"ergebnis-link\" href=\"/bayer-04-leverkusen_arminia-bielefeld/index/spielbericht/3588491\" id=\"3588491\" title=\"24. Matchday, Sat 26.02.2022\">\\n             <span class=\"greentext\">\\n              3:0\\n             </span>\\n            </a>\\n           </nobr>\\n          </td>\\n          <td>\\n           <nobr>\\n            <a class=\"ergebnis-link\" href=\"/bayer-04-leverkusen_spvgg-greuther-furth/index/spielbericht/3588338\" id=\"3588338\" title=\"14. Matchday, Sat 04.12.2021\">\\n             <span class=\"greentext\">\\n              7:1\\n             </span>\\n            </a>\\n           </nobr>\\n          </td>\\n          <td>\\n           <a href=\"/bayer-04-leverkusen/startseite/verein/15/saison_id/2021\" title=\"Bayer 04 Leverkusen\">\\n            <img alt=\"Bayer 04 Leverkusen\" class=\"tiny_wappen\" src=\"https://tmssl.akamaized.net/images/wappen/tiny/15.png?lm=1651221781\" title=\"Bayer 04 Leverkusen\"/>\\n           </a>\\n          </td>\\n         </tr>\\n         <tr>\\n          <td>\\n           <a href=\"/rasenballsport-leipzig/startseite/verein/23826/saison_id/2021\" title=\"RB Leipzig\">\\n            <img alt=\"RB Leipzig\" class=\"tiny_wappen\" src=\"https://tmssl.akamaized.net/images/wappen/tiny/23826.png?lm=1619431624\" title=\"RB Leipzig\"/>\\n           </a>\\n          </td>\\n          <td>\\n           <nobr>\\n            <a class=\"ergebnis-link\" href=\"/rb-leipzig_bayern-munich/index/spielbericht/3588175\" id=\"3588175\" title=\"4. Matchday, Sat 11.09.2021\">\\n             <span class=\"redtext\">\\n              1:4\\n             </span>\\n            </a>\\n           </nobr>\\n          </td>\\n          <td>\\n           <nobr>\\n            <a class=\"ergebnis-link\" href=\"/rb-leipzig_borussia-dortmund/index/spielbericht/3588284\" id=\"3588284\" title=\"11. Matchday, Sat 06.11.2021\">\\n             <span class=\"greentext\">\\n              2:1\\n             </span>\\n            </a>\\n           </nobr>\\n          </td>\\n          <td>\\n           <nobr>\\n            <a class=\"ergebnis-link\" href=\"/rb-leipzig_bayer-04-leverkusen/index/spielbericht/3588320\" id=\"3588320\" title=\"13. Matchday, Sun 28.11.2021\">\\n             <span class=\"redtext\">\\n              1:3\\n             </span>\\n            </a>\\n           </nobr>\\n          </td>\\n          <td>\\n           <nobr>\\n            -\\n           </nobr>\\n          </td>\\n          <td>\\n           <nobr>\\n            <a class=\"ergebnis-link\" href=\"/rb-leipzig_1-fc-union-berlin/index/spielbericht/3588608\" id=\"3588608\" title=\"31. Matchday, Sat 23.04.2022\">\\n             <span class=\"redtext\">\\n              1:2\\n             </span>\\n            </a>\\n           </nobr>\\n          </td>\\n          <td>\\n           <nobr>\\n            <a class=\"ergebnis-link\" href=\"/rb-leipzig_sc-freiburg/index/spielbericht/3588509\" id=\"3588509\" title=\"25. Matchday, Sat 05.03.2022\">\\n             <span class=\"\">\\n              1:1\\n             </span>\\n            </a>\\n           </nobr>\\n          </td>\\n          <td>\\n           <nobr>\\n            <a class=\"ergebnis-link\" href=\"/rb-leipzig_1-fc-koln/index/spielbericht/3588463\" id=\"3588463\" title=\"22. Matchday, Fri 11.02.2022\">\\n             <span class=\"greentext\">\\n              3:1\\n             </span>\\n            </a>\\n           </nobr>\\n          </td>\\n          <td>\\n           <nobr>\\n            <a class=\"ergebnis-link\" href=\"/rb-leipzig_1-fsv-mainz-05/index/spielbericht/3588401\" id=\"3588401\" title=\"18. Matchday, Sat 08.01.2022\">\\n             <span class=\"greentext\">\\n              4:1\\n             </span>\\n            </a>\\n           </nobr>\\n          </td>\\n          <td>\\n           <nobr>\\n            <a class=\"ergebnis-link\" href=\"/rb-leipzig_tsg-1899-hoffenheim/index/spielbericht/3588581\" id=\"3588581\" title=\"29. Matchday, Sun 10.04.2022\">\\n             <span class=\"greentext\">\\n              3:0\\n             </span>\\n            </a>\\n           </nobr>\\n          </td>\\n          <td>\\n           <nobr>\\n            <a class=\"ergebnis-link\" href=\"/rb-leipzig_borussia-monchengladbach/index/spielbericht/3588347\" id=\"3588347\" title=\"15. Matchday, Sat 11.12.2021\">\\n             <span class=\"greentext\">\\n              4:1\\n             </span>\\n            </a>\\n           </nobr>\\n          </td>\\n          <td>\\n           <nobr>\\n            <a class=\"ergebnis-link\" href=\"/rb-leipzig_eintracht-frankfurt/index/spielbericht/3588545\" id=\"3588545\" title=\"27. Matchday, Sun 20.03.2022\">\\n             <span class=\"\">\\n              0:0\\n             </span>\\n            </a>\\n           </nobr>\\n          </td>\\n          <td>\\n           <nobr>\\n            <a class=\"ergebnis-link\" href=\"/rb-leipzig_vfl-wolfsburg/index/spielbericht/3588436\" id=\"3588436\" title=\"20. Matchday, Sun 23.01.2022\">\\n             <span class=\"greentext\">\\n              2:0\\n             </span>\\n            </a>\\n           </nobr>\\n          </td>\\n          <td>\\n           <nobr>\\n            <a class=\"ergebnis-link\" href=\"/rb-leipzig_vfl-bochum/index/spielbericht/3588221\" id=\"3588221\" title=\"7. Matchday, Sat 02.10.2021\">\\n             <span class=\"greentext\">\\n              3:0\\n             </span>\\n            </a>\\n           </nobr>\\n          </td>\\n          <td>\\n           <nobr>\\n            <a class=\"ergebnis-link\" href=\"/rb-leipzig_fc-augsburg/index/spielbericht/3588650\" id=\"3588650\" title=\"33. Matchday, Sun 08.05.2022\">\\n             <span class=\"greentext\">\\n              4:0\\n             </span>\\n            </a>\\n           </nobr>\\n          </td>\\n          <td>\\n           <nobr>\\n            <a class=\"ergebnis-link\" href=\"/rb-leipzig_vfb-stuttgart/index/spielbericht/3588149\" id=\"3588149\" title=\"2. Matchday, Fri 20.08.2021\">\\n             <span class=\"greentext\">\\n              4:0\\n             </span>\\n            </a>\\n           </nobr>\\n          </td>\\n          <td>\\n           <nobr>\\n            <a class=\"ergebnis-link\" href=\"/rb-leipzig_hertha-bsc/index/spielbericht/3588211\" id=\"3588211\" title=\"6. Matchday, Sat 25.09.2021\">\\n             <span class=\"greentext\">\\n              6:0\\n             </span>\\n            </a>\\n           </nobr>\\n          </td>\\n          <td>\\n           <nobr>\\n            <a class=\"ergebnis-link\" href=\"/rb-leipzig_arminia-bielefeld/index/spielbericht/3588383\" id=\"3588383\" title=\"17. Matchday, Sat 18.12.2021\">\\n             <span class=\"redtext\">\\n              0:2\\n             </span>\\n            </a>\\n           </nobr>\\n          </td>\\n          <td>\\n           <nobr>\\n            <a class=\"ergebnis-link\" href=\"/rb-leipzig_spvgg-greuther-furth/index/spielbericht/3588257\" id=\"3588257\" title=\"9. Matchday, Sat 23.10.2021\">\\n             <span class=\"greentext\">\\n              4:1\\n             </span>\\n            </a>\\n           </nobr>\\n          </td>\\n          <td>\\n           <a href=\"/rasenballsport-leipzig/startseite/verein/23826/saison_id/2021\" title=\"RB Leipzig\">\\n            <img alt=\"RB Leipzig\" class=\"tiny_wappen\" src=\"https://tmssl.akamaized.net/images/wappen/tiny/23826.png?lm=1619431624\" title=\"RB Leipzig\"/>\\n           </a>\\n          </td>\\n         </tr>\\n         <tr>\\n          <td>\\n           <a href=\"/1-fc-union-berlin/startseite/verein/89/saison_id/2021\" title=\"1.FC Union Berlin\">\\n            <img alt=\"1.FC Union Berlin\" class=\"tiny_wappen\" src=\"https://tmssl.akamaized.net/images/wappen/tiny/89.png?lm=1402956210\" title=\"1.FC Union Berlin\"/>\\n           </a>\\n          </td>\\n          <td>\\n           <nobr>\\n            <a class=\"ergebnis-link\" href=\"/1-fc-union-berlin_bayern-munich/index/spielbericht/3588277\" id=\"3588277\" title=\"10. Matchday, Sat 30.10.2021\">\\n             <span class=\"redtext\">\\n              2:5\\n             </span>\\n            </a>\\n           </nobr>\\n          </td>\\n          <td>\\n           <nobr>\\n            <a class=\"ergebnis-link\" href=\"/1-fc-union-berlin_borussia-dortmund/index/spielbericht/3588466\" id=\"3588466\" title=\"22. Matchday, Sun 13.02.2022\">\\n             <span class=\"redtext\">\\n              0:3\\n             </span>\\n            </a>\\n           </nobr>\\n          </td>\\n          <td>\\n           <nobr>\\n            <a class=\"ergebnis-link\" href=\"/1-fc-union-berlin_bayer-04-leverkusen/index/spielbericht/3588142\" id=\"3588142\" title=\"1. Matchday, Sat 14.08.2021\">\\n             <span class=\"\">\\n              1:1\\n             </span>\\n            </a>\\n           </nobr>\\n          </td>\\n          <td>\\n           <nobr>\\n            <a class=\"ergebnis-link\" href=\"/1-fc-union-berlin_rb-leipzig/index/spielbericht/3588339\" id=\"3588339\" title=\"14. Matchday, Fri 03.12.2021\">\\n             <span class=\"greentext\">\\n              2:1\\n             </span>\\n            </a>\\n           </nobr>\\n          </td>\\n          <td>\\n           <nobr>\\n            -\\n           </nobr>\\n          </td>\\n          <td>\\n           <nobr>\\n            <a class=\"ergebnis-link\" href=\"/1-fc-union-berlin_sc-freiburg/index/spielbericht/3588376\" id=\"3588376\" title=\"16. Matchday, Wed 15.12.2021\">\\n             <span class=\"\">\\n              0:0\\n             </span>\\n            </a>\\n           </nobr>\\n          </td>\\n          <td>\\n           <nobr>\\n            <a class=\"ergebnis-link\" href=\"/1-fc-union-berlin_1-fc-koln/index/spielbericht/3588565\" id=\"3588565\" title=\"28. Matchday, Fri 01.04.2022\">\\n             <span class=\"greentext\">\\n              1:0\\n             </span>\\n            </a>\\n           </nobr>\\n          </td>\\n          <td>\\n           <nobr>\\n            <a class=\"ergebnis-link\" href=\"/1-fc-union-berlin_1-fsv-mainz-05/index/spielbericht/3588492\" id=\"3588492\" title=\"24. Matchday, Sat 26.02.2022\">\\n             <span class=\"greentext\">\\n              3:1\\n             </span>\\n            </a>\\n           </nobr>\\n          </td>\\n          <td>\\n           <nobr>\\n            <a class=\"ergebnis-link\" href=\"/1-fc-union-berlin_tsg-1899-hoffenheim/index/spielbericht/3588420\" id=\"3588420\" title=\"19. Matchday, Sat 15.01.2022\">\\n             <span class=\"greentext\">\\n              2:1\\n             </span>\\n            </a>\\n           </nobr>\\n          </td>\\n          <td>\\n           <nobr>\\n            <a class=\"ergebnis-link\" href=\"/1-fc-union-berlin_borussia-monchengladbach/index/spielbericht/3588169\" id=\"3588169\" title=\"3. Matchday, Sun 29.08.2021\">\\n             <span class=\"greentext\">\\n              2:1\\n             </span>\\n            </a>\\n           </nobr>\\n          </td>\\n          <td>\\n           <nobr>\\n            <a class=\"ergebnis-link\" href=\"/1-fc-union-berlin_eintracht-frankfurt/index/spielbericht/3588591\" id=\"3588591\" title=\"30. Matchday, Sun 17.04.2022\">\\n             <span class=\"greentext\">\\n              2:0\\n             </span>\\n            </a>\\n           </nobr>\\n          </td>\\n          <td>\\n           <nobr>\\n            <a class=\"ergebnis-link\" href=\"/1-fc-union-berlin_vfl-wolfsburg/index/spielbericht/3588241\" id=\"3588241\" title=\"8. Matchday, Sat 16.10.2021\">\\n             <span class=\"greentext\">\\n              2:0\\n             </span>\\n            </a>\\n           </nobr>\\n          </td>\\n          <td>\\n           <nobr>\\n            <a class=\"ergebnis-link\" href=\"/1-fc-union-berlin_vfl-bochum/index/spielbericht/3588670\" id=\"3588670\" title=\"34. Matchday, Sat 14.05.2022\">\\n             <span class=\"greentext\">\\n              3:2\\n             </span>\\n            </a>\\n           </nobr>\\n          </td>\\n          <td>\\n           <nobr>\\n            <a class=\"ergebnis-link\" href=\"/1-fc-union-berlin_fc-augsburg/index/spielbericht/3588178\" id=\"3588178\" title=\"4. Matchday, Sat 11.09.2021\">\\n             <span class=\"\">\\n              0:0\\n             </span>\\n            </a>\\n           </nobr>\\n          </td>\\n          <td>\\n           <nobr>\\n            <a class=\"ergebnis-link\" href=\"/1-fc-union-berlin_vfb-stuttgart/index/spielbericht/3588529\" id=\"3588529\" title=\"26. Matchday, Sat 12.03.2022\">\\n             <span class=\"\">\\n              1:1\\n             </span>\\n            </a>\\n           </nobr>\\n          </td>\\n          <td>\\n           <nobr>\\n            <a class=\"ergebnis-link\" href=\"/1-fc-union-berlin_hertha-bsc/index/spielbericht/3588303\" id=\"3588303\" title=\"12. Matchday, Sat 20.11.2021\">\\n             <span class=\"greentext\">\\n              2:0\\n             </span>\\n            </a>\\n           </nobr>\\n          </td>\\n          <td>\\n           <nobr>\\n            <a class=\"ergebnis-link\" href=\"/1-fc-union-berlin_arminia-bielefeld/index/spielbericht/3588214\" id=\"3588214\" title=\"6. Matchday, Sat 25.09.2021\">\\n             <span class=\"greentext\">\\n              1:0\\n             </span>\\n            </a>\\n           </nobr>\\n          </td>\\n          <td>\\n           <nobr>\\n            <a class=\"ergebnis-link\" href=\"/1-fc-union-berlin_spvgg-greuther-furth/index/spielbericht/3588627\" id=\"3588627\" title=\"32. Matchday, Fri 29.04.2022\">\\n             <span class=\"\">\\n              1:1\\n             </span>\\n            </a>\\n           </nobr>\\n          </td>\\n          <td>\\n           <a href=\"/1-fc-union-berlin/startseite/verein/89/saison_id/2021\" title=\"1.FC Union Berlin\">\\n            <img alt=\"1.FC Union Berlin\" class=\"tiny_wappen\" src=\"https://tmssl.akamaized.net/images/wappen/tiny/89.png?lm=1402956210\" title=\"1.FC Union Berlin\"/>\\n           </a>\\n          </td>\\n         </tr>\\n         <tr>\\n          <td>\\n           <a href=\"/sc-freiburg/startseite/verein/60/saison_id/2021\" title=\"SC Freiburg\">\\n            <img alt=\"SC Freiburg\" class=\"tiny_wappen\" src=\"https://tmssl.akamaized.net/images/wappen/tiny/60.png?lm=1517249279\" title=\"SC Freiburg\"/>\\n           </a>\\n          </td>\\n          <td>\\n           <nobr>\\n            <a class=\"ergebnis-link\" href=\"/sc-freiburg_bayern-munich/index/spielbericht/3588567\" id=\"3588567\" title=\"28. Matchday, Sat 02.04.2022\">\\n             <span class=\"redtext\">\\n              1:4\\n             </span>\\n            </a>\\n           </nobr>\\n          </td>\\n          <td>\\n           <nobr>\\n            <a class=\"ergebnis-link\" href=\"/sc-freiburg_borussia-dortmund/index/spielbericht/3588152\" id=\"3588152\" title=\"2. Matchday, Sat 21.08.2021\">\\n             <span class=\"greentext\">\\n              2:1\\n             </span>\\n            </a>\\n           </nobr>\\n          </td>\\n          <td>\\n           <nobr>\\n            <a class=\"ergebnis-link\" href=\"/sc-freiburg_bayer-04-leverkusen/index/spielbericht/3588385\" id=\"3588385\" title=\"17. Matchday, Sun 19.12.2021\">\\n             <span class=\"greentext\">\\n              2:1\\n             </span>\\n            </a>\\n           </nobr>\\n          </td>\\n          <td>\\n           <nobr>\\n            <a class=\"ergebnis-link\" href=\"/sc-freiburg_rb-leipzig/index/spielbericht/3588243\" id=\"3588243\" title=\"8. Matchday, Sat 16.10.2021\">\\n             <span class=\"\">\\n              1:1\\n             </span>\\n            </a>\\n           </nobr>\\n          </td>\\n          <td>\\n           <nobr>\\n            <a class=\"ergebnis-link\" href=\"/sc-freiburg_1-fc-union-berlin/index/spielbericht/3588652\" id=\"3588652\" title=\"33. Matchday, Sat 07.05.2022\">\\n             <span class=\"redtext\">\\n              1:4\\n             </span>\\n            </a>\\n           </nobr>\\n          </td>\\n          <td>\\n           <nobr>\\n            -\\n           </nobr>\\n          </td>\\n          <td>\\n           <nobr>\\n            <a class=\"ergebnis-link\" href=\"/sc-freiburg_1-fc-koln/index/spielbericht/3588180\" id=\"3588180\" title=\"4. Matchday, Sat 11.09.2021\">\\n             <span class=\"\">\\n              1:1\\n             </span>\\n            </a>\\n           </nobr>\\n          </td>\\n          <td>\\n           <nobr>\\n            <a class=\"ergebnis-link\" href=\"/sc-freiburg_1-fsv-mainz-05/index/spielbericht/3588468\" id=\"3588468\" title=\"22. Matchday, Sat 12.02.2022\">\\n             <span class=\"\">\\n              1:1\\n             </span>\\n            </a>\\n           </nobr>\\n          </td>\\n          <td>\\n           <nobr>\\n            <a class=\"ergebnis-link\" href=\"/sc-freiburg_tsg-1899-hoffenheim/index/spielbericht/3588350\" id=\"3588350\" title=\"15. Matchday, Sat 11.12.2021\">\\n             <span class=\"redtext\">\\n              1:2\\n             </span>\\n            </a>\\n           </nobr>\\n          </td>\\n          <td>\\n           <nobr>\\n            <a class=\"ergebnis-link\" href=\"/sc-freiburg_borussia-monchengladbach/index/spielbericht/3588611\" id=\"3588611\" title=\"31. Matchday, Sat 23.04.2022\">\\n             <span class=\"\">\\n              3:3\\n             </span>\\n            </a>\\n           </nobr>\\n          </td>\\n          <td>\\n           <nobr>\\n            <a class=\"ergebnis-link\" href=\"/sc-freiburg_eintracht-frankfurt/index/spielbericht/3588305\" id=\"3588305\" title=\"12. Matchday, Sun 21.11.2021\">\\n             <span class=\"redtext\">\\n              0:2\\n             </span>\\n            </a>\\n           </nobr>\\n          </td>\\n          <td>\\n           <nobr>\\n            <a class=\"ergebnis-link\" href=\"/sc-freiburg_vfl-wolfsburg/index/spielbericht/3588531\" id=\"3588531\" title=\"26. Matchday, Sat 12.03.2022\">\\n             <span class=\"greentext\">\\n              3:2\\n             </span>\\n            </a>\\n           </nobr>\\n          </td>\\n          <td>\\n           <nobr>\\n            <a class=\"ergebnis-link\" href=\"/sc-freiburg_vfl-bochum/index/spielbericht/3588593\" id=\"3588593\" title=\"30. Matchday, Sat 16.04.2022\">\\n             <span class=\"greentext\">\\n              3:0\\n             </span>\\n            </a>\\n           </nobr>\\n          </td>\\n          <td>\\n           <nobr>\\n            <a class=\"ergebnis-link\" href=\"/sc-freiburg_fc-augsburg/index/spielbericht/3588216\" id=\"3588216\" title=\"6. Matchday, Sun 26.09.2021\">\\n             <span class=\"greentext\">\\n              3:0\\n             </span>\\n            </a>\\n           </nobr>\\n          </td>\\n          <td>\\n           <nobr>\\n            <a class=\"ergebnis-link\" href=\"/sc-freiburg_vfb-stuttgart/index/spielbericht/3588440\" id=\"3588440\" title=\"20. Matchday, Sat 22.01.2022\">\\n             <span class=\"greentext\">\\n              2:0\\n             </span>\\n            </a>\\n           </nobr>\\n          </td>\\n          <td>\\n           <nobr>\\n            <a class=\"ergebnis-link\" href=\"/sc-freiburg_hertha-bsc/index/spielbericht/3588494\" id=\"3588494\" title=\"24. Matchday, Sat 26.02.2022\">\\n             <span class=\"greentext\">\\n              3:0\\n             </span>\\n            </a>\\n           </nobr>\\n          </td>\\n          <td>\\n           <nobr>\\n            <a class=\"ergebnis-link\" href=\"/sc-freiburg_arminia-bielefeld/index/spielbericht/3588404\" id=\"3588404\" title=\"18. Matchday, Sat 08.01.2022\">\\n             <span class=\"\">\\n              2:2\\n             </span>\\n            </a>\\n           </nobr>\\n          </td>\\n          <td>\\n           <nobr>\\n            <a class=\"ergebnis-link\" href=\"/sc-freiburg_spvgg-greuther-furth/index/spielbericht/3588279\" id=\"3588279\" title=\"10. Matchday, Sat 30.10.2021\">\\n             <span class=\"greentext\">\\n              3:1\\n             </span>\\n            </a>\\n           </nobr>\\n          </td>\\n          <td>\\n           <a href=\"/sc-freiburg/startseite/verein/60/saison_id/2021\" title=\"SC Freiburg\">\\n            <img alt=\"SC Freiburg\" class=\"tiny_wappen\" src=\"https://tmssl.akamaized.net/images/wappen/tiny/60.png?lm=1517249279\" title=\"SC Freiburg\"/>\\n           </a>\\n          </td>\\n         </tr>\\n         <tr>\\n          <td>\\n           <a href=\"/1-fc-koln/startseite/verein/3/saison_id/2021\" title=\"1.FC Köln\">\\n            <img alt=\"1.FC Köln\" class=\"tiny_wappen\" src=\"https://tmssl.akamaized.net/images/wappen/tiny/3.png?lm=1656580823\" title=\"1.FC Köln\"/>\\n           </a>\\n          </td>\\n          <td>\\n           <nobr>\\n            <a class=\"ergebnis-link\" href=\"/1-fc-koln_bayern-munich/index/spielbericht/3588426\" id=\"3588426\" title=\"19. Matchday, Sat 15.01.2022\">\\n             <span class=\"redtext\">\\n              0:4\\n             </span>\\n            </a>\\n           </nobr>\\n          </td>\\n          <td>\\n           <nobr>\\n            <a class=\"ergebnis-link\" href=\"/1-fc-koln_borussia-dortmund/index/spielbericht/3588550\" id=\"3588550\" title=\"27. Matchday, Sun 20.03.2022\">\\n             <span class=\"\">\\n              1:1\\n             </span>\\n            </a>\\n           </nobr>\\n          </td>\\n          <td>\\n           <nobr>\\n            <a class=\"ergebnis-link\" href=\"/1-fc-koln_bayer-04-leverkusen/index/spielbericht/3588263\" id=\"3588263\" title=\"9. Matchday, Sun 24.10.2021\">\\n             <span class=\"\">\\n              2:2\\n             </span>\\n            </a>\\n           </nobr>\\n          </td>\\n          <td>\\n           <nobr>\\n            <a class=\"ergebnis-link\" href=\"/1-fc-koln_rb-leipzig/index/spielbericht/3588201\" id=\"3588201\" title=\"5. Matchday, Sat 18.09.2021\">\\n             <span class=\"\">\\n              1:1\\n             </span>\\n            </a>\\n           </nobr>\\n          </td>\\n          <td>\\n           <nobr>\\n            <a class=\"ergebnis-link\" href=\"/1-fc-koln_1-fc-union-berlin/index/spielbericht/3588289\" id=\"3588289\" title=\"11. Matchday, Sun 07.11.2021\">\\n             <span class=\"\">\\n              2:2\\n             </span>\\n            </a>\\n           </nobr>\\n          </td>\\n          <td>\\n           <nobr>\\n            <a class=\"ergebnis-link\" href=\"/1-fc-koln_sc-freiburg/index/spielbericht/3588462\" id=\"3588462\" title=\"21. Matchday, Sat 05.02.2022\">\\n             <span class=\"greentext\">\\n              1:0\\n             </span>\\n            </a>\\n           </nobr>\\n          </td>\\n          <td>\\n           <nobr>\\n            -\\n           </nobr>\\n          </td>\\n          <td>\\n           <nobr>\\n            <a class=\"ergebnis-link\" href=\"/1-fc-koln_1-fsv-mainz-05/index/spielbericht/3588586\" id=\"3588586\" title=\"29. Matchday, Sat 09.04.2022\">\\n             <span class=\"greentext\">\\n              3:2\\n             </span>\\n            </a>\\n           </nobr>\\n          </td>\\n          <td>\\n           <nobr>\\n            <a class=\"ergebnis-link\" href=\"/1-fc-koln_tsg-1899-hoffenheim/index/spielbericht/3588515\" id=\"3588515\" title=\"25. Matchday, Sun 06.03.2022\">\\n             <span class=\"redtext\">\\n              0:1\\n             </span>\\n            </a>\\n           </nobr>\\n          </td>\\n          <td>\\n           <nobr>\\n            <a class=\"ergebnis-link\" href=\"/1-fc-koln_borussia-monchengladbach/index/spielbericht/3588325\" id=\"3588325\" title=\"13. Matchday, Sat 27.11.2021\">\\n             <span class=\"greentext\">\\n              4:1\\n             </span>\\n            </a>\\n           </nobr>\\n          </td>\\n          <td>\\n           <nobr>\\n            <a class=\"ergebnis-link\" href=\"/1-fc-koln_eintracht-frankfurt/index/spielbericht/3588489\" id=\"3588489\" title=\"23. Matchday, Sat 19.02.2022\">\\n             <span class=\"greentext\">\\n              1:0\\n             </span>\\n            </a>\\n           </nobr>\\n          </td>\\n          <td>\\n           <nobr>\\n            <a class=\"ergebnis-link\" href=\"/1-fc-koln_vfl-wolfsburg/index/spielbericht/3588655\" id=\"3588655\" title=\"33. Matchday, Sat 07.05.2022\">\\n             <span class=\"redtext\">\\n              0:1\\n             </span>\\n            </a>\\n           </nobr>\\n          </td>\\n          <td>\\n           <nobr>\\n            <a class=\"ergebnis-link\" href=\"/1-fc-koln_vfl-bochum/index/spielbericht/3588174\" id=\"3588174\" title=\"3. Matchday, Sat 28.08.2021\">\\n             <span class=\"greentext\">\\n              2:1\\n             </span>\\n            </a>\\n           </nobr>\\n          </td>\\n          <td>\\n           <nobr>\\n            <a class=\"ergebnis-link\" href=\"/1-fc-koln_fc-augsburg/index/spielbericht/3588352\" id=\"3588352\" title=\"15. Matchday, Fri 10.12.2021\">\\n             <span class=\"redtext\">\\n              0:2\\n             </span>\\n            </a>\\n           </nobr>\\n          </td>\\n          <td>\\n           <nobr>\\n            <a class=\"ergebnis-link\" href=\"/1-fc-koln_vfb-stuttgart/index/spielbericht/3588388\" id=\"3588388\" title=\"17. Matchday, Sun 19.12.2021\">\\n             <span class=\"greentext\">\\n              1:0\\n             </span>\\n            </a>\\n           </nobr>\\n          </td>\\n          <td>\\n           <nobr>\\n            <a class=\"ergebnis-link\" href=\"/1-fc-koln_hertha-bsc/index/spielbericht/3588147\" id=\"3588147\" title=\"1. Matchday, Sun 15.08.2021\">\\n             <span class=\"greentext\">\\n              3:1\\n             </span>\\n            </a>\\n           </nobr>\\n          </td>\\n          <td>\\n           <nobr>\\n            <a class=\"ergebnis-link\" href=\"/1-fc-koln_arminia-bielefeld/index/spielbericht/3588613\" id=\"3588613\" title=\"31. Matchday, Sat 23.04.2022\">\\n             <span class=\"greentext\">\\n              3:1\\n             </span>\\n            </a>\\n           </nobr>\\n          </td>\\n          <td>\\n           <nobr>\\n            <a class=\"ergebnis-link\" href=\"/1-fc-koln_spvgg-greuther-furth/index/spielbericht/3588228\" id=\"3588228\" title=\"7. Matchday, Fri 01.10.2021\">\\n             <span class=\"greentext\">\\n              3:1\\n             </span>\\n            </a>\\n           </nobr>\\n          </td>\\n          <td>\\n           <a href=\"/1-fc-koln/startseite/verein/3/saison_id/2021\" title=\"1.FC Köln\">\\n            <img alt=\"1.FC Köln\" class=\"tiny_wappen\" src=\"https://tmssl.akamaized.net/images/wappen/tiny/3.png?lm=1656580823\" title=\"1.FC Köln\"/>\\n           </a>\\n          </td>\\n         </tr>\\n         <tr>\\n          <td>\\n           <a href=\"/1-fsv-mainz-05/startseite/verein/39/saison_id/2021\" title=\"1.FSV Mainz 05\">\\n            <img alt=\"1.FSV Mainz 05\" class=\"tiny_wappen\" src=\"https://tmssl.akamaized.net/images/wappen/tiny/39.png?lm=1564748880\" title=\"1.FSV Mainz 05\"/>\\n           </a>\\n          </td>\\n          <td>\\n           <nobr>\\n            <a class=\"ergebnis-link\" href=\"/1-fsv-mainz-05_bayern-munich/index/spielbericht/3588631\" id=\"3588631\" title=\"32. Matchday, Sat 30.04.2022\">\\n             <span class=\"greentext\">\\n              3:1\\n             </span>\\n            </a>\\n           </nobr>\\n          </td>\\n          <td>\\n           <nobr>\\n            <a class=\"ergebnis-link\" href=\"/1-fsv-mainz-05_borussia-dortmund/index/spielbericht/3588512\" id=\"3588512\" title=\"25. Matchday, Wed 16.03.2022\">\\n             <span class=\"redtext\">\\n              0:1\\n             </span>\\n            </a>\\n           </nobr>\\n          </td>\\n          <td>\\n           <nobr>\\n            <a class=\"ergebnis-link\" href=\"/1-fsv-mainz-05_bayer-04-leverkusen/index/spielbericht/3588485\" id=\"3588485\" title=\"23. Matchday, Fri 18.02.2022\">\\n             <span class=\"greentext\">\\n              3:2\\n             </span>\\n            </a>\\n           </nobr>\\n          </td>\\n          <td>\\n           <nobr>\\n            <a class=\"ergebnis-link\" href=\"/1-fsv-mainz-05_rb-leipzig/index/spielbericht/3588144\" id=\"3588144\" title=\"1. Matchday, Sun 15.08.2021\">\\n             <span class=\"greentext\">\\n              1:0\\n             </span>\\n            </a>\\n           </nobr>\\n          </td>\\n          <td>\\n           <nobr>\\n            <a class=\"ergebnis-link\" href=\"/1-fsv-mainz-05_1-fc-union-berlin/index/spielbericht/3588225\" id=\"3588225\" title=\"7. Matchday, Sun 03.10.2021\">\\n             <span class=\"redtext\">\\n              1:2\\n             </span>\\n            </a>\\n           </nobr>\\n          </td>\\n          <td>\\n           <nobr>\\n            <a class=\"ergebnis-link\" href=\"/1-fsv-mainz-05_sc-freiburg/index/spielbericht/3588197\" id=\"3588197\" title=\"5. Matchday, Sat 18.09.2021\">\\n             <span class=\"\">\\n              0:0\\n             </span>\\n            </a>\\n           </nobr>\\n          </td>\\n          <td>\\n           <nobr>\\n            <a class=\"ergebnis-link\" href=\"/1-fsv-mainz-05_1-fc-koln/index/spielbericht/3588307\" id=\"3588307\" title=\"12. Matchday, Sun 21.11.2021\">\\n             <span class=\"\">\\n              1:1\\n             </span>\\n            </a>\\n           </nobr>\\n          </td>\\n          <td>\\n           <nobr>\\n            -\\n           </nobr>\\n          </td>\\n          <td>\\n           <nobr>\\n            <a class=\"ergebnis-link\" href=\"/1-fsv-mainz-05_tsg-1899-hoffenheim/index/spielbericht/3588458\" id=\"3588458\" title=\"21. Matchday, Sat 05.02.2022\">\\n             <span class=\"greentext\">\\n              2:0\\n             </span>\\n            </a>\\n           </nobr>\\n          </td>\\n          <td>\\n           <nobr>\\n            <a class=\"ergebnis-link\" href=\"/1-fsv-mainz-05_borussia-monchengladbach/index/spielbericht/3588287\" id=\"3588287\" title=\"11. Matchday, Fri 05.11.2021\">\\n             <span class=\"\">\\n              1:1\\n             </span>\\n            </a>\\n           </nobr>\\n          </td>\\n          <td>\\n           <nobr>\\n            <a class=\"ergebnis-link\" href=\"/1-fsv-mainz-05_eintracht-frankfurt/index/spielbericht/3588673\" id=\"3588673\" title=\"34. Matchday, Sat 14.05.2022\">\\n             <span class=\"\">\\n              2:2\\n             </span>\\n            </a>\\n           </nobr>\\n          </td>\\n          <td>\\n           <nobr>\\n            <a class=\"ergebnis-link\" href=\"/1-fsv-mainz-05_vfl-wolfsburg/index/spielbericht/3588343\" id=\"3588343\" title=\"14. Matchday, Sat 04.12.2021\">\\n             <span class=\"greentext\">\\n              3:0\\n             </span>\\n            </a>\\n           </nobr>\\n          </td>\\n          <td>\\n           <nobr>\\n            <a class=\"ergebnis-link\" href=\"/1-fsv-mainz-05_vfl-bochum/index/spielbericht/3588423\" id=\"3588423\" title=\"19. Matchday, Sat 15.01.2022\">\\n             <span class=\"greentext\">\\n              1:0\\n             </span>\\n            </a>\\n           </nobr>\\n          </td>\\n          <td>\\n           <nobr>\\n            <a class=\"ergebnis-link\" href=\"/1-fsv-mainz-05_fc-augsburg/index/spielbericht/3588260\" id=\"3588260\" title=\"9. Matchday, Fri 22.10.2021\">\\n             <span class=\"greentext\">\\n              4:1\\n             </span>\\n            </a>\\n           </nobr>\\n          </td>\\n          <td>\\n           <nobr>\\n            <a class=\"ergebnis-link\" href=\"/1-fsv-mainz-05_vfb-stuttgart/index/spielbericht/3588595\" id=\"3588595\" title=\"30. Matchday, Sat 16.04.2022\">\\n             <span class=\"\">\\n              0:0\\n             </span>\\n            </a>\\n           </nobr>\\n          </td>\\n          <td>\\n           <nobr>\\n            <a class=\"ergebnis-link\" href=\"/1-fsv-mainz-05_hertha-bsc/index/spielbericht/3588379\" id=\"3588379\" title=\"16. Matchday, Tue 14.12.2021\">\\n             <span class=\"greentext\">\\n              4:0\\n             </span>\\n            </a>\\n           </nobr>\\n          </td>\\n          <td>\\n           <nobr>\\n            <a class=\"ergebnis-link\" href=\"/1-fsv-mainz-05_arminia-bielefeld/index/spielbericht/3588548\" id=\"3588548\" title=\"27. Matchday, Sat 19.03.2022\">\\n             <span class=\"greentext\">\\n              4:0\\n             </span>\\n            </a>\\n           </nobr>\\n          </td>\\n          <td>\\n           <nobr>\\n            <a class=\"ergebnis-link\" href=\"/1-fsv-mainz-05_spvgg-greuther-furth/index/spielbericht/3588171\" id=\"3588171\" title=\"3. Matchday, Sat 28.08.2021\">\\n             <span class=\"greentext\">\\n              3:0\\n             </span>\\n            </a>\\n           </nobr>\\n          </td>\\n          <td>\\n           <a href=\"/1-fsv-mainz-05/startseite/verein/39/saison_id/2021\" title=\"1.FSV Mainz 05\">\\n            <img alt=\"1.FSV Mainz 05\" class=\"tiny_wappen\" src=\"https://tmssl.akamaized.net/images/wappen/tiny/39.png?lm=1564748880\" title=\"1.FSV Mainz 05\"/>\\n           </a>\\n          </td>\\n         </tr>\\n         <tr>\\n          <td>\\n           <a href=\"/tsg-1899-hoffenheim/startseite/verein/533/saison_id/2021\" title=\"TSG 1899 Hoffenheim\">\\n            <img alt=\"TSG 1899 Hoffenheim\" class=\"tiny_wappen\" src=\"https://tmssl.akamaized.net/images/wappen/tiny/533.png?lm=1675591766\" title=\"TSG 1899 Hoffenheim\"/>\\n           </a>\\n          </td>\\n          <td>\\n           <nobr>\\n            <a class=\"ergebnis-link\" href=\"/tsg-1899-hoffenheim_bayern-munich/index/spielbericht/3588532\" id=\"3588532\" title=\"26. Matchday, Sat 12.03.2022\">\\n             <span class=\"\">\\n              1:1\\n             </span>\\n            </a>\\n           </nobr>\\n          </td>\\n          <td>\\n           <nobr>\\n            <a class=\"ergebnis-link\" href=\"/tsg-1899-hoffenheim_borussia-dortmund/index/spielbericht/3588441\" id=\"3588441\" title=\"20. Matchday, Sat 22.01.2022\">\\n             <span class=\"redtext\">\\n              2:3\\n             </span>\\n            </a>\\n           </nobr>\\n          </td>\\n          <td>\\n           <nobr>\\n            <a class=\"ergebnis-link\" href=\"/tsg-1899-hoffenheim_bayer-04-leverkusen/index/spielbericht/3588653\" id=\"3588653\" title=\"33. Matchday, Sat 07.05.2022\">\\n             <span class=\"redtext\">\\n              2:4\\n             </span>\\n            </a>\\n           </nobr>\\n          </td>\\n          <td>\\n           <nobr>\\n            <a class=\"ergebnis-link\" href=\"/tsg-1899-hoffenheim_rb-leipzig/index/spielbericht/3588306\" id=\"3588306\" title=\"12. Matchday, Sat 20.11.2021\">\\n             <span class=\"greentext\">\\n              2:0\\n             </span>\\n            </a>\\n           </nobr>\\n          </td>\\n          <td>\\n           <nobr>\\n            <a class=\"ergebnis-link\" href=\"/tsg-1899-hoffenheim_1-fc-union-berlin/index/spielbericht/3588153\" id=\"3588153\" title=\"2. Matchday, Sun 22.08.2021\">\\n             <span class=\"\">\\n              2:2\\n             </span>\\n            </a>\\n           </nobr>\\n          </td>\\n          <td>\\n           <nobr>\\n            <a class=\"ergebnis-link\" href=\"/tsg-1899-hoffenheim_sc-freiburg/index/spielbericht/3588630\" id=\"3588630\" title=\"32. Matchday, Sat 30.04.2022\">\\n             <span class=\"redtext\">\\n              3:4\\n             </span>\\n            </a>\\n           </nobr>\\n          </td>\\n          <td>\\n           <nobr>\\n            <a class=\"ergebnis-link\" href=\"/tsg-1899-hoffenheim_1-fc-koln/index/spielbericht/3588244\" id=\"3588244\" title=\"8. Matchday, Fri 15.10.2021\">\\n             <span class=\"greentext\">\\n              5:0\\n             </span>\\n            </a>\\n           </nobr>\\n          </td>\\n          <td>\\n           <nobr>\\n            <a class=\"ergebnis-link\" href=\"/tsg-1899-hoffenheim_1-fsv-mainz-05/index/spielbericht/3588181\" id=\"3588181\" title=\"4. Matchday, Sat 11.09.2021\">\\n             <span class=\"redtext\">\\n              0:2\\n             </span>\\n            </a>\\n           </nobr>\\n          </td>\\n          <td>\\n           <nobr>\\n            -\\n           </nobr>\\n          </td>\\n          <td>\\n           <nobr>\\n            <a class=\"ergebnis-link\" href=\"/tsg-1899-hoffenheim_borussia-monchengladbach/index/spielbericht/3588386\" id=\"3588386\" title=\"17. Matchday, Sat 18.12.2021\">\\n             <span class=\"\">\\n              1:1\\n             </span>\\n            </a>\\n           </nobr>\\n          </td>\\n          <td>\\n           <nobr>\\n            <a class=\"ergebnis-link\" href=\"/tsg-1899-hoffenheim_eintracht-frankfurt/index/spielbericht/3588342\" id=\"3588342\" title=\"14. Matchday, Sat 04.12.2021\">\\n             <span class=\"greentext\">\\n              3:2\\n             </span>\\n            </a>\\n           </nobr>\\n          </td>\\n          <td>\\n           <nobr>\\n            <a class=\"ergebnis-link\" href=\"/tsg-1899-hoffenheim_vfl-wolfsburg/index/spielbericht/3588217\" id=\"3588217\" title=\"6. Matchday, Sat 25.09.2021\">\\n             <span class=\"greentext\">\\n              3:1\\n             </span>\\n            </a>\\n           </nobr>\\n          </td>\\n          <td>\\n           <nobr>\\n            <a class=\"ergebnis-link\" href=\"/tsg-1899-hoffenheim_vfl-bochum/index/spielbericht/3588568\" id=\"3588568\" title=\"28. Matchday, Sat 02.04.2022\">\\n             <span class=\"redtext\">\\n              1:2\\n             </span>\\n            </a>\\n           </nobr>\\n          </td>\\n          <td>\\n           <nobr>\\n            <a class=\"ergebnis-link\" href=\"/tsg-1899-hoffenheim_fc-augsburg/index/spielbericht/3588405\" id=\"3588405\" title=\"18. Matchday, Sat 08.01.2022\">\\n             <span class=\"greentext\">\\n              3:1\\n             </span>\\n            </a>\\n           </nobr>\\n          </td>\\n          <td>\\n           <nobr>\\n            <a class=\"ergebnis-link\" href=\"/tsg-1899-hoffenheim_vfb-stuttgart/index/spielbericht/3588495\" id=\"3588495\" title=\"24. Matchday, Fri 25.02.2022\">\\n             <span class=\"greentext\">\\n              2:1\\n             </span>\\n            </a>\\n           </nobr>\\n          </td>\\n          <td>\\n           <nobr>\\n            <a class=\"ergebnis-link\" href=\"/tsg-1899-hoffenheim_hertha-bsc/index/spielbericht/3588280\" id=\"3588280\" title=\"10. Matchday, Fri 29.10.2021\">\\n             <span class=\"greentext\">\\n              2:0\\n             </span>\\n            </a>\\n           </nobr>\\n          </td>\\n          <td>\\n           <nobr>\\n            <a class=\"ergebnis-link\" href=\"/tsg-1899-hoffenheim_arminia-bielefeld/index/spielbericht/3588469\" id=\"3588469\" title=\"22. Matchday, Sun 13.02.2022\">\\n             <span class=\"greentext\">\\n              2:0\\n             </span>\\n            </a>\\n           </nobr>\\n          </td>\\n          <td>\\n           <nobr>\\n            <a class=\"ergebnis-link\" href=\"/tsg-1899-hoffenheim_spvgg-greuther-furth/index/spielbericht/3588594\" id=\"3588594\" title=\"30. Matchday, Sun 17.04.2022\">\\n             <span class=\"\">\\n              0:0\\n             </span>\\n            </a>\\n           </nobr>\\n          </td>\\n          <td>\\n           <a href=\"/tsg-1899-hoffenheim/startseite/verein/533/saison_id/2021\" title=\"TSG 1899 Hoffenheim\">\\n            <img alt=\"TSG 1899 Hoffenheim\" class=\"tiny_wappen\" src=\"https://tmssl.akamaized.net/images/wappen/tiny/533.png?lm=1675591766\" title=\"TSG 1899 Hoffenheim\"/>\\n           </a>\\n          </td>\\n         </tr>\\n         <tr>\\n          <td>\\n           <a href=\"/borussia-monchengladbach/startseite/verein/18/saison_id/2021\" title=\"Borussia Mönchengladbach\">\\n            <img alt=\"Borussia Mönchengladbach\" class=\"tiny_wappen\" src=\"https://tmssl.akamaized.net/images/wappen/tiny/18.png?lm=1656585796\" title=\"Borussia Mönchengladbach\"/>\\n           </a>\\n          </td>\\n          <td>\\n           <nobr>\\n            <a class=\"ergebnis-link\" href=\"/borussia-monchengladbach_bayern-munich/index/spielbericht/3588139\" id=\"3588139\" title=\"1. Matchday, Fri 13.08.2021\">\\n             <span class=\"\">\\n              1:1\\n             </span>\\n            </a>\\n           </nobr>\\n          </td>\\n          <td>\\n           <nobr>\\n            <a class=\"ergebnis-link\" href=\"/borussia-monchengladbach_borussia-dortmund/index/spielbericht/3588215\" id=\"3588215\" title=\"6. Matchday, Sat 25.09.2021\">\\n             <span class=\"greentext\">\\n              1:0\\n             </span>\\n            </a>\\n           </nobr>\\n          </td>\\n          <td>\\n           <nobr>\\n            <a class=\"ergebnis-link\" href=\"/borussia-monchengladbach_bayer-04-leverkusen/index/spielbericht/3588421\" id=\"3588421\" title=\"19. Matchday, Sat 15.01.2022\">\\n             <span class=\"redtext\">\\n              1:2\\n             </span>\\n            </a>\\n           </nobr>\\n          </td>\\n          <td>\\n           <nobr>\\n            <a class=\"ergebnis-link\" href=\"/borussia-monchengladbach_rb-leipzig/index/spielbericht/3588628\" id=\"3588628\" title=\"32. Matchday, Mon 02.05.2022\">\\n             <span class=\"greentext\">\\n              3:1\\n             </span>\\n            </a>\\n           </nobr>\\n          </td>\\n          <td>\\n           <nobr>\\n            <a class=\"ergebnis-link\" href=\"/borussia-monchengladbach_1-fc-union-berlin/index/spielbericht/3588439\" id=\"3588439\" title=\"20. Matchday, Sat 22.01.2022\">\\n             <span class=\"redtext\">\\n              1:2\\n             </span>\\n            </a>\\n           </nobr>\\n          </td>\\n          <td>\\n           <nobr>\\n            <a class=\"ergebnis-link\" href=\"/borussia-monchengladbach_sc-freiburg/index/spielbericht/3588340\" id=\"3588340\" title=\"14. Matchday, Sun 05.12.2021\">\\n             <span class=\"redtext\">\\n              0:6\\n             </span>\\n            </a>\\n           </nobr>\\n          </td>\\n          <td>\\n           <nobr>\\n            <a class=\"ergebnis-link\" href=\"/borussia-monchengladbach_1-fc-koln/index/spielbericht/3588592\" id=\"3588592\" title=\"30. Matchday, Sat 16.04.2022\">\\n             <span class=\"redtext\">\\n              1:3\\n             </span>\\n            </a>\\n           </nobr>\\n          </td>\\n          <td>\\n           <nobr>\\n            <a class=\"ergebnis-link\" href=\"/borussia-monchengladbach_1-fsv-mainz-05/index/spielbericht/3588566\" id=\"3588566\" title=\"28. Matchday, Sun 03.04.2022\">\\n             <span class=\"\">\\n              1:1\\n             </span>\\n            </a>\\n           </nobr>\\n          </td>\\n          <td>\\n           <nobr>\\n            <a class=\"ergebnis-link\" href=\"/borussia-monchengladbach_tsg-1899-hoffenheim/index/spielbericht/3588671\" id=\"3588671\" title=\"34. Matchday, Sat 14.05.2022\">\\n             <span class=\"greentext\">\\n              5:1\\n             </span>\\n            </a>\\n           </nobr>\\n          </td>\\n          <td>\\n           <nobr>\\n            -\\n           </nobr>\\n          </td>\\n          <td>\\n           <nobr>\\n            <a class=\"ergebnis-link\" href=\"/borussia-monchengladbach_eintracht-frankfurt/index/spielbericht/3588377\" id=\"3588377\" title=\"16. Matchday, Wed 15.12.2021\">\\n             <span class=\"redtext\">\\n              2:3\\n             </span>\\n            </a>\\n           </nobr>\\n          </td>\\n          <td>\\n           <nobr>\\n            <a class=\"ergebnis-link\" href=\"/borussia-monchengladbach_vfl-wolfsburg/index/spielbericht/3588493\" id=\"3588493\" title=\"24. Matchday, Sat 26.02.2022\">\\n             <span class=\"\">\\n              2:2\\n             </span>\\n            </a>\\n           </nobr>\\n          </td>\\n          <td>\\n           <nobr>\\n            <a class=\"ergebnis-link\" href=\"/borussia-monchengladbach_vfl-bochum/index/spielbericht/3588278\" id=\"3588278\" title=\"10. Matchday, Sun 31.10.2021\">\\n             <span class=\"greentext\">\\n              2:1\\n             </span>\\n            </a>\\n           </nobr>\\n          </td>\\n          <td>\\n           <nobr>\\n            <a class=\"ergebnis-link\" href=\"/borussia-monchengladbach_fc-augsburg/index/spielbericht/3588467\" id=\"3588467\" title=\"22. Matchday, Sat 12.02.2022\">\\n             <span class=\"greentext\">\\n              3:2\\n             </span>\\n            </a>\\n           </nobr>\\n          </td>\\n          <td>\\n           <nobr>\\n            <a class=\"ergebnis-link\" href=\"/borussia-monchengladbach_vfb-stuttgart/index/spielbericht/3588242\" id=\"3588242\" title=\"8. Matchday, Sat 16.10.2021\">\\n             <span class=\"\">\\n              1:1\\n             </span>\\n            </a>\\n           </nobr>\\n          </td>\\n          <td>\\n           <nobr>\\n            <a class=\"ergebnis-link\" href=\"/borussia-monchengladbach_hertha-bsc/index/spielbericht/3588530\" id=\"3588530\" title=\"26. Matchday, Sat 12.03.2022\">\\n             <span class=\"greentext\">\\n              2:0\\n             </span>\\n            </a>\\n           </nobr>\\n          </td>\\n          <td>\\n           <nobr>\\n            <a class=\"ergebnis-link\" href=\"/borussia-monchengladbach_arminia-bielefeld/index/spielbericht/3588179\" id=\"3588179\" title=\"4. Matchday, Sun 12.09.2021\">\\n             <span class=\"greentext\">\\n              3:1\\n             </span>\\n            </a>\\n           </nobr>\\n          </td>\\n          <td>\\n           <nobr>\\n            <a class=\"ergebnis-link\" href=\"/borussia-monchengladbach_spvgg-greuther-furth/index/spielbericht/3588304\" id=\"3588304\" title=\"12. Matchday, Sat 20.11.2021\">\\n             <span class=\"greentext\">\\n              4:0\\n             </span>\\n            </a>\\n           </nobr>\\n          </td>\\n          <td>\\n           <a href=\"/borussia-monchengladbach/startseite/verein/18/saison_id/2021\" title=\"Borussia Mönchengladbach\">\\n            <img alt=\"Borussia Mönchengladbach\" class=\"tiny_wappen\" src=\"https://tmssl.akamaized.net/images/wappen/tiny/18.png?lm=1656585796\" title=\"Borussia Mönchengladbach\"/>\\n           </a>\\n          </td>\\n         </tr>\\n         <tr>\\n          <td>\\n           <a href=\"/eintracht-frankfurt/startseite/verein/24/saison_id/2021\" title=\"Eintracht Frankfurt\">\\n            <img alt=\"Eintracht Frankfurt\" class=\"tiny_wappen\" src=\"https://tmssl.akamaized.net/images/wappen/tiny/24.png?lm=1403806187\" title=\"Eintracht Frankfurt\"/>\\n           </a>\\n          </td>\\n          <td>\\n           <nobr>\\n            <a class=\"ergebnis-link\" href=\"/eintracht-frankfurt_bayern-munich/index/spielbericht/3588490\" id=\"3588490\" title=\"24. Matchday, Sat 26.02.2022\">\\n             <span class=\"redtext\">\\n              0:1\\n             </span>\\n            </a>\\n           </nobr>\\n          </td>\\n          <td>\\n           <nobr>\\n            <a class=\"ergebnis-link\" href=\"/eintracht-frankfurt_borussia-dortmund/index/spielbericht/3588402\" id=\"3588402\" title=\"18. Matchday, Sat 08.01.2022\">\\n             <span class=\"redtext\">\\n              2:3\\n             </span>\\n            </a>\\n           </nobr>\\n          </td>\\n          <td>\\n           <nobr>\\n            <a class=\"ergebnis-link\" href=\"/eintracht-frankfurt_bayer-04-leverkusen/index/spielbericht/3588349\" id=\"3588349\" title=\"15. Matchday, Sun 12.12.2021\">\\n             <span class=\"greentext\">\\n              5:2\\n             </span>\\n            </a>\\n           </nobr>\\n          </td>\\n          <td>\\n           <nobr>\\n            <a class=\"ergebnis-link\" href=\"/eintracht-frankfurt_rb-leipzig/index/spielbericht/3588275\" id=\"3588275\" title=\"10. Matchday, Sat 30.10.2021\">\\n             <span class=\"\">\\n              1:1\\n             </span>\\n            </a>\\n           </nobr>\\n          </td>\\n          <td>\\n           <nobr>\\n            <a class=\"ergebnis-link\" href=\"/eintracht-frankfurt_1-fc-union-berlin/index/spielbericht/3588322\" id=\"3588322\" title=\"13. Matchday, Sun 28.11.2021\">\\n             <span class=\"greentext\">\\n              2:1\\n             </span>\\n            </a>\\n           </nobr>\\n          </td>\\n          <td>\\n           <nobr>\\n            <a class=\"ergebnis-link\" href=\"/eintracht-frankfurt_sc-freiburg/index/spielbericht/3588583\" id=\"3588583\" title=\"29. Matchday, Sun 10.04.2022\">\\n             <span class=\"redtext\">\\n              1:2\\n             </span>\\n            </a>\\n           </nobr>\\n          </td>\\n          <td>\\n           <nobr>\\n            <a class=\"ergebnis-link\" href=\"/eintracht-frankfurt_1-fc-koln/index/spielbericht/3588212\" id=\"3588212\" title=\"6. Matchday, Sat 25.09.2021\">\\n             <span class=\"\">\\n              1:1\\n             </span>\\n            </a>\\n           </nobr>\\n          </td>\\n          <td>\\n           <nobr>\\n            <a class=\"ergebnis-link\" href=\"/eintracht-frankfurt_1-fsv-mainz-05/index/spielbericht/3588384\" id=\"3588384\" title=\"17. Matchday, Sat 18.12.2021\">\\n             <span class=\"greentext\">\\n              1:0\\n             </span>\\n            </a>\\n           </nobr>\\n          </td>\\n          <td>\\n           <nobr>\\n            <a class=\"ergebnis-link\" href=\"/eintracht-frankfurt_tsg-1899-hoffenheim/index/spielbericht/3588610\" id=\"3588610\" title=\"31. Matchday, Sat 23.04.2022\">\\n             <span class=\"\">\\n              2:2\\n             </span>\\n            </a>\\n           </nobr>\\n          </td>\\n          <td>\\n           <nobr>\\n            <a class=\"ergebnis-link\" href=\"/eintracht-frankfurt_borussia-monchengladbach/index/spielbericht/3588651\" id=\"3588651\" title=\"33. Matchday, Sun 08.05.2022\">\\n             <span class=\"\">\\n              1:1\\n             </span>\\n            </a>\\n           </nobr>\\n          </td>\\n          <td>\\n           <nobr>\\n            -\\n           </nobr>\\n          </td>\\n          <td>\\n           <nobr>\\n            <a class=\"ergebnis-link\" href=\"/eintracht-frankfurt_vfl-wolfsburg/index/spielbericht/3588464\" id=\"3588464\" title=\"22. Matchday, Sat 12.02.2022\">\\n             <span class=\"redtext\">\\n              0:2\\n             </span>\\n            </a>\\n           </nobr>\\n          </td>\\n          <td>\\n           <nobr>\\n            <a class=\"ergebnis-link\" href=\"/eintracht-frankfurt_vfl-bochum/index/spielbericht/3588527\" id=\"3588527\" title=\"26. Matchday, Sun 13.03.2022\">\\n             <span class=\"greentext\">\\n              2:1\\n             </span>\\n            </a>\\n           </nobr>\\n          </td>\\n          <td>\\n           <nobr>\\n            <a class=\"ergebnis-link\" href=\"/eintracht-frankfurt_fc-augsburg/index/spielbericht/3588150\" id=\"3588150\" title=\"2. Matchday, Sat 21.08.2021\">\\n             <span class=\"\">\\n              0:0\\n             </span>\\n            </a>\\n           </nobr>\\n          </td>\\n          <td>\\n           <nobr>\\n            <a class=\"ergebnis-link\" href=\"/eintracht-frankfurt_vfb-stuttgart/index/spielbericht/3588176\" id=\"3588176\" title=\"4. Matchday, Sun 12.09.2021\">\\n             <span class=\"\">\\n              1:1\\n             </span>\\n            </a>\\n           </nobr>\\n          </td>\\n          <td>\\n           <nobr>\\n            <a class=\"ergebnis-link\" href=\"/eintracht-frankfurt_hertha-bsc/index/spielbericht/3588239\" id=\"3588239\" title=\"8. Matchday, Sat 16.10.2021\">\\n             <span class=\"redtext\">\\n              1:2\\n             </span>\\n            </a>\\n           </nobr>\\n          </td>\\n          <td>\\n           <nobr>\\n            <a class=\"ergebnis-link\" href=\"/eintracht-frankfurt_arminia-bielefeld/index/spielbericht/3588437\" id=\"3588437\" title=\"20. Matchday, Fri 21.01.2022\">\\n             <span class=\"redtext\">\\n              0:2\\n             </span>\\n            </a>\\n           </nobr>\\n          </td>\\n          <td>\\n           <nobr>\\n            <a class=\"ergebnis-link\" href=\"/eintracht-frankfurt_spvgg-greuther-furth/index/spielbericht/3588563\" id=\"3588563\" title=\"28. Matchday, Sat 02.04.2022\">\\n             <span class=\"\">\\n              0:0\\n             </span>\\n            </a>\\n           </nobr>\\n          </td>\\n          <td>\\n           <a href=\"/eintracht-frankfurt/startseite/verein/24/saison_id/2021\" title=\"Eintracht Frankfurt\">\\n            <img alt=\"Eintracht Frankfurt\" class=\"tiny_wappen\" src=\"https://tmssl.akamaized.net/images/wappen/tiny/24.png?lm=1403806187\" title=\"Eintracht Frankfurt\"/>\\n           </a>\\n          </td>\\n         </tr>\\n         <tr>\\n          <td>\\n           <a href=\"/vfl-wolfsburg/startseite/verein/82/saison_id/2021\" title=\"VfL Wolfsburg\">\\n            <img alt=\"VfL Wolfsburg\" class=\"tiny_wappen\" src=\"https://tmssl.akamaized.net/images/wappen/tiny/82.png?lm=1503060755\" title=\"VfL Wolfsburg\"/>\\n           </a>\\n          </td>\\n          <td>\\n           <nobr>\\n            <a class=\"ergebnis-link\" href=\"/vfl-wolfsburg_bayern-munich/index/spielbericht/3588668\" id=\"3588668\" title=\"34. Matchday, Sat 14.05.2022\">\\n             <span class=\"\">\\n              2:2\\n             </span>\\n            </a>\\n           </nobr>\\n          </td>\\n          <td>\\n           <nobr>\\n            <a class=\"ergebnis-link\" href=\"/vfl-wolfsburg_borussia-dortmund/index/spielbericht/3588321\" id=\"3588321\" title=\"13. Matchday, Sat 27.11.2021\">\\n             <span class=\"redtext\">\\n              1:3\\n             </span>\\n            </a>\\n           </nobr>\\n          </td>\\n          <td>\\n           <nobr>\\n            <a class=\"ergebnis-link\" href=\"/vfl-wolfsburg_bayer-04-leverkusen/index/spielbericht/3588546\" id=\"3588546\" title=\"27. Matchday, Sun 20.03.2022\">\\n             <span class=\"redtext\">\\n              0:2\\n             </span>\\n            </a>\\n           </nobr>\\n          </td>\\n          <td>\\n           <nobr>\\n            <a class=\"ergebnis-link\" href=\"/vfl-wolfsburg_rb-leipzig/index/spielbericht/3588168\" id=\"3588168\" title=\"3. Matchday, Sun 29.08.2021\">\\n             <span class=\"greentext\">\\n              1:0\\n             </span>\\n            </a>\\n           </nobr>\\n          </td>\\n          <td>\\n           <nobr>\\n            <a class=\"ergebnis-link\" href=\"/vfl-wolfsburg_1-fc-union-berlin/index/spielbericht/3588510\" id=\"3588510\" title=\"25. Matchday, Sat 05.03.2022\">\\n             <span class=\"greentext\">\\n              1:0\\n             </span>\\n            </a>\\n           </nobr>\\n          </td>\\n          <td>\\n           <nobr>\\n            <a class=\"ergebnis-link\" href=\"/vfl-wolfsburg_sc-freiburg/index/spielbericht/3588258\" id=\"3588258\" title=\"9. Matchday, Sat 23.10.2021\">\\n             <span class=\"redtext\">\\n              0:2\\n             </span>\\n            </a>\\n           </nobr>\\n          </td>\\n          <td>\\n           <nobr>\\n            <a class=\"ergebnis-link\" href=\"/vfl-wolfsburg_1-fc-koln/index/spielbericht/3588374\" id=\"3588374\" title=\"16. Matchday, Tue 14.12.2021\">\\n             <span class=\"redtext\">\\n              2:3\\n             </span>\\n            </a>\\n           </nobr>\\n          </td>\\n          <td>\\n           <nobr>\\n            <a class=\"ergebnis-link\" href=\"/vfl-wolfsburg_1-fsv-mainz-05/index/spielbericht/3588609\" id=\"3588609\" title=\"31. Matchday, Fri 22.04.2022\">\\n             <span class=\"greentext\">\\n              5:0\\n             </span>\\n            </a>\\n           </nobr>\\n          </td>\\n          <td>\\n           <nobr>\\n            <a class=\"ergebnis-link\" href=\"/vfl-wolfsburg_tsg-1899-hoffenheim/index/spielbericht/3588483\" id=\"3588483\" title=\"23. Matchday, Sat 19.02.2022\">\\n             <span class=\"redtext\">\\n              1:2\\n             </span>\\n            </a>\\n           </nobr>\\n          </td>\\n          <td>\\n           <nobr>\\n            <a class=\"ergebnis-link\" href=\"/vfl-wolfsburg_borussia-monchengladbach/index/spielbericht/3588223\" id=\"3588223\" title=\"7. Matchday, Sat 02.10.2021\">\\n             <span class=\"redtext\">\\n              1:3\\n             </span>\\n            </a>\\n           </nobr>\\n          </td>\\n          <td>\\n           <nobr>\\n            <a class=\"ergebnis-link\" href=\"/vfl-wolfsburg_eintracht-frankfurt/index/spielbericht/3588195\" id=\"3588195\" title=\"5. Matchday, Sun 19.09.2021\">\\n             <span class=\"\">\\n              1:1\\n             </span>\\n            </a>\\n           </nobr>\\n          </td>\\n          <td>\\n           <nobr>\\n            -\\n           </nobr>\\n          </td>\\n          <td>\\n           <nobr>\\n            <a class=\"ergebnis-link\" href=\"/vfl-wolfsburg_vfl-bochum/index/spielbericht/3588141\" id=\"3588141\" title=\"1. Matchday, Sat 14.08.2021\">\\n             <span class=\"greentext\">\\n              1:0\\n             </span>\\n            </a>\\n           </nobr>\\n          </td>\\n          <td>\\n           <nobr>\\n            <a class=\"ergebnis-link\" href=\"/vfl-wolfsburg_fc-augsburg/index/spielbericht/3588285\" id=\"3588285\" title=\"11. Matchday, Sat 06.11.2021\">\\n             <span class=\"greentext\">\\n              1:0\\n             </span>\\n            </a>\\n           </nobr>\\n          </td>\\n          <td>\\n           <nobr>\\n            <a class=\"ergebnis-link\" href=\"/vfl-wolfsburg_vfb-stuttgart/index/spielbericht/3588348\" id=\"3588348\" title=\"15. Matchday, Sat 11.12.2021\">\\n             <span class=\"redtext\">\\n              0:2\\n             </span>\\n            </a>\\n           </nobr>\\n          </td>\\n          <td>\\n           <nobr>\\n            <a class=\"ergebnis-link\" href=\"/vfl-wolfsburg_hertha-bsc/index/spielbericht/3588419\" id=\"3588419\" title=\"19. Matchday, Sat 15.01.2022\">\\n             <span class=\"\">\\n              0:0\\n             </span>\\n            </a>\\n           </nobr>\\n          </td>\\n          <td>\\n           <nobr>\\n            <a class=\"ergebnis-link\" href=\"/vfl-wolfsburg_arminia-bielefeld/index/spielbericht/3588582\" id=\"3588582\" title=\"29. Matchday, Sat 09.04.2022\">\\n             <span class=\"greentext\">\\n              4:0\\n             </span>\\n            </a>\\n           </nobr>\\n          </td>\\n          <td>\\n           <nobr>\\n            <a class=\"ergebnis-link\" href=\"/vfl-wolfsburg_spvgg-greuther-furth/index/spielbericht/3588456\" id=\"3588456\" title=\"21. Matchday, Sun 06.02.2022\">\\n             <span class=\"greentext\">\\n              4:1\\n             </span>\\n            </a>\\n           </nobr>\\n          </td>\\n          <td>\\n           <a href=\"/vfl-wolfsburg/startseite/verein/82/saison_id/2021\" title=\"VfL Wolfsburg\">\\n            <img alt=\"VfL Wolfsburg\" class=\"tiny_wappen\" src=\"https://tmssl.akamaized.net/images/wappen/tiny/82.png?lm=1503060755\" title=\"VfL Wolfsburg\"/>\\n           </a>\\n          </td>\\n         </tr>\\n         <tr>\\n          <td>\\n           <a href=\"/vfl-bochum/startseite/verein/80/saison_id/2021\" title=\"VfL Bochum\">\\n            <img alt=\"VfL Bochum\" class=\"tiny_wappen\" src=\"https://tmssl.akamaized.net/images/wappen/tiny/80.png?lm=1656583090\" title=\"VfL Bochum\"/>\\n           </a>\\n          </td>\\n          <td>\\n           <nobr>\\n            <a class=\"ergebnis-link\" href=\"/vfl-bochum_bayern-munich/index/spielbericht/3588470\" id=\"3588470\" title=\"22. Matchday, Sat 12.02.2022\">\\n             <span class=\"greentext\">\\n              4:2\\n             </span>\\n            </a>\\n           </nobr>\\n          </td>\\n          <td>\\n           <nobr>\\n            <a class=\"ergebnis-link\" href=\"/vfl-bochum_borussia-dortmund/index/spielbericht/3588353\" id=\"3588353\" title=\"15. Matchday, Sat 11.12.2021\">\\n             <span class=\"\">\\n              1:1\\n             </span>\\n            </a>\\n           </nobr>\\n          </td>\\n          <td>\\n           <nobr>\\n            <a class=\"ergebnis-link\" href=\"/vfl-bochum_bayer-04-leverkusen/index/spielbericht/3588587\" id=\"3588587\" title=\"29. Matchday, Sun 10.04.2022\">\\n             <span class=\"\">\\n              0:0\\n             </span>\\n            </a>\\n           </nobr>\\n          </td>\\n          <td>\\n           <nobr>\\n            <a class=\"ergebnis-link\" href=\"/vfl-bochum_rb-leipzig/index/spielbericht/3588497\" id=\"3588497\" title=\"24. Matchday, Sun 27.02.2022\">\\n             <span class=\"redtext\">\\n              0:1\\n             </span>\\n            </a>\\n           </nobr>\\n          </td>\\n          <td>\\n           <nobr>\\n            <a class=\"ergebnis-link\" href=\"/vfl-bochum_1-fc-union-berlin/index/spielbericht/3588389\" id=\"3588389\" title=\"17. Matchday, Sat 18.12.2021\">\\n             <span class=\"redtext\">\\n              0:1\\n             </span>\\n            </a>\\n           </nobr>\\n          </td>\\n          <td>\\n           <nobr>\\n            <a class=\"ergebnis-link\" href=\"/vfl-bochum_sc-freiburg/index/spielbericht/3588326\" id=\"3588326\" title=\"13. Matchday, Sat 27.11.2021\">\\n             <span class=\"greentext\">\\n              2:1\\n             </span>\\n            </a>\\n           </nobr>\\n          </td>\\n          <td>\\n           <nobr>\\n            <a class=\"ergebnis-link\" href=\"/vfl-bochum_1-fc-koln/index/spielbericht/3588443\" id=\"3588443\" title=\"20. Matchday, Sat 22.01.2022\">\\n             <span class=\"\">\\n              2:2\\n             </span>\\n            </a>\\n           </nobr>\\n          </td>\\n          <td>\\n           <nobr>\\n            <a class=\"ergebnis-link\" href=\"/vfl-bochum_1-fsv-mainz-05/index/spielbericht/3588155\" id=\"3588155\" title=\"2. Matchday, Sat 21.08.2021\">\\n             <span class=\"greentext\">\\n              2:0\\n             </span>\\n            </a>\\n           </nobr>\\n          </td>\\n          <td>\\n           <nobr>\\n            <a class=\"ergebnis-link\" href=\"/vfl-bochum_tsg-1899-hoffenheim/index/spielbericht/3588290\" id=\"3588290\" title=\"11. Matchday, Sat 06.11.2021\">\\n             <span class=\"greentext\">\\n              2:0\\n             </span>\\n            </a>\\n           </nobr>\\n          </td>\\n          <td>\\n           <nobr>\\n            <a class=\"ergebnis-link\" href=\"/vfl-bochum_borussia-monchengladbach/index/spielbericht/3588551\" id=\"3588551\" title=\"27. Matchday, Fri 18.03.2022\">\\n             <span class=\"redtext\">\\n              0:2\\n             </span>\\n            </a>\\n           </nobr>\\n          </td>\\n          <td>\\n           <nobr>\\n            <a class=\"ergebnis-link\" href=\"/vfl-bochum_eintracht-frankfurt/index/spielbericht/3588264\" id=\"3588264\" title=\"9. Matchday, Sun 24.10.2021\">\\n             <span class=\"greentext\">\\n              2:0\\n             </span>\\n            </a>\\n           </nobr>\\n          </td>\\n          <td>\\n           <nobr>\\n            <a class=\"ergebnis-link\" href=\"/vfl-bochum_vfl-wolfsburg/index/spielbericht/3588407\" id=\"3588407\" title=\"18. Matchday, Sun 09.01.2022\">\\n             <span class=\"greentext\">\\n              1:0\\n             </span>\\n            </a>\\n           </nobr>\\n          </td>\\n          <td>\\n           <nobr>\\n            -\\n           </nobr>\\n          </td>\\n          <td>\\n           <nobr>\\n            <a class=\"ergebnis-link\" href=\"/vfl-bochum_fc-augsburg/index/spielbericht/3588614\" id=\"3588614\" title=\"31. Matchday, Sun 24.04.2022\">\\n             <span class=\"redtext\">\\n              0:2\\n             </span>\\n            </a>\\n           </nobr>\\n          </td>\\n          <td>\\n           <nobr>\\n            <a class=\"ergebnis-link\" href=\"/vfl-bochum_vfb-stuttgart/index/spielbericht/3588218\" id=\"3588218\" title=\"6. Matchday, Sun 26.09.2021\">\\n             <span class=\"\">\\n              0:0\\n             </span>\\n            </a>\\n           </nobr>\\n          </td>\\n          <td>\\n           <nobr>\\n            <a class=\"ergebnis-link\" href=\"/vfl-bochum_hertha-bsc/index/spielbericht/3588182\" id=\"3588182\" title=\"4. Matchday, Sun 12.09.2021\">\\n             <span class=\"redtext\">\\n              1:3\\n             </span>\\n            </a>\\n           </nobr>\\n          </td>\\n          <td>\\n           <nobr>\\n            <a class=\"ergebnis-link\" href=\"/vfl-bochum_arminia-bielefeld/index/spielbericht/3588656\" id=\"3588656\" title=\"33. Matchday, Fri 06.05.2022\">\\n             <span class=\"greentext\">\\n              2:1\\n             </span>\\n            </a>\\n           </nobr>\\n          </td>\\n          <td>\\n           <nobr>\\n            <a class=\"ergebnis-link\" href=\"/vfl-bochum_spvgg-greuther-furth/index/spielbericht/3588516\" id=\"3588516\" title=\"25. Matchday, Sat 05.03.2022\">\\n             <span class=\"greentext\">\\n              2:1\\n             </span>\\n            </a>\\n           </nobr>\\n          </td>\\n          <td>\\n           <a href=\"/vfl-bochum/startseite/verein/80/saison_id/2021\" title=\"VfL Bochum\">\\n            <img alt=\"VfL Bochum\" class=\"tiny_wappen\" src=\"https://tmssl.akamaized.net/images/wappen/tiny/80.png?lm=1656583090\" title=\"VfL Bochum\"/>\\n           </a>\\n          </td>\\n         </tr>\\n         <tr>\\n          <td>\\n           <a href=\"/fc-augsburg/startseite/verein/167/saison_id/2021\" title=\"FC Augsburg\">\\n            <img alt=\"FC Augsburg\" class=\"tiny_wappen\" src=\"https://tmssl.akamaized.net/images/wappen/tiny/167.png?lm=1656582897\" title=\"FC Augsburg\"/>\\n           </a>\\n          </td>\\n          <td>\\n           <nobr>\\n            <a class=\"ergebnis-link\" href=\"/fc-augsburg_bayern-munich/index/spielbericht/3588308\" id=\"3588308\" title=\"12. Matchday, Fri 19.11.2021\">\\n             <span class=\"greentext\">\\n              2:1\\n             </span>\\n            </a>\\n           </nobr>\\n          </td>\\n          <td>\\n           <nobr>\\n            <a class=\"ergebnis-link\" href=\"/fc-augsburg_borussia-dortmund/index/spielbericht/3588496\" id=\"3588496\" title=\"24. Matchday, Sun 27.02.2022\">\\n             <span class=\"\">\\n              1:1\\n             </span>\\n            </a>\\n           </nobr>\\n          </td>\\n          <td>\\n           <nobr>\\n            <a class=\"ergebnis-link\" href=\"/fc-augsburg_bayer-04-leverkusen/index/spielbericht/3588172\" id=\"3588172\" title=\"3. Matchday, Sat 28.08.2021\">\\n             <span class=\"redtext\">\\n              1:4\\n             </span>\\n            </a>\\n           </nobr>\\n          </td>\\n          <td>\\n           <nobr>\\n            <a class=\"ergebnis-link\" href=\"/fc-augsburg_rb-leipzig/index/spielbericht/3588380\" id=\"3588380\" title=\"16. Matchday, Wed 15.12.2021\">\\n             <span class=\"\">\\n              1:1\\n             </span>\\n            </a>\\n           </nobr>\\n          </td>\\n          <td>\\n           <nobr>\\n            <a class=\"ergebnis-link\" href=\"/fc-augsburg_1-fc-union-berlin/index/spielbericht/3588459\" id=\"3588459\" title=\"21. Matchday, Sat 05.02.2022\">\\n             <span class=\"greentext\">\\n              2:0\\n             </span>\\n            </a>\\n           </nobr>\\n          </td>\\n          <td>\\n           <nobr>\\n            <a class=\"ergebnis-link\" href=\"/fc-augsburg_sc-freiburg/index/spielbericht/3588486\" id=\"3588486\" title=\"23. Matchday, Sat 19.02.2022\">\\n             <span class=\"redtext\">\\n              1:2\\n             </span>\\n            </a>\\n           </nobr>\\n          </td>\\n          <td>\\n           <nobr>\\n            <a class=\"ergebnis-link\" href=\"/fc-augsburg_1-fc-koln/index/spielbericht/3588632\" id=\"3588632\" title=\"32. Matchday, Sat 30.04.2022\">\\n             <span class=\"redtext\">\\n              1:4\\n             </span>\\n            </a>\\n           </nobr>\\n          </td>\\n          <td>\\n           <nobr>\\n            <a class=\"ergebnis-link\" href=\"/fc-augsburg_1-fsv-mainz-05/index/spielbericht/3588533\" id=\"3588533\" title=\"26. Matchday, Wed 06.04.2022\">\\n             <span class=\"greentext\">\\n              2:1\\n             </span>\\n            </a>\\n           </nobr>\\n          </td>\\n          <td>\\n           <nobr>\\n            <a class=\"ergebnis-link\" href=\"/fc-augsburg_tsg-1899-hoffenheim/index/spielbericht/3588145\" id=\"3588145\" title=\"1. Matchday, Sat 14.08.2021\">\\n             <span class=\"redtext\">\\n              0:4\\n             </span>\\n            </a>\\n           </nobr>\\n          </td>\\n          <td>\\n           <nobr>\\n            <a class=\"ergebnis-link\" href=\"/fc-augsburg_borussia-monchengladbach/index/spielbericht/3588198\" id=\"3588198\" title=\"5. Matchday, Sat 18.09.2021\">\\n             <span class=\"greentext\">\\n              1:0\\n             </span>\\n            </a>\\n           </nobr>\\n          </td>\\n          <td>\\n           <nobr>\\n            <a class=\"ergebnis-link\" href=\"/fc-augsburg_eintracht-frankfurt/index/spielbericht/3588424\" id=\"3588424\" title=\"19. Matchday, Sun 16.01.2022\">\\n             <span class=\"\">\\n              1:1\\n             </span>\\n            </a>\\n           </nobr>\\n          </td>\\n          <td>\\n           <nobr>\\n            <a class=\"ergebnis-link\" href=\"/fc-augsburg_vfl-wolfsburg/index/spielbericht/3588569\" id=\"3588569\" title=\"28. Matchday, Sun 03.04.2022\">\\n             <span class=\"greentext\">\\n              3:0\\n             </span>\\n            </a>\\n           </nobr>\\n          </td>\\n          <td>\\n           <nobr>\\n            <a class=\"ergebnis-link\" href=\"/fc-augsburg_vfl-bochum/index/spielbericht/3588344\" id=\"3588344\" title=\"14. Matchday, Sat 04.12.2021\">\\n             <span class=\"redtext\">\\n              2:3\\n             </span>\\n            </a>\\n           </nobr>\\n          </td>\\n          <td>\\n           <nobr>\\n            -\\n           </nobr>\\n          </td>\\n          <td>\\n           <nobr>\\n            <a class=\"ergebnis-link\" href=\"/fc-augsburg_vfb-stuttgart/index/spielbericht/3588281\" id=\"3588281\" title=\"10. Matchday, Sun 31.10.2021\">\\n             <span class=\"greentext\">\\n              4:1\\n             </span>\\n            </a>\\n           </nobr>\\n          </td>\\n          <td>\\n           <nobr>\\n            <a class=\"ergebnis-link\" href=\"/fc-augsburg_hertha-bsc/index/spielbericht/3588596\" id=\"3588596\" title=\"30. Matchday, Sat 16.04.2022\">\\n             <span class=\"redtext\">\\n              0:1\\n             </span>\\n            </a>\\n           </nobr>\\n          </td>\\n          <td>\\n           <nobr>\\n            <a class=\"ergebnis-link\" href=\"/fc-augsburg_arminia-bielefeld/index/spielbericht/3588245\" id=\"3588245\" title=\"8. Matchday, Sun 17.10.2021\">\\n             <span class=\"\">\\n              1:1\\n             </span>\\n            </a>\\n           </nobr>\\n          </td>\\n          <td>\\n           <nobr>\\n            <a class=\"ergebnis-link\" href=\"/fc-augsburg_spvgg-greuther-furth/index/spielbericht/3588674\" id=\"3588674\" title=\"34. Matchday, Sat 14.05.2022\">\\n             <span class=\"greentext\">\\n              2:1\\n             </span>\\n            </a>\\n           </nobr>\\n          </td>\\n          <td>\\n           <a href=\"/fc-augsburg/startseite/verein/167/saison_id/2021\" title=\"FC Augsburg\">\\n            <img alt=\"FC Augsburg\" class=\"tiny_wappen\" src=\"https://tmssl.akamaized.net/images/wappen/tiny/167.png?lm=1656582897\" title=\"FC Augsburg\"/>\\n           </a>\\n          </td>\\n         </tr>\\n         <tr>\\n          <td>\\n           <a href=\"/vfb-stuttgart/startseite/verein/79/saison_id/2021\" title=\"VfB Stuttgart\">\\n            <img alt=\"VfB Stuttgart\" class=\"tiny_wappen\" src=\"https://tmssl.akamaized.net/images/wappen/tiny/79.png?lm=1680587427\" title=\"VfB Stuttgart\"/>\\n           </a>\\n          </td>\\n          <td>\\n           <nobr>\\n            <a class=\"ergebnis-link\" href=\"/vfb-stuttgart_bayern-munich/index/spielbericht/3588378\" id=\"3588378\" title=\"16. Matchday, Tue 14.12.2021\">\\n             <span class=\"redtext\">\\n              0:5\\n             </span>\\n            </a>\\n           </nobr>\\n          </td>\\n          <td>\\n           <nobr>\\n            <a class=\"ergebnis-link\" href=\"/vfb-stuttgart_borussia-dortmund/index/spielbericht/3588584\" id=\"3588584\" title=\"29. Matchday, Fri 08.04.2022\">\\n             <span class=\"redtext\">\\n              0:2\\n             </span>\\n            </a>\\n           </nobr>\\n          </td>\\n          <td>\\n           <nobr>\\n            <a class=\"ergebnis-link\" href=\"/vfb-stuttgart_bayer-04-leverkusen/index/spielbericht/3588196\" id=\"3588196\" title=\"5. Matchday, Sun 19.09.2021\">\\n             <span class=\"redtext\">\\n              1:3\\n             </span>\\n            </a>\\n           </nobr>\\n          </td>\\n          <td>\\n           <nobr>\\n            <a class=\"ergebnis-link\" href=\"/vfb-stuttgart_rb-leipzig/index/spielbericht/3588422\" id=\"3588422\" title=\"19. Matchday, Sat 15.01.2022\">\\n             <span class=\"redtext\">\\n              0:2\\n             </span>\\n            </a>\\n           </nobr>\\n          </td>\\n          <td>\\n           <nobr>\\n            <a class=\"ergebnis-link\" href=\"/vfb-stuttgart_1-fc-union-berlin/index/spielbericht/3588259\" id=\"3588259\" title=\"9. Matchday, Sun 24.10.2021\">\\n             <span class=\"\">\\n              1:1\\n             </span>\\n            </a>\\n           </nobr>\\n          </td>\\n          <td>\\n           <nobr>\\n            <a class=\"ergebnis-link\" href=\"/vfb-stuttgart_sc-freiburg/index/spielbericht/3588170\" id=\"3588170\" title=\"3. Matchday, Sat 28.08.2021\">\\n             <span class=\"redtext\">\\n              2:3\\n             </span>\\n            </a>\\n           </nobr>\\n          </td>\\n          <td>\\n           <nobr>\\n            <a class=\"ergebnis-link\" href=\"/vfb-stuttgart_1-fc-koln/index/spielbericht/3588672\" id=\"3588672\" title=\"34. Matchday, Sat 14.05.2022\">\\n             <span class=\"greentext\">\\n              2:1\\n             </span>\\n            </a>\\n           </nobr>\\n          </td>\\n          <td>\\n           <nobr>\\n            <a class=\"ergebnis-link\" href=\"/vfb-stuttgart_1-fsv-mainz-05/index/spielbericht/3588323\" id=\"3588323\" title=\"13. Matchday, Fri 26.11.2021\">\\n             <span class=\"greentext\">\\n              2:1\\n             </span>\\n            </a>\\n           </nobr>\\n          </td>\\n          <td>\\n           <nobr>\\n            <a class=\"ergebnis-link\" href=\"/vfb-stuttgart_tsg-1899-hoffenheim/index/spielbericht/3588224\" id=\"3588224\" title=\"7. Matchday, Sat 02.10.2021\">\\n             <span class=\"greentext\">\\n              3:1\\n             </span>\\n            </a>\\n           </nobr>\\n          </td>\\n          <td>\\n           <nobr>\\n            <a class=\"ergebnis-link\" href=\"/vfb-stuttgart_borussia-monchengladbach/index/spielbericht/3588511\" id=\"3588511\" title=\"25. Matchday, Sat 05.03.2022\">\\n             <span class=\"greentext\">\\n              3:2\\n             </span>\\n            </a>\\n           </nobr>\\n          </td>\\n          <td>\\n           <nobr>\\n            <a class=\"ergebnis-link\" href=\"/vfb-stuttgart_eintracht-frankfurt/index/spielbericht/3588457\" id=\"3588457\" title=\"21. Matchday, Sat 05.02.2022\">\\n             <span class=\"redtext\">\\n              2:3\\n             </span>\\n            </a>\\n           </nobr>\\n          </td>\\n          <td>\\n           <nobr>\\n            <a class=\"ergebnis-link\" href=\"/vfb-stuttgart_vfl-wolfsburg/index/spielbericht/3588629\" id=\"3588629\" title=\"32. Matchday, Sat 30.04.2022\">\\n             <span class=\"\">\\n              1:1\\n             </span>\\n            </a>\\n           </nobr>\\n          </td>\\n          <td>\\n           <nobr>\\n            <a class=\"ergebnis-link\" href=\"/vfb-stuttgart_vfl-bochum/index/spielbericht/3588484\" id=\"3588484\" title=\"23. Matchday, Sat 19.02.2022\">\\n             <span class=\"\">\\n              1:1\\n             </span>\\n            </a>\\n           </nobr>\\n          </td>\\n          <td>\\n           <nobr>\\n            <a class=\"ergebnis-link\" href=\"/vfb-stuttgart_fc-augsburg/index/spielbericht/3588547\" id=\"3588547\" title=\"27. Matchday, Sat 19.03.2022\">\\n             <span class=\"greentext\">\\n              3:2\\n             </span>\\n            </a>\\n           </nobr>\\n          </td>\\n          <td>\\n           <nobr>\\n            -\\n           </nobr>\\n          </td>\\n          <td>\\n           <nobr>\\n            <a class=\"ergebnis-link\" href=\"/vfb-stuttgart_hertha-bsc/index/spielbericht/3588341\" id=\"3588341\" title=\"14. Matchday, Sun 05.12.2021\">\\n             <span class=\"\">\\n              2:2\\n             </span>\\n            </a>\\n           </nobr>\\n          </td>\\n          <td>\\n           <nobr>\\n            <a class=\"ergebnis-link\" href=\"/vfb-stuttgart_arminia-bielefeld/index/spielbericht/3588286\" id=\"3588286\" title=\"11. Matchday, Sat 06.11.2021\">\\n             <span class=\"redtext\">\\n              0:1\\n             </span>\\n            </a>\\n           </nobr>\\n          </td>\\n          <td>\\n           <nobr>\\n            <a class=\"ergebnis-link\" href=\"/vfb-stuttgart_spvgg-greuther-furth/index/spielbericht/3588143\" id=\"3588143\" title=\"1. Matchday, Sat 14.08.2021\">\\n             <span class=\"greentext\">\\n              5:1\\n             </span>\\n            </a>\\n           </nobr>\\n          </td>\\n          <td>\\n           <a href=\"/vfb-stuttgart/startseite/verein/79/saison_id/2021\" title=\"VfB Stuttgart\">\\n            <img alt=\"VfB Stuttgart\" class=\"tiny_wappen\" src=\"https://tmssl.akamaized.net/images/wappen/tiny/79.png?lm=1680587427\" title=\"VfB Stuttgart\"/>\\n           </a>\\n          </td>\\n         </tr>\\n         <tr>\\n          <td>\\n           <a href=\"/hertha-bsc/startseite/verein/44/saison_id/2021\" title=\"Hertha BSC\">\\n            <img alt=\"Hertha BSC\" class=\"tiny_wappen\" src=\"https://tmssl.akamaized.net/images/wappen/tiny/44.png?lm=1656580875\" title=\"Hertha BSC\"/>\\n           </a>\\n          </td>\\n          <td>\\n           <nobr>\\n            <a class=\"ergebnis-link\" href=\"/hertha-bsc_bayern-munich/index/spielbericht/3588442\" id=\"3588442\" title=\"20. Matchday, Sun 23.01.2022\">\\n             <span class=\"redtext\">\\n              1:4\\n             </span>\\n            </a>\\n           </nobr>\\n          </td>\\n          <td>\\n           <nobr>\\n            <a class=\"ergebnis-link\" href=\"/hertha-bsc_borussia-dortmund/index/spielbericht/3588387\" id=\"3588387\" title=\"17. Matchday, Sat 18.12.2021\">\\n             <span class=\"greentext\">\\n              3:2\\n             </span>\\n            </a>\\n           </nobr>\\n          </td>\\n          <td>\\n           <nobr>\\n            <a class=\"ergebnis-link\" href=\"/hertha-bsc_bayer-04-leverkusen/index/spielbericht/3588288\" id=\"3588288\" title=\"11. Matchday, Sun 07.11.2021\">\\n             <span class=\"\">\\n              1:1\\n             </span>\\n            </a>\\n           </nobr>\\n          </td>\\n          <td>\\n           <nobr>\\n            <a class=\"ergebnis-link\" href=\"/hertha-bsc_rb-leipzig/index/spielbericht/3588487\" id=\"3588487\" title=\"23. Matchday, Sun 20.02.2022\">\\n             <span class=\"redtext\">\\n              1:6\\n             </span>\\n            </a>\\n           </nobr>\\n          </td>\\n          <td>\\n           <nobr>\\n            <a class=\"ergebnis-link\" href=\"/hertha-bsc_1-fc-union-berlin/index/spielbericht/3588585\" id=\"3588585\" title=\"29. Matchday, Sat 09.04.2022\">\\n             <span class=\"redtext\">\\n              1:4\\n             </span>\\n            </a>\\n           </nobr>\\n          </td>\\n          <td>\\n           <nobr>\\n            <a class=\"ergebnis-link\" href=\"/hertha-bsc_sc-freiburg/index/spielbericht/3588226\" id=\"3588226\" title=\"7. Matchday, Sat 02.10.2021\">\\n             <span class=\"redtext\">\\n              1:2\\n             </span>\\n            </a>\\n           </nobr>\\n          </td>\\n          <td>\\n           <nobr>\\n            <a class=\"ergebnis-link\" href=\"/hertha-bsc_1-fc-koln/index/spielbericht/3588406\" id=\"3588406\" title=\"18. Matchday, Sun 09.01.2022\">\\n             <span class=\"redtext\">\\n              1:3\\n             </span>\\n            </a>\\n           </nobr>\\n          </td>\\n          <td>\\n           <nobr>\\n            <a class=\"ergebnis-link\" href=\"/hertha-bsc_1-fsv-mainz-05/index/spielbericht/3588654\" id=\"3588654\" title=\"33. Matchday, Sat 07.05.2022\">\\n             <span class=\"redtext\">\\n              1:2\\n             </span>\\n            </a>\\n           </nobr>\\n          </td>\\n          <td>\\n           <nobr>\\n            <a class=\"ergebnis-link\" href=\"/hertha-bsc_tsg-1899-hoffenheim/index/spielbericht/3588549\" id=\"3588549\" title=\"27. Matchday, Sat 19.03.2022\">\\n             <span class=\"greentext\">\\n              3:0\\n             </span>\\n            </a>\\n           </nobr>\\n          </td>\\n          <td>\\n           <nobr>\\n            <a class=\"ergebnis-link\" href=\"/hertha-bsc_borussia-monchengladbach/index/spielbericht/3588261\" id=\"3588261\" title=\"9. Matchday, Sat 23.10.2021\">\\n             <span class=\"greentext\">\\n              1:0\\n             </span>\\n            </a>\\n           </nobr>\\n          </td>\\n          <td>\\n           <nobr>\\n            <a class=\"ergebnis-link\" href=\"/hertha-bsc_eintracht-frankfurt/index/spielbericht/3588513\" id=\"3588513\" title=\"25. Matchday, Sat 05.03.2022\">\\n             <span class=\"redtext\">\\n              1:4\\n             </span>\\n            </a>\\n           </nobr>\\n          </td>\\n          <td>\\n           <nobr>\\n            <a class=\"ergebnis-link\" href=\"/hertha-bsc_vfl-wolfsburg/index/spielbericht/3588154\" id=\"3588154\" title=\"2. Matchday, Sat 21.08.2021\">\\n             <span class=\"redtext\">\\n              1:2\\n             </span>\\n            </a>\\n           </nobr>\\n          </td>\\n          <td>\\n           <nobr>\\n            <a class=\"ergebnis-link\" href=\"/hertha-bsc_vfl-bochum/index/spielbericht/3588460\" id=\"3588460\" title=\"21. Matchday, Fri 04.02.2022\">\\n             <span class=\"\">\\n              1:1\\n             </span>\\n            </a>\\n           </nobr>\\n          </td>\\n          <td>\\n           <nobr>\\n            <a class=\"ergebnis-link\" href=\"/hertha-bsc_fc-augsburg/index/spielbericht/3588324\" id=\"3588324\" title=\"13. Matchday, Sat 27.11.2021\">\\n             <span class=\"\">\\n              1:1\\n             </span>\\n            </a>\\n           </nobr>\\n          </td>\\n          <td>\\n           <nobr>\\n            <a class=\"ergebnis-link\" href=\"/hertha-bsc_vfb-stuttgart/index/spielbericht/3588612\" id=\"3588612\" title=\"31. Matchday, Sun 24.04.2022\">\\n             <span class=\"greentext\">\\n              2:0\\n             </span>\\n            </a>\\n           </nobr>\\n          </td>\\n          <td>\\n           <nobr>\\n            -\\n           </nobr>\\n          </td>\\n          <td>\\n           <nobr>\\n            <a class=\"ergebnis-link\" href=\"/hertha-bsc_arminia-bielefeld/index/spielbericht/3588351\" id=\"3588351\" title=\"15. Matchday, Sat 11.12.2021\">\\n             <span class=\"greentext\">\\n              2:0\\n             </span>\\n            </a>\\n           </nobr>\\n          </td>\\n          <td>\\n           <nobr>\\n            <a class=\"ergebnis-link\" href=\"/hertha-bsc_spvgg-greuther-furth/index/spielbericht/3588199\" id=\"3588199\" title=\"5. Matchday, Fri 17.09.2021\">\\n             <span class=\"greentext\">\\n              2:1\\n             </span>\\n            </a>\\n           </nobr>\\n          </td>\\n          <td>\\n           <a href=\"/hertha-bsc/startseite/verein/44/saison_id/2021\" title=\"Hertha BSC\">\\n            <img alt=\"Hertha BSC\" class=\"tiny_wappen\" src=\"https://tmssl.akamaized.net/images/wappen/tiny/44.png?lm=1656580875\" title=\"Hertha BSC\"/>\\n           </a>\\n          </td>\\n         </tr>\\n         <tr>\\n          <td>\\n           <a href=\"/arminia-bielefeld/startseite/verein/10/saison_id/2021\" title=\"Arminia Bielefeld\">\\n            <img alt=\"Arminia Bielefeld\" class=\"tiny_wappen\" src=\"https://tmssl.akamaized.net/images/wappen/tiny/10.png?lm=1629204733\" title=\"Arminia Bielefeld\"/>\\n           </a>\\n          </td>\\n          <td>\\n           <nobr>\\n            <a class=\"ergebnis-link\" href=\"/arminia-bielefeld_bayern-munich/index/spielbericht/3588597\" id=\"3588597\" title=\"30. Matchday, Sun 17.04.2022\">\\n             <span class=\"redtext\">\\n              0:3\\n             </span>\\n            </a>\\n           </nobr>\\n          </td>\\n          <td>\\n           <nobr>\\n            <a class=\"ergebnis-link\" href=\"/arminia-bielefeld_borussia-dortmund/index/spielbericht/3588262\" id=\"3588262\" title=\"9. Matchday, Sat 23.10.2021\">\\n             <span class=\"redtext\">\\n              1:3\\n             </span>\\n            </a>\\n           </nobr>\\n          </td>\\n          <td>\\n           <nobr>\\n            <a class=\"ergebnis-link\" href=\"/arminia-bielefeld_bayer-04-leverkusen/index/spielbericht/3588227\" id=\"3588227\" title=\"7. Matchday, Sun 03.10.2021\">\\n             <span class=\"redtext\">\\n              0:4\\n             </span>\\n            </a>\\n           </nobr>\\n          </td>\\n          <td>\\n           <nobr>\\n            <a class=\"ergebnis-link\" href=\"/arminia-bielefeld_rb-leipzig/index/spielbericht/3588675\" id=\"3588675\" title=\"34. Matchday, Sat 14.05.2022\">\\n             <span class=\"\">\\n              1:1\\n             </span>\\n            </a>\\n           </nobr>\\n          </td>\\n          <td>\\n           <nobr>\\n            <a class=\"ergebnis-link\" href=\"/arminia-bielefeld_1-fc-union-berlin/index/spielbericht/3588488\" id=\"3588488\" title=\"23. Matchday, Sat 19.02.2022\">\\n             <span class=\"greentext\">\\n              1:0\\n             </span>\\n            </a>\\n           </nobr>\\n          </td>\\n          <td>\\n           <nobr>\\n            <a class=\"ergebnis-link\" href=\"/arminia-bielefeld_sc-freiburg/index/spielbericht/3588146\" id=\"3588146\" title=\"1. Matchday, Sat 14.08.2021\">\\n             <span class=\"\">\\n              0:0\\n             </span>\\n            </a>\\n           </nobr>\\n          </td>\\n          <td>\\n           <nobr>\\n            <a class=\"ergebnis-link\" href=\"/arminia-bielefeld_1-fc-koln/index/spielbericht/3588345\" id=\"3588345\" title=\"14. Matchday, Sat 04.12.2021\">\\n             <span class=\"\">\\n              1:1\\n             </span>\\n            </a>\\n           </nobr>\\n          </td>\\n          <td>\\n           <nobr>\\n            <a class=\"ergebnis-link\" href=\"/arminia-bielefeld_1-fsv-mainz-05/index/spielbericht/3588282\" id=\"3588282\" title=\"10. Matchday, Sat 30.10.2021\">\\n             <span class=\"redtext\">\\n              1:2\\n             </span>\\n            </a>\\n           </nobr>\\n          </td>\\n          <td>\\n           <nobr>\\n            <a class=\"ergebnis-link\" href=\"/arminia-bielefeld_tsg-1899-hoffenheim/index/spielbericht/3588200\" id=\"3588200\" title=\"5. Matchday, Sat 18.09.2021\">\\n             <span class=\"\">\\n              0:0\\n             </span>\\n            </a>\\n           </nobr>\\n          </td>\\n          <td>\\n           <nobr>\\n            <a class=\"ergebnis-link\" href=\"/arminia-bielefeld_borussia-monchengladbach/index/spielbericht/3588461\" id=\"3588461\" title=\"21. Matchday, Sat 05.02.2022\">\\n             <span class=\"\">\\n              1:1\\n             </span>\\n            </a>\\n           </nobr>\\n          </td>\\n          <td>\\n           <nobr>\\n            <a class=\"ergebnis-link\" href=\"/arminia-bielefeld_eintracht-frankfurt/index/spielbericht/3588173\" id=\"3588173\" title=\"3. Matchday, Sat 28.08.2021\">\\n             <span class=\"\">\\n              1:1\\n             </span>\\n            </a>\\n           </nobr>\\n          </td>\\n          <td>\\n           <nobr>\\n            <a class=\"ergebnis-link\" href=\"/arminia-bielefeld_vfl-wolfsburg/index/spielbericht/3588309\" id=\"3588309\" title=\"12. Matchday, Sat 20.11.2021\">\\n             <span class=\"\">\\n              2:2\\n             </span>\\n            </a>\\n           </nobr>\\n          </td>\\n          <td>\\n           <nobr>\\n            <a class=\"ergebnis-link\" href=\"/arminia-bielefeld_vfl-bochum/index/spielbericht/3588381\" id=\"3588381\" title=\"16. Matchday, Tue 14.12.2021\">\\n             <span class=\"greentext\">\\n              2:0\\n             </span>\\n            </a>\\n           </nobr>\\n          </td>\\n          <td>\\n           <nobr>\\n            <a class=\"ergebnis-link\" href=\"/arminia-bielefeld_fc-augsburg/index/spielbericht/3588514\" id=\"3588514\" title=\"25. Matchday, Fri 04.03.2022\">\\n             <span class=\"redtext\">\\n              0:1\\n             </span>\\n            </a>\\n           </nobr>\\n          </td>\\n          <td>\\n           <nobr>\\n            <a class=\"ergebnis-link\" href=\"/arminia-bielefeld_vfb-stuttgart/index/spielbericht/3588570\" id=\"3588570\" title=\"28. Matchday, Sat 02.04.2022\">\\n             <span class=\"\">\\n              1:1\\n             </span>\\n            </a>\\n           </nobr>\\n          </td>\\n          <td>\\n           <nobr>\\n            <a class=\"ergebnis-link\" href=\"/arminia-bielefeld_hertha-bsc/index/spielbericht/3588633\" id=\"3588633\" title=\"32. Matchday, Sat 30.04.2022\">\\n             <span class=\"\">\\n              1:1\\n             </span>\\n            </a>\\n           </nobr>\\n          </td>\\n          <td>\\n           <nobr>\\n            -\\n           </nobr>\\n          </td>\\n          <td>\\n           <nobr>\\n            <a class=\"ergebnis-link\" href=\"/arminia-bielefeld_spvgg-greuther-furth/index/spielbericht/3588425\" id=\"3588425\" title=\"19. Matchday, Sun 16.01.2022\">\\n             <span class=\"\">\\n              2:2\\n             </span>\\n            </a>\\n           </nobr>\\n          </td>\\n          <td>\\n           <a href=\"/arminia-bielefeld/startseite/verein/10/saison_id/2021\" title=\"Arminia Bielefeld\">\\n            <img alt=\"Arminia Bielefeld\" class=\"tiny_wappen\" src=\"https://tmssl.akamaized.net/images/wappen/tiny/10.png?lm=1629204733\" title=\"Arminia Bielefeld\"/>\\n           </a>\\n          </td>\\n         </tr>\\n         <tr>\\n          <td>\\n           <a href=\"/spvgg-greuther-furth/startseite/verein/65/saison_id/2021\" title=\"SpVgg Greuther Fürth\">\\n            <img alt=\"SpVgg Greuther Fürth\" class=\"tiny_wappen\" src=\"https://tmssl.akamaized.net/images/wappen/tiny/65.png?lm=1503682935\" title=\"SpVgg Greuther Fürth\"/>\\n           </a>\\n          </td>\\n          <td>\\n           <nobr>\\n            <a class=\"ergebnis-link\" href=\"/spvgg-greuther-furth_bayern-munich/index/spielbericht/3588219\" id=\"3588219\" title=\"6. Matchday, Fri 24.09.2021\">\\n             <span class=\"redtext\">\\n              1:3\\n             </span>\\n            </a>\\n           </nobr>\\n          </td>\\n          <td>\\n           <nobr>\\n            <a class=\"ergebnis-link\" href=\"/spvgg-greuther-furth_borussia-dortmund/index/spielbericht/3588657\" id=\"3588657\" title=\"33. Matchday, Sat 07.05.2022\">\\n             <span class=\"redtext\">\\n              1:3\\n             </span>\\n            </a>\\n           </nobr>\\n          </td>\\n          <td>\\n           <nobr>\\n            <a class=\"ergebnis-link\" href=\"/spvgg-greuther-furth_bayer-04-leverkusen/index/spielbericht/3588615\" id=\"3588615\" title=\"31. Matchday, Sat 23.04.2022\">\\n             <span class=\"redtext\">\\n              1:4\\n             </span>\\n            </a>\\n           </nobr>\\n          </td>\\n          <td>\\n           <nobr>\\n            <a class=\"ergebnis-link\" href=\"/spvgg-greuther-furth_rb-leipzig/index/spielbericht/3588534\" id=\"3588534\" title=\"26. Matchday, Sun 13.03.2022\">\\n             <span class=\"redtext\">\\n              1:6\\n             </span>\\n            </a>\\n           </nobr>\\n          </td>\\n          <td>\\n           <nobr>\\n            <a class=\"ergebnis-link\" href=\"/spvgg-greuther-furth_1-fc-union-berlin/index/spielbericht/3588354\" id=\"3588354\" title=\"15. Matchday, Sun 12.12.2021\">\\n             <span class=\"greentext\">\\n              1:0\\n             </span>\\n            </a>\\n           </nobr>\\n          </td>\\n          <td>\\n           <nobr>\\n            <a class=\"ergebnis-link\" href=\"/spvgg-greuther-furth_sc-freiburg/index/spielbericht/3588552\" id=\"3588552\" title=\"27. Matchday, Sat 19.03.2022\">\\n             <span class=\"\">\\n              0:0\\n             </span>\\n            </a>\\n           </nobr>\\n          </td>\\n          <td>\\n           <nobr>\\n            <a class=\"ergebnis-link\" href=\"/spvgg-greuther-furth_1-fc-koln/index/spielbericht/3588498\" id=\"3588498\" title=\"24. Matchday, Sat 26.02.2022\">\\n             <span class=\"\">\\n              1:1\\n             </span>\\n            </a>\\n           </nobr>\\n          </td>\\n          <td>\\n           <nobr>\\n            <a class=\"ergebnis-link\" href=\"/spvgg-greuther-furth_1-fsv-mainz-05/index/spielbericht/3588444\" id=\"3588444\" title=\"20. Matchday, Sat 22.01.2022\">\\n             <span class=\"greentext\">\\n              2:1\\n             </span>\\n            </a>\\n           </nobr>\\n          </td>\\n          <td>\\n           <nobr>\\n            <a class=\"ergebnis-link\" href=\"/spvgg-greuther-furth_tsg-1899-hoffenheim/index/spielbericht/3588327\" id=\"3588327\" title=\"13. Matchday, Sat 27.11.2021\">\\n             <span class=\"redtext\">\\n              3:6\\n             </span>\\n            </a>\\n           </nobr>\\n          </td>\\n          <td>\\n           <nobr>\\n            <a class=\"ergebnis-link\" href=\"/spvgg-greuther-furth_borussia-monchengladbach/index/spielbericht/3588588\" id=\"3588588\" title=\"29. Matchday, Sat 09.04.2022\">\\n             <span class=\"redtext\">\\n              0:2\\n             </span>\\n            </a>\\n           </nobr>\\n          </td>\\n          <td>\\n           <nobr>\\n            <a class=\"ergebnis-link\" href=\"/spvgg-greuther-furth_eintracht-frankfurt/index/spielbericht/3588291\" id=\"3588291\" title=\"11. Matchday, Sun 07.11.2021\">\\n             <span class=\"redtext\">\\n              1:2\\n             </span>\\n            </a>\\n           </nobr>\\n          </td>\\n          <td>\\n           <nobr>\\n            <a class=\"ergebnis-link\" href=\"/spvgg-greuther-furth_vfl-wolfsburg/index/spielbericht/3588183\" id=\"3588183\" title=\"4. Matchday, Sat 11.09.2021\">\\n             <span class=\"redtext\">\\n              0:2\\n             </span>\\n            </a>\\n           </nobr>\\n          </td>\\n          <td>\\n           <nobr>\\n            <a class=\"ergebnis-link\" href=\"/spvgg-greuther-furth_vfl-bochum/index/spielbericht/3588246\" id=\"3588246\" title=\"8. Matchday, Sat 16.10.2021\">\\n             <span class=\"redtext\">\\n              0:1\\n             </span>\\n            </a>\\n           </nobr>\\n          </td>\\n          <td>\\n           <nobr>\\n            <a class=\"ergebnis-link\" href=\"/spvgg-greuther-furth_fc-augsburg/index/spielbericht/3588390\" id=\"3588390\" title=\"17. Matchday, Sat 18.12.2021\">\\n             <span class=\"\">\\n              0:0\\n             </span>\\n            </a>\\n           </nobr>\\n          </td>\\n          <td>\\n           <nobr>\\n            <a class=\"ergebnis-link\" href=\"/spvgg-greuther-furth_vfb-stuttgart/index/spielbericht/3588408\" id=\"3588408\" title=\"18. Matchday, Sat 08.01.2022\">\\n             <span class=\"\">\\n              0:0\\n             </span>\\n            </a>\\n           </nobr>\\n          </td>\\n          <td>\\n           <nobr>\\n            <a class=\"ergebnis-link\" href=\"/spvgg-greuther-furth_hertha-bsc/index/spielbericht/3588471\" id=\"3588471\" title=\"22. Matchday, Sat 12.02.2022\">\\n             <span class=\"greentext\">\\n              2:1\\n             </span>\\n            </a>\\n           </nobr>\\n          </td>\\n          <td>\\n           <nobr>\\n            <a class=\"ergebnis-link\" href=\"/spvgg-greuther-furth_arminia-bielefeld/index/spielbericht/3588156\" id=\"3588156\" title=\"2. Matchday, Sat 21.08.2021\">\\n             <span class=\"\">\\n              1:1\\n             </span>\\n            </a>\\n           </nobr>\\n          </td>\\n          <td>\\n           <nobr>\\n            -\\n           </nobr>\\n          </td>\\n          <td>\\n           <a href=\"/spvgg-greuther-furth/startseite/verein/65/saison_id/2021\" title=\"SpVgg Greuther Fürth\">\\n            <img alt=\"SpVgg Greuther Fürth\" class=\"tiny_wappen\" src=\"https://tmssl.akamaized.net/images/wappen/tiny/65.png?lm=1503682935\" title=\"SpVgg Greuther Fürth\"/>\\n           </a>\\n          </td>\\n         </tr>\\n         <tr>\\n          <td>\\n          </td>\\n          <td>\\n           <a href=\"/fc-bayern-munchen/startseite/verein/27/saison_id/2021\" title=\"Bayern Munich\">\\n            <img alt=\"Bayern Munich\" class=\"tiny_wappen\" src=\"https://tmssl.akamaized.net/images/wappen/tiny/27.png?lm=1498251238\" title=\"Bayern Munich\"/>\\n           </a>\\n          </td>\\n          <td>\\n           <a href=\"/borussia-dortmund/startseite/verein/16/saison_id/2021\" title=\"Borussia Dortmund\">\\n            <img alt=\"Borussia Dortmund\" class=\"tiny_wappen\" src=\"https://tmssl.akamaized.net/images/wappen/tiny/16.png?lm=1396275280\" title=\"Borussia Dortmund\"/>\\n           </a>\\n          </td>\\n          <td>\\n           <a href=\"/bayer-04-leverkusen/startseite/verein/15/saison_id/2021\" title=\"Bayer 04 Leverkusen\">\\n            <img alt=\"Bayer 04 Leverkusen\" class=\"tiny_wappen\" src=\"https://tmssl.akamaized.net/images/wappen/tiny/15.png?lm=1651221781\" title=\"Bayer 04 Leverkusen\"/>\\n           </a>\\n          </td>\\n          <td>\\n           <a href=\"/rasenballsport-leipzig/startseite/verein/23826/saison_id/2021\" title=\"RB Leipzig\">\\n            <img alt=\"RB Leipzig\" class=\"tiny_wappen\" src=\"https://tmssl.akamaized.net/images/wappen/tiny/23826.png?lm=1619431624\" title=\"RB Leipzig\"/>\\n           </a>\\n          </td>\\n          <td>\\n           <a href=\"/1-fc-union-berlin/startseite/verein/89/saison_id/2021\" title=\"1.FC Union Berlin\">\\n            <img alt=\"1.FC Union Berlin\" class=\"tiny_wappen\" src=\"https://tmssl.akamaized.net/images/wappen/tiny/89.png?lm=1402956210\" title=\"1.FC Union Berlin\"/>\\n           </a>\\n          </td>\\n          <td>\\n           <a href=\"/sc-freiburg/startseite/verein/60/saison_id/2021\" title=\"SC Freiburg\">\\n            <img alt=\"SC Freiburg\" class=\"tiny_wappen\" src=\"https://tmssl.akamaized.net/images/wappen/tiny/60.png?lm=1517249279\" title=\"SC Freiburg\"/>\\n           </a>\\n          </td>\\n          <td>\\n           <a href=\"/1-fc-koln/startseite/verein/3/saison_id/2021\" title=\"1.FC Köln\">\\n            <img alt=\"1.FC Köln\" class=\"tiny_wappen\" src=\"https://tmssl.akamaized.net/images/wappen/tiny/3.png?lm=1656580823\" title=\"1.FC Köln\"/>\\n           </a>\\n          </td>\\n          <td>\\n           <a href=\"/1-fsv-mainz-05/startseite/verein/39/saison_id/2021\" title=\"1.FSV Mainz 05\">\\n            <img alt=\"1.FSV Mainz 05\" class=\"tiny_wappen\" src=\"https://tmssl.akamaized.net/images/wappen/tiny/39.png?lm=1564748880\" title=\"1.FSV Mainz 05\"/>\\n           </a>\\n          </td>\\n          <td>\\n           <a href=\"/tsg-1899-hoffenheim/startseite/verein/533/saison_id/2021\" title=\"TSG 1899 Hoffenheim\">\\n            <img alt=\"TSG 1899 Hoffenheim\" class=\"tiny_wappen\" src=\"https://tmssl.akamaized.net/images/wappen/tiny/533.png?lm=1675591766\" title=\"TSG 1899 Hoffenheim\"/>\\n           </a>\\n          </td>\\n          <td>\\n           <a href=\"/borussia-monchengladbach/startseite/verein/18/saison_id/2021\" title=\"Borussia Mönchengladbach\">\\n            <img alt=\"Borussia Mönchengladbach\" class=\"tiny_wappen\" src=\"https://tmssl.akamaized.net/images/wappen/tiny/18.png?lm=1656585796\" title=\"Borussia Mönchengladbach\"/>\\n           </a>\\n          </td>\\n          <td>\\n           <a href=\"/eintracht-frankfurt/startseite/verein/24/saison_id/2021\" title=\"Eintracht Frankfurt\">\\n            <img alt=\"Eintracht Frankfurt\" class=\"tiny_wappen\" src=\"https://tmssl.akamaized.net/images/wappen/tiny/24.png?lm=1403806187\" title=\"Eintracht Frankfurt\"/>\\n           </a>\\n          </td>\\n          <td>\\n           <a href=\"/vfl-wolfsburg/startseite/verein/82/saison_id/2021\" title=\"VfL Wolfsburg\">\\n            <img alt=\"VfL Wolfsburg\" class=\"tiny_wappen\" src=\"https://tmssl.akamaized.net/images/wappen/tiny/82.png?lm=1503060755\" title=\"VfL Wolfsburg\"/>\\n           </a>\\n          </td>\\n          <td>\\n           <a href=\"/vfl-bochum/startseite/verein/80/saison_id/2021\" title=\"VfL Bochum\">\\n            <img alt=\"VfL Bochum\" class=\"tiny_wappen\" src=\"https://tmssl.akamaized.net/images/wappen/tiny/80.png?lm=1656583090\" title=\"VfL Bochum\"/>\\n           </a>\\n          </td>\\n          <td>\\n           <a href=\"/fc-augsburg/startseite/verein/167/saison_id/2021\" title=\"FC Augsburg\">\\n            <img alt=\"FC Augsburg\" class=\"tiny_wappen\" src=\"https://tmssl.akamaized.net/images/wappen/tiny/167.png?lm=1656582897\" title=\"FC Augsburg\"/>\\n           </a>\\n          </td>\\n          <td>\\n           <a href=\"/vfb-stuttgart/startseite/verein/79/saison_id/2021\" title=\"VfB Stuttgart\">\\n            <img alt=\"VfB Stuttgart\" class=\"tiny_wappen\" src=\"https://tmssl.akamaized.net/images/wappen/tiny/79.png?lm=1680587427\" title=\"VfB Stuttgart\"/>\\n           </a>\\n          </td>\\n          <td>\\n           <a href=\"/hertha-bsc/startseite/verein/44/saison_id/2021\" title=\"Hertha BSC\">\\n            <img alt=\"Hertha BSC\" class=\"tiny_wappen\" src=\"https://tmssl.akamaized.net/images/wappen/tiny/44.png?lm=1656580875\" title=\"Hertha BSC\"/>\\n           </a>\\n          </td>\\n          <td>\\n           <a href=\"/arminia-bielefeld/startseite/verein/10/saison_id/2021\" title=\"Arminia Bielefeld\">\\n            <img alt=\"Arminia Bielefeld\" class=\"tiny_wappen\" src=\"https://tmssl.akamaized.net/images/wappen/tiny/10.png?lm=1629204733\" title=\"Arminia Bielefeld\"/>\\n           </a>\\n          </td>\\n          <td>\\n           <a href=\"/spvgg-greuther-furth/startseite/verein/65/saison_id/2021\" title=\"SpVgg Greuther Fürth\">\\n            <img alt=\"SpVgg Greuther Fürth\" class=\"tiny_wappen\" src=\"https://tmssl.akamaized.net/images/wappen/tiny/65.png?lm=1503682935\" title=\"SpVgg Greuther Fürth\"/>\\n           </a>\\n          </td>\\n          <td>\\n          </td>\\n         </tr>\\n        </table>\\n       </div>\\n      </div>\\n     </div>\\n    </div>\\n    <div class=\"werbung werbung-fullsize_contentad\">\\n     <div id=\"div-gpt-ad-1621528173524-0\" style=\"min-width: 728px; min-height: 90px;\">\\n     </div>\\n     <script>\\n      googletag.cmd.push(function() { googletag.display(\"div-gpt-ad-1621528173524-0\"); });\\n     </script>\\n    </div>\\n   </main>\\n   <footer>\\n    <div class=\"tm-footer\">\\n     <a class=\"tm-footer__logo\" href=\"/\">\\n      <img alt=\"Transfermarkt\" height=\"33\" src=\"https://tmsi.akamaized.net/head/transfermarkt_logo.svg\" width=\"80\"/>\\n     </a>\\n     <ul class=\"tm-footer__links\">\\n      <li class=\"tm-footer__links-item\">\\n       <a href=\"/intern/impressum\">\\n        Legal notice\\n       </a>\\n      </li>\\n      <li class=\"tm-footer__links-item\">\\n       <a href=\"/intern/web/datenschutz\">\\n        Data protection\\n       </a>\\n      </li>\\n      <li class=\"tm-footer__links-item\">\\n       <a class=\"cmp-link\" href=\"javascript:void(0)\">\\n        Privacy\\n       </a>\\n      </li>\\n      <li class=\"tm-footer__links-item\">\\n       <a href=\"/intern/anb\">\\n        General terms of use\\n       </a>\\n      </li>\\n      <li class=\"tm-footer__links-item\">\\n       <a href=\"/intern/tmteam\">\\n        The TM team\\n       </a>\\n      </li>\\n      <li class=\"tm-footer__links-item\">\\n       <a href=\"/intern/faq\">\\n        FAQ\\n       </a>\\n      </li>\\n      <li class=\"tm-footer__links-item\">\\n       <a href=\"/intern/fehlermelden\">\\n        Found a mistake?\\n       </a>\\n      </li>\\n     </ul>\\n    </div>\\n   </footer>\\n   <div id=\"menue_overlay\">\\n   </div>\\n  </div>\\n  <script type=\"text/javascript\">\\n   var iam_data = {\\n\"st\":\"transfer\",\\n\"cp\":\"ausland_co.uk_r\",\\n\"co\":\"\"\\n}\\n  </script>\\n  <script type=\"module\">\\n   var defaultOptions={tracking:!0,refreshAds:!0};export var refreshAd=function(){var e,n;[ASCDP.hasOwnProperty(\"adS\"),null===(e=ASCDP.adS)||void 0===e?void 0:e.hasOwnProperty(\"reloadAds\"),\"function\"==typeof(null===(n=ASCDP.adS)||void 0===n?void 0:n.reloadAds)].every(function(e){return e})&&ASCDP.adS.reloadAds()};export var TmTrackingAndAds=function(e,n){void 0===n&&(n=defaultOptions);var r=[\"tabelle\",\"reiter\",\"forum\"].includes(e)?e:\"\";n.tracking&&(gtag(\"event\",\"page_view\",{page_path:\"/jsContent\"+window.location.pathname}),sendIvwData(r)),n.refreshAds&&\"undefined\"!=typeof ASCDP&&refreshAd()};window.tmTrackingAndAds=function(e,n){return TmTrackingAndAds(e,n)};\\n  </script>\\n  <script type=\"text/javascript\">\\n   if(typeof IOMm === \\'function\\') {\\n                    IOMm(\\'configure\\', { st: iam_data.st, dn: \\'data-84a0f3455d.transfermarkt.com\\', mh:5 });\\n                    IOMm(\\'pageview\\', { cp: iam_data.cp, co: iam_data.co });\\n                } else {\\n                    console.warn(\\'IOMm is not defined\\');\\n                }\\n  </script>\\n  <script type=\"text/javascript\">\\n   if(typeof(adet) == \"boolean\" && adet == false){\\n\\t\\timg_src=\"/static/singlepictures/jk99hhfsdh209nbnkjldgh90sghfsdlk\";\\n\\t} else {\\n\\t\\timg_src=\"/static/singlepictures/jku90whjlkjbwbta1g4b8h89fh8sgh8d\";\\n\\t}\\n\\tvar elem = document.createElement(\"img\");\\n\\tdocument.body.appendChild(elem);\\n\\telem.src = img_src;\\n  </script>\\n  <script defer=\"\" src=\"https://tmsi.akamaized.net/js/globals/tm-global-elements.esm.js\" type=\"module\">\\n  </script>\\n  <script defer=\"\" nomodule=\"\" src=\"https://tmsi.akamaized.net/js/globals/tm-global-elements.js\">\\n  </script>\\n  <script src=\"https://tmssl.akamaized.net/js/custom/tm-menu.min.js?lm=1685088449\" type=\"text/javascript\">\\n  </script>\\n  <script src=\"https://tmssl.akamaized.net/js/custom/vendors.min.js?lm=1685088449\" type=\"text/javascript\">\\n  </script>\\n  <script type=\"text/javascript\">\\n   /*<![CDATA[*/\\nfunction skyscraperSwitch() {\\n                const firstAd = document.getElementsByClassName(\"werbung-skyscraper\");\\n                const secondAd = document.getElementsByClassName(\"werbung-skyscraperbtf\")\\n                if (this.scrollY > 699) {\\n                    firstAd[0].style.visibility = \"hidden\";\\n                    secondAd[0].style.position = \"fixed\";\\n                    secondAd[0].style.top = \"40px\";\\n                } else {\\n                    firstAd[0].style.visibility = \"visible\";\\n                    secondAd[0].style.position = \"relative\";\\n                    secondAd[0].style.top = \"unset\";\\n                }\\n            }\\n            window.addEventListener(\"scroll\", skyscraperSwitch, false);\\n\\tvar loginUrl=\\'/profil/login\\';\\n\\tvar onlyDE = \\'\\';\\n\\tvar onlyMobile = \\'\\';\\n\\tvar onlyTablet = \\'\\';\\n\\tvar getUserID = \\'\\';\\n\\nfunction sendIvwData(typ) {\\n    if(typ == \\'tabelle\\') {\\n        var iam_data = {\\n\"st\":\"transfer\",\\n\"cp\":\"ausland_co.uk_r_t\",\\n\"co\":\"\"\\n}\\n\\n    }else if(typ == \\'reiter\\') {\\n        var iam_data = {\\n\"st\":\"transfer\",\\n\"cp\":\"ausland_co.uk_r_r\",\\n\"co\":\"\"\\n}\\n\\n    }else if(typ == \\'forum\\') {\\n        var iam_data = {\\n\"st\":\"transfer\",\\n\"cp\":\"ausland_co.uk_r_forum\",\\n\"co\":\"\"\\n}\\n\\n    }else {\\n        var iam_data = {\\n\"st\":\"transfer\",\\n\"cp\":\"ausland_co.uk_r_s\",\\n\"co\":\"\"\\n}\\n\\n    }\\n    if(typeof IOMm === \\'function\\') {\\n        IOMm(\\'pageview\\', { cp: iam_data.cp, co: iam_data.co });\\n    } \\n}\\nwindow.articlemetadata = {\\n    type: \"static\",\\n    assetid: \\'statistik-wettbewerb\\',\\n    section:  \\'statistik\\',\\n    segA: iam_data.cp,\\n    segB: \"CPI\",\\n    segC: \"\",\\n    subbrand: \"c18\"\\n    };\\nnSdkInstance.ggPM(\"staticstart\", window.articlemetadata);\\n/*]]>*/\\n  </script>\\n </body>\\n</html>\\n'"
            ],
            "application/vnd.google.colaboratory.intrinsic+json": {
              "type": "string"
            }
          },
          "metadata": {},
          "execution_count": 44
        }
      ]
    },
    {
      "cell_type": "code",
      "source": [
        "def href_to_id(link):\n",
        "  id=link.split('/')[4] \n",
        "  return id"
      ],
      "metadata": {
        "id": "oF7BjfrMNjDl"
      },
      "execution_count": 73,
      "outputs": []
    },
    {
      "cell_type": "code",
      "source": [
        "host_names=[]\n",
        "host_ids=[]\n",
        "host_status=[]\n",
        "scores=[]\n",
        "matches_id=[]\n",
        "matches_date=[]\n",
        "guest_club=[]\n",
        "trs=soup.find('table',attrs={'class':'kreuztabelle'}).find_all('tr')\n",
        "for tr in trs[1:-1]:\n",
        "    #find host name and host id(club)\n",
        "    host_name=tr.find('td').find('a')['title'] \n",
        "    #host id\n",
        "    link=tr.find('td').find('a')['href']\n",
        "    host_id=href_to_id(link) \n",
        "\n",
        "    #find all table data\n",
        "    tds=tr.find_all('td')[1:-1]\n",
        "    #find status and score of each game\n",
        "\n",
        "    for td in tds:\n",
        "\n",
        "        #find match_id and match day and guest_name\n",
        "        try:\n",
        "            #guest name\n",
        "            guest_name=td.find('nobr').find('a')['href'].split('/')[1].split('_')[1].replace('-',' ').title()\n",
        "\n",
        "\n",
        "            #match ID\n",
        "            match_id=td.find('a')['id']\n",
        "\n",
        "            #match day\n",
        "            matchday=td.find('a')['title'].split(',')[1][4:].lstrip()\n",
        "        \n",
        "        #find scores of games\n",
        "        except:\n",
        "            pass\n",
        "\n",
        "        try:\n",
        "            try:\n",
        "                score=td.find('nobr').find('a').find('span',attrs={'class':'redtext'}).text\n",
        "                status='Lost'\n",
        "       \n",
        "            except:\n",
        "                score=td.find('nobr').find('a').find('span',attrs={'class':'greentext'}).text\n",
        "                status='Win'\n",
        "        except:\n",
        "            try:\n",
        "                score=td.find('nobr').find('a').find('span').text\n",
        "                status='equal'\n",
        "            except:\n",
        "                pass \n",
        "        scores.append(score)\n",
        "        host_names.append(host_name)\n",
        "        host_ids.append(host_id)\n",
        "        host_status.append(status)\n",
        "        matches_id.append(match_id)\n",
        "        matches_date.append(matchday)\n",
        "        guest_club.append(guest_name)"
      ],
      "metadata": {
        "id": "tx_TMwsgSSK1"
      },
      "execution_count": 176,
      "outputs": []
    },
    {
      "cell_type": "code",
      "source": [
        "info={}\n",
        "info['host_name']=host_names\n",
        "info['host_id']=host_ids\n",
        "info['host_status']=host_status\n",
        "info['score']=scores\n",
        "info['match_id']=matches_id\n",
        "info['match_date']=matches_date\n",
        "info['guest_club']=guest_club"
      ],
      "metadata": {
        "id": "8pgf7Cfeekg9"
      },
      "execution_count": 177,
      "outputs": []
    },
    {
      "cell_type": "code",
      "source": [
        "df=pd.DataFrame(data=info)\n",
        "df.head()"
      ],
      "metadata": {
        "colab": {
          "base_uri": "https://localhost:8080/",
          "height": 206
        },
        "id": "Kssamfkfi94z",
        "outputId": "684706d4-7396-4a04-dbcb-223008ba1c7d"
      },
      "execution_count": 178,
      "outputs": [
        {
          "output_type": "execute_result",
          "data": {
            "text/plain": [
              "       host_name host_id host_status score match_id  match_date  \\\n",
              "0  Bayern Munich      27       equal  1:1   3588156  21.08.2021   \n",
              "1  Bayern Munich      27         Win  3:1   3588607  23.04.2022   \n",
              "2  Bayern Munich      27       equal  1:1   3588508  05.03.2022   \n",
              "3  Bayern Munich      27         Win  3:2   3588454  05.02.2022   \n",
              "4  Bayern Munich      27         Win  4:0   3588544  19.03.2022   \n",
              "\n",
              "            guest_club  \n",
              "0    Arminia Bielefeld  \n",
              "1    Borussia Dortmund  \n",
              "2  Bayer 04 Leverkusen  \n",
              "3           Rb Leipzig  \n",
              "4    1 Fc Union Berlin  "
            ],
            "text/html": [
              "\n",
              "  <div id=\"df-cf976317-6a40-4d98-803f-3a4638e3fb5b\">\n",
              "    <div class=\"colab-df-container\">\n",
              "      <div>\n",
              "<style scoped>\n",
              "    .dataframe tbody tr th:only-of-type {\n",
              "        vertical-align: middle;\n",
              "    }\n",
              "\n",
              "    .dataframe tbody tr th {\n",
              "        vertical-align: top;\n",
              "    }\n",
              "\n",
              "    .dataframe thead th {\n",
              "        text-align: right;\n",
              "    }\n",
              "</style>\n",
              "<table border=\"1\" class=\"dataframe\">\n",
              "  <thead>\n",
              "    <tr style=\"text-align: right;\">\n",
              "      <th></th>\n",
              "      <th>host_name</th>\n",
              "      <th>host_id</th>\n",
              "      <th>host_status</th>\n",
              "      <th>score</th>\n",
              "      <th>match_id</th>\n",
              "      <th>match_date</th>\n",
              "      <th>guest_club</th>\n",
              "    </tr>\n",
              "  </thead>\n",
              "  <tbody>\n",
              "    <tr>\n",
              "      <th>0</th>\n",
              "      <td>Bayern Munich</td>\n",
              "      <td>27</td>\n",
              "      <td>equal</td>\n",
              "      <td>1:1</td>\n",
              "      <td>3588156</td>\n",
              "      <td>21.08.2021</td>\n",
              "      <td>Arminia Bielefeld</td>\n",
              "    </tr>\n",
              "    <tr>\n",
              "      <th>1</th>\n",
              "      <td>Bayern Munich</td>\n",
              "      <td>27</td>\n",
              "      <td>Win</td>\n",
              "      <td>3:1</td>\n",
              "      <td>3588607</td>\n",
              "      <td>23.04.2022</td>\n",
              "      <td>Borussia Dortmund</td>\n",
              "    </tr>\n",
              "    <tr>\n",
              "      <th>2</th>\n",
              "      <td>Bayern Munich</td>\n",
              "      <td>27</td>\n",
              "      <td>equal</td>\n",
              "      <td>1:1</td>\n",
              "      <td>3588508</td>\n",
              "      <td>05.03.2022</td>\n",
              "      <td>Bayer 04 Leverkusen</td>\n",
              "    </tr>\n",
              "    <tr>\n",
              "      <th>3</th>\n",
              "      <td>Bayern Munich</td>\n",
              "      <td>27</td>\n",
              "      <td>Win</td>\n",
              "      <td>3:2</td>\n",
              "      <td>3588454</td>\n",
              "      <td>05.02.2022</td>\n",
              "      <td>Rb Leipzig</td>\n",
              "    </tr>\n",
              "    <tr>\n",
              "      <th>4</th>\n",
              "      <td>Bayern Munich</td>\n",
              "      <td>27</td>\n",
              "      <td>Win</td>\n",
              "      <td>4:0</td>\n",
              "      <td>3588544</td>\n",
              "      <td>19.03.2022</td>\n",
              "      <td>1 Fc Union Berlin</td>\n",
              "    </tr>\n",
              "  </tbody>\n",
              "</table>\n",
              "</div>\n",
              "      <button class=\"colab-df-convert\" onclick=\"convertToInteractive('df-cf976317-6a40-4d98-803f-3a4638e3fb5b')\"\n",
              "              title=\"Convert this dataframe to an interactive table.\"\n",
              "              style=\"display:none;\">\n",
              "        \n",
              "  <svg xmlns=\"http://www.w3.org/2000/svg\" height=\"24px\"viewBox=\"0 0 24 24\"\n",
              "       width=\"24px\">\n",
              "    <path d=\"M0 0h24v24H0V0z\" fill=\"none\"/>\n",
              "    <path d=\"M18.56 5.44l.94 2.06.94-2.06 2.06-.94-2.06-.94-.94-2.06-.94 2.06-2.06.94zm-11 1L8.5 8.5l.94-2.06 2.06-.94-2.06-.94L8.5 2.5l-.94 2.06-2.06.94zm10 10l.94 2.06.94-2.06 2.06-.94-2.06-.94-.94-2.06-.94 2.06-2.06.94z\"/><path d=\"M17.41 7.96l-1.37-1.37c-.4-.4-.92-.59-1.43-.59-.52 0-1.04.2-1.43.59L10.3 9.45l-7.72 7.72c-.78.78-.78 2.05 0 2.83L4 21.41c.39.39.9.59 1.41.59.51 0 1.02-.2 1.41-.59l7.78-7.78 2.81-2.81c.8-.78.8-2.07 0-2.86zM5.41 20L4 18.59l7.72-7.72 1.47 1.35L5.41 20z\"/>\n",
              "  </svg>\n",
              "      </button>\n",
              "      \n",
              "  <style>\n",
              "    .colab-df-container {\n",
              "      display:flex;\n",
              "      flex-wrap:wrap;\n",
              "      gap: 12px;\n",
              "    }\n",
              "\n",
              "    .colab-df-convert {\n",
              "      background-color: #E8F0FE;\n",
              "      border: none;\n",
              "      border-radius: 50%;\n",
              "      cursor: pointer;\n",
              "      display: none;\n",
              "      fill: #1967D2;\n",
              "      height: 32px;\n",
              "      padding: 0 0 0 0;\n",
              "      width: 32px;\n",
              "    }\n",
              "\n",
              "    .colab-df-convert:hover {\n",
              "      background-color: #E2EBFA;\n",
              "      box-shadow: 0px 1px 2px rgba(60, 64, 67, 0.3), 0px 1px 3px 1px rgba(60, 64, 67, 0.15);\n",
              "      fill: #174EA6;\n",
              "    }\n",
              "\n",
              "    [theme=dark] .colab-df-convert {\n",
              "      background-color: #3B4455;\n",
              "      fill: #D2E3FC;\n",
              "    }\n",
              "\n",
              "    [theme=dark] .colab-df-convert:hover {\n",
              "      background-color: #434B5C;\n",
              "      box-shadow: 0px 1px 3px 1px rgba(0, 0, 0, 0.15);\n",
              "      filter: drop-shadow(0px 1px 2px rgba(0, 0, 0, 0.3));\n",
              "      fill: #FFFFFF;\n",
              "    }\n",
              "  </style>\n",
              "\n",
              "      <script>\n",
              "        const buttonEl =\n",
              "          document.querySelector('#df-cf976317-6a40-4d98-803f-3a4638e3fb5b button.colab-df-convert');\n",
              "        buttonEl.style.display =\n",
              "          google.colab.kernel.accessAllowed ? 'block' : 'none';\n",
              "\n",
              "        async function convertToInteractive(key) {\n",
              "          const element = document.querySelector('#df-cf976317-6a40-4d98-803f-3a4638e3fb5b');\n",
              "          const dataTable =\n",
              "            await google.colab.kernel.invokeFunction('convertToInteractive',\n",
              "                                                     [key], {});\n",
              "          if (!dataTable) return;\n",
              "\n",
              "          const docLinkHtml = 'Like what you see? Visit the ' +\n",
              "            '<a target=\"_blank\" href=https://colab.research.google.com/notebooks/data_table.ipynb>data table notebook</a>'\n",
              "            + ' to learn more about interactive tables.';\n",
              "          element.innerHTML = '';\n",
              "          dataTable['output_type'] = 'display_data';\n",
              "          await google.colab.output.renderOutput(dataTable, element);\n",
              "          const docLink = document.createElement('div');\n",
              "          docLink.innerHTML = docLinkHtml;\n",
              "          element.appendChild(docLink);\n",
              "        }\n",
              "      </script>\n",
              "    </div>\n",
              "  </div>\n",
              "  "
            ]
          },
          "metadata": {},
          "execution_count": 178
        }
      ]
    },
    {
      "cell_type": "code",
      "source": [
        "df['guest_club']=df['guest_club'].replace('Rb Leipzig','RB Leipzig')\n",
        "df['guest_club']=df['guest_club'].replace('1 Fc Union Berlin','1.FC Union Berlin')\n",
        "df['guest_club']=df['guest_club'].replace('1 Fc Koln','1.FC Köln')\n",
        "df['guest_club']=df['guest_club'].replace('Tsg 1899 Hoffenheim','TSG 1899 Hoffenheim')\n",
        "df['guest_club']=df['guest_club'].replace('Borussia Monchengladbach','Borussia Mönchengladbach')\n",
        "df['guest_club']=df['guest_club'].replace('Vfl Wolfsburg','VfL Wolfsburg')\n",
        "df['guest_club']=df['guest_club'].replace('Vfl Bochum','VfL Bochum')\n",
        "df['guest_club']=df['guest_club'].replace('Fc Augsburg','FC Augsburg') \n",
        "df['guest_club']=df['guest_club'].replace('Vfb Stuttgart','VfB Stuttgart')\n",
        "df['guest_club']=df['guest_club'].replace('Hertha Bsc','Hertha BSC')\n",
        "df['guest_club']=df['guest_club'].replace('Hertha Bsc','Hertha BSC')\n",
        "df['guest_club']=df['guest_club'].replace('Spvgg Greuther Furth','SpVgg Greuther Fürth')\n",
        "df['guest_club']=df['guest_club'].replace('Sc Freiburg','SC Freiburg') "
      ],
      "metadata": {
        "id": "CkMavT35pM7k"
      },
      "execution_count": 260,
      "outputs": []
    },
    {
      "cell_type": "code",
      "source": [
        "df['host_name'].unique()"
      ],
      "metadata": {
        "colab": {
          "base_uri": "https://localhost:8080/"
        },
        "id": "e2eRXAifo3rx",
        "outputId": "4f5f14c0-ebcd-4028-f56b-26ca52a3b209"
      },
      "execution_count": 258,
      "outputs": [
        {
          "output_type": "execute_result",
          "data": {
            "text/plain": [
              "array(['Bayern Munich', 'Borussia Dortmund', 'Bayer 04 Leverkusen',\n",
              "       'RB Leipzig', '1.FC Union Berlin', 'SC Freiburg', '1.FC Köln',\n",
              "       '1.FSV Mainz 05', 'TSG 1899 Hoffenheim',\n",
              "       'Borussia Mönchengladbach', 'Eintracht Frankfurt', 'VfL Wolfsburg',\n",
              "       'VfL Bochum', 'FC Augsburg', 'VfB Stuttgart', 'Hertha BSC',\n",
              "       'Arminia Bielefeld', 'SpVgg Greuther Fürth'], dtype=object)"
            ]
          },
          "metadata": {},
          "execution_count": 258
        }
      ]
    },
    {
      "cell_type": "code",
      "source": [
        "df['guest_club'].unique()"
      ],
      "metadata": {
        "colab": {
          "base_uri": "https://localhost:8080/"
        },
        "id": "XI6RFt8DpC8k",
        "outputId": "9a89e579-edb9-4f98-e272-d98fe45e2ca7"
      },
      "execution_count": 259,
      "outputs": [
        {
          "output_type": "execute_result",
          "data": {
            "text/plain": [
              "array(['Arminia Bielefeld', 'Borussia Dortmund', 'Bayer 04 Leverkusen',\n",
              "       'RB Leipzig', '1.FC Union Berlin', 'Sc Freiburg', '1.FC Köln',\n",
              "       '1.FSV Mainz 05', 'TSG 1899 Hoffenheim',\n",
              "       'Borussia Mönchengladbach', 'Eintracht Frankfurt', 'VfL Wolfsburg',\n",
              "       'VfL Bochum', 'FC Augsburg', 'VfB Stuttgart', 'Hertha BSC',\n",
              "       'SpVgg Greuther Fürth', 'Bayern Munich'], dtype=object)"
            ]
          },
          "metadata": {},
          "execution_count": 259
        }
      ]
    },
    {
      "cell_type": "code",
      "source": [
        "df_id=pd.DataFrame(data=df[['host_name','host_id']])"
      ],
      "metadata": {
        "id": "C1-StlTlou-m"
      },
      "execution_count": null,
      "outputs": []
    },
    {
      "cell_type": "code",
      "source": [
        "clubs=pd.read_csv('Club_table.csv')"
      ],
      "metadata": {
        "id": "VuhFecdjnmdx"
      },
      "execution_count": 210,
      "outputs": []
    },
    {
      "cell_type": "code",
      "source": [
        "clubs.head()"
      ],
      "metadata": {
        "colab": {
          "base_uri": "https://localhost:8080/",
          "height": 206
        },
        "id": "HYJ5EMFLnxva",
        "outputId": "b707cef9-1e5c-4b2d-c406-e710022233f5"
      },
      "execution_count": 211,
      "outputs": [
        {
          "output_type": "execute_result",
          "data": {
            "text/plain": [
              "    id               Club  Country\n",
              "0  631         Chelsea FC  England\n",
              "1  281    Manchester City  England\n",
              "2   11         Arsenal FC  England\n",
              "3  985  Manchester United  England\n",
              "4   31       Liverpool FC  England"
            ],
            "text/html": [
              "\n",
              "  <div id=\"df-d6888b93-6d13-46ba-aef9-ac5a11791f1e\">\n",
              "    <div class=\"colab-df-container\">\n",
              "      <div>\n",
              "<style scoped>\n",
              "    .dataframe tbody tr th:only-of-type {\n",
              "        vertical-align: middle;\n",
              "    }\n",
              "\n",
              "    .dataframe tbody tr th {\n",
              "        vertical-align: top;\n",
              "    }\n",
              "\n",
              "    .dataframe thead th {\n",
              "        text-align: right;\n",
              "    }\n",
              "</style>\n",
              "<table border=\"1\" class=\"dataframe\">\n",
              "  <thead>\n",
              "    <tr style=\"text-align: right;\">\n",
              "      <th></th>\n",
              "      <th>id</th>\n",
              "      <th>Club</th>\n",
              "      <th>Country</th>\n",
              "    </tr>\n",
              "  </thead>\n",
              "  <tbody>\n",
              "    <tr>\n",
              "      <th>0</th>\n",
              "      <td>631</td>\n",
              "      <td>Chelsea FC</td>\n",
              "      <td>England</td>\n",
              "    </tr>\n",
              "    <tr>\n",
              "      <th>1</th>\n",
              "      <td>281</td>\n",
              "      <td>Manchester City</td>\n",
              "      <td>England</td>\n",
              "    </tr>\n",
              "    <tr>\n",
              "      <th>2</th>\n",
              "      <td>11</td>\n",
              "      <td>Arsenal FC</td>\n",
              "      <td>England</td>\n",
              "    </tr>\n",
              "    <tr>\n",
              "      <th>3</th>\n",
              "      <td>985</td>\n",
              "      <td>Manchester United</td>\n",
              "      <td>England</td>\n",
              "    </tr>\n",
              "    <tr>\n",
              "      <th>4</th>\n",
              "      <td>31</td>\n",
              "      <td>Liverpool FC</td>\n",
              "      <td>England</td>\n",
              "    </tr>\n",
              "  </tbody>\n",
              "</table>\n",
              "</div>\n",
              "      <button class=\"colab-df-convert\" onclick=\"convertToInteractive('df-d6888b93-6d13-46ba-aef9-ac5a11791f1e')\"\n",
              "              title=\"Convert this dataframe to an interactive table.\"\n",
              "              style=\"display:none;\">\n",
              "        \n",
              "  <svg xmlns=\"http://www.w3.org/2000/svg\" height=\"24px\"viewBox=\"0 0 24 24\"\n",
              "       width=\"24px\">\n",
              "    <path d=\"M0 0h24v24H0V0z\" fill=\"none\"/>\n",
              "    <path d=\"M18.56 5.44l.94 2.06.94-2.06 2.06-.94-2.06-.94-.94-2.06-.94 2.06-2.06.94zm-11 1L8.5 8.5l.94-2.06 2.06-.94-2.06-.94L8.5 2.5l-.94 2.06-2.06.94zm10 10l.94 2.06.94-2.06 2.06-.94-2.06-.94-.94-2.06-.94 2.06-2.06.94z\"/><path d=\"M17.41 7.96l-1.37-1.37c-.4-.4-.92-.59-1.43-.59-.52 0-1.04.2-1.43.59L10.3 9.45l-7.72 7.72c-.78.78-.78 2.05 0 2.83L4 21.41c.39.39.9.59 1.41.59.51 0 1.02-.2 1.41-.59l7.78-7.78 2.81-2.81c.8-.78.8-2.07 0-2.86zM5.41 20L4 18.59l7.72-7.72 1.47 1.35L5.41 20z\"/>\n",
              "  </svg>\n",
              "      </button>\n",
              "      \n",
              "  <style>\n",
              "    .colab-df-container {\n",
              "      display:flex;\n",
              "      flex-wrap:wrap;\n",
              "      gap: 12px;\n",
              "    }\n",
              "\n",
              "    .colab-df-convert {\n",
              "      background-color: #E8F0FE;\n",
              "      border: none;\n",
              "      border-radius: 50%;\n",
              "      cursor: pointer;\n",
              "      display: none;\n",
              "      fill: #1967D2;\n",
              "      height: 32px;\n",
              "      padding: 0 0 0 0;\n",
              "      width: 32px;\n",
              "    }\n",
              "\n",
              "    .colab-df-convert:hover {\n",
              "      background-color: #E2EBFA;\n",
              "      box-shadow: 0px 1px 2px rgba(60, 64, 67, 0.3), 0px 1px 3px 1px rgba(60, 64, 67, 0.15);\n",
              "      fill: #174EA6;\n",
              "    }\n",
              "\n",
              "    [theme=dark] .colab-df-convert {\n",
              "      background-color: #3B4455;\n",
              "      fill: #D2E3FC;\n",
              "    }\n",
              "\n",
              "    [theme=dark] .colab-df-convert:hover {\n",
              "      background-color: #434B5C;\n",
              "      box-shadow: 0px 1px 3px 1px rgba(0, 0, 0, 0.15);\n",
              "      filter: drop-shadow(0px 1px 2px rgba(0, 0, 0, 0.3));\n",
              "      fill: #FFFFFF;\n",
              "    }\n",
              "  </style>\n",
              "\n",
              "      <script>\n",
              "        const buttonEl =\n",
              "          document.querySelector('#df-d6888b93-6d13-46ba-aef9-ac5a11791f1e button.colab-df-convert');\n",
              "        buttonEl.style.display =\n",
              "          google.colab.kernel.accessAllowed ? 'block' : 'none';\n",
              "\n",
              "        async function convertToInteractive(key) {\n",
              "          const element = document.querySelector('#df-d6888b93-6d13-46ba-aef9-ac5a11791f1e');\n",
              "          const dataTable =\n",
              "            await google.colab.kernel.invokeFunction('convertToInteractive',\n",
              "                                                     [key], {});\n",
              "          if (!dataTable) return;\n",
              "\n",
              "          const docLinkHtml = 'Like what you see? Visit the ' +\n",
              "            '<a target=\"_blank\" href=https://colab.research.google.com/notebooks/data_table.ipynb>data table notebook</a>'\n",
              "            + ' to learn more about interactive tables.';\n",
              "          element.innerHTML = '';\n",
              "          dataTable['output_type'] = 'display_data';\n",
              "          await google.colab.output.renderOutput(dataTable, element);\n",
              "          const docLink = document.createElement('div');\n",
              "          docLink.innerHTML = docLinkHtml;\n",
              "          element.appendChild(docLink);\n",
              "        }\n",
              "      </script>\n",
              "    </div>\n",
              "  </div>\n",
              "  "
            ]
          },
          "metadata": {},
          "execution_count": 211
        }
      ]
    },
    {
      "cell_type": "code",
      "source": [
        "clubs.drop(['Country'],axis=1,inplace=True)"
      ],
      "metadata": {
        "id": "RzYpqZj4n21v"
      },
      "execution_count": 212,
      "outputs": []
    },
    {
      "cell_type": "code",
      "source": [
        "clubs.shape"
      ],
      "metadata": {
        "colab": {
          "base_uri": "https://localhost:8080/"
        },
        "id": "4kEWss88n_jR",
        "outputId": "52ea390d-8ce8-404d-dad1-0d39f9dcf6a5"
      },
      "execution_count": 213,
      "outputs": [
        {
          "output_type": "execute_result",
          "data": {
            "text/plain": [
              "(149, 2)"
            ]
          },
          "metadata": {},
          "execution_count": 213
        }
      ]
    },
    {
      "cell_type": "code",
      "source": [
        "clubs.drop_duplicates(inplace=True,keep='last')"
      ],
      "metadata": {
        "id": "gMVQFsTBl-By"
      },
      "execution_count": 214,
      "outputs": []
    },
    {
      "cell_type": "code",
      "source": [
        "clubs.shape"
      ],
      "metadata": {
        "colab": {
          "base_uri": "https://localhost:8080/"
        },
        "id": "1Cg1IeEdoEcd",
        "outputId": "5f678aec-7252-4daa-b65d-b5b38af9ff82"
      },
      "execution_count": 215,
      "outputs": [
        {
          "output_type": "execute_result",
          "data": {
            "text/plain": [
              "(149, 2)"
            ]
          },
          "metadata": {},
          "execution_count": 215
        }
      ]
    },
    {
      "cell_type": "code",
      "source": [
        "clubs.rename(columns={'Club':'guest_club','id':'guest_id'},inplace=True)"
      ],
      "metadata": {
        "id": "eUtOei01mrpS"
      },
      "execution_count": 216,
      "outputs": []
    },
    {
      "cell_type": "code",
      "source": [
        "clubs.head()"
      ],
      "metadata": {
        "colab": {
          "base_uri": "https://localhost:8080/",
          "height": 206
        },
        "id": "WCqGh0l_m6Ui",
        "outputId": "8173e34b-cb63-4fd4-b01a-f58196c1cde4"
      },
      "execution_count": 217,
      "outputs": [
        {
          "output_type": "execute_result",
          "data": {
            "text/plain": [
              "   guest_id         guest_club\n",
              "0       631         Chelsea FC\n",
              "1       281    Manchester City\n",
              "2        11         Arsenal FC\n",
              "3       985  Manchester United\n",
              "4        31       Liverpool FC"
            ],
            "text/html": [
              "\n",
              "  <div id=\"df-b202dee2-70c4-400a-87b3-a4c1c1837a96\">\n",
              "    <div class=\"colab-df-container\">\n",
              "      <div>\n",
              "<style scoped>\n",
              "    .dataframe tbody tr th:only-of-type {\n",
              "        vertical-align: middle;\n",
              "    }\n",
              "\n",
              "    .dataframe tbody tr th {\n",
              "        vertical-align: top;\n",
              "    }\n",
              "\n",
              "    .dataframe thead th {\n",
              "        text-align: right;\n",
              "    }\n",
              "</style>\n",
              "<table border=\"1\" class=\"dataframe\">\n",
              "  <thead>\n",
              "    <tr style=\"text-align: right;\">\n",
              "      <th></th>\n",
              "      <th>guest_id</th>\n",
              "      <th>guest_club</th>\n",
              "    </tr>\n",
              "  </thead>\n",
              "  <tbody>\n",
              "    <tr>\n",
              "      <th>0</th>\n",
              "      <td>631</td>\n",
              "      <td>Chelsea FC</td>\n",
              "    </tr>\n",
              "    <tr>\n",
              "      <th>1</th>\n",
              "      <td>281</td>\n",
              "      <td>Manchester City</td>\n",
              "    </tr>\n",
              "    <tr>\n",
              "      <th>2</th>\n",
              "      <td>11</td>\n",
              "      <td>Arsenal FC</td>\n",
              "    </tr>\n",
              "    <tr>\n",
              "      <th>3</th>\n",
              "      <td>985</td>\n",
              "      <td>Manchester United</td>\n",
              "    </tr>\n",
              "    <tr>\n",
              "      <th>4</th>\n",
              "      <td>31</td>\n",
              "      <td>Liverpool FC</td>\n",
              "    </tr>\n",
              "  </tbody>\n",
              "</table>\n",
              "</div>\n",
              "      <button class=\"colab-df-convert\" onclick=\"convertToInteractive('df-b202dee2-70c4-400a-87b3-a4c1c1837a96')\"\n",
              "              title=\"Convert this dataframe to an interactive table.\"\n",
              "              style=\"display:none;\">\n",
              "        \n",
              "  <svg xmlns=\"http://www.w3.org/2000/svg\" height=\"24px\"viewBox=\"0 0 24 24\"\n",
              "       width=\"24px\">\n",
              "    <path d=\"M0 0h24v24H0V0z\" fill=\"none\"/>\n",
              "    <path d=\"M18.56 5.44l.94 2.06.94-2.06 2.06-.94-2.06-.94-.94-2.06-.94 2.06-2.06.94zm-11 1L8.5 8.5l.94-2.06 2.06-.94-2.06-.94L8.5 2.5l-.94 2.06-2.06.94zm10 10l.94 2.06.94-2.06 2.06-.94-2.06-.94-.94-2.06-.94 2.06-2.06.94z\"/><path d=\"M17.41 7.96l-1.37-1.37c-.4-.4-.92-.59-1.43-.59-.52 0-1.04.2-1.43.59L10.3 9.45l-7.72 7.72c-.78.78-.78 2.05 0 2.83L4 21.41c.39.39.9.59 1.41.59.51 0 1.02-.2 1.41-.59l7.78-7.78 2.81-2.81c.8-.78.8-2.07 0-2.86zM5.41 20L4 18.59l7.72-7.72 1.47 1.35L5.41 20z\"/>\n",
              "  </svg>\n",
              "      </button>\n",
              "      \n",
              "  <style>\n",
              "    .colab-df-container {\n",
              "      display:flex;\n",
              "      flex-wrap:wrap;\n",
              "      gap: 12px;\n",
              "    }\n",
              "\n",
              "    .colab-df-convert {\n",
              "      background-color: #E8F0FE;\n",
              "      border: none;\n",
              "      border-radius: 50%;\n",
              "      cursor: pointer;\n",
              "      display: none;\n",
              "      fill: #1967D2;\n",
              "      height: 32px;\n",
              "      padding: 0 0 0 0;\n",
              "      width: 32px;\n",
              "    }\n",
              "\n",
              "    .colab-df-convert:hover {\n",
              "      background-color: #E2EBFA;\n",
              "      box-shadow: 0px 1px 2px rgba(60, 64, 67, 0.3), 0px 1px 3px 1px rgba(60, 64, 67, 0.15);\n",
              "      fill: #174EA6;\n",
              "    }\n",
              "\n",
              "    [theme=dark] .colab-df-convert {\n",
              "      background-color: #3B4455;\n",
              "      fill: #D2E3FC;\n",
              "    }\n",
              "\n",
              "    [theme=dark] .colab-df-convert:hover {\n",
              "      background-color: #434B5C;\n",
              "      box-shadow: 0px 1px 3px 1px rgba(0, 0, 0, 0.15);\n",
              "      filter: drop-shadow(0px 1px 2px rgba(0, 0, 0, 0.3));\n",
              "      fill: #FFFFFF;\n",
              "    }\n",
              "  </style>\n",
              "\n",
              "      <script>\n",
              "        const buttonEl =\n",
              "          document.querySelector('#df-b202dee2-70c4-400a-87b3-a4c1c1837a96 button.colab-df-convert');\n",
              "        buttonEl.style.display =\n",
              "          google.colab.kernel.accessAllowed ? 'block' : 'none';\n",
              "\n",
              "        async function convertToInteractive(key) {\n",
              "          const element = document.querySelector('#df-b202dee2-70c4-400a-87b3-a4c1c1837a96');\n",
              "          const dataTable =\n",
              "            await google.colab.kernel.invokeFunction('convertToInteractive',\n",
              "                                                     [key], {});\n",
              "          if (!dataTable) return;\n",
              "\n",
              "          const docLinkHtml = 'Like what you see? Visit the ' +\n",
              "            '<a target=\"_blank\" href=https://colab.research.google.com/notebooks/data_table.ipynb>data table notebook</a>'\n",
              "            + ' to learn more about interactive tables.';\n",
              "          element.innerHTML = '';\n",
              "          dataTable['output_type'] = 'display_data';\n",
              "          await google.colab.output.renderOutput(dataTable, element);\n",
              "          const docLink = document.createElement('div');\n",
              "          docLink.innerHTML = docLinkHtml;\n",
              "          element.appendChild(docLink);\n",
              "        }\n",
              "      </script>\n",
              "    </div>\n",
              "  </div>\n",
              "  "
            ]
          },
          "metadata": {},
          "execution_count": 217
        }
      ]
    },
    {
      "cell_type": "code",
      "source": [
        "merged=df.merge(clubs,how='left',on='guest_club')"
      ],
      "metadata": {
        "id": "ssIQKSh_kr6u"
      },
      "execution_count": 266,
      "outputs": []
    },
    {
      "cell_type": "code",
      "source": [
        "merged.head()"
      ],
      "metadata": {
        "colab": {
          "base_uri": "https://localhost:8080/",
          "height": 206
        },
        "id": "-5vzcROIv9jX",
        "outputId": "c9eee80f-bd96-45f1-850c-7ed22243a2bf"
      },
      "execution_count": 267,
      "outputs": [
        {
          "output_type": "execute_result",
          "data": {
            "text/plain": [
              "       host_name host_id host_status score match_id  match_date  \\\n",
              "0  Bayern Munich      27       equal  1:1   3588156  21.08.2021   \n",
              "1  Bayern Munich      27         Win  3:1   3588607  23.04.2022   \n",
              "2  Bayern Munich      27       equal  1:1   3588508  05.03.2022   \n",
              "3  Bayern Munich      27         Win  3:2   3588454  05.02.2022   \n",
              "4  Bayern Munich      27         Win  4:0   3588544  19.03.2022   \n",
              "\n",
              "            guest_club  guest_id  \n",
              "0    Arminia Bielefeld        10  \n",
              "1    Borussia Dortmund        16  \n",
              "2  Bayer 04 Leverkusen        15  \n",
              "3           RB Leipzig     23826  \n",
              "4    1.FC Union Berlin        89  "
            ],
            "text/html": [
              "\n",
              "  <div id=\"df-482e1691-e82d-490a-aeee-72f25646a598\">\n",
              "    <div class=\"colab-df-container\">\n",
              "      <div>\n",
              "<style scoped>\n",
              "    .dataframe tbody tr th:only-of-type {\n",
              "        vertical-align: middle;\n",
              "    }\n",
              "\n",
              "    .dataframe tbody tr th {\n",
              "        vertical-align: top;\n",
              "    }\n",
              "\n",
              "    .dataframe thead th {\n",
              "        text-align: right;\n",
              "    }\n",
              "</style>\n",
              "<table border=\"1\" class=\"dataframe\">\n",
              "  <thead>\n",
              "    <tr style=\"text-align: right;\">\n",
              "      <th></th>\n",
              "      <th>host_name</th>\n",
              "      <th>host_id</th>\n",
              "      <th>host_status</th>\n",
              "      <th>score</th>\n",
              "      <th>match_id</th>\n",
              "      <th>match_date</th>\n",
              "      <th>guest_club</th>\n",
              "      <th>guest_id</th>\n",
              "    </tr>\n",
              "  </thead>\n",
              "  <tbody>\n",
              "    <tr>\n",
              "      <th>0</th>\n",
              "      <td>Bayern Munich</td>\n",
              "      <td>27</td>\n",
              "      <td>equal</td>\n",
              "      <td>1:1</td>\n",
              "      <td>3588156</td>\n",
              "      <td>21.08.2021</td>\n",
              "      <td>Arminia Bielefeld</td>\n",
              "      <td>10</td>\n",
              "    </tr>\n",
              "    <tr>\n",
              "      <th>1</th>\n",
              "      <td>Bayern Munich</td>\n",
              "      <td>27</td>\n",
              "      <td>Win</td>\n",
              "      <td>3:1</td>\n",
              "      <td>3588607</td>\n",
              "      <td>23.04.2022</td>\n",
              "      <td>Borussia Dortmund</td>\n",
              "      <td>16</td>\n",
              "    </tr>\n",
              "    <tr>\n",
              "      <th>2</th>\n",
              "      <td>Bayern Munich</td>\n",
              "      <td>27</td>\n",
              "      <td>equal</td>\n",
              "      <td>1:1</td>\n",
              "      <td>3588508</td>\n",
              "      <td>05.03.2022</td>\n",
              "      <td>Bayer 04 Leverkusen</td>\n",
              "      <td>15</td>\n",
              "    </tr>\n",
              "    <tr>\n",
              "      <th>3</th>\n",
              "      <td>Bayern Munich</td>\n",
              "      <td>27</td>\n",
              "      <td>Win</td>\n",
              "      <td>3:2</td>\n",
              "      <td>3588454</td>\n",
              "      <td>05.02.2022</td>\n",
              "      <td>RB Leipzig</td>\n",
              "      <td>23826</td>\n",
              "    </tr>\n",
              "    <tr>\n",
              "      <th>4</th>\n",
              "      <td>Bayern Munich</td>\n",
              "      <td>27</td>\n",
              "      <td>Win</td>\n",
              "      <td>4:0</td>\n",
              "      <td>3588544</td>\n",
              "      <td>19.03.2022</td>\n",
              "      <td>1.FC Union Berlin</td>\n",
              "      <td>89</td>\n",
              "    </tr>\n",
              "  </tbody>\n",
              "</table>\n",
              "</div>\n",
              "      <button class=\"colab-df-convert\" onclick=\"convertToInteractive('df-482e1691-e82d-490a-aeee-72f25646a598')\"\n",
              "              title=\"Convert this dataframe to an interactive table.\"\n",
              "              style=\"display:none;\">\n",
              "        \n",
              "  <svg xmlns=\"http://www.w3.org/2000/svg\" height=\"24px\"viewBox=\"0 0 24 24\"\n",
              "       width=\"24px\">\n",
              "    <path d=\"M0 0h24v24H0V0z\" fill=\"none\"/>\n",
              "    <path d=\"M18.56 5.44l.94 2.06.94-2.06 2.06-.94-2.06-.94-.94-2.06-.94 2.06-2.06.94zm-11 1L8.5 8.5l.94-2.06 2.06-.94-2.06-.94L8.5 2.5l-.94 2.06-2.06.94zm10 10l.94 2.06.94-2.06 2.06-.94-2.06-.94-.94-2.06-.94 2.06-2.06.94z\"/><path d=\"M17.41 7.96l-1.37-1.37c-.4-.4-.92-.59-1.43-.59-.52 0-1.04.2-1.43.59L10.3 9.45l-7.72 7.72c-.78.78-.78 2.05 0 2.83L4 21.41c.39.39.9.59 1.41.59.51 0 1.02-.2 1.41-.59l7.78-7.78 2.81-2.81c.8-.78.8-2.07 0-2.86zM5.41 20L4 18.59l7.72-7.72 1.47 1.35L5.41 20z\"/>\n",
              "  </svg>\n",
              "      </button>\n",
              "      \n",
              "  <style>\n",
              "    .colab-df-container {\n",
              "      display:flex;\n",
              "      flex-wrap:wrap;\n",
              "      gap: 12px;\n",
              "    }\n",
              "\n",
              "    .colab-df-convert {\n",
              "      background-color: #E8F0FE;\n",
              "      border: none;\n",
              "      border-radius: 50%;\n",
              "      cursor: pointer;\n",
              "      display: none;\n",
              "      fill: #1967D2;\n",
              "      height: 32px;\n",
              "      padding: 0 0 0 0;\n",
              "      width: 32px;\n",
              "    }\n",
              "\n",
              "    .colab-df-convert:hover {\n",
              "      background-color: #E2EBFA;\n",
              "      box-shadow: 0px 1px 2px rgba(60, 64, 67, 0.3), 0px 1px 3px 1px rgba(60, 64, 67, 0.15);\n",
              "      fill: #174EA6;\n",
              "    }\n",
              "\n",
              "    [theme=dark] .colab-df-convert {\n",
              "      background-color: #3B4455;\n",
              "      fill: #D2E3FC;\n",
              "    }\n",
              "\n",
              "    [theme=dark] .colab-df-convert:hover {\n",
              "      background-color: #434B5C;\n",
              "      box-shadow: 0px 1px 3px 1px rgba(0, 0, 0, 0.15);\n",
              "      filter: drop-shadow(0px 1px 2px rgba(0, 0, 0, 0.3));\n",
              "      fill: #FFFFFF;\n",
              "    }\n",
              "  </style>\n",
              "\n",
              "      <script>\n",
              "        const buttonEl =\n",
              "          document.querySelector('#df-482e1691-e82d-490a-aeee-72f25646a598 button.colab-df-convert');\n",
              "        buttonEl.style.display =\n",
              "          google.colab.kernel.accessAllowed ? 'block' : 'none';\n",
              "\n",
              "        async function convertToInteractive(key) {\n",
              "          const element = document.querySelector('#df-482e1691-e82d-490a-aeee-72f25646a598');\n",
              "          const dataTable =\n",
              "            await google.colab.kernel.invokeFunction('convertToInteractive',\n",
              "                                                     [key], {});\n",
              "          if (!dataTable) return;\n",
              "\n",
              "          const docLinkHtml = 'Like what you see? Visit the ' +\n",
              "            '<a target=\"_blank\" href=https://colab.research.google.com/notebooks/data_table.ipynb>data table notebook</a>'\n",
              "            + ' to learn more about interactive tables.';\n",
              "          element.innerHTML = '';\n",
              "          dataTable['output_type'] = 'display_data';\n",
              "          await google.colab.output.renderOutput(dataTable, element);\n",
              "          const docLink = document.createElement('div');\n",
              "          docLink.innerHTML = docLinkHtml;\n",
              "          element.appendChild(docLink);\n",
              "        }\n",
              "      </script>\n",
              "    </div>\n",
              "  </div>\n",
              "  "
            ]
          },
          "metadata": {},
          "execution_count": 267
        }
      ]
    },
    {
      "cell_type": "code",
      "source": [
        "merged.isnull().sum()"
      ],
      "metadata": {
        "colab": {
          "base_uri": "https://localhost:8080/"
        },
        "id": "N-jf2oGXqra7",
        "outputId": "dff9c8fa-b517-4cff-d6eb-2a18ed7ec804"
      },
      "execution_count": 268,
      "outputs": [
        {
          "output_type": "execute_result",
          "data": {
            "text/plain": [
              "host_name      0\n",
              "host_id        0\n",
              "host_status    0\n",
              "score          0\n",
              "match_id       0\n",
              "match_date     0\n",
              "guest_club     0\n",
              "guest_id       0\n",
              "dtype: int64"
            ]
          },
          "metadata": {},
          "execution_count": 268
        }
      ]
    },
    {
      "cell_type": "code",
      "source": [
        "merged.drop(['guest_club','host_name'],axis=1,inplace=True)"
      ],
      "metadata": {
        "id": "6LYn_1zzxVu8"
      },
      "execution_count": 269,
      "outputs": []
    },
    {
      "cell_type": "code",
      "source": [
        "merged.head()"
      ],
      "metadata": {
        "colab": {
          "base_uri": "https://localhost:8080/",
          "height": 206
        },
        "id": "uSMk2-TTx5yr",
        "outputId": "2749d403-5e8f-43b5-a9fc-12417891fa2c"
      },
      "execution_count": 270,
      "outputs": [
        {
          "output_type": "execute_result",
          "data": {
            "text/plain": [
              "  host_id host_status score match_id  match_date  guest_id\n",
              "0      27       equal  1:1   3588156  21.08.2021        10\n",
              "1      27         Win  3:1   3588607  23.04.2022        16\n",
              "2      27       equal  1:1   3588508  05.03.2022        15\n",
              "3      27         Win  3:2   3588454  05.02.2022     23826\n",
              "4      27         Win  4:0   3588544  19.03.2022        89"
            ],
            "text/html": [
              "\n",
              "  <div id=\"df-7c81147e-2355-4066-a84e-b6afe1e0bd3b\">\n",
              "    <div class=\"colab-df-container\">\n",
              "      <div>\n",
              "<style scoped>\n",
              "    .dataframe tbody tr th:only-of-type {\n",
              "        vertical-align: middle;\n",
              "    }\n",
              "\n",
              "    .dataframe tbody tr th {\n",
              "        vertical-align: top;\n",
              "    }\n",
              "\n",
              "    .dataframe thead th {\n",
              "        text-align: right;\n",
              "    }\n",
              "</style>\n",
              "<table border=\"1\" class=\"dataframe\">\n",
              "  <thead>\n",
              "    <tr style=\"text-align: right;\">\n",
              "      <th></th>\n",
              "      <th>host_id</th>\n",
              "      <th>host_status</th>\n",
              "      <th>score</th>\n",
              "      <th>match_id</th>\n",
              "      <th>match_date</th>\n",
              "      <th>guest_id</th>\n",
              "    </tr>\n",
              "  </thead>\n",
              "  <tbody>\n",
              "    <tr>\n",
              "      <th>0</th>\n",
              "      <td>27</td>\n",
              "      <td>equal</td>\n",
              "      <td>1:1</td>\n",
              "      <td>3588156</td>\n",
              "      <td>21.08.2021</td>\n",
              "      <td>10</td>\n",
              "    </tr>\n",
              "    <tr>\n",
              "      <th>1</th>\n",
              "      <td>27</td>\n",
              "      <td>Win</td>\n",
              "      <td>3:1</td>\n",
              "      <td>3588607</td>\n",
              "      <td>23.04.2022</td>\n",
              "      <td>16</td>\n",
              "    </tr>\n",
              "    <tr>\n",
              "      <th>2</th>\n",
              "      <td>27</td>\n",
              "      <td>equal</td>\n",
              "      <td>1:1</td>\n",
              "      <td>3588508</td>\n",
              "      <td>05.03.2022</td>\n",
              "      <td>15</td>\n",
              "    </tr>\n",
              "    <tr>\n",
              "      <th>3</th>\n",
              "      <td>27</td>\n",
              "      <td>Win</td>\n",
              "      <td>3:2</td>\n",
              "      <td>3588454</td>\n",
              "      <td>05.02.2022</td>\n",
              "      <td>23826</td>\n",
              "    </tr>\n",
              "    <tr>\n",
              "      <th>4</th>\n",
              "      <td>27</td>\n",
              "      <td>Win</td>\n",
              "      <td>4:0</td>\n",
              "      <td>3588544</td>\n",
              "      <td>19.03.2022</td>\n",
              "      <td>89</td>\n",
              "    </tr>\n",
              "  </tbody>\n",
              "</table>\n",
              "</div>\n",
              "      <button class=\"colab-df-convert\" onclick=\"convertToInteractive('df-7c81147e-2355-4066-a84e-b6afe1e0bd3b')\"\n",
              "              title=\"Convert this dataframe to an interactive table.\"\n",
              "              style=\"display:none;\">\n",
              "        \n",
              "  <svg xmlns=\"http://www.w3.org/2000/svg\" height=\"24px\"viewBox=\"0 0 24 24\"\n",
              "       width=\"24px\">\n",
              "    <path d=\"M0 0h24v24H0V0z\" fill=\"none\"/>\n",
              "    <path d=\"M18.56 5.44l.94 2.06.94-2.06 2.06-.94-2.06-.94-.94-2.06-.94 2.06-2.06.94zm-11 1L8.5 8.5l.94-2.06 2.06-.94-2.06-.94L8.5 2.5l-.94 2.06-2.06.94zm10 10l.94 2.06.94-2.06 2.06-.94-2.06-.94-.94-2.06-.94 2.06-2.06.94z\"/><path d=\"M17.41 7.96l-1.37-1.37c-.4-.4-.92-.59-1.43-.59-.52 0-1.04.2-1.43.59L10.3 9.45l-7.72 7.72c-.78.78-.78 2.05 0 2.83L4 21.41c.39.39.9.59 1.41.59.51 0 1.02-.2 1.41-.59l7.78-7.78 2.81-2.81c.8-.78.8-2.07 0-2.86zM5.41 20L4 18.59l7.72-7.72 1.47 1.35L5.41 20z\"/>\n",
              "  </svg>\n",
              "      </button>\n",
              "      \n",
              "  <style>\n",
              "    .colab-df-container {\n",
              "      display:flex;\n",
              "      flex-wrap:wrap;\n",
              "      gap: 12px;\n",
              "    }\n",
              "\n",
              "    .colab-df-convert {\n",
              "      background-color: #E8F0FE;\n",
              "      border: none;\n",
              "      border-radius: 50%;\n",
              "      cursor: pointer;\n",
              "      display: none;\n",
              "      fill: #1967D2;\n",
              "      height: 32px;\n",
              "      padding: 0 0 0 0;\n",
              "      width: 32px;\n",
              "    }\n",
              "\n",
              "    .colab-df-convert:hover {\n",
              "      background-color: #E2EBFA;\n",
              "      box-shadow: 0px 1px 2px rgba(60, 64, 67, 0.3), 0px 1px 3px 1px rgba(60, 64, 67, 0.15);\n",
              "      fill: #174EA6;\n",
              "    }\n",
              "\n",
              "    [theme=dark] .colab-df-convert {\n",
              "      background-color: #3B4455;\n",
              "      fill: #D2E3FC;\n",
              "    }\n",
              "\n",
              "    [theme=dark] .colab-df-convert:hover {\n",
              "      background-color: #434B5C;\n",
              "      box-shadow: 0px 1px 3px 1px rgba(0, 0, 0, 0.15);\n",
              "      filter: drop-shadow(0px 1px 2px rgba(0, 0, 0, 0.3));\n",
              "      fill: #FFFFFF;\n",
              "    }\n",
              "  </style>\n",
              "\n",
              "      <script>\n",
              "        const buttonEl =\n",
              "          document.querySelector('#df-7c81147e-2355-4066-a84e-b6afe1e0bd3b button.colab-df-convert');\n",
              "        buttonEl.style.display =\n",
              "          google.colab.kernel.accessAllowed ? 'block' : 'none';\n",
              "\n",
              "        async function convertToInteractive(key) {\n",
              "          const element = document.querySelector('#df-7c81147e-2355-4066-a84e-b6afe1e0bd3b');\n",
              "          const dataTable =\n",
              "            await google.colab.kernel.invokeFunction('convertToInteractive',\n",
              "                                                     [key], {});\n",
              "          if (!dataTable) return;\n",
              "\n",
              "          const docLinkHtml = 'Like what you see? Visit the ' +\n",
              "            '<a target=\"_blank\" href=https://colab.research.google.com/notebooks/data_table.ipynb>data table notebook</a>'\n",
              "            + ' to learn more about interactive tables.';\n",
              "          element.innerHTML = '';\n",
              "          dataTable['output_type'] = 'display_data';\n",
              "          await google.colab.output.renderOutput(dataTable, element);\n",
              "          const docLink = document.createElement('div');\n",
              "          docLink.innerHTML = docLinkHtml;\n",
              "          element.appendChild(docLink);\n",
              "        }\n",
              "      </script>\n",
              "    </div>\n",
              "  </div>\n",
              "  "
            ]
          },
          "metadata": {},
          "execution_count": 270
        }
      ]
    },
    {
      "cell_type": "code",
      "source": [
        "merged.to_csv('Germany_competions.csv', index=False)"
      ],
      "metadata": {
        "id": "EKVPmq-W0yyP"
      },
      "execution_count": 274,
      "outputs": []
    },
    {
      "cell_type": "markdown",
      "source": [
        "#England"
      ],
      "metadata": {
        "id": "u2vlZboA9dNQ"
      }
    },
    {
      "cell_type": "code",
      "source": [
        "url='https://www.transfermarkt.com/premier-league/kreuztabelle/wettbewerb/GB1/saison_id/2021'\n",
        "headers = {'Authorization': 'Bearer YOUR_ACCESS_TOKEN',\n",
        "           'User-Agent': 'Mozilla/5.0 (Macintosh; Intel Mac OS X 10_11_5) AppleWebKit/537.36 (KHTML, like Gecko) Chrome/50.0.2661.102 Safari/537.36'}"
      ],
      "metadata": {
        "id": "VaihAIlM7Dkn"
      },
      "execution_count": 372,
      "outputs": []
    },
    {
      "cell_type": "code",
      "source": [
        "PROXY_ADDRESS = \"185.199.229.156\"\n",
        "PROXY_PORT =7492\n",
        "PROXY_USERNAME = \"zhudofyh\"\n",
        "PROXY_PASSWORD = \"k1tm10gcjs3u\"\n",
        "\n",
        "proxy_credential = {\"https\": f\"http://{PROXY_USERNAME}:{PROXY_PASSWORD}@{PROXY_ADDRESS}:{PROXY_PORT}\"}"
      ],
      "metadata": {
        "id": "qkuMu77N7Drw"
      },
      "execution_count": 373,
      "outputs": []
    },
    {
      "cell_type": "code",
      "source": [
        "r = requests.get(url, headers =headers , proxies=proxy_credential)\n",
        "if r.status_code == 200:\n",
        "\n",
        "    soup=BeautifulSoup(r.content, 'html.parser')\n",
        "\n",
        "else:\n",
        "\n",
        "    print('Error:', r.status_code) "
      ],
      "metadata": {
        "id": "vJBzjhVq7DuR"
      },
      "execution_count": 374,
      "outputs": []
    },
    {
      "cell_type": "code",
      "source": [
        "host_names=[]\n",
        "host_ids=[]\n",
        "host_status=[]\n",
        "scores=[]\n",
        "matches_id=[]\n",
        "matches_date=[]\n",
        "guest_club=[]\n",
        "trs=soup.find('table',attrs={'class':'kreuztabelle'}).find_all('tr')\n",
        "row_1=trs[0].find_all('td')[1:-1]\n",
        "clubs_count=len(row_1)\n",
        "\n",
        "for td in row_1:\n",
        "  guest_id=td.find('a')['href'].split('/')[4]\n",
        "  guest_club.append(guest_id)\n",
        "\n",
        "for tr in trs[1:-1]:\n",
        "    #find host name and host id(club)\n",
        "    host_name=tr.find('td').find('a')['title'] \n",
        "    #host id\n",
        "    link=tr.find('td').find('a')['href']\n",
        "    host_id=href_to_id(link) \n",
        "\n",
        "    #find all table data\n",
        "    tds=tr.find_all('td')[1:-1]\n",
        "    #find status and score of each game\n",
        "\n",
        "    for td in tds:\n",
        "\n",
        "        #find match_id and match day and guest_name\n",
        "        try:\n",
        "\n",
        "            #match ID\n",
        "            match_id=td.find('a')['id']\n",
        "\n",
        "            #match day\n",
        "            matchday=td.find('a')['title'].split(',')[1][4:].lstrip()\n",
        "\n",
        "        except:\n",
        "            pass\n",
        "        #find scores of games\n",
        "        try:\n",
        "            try:\n",
        "                score=td.find('nobr').find('a').find('span',attrs={'class':'redtext'}).text\n",
        "                status='Lost'\n",
        "       \n",
        "            except:\n",
        "                score=td.find('nobr').find('a').find('span',attrs={'class':'greentext'}).text\n",
        "                status='Win'\n",
        "        except:\n",
        "            try:\n",
        "                score=td.find('nobr').find('a').find('span').text\n",
        "                status='equal'\n",
        "            except:\n",
        "                score='-' \n",
        "                status='-'\n",
        "        scores.append(score)\n",
        "        host_names.append(host_name)\n",
        "        host_ids.append(host_id)\n",
        "        host_status.append(status)\n",
        "        matches_id.append(match_id)\n",
        "        matches_date.append(matchday)"
      ],
      "metadata": {
        "id": "Wo2HL4bM7DxA"
      },
      "execution_count": 375,
      "outputs": []
    },
    {
      "cell_type": "code",
      "source": [
        "guest_club=guest_club*clubs_count"
      ],
      "metadata": {
        "id": "Sr32AC3uG3Kk"
      },
      "execution_count": 376,
      "outputs": []
    },
    {
      "cell_type": "code",
      "source": [
        "info={}\n",
        "info['host_name']=host_names\n",
        "info['host_id']=host_ids\n",
        "info['host_status']=host_status\n",
        "info['score']=scores\n",
        "info['match_id']=matches_id\n",
        "info['match_date']=matches_date\n",
        "info['guest_club']=guest_club"
      ],
      "metadata": {
        "id": "fFy6nPMW7D0Y"
      },
      "execution_count": 377,
      "outputs": []
    },
    {
      "cell_type": "code",
      "source": [
        "england_df=pd.DataFrame(data=info)"
      ],
      "metadata": {
        "id": "-irIn44e9SA8"
      },
      "execution_count": 378,
      "outputs": []
    },
    {
      "cell_type": "code",
      "source": [
        "england_df.shape"
      ],
      "metadata": {
        "colab": {
          "base_uri": "https://localhost:8080/"
        },
        "id": "UHunmeZNHXS0",
        "outputId": "e8876841-83e4-4535-aecc-afe1bd4c5b1e"
      },
      "execution_count": 379,
      "outputs": [
        {
          "output_type": "execute_result",
          "data": {
            "text/plain": [
              "(400, 7)"
            ]
          },
          "metadata": {},
          "execution_count": 379
        }
      ]
    },
    {
      "cell_type": "code",
      "source": [
        "england_df.head()"
      ],
      "metadata": {
        "colab": {
          "base_uri": "https://localhost:8080/",
          "height": 206
        },
        "id": "YWOJFHZ0Iepk",
        "outputId": "84518ac5-6a69-4e77-aa0c-946630c38d34"
      },
      "execution_count": 380,
      "outputs": [
        {
          "output_type": "execute_result",
          "data": {
            "text/plain": [
              "         host_name host_id host_status score match_id  match_date guest_club\n",
              "0  Manchester City     281           -     -  3607541  06.11.2021        281\n",
              "1  Manchester City     281       equal  2:2   3592215  10.04.2022         31\n",
              "2  Manchester City     281         Win  1:0   3592115  15.01.2022        631\n",
              "3  Manchester City     281        Lost  2:3   3592107  19.02.2022        148\n",
              "4  Manchester City     281         Win  5:0   3591995  28.08.2021         11"
            ],
            "text/html": [
              "\n",
              "  <div id=\"df-5ea9f17a-ca22-4415-9184-abee11d72188\">\n",
              "    <div class=\"colab-df-container\">\n",
              "      <div>\n",
              "<style scoped>\n",
              "    .dataframe tbody tr th:only-of-type {\n",
              "        vertical-align: middle;\n",
              "    }\n",
              "\n",
              "    .dataframe tbody tr th {\n",
              "        vertical-align: top;\n",
              "    }\n",
              "\n",
              "    .dataframe thead th {\n",
              "        text-align: right;\n",
              "    }\n",
              "</style>\n",
              "<table border=\"1\" class=\"dataframe\">\n",
              "  <thead>\n",
              "    <tr style=\"text-align: right;\">\n",
              "      <th></th>\n",
              "      <th>host_name</th>\n",
              "      <th>host_id</th>\n",
              "      <th>host_status</th>\n",
              "      <th>score</th>\n",
              "      <th>match_id</th>\n",
              "      <th>match_date</th>\n",
              "      <th>guest_club</th>\n",
              "    </tr>\n",
              "  </thead>\n",
              "  <tbody>\n",
              "    <tr>\n",
              "      <th>0</th>\n",
              "      <td>Manchester City</td>\n",
              "      <td>281</td>\n",
              "      <td>-</td>\n",
              "      <td>-</td>\n",
              "      <td>3607541</td>\n",
              "      <td>06.11.2021</td>\n",
              "      <td>281</td>\n",
              "    </tr>\n",
              "    <tr>\n",
              "      <th>1</th>\n",
              "      <td>Manchester City</td>\n",
              "      <td>281</td>\n",
              "      <td>equal</td>\n",
              "      <td>2:2</td>\n",
              "      <td>3592215</td>\n",
              "      <td>10.04.2022</td>\n",
              "      <td>31</td>\n",
              "    </tr>\n",
              "    <tr>\n",
              "      <th>2</th>\n",
              "      <td>Manchester City</td>\n",
              "      <td>281</td>\n",
              "      <td>Win</td>\n",
              "      <td>1:0</td>\n",
              "      <td>3592115</td>\n",
              "      <td>15.01.2022</td>\n",
              "      <td>631</td>\n",
              "    </tr>\n",
              "    <tr>\n",
              "      <th>3</th>\n",
              "      <td>Manchester City</td>\n",
              "      <td>281</td>\n",
              "      <td>Lost</td>\n",
              "      <td>2:3</td>\n",
              "      <td>3592107</td>\n",
              "      <td>19.02.2022</td>\n",
              "      <td>148</td>\n",
              "    </tr>\n",
              "    <tr>\n",
              "      <th>4</th>\n",
              "      <td>Manchester City</td>\n",
              "      <td>281</td>\n",
              "      <td>Win</td>\n",
              "      <td>5:0</td>\n",
              "      <td>3591995</td>\n",
              "      <td>28.08.2021</td>\n",
              "      <td>11</td>\n",
              "    </tr>\n",
              "  </tbody>\n",
              "</table>\n",
              "</div>\n",
              "      <button class=\"colab-df-convert\" onclick=\"convertToInteractive('df-5ea9f17a-ca22-4415-9184-abee11d72188')\"\n",
              "              title=\"Convert this dataframe to an interactive table.\"\n",
              "              style=\"display:none;\">\n",
              "        \n",
              "  <svg xmlns=\"http://www.w3.org/2000/svg\" height=\"24px\"viewBox=\"0 0 24 24\"\n",
              "       width=\"24px\">\n",
              "    <path d=\"M0 0h24v24H0V0z\" fill=\"none\"/>\n",
              "    <path d=\"M18.56 5.44l.94 2.06.94-2.06 2.06-.94-2.06-.94-.94-2.06-.94 2.06-2.06.94zm-11 1L8.5 8.5l.94-2.06 2.06-.94-2.06-.94L8.5 2.5l-.94 2.06-2.06.94zm10 10l.94 2.06.94-2.06 2.06-.94-2.06-.94-.94-2.06-.94 2.06-2.06.94z\"/><path d=\"M17.41 7.96l-1.37-1.37c-.4-.4-.92-.59-1.43-.59-.52 0-1.04.2-1.43.59L10.3 9.45l-7.72 7.72c-.78.78-.78 2.05 0 2.83L4 21.41c.39.39.9.59 1.41.59.51 0 1.02-.2 1.41-.59l7.78-7.78 2.81-2.81c.8-.78.8-2.07 0-2.86zM5.41 20L4 18.59l7.72-7.72 1.47 1.35L5.41 20z\"/>\n",
              "  </svg>\n",
              "      </button>\n",
              "      \n",
              "  <style>\n",
              "    .colab-df-container {\n",
              "      display:flex;\n",
              "      flex-wrap:wrap;\n",
              "      gap: 12px;\n",
              "    }\n",
              "\n",
              "    .colab-df-convert {\n",
              "      background-color: #E8F0FE;\n",
              "      border: none;\n",
              "      border-radius: 50%;\n",
              "      cursor: pointer;\n",
              "      display: none;\n",
              "      fill: #1967D2;\n",
              "      height: 32px;\n",
              "      padding: 0 0 0 0;\n",
              "      width: 32px;\n",
              "    }\n",
              "\n",
              "    .colab-df-convert:hover {\n",
              "      background-color: #E2EBFA;\n",
              "      box-shadow: 0px 1px 2px rgba(60, 64, 67, 0.3), 0px 1px 3px 1px rgba(60, 64, 67, 0.15);\n",
              "      fill: #174EA6;\n",
              "    }\n",
              "\n",
              "    [theme=dark] .colab-df-convert {\n",
              "      background-color: #3B4455;\n",
              "      fill: #D2E3FC;\n",
              "    }\n",
              "\n",
              "    [theme=dark] .colab-df-convert:hover {\n",
              "      background-color: #434B5C;\n",
              "      box-shadow: 0px 1px 3px 1px rgba(0, 0, 0, 0.15);\n",
              "      filter: drop-shadow(0px 1px 2px rgba(0, 0, 0, 0.3));\n",
              "      fill: #FFFFFF;\n",
              "    }\n",
              "  </style>\n",
              "\n",
              "      <script>\n",
              "        const buttonEl =\n",
              "          document.querySelector('#df-5ea9f17a-ca22-4415-9184-abee11d72188 button.colab-df-convert');\n",
              "        buttonEl.style.display =\n",
              "          google.colab.kernel.accessAllowed ? 'block' : 'none';\n",
              "\n",
              "        async function convertToInteractive(key) {\n",
              "          const element = document.querySelector('#df-5ea9f17a-ca22-4415-9184-abee11d72188');\n",
              "          const dataTable =\n",
              "            await google.colab.kernel.invokeFunction('convertToInteractive',\n",
              "                                                     [key], {});\n",
              "          if (!dataTable) return;\n",
              "\n",
              "          const docLinkHtml = 'Like what you see? Visit the ' +\n",
              "            '<a target=\"_blank\" href=https://colab.research.google.com/notebooks/data_table.ipynb>data table notebook</a>'\n",
              "            + ' to learn more about interactive tables.';\n",
              "          element.innerHTML = '';\n",
              "          dataTable['output_type'] = 'display_data';\n",
              "          await google.colab.output.renderOutput(dataTable, element);\n",
              "          const docLink = document.createElement('div');\n",
              "          docLink.innerHTML = docLinkHtml;\n",
              "          element.appendChild(docLink);\n",
              "        }\n",
              "      </script>\n",
              "    </div>\n",
              "  </div>\n",
              "  "
            ]
          },
          "metadata": {},
          "execution_count": 380
        }
      ]
    },
    {
      "cell_type": "code",
      "source": [
        "index=england_df[england_df['score']=='-'].index.tolist()"
      ],
      "metadata": {
        "id": "7YcoIT0tHiQV"
      },
      "execution_count": 381,
      "outputs": []
    },
    {
      "cell_type": "code",
      "source": [
        "england_df.drop(index,axis=0,inplace=True)"
      ],
      "metadata": {
        "id": "99r-5tYbIGWC"
      },
      "execution_count": 382,
      "outputs": []
    },
    {
      "cell_type": "code",
      "source": [
        "england_df.shape"
      ],
      "metadata": {
        "colab": {
          "base_uri": "https://localhost:8080/"
        },
        "id": "LAGCu0pTIUmW",
        "outputId": "84a8ca9b-997c-4674-88f4-8df8b423d776"
      },
      "execution_count": 383,
      "outputs": [
        {
          "output_type": "execute_result",
          "data": {
            "text/plain": [
              "(380, 7)"
            ]
          },
          "metadata": {},
          "execution_count": 383
        }
      ]
    },
    {
      "cell_type": "code",
      "source": [
        "england_df.head(30)"
      ],
      "metadata": {
        "colab": {
          "base_uri": "https://localhost:8080/",
          "height": 990
        },
        "id": "uFlkr9LgHHTH",
        "outputId": "31364e44-2fbd-4c74-877e-8c32164dd680"
      },
      "execution_count": 384,
      "outputs": [
        {
          "output_type": "execute_result",
          "data": {
            "text/plain": [
              "          host_name host_id host_status score match_id  match_date guest_club\n",
              "1   Manchester City     281       equal  2:2   3592215  10.04.2022         31\n",
              "2   Manchester City     281         Win  1:0   3592115  15.01.2022        631\n",
              "3   Manchester City     281        Lost  2:3   3592107  19.02.2022        148\n",
              "4   Manchester City     281         Win  5:0   3591995  28.08.2021         11\n",
              "5   Manchester City     281         Win  4:1   3592145  06.03.2022        985\n",
              "6   Manchester City     281         Win  2:1   3592099  28.11.2021        379\n",
              "7   Manchester City     281         Win  6:3   3592208  26.12.2021       1003\n",
              "8   Manchester City     281         Win  3:0   3592217  20.04.2022       1237\n",
              "9   Manchester City     281         Win  1:0   3592079  11.12.2021        543\n",
              "10  Manchester City     281         Win  5:0   3592265  08.05.2022        762\n",
              "11  Manchester City     281        Lost  0:2   3591975  30.10.2021        873\n",
              "12  Manchester City     281         Win  2:0   3592258  09.02.2022       1148\n",
              "13  Manchester City     281         Win  3:2   3592250  22.05.2022        405\n",
              "14  Manchester City     281       equal  0:0   3591965  18.09.2021        180\n",
              "15  Manchester City     281         Win  3:0   3592035  21.11.2021         29\n",
              "16  Manchester City     281         Win  7:0   3592060  14.12.2021        399\n",
              "17  Manchester City     281         Win  2:0   3592016  16.10.2021       1132\n",
              "18  Manchester City     281         Win  5:1   3592274  23.04.2022       1010\n",
              "19  Manchester City     281         Win  5:0   3583525  21.08.2021       1123\n",
              "20     Liverpool FC      31       equal  2:2   3592006  03.10.2021        281\n",
              "22     Liverpool FC      31       equal  1:1   3591994  28.08.2021        631\n",
              "23     Liverpool FC      31       equal  1:1   3592247  07.05.2022        148\n",
              "24     Liverpool FC      31         Win  4:0   3592034  20.11.2021         11\n",
              "25     Liverpool FC      31         Win  4:0   3592203  19.04.2022        985\n",
              "26     Liverpool FC      31         Win  1:0   3592144  05.03.2022        379\n",
              "27     Liverpool FC      31         Win  2:0   3592244  10.02.2022       1003\n",
              "28     Liverpool FC      31       equal  2:2   3591974  30.10.2021       1237\n",
              "29     Liverpool FC      31         Win  3:1   3592241  22.05.2022        543\n",
              "30     Liverpool FC      31         Win  3:1   3592059  16.12.2021        762\n",
              "31     Liverpool FC      31         Win  3:0   3591964  18.09.2021        873"
            ],
            "text/html": [
              "\n",
              "  <div id=\"df-e2964833-4217-4107-bea8-6733a07d26a2\">\n",
              "    <div class=\"colab-df-container\">\n",
              "      <div>\n",
              "<style scoped>\n",
              "    .dataframe tbody tr th:only-of-type {\n",
              "        vertical-align: middle;\n",
              "    }\n",
              "\n",
              "    .dataframe tbody tr th {\n",
              "        vertical-align: top;\n",
              "    }\n",
              "\n",
              "    .dataframe thead th {\n",
              "        text-align: right;\n",
              "    }\n",
              "</style>\n",
              "<table border=\"1\" class=\"dataframe\">\n",
              "  <thead>\n",
              "    <tr style=\"text-align: right;\">\n",
              "      <th></th>\n",
              "      <th>host_name</th>\n",
              "      <th>host_id</th>\n",
              "      <th>host_status</th>\n",
              "      <th>score</th>\n",
              "      <th>match_id</th>\n",
              "      <th>match_date</th>\n",
              "      <th>guest_club</th>\n",
              "    </tr>\n",
              "  </thead>\n",
              "  <tbody>\n",
              "    <tr>\n",
              "      <th>1</th>\n",
              "      <td>Manchester City</td>\n",
              "      <td>281</td>\n",
              "      <td>equal</td>\n",
              "      <td>2:2</td>\n",
              "      <td>3592215</td>\n",
              "      <td>10.04.2022</td>\n",
              "      <td>31</td>\n",
              "    </tr>\n",
              "    <tr>\n",
              "      <th>2</th>\n",
              "      <td>Manchester City</td>\n",
              "      <td>281</td>\n",
              "      <td>Win</td>\n",
              "      <td>1:0</td>\n",
              "      <td>3592115</td>\n",
              "      <td>15.01.2022</td>\n",
              "      <td>631</td>\n",
              "    </tr>\n",
              "    <tr>\n",
              "      <th>3</th>\n",
              "      <td>Manchester City</td>\n",
              "      <td>281</td>\n",
              "      <td>Lost</td>\n",
              "      <td>2:3</td>\n",
              "      <td>3592107</td>\n",
              "      <td>19.02.2022</td>\n",
              "      <td>148</td>\n",
              "    </tr>\n",
              "    <tr>\n",
              "      <th>4</th>\n",
              "      <td>Manchester City</td>\n",
              "      <td>281</td>\n",
              "      <td>Win</td>\n",
              "      <td>5:0</td>\n",
              "      <td>3591995</td>\n",
              "      <td>28.08.2021</td>\n",
              "      <td>11</td>\n",
              "    </tr>\n",
              "    <tr>\n",
              "      <th>5</th>\n",
              "      <td>Manchester City</td>\n",
              "      <td>281</td>\n",
              "      <td>Win</td>\n",
              "      <td>4:1</td>\n",
              "      <td>3592145</td>\n",
              "      <td>06.03.2022</td>\n",
              "      <td>985</td>\n",
              "    </tr>\n",
              "    <tr>\n",
              "      <th>6</th>\n",
              "      <td>Manchester City</td>\n",
              "      <td>281</td>\n",
              "      <td>Win</td>\n",
              "      <td>2:1</td>\n",
              "      <td>3592099</td>\n",
              "      <td>28.11.2021</td>\n",
              "      <td>379</td>\n",
              "    </tr>\n",
              "    <tr>\n",
              "      <th>7</th>\n",
              "      <td>Manchester City</td>\n",
              "      <td>281</td>\n",
              "      <td>Win</td>\n",
              "      <td>6:3</td>\n",
              "      <td>3592208</td>\n",
              "      <td>26.12.2021</td>\n",
              "      <td>1003</td>\n",
              "    </tr>\n",
              "    <tr>\n",
              "      <th>8</th>\n",
              "      <td>Manchester City</td>\n",
              "      <td>281</td>\n",
              "      <td>Win</td>\n",
              "      <td>3:0</td>\n",
              "      <td>3592217</td>\n",
              "      <td>20.04.2022</td>\n",
              "      <td>1237</td>\n",
              "    </tr>\n",
              "    <tr>\n",
              "      <th>9</th>\n",
              "      <td>Manchester City</td>\n",
              "      <td>281</td>\n",
              "      <td>Win</td>\n",
              "      <td>1:0</td>\n",
              "      <td>3592079</td>\n",
              "      <td>11.12.2021</td>\n",
              "      <td>543</td>\n",
              "    </tr>\n",
              "    <tr>\n",
              "      <th>10</th>\n",
              "      <td>Manchester City</td>\n",
              "      <td>281</td>\n",
              "      <td>Win</td>\n",
              "      <td>5:0</td>\n",
              "      <td>3592265</td>\n",
              "      <td>08.05.2022</td>\n",
              "      <td>762</td>\n",
              "    </tr>\n",
              "    <tr>\n",
              "      <th>11</th>\n",
              "      <td>Manchester City</td>\n",
              "      <td>281</td>\n",
              "      <td>Lost</td>\n",
              "      <td>0:2</td>\n",
              "      <td>3591975</td>\n",
              "      <td>30.10.2021</td>\n",
              "      <td>873</td>\n",
              "    </tr>\n",
              "    <tr>\n",
              "      <th>12</th>\n",
              "      <td>Manchester City</td>\n",
              "      <td>281</td>\n",
              "      <td>Win</td>\n",
              "      <td>2:0</td>\n",
              "      <td>3592258</td>\n",
              "      <td>09.02.2022</td>\n",
              "      <td>1148</td>\n",
              "    </tr>\n",
              "    <tr>\n",
              "      <th>13</th>\n",
              "      <td>Manchester City</td>\n",
              "      <td>281</td>\n",
              "      <td>Win</td>\n",
              "      <td>3:2</td>\n",
              "      <td>3592250</td>\n",
              "      <td>22.05.2022</td>\n",
              "      <td>405</td>\n",
              "    </tr>\n",
              "    <tr>\n",
              "      <th>14</th>\n",
              "      <td>Manchester City</td>\n",
              "      <td>281</td>\n",
              "      <td>equal</td>\n",
              "      <td>0:0</td>\n",
              "      <td>3591965</td>\n",
              "      <td>18.09.2021</td>\n",
              "      <td>180</td>\n",
              "    </tr>\n",
              "    <tr>\n",
              "      <th>15</th>\n",
              "      <td>Manchester City</td>\n",
              "      <td>281</td>\n",
              "      <td>Win</td>\n",
              "      <td>3:0</td>\n",
              "      <td>3592035</td>\n",
              "      <td>21.11.2021</td>\n",
              "      <td>29</td>\n",
              "    </tr>\n",
              "    <tr>\n",
              "      <th>16</th>\n",
              "      <td>Manchester City</td>\n",
              "      <td>281</td>\n",
              "      <td>Win</td>\n",
              "      <td>7:0</td>\n",
              "      <td>3592060</td>\n",
              "      <td>14.12.2021</td>\n",
              "      <td>399</td>\n",
              "    </tr>\n",
              "    <tr>\n",
              "      <th>17</th>\n",
              "      <td>Manchester City</td>\n",
              "      <td>281</td>\n",
              "      <td>Win</td>\n",
              "      <td>2:0</td>\n",
              "      <td>3592016</td>\n",
              "      <td>16.10.2021</td>\n",
              "      <td>1132</td>\n",
              "    </tr>\n",
              "    <tr>\n",
              "      <th>18</th>\n",
              "      <td>Manchester City</td>\n",
              "      <td>281</td>\n",
              "      <td>Win</td>\n",
              "      <td>5:1</td>\n",
              "      <td>3592274</td>\n",
              "      <td>23.04.2022</td>\n",
              "      <td>1010</td>\n",
              "    </tr>\n",
              "    <tr>\n",
              "      <th>19</th>\n",
              "      <td>Manchester City</td>\n",
              "      <td>281</td>\n",
              "      <td>Win</td>\n",
              "      <td>5:0</td>\n",
              "      <td>3583525</td>\n",
              "      <td>21.08.2021</td>\n",
              "      <td>1123</td>\n",
              "    </tr>\n",
              "    <tr>\n",
              "      <th>20</th>\n",
              "      <td>Liverpool FC</td>\n",
              "      <td>31</td>\n",
              "      <td>equal</td>\n",
              "      <td>2:2</td>\n",
              "      <td>3592006</td>\n",
              "      <td>03.10.2021</td>\n",
              "      <td>281</td>\n",
              "    </tr>\n",
              "    <tr>\n",
              "      <th>22</th>\n",
              "      <td>Liverpool FC</td>\n",
              "      <td>31</td>\n",
              "      <td>equal</td>\n",
              "      <td>1:1</td>\n",
              "      <td>3591994</td>\n",
              "      <td>28.08.2021</td>\n",
              "      <td>631</td>\n",
              "    </tr>\n",
              "    <tr>\n",
              "      <th>23</th>\n",
              "      <td>Liverpool FC</td>\n",
              "      <td>31</td>\n",
              "      <td>equal</td>\n",
              "      <td>1:1</td>\n",
              "      <td>3592247</td>\n",
              "      <td>07.05.2022</td>\n",
              "      <td>148</td>\n",
              "    </tr>\n",
              "    <tr>\n",
              "      <th>24</th>\n",
              "      <td>Liverpool FC</td>\n",
              "      <td>31</td>\n",
              "      <td>Win</td>\n",
              "      <td>4:0</td>\n",
              "      <td>3592034</td>\n",
              "      <td>20.11.2021</td>\n",
              "      <td>11</td>\n",
              "    </tr>\n",
              "    <tr>\n",
              "      <th>25</th>\n",
              "      <td>Liverpool FC</td>\n",
              "      <td>31</td>\n",
              "      <td>Win</td>\n",
              "      <td>4:0</td>\n",
              "      <td>3592203</td>\n",
              "      <td>19.04.2022</td>\n",
              "      <td>985</td>\n",
              "    </tr>\n",
              "    <tr>\n",
              "      <th>26</th>\n",
              "      <td>Liverpool FC</td>\n",
              "      <td>31</td>\n",
              "      <td>Win</td>\n",
              "      <td>1:0</td>\n",
              "      <td>3592144</td>\n",
              "      <td>05.03.2022</td>\n",
              "      <td>379</td>\n",
              "    </tr>\n",
              "    <tr>\n",
              "      <th>27</th>\n",
              "      <td>Liverpool FC</td>\n",
              "      <td>31</td>\n",
              "      <td>Win</td>\n",
              "      <td>2:0</td>\n",
              "      <td>3592244</td>\n",
              "      <td>10.02.2022</td>\n",
              "      <td>1003</td>\n",
              "    </tr>\n",
              "    <tr>\n",
              "      <th>28</th>\n",
              "      <td>Liverpool FC</td>\n",
              "      <td>31</td>\n",
              "      <td>equal</td>\n",
              "      <td>2:2</td>\n",
              "      <td>3591974</td>\n",
              "      <td>30.10.2021</td>\n",
              "      <td>1237</td>\n",
              "    </tr>\n",
              "    <tr>\n",
              "      <th>29</th>\n",
              "      <td>Liverpool FC</td>\n",
              "      <td>31</td>\n",
              "      <td>Win</td>\n",
              "      <td>3:1</td>\n",
              "      <td>3592241</td>\n",
              "      <td>22.05.2022</td>\n",
              "      <td>543</td>\n",
              "    </tr>\n",
              "    <tr>\n",
              "      <th>30</th>\n",
              "      <td>Liverpool FC</td>\n",
              "      <td>31</td>\n",
              "      <td>Win</td>\n",
              "      <td>3:1</td>\n",
              "      <td>3592059</td>\n",
              "      <td>16.12.2021</td>\n",
              "      <td>762</td>\n",
              "    </tr>\n",
              "    <tr>\n",
              "      <th>31</th>\n",
              "      <td>Liverpool FC</td>\n",
              "      <td>31</td>\n",
              "      <td>Win</td>\n",
              "      <td>3:0</td>\n",
              "      <td>3591964</td>\n",
              "      <td>18.09.2021</td>\n",
              "      <td>873</td>\n",
              "    </tr>\n",
              "  </tbody>\n",
              "</table>\n",
              "</div>\n",
              "      <button class=\"colab-df-convert\" onclick=\"convertToInteractive('df-e2964833-4217-4107-bea8-6733a07d26a2')\"\n",
              "              title=\"Convert this dataframe to an interactive table.\"\n",
              "              style=\"display:none;\">\n",
              "        \n",
              "  <svg xmlns=\"http://www.w3.org/2000/svg\" height=\"24px\"viewBox=\"0 0 24 24\"\n",
              "       width=\"24px\">\n",
              "    <path d=\"M0 0h24v24H0V0z\" fill=\"none\"/>\n",
              "    <path d=\"M18.56 5.44l.94 2.06.94-2.06 2.06-.94-2.06-.94-.94-2.06-.94 2.06-2.06.94zm-11 1L8.5 8.5l.94-2.06 2.06-.94-2.06-.94L8.5 2.5l-.94 2.06-2.06.94zm10 10l.94 2.06.94-2.06 2.06-.94-2.06-.94-.94-2.06-.94 2.06-2.06.94z\"/><path d=\"M17.41 7.96l-1.37-1.37c-.4-.4-.92-.59-1.43-.59-.52 0-1.04.2-1.43.59L10.3 9.45l-7.72 7.72c-.78.78-.78 2.05 0 2.83L4 21.41c.39.39.9.59 1.41.59.51 0 1.02-.2 1.41-.59l7.78-7.78 2.81-2.81c.8-.78.8-2.07 0-2.86zM5.41 20L4 18.59l7.72-7.72 1.47 1.35L5.41 20z\"/>\n",
              "  </svg>\n",
              "      </button>\n",
              "      \n",
              "  <style>\n",
              "    .colab-df-container {\n",
              "      display:flex;\n",
              "      flex-wrap:wrap;\n",
              "      gap: 12px;\n",
              "    }\n",
              "\n",
              "    .colab-df-convert {\n",
              "      background-color: #E8F0FE;\n",
              "      border: none;\n",
              "      border-radius: 50%;\n",
              "      cursor: pointer;\n",
              "      display: none;\n",
              "      fill: #1967D2;\n",
              "      height: 32px;\n",
              "      padding: 0 0 0 0;\n",
              "      width: 32px;\n",
              "    }\n",
              "\n",
              "    .colab-df-convert:hover {\n",
              "      background-color: #E2EBFA;\n",
              "      box-shadow: 0px 1px 2px rgba(60, 64, 67, 0.3), 0px 1px 3px 1px rgba(60, 64, 67, 0.15);\n",
              "      fill: #174EA6;\n",
              "    }\n",
              "\n",
              "    [theme=dark] .colab-df-convert {\n",
              "      background-color: #3B4455;\n",
              "      fill: #D2E3FC;\n",
              "    }\n",
              "\n",
              "    [theme=dark] .colab-df-convert:hover {\n",
              "      background-color: #434B5C;\n",
              "      box-shadow: 0px 1px 3px 1px rgba(0, 0, 0, 0.15);\n",
              "      filter: drop-shadow(0px 1px 2px rgba(0, 0, 0, 0.3));\n",
              "      fill: #FFFFFF;\n",
              "    }\n",
              "  </style>\n",
              "\n",
              "      <script>\n",
              "        const buttonEl =\n",
              "          document.querySelector('#df-e2964833-4217-4107-bea8-6733a07d26a2 button.colab-df-convert');\n",
              "        buttonEl.style.display =\n",
              "          google.colab.kernel.accessAllowed ? 'block' : 'none';\n",
              "\n",
              "        async function convertToInteractive(key) {\n",
              "          const element = document.querySelector('#df-e2964833-4217-4107-bea8-6733a07d26a2');\n",
              "          const dataTable =\n",
              "            await google.colab.kernel.invokeFunction('convertToInteractive',\n",
              "                                                     [key], {});\n",
              "          if (!dataTable) return;\n",
              "\n",
              "          const docLinkHtml = 'Like what you see? Visit the ' +\n",
              "            '<a target=\"_blank\" href=https://colab.research.google.com/notebooks/data_table.ipynb>data table notebook</a>'\n",
              "            + ' to learn more about interactive tables.';\n",
              "          element.innerHTML = '';\n",
              "          dataTable['output_type'] = 'display_data';\n",
              "          await google.colab.output.renderOutput(dataTable, element);\n",
              "          const docLink = document.createElement('div');\n",
              "          docLink.innerHTML = docLinkHtml;\n",
              "          element.appendChild(docLink);\n",
              "        }\n",
              "      </script>\n",
              "    </div>\n",
              "  </div>\n",
              "  "
            ]
          },
          "metadata": {},
          "execution_count": 384
        }
      ]
    },
    {
      "cell_type": "code",
      "source": [
        "england_df.isnull().sum()"
      ],
      "metadata": {
        "colab": {
          "base_uri": "https://localhost:8080/"
        },
        "id": "G1P8A_L0_1gZ",
        "outputId": "fd12058e-9259-4751-b6d7-51a92c1080dc"
      },
      "execution_count": 385,
      "outputs": [
        {
          "output_type": "execute_result",
          "data": {
            "text/plain": [
              "host_name      0\n",
              "host_id        0\n",
              "host_status    0\n",
              "score          0\n",
              "match_id       0\n",
              "match_date     0\n",
              "guest_club     0\n",
              "dtype: int64"
            ]
          },
          "metadata": {},
          "execution_count": 385
        }
      ]
    },
    {
      "cell_type": "code",
      "source": [
        "england_df.drop(['host_name'],axis=1,inplace=True)"
      ],
      "metadata": {
        "id": "6V0L_z8dLxb-"
      },
      "execution_count": 387,
      "outputs": []
    },
    {
      "cell_type": "code",
      "source": [
        "england_df.to_csv('england_competions.csv', index=False)"
      ],
      "metadata": {
        "id": "efrawPeXItWT"
      },
      "execution_count": 388,
      "outputs": []
    },
    {
      "cell_type": "markdown",
      "source": [
        "#Italy"
      ],
      "metadata": {
        "id": "uibHC0W5JXzC"
      }
    },
    {
      "cell_type": "code",
      "source": [
        "url='https://www.transfermarkt.com/serie-a/kreuztabelle/wettbewerb/IT1/saison_id/2021'"
      ],
      "metadata": {
        "id": "fQH8ltaLJXFp"
      },
      "execution_count": 402,
      "outputs": []
    },
    {
      "cell_type": "code",
      "source": [
        "r = requests.get(url, headers =headers , proxies=proxy_credential)\n",
        "if r.status_code == 200:\n",
        "\n",
        "    soup=BeautifulSoup(r.content, 'html.parser')\n",
        "\n",
        "else:\n",
        "\n",
        "    print('Error:', r.status_code) "
      ],
      "metadata": {
        "id": "iMSnqr3pJtkT"
      },
      "execution_count": 403,
      "outputs": []
    },
    {
      "cell_type": "code",
      "source": [
        "host_names=[]\n",
        "host_ids=[]\n",
        "host_status=[]\n",
        "scores=[]\n",
        "matches_id=[]\n",
        "matches_date=[]\n",
        "guest_club=[]\n",
        "trs=soup.find('table',attrs={'class':'kreuztabelle'}).find_all('tr')\n",
        "row_1=trs[0].find_all('td')[1:-1]\n",
        "clubs_count=len(row_1)\n",
        "\n",
        "for td in row_1:\n",
        "  guest_id=td.find('a')['href'].split('/')[4]\n",
        "  guest_club.append(guest_id)\n",
        "\n",
        "for tr in trs[1:-1]:\n",
        "    #find host name and host id(club)\n",
        "    host_name=tr.find('td').find('a')['title'] \n",
        "    #host id\n",
        "    link=tr.find('td').find('a')['href']\n",
        "    host_id=href_to_id(link) \n",
        "\n",
        "    #find all table data\n",
        "    tds=tr.find_all('td')[1:-1]\n",
        "    #find status and score of each game\n",
        "\n",
        "    for td in tds:\n",
        "\n",
        "        #find match_id and match day and guest_name\n",
        "        try:\n",
        "\n",
        "            #match ID\n",
        "            match_id=td.find('a')['id']\n",
        "\n",
        "            #match day\n",
        "            matchday=td.find('a')['title'].split(',')[1][4:].lstrip()\n",
        "\n",
        "        except:\n",
        "            pass\n",
        "        #find scores of games\n",
        "        try:\n",
        "            try:\n",
        "                score=td.find('nobr').find('a').find('span',attrs={'class':'redtext'}).text\n",
        "                status='Lost'\n",
        "       \n",
        "            except:\n",
        "                score=td.find('nobr').find('a').find('span',attrs={'class':'greentext'}).text\n",
        "                status='Win'\n",
        "        except:\n",
        "            try:\n",
        "                score=td.find('nobr').find('a').find('span').text\n",
        "                status='equal'\n",
        "            except:\n",
        "                score='-' \n",
        "                status='-'\n",
        "        scores.append(score)\n",
        "        host_names.append(host_name)\n",
        "        host_ids.append(host_id)\n",
        "        host_status.append(status)\n",
        "        matches_id.append(match_id)\n",
        "        matches_date.append(matchday)"
      ],
      "metadata": {
        "id": "yc-ujF2oJyT7"
      },
      "execution_count": 404,
      "outputs": []
    },
    {
      "cell_type": "code",
      "source": [
        "guest_club=guest_club*clubs_count"
      ],
      "metadata": {
        "id": "8qSw-RcAKAXm"
      },
      "execution_count": 405,
      "outputs": []
    },
    {
      "cell_type": "code",
      "source": [
        "info={}\n",
        "info['host_name']=host_names\n",
        "info['host_id']=host_ids\n",
        "info['host_status']=host_status\n",
        "info['score']=scores\n",
        "info['match_id']=matches_id\n",
        "info['match_date']=matches_date\n",
        "info['guest_club']=guest_club"
      ],
      "metadata": {
        "id": "FwgfiK4tKG7I"
      },
      "execution_count": 406,
      "outputs": []
    },
    {
      "cell_type": "code",
      "source": [
        "italy_df=pd.DataFrame(data=info)"
      ],
      "metadata": {
        "id": "0HFlwwScKNQi"
      },
      "execution_count": 407,
      "outputs": []
    },
    {
      "cell_type": "code",
      "source": [
        "italy_df.shape"
      ],
      "metadata": {
        "colab": {
          "base_uri": "https://localhost:8080/"
        },
        "id": "fNV1X8KRKuie",
        "outputId": "2203d364-fc88-40f9-8fd4-dcbe99be4085"
      },
      "execution_count": 408,
      "outputs": [
        {
          "output_type": "execute_result",
          "data": {
            "text/plain": [
              "(400, 7)"
            ]
          },
          "metadata": {},
          "execution_count": 408
        }
      ]
    },
    {
      "cell_type": "code",
      "source": [
        "italy_df.head()"
      ],
      "metadata": {
        "colab": {
          "base_uri": "https://localhost:8080/",
          "height": 206
        },
        "id": "KKI775ycKTSI",
        "outputId": "abb7418e-1d56-471a-95f9-2d4ce80ff1bd"
      },
      "execution_count": 409,
      "outputs": [
        {
          "output_type": "execute_result",
          "data": {
            "text/plain": [
              "  host_name host_id host_status score match_id  match_date guest_club\n",
              "0  AC Milan       5           -     -  3589498  10.04.2022          5\n",
              "1  AC Milan       5       equal  1:1   3615120  07.11.2021         46\n",
              "2  AC Milan       5        Lost  0:1   3614713  19.12.2021       6195\n",
              "3  AC Milan       5       equal  0:0   3614754  23.01.2022        506\n",
              "4  AC Milan       5         Win  2:0   3614545  12.09.2021        398"
            ],
            "text/html": [
              "\n",
              "  <div id=\"df-6493a661-272f-43a3-a02a-b9c5482f3be8\">\n",
              "    <div class=\"colab-df-container\">\n",
              "      <div>\n",
              "<style scoped>\n",
              "    .dataframe tbody tr th:only-of-type {\n",
              "        vertical-align: middle;\n",
              "    }\n",
              "\n",
              "    .dataframe tbody tr th {\n",
              "        vertical-align: top;\n",
              "    }\n",
              "\n",
              "    .dataframe thead th {\n",
              "        text-align: right;\n",
              "    }\n",
              "</style>\n",
              "<table border=\"1\" class=\"dataframe\">\n",
              "  <thead>\n",
              "    <tr style=\"text-align: right;\">\n",
              "      <th></th>\n",
              "      <th>host_name</th>\n",
              "      <th>host_id</th>\n",
              "      <th>host_status</th>\n",
              "      <th>score</th>\n",
              "      <th>match_id</th>\n",
              "      <th>match_date</th>\n",
              "      <th>guest_club</th>\n",
              "    </tr>\n",
              "  </thead>\n",
              "  <tbody>\n",
              "    <tr>\n",
              "      <th>0</th>\n",
              "      <td>AC Milan</td>\n",
              "      <td>5</td>\n",
              "      <td>-</td>\n",
              "      <td>-</td>\n",
              "      <td>3589498</td>\n",
              "      <td>10.04.2022</td>\n",
              "      <td>5</td>\n",
              "    </tr>\n",
              "    <tr>\n",
              "      <th>1</th>\n",
              "      <td>AC Milan</td>\n",
              "      <td>5</td>\n",
              "      <td>equal</td>\n",
              "      <td>1:1</td>\n",
              "      <td>3615120</td>\n",
              "      <td>07.11.2021</td>\n",
              "      <td>46</td>\n",
              "    </tr>\n",
              "    <tr>\n",
              "      <th>2</th>\n",
              "      <td>AC Milan</td>\n",
              "      <td>5</td>\n",
              "      <td>Lost</td>\n",
              "      <td>0:1</td>\n",
              "      <td>3614713</td>\n",
              "      <td>19.12.2021</td>\n",
              "      <td>6195</td>\n",
              "    </tr>\n",
              "    <tr>\n",
              "      <th>3</th>\n",
              "      <td>AC Milan</td>\n",
              "      <td>5</td>\n",
              "      <td>equal</td>\n",
              "      <td>0:0</td>\n",
              "      <td>3614754</td>\n",
              "      <td>23.01.2022</td>\n",
              "      <td>506</td>\n",
              "    </tr>\n",
              "    <tr>\n",
              "      <th>4</th>\n",
              "      <td>AC Milan</td>\n",
              "      <td>5</td>\n",
              "      <td>Win</td>\n",
              "      <td>2:0</td>\n",
              "      <td>3614545</td>\n",
              "      <td>12.09.2021</td>\n",
              "      <td>398</td>\n",
              "    </tr>\n",
              "  </tbody>\n",
              "</table>\n",
              "</div>\n",
              "      <button class=\"colab-df-convert\" onclick=\"convertToInteractive('df-6493a661-272f-43a3-a02a-b9c5482f3be8')\"\n",
              "              title=\"Convert this dataframe to an interactive table.\"\n",
              "              style=\"display:none;\">\n",
              "        \n",
              "  <svg xmlns=\"http://www.w3.org/2000/svg\" height=\"24px\"viewBox=\"0 0 24 24\"\n",
              "       width=\"24px\">\n",
              "    <path d=\"M0 0h24v24H0V0z\" fill=\"none\"/>\n",
              "    <path d=\"M18.56 5.44l.94 2.06.94-2.06 2.06-.94-2.06-.94-.94-2.06-.94 2.06-2.06.94zm-11 1L8.5 8.5l.94-2.06 2.06-.94-2.06-.94L8.5 2.5l-.94 2.06-2.06.94zm10 10l.94 2.06.94-2.06 2.06-.94-2.06-.94-.94-2.06-.94 2.06-2.06.94z\"/><path d=\"M17.41 7.96l-1.37-1.37c-.4-.4-.92-.59-1.43-.59-.52 0-1.04.2-1.43.59L10.3 9.45l-7.72 7.72c-.78.78-.78 2.05 0 2.83L4 21.41c.39.39.9.59 1.41.59.51 0 1.02-.2 1.41-.59l7.78-7.78 2.81-2.81c.8-.78.8-2.07 0-2.86zM5.41 20L4 18.59l7.72-7.72 1.47 1.35L5.41 20z\"/>\n",
              "  </svg>\n",
              "      </button>\n",
              "      \n",
              "  <style>\n",
              "    .colab-df-container {\n",
              "      display:flex;\n",
              "      flex-wrap:wrap;\n",
              "      gap: 12px;\n",
              "    }\n",
              "\n",
              "    .colab-df-convert {\n",
              "      background-color: #E8F0FE;\n",
              "      border: none;\n",
              "      border-radius: 50%;\n",
              "      cursor: pointer;\n",
              "      display: none;\n",
              "      fill: #1967D2;\n",
              "      height: 32px;\n",
              "      padding: 0 0 0 0;\n",
              "      width: 32px;\n",
              "    }\n",
              "\n",
              "    .colab-df-convert:hover {\n",
              "      background-color: #E2EBFA;\n",
              "      box-shadow: 0px 1px 2px rgba(60, 64, 67, 0.3), 0px 1px 3px 1px rgba(60, 64, 67, 0.15);\n",
              "      fill: #174EA6;\n",
              "    }\n",
              "\n",
              "    [theme=dark] .colab-df-convert {\n",
              "      background-color: #3B4455;\n",
              "      fill: #D2E3FC;\n",
              "    }\n",
              "\n",
              "    [theme=dark] .colab-df-convert:hover {\n",
              "      background-color: #434B5C;\n",
              "      box-shadow: 0px 1px 3px 1px rgba(0, 0, 0, 0.15);\n",
              "      filter: drop-shadow(0px 1px 2px rgba(0, 0, 0, 0.3));\n",
              "      fill: #FFFFFF;\n",
              "    }\n",
              "  </style>\n",
              "\n",
              "      <script>\n",
              "        const buttonEl =\n",
              "          document.querySelector('#df-6493a661-272f-43a3-a02a-b9c5482f3be8 button.colab-df-convert');\n",
              "        buttonEl.style.display =\n",
              "          google.colab.kernel.accessAllowed ? 'block' : 'none';\n",
              "\n",
              "        async function convertToInteractive(key) {\n",
              "          const element = document.querySelector('#df-6493a661-272f-43a3-a02a-b9c5482f3be8');\n",
              "          const dataTable =\n",
              "            await google.colab.kernel.invokeFunction('convertToInteractive',\n",
              "                                                     [key], {});\n",
              "          if (!dataTable) return;\n",
              "\n",
              "          const docLinkHtml = 'Like what you see? Visit the ' +\n",
              "            '<a target=\"_blank\" href=https://colab.research.google.com/notebooks/data_table.ipynb>data table notebook</a>'\n",
              "            + ' to learn more about interactive tables.';\n",
              "          element.innerHTML = '';\n",
              "          dataTable['output_type'] = 'display_data';\n",
              "          await google.colab.output.renderOutput(dataTable, element);\n",
              "          const docLink = document.createElement('div');\n",
              "          docLink.innerHTML = docLinkHtml;\n",
              "          element.appendChild(docLink);\n",
              "        }\n",
              "      </script>\n",
              "    </div>\n",
              "  </div>\n",
              "  "
            ]
          },
          "metadata": {},
          "execution_count": 409
        }
      ]
    },
    {
      "cell_type": "code",
      "source": [
        "index=italy_df[italy_df['score']=='-'].index.tolist()"
      ],
      "metadata": {
        "id": "1x_QvDrvKHy7"
      },
      "execution_count": 410,
      "outputs": []
    },
    {
      "cell_type": "code",
      "source": [
        "italy_df.drop(index,axis=0,inplace=True)"
      ],
      "metadata": {
        "id": "xGZIIO8hKH-B"
      },
      "execution_count": 411,
      "outputs": []
    },
    {
      "cell_type": "code",
      "source": [
        "italy_df.shape"
      ],
      "metadata": {
        "colab": {
          "base_uri": "https://localhost:8080/"
        },
        "id": "szmUSaoCKhck",
        "outputId": "c61ffac6-3bcc-4444-e73a-6c529e25cb54"
      },
      "execution_count": 412,
      "outputs": [
        {
          "output_type": "execute_result",
          "data": {
            "text/plain": [
              "(380, 7)"
            ]
          },
          "metadata": {},
          "execution_count": 412
        }
      ]
    },
    {
      "cell_type": "code",
      "source": [
        "italy.isnull().sum()"
      ],
      "metadata": {
        "colab": {
          "base_uri": "https://localhost:8080/"
        },
        "id": "Xzh-KA7gP8MC",
        "outputId": "741e7095-f0d8-4e57-9491-4adf160636a1"
      },
      "execution_count": 420,
      "outputs": [
        {
          "output_type": "execute_result",
          "data": {
            "text/plain": [
              "host_name      0\n",
              "host_id        0\n",
              "host_status    0\n",
              "score          0\n",
              "match_id       0\n",
              "match_date     0\n",
              "guest_club     0\n",
              "dtype: int64"
            ]
          },
          "metadata": {},
          "execution_count": 420
        }
      ]
    },
    {
      "cell_type": "code",
      "source": [
        "italy_df.to_csv('Italy_competions.csv', index=False)"
      ],
      "metadata": {
        "id": "5X7t_w0DLFnt"
      },
      "execution_count": 413,
      "outputs": []
    },
    {
      "cell_type": "markdown",
      "source": [
        "#final DataFrame"
      ],
      "metadata": {
        "id": "iGd2odXEORUv"
      }
    },
    {
      "cell_type": "code",
      "source": [
        "france=pd.read_csv('France_competions.csv')\n",
        "germany=pd.read_csv('Germany_competions.csv')\n",
        "italy=pd.read_csv('Italy_competions.csv')\n",
        "england=pd.read_csv('england_competions.csv')\n",
        "spain=pd.read_csv('spain_competions.csv')"
      ],
      "metadata": {
        "id": "tb4nyWQJOQQX"
      },
      "execution_count": 428,
      "outputs": []
    },
    {
      "cell_type": "code",
      "source": [
        "france.isnull().sum()"
      ],
      "metadata": {
        "colab": {
          "base_uri": "https://localhost:8080/"
        },
        "id": "Y44RtnEQQCDO",
        "outputId": "0ca2bbef-8828-484a-95b4-17cdc2d40470"
      },
      "execution_count": 429,
      "outputs": [
        {
          "output_type": "execute_result",
          "data": {
            "text/plain": [
              "host_name      0\n",
              "host_id        0\n",
              "host_status    0\n",
              "score          0\n",
              "match_id       0\n",
              "match_date     0\n",
              "guest_club     0\n",
              "dtype: int64"
            ]
          },
          "metadata": {},
          "execution_count": 429
        }
      ]
    },
    {
      "cell_type": "code",
      "source": [
        "france.drop(['host_name'],axis=1,inplace=True)"
      ],
      "metadata": {
        "id": "uVVcBrbUQHTU"
      },
      "execution_count": 430,
      "outputs": []
    },
    {
      "cell_type": "code",
      "source": [
        "france.rename(columns={'guest_club':'guest_id'},inplace=True)"
      ],
      "metadata": {
        "id": "_UYEI7qUT3G3"
      },
      "execution_count": 449,
      "outputs": []
    },
    {
      "cell_type": "code",
      "source": [
        "france.head()"
      ],
      "metadata": {
        "colab": {
          "base_uri": "https://localhost:8080/",
          "height": 206
        },
        "id": "06cjOBC_UAo-",
        "outputId": "537def0a-ce00-4d7a-8a4d-49187e36e976"
      },
      "execution_count": 450,
      "outputs": [
        {
          "output_type": "execute_result",
          "data": {
            "text/plain": [
              "   host_id host_status score  match_id  match_date  guest_id\n",
              "0      583         Win  2:1    3589530  17.04.2022       244\n",
              "1      583         Win  2:0    3589292  12.12.2021       162\n",
              "2      583         Win  1:0    3589388  11.02.2022       273\n",
              "3      583       equal  0:0    3589262  01.12.2021       417\n",
              "4      583         Win  4:2    3588789  14.08.2021       667"
            ],
            "text/html": [
              "\n",
              "  <div id=\"df-528251aa-0c7c-4eff-87e8-e766ca105a26\">\n",
              "    <div class=\"colab-df-container\">\n",
              "      <div>\n",
              "<style scoped>\n",
              "    .dataframe tbody tr th:only-of-type {\n",
              "        vertical-align: middle;\n",
              "    }\n",
              "\n",
              "    .dataframe tbody tr th {\n",
              "        vertical-align: top;\n",
              "    }\n",
              "\n",
              "    .dataframe thead th {\n",
              "        text-align: right;\n",
              "    }\n",
              "</style>\n",
              "<table border=\"1\" class=\"dataframe\">\n",
              "  <thead>\n",
              "    <tr style=\"text-align: right;\">\n",
              "      <th></th>\n",
              "      <th>host_id</th>\n",
              "      <th>host_status</th>\n",
              "      <th>score</th>\n",
              "      <th>match_id</th>\n",
              "      <th>match_date</th>\n",
              "      <th>guest_id</th>\n",
              "    </tr>\n",
              "  </thead>\n",
              "  <tbody>\n",
              "    <tr>\n",
              "      <th>0</th>\n",
              "      <td>583</td>\n",
              "      <td>Win</td>\n",
              "      <td>2:1</td>\n",
              "      <td>3589530</td>\n",
              "      <td>17.04.2022</td>\n",
              "      <td>244</td>\n",
              "    </tr>\n",
              "    <tr>\n",
              "      <th>1</th>\n",
              "      <td>583</td>\n",
              "      <td>Win</td>\n",
              "      <td>2:0</td>\n",
              "      <td>3589292</td>\n",
              "      <td>12.12.2021</td>\n",
              "      <td>162</td>\n",
              "    </tr>\n",
              "    <tr>\n",
              "      <th>2</th>\n",
              "      <td>583</td>\n",
              "      <td>Win</td>\n",
              "      <td>1:0</td>\n",
              "      <td>3589388</td>\n",
              "      <td>11.02.2022</td>\n",
              "      <td>273</td>\n",
              "    </tr>\n",
              "    <tr>\n",
              "      <th>3</th>\n",
              "      <td>583</td>\n",
              "      <td>equal</td>\n",
              "      <td>0:0</td>\n",
              "      <td>3589262</td>\n",
              "      <td>01.12.2021</td>\n",
              "      <td>417</td>\n",
              "    </tr>\n",
              "    <tr>\n",
              "      <th>4</th>\n",
              "      <td>583</td>\n",
              "      <td>Win</td>\n",
              "      <td>4:2</td>\n",
              "      <td>3588789</td>\n",
              "      <td>14.08.2021</td>\n",
              "      <td>667</td>\n",
              "    </tr>\n",
              "  </tbody>\n",
              "</table>\n",
              "</div>\n",
              "      <button class=\"colab-df-convert\" onclick=\"convertToInteractive('df-528251aa-0c7c-4eff-87e8-e766ca105a26')\"\n",
              "              title=\"Convert this dataframe to an interactive table.\"\n",
              "              style=\"display:none;\">\n",
              "        \n",
              "  <svg xmlns=\"http://www.w3.org/2000/svg\" height=\"24px\"viewBox=\"0 0 24 24\"\n",
              "       width=\"24px\">\n",
              "    <path d=\"M0 0h24v24H0V0z\" fill=\"none\"/>\n",
              "    <path d=\"M18.56 5.44l.94 2.06.94-2.06 2.06-.94-2.06-.94-.94-2.06-.94 2.06-2.06.94zm-11 1L8.5 8.5l.94-2.06 2.06-.94-2.06-.94L8.5 2.5l-.94 2.06-2.06.94zm10 10l.94 2.06.94-2.06 2.06-.94-2.06-.94-.94-2.06-.94 2.06-2.06.94z\"/><path d=\"M17.41 7.96l-1.37-1.37c-.4-.4-.92-.59-1.43-.59-.52 0-1.04.2-1.43.59L10.3 9.45l-7.72 7.72c-.78.78-.78 2.05 0 2.83L4 21.41c.39.39.9.59 1.41.59.51 0 1.02-.2 1.41-.59l7.78-7.78 2.81-2.81c.8-.78.8-2.07 0-2.86zM5.41 20L4 18.59l7.72-7.72 1.47 1.35L5.41 20z\"/>\n",
              "  </svg>\n",
              "      </button>\n",
              "      \n",
              "  <style>\n",
              "    .colab-df-container {\n",
              "      display:flex;\n",
              "      flex-wrap:wrap;\n",
              "      gap: 12px;\n",
              "    }\n",
              "\n",
              "    .colab-df-convert {\n",
              "      background-color: #E8F0FE;\n",
              "      border: none;\n",
              "      border-radius: 50%;\n",
              "      cursor: pointer;\n",
              "      display: none;\n",
              "      fill: #1967D2;\n",
              "      height: 32px;\n",
              "      padding: 0 0 0 0;\n",
              "      width: 32px;\n",
              "    }\n",
              "\n",
              "    .colab-df-convert:hover {\n",
              "      background-color: #E2EBFA;\n",
              "      box-shadow: 0px 1px 2px rgba(60, 64, 67, 0.3), 0px 1px 3px 1px rgba(60, 64, 67, 0.15);\n",
              "      fill: #174EA6;\n",
              "    }\n",
              "\n",
              "    [theme=dark] .colab-df-convert {\n",
              "      background-color: #3B4455;\n",
              "      fill: #D2E3FC;\n",
              "    }\n",
              "\n",
              "    [theme=dark] .colab-df-convert:hover {\n",
              "      background-color: #434B5C;\n",
              "      box-shadow: 0px 1px 3px 1px rgba(0, 0, 0, 0.15);\n",
              "      filter: drop-shadow(0px 1px 2px rgba(0, 0, 0, 0.3));\n",
              "      fill: #FFFFFF;\n",
              "    }\n",
              "  </style>\n",
              "\n",
              "      <script>\n",
              "        const buttonEl =\n",
              "          document.querySelector('#df-528251aa-0c7c-4eff-87e8-e766ca105a26 button.colab-df-convert');\n",
              "        buttonEl.style.display =\n",
              "          google.colab.kernel.accessAllowed ? 'block' : 'none';\n",
              "\n",
              "        async function convertToInteractive(key) {\n",
              "          const element = document.querySelector('#df-528251aa-0c7c-4eff-87e8-e766ca105a26');\n",
              "          const dataTable =\n",
              "            await google.colab.kernel.invokeFunction('convertToInteractive',\n",
              "                                                     [key], {});\n",
              "          if (!dataTable) return;\n",
              "\n",
              "          const docLinkHtml = 'Like what you see? Visit the ' +\n",
              "            '<a target=\"_blank\" href=https://colab.research.google.com/notebooks/data_table.ipynb>data table notebook</a>'\n",
              "            + ' to learn more about interactive tables.';\n",
              "          element.innerHTML = '';\n",
              "          dataTable['output_type'] = 'display_data';\n",
              "          await google.colab.output.renderOutput(dataTable, element);\n",
              "          const docLink = document.createElement('div');\n",
              "          docLink.innerHTML = docLinkHtml;\n",
              "          element.appendChild(docLink);\n",
              "        }\n",
              "      </script>\n",
              "    </div>\n",
              "  </div>\n",
              "  "
            ]
          },
          "metadata": {},
          "execution_count": 450
        }
      ]
    },
    {
      "cell_type": "code",
      "source": [
        "germany.isnull().sum()"
      ],
      "metadata": {
        "colab": {
          "base_uri": "https://localhost:8080/"
        },
        "id": "KGoMrHlMQN7_",
        "outputId": "6554d4d1-7fa4-4800-c86a-2a28727d4633"
      },
      "execution_count": 451,
      "outputs": [
        {
          "output_type": "execute_result",
          "data": {
            "text/plain": [
              "host_id        0\n",
              "host_status    0\n",
              "score          0\n",
              "match_id       0\n",
              "match_date     0\n",
              "guest_id       0\n",
              "dtype: int64"
            ]
          },
          "metadata": {},
          "execution_count": 451
        }
      ]
    },
    {
      "cell_type": "code",
      "source": [
        "germany "
      ],
      "metadata": {
        "colab": {
          "base_uri": "https://localhost:8080/",
          "height": 423
        },
        "id": "fMUT9CGRQa7f",
        "outputId": "69401e94-9777-457a-c24f-8b2a45c17d93"
      },
      "execution_count": 432,
      "outputs": [
        {
          "output_type": "execute_result",
          "data": {
            "text/plain": [
              "     host_id host_status score  match_id  match_date  guest_id\n",
              "0         27       equal  1:1    3588156  21.08.2021        10\n",
              "1         27         Win  3:1    3588607  23.04.2022        16\n",
              "2         27       equal  1:1    3588508  05.03.2022        15\n",
              "3         27         Win  3:2    3588454  05.02.2022     23826\n",
              "4         27         Win  4:0    3588544  19.03.2022        89\n",
              "..       ...         ...   ...       ...         ...       ...\n",
              "319       65       equal  0:0    3588390  18.12.2021       167\n",
              "320       65       equal  0:0    3588408  08.01.2022        79\n",
              "321       65         Win  2:1    3588471  12.02.2022        44\n",
              "322       65       equal  1:1    3588156  21.08.2021        10\n",
              "323       65       equal  1:1    3588156  21.08.2021        10\n",
              "\n",
              "[324 rows x 6 columns]"
            ],
            "text/html": [
              "\n",
              "  <div id=\"df-d32ce649-7ba4-43d5-a8cb-bf2f75d4071d\">\n",
              "    <div class=\"colab-df-container\">\n",
              "      <div>\n",
              "<style scoped>\n",
              "    .dataframe tbody tr th:only-of-type {\n",
              "        vertical-align: middle;\n",
              "    }\n",
              "\n",
              "    .dataframe tbody tr th {\n",
              "        vertical-align: top;\n",
              "    }\n",
              "\n",
              "    .dataframe thead th {\n",
              "        text-align: right;\n",
              "    }\n",
              "</style>\n",
              "<table border=\"1\" class=\"dataframe\">\n",
              "  <thead>\n",
              "    <tr style=\"text-align: right;\">\n",
              "      <th></th>\n",
              "      <th>host_id</th>\n",
              "      <th>host_status</th>\n",
              "      <th>score</th>\n",
              "      <th>match_id</th>\n",
              "      <th>match_date</th>\n",
              "      <th>guest_id</th>\n",
              "    </tr>\n",
              "  </thead>\n",
              "  <tbody>\n",
              "    <tr>\n",
              "      <th>0</th>\n",
              "      <td>27</td>\n",
              "      <td>equal</td>\n",
              "      <td>1:1</td>\n",
              "      <td>3588156</td>\n",
              "      <td>21.08.2021</td>\n",
              "      <td>10</td>\n",
              "    </tr>\n",
              "    <tr>\n",
              "      <th>1</th>\n",
              "      <td>27</td>\n",
              "      <td>Win</td>\n",
              "      <td>3:1</td>\n",
              "      <td>3588607</td>\n",
              "      <td>23.04.2022</td>\n",
              "      <td>16</td>\n",
              "    </tr>\n",
              "    <tr>\n",
              "      <th>2</th>\n",
              "      <td>27</td>\n",
              "      <td>equal</td>\n",
              "      <td>1:1</td>\n",
              "      <td>3588508</td>\n",
              "      <td>05.03.2022</td>\n",
              "      <td>15</td>\n",
              "    </tr>\n",
              "    <tr>\n",
              "      <th>3</th>\n",
              "      <td>27</td>\n",
              "      <td>Win</td>\n",
              "      <td>3:2</td>\n",
              "      <td>3588454</td>\n",
              "      <td>05.02.2022</td>\n",
              "      <td>23826</td>\n",
              "    </tr>\n",
              "    <tr>\n",
              "      <th>4</th>\n",
              "      <td>27</td>\n",
              "      <td>Win</td>\n",
              "      <td>4:0</td>\n",
              "      <td>3588544</td>\n",
              "      <td>19.03.2022</td>\n",
              "      <td>89</td>\n",
              "    </tr>\n",
              "    <tr>\n",
              "      <th>...</th>\n",
              "      <td>...</td>\n",
              "      <td>...</td>\n",
              "      <td>...</td>\n",
              "      <td>...</td>\n",
              "      <td>...</td>\n",
              "      <td>...</td>\n",
              "    </tr>\n",
              "    <tr>\n",
              "      <th>319</th>\n",
              "      <td>65</td>\n",
              "      <td>equal</td>\n",
              "      <td>0:0</td>\n",
              "      <td>3588390</td>\n",
              "      <td>18.12.2021</td>\n",
              "      <td>167</td>\n",
              "    </tr>\n",
              "    <tr>\n",
              "      <th>320</th>\n",
              "      <td>65</td>\n",
              "      <td>equal</td>\n",
              "      <td>0:0</td>\n",
              "      <td>3588408</td>\n",
              "      <td>08.01.2022</td>\n",
              "      <td>79</td>\n",
              "    </tr>\n",
              "    <tr>\n",
              "      <th>321</th>\n",
              "      <td>65</td>\n",
              "      <td>Win</td>\n",
              "      <td>2:1</td>\n",
              "      <td>3588471</td>\n",
              "      <td>12.02.2022</td>\n",
              "      <td>44</td>\n",
              "    </tr>\n",
              "    <tr>\n",
              "      <th>322</th>\n",
              "      <td>65</td>\n",
              "      <td>equal</td>\n",
              "      <td>1:1</td>\n",
              "      <td>3588156</td>\n",
              "      <td>21.08.2021</td>\n",
              "      <td>10</td>\n",
              "    </tr>\n",
              "    <tr>\n",
              "      <th>323</th>\n",
              "      <td>65</td>\n",
              "      <td>equal</td>\n",
              "      <td>1:1</td>\n",
              "      <td>3588156</td>\n",
              "      <td>21.08.2021</td>\n",
              "      <td>10</td>\n",
              "    </tr>\n",
              "  </tbody>\n",
              "</table>\n",
              "<p>324 rows × 6 columns</p>\n",
              "</div>\n",
              "      <button class=\"colab-df-convert\" onclick=\"convertToInteractive('df-d32ce649-7ba4-43d5-a8cb-bf2f75d4071d')\"\n",
              "              title=\"Convert this dataframe to an interactive table.\"\n",
              "              style=\"display:none;\">\n",
              "        \n",
              "  <svg xmlns=\"http://www.w3.org/2000/svg\" height=\"24px\"viewBox=\"0 0 24 24\"\n",
              "       width=\"24px\">\n",
              "    <path d=\"M0 0h24v24H0V0z\" fill=\"none\"/>\n",
              "    <path d=\"M18.56 5.44l.94 2.06.94-2.06 2.06-.94-2.06-.94-.94-2.06-.94 2.06-2.06.94zm-11 1L8.5 8.5l.94-2.06 2.06-.94-2.06-.94L8.5 2.5l-.94 2.06-2.06.94zm10 10l.94 2.06.94-2.06 2.06-.94-2.06-.94-.94-2.06-.94 2.06-2.06.94z\"/><path d=\"M17.41 7.96l-1.37-1.37c-.4-.4-.92-.59-1.43-.59-.52 0-1.04.2-1.43.59L10.3 9.45l-7.72 7.72c-.78.78-.78 2.05 0 2.83L4 21.41c.39.39.9.59 1.41.59.51 0 1.02-.2 1.41-.59l7.78-7.78 2.81-2.81c.8-.78.8-2.07 0-2.86zM5.41 20L4 18.59l7.72-7.72 1.47 1.35L5.41 20z\"/>\n",
              "  </svg>\n",
              "      </button>\n",
              "      \n",
              "  <style>\n",
              "    .colab-df-container {\n",
              "      display:flex;\n",
              "      flex-wrap:wrap;\n",
              "      gap: 12px;\n",
              "    }\n",
              "\n",
              "    .colab-df-convert {\n",
              "      background-color: #E8F0FE;\n",
              "      border: none;\n",
              "      border-radius: 50%;\n",
              "      cursor: pointer;\n",
              "      display: none;\n",
              "      fill: #1967D2;\n",
              "      height: 32px;\n",
              "      padding: 0 0 0 0;\n",
              "      width: 32px;\n",
              "    }\n",
              "\n",
              "    .colab-df-convert:hover {\n",
              "      background-color: #E2EBFA;\n",
              "      box-shadow: 0px 1px 2px rgba(60, 64, 67, 0.3), 0px 1px 3px 1px rgba(60, 64, 67, 0.15);\n",
              "      fill: #174EA6;\n",
              "    }\n",
              "\n",
              "    [theme=dark] .colab-df-convert {\n",
              "      background-color: #3B4455;\n",
              "      fill: #D2E3FC;\n",
              "    }\n",
              "\n",
              "    [theme=dark] .colab-df-convert:hover {\n",
              "      background-color: #434B5C;\n",
              "      box-shadow: 0px 1px 3px 1px rgba(0, 0, 0, 0.15);\n",
              "      filter: drop-shadow(0px 1px 2px rgba(0, 0, 0, 0.3));\n",
              "      fill: #FFFFFF;\n",
              "    }\n",
              "  </style>\n",
              "\n",
              "      <script>\n",
              "        const buttonEl =\n",
              "          document.querySelector('#df-d32ce649-7ba4-43d5-a8cb-bf2f75d4071d button.colab-df-convert');\n",
              "        buttonEl.style.display =\n",
              "          google.colab.kernel.accessAllowed ? 'block' : 'none';\n",
              "\n",
              "        async function convertToInteractive(key) {\n",
              "          const element = document.querySelector('#df-d32ce649-7ba4-43d5-a8cb-bf2f75d4071d');\n",
              "          const dataTable =\n",
              "            await google.colab.kernel.invokeFunction('convertToInteractive',\n",
              "                                                     [key], {});\n",
              "          if (!dataTable) return;\n",
              "\n",
              "          const docLinkHtml = 'Like what you see? Visit the ' +\n",
              "            '<a target=\"_blank\" href=https://colab.research.google.com/notebooks/data_table.ipynb>data table notebook</a>'\n",
              "            + ' to learn more about interactive tables.';\n",
              "          element.innerHTML = '';\n",
              "          dataTable['output_type'] = 'display_data';\n",
              "          await google.colab.output.renderOutput(dataTable, element);\n",
              "          const docLink = document.createElement('div');\n",
              "          docLink.innerHTML = docLinkHtml;\n",
              "          element.appendChild(docLink);\n",
              "        }\n",
              "      </script>\n",
              "    </div>\n",
              "  </div>\n",
              "  "
            ]
          },
          "metadata": {},
          "execution_count": 432
        }
      ]
    },
    {
      "cell_type": "code",
      "source": [
        "italy.isnull().sum()"
      ],
      "metadata": {
        "colab": {
          "base_uri": "https://localhost:8080/"
        },
        "id": "g_lfkMyQQmF0",
        "outputId": "051a8d31-2fdb-4c5f-d324-25cd83998c61"
      },
      "execution_count": 452,
      "outputs": [
        {
          "output_type": "execute_result",
          "data": {
            "text/plain": [
              "host_id        0\n",
              "host_status    0\n",
              "score          0\n",
              "match_id       0\n",
              "match_date     0\n",
              "guest_club     0\n",
              "dtype: int64"
            ]
          },
          "metadata": {},
          "execution_count": 452
        }
      ]
    },
    {
      "cell_type": "code",
      "source": [
        "italy.rename(columns={'guest_club':'guest_id'},inplace=True)"
      ],
      "metadata": {
        "id": "ZD1XafSuUKSm"
      },
      "execution_count": 453,
      "outputs": []
    },
    {
      "cell_type": "code",
      "source": [
        "italy.drop(['host_name'],axis=1,inplace=True)"
      ],
      "metadata": {
        "id": "10r2g-RSQp7a"
      },
      "execution_count": 434,
      "outputs": []
    },
    {
      "cell_type": "code",
      "source": [
        "italy.head()"
      ],
      "metadata": {
        "colab": {
          "base_uri": "https://localhost:8080/",
          "height": 206
        },
        "id": "AxG4BiqIQvjB",
        "outputId": "7b92773b-b9fd-4348-95b7-87aa1674747b"
      },
      "execution_count": 454,
      "outputs": [
        {
          "output_type": "execute_result",
          "data": {
            "text/plain": [
              "   host_id host_status score  match_id  match_date  guest_id\n",
              "0        5       equal  1:1    3615120  07.11.2021        46\n",
              "1        5        Lost  0:1    3614713  19.12.2021      6195\n",
              "2        5       equal  0:0    3614754  23.01.2022       506\n",
              "3        5         Win  2:0    3614545  12.09.2021       398\n",
              "4        5         Win  3:1    3614523  06.01.2022        12"
            ],
            "text/html": [
              "\n",
              "  <div id=\"df-1d55b7b8-eb9c-45ec-aec2-cddef064409d\">\n",
              "    <div class=\"colab-df-container\">\n",
              "      <div>\n",
              "<style scoped>\n",
              "    .dataframe tbody tr th:only-of-type {\n",
              "        vertical-align: middle;\n",
              "    }\n",
              "\n",
              "    .dataframe tbody tr th {\n",
              "        vertical-align: top;\n",
              "    }\n",
              "\n",
              "    .dataframe thead th {\n",
              "        text-align: right;\n",
              "    }\n",
              "</style>\n",
              "<table border=\"1\" class=\"dataframe\">\n",
              "  <thead>\n",
              "    <tr style=\"text-align: right;\">\n",
              "      <th></th>\n",
              "      <th>host_id</th>\n",
              "      <th>host_status</th>\n",
              "      <th>score</th>\n",
              "      <th>match_id</th>\n",
              "      <th>match_date</th>\n",
              "      <th>guest_id</th>\n",
              "    </tr>\n",
              "  </thead>\n",
              "  <tbody>\n",
              "    <tr>\n",
              "      <th>0</th>\n",
              "      <td>5</td>\n",
              "      <td>equal</td>\n",
              "      <td>1:1</td>\n",
              "      <td>3615120</td>\n",
              "      <td>07.11.2021</td>\n",
              "      <td>46</td>\n",
              "    </tr>\n",
              "    <tr>\n",
              "      <th>1</th>\n",
              "      <td>5</td>\n",
              "      <td>Lost</td>\n",
              "      <td>0:1</td>\n",
              "      <td>3614713</td>\n",
              "      <td>19.12.2021</td>\n",
              "      <td>6195</td>\n",
              "    </tr>\n",
              "    <tr>\n",
              "      <th>2</th>\n",
              "      <td>5</td>\n",
              "      <td>equal</td>\n",
              "      <td>0:0</td>\n",
              "      <td>3614754</td>\n",
              "      <td>23.01.2022</td>\n",
              "      <td>506</td>\n",
              "    </tr>\n",
              "    <tr>\n",
              "      <th>3</th>\n",
              "      <td>5</td>\n",
              "      <td>Win</td>\n",
              "      <td>2:0</td>\n",
              "      <td>3614545</td>\n",
              "      <td>12.09.2021</td>\n",
              "      <td>398</td>\n",
              "    </tr>\n",
              "    <tr>\n",
              "      <th>4</th>\n",
              "      <td>5</td>\n",
              "      <td>Win</td>\n",
              "      <td>3:1</td>\n",
              "      <td>3614523</td>\n",
              "      <td>06.01.2022</td>\n",
              "      <td>12</td>\n",
              "    </tr>\n",
              "  </tbody>\n",
              "</table>\n",
              "</div>\n",
              "      <button class=\"colab-df-convert\" onclick=\"convertToInteractive('df-1d55b7b8-eb9c-45ec-aec2-cddef064409d')\"\n",
              "              title=\"Convert this dataframe to an interactive table.\"\n",
              "              style=\"display:none;\">\n",
              "        \n",
              "  <svg xmlns=\"http://www.w3.org/2000/svg\" height=\"24px\"viewBox=\"0 0 24 24\"\n",
              "       width=\"24px\">\n",
              "    <path d=\"M0 0h24v24H0V0z\" fill=\"none\"/>\n",
              "    <path d=\"M18.56 5.44l.94 2.06.94-2.06 2.06-.94-2.06-.94-.94-2.06-.94 2.06-2.06.94zm-11 1L8.5 8.5l.94-2.06 2.06-.94-2.06-.94L8.5 2.5l-.94 2.06-2.06.94zm10 10l.94 2.06.94-2.06 2.06-.94-2.06-.94-.94-2.06-.94 2.06-2.06.94z\"/><path d=\"M17.41 7.96l-1.37-1.37c-.4-.4-.92-.59-1.43-.59-.52 0-1.04.2-1.43.59L10.3 9.45l-7.72 7.72c-.78.78-.78 2.05 0 2.83L4 21.41c.39.39.9.59 1.41.59.51 0 1.02-.2 1.41-.59l7.78-7.78 2.81-2.81c.8-.78.8-2.07 0-2.86zM5.41 20L4 18.59l7.72-7.72 1.47 1.35L5.41 20z\"/>\n",
              "  </svg>\n",
              "      </button>\n",
              "      \n",
              "  <style>\n",
              "    .colab-df-container {\n",
              "      display:flex;\n",
              "      flex-wrap:wrap;\n",
              "      gap: 12px;\n",
              "    }\n",
              "\n",
              "    .colab-df-convert {\n",
              "      background-color: #E8F0FE;\n",
              "      border: none;\n",
              "      border-radius: 50%;\n",
              "      cursor: pointer;\n",
              "      display: none;\n",
              "      fill: #1967D2;\n",
              "      height: 32px;\n",
              "      padding: 0 0 0 0;\n",
              "      width: 32px;\n",
              "    }\n",
              "\n",
              "    .colab-df-convert:hover {\n",
              "      background-color: #E2EBFA;\n",
              "      box-shadow: 0px 1px 2px rgba(60, 64, 67, 0.3), 0px 1px 3px 1px rgba(60, 64, 67, 0.15);\n",
              "      fill: #174EA6;\n",
              "    }\n",
              "\n",
              "    [theme=dark] .colab-df-convert {\n",
              "      background-color: #3B4455;\n",
              "      fill: #D2E3FC;\n",
              "    }\n",
              "\n",
              "    [theme=dark] .colab-df-convert:hover {\n",
              "      background-color: #434B5C;\n",
              "      box-shadow: 0px 1px 3px 1px rgba(0, 0, 0, 0.15);\n",
              "      filter: drop-shadow(0px 1px 2px rgba(0, 0, 0, 0.3));\n",
              "      fill: #FFFFFF;\n",
              "    }\n",
              "  </style>\n",
              "\n",
              "      <script>\n",
              "        const buttonEl =\n",
              "          document.querySelector('#df-1d55b7b8-eb9c-45ec-aec2-cddef064409d button.colab-df-convert');\n",
              "        buttonEl.style.display =\n",
              "          google.colab.kernel.accessAllowed ? 'block' : 'none';\n",
              "\n",
              "        async function convertToInteractive(key) {\n",
              "          const element = document.querySelector('#df-1d55b7b8-eb9c-45ec-aec2-cddef064409d');\n",
              "          const dataTable =\n",
              "            await google.colab.kernel.invokeFunction('convertToInteractive',\n",
              "                                                     [key], {});\n",
              "          if (!dataTable) return;\n",
              "\n",
              "          const docLinkHtml = 'Like what you see? Visit the ' +\n",
              "            '<a target=\"_blank\" href=https://colab.research.google.com/notebooks/data_table.ipynb>data table notebook</a>'\n",
              "            + ' to learn more about interactive tables.';\n",
              "          element.innerHTML = '';\n",
              "          dataTable['output_type'] = 'display_data';\n",
              "          await google.colab.output.renderOutput(dataTable, element);\n",
              "          const docLink = document.createElement('div');\n",
              "          docLink.innerHTML = docLinkHtml;\n",
              "          element.appendChild(docLink);\n",
              "        }\n",
              "      </script>\n",
              "    </div>\n",
              "  </div>\n",
              "  "
            ]
          },
          "metadata": {},
          "execution_count": 454
        }
      ]
    },
    {
      "cell_type": "code",
      "source": [
        "england.isnull().sum()"
      ],
      "metadata": {
        "colab": {
          "base_uri": "https://localhost:8080/"
        },
        "id": "579re-gqQ8rJ",
        "outputId": "9c974cd7-9b4f-4f52-e29e-d4ddec6dbaf4"
      },
      "execution_count": 455,
      "outputs": [
        {
          "output_type": "execute_result",
          "data": {
            "text/plain": [
              "host_id        0\n",
              "host_status    0\n",
              "score          0\n",
              "match_id       0\n",
              "match_date     0\n",
              "guest_club     0\n",
              "dtype: int64"
            ]
          },
          "metadata": {},
          "execution_count": 455
        }
      ]
    },
    {
      "cell_type": "code",
      "source": [
        "england.rename(columns={'guest_club':'guest_id'},inplace=True)"
      ],
      "metadata": {
        "id": "Z1ANIcCGUdoP"
      },
      "execution_count": 456,
      "outputs": []
    },
    {
      "cell_type": "code",
      "source": [
        "spain.isnull().sum()"
      ],
      "metadata": {
        "colab": {
          "base_uri": "https://localhost:8080/"
        },
        "id": "u1zVj7xYREmL",
        "outputId": "c3d93675-fd0c-4346-c08c-bb08b5b44740"
      },
      "execution_count": 437,
      "outputs": [
        {
          "output_type": "execute_result",
          "data": {
            "text/plain": [
              "host_id        0\n",
              "host_status    0\n",
              "score          0\n",
              "match_id       0\n",
              "match_date     0\n",
              "guest_id       0\n",
              "dtype: int64"
            ]
          },
          "metadata": {},
          "execution_count": 437
        }
      ]
    },
    {
      "cell_type": "code",
      "source": [
        "merged=pd.concat([france,germany,italy,england,spain],ignore_index=True)"
      ],
      "metadata": {
        "id": "lbZtkxkPOPWJ"
      },
      "execution_count": 457,
      "outputs": []
    },
    {
      "cell_type": "code",
      "source": [
        "merged.shape"
      ],
      "metadata": {
        "colab": {
          "base_uri": "https://localhost:8080/"
        },
        "id": "BqHy-vp-Po0E",
        "outputId": "b253546f-ae74-4038-abc9-f10e4a886648"
      },
      "execution_count": 458,
      "outputs": [
        {
          "output_type": "execute_result",
          "data": {
            "text/plain": [
              "(1788, 6)"
            ]
          },
          "metadata": {},
          "execution_count": 458
        }
      ]
    },
    {
      "cell_type": "code",
      "source": [
        "merged['Season']=2021"
      ],
      "metadata": {
        "id": "OROZkvKRU6dY"
      },
      "execution_count": 463,
      "outputs": []
    },
    {
      "cell_type": "code",
      "source": [
        "merged.head()"
      ],
      "metadata": {
        "colab": {
          "base_uri": "https://localhost:8080/",
          "height": 206
        },
        "id": "jfYdyNzWRPDS",
        "outputId": "7b13b598-29a1-42aa-f8a0-f6ce83bad8b0"
      },
      "execution_count": 464,
      "outputs": [
        {
          "output_type": "execute_result",
          "data": {
            "text/plain": [
              "   host_id host_status score  match_id  match_date  guest_id  Season\n",
              "0      583         Win  2:1    3589530  17.04.2022       244    2021\n",
              "1      583         Win  2:0    3589292  12.12.2021       162    2021\n",
              "2      583         Win  1:0    3589388  11.02.2022       273    2021\n",
              "3      583       equal  0:0    3589262  01.12.2021       417    2021\n",
              "4      583         Win  4:2    3588789  14.08.2021       667    2021"
            ],
            "text/html": [
              "\n",
              "  <div id=\"df-0db86848-fd52-47ad-acff-87598192f04b\">\n",
              "    <div class=\"colab-df-container\">\n",
              "      <div>\n",
              "<style scoped>\n",
              "    .dataframe tbody tr th:only-of-type {\n",
              "        vertical-align: middle;\n",
              "    }\n",
              "\n",
              "    .dataframe tbody tr th {\n",
              "        vertical-align: top;\n",
              "    }\n",
              "\n",
              "    .dataframe thead th {\n",
              "        text-align: right;\n",
              "    }\n",
              "</style>\n",
              "<table border=\"1\" class=\"dataframe\">\n",
              "  <thead>\n",
              "    <tr style=\"text-align: right;\">\n",
              "      <th></th>\n",
              "      <th>host_id</th>\n",
              "      <th>host_status</th>\n",
              "      <th>score</th>\n",
              "      <th>match_id</th>\n",
              "      <th>match_date</th>\n",
              "      <th>guest_id</th>\n",
              "      <th>Season</th>\n",
              "    </tr>\n",
              "  </thead>\n",
              "  <tbody>\n",
              "    <tr>\n",
              "      <th>0</th>\n",
              "      <td>583</td>\n",
              "      <td>Win</td>\n",
              "      <td>2:1</td>\n",
              "      <td>3589530</td>\n",
              "      <td>17.04.2022</td>\n",
              "      <td>244</td>\n",
              "      <td>2021</td>\n",
              "    </tr>\n",
              "    <tr>\n",
              "      <th>1</th>\n",
              "      <td>583</td>\n",
              "      <td>Win</td>\n",
              "      <td>2:0</td>\n",
              "      <td>3589292</td>\n",
              "      <td>12.12.2021</td>\n",
              "      <td>162</td>\n",
              "      <td>2021</td>\n",
              "    </tr>\n",
              "    <tr>\n",
              "      <th>2</th>\n",
              "      <td>583</td>\n",
              "      <td>Win</td>\n",
              "      <td>1:0</td>\n",
              "      <td>3589388</td>\n",
              "      <td>11.02.2022</td>\n",
              "      <td>273</td>\n",
              "      <td>2021</td>\n",
              "    </tr>\n",
              "    <tr>\n",
              "      <th>3</th>\n",
              "      <td>583</td>\n",
              "      <td>equal</td>\n",
              "      <td>0:0</td>\n",
              "      <td>3589262</td>\n",
              "      <td>01.12.2021</td>\n",
              "      <td>417</td>\n",
              "      <td>2021</td>\n",
              "    </tr>\n",
              "    <tr>\n",
              "      <th>4</th>\n",
              "      <td>583</td>\n",
              "      <td>Win</td>\n",
              "      <td>4:2</td>\n",
              "      <td>3588789</td>\n",
              "      <td>14.08.2021</td>\n",
              "      <td>667</td>\n",
              "      <td>2021</td>\n",
              "    </tr>\n",
              "  </tbody>\n",
              "</table>\n",
              "</div>\n",
              "      <button class=\"colab-df-convert\" onclick=\"convertToInteractive('df-0db86848-fd52-47ad-acff-87598192f04b')\"\n",
              "              title=\"Convert this dataframe to an interactive table.\"\n",
              "              style=\"display:none;\">\n",
              "        \n",
              "  <svg xmlns=\"http://www.w3.org/2000/svg\" height=\"24px\"viewBox=\"0 0 24 24\"\n",
              "       width=\"24px\">\n",
              "    <path d=\"M0 0h24v24H0V0z\" fill=\"none\"/>\n",
              "    <path d=\"M18.56 5.44l.94 2.06.94-2.06 2.06-.94-2.06-.94-.94-2.06-.94 2.06-2.06.94zm-11 1L8.5 8.5l.94-2.06 2.06-.94-2.06-.94L8.5 2.5l-.94 2.06-2.06.94zm10 10l.94 2.06.94-2.06 2.06-.94-2.06-.94-.94-2.06-.94 2.06-2.06.94z\"/><path d=\"M17.41 7.96l-1.37-1.37c-.4-.4-.92-.59-1.43-.59-.52 0-1.04.2-1.43.59L10.3 9.45l-7.72 7.72c-.78.78-.78 2.05 0 2.83L4 21.41c.39.39.9.59 1.41.59.51 0 1.02-.2 1.41-.59l7.78-7.78 2.81-2.81c.8-.78.8-2.07 0-2.86zM5.41 20L4 18.59l7.72-7.72 1.47 1.35L5.41 20z\"/>\n",
              "  </svg>\n",
              "      </button>\n",
              "      \n",
              "  <style>\n",
              "    .colab-df-container {\n",
              "      display:flex;\n",
              "      flex-wrap:wrap;\n",
              "      gap: 12px;\n",
              "    }\n",
              "\n",
              "    .colab-df-convert {\n",
              "      background-color: #E8F0FE;\n",
              "      border: none;\n",
              "      border-radius: 50%;\n",
              "      cursor: pointer;\n",
              "      display: none;\n",
              "      fill: #1967D2;\n",
              "      height: 32px;\n",
              "      padding: 0 0 0 0;\n",
              "      width: 32px;\n",
              "    }\n",
              "\n",
              "    .colab-df-convert:hover {\n",
              "      background-color: #E2EBFA;\n",
              "      box-shadow: 0px 1px 2px rgba(60, 64, 67, 0.3), 0px 1px 3px 1px rgba(60, 64, 67, 0.15);\n",
              "      fill: #174EA6;\n",
              "    }\n",
              "\n",
              "    [theme=dark] .colab-df-convert {\n",
              "      background-color: #3B4455;\n",
              "      fill: #D2E3FC;\n",
              "    }\n",
              "\n",
              "    [theme=dark] .colab-df-convert:hover {\n",
              "      background-color: #434B5C;\n",
              "      box-shadow: 0px 1px 3px 1px rgba(0, 0, 0, 0.15);\n",
              "      filter: drop-shadow(0px 1px 2px rgba(0, 0, 0, 0.3));\n",
              "      fill: #FFFFFF;\n",
              "    }\n",
              "  </style>\n",
              "\n",
              "      <script>\n",
              "        const buttonEl =\n",
              "          document.querySelector('#df-0db86848-fd52-47ad-acff-87598192f04b button.colab-df-convert');\n",
              "        buttonEl.style.display =\n",
              "          google.colab.kernel.accessAllowed ? 'block' : 'none';\n",
              "\n",
              "        async function convertToInteractive(key) {\n",
              "          const element = document.querySelector('#df-0db86848-fd52-47ad-acff-87598192f04b');\n",
              "          const dataTable =\n",
              "            await google.colab.kernel.invokeFunction('convertToInteractive',\n",
              "                                                     [key], {});\n",
              "          if (!dataTable) return;\n",
              "\n",
              "          const docLinkHtml = 'Like what you see? Visit the ' +\n",
              "            '<a target=\"_blank\" href=https://colab.research.google.com/notebooks/data_table.ipynb>data table notebook</a>'\n",
              "            + ' to learn more about interactive tables.';\n",
              "          element.innerHTML = '';\n",
              "          dataTable['output_type'] = 'display_data';\n",
              "          await google.colab.output.renderOutput(dataTable, element);\n",
              "          const docLink = document.createElement('div');\n",
              "          docLink.innerHTML = docLinkHtml;\n",
              "          element.appendChild(docLink);\n",
              "        }\n",
              "      </script>\n",
              "    </div>\n",
              "  </div>\n",
              "  "
            ]
          },
          "metadata": {},
          "execution_count": 464
        }
      ]
    },
    {
      "cell_type": "code",
      "source": [
        "merged.isnull().sum()"
      ],
      "metadata": {
        "colab": {
          "base_uri": "https://localhost:8080/"
        },
        "id": "dPbKwaeZPwjY",
        "outputId": "38082f46-2a74-4684-8da1-8235391a6ae6"
      },
      "execution_count": 465,
      "outputs": [
        {
          "output_type": "execute_result",
          "data": {
            "text/plain": [
              "host_id        0\n",
              "host_status    0\n",
              "score          0\n",
              "match_id       0\n",
              "match_date     0\n",
              "guest_id       0\n",
              "Season         0\n",
              "dtype: int64"
            ]
          },
          "metadata": {},
          "execution_count": 465
        }
      ]
    },
    {
      "cell_type": "code",
      "source": [
        "merged.drop_duplicates(keep='last',inplace=True)"
      ],
      "metadata": {
        "id": "zrJt7QGhX7en"
      },
      "execution_count": 476,
      "outputs": []
    },
    {
      "cell_type": "code",
      "source": [
        "merged['goals_for']=merged['score'].apply(lambda x: x.split(':')[0])"
      ],
      "metadata": {
        "id": "iqLMu91SYLs9"
      },
      "execution_count": 470,
      "outputs": []
    },
    {
      "cell_type": "code",
      "source": [
        "merged['goals_against']=merged['score'].apply(lambda x: x.split(':')[1])"
      ],
      "metadata": {
        "id": "C7xQVYvAV_Vl"
      },
      "execution_count": 473,
      "outputs": []
    },
    {
      "cell_type": "code",
      "source": [
        "merged['match_date']=pd.to_datetime(merged['match_date'],format='%d.%m.%Y')"
      ],
      "metadata": {
        "id": "1qwkkq7JYmsn"
      },
      "execution_count": 478,
      "outputs": []
    },
    {
      "cell_type": "code",
      "source": [
        "merged"
      ],
      "metadata": {
        "colab": {
          "base_uri": "https://localhost:8080/",
          "height": 423
        },
        "id": "Ig4T-PtbZtY9",
        "outputId": "5d8596e6-4d6c-4ae7-f93f-cd4770475e48"
      },
      "execution_count": 479,
      "outputs": [
        {
          "output_type": "execute_result",
          "data": {
            "text/plain": [
              "      host_id host_status score  match_id match_date  guest_id  Season  \\\n",
              "0         583         Win  2:1    3589530 2022-04-17       244    2021   \n",
              "1         583         Win  2:0    3589292 2021-12-12       162    2021   \n",
              "2         583         Win  1:0    3589388 2022-02-11       273    2021   \n",
              "3         583       equal  0:0    3589262 2021-12-01       417    2021   \n",
              "4         583         Win  4:2    3588789 2021-08-14       667    2021   \n",
              "...       ...         ...   ...       ...        ...       ...     ...   \n",
              "1782       65        Lost  0:1    3588246 2021-10-16        80    2021   \n",
              "1783       65       equal  0:0    3588390 2021-12-18       167    2021   \n",
              "1784       65       equal  0:0    3588408 2022-01-08        79    2021   \n",
              "1785       65         Win  2:1    3588471 2022-02-12        44    2021   \n",
              "1787       65       equal  1:1    3588156 2021-08-21        10    2021   \n",
              "\n",
              "     goals_for goals_against  \n",
              "0            2            1   \n",
              "1            2            0   \n",
              "2            1            0   \n",
              "3            0            0   \n",
              "4            4            2   \n",
              "...        ...           ...  \n",
              "1782         0            1   \n",
              "1783         0            0   \n",
              "1784         0            0   \n",
              "1785         2            1   \n",
              "1787         1            1   \n",
              "\n",
              "[1447 rows x 9 columns]"
            ],
            "text/html": [
              "\n",
              "  <div id=\"df-28a4a599-6054-4892-9048-298cf9d3bee9\">\n",
              "    <div class=\"colab-df-container\">\n",
              "      <div>\n",
              "<style scoped>\n",
              "    .dataframe tbody tr th:only-of-type {\n",
              "        vertical-align: middle;\n",
              "    }\n",
              "\n",
              "    .dataframe tbody tr th {\n",
              "        vertical-align: top;\n",
              "    }\n",
              "\n",
              "    .dataframe thead th {\n",
              "        text-align: right;\n",
              "    }\n",
              "</style>\n",
              "<table border=\"1\" class=\"dataframe\">\n",
              "  <thead>\n",
              "    <tr style=\"text-align: right;\">\n",
              "      <th></th>\n",
              "      <th>host_id</th>\n",
              "      <th>host_status</th>\n",
              "      <th>score</th>\n",
              "      <th>match_id</th>\n",
              "      <th>match_date</th>\n",
              "      <th>guest_id</th>\n",
              "      <th>Season</th>\n",
              "      <th>goals_for</th>\n",
              "      <th>goals_against</th>\n",
              "    </tr>\n",
              "  </thead>\n",
              "  <tbody>\n",
              "    <tr>\n",
              "      <th>0</th>\n",
              "      <td>583</td>\n",
              "      <td>Win</td>\n",
              "      <td>2:1</td>\n",
              "      <td>3589530</td>\n",
              "      <td>2022-04-17</td>\n",
              "      <td>244</td>\n",
              "      <td>2021</td>\n",
              "      <td>2</td>\n",
              "      <td>1</td>\n",
              "    </tr>\n",
              "    <tr>\n",
              "      <th>1</th>\n",
              "      <td>583</td>\n",
              "      <td>Win</td>\n",
              "      <td>2:0</td>\n",
              "      <td>3589292</td>\n",
              "      <td>2021-12-12</td>\n",
              "      <td>162</td>\n",
              "      <td>2021</td>\n",
              "      <td>2</td>\n",
              "      <td>0</td>\n",
              "    </tr>\n",
              "    <tr>\n",
              "      <th>2</th>\n",
              "      <td>583</td>\n",
              "      <td>Win</td>\n",
              "      <td>1:0</td>\n",
              "      <td>3589388</td>\n",
              "      <td>2022-02-11</td>\n",
              "      <td>273</td>\n",
              "      <td>2021</td>\n",
              "      <td>1</td>\n",
              "      <td>0</td>\n",
              "    </tr>\n",
              "    <tr>\n",
              "      <th>3</th>\n",
              "      <td>583</td>\n",
              "      <td>equal</td>\n",
              "      <td>0:0</td>\n",
              "      <td>3589262</td>\n",
              "      <td>2021-12-01</td>\n",
              "      <td>417</td>\n",
              "      <td>2021</td>\n",
              "      <td>0</td>\n",
              "      <td>0</td>\n",
              "    </tr>\n",
              "    <tr>\n",
              "      <th>4</th>\n",
              "      <td>583</td>\n",
              "      <td>Win</td>\n",
              "      <td>4:2</td>\n",
              "      <td>3588789</td>\n",
              "      <td>2021-08-14</td>\n",
              "      <td>667</td>\n",
              "      <td>2021</td>\n",
              "      <td>4</td>\n",
              "      <td>2</td>\n",
              "    </tr>\n",
              "    <tr>\n",
              "      <th>...</th>\n",
              "      <td>...</td>\n",
              "      <td>...</td>\n",
              "      <td>...</td>\n",
              "      <td>...</td>\n",
              "      <td>...</td>\n",
              "      <td>...</td>\n",
              "      <td>...</td>\n",
              "      <td>...</td>\n",
              "      <td>...</td>\n",
              "    </tr>\n",
              "    <tr>\n",
              "      <th>1782</th>\n",
              "      <td>65</td>\n",
              "      <td>Lost</td>\n",
              "      <td>0:1</td>\n",
              "      <td>3588246</td>\n",
              "      <td>2021-10-16</td>\n",
              "      <td>80</td>\n",
              "      <td>2021</td>\n",
              "      <td>0</td>\n",
              "      <td>1</td>\n",
              "    </tr>\n",
              "    <tr>\n",
              "      <th>1783</th>\n",
              "      <td>65</td>\n",
              "      <td>equal</td>\n",
              "      <td>0:0</td>\n",
              "      <td>3588390</td>\n",
              "      <td>2021-12-18</td>\n",
              "      <td>167</td>\n",
              "      <td>2021</td>\n",
              "      <td>0</td>\n",
              "      <td>0</td>\n",
              "    </tr>\n",
              "    <tr>\n",
              "      <th>1784</th>\n",
              "      <td>65</td>\n",
              "      <td>equal</td>\n",
              "      <td>0:0</td>\n",
              "      <td>3588408</td>\n",
              "      <td>2022-01-08</td>\n",
              "      <td>79</td>\n",
              "      <td>2021</td>\n",
              "      <td>0</td>\n",
              "      <td>0</td>\n",
              "    </tr>\n",
              "    <tr>\n",
              "      <th>1785</th>\n",
              "      <td>65</td>\n",
              "      <td>Win</td>\n",
              "      <td>2:1</td>\n",
              "      <td>3588471</td>\n",
              "      <td>2022-02-12</td>\n",
              "      <td>44</td>\n",
              "      <td>2021</td>\n",
              "      <td>2</td>\n",
              "      <td>1</td>\n",
              "    </tr>\n",
              "    <tr>\n",
              "      <th>1787</th>\n",
              "      <td>65</td>\n",
              "      <td>equal</td>\n",
              "      <td>1:1</td>\n",
              "      <td>3588156</td>\n",
              "      <td>2021-08-21</td>\n",
              "      <td>10</td>\n",
              "      <td>2021</td>\n",
              "      <td>1</td>\n",
              "      <td>1</td>\n",
              "    </tr>\n",
              "  </tbody>\n",
              "</table>\n",
              "<p>1447 rows × 9 columns</p>\n",
              "</div>\n",
              "      <button class=\"colab-df-convert\" onclick=\"convertToInteractive('df-28a4a599-6054-4892-9048-298cf9d3bee9')\"\n",
              "              title=\"Convert this dataframe to an interactive table.\"\n",
              "              style=\"display:none;\">\n",
              "        \n",
              "  <svg xmlns=\"http://www.w3.org/2000/svg\" height=\"24px\"viewBox=\"0 0 24 24\"\n",
              "       width=\"24px\">\n",
              "    <path d=\"M0 0h24v24H0V0z\" fill=\"none\"/>\n",
              "    <path d=\"M18.56 5.44l.94 2.06.94-2.06 2.06-.94-2.06-.94-.94-2.06-.94 2.06-2.06.94zm-11 1L8.5 8.5l.94-2.06 2.06-.94-2.06-.94L8.5 2.5l-.94 2.06-2.06.94zm10 10l.94 2.06.94-2.06 2.06-.94-2.06-.94-.94-2.06-.94 2.06-2.06.94z\"/><path d=\"M17.41 7.96l-1.37-1.37c-.4-.4-.92-.59-1.43-.59-.52 0-1.04.2-1.43.59L10.3 9.45l-7.72 7.72c-.78.78-.78 2.05 0 2.83L4 21.41c.39.39.9.59 1.41.59.51 0 1.02-.2 1.41-.59l7.78-7.78 2.81-2.81c.8-.78.8-2.07 0-2.86zM5.41 20L4 18.59l7.72-7.72 1.47 1.35L5.41 20z\"/>\n",
              "  </svg>\n",
              "      </button>\n",
              "      \n",
              "  <style>\n",
              "    .colab-df-container {\n",
              "      display:flex;\n",
              "      flex-wrap:wrap;\n",
              "      gap: 12px;\n",
              "    }\n",
              "\n",
              "    .colab-df-convert {\n",
              "      background-color: #E8F0FE;\n",
              "      border: none;\n",
              "      border-radius: 50%;\n",
              "      cursor: pointer;\n",
              "      display: none;\n",
              "      fill: #1967D2;\n",
              "      height: 32px;\n",
              "      padding: 0 0 0 0;\n",
              "      width: 32px;\n",
              "    }\n",
              "\n",
              "    .colab-df-convert:hover {\n",
              "      background-color: #E2EBFA;\n",
              "      box-shadow: 0px 1px 2px rgba(60, 64, 67, 0.3), 0px 1px 3px 1px rgba(60, 64, 67, 0.15);\n",
              "      fill: #174EA6;\n",
              "    }\n",
              "\n",
              "    [theme=dark] .colab-df-convert {\n",
              "      background-color: #3B4455;\n",
              "      fill: #D2E3FC;\n",
              "    }\n",
              "\n",
              "    [theme=dark] .colab-df-convert:hover {\n",
              "      background-color: #434B5C;\n",
              "      box-shadow: 0px 1px 3px 1px rgba(0, 0, 0, 0.15);\n",
              "      filter: drop-shadow(0px 1px 2px rgba(0, 0, 0, 0.3));\n",
              "      fill: #FFFFFF;\n",
              "    }\n",
              "  </style>\n",
              "\n",
              "      <script>\n",
              "        const buttonEl =\n",
              "          document.querySelector('#df-28a4a599-6054-4892-9048-298cf9d3bee9 button.colab-df-convert');\n",
              "        buttonEl.style.display =\n",
              "          google.colab.kernel.accessAllowed ? 'block' : 'none';\n",
              "\n",
              "        async function convertToInteractive(key) {\n",
              "          const element = document.querySelector('#df-28a4a599-6054-4892-9048-298cf9d3bee9');\n",
              "          const dataTable =\n",
              "            await google.colab.kernel.invokeFunction('convertToInteractive',\n",
              "                                                     [key], {});\n",
              "          if (!dataTable) return;\n",
              "\n",
              "          const docLinkHtml = 'Like what you see? Visit the ' +\n",
              "            '<a target=\"_blank\" href=https://colab.research.google.com/notebooks/data_table.ipynb>data table notebook</a>'\n",
              "            + ' to learn more about interactive tables.';\n",
              "          element.innerHTML = '';\n",
              "          dataTable['output_type'] = 'display_data';\n",
              "          await google.colab.output.renderOutput(dataTable, element);\n",
              "          const docLink = document.createElement('div');\n",
              "          docLink.innerHTML = docLinkHtml;\n",
              "          element.appendChild(docLink);\n",
              "        }\n",
              "      </script>\n",
              "    </div>\n",
              "  </div>\n",
              "  "
            ]
          },
          "metadata": {},
          "execution_count": 479
        }
      ]
    },
    {
      "cell_type": "code",
      "source": [
        "merged.to_csv('competions.csv', index=False)"
      ],
      "metadata": {
        "id": "B9SQ6jKhUp5w"
      },
      "execution_count": 480,
      "outputs": []
    }
  ]
}
