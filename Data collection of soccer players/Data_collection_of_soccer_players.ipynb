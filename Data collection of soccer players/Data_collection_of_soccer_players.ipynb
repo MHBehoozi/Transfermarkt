{
  "nbformat": 4,
  "nbformat_minor": 0,
  "metadata": {
    "colab": {
      "provenance": []
    },
    "kernelspec": {
      "name": "python3",
      "display_name": "Python 3"
    },
    "language_info": {
      "name": "python"
    }
  },
  "cells": [
    {
      "cell_type": "markdown",
      "source": [
        "# Data collection of soccer players"
      ],
      "metadata": {
        "id": "8WYCFcT-KZ4O"
      }
    },
    {
      "cell_type": "markdown",
      "source": [
        "## Libraries"
      ],
      "metadata": {
        "id": "fg_NZPKpKf9w"
      }
    },
    {
      "cell_type": "code",
      "execution_count": 6,
      "metadata": {
        "id": "hYlatFBiKjDZ"
      },
      "outputs": [],
      "source": [
        "import requests\n",
        "from bs4 import BeautifulSoup\n",
        "import numpy as np\n",
        "import pandas as pd\n",
        "#from tqdm import tqdm\n",
        "from tqdm.notebook import trange, tqdm\n",
        "import time \n",
        "import csv\n",
        "import re"
      ]
    },
    {
      "cell_type": "markdown",
      "source": [
        "##Functions"
      ],
      "metadata": {
        "id": "npjTGAldZyXF"
      }
    },
    {
      "cell_type": "markdown",
      "source": [
        "### id"
      ],
      "metadata": {
        "id": "dmKErzN8L27m"
      }
    },
    {
      "cell_type": "code",
      "source": [
        "def player_id(link):\n",
        "  try:\n",
        "    player_id = (str(link).split('/'))[-1]\n",
        "    return player_id\n",
        "  except:\n",
        "    print(link+\" player id not found!\")\n",
        "    return np.nan"
      ],
      "metadata": {
        "id": "r8F6gMeRL4nd"
      },
      "execution_count": 7,
      "outputs": []
    },
    {
      "cell_type": "markdown",
      "source": [
        "### name and lastname"
      ],
      "metadata": {
        "id": "VIVowCYuYITG"
      }
    },
    {
      "cell_type": "code",
      "source": [
        "def player_name (page_content,link):\n",
        "  try:\n",
        "    #get the name tag\n",
        "    full_name = page_content.find('h1',class_='data-header__headline-wrapper').get_text()\n",
        "    #Remove extra space\n",
        "    full_name = (\" \".join(full_name.strip().split()))\n",
        "    #Separating name and last name\n",
        "    full_name = re.sub(r'#\\d+','', full_name).strip()\n",
        "    name = full_name.split(' ')[0]\n",
        "    last_name = full_name.split(' ')[-1]\n",
        "\n",
        "    return full_name\n",
        "    #return name, last_name\n",
        "    #print(full_name,'\\n'+name ,'\\n'+last_name)\n",
        "  \n",
        "  except:\n",
        "    print(link+\" player name not found!\")\n",
        "    return np.nan"
      ],
      "metadata": {
        "id": "8Vai1ld3YMgu"
      },
      "execution_count": 8,
      "outputs": []
    },
    {
      "cell_type": "markdown",
      "source": [
        "### Place of birth"
      ],
      "metadata": {
        "id": "xhrKjIv8bPPi"
      }
    },
    {
      "cell_type": "code",
      "source": [
        "def place_of_birth(page_content, link):\n",
        "  try:\n",
        "    place_of_birth = page_content.find(['span'], string=['Place of birth:']).find_next('img')['title']\n",
        "    return place_of_birth\n",
        "\n",
        "  except:\n",
        "    print(link+\" player place of birth not found!\")\n",
        "    return np.nan"
      ],
      "metadata": {
        "id": "JVjeb6GwbSJS"
      },
      "execution_count": 9,
      "outputs": []
    },
    {
      "cell_type": "markdown",
      "source": [
        "### Date of birth (age)"
      ],
      "metadata": {
        "id": "szIeZu7_YUSH"
      }
    },
    {
      "cell_type": "code",
      "source": [
        "# date of birth\n",
        "def date_of_birth(page_content, link):\n",
        "  try:\n",
        "    date_of_birth = page_content.find(['span'], string=['Date of birth:']).find_next('span').text\n",
        "    date_of_birth = date_of_birth.strip().replace(',','').split(' ')\n",
        "    month = date_of_birth[0]\n",
        "    day = date_of_birth[1]\n",
        "    year = date_of_birth[2]\n",
        "    #print(year, '\\n'+month, '\\n'+day)\n",
        "    return date_of_birth\n",
        "  \n",
        "  except:\n",
        "    print(link+\" player date of birth not found!\")\n",
        "    return np.nan"
      ],
      "metadata": {
        "id": "Vt7y5knzYT33"
      },
      "execution_count": 10,
      "outputs": []
    },
    {
      "cell_type": "code",
      "source": [
        "# age\n",
        "def player_age(page_content, link):\n",
        "  try:\n",
        "    age = page_content.find(['span'], string=['Age:']).find_next('span').text\n",
        "    #print(age)\n",
        "    return age\n",
        "  \n",
        "  except:\n",
        "    print(link+\" player age of birth not found!\")\n",
        "    return np.nan"
      ],
      "metadata": {
        "id": "0pWzebPcbNEh"
      },
      "execution_count": 11,
      "outputs": []
    },
    {
      "cell_type": "markdown",
      "source": [
        "### height"
      ],
      "metadata": {
        "id": "WAAJQZNEeCwo"
      }
    },
    {
      "cell_type": "code",
      "source": [
        "def player_height (page_content, link):\n",
        "  try:\n",
        "    height = page_content.find(['span'], string=['Height:']).find_next('span').text\n",
        "    #cleaning the text and cast it to int\n",
        "    height = int(height.replace(',','').replace('m','').strip())\n",
        "    #print(height)\n",
        "    return height\n",
        "  \n",
        "  except:\n",
        "    print(link+\" player height not found!\")\n",
        "    return np.nan"
      ],
      "metadata": {
        "id": "A4kk5NS4eGKv"
      },
      "execution_count": 12,
      "outputs": []
    },
    {
      "cell_type": "markdown",
      "source": [
        "### citizenship"
      ],
      "metadata": {
        "id": "Gqaa1R3Pe_LH"
      }
    },
    {
      "cell_type": "code",
      "source": [
        "def player_citizenship (page_content, link):\n",
        "  try:\n",
        "    citizenship = page_content.find(['span'], string=['Citizenship:']).find_next('span').text #all citizenships\n",
        "    #print(citizanship.strip())\n",
        "    citizenship = citizenship.strip().split('\\xa0')\n",
        "    return citizenship[0].strip() # first citizenship\n",
        "  \n",
        "  except:\n",
        "    print(link+\" player citizenship not found!\")\n",
        "    return np.nan"
      ],
      "metadata": {
        "id": "7NPajvXrfG3X"
      },
      "execution_count": 13,
      "outputs": []
    },
    {
      "cell_type": "markdown",
      "source": [
        "### position"
      ],
      "metadata": {
        "id": "oh8N8c-dgJLj"
      }
    },
    {
      "cell_type": "code",
      "source": [
        "def player_position (page_content, link):\n",
        "  try:\n",
        "    position = page_content.find(['span'], string=['Position:']).find_next('span').text\n",
        "    #cleaning the text \n",
        "    position = position.replace('-',' ')\n",
        "    position = (\" \".join(position.strip().split()))\n",
        "    #print(position)\n",
        "    return position\n",
        "  \n",
        "  except:\n",
        "    print(link+\" player position not found!\")\n",
        "    return np.nan"
      ],
      "metadata": {
        "id": "bFmJu8cGgL2r"
      },
      "execution_count": 14,
      "outputs": []
    },
    {
      "cell_type": "markdown",
      "source": [
        "### foot"
      ],
      "metadata": {
        "id": "ZqIsPGj7hJ8x"
      }
    },
    {
      "cell_type": "code",
      "source": [
        "def player_foot (page_content, link):\n",
        "  try:\n",
        "    foot = page_content.find(['span'], string=['Foot:']).find_next('span').text\n",
        "    #print(foot.strip())\n",
        "    return foot\n",
        "  \n",
        "  except:\n",
        "    print(link+\" player foot not found!\")\n",
        "    return np.nan"
      ],
      "metadata": {
        "id": "8AIwFmZ2hRAs"
      },
      "execution_count": 41,
      "outputs": []
    },
    {
      "cell_type": "markdown",
      "source": [
        "### player agent"
      ],
      "metadata": {
        "id": "b2ezoJNdhqjm"
      }
    },
    {
      "cell_type": "code",
      "source": [
        "def player_agent (page_content, link):\n",
        "  try:\n",
        "    player_agent = page_content.find(['span'], string=['Player agent:']).find_next('span').text\n",
        "    #print(player_agent.strip())\n",
        "    return player_agent.strip()\n",
        "  \n",
        "  except:\n",
        "    print(link+\" player agent not found!\")\n",
        "    return np.nan"
      ],
      "metadata": {
        "id": "nR4-Qwiuht5V"
      },
      "execution_count": 16,
      "outputs": []
    },
    {
      "cell_type": "markdown",
      "source": [
        "### current club"
      ],
      "metadata": {
        "id": "oQjYvZUNjDsq"
      }
    },
    {
      "cell_type": "code",
      "source": [
        "def current_club(page_content, link):\n",
        "  try:\n",
        "    club_name = page_content.find('div', class_='data-header__club-info').find('span', class_='data-header__club').text\n",
        "    #club_name = page.find('div', class_='data-header__club-info').find('span', class_='data-header__club').find('a')['title'] full name of club\n",
        "    return club_name.strip()\n",
        "  except:\n",
        "    print(link+\" current club not found!\")\n",
        "    return np.nan"
      ],
      "metadata": {
        "id": "mL5obMDWjGCm"
      },
      "execution_count": 42,
      "outputs": []
    },
    {
      "cell_type": "markdown",
      "source": [
        "### Detailed performance data"
      ],
      "metadata": {
        "id": "lpbNb-zSt04p"
      }
    },
    {
      "cell_type": "markdown",
      "source": [
        "#### cast the table in website to pandas data frame to get more information"
      ],
      "metadata": {
        "id": "GfRVTESH16QU"
      }
    },
    {
      "cell_type": "code",
      "source": [
        "def detail_page_request(player_id):\n",
        "  detail_link_format = 'https://www.transfermarkt.com/ruben-dias/leistungsdatendetails/spieler/{}/saison//verein/0/liga/0/wettbewerb//pos/0/trainer_id/0/plus/1'\n",
        "  #print (detail_link_format.format(id))\n",
        "  detail_page=''\n",
        "  try:\n",
        "    detail_page = requests.get(detail_link_format.format(player_id), headers=headers)\n",
        "    detail_page = BeautifulSoup(detail_page.content, 'html.parser') \n",
        "    return detail_page \n",
        "  except:\n",
        "    print(detail_link_format.format(player_id)+\" player detailed performance link not found!\")\n",
        "    return np.nan\n",
        "\n"
      ],
      "metadata": {
        "id": "zblKixkcuSl3"
      },
      "execution_count": 18,
      "outputs": []
    },
    {
      "cell_type": "code",
      "source": [
        "def create_player_detial_dataframe (id): # id is for returning an eeror \n",
        "  detail_page = detail_page_request(id)\n",
        "  detail_link_format = 'https://www.transfermarkt.com/ruben-dias/leistungsdatendetails/spieler/{}/saison//verein/0/liga/0/wettbewerb//pos/0/trainer_id/0/plus/1'\n",
        "  # find table in html\n",
        "  try:\n",
        "    table = detail_page.find('table', class_='items')\n",
        "  except:\n",
        "    print(detail_link_format.format(id)+\" detail table not found!\")\n",
        "\n",
        "  # find column names\n",
        "  column_values=['player_id']\n",
        "  try:\n",
        "    header = detail_page.find('table', class_='items').find('thead').find('tr').find_all('th')\n",
        "    for th in header:\n",
        "      if th['id'] == 'yw1_c2':\n",
        "        continue\n",
        "      try:\n",
        "        column_values.append(th.find('a').find('span')['title'])\n",
        "      except:\n",
        "        column_values.append(th.text)\n",
        "    #print(column_values)\n",
        "  except:\n",
        "    print(detail_link_format.format(id)+\" table column_value found!\")\n",
        "\n",
        "  # creat data frame \n",
        "  detail_table= pd.DataFrame(columns = column_values)\n",
        "\n",
        "  # find table rows and add to dataframe \n",
        "  try:\n",
        "    rows = detail_page.find('table', class_='items').find('tbody').find_all('tr')\n",
        "    for row in rows:\n",
        "      table_row = []\n",
        "      table_row.append(id)\n",
        "      for section in row.find_all('td'):\n",
        "        if section.text !='':\n",
        "          table_row.append(section.text)\n",
        "        else:\n",
        "          try:\n",
        "            table_row.append(section.a['title'])\n",
        "          except:\n",
        "            continue\n",
        "      detail_table.loc[len(detail_table.index)]= table_row  \n",
        "  except:\n",
        "    print(detail_link_format.format(id)+\" table row not found!\")\n",
        "\n",
        "  return detail_table\n",
        "\n",
        "  #find total row and add to dataframe\n",
        "  '''\n",
        "  total = []\n",
        "  try:\n",
        "    total_row = detail_page.find('table', class_='items').find('tfoot').find('tr').find_all('td')\n",
        "    for row in total_row:\n",
        "      try: \n",
        "        row['class']\n",
        "        total.append(row.text)\n",
        "      except:\n",
        "        continue\n",
        "  except:\n",
        "    print(detail_link_format.format(id)+\" total row not found!\")\n",
        "  detail_table.loc[len(detail_table.index)]= total\n",
        "  '''\n",
        "  return detail_table"
      ],
      "metadata": {
        "id": "oqa8W7T7Yf0H"
      },
      "execution_count": 63,
      "outputs": []
    },
    {
      "cell_type": "code",
      "source": [
        "def detial_total_row(id):\n",
        "  detail_page = detail_page_request(id)\n",
        "  detail_link_format = 'https://www.transfermarkt.com/ruben-dias/leistungsdatendetails/spieler/{}/saison//verein/0/liga/0/wettbewerb//pos/0/trainer_id/0/plus/1'\n",
        "  total = []\n",
        "  try:\n",
        "    total_row = detail_page.find('table', class_='items').find('tfoot').find('tr').find_all('td')\n",
        "    for row in total_row:\n",
        "      try: \n",
        "        row['class']\n",
        "        total.append(row.text)\n",
        "      except:\n",
        "        continue\n",
        "  except:\n",
        "    print(detail_link_format.format(id)+\" total row not found!\")\n",
        "  return total\n"
      ],
      "metadata": {
        "id": "2IQAo1Ovrn9u"
      },
      "execution_count": 20,
      "outputs": []
    },
    {
      "cell_type": "code",
      "source": [
        "print(detial_total_row('17965'))"
      ],
      "metadata": {
        "colab": {
          "base_uri": "https://localhost:8080/"
        },
        "id": "sjlB00p6WLz9",
        "outputId": "297caaec-71bd-480a-ca83-b65478598847"
      },
      "execution_count": 21,
      "outputs": [
        {
          "output_type": "stream",
          "name": "stdout",
          "text": [
            "https://www.transfermarkt.com/ruben-dias/leistungsdatendetails/spieler/17965/saison//verein/0/liga/0/wettbewerb//pos/0/trainer_id/0/plus/1 player detailed performance link not found!\n",
            "https://www.transfermarkt.com/ruben-dias/leistungsdatendetails/spieler/17965/saison//verein/0/liga/0/wettbewerb//pos/0/trainer_id/0/plus/1 total row not found!\n",
            "[]\n"
          ]
        }
      ]
    },
    {
      "cell_type": "markdown",
      "source": [
        "#### goals scored"
      ],
      "metadata": {
        "id": "jO7LsYW_t4JL"
      }
    },
    {
      "cell_type": "code",
      "source": [
        "def goals_scored (id):\n",
        "  detail_link_format = 'https://www.transfermarkt.com/ruben-dias/leistungsdatendetails/spieler/{}/saison//verein/0/liga/0/wettbewerb//pos/0/trainer_id/0/plus/1'\n",
        "  try:\n",
        "    return detial_total_row(id)[6]\n",
        "  except:\n",
        "    print(detail_link_format.format(id)+\" goals scored not found!\")\n",
        "    return 'nan'\n"
      ],
      "metadata": {
        "id": "_vGD0wcx2OhT"
      },
      "execution_count": 22,
      "outputs": []
    },
    {
      "cell_type": "markdown",
      "source": [
        "#### goals assisted"
      ],
      "metadata": {
        "id": "6z06nf9ruFul"
      }
    },
    {
      "cell_type": "code",
      "source": [
        "def goals_assisted (id):\n",
        "  detail_link_format = 'https://www.transfermarkt.com/ruben-dias/leistungsdatendetails/spieler/{}/saison//verein/0/liga/0/wettbewerb//pos/0/trainer_id/0/plus/1'\n",
        "  try:\n",
        "    return detial_total_row(id)[7]\n",
        "  except:\n",
        "    print(detail_link_format.format(id)+\" goals assisted not found!\")\n",
        "    return 'nan'"
      ],
      "metadata": {
        "id": "hWS5qxvV2d7e"
      },
      "execution_count": 23,
      "outputs": []
    },
    {
      "cell_type": "markdown",
      "source": [
        "#### total appearance"
      ],
      "metadata": {
        "id": "OrpkRTwNuJJg"
      }
    },
    {
      "cell_type": "code",
      "source": [
        "def total_appearance (id):\n",
        "  detail_link_format = 'https://www.transfermarkt.com/ruben-dias/leistungsdatendetails/spieler/{}/saison//verein/0/liga/0/wettbewerb//pos/0/trainer_id/0/plus/1'\n",
        "  try:\n",
        "    return detial_total_row(id)[4]\n",
        "  except:\n",
        "    print(detail_link_format.format(id)+\" total appearance not found!\")\n",
        "    return 'nan'"
      ],
      "metadata": {
        "id": "GWhJM7np2f66"
      },
      "execution_count": 24,
      "outputs": []
    },
    {
      "cell_type": "markdown",
      "source": [
        "#### goals_conceded"
      ],
      "metadata": {
        "id": "qc3vNF6JU9DN"
      }
    },
    {
      "cell_type": "code",
      "source": [
        "def goals_conceded (id):\n",
        "  detail_link_format = 'https://www.transfermarkt.com/ruben-dias/leistungsdatendetails/spieler/{}/saison//verein/0/liga/0/wettbewerb//pos/0/trainer_id/0/plus/1'\n",
        "  try:\n",
        "    return detial_total_row(id)[13]\n",
        "  except:\n",
        "    print(detail_link_format.format(id)+\" goals conceded not found!\")\n",
        "    return 'nan'"
      ],
      "metadata": {
        "id": "UAO49kXyVHq2"
      },
      "execution_count": 25,
      "outputs": []
    },
    {
      "cell_type": "markdown",
      "source": [
        "#### clean_sheets"
      ],
      "metadata": {
        "id": "6R5G4McmVPZF"
      }
    },
    {
      "cell_type": "code",
      "source": [
        "def clean_sheets (id):\n",
        "  detail_link_format = 'https://www.transfermarkt.com/ruben-dias/leistungsdatendetails/spieler/{}/saison//verein/0/liga/0/wettbewerb//pos/0/trainer_id/0/plus/1'\n",
        "  try:\n",
        "    return detial_total_row(id)[14]\n",
        "  except:\n",
        "    print(detail_link_format.format(id)+\" clean sheats not found!\")\n",
        "    return 'nan'"
      ],
      "metadata": {
        "id": "_KeAuT-HVSlf"
      },
      "execution_count": 26,
      "outputs": []
    },
    {
      "cell_type": "markdown",
      "source": [
        "#### yello cards"
      ],
      "metadata": {
        "id": "0llOB3U-6_q5"
      }
    },
    {
      "cell_type": "code",
      "source": [
        "#print(total[11])"
      ],
      "metadata": {
        "id": "PJLSPI_y7Ijm"
      },
      "execution_count": null,
      "outputs": []
    },
    {
      "cell_type": "markdown",
      "source": [
        "#### second yellow cards"
      ],
      "metadata": {
        "id": "asD-vqUq7tCB"
      }
    },
    {
      "cell_type": "code",
      "source": [
        "#print (total[12])"
      ],
      "metadata": {
        "id": "708TT-mx7ywT"
      },
      "execution_count": null,
      "outputs": []
    },
    {
      "cell_type": "markdown",
      "source": [
        "#### red cards"
      ],
      "metadata": {
        "id": "dTBGQgPo73bZ"
      }
    },
    {
      "cell_type": "code",
      "source": [
        "#print (total[13])"
      ],
      "metadata": {
        "id": "PmG3sRmf75SZ"
      },
      "execution_count": null,
      "outputs": []
    },
    {
      "cell_type": "markdown",
      "source": [
        "### transfer history"
      ],
      "metadata": {
        "id": "Eone9167KBtW"
      }
    },
    {
      "cell_type": "code",
      "source": [
        "# creating a dataframe with the transfer history table \n",
        "def player_transfer_history_dataframe(page_content, link):\n",
        "  try:\n",
        "    html_transfer_table = page_content.find('div', class_='grid tm-player-transfer-history-grid tm-player-transfer-history-grid tm-player-transfer-history-grid--heading')\n",
        "  except:\n",
        "    print(link+\" transfer table not found!\")\n",
        "\n",
        "  # create columns\n",
        "  transfer_table_column= []\n",
        "  transfer_table_column = html_transfer_table.text.split()\n",
        "  transfer_table_column.append('player_id')\n",
        "  #print(transfer_table_column)\n",
        "\n",
        "  #create rows\n",
        "  transfer_table_rows = []\n",
        "  try:\n",
        "    html_transfer_table_rows = page_content.find_all('div', class_='grid tm-player-transfer-history-grid')\n",
        "    for row in html_transfer_table_rows:\n",
        "      row= row.text\n",
        "      #delete extra spaces\n",
        "      row = re.sub(' +', '', row)\n",
        "      #divide columns by \\n\n",
        "      row = row.split('\\n')\n",
        "      #delete empty strings from list\n",
        "      row = list(filter(None, row))\n",
        "      row.append(player_id(link))\n",
        "      \n",
        "      #\n",
        "      transfer_table_rows.append(row)\n",
        "  except:\n",
        "    print(link+\" transfer table rows not found!\")\n",
        "  \n",
        "  transfer_table = pd.DataFrame(transfer_table_rows, columns =transfer_table_column)\n",
        "  return transfer_table"
      ],
      "metadata": {
        "id": "-ywC9eDqKEBq"
      },
      "execution_count": 28,
      "outputs": []
    },
    {
      "cell_type": "markdown",
      "source": [
        "##Crawler header"
      ],
      "metadata": {
        "id": "N8QztcLuZnpr"
      }
    },
    {
      "cell_type": "code",
      "source": [
        "headers = {\n",
        "    'User-Agent': 'Mozilla/5.0 (Windows NT 10.0; Win64; x64) AppleWebKit/537.36 (HTML, like Gecko) Chrome/58.0.3029.110 Safari/537.36',\n",
        "    'Accept-Language' : 'en-US,en;q=0.9'\n",
        "}"
      ],
      "metadata": {
        "id": "g0Ibd79Hqkyg"
      },
      "execution_count": 31,
      "outputs": []
    },
    {
      "cell_type": "markdown",
      "source": [
        "## Player information"
      ],
      "metadata": {
        "id": "IvYcF2jHtLzf"
      }
    },
    {
      "cell_type": "code",
      "source": [
        "def player_info(page,link):\n",
        "  info = []\n",
        "  if player_position(page, link) == 'Goalkeeper':\n",
        "    info.append(player_id(link))\n",
        "    info.append(player_name(page, link))\n",
        "    info.append(date_of_birth(page, link))\n",
        "    info.append(player_height(page, link))\n",
        "    info.append(player_citizenship(page, link))\n",
        "    info.append(player_position(page, link))\n",
        "    info.append(player_foot(page, link))\n",
        "    info.append(current_club(page, link))\n",
        "    info.append(goals_scored(player_id(link)))\n",
        "    info.append(goals_assisted(player_id(link)))\n",
        "    info.append(goals_conceded(player_id(link)))\n",
        "    info.append(clean_sheets(player_id(link)))\n",
        "    info.append(total_appearance(player_id(link)))\n",
        "    info.append(player_agent(page, link))\n",
        "  \n",
        "  else: \n",
        "    info.append(player_id(link))\n",
        "    info.append(player_name(page, link))\n",
        "    info.append(date_of_birth(page, link))\n",
        "    info.append(player_height(page, link))\n",
        "    info.append(player_citizenship(page, link))\n",
        "    info.append(player_position(page, link))\n",
        "    info.append(player_foot(page, link))\n",
        "    info.append(current_club(page, link))\n",
        "    info.append(goals_scored(player_id(link)))\n",
        "    info.append(goals_assisted(player_id(link)))\n",
        "    info.append('nan')\n",
        "    info.append('nan')\n",
        "    info.append(total_appearance(player_id(link)))\n",
        "    info.append(player_agent(page, link))\n",
        "    \n",
        "  return info"
      ],
      "metadata": {
        "id": "MEMHAxJ21H81"
      },
      "execution_count": 29,
      "outputs": []
    },
    {
      "cell_type": "markdown",
      "source": [
        "###Creating tables related to players"
      ],
      "metadata": {
        "id": "uQgELewKaIQf"
      }
    },
    {
      "cell_type": "code",
      "source": [
        "# player table\n",
        "#player, transfer\n",
        "def find_player_info(link):\n",
        "  page = requests.get(link, headers=headers)\n",
        "  time.sleep(2)\n",
        "  page = BeautifulSoup(page.content, 'html.parser')\n",
        "  #print(page.prettify)\n",
        "  player = []\n",
        "  player_club = []\n",
        "  player_statistics= pd.DataFrame()\n",
        "  transfer = pd.DataFrame()\n",
        "\n",
        "  #player table\n",
        "  player = player_info(page, link)\n",
        "  \n",
        "  #transfer table\n",
        "  \n",
        "\n",
        "  return player, player_transfer_history_dataframe(page, link) , create_player_detial_dataframe(player_id(link))\n"
      ],
      "metadata": {
        "id": "22yreTHTtNj3"
      },
      "execution_count": 64,
      "outputs": []
    },
    {
      "cell_type": "markdown",
      "source": [
        "##The process of finding the link of the players' page"
      ],
      "metadata": {
        "id": "lAIEnoCOawG8"
      }
    },
    {
      "cell_type": "markdown",
      "source": [
        "###1.Finding leagues of each season"
      ],
      "metadata": {
        "id": "kZlD0r1gaphJ"
      }
    },
    {
      "cell_type": "code",
      "source": [
        "# finding leagues of each season\n",
        "def league_links (link):\n",
        "  page = requests.get(link, headers=headers)\n",
        "  page = BeautifulSoup(page.content, 'html.parser')\n",
        "  #page.prettify\n",
        "  leagues_link = []\n",
        "  leagues={'First Tier', 'Second Tier', 'Third Tier', 'Fourth Tier', 'Fifth Tier'}\n",
        "  tr_tags= page.find('table', class_= 'items').find('tbody').find_all('tr')\n",
        "  flag = 2\n",
        "  #for tr in tr_tags:\n",
        "\n",
        "  for i, tr in enumerate(tr_tags):  \n",
        "    #if i >1: \n",
        "      #break\n",
        "    if(tr.find('td',class_='extrarow bg_blau_20 hauptlink') and tr.find('td',class_='extrarow bg_blau_20 hauptlink').text not in leagues):\n",
        "      #print(tr.find('td',class_='extrarow bg_blau_20 hauptlink').text)\n",
        "      flag =0\n",
        "    elif (tr.find('td',class_='extrarow bg_blau_20 hauptlink') and tr.find('td',class_='extrarow bg_blau_20 hauptlink').text in leagues):\n",
        "      flag = 1\n",
        "    #if(tr.find('td', class_='hauptlink').find('tbody')):\n",
        "    if(flag):\n",
        "      try:\n",
        "        lg_link = tr.find('td', class_='hauptlink').find('a')['href']\n",
        "        #print(lg_link)\n",
        "        leagues_link.append('https://www.transfermarkt.com'+lg_link)\n",
        "      except:\n",
        "        continue\n",
        "  return leagues_link"
      ],
      "metadata": {
        "id": "VoIADfxmlze9"
      },
      "execution_count": 45,
      "outputs": []
    },
    {
      "cell_type": "markdown",
      "source": [
        "###2.Finding teams of each league"
      ],
      "metadata": {
        "id": "0S5FztpnbCAg"
      }
    },
    {
      "cell_type": "code",
      "source": [
        "#find teams of each league \n",
        "def team_links(link): #link of the league teams page\n",
        "  page = requests.get(link, headers=headers)\n",
        "  page = BeautifulSoup(page.content, 'html.parser')\n",
        "  try:\n",
        "    team_tag = page.find('table', class_='items').find('tbody').find_all('tr')\n",
        "  except:\n",
        "    print(link+ ' team table not found!')\n",
        "  team_link =[]\n",
        "  for i, tr in enumerate(team_tag):\n",
        "    #if i>2:\n",
        "     #break\n",
        "    try:\n",
        "      team_link.append('https://www.transfermarkt.com'+tr.find('td').find_next('td').find('a')['href'])\n",
        "    except:\n",
        "      print(link+ ' team link not found')\n",
        "      team_link.append(np.nan)\n",
        "  \n",
        "  return team_link"
      ],
      "metadata": {
        "id": "uDSd8m54H9Nk"
      },
      "execution_count": 47,
      "outputs": []
    },
    {
      "cell_type": "markdown",
      "source": [
        "###3.finding players of each team"
      ],
      "metadata": {
        "id": "Y4EvcIRHbLnz"
      }
    },
    {
      "cell_type": "code",
      "source": [
        "# find players link by team link\n",
        "def player_links(link): \n",
        "  page = requests.get(link, headers=headers)\n",
        "  time.sleep(2)\n",
        "  page = BeautifulSoup(page.content, 'html.parser')\n",
        "\n",
        "  players_link=[]\n",
        "  player_tag = page.find('table', class_='items').find('tbody').find_all('tr')\n",
        "  for tr in player_tag:\n",
        "    #if len(players_link)>9:\n",
        "      #break\n",
        "    try:\n",
        "      player_link= tr.find('table', class_='inline-table').find('td', class_='hauptlink').find('div', class_='di nowrap').find('a')['href']\n",
        "      players_link.append('https://www.transfermarkt.com'+ player_link)\n",
        "    except:\n",
        "      #print('player link not found')\n",
        "      continue\n",
        "    #print(player_name)\n",
        "  \n",
        "  return players_link\n"
      ],
      "metadata": {
        "id": "3AXc8XxgMvGU"
      },
      "execution_count": 49,
      "outputs": []
    },
    {
      "cell_type": "markdown",
      "source": [
        "##Crawling main code"
      ],
      "metadata": {
        "id": "XGI0q_8DbVK6"
      }
    },
    {
      "cell_type": "code",
      "source": [
        "country_season_link_format = 'https://www.transfermarkt.com/wettbewerbe/national/wettbewerbe/{}/saison_id/{}/plus/1'\n",
        "#country_id = {'189', '50', '157', '40', '75'} #England, France, Spain, Germany, Italy\n",
        "country_id = {'189'} #England, France\n",
        "season = {'2021'}\n",
        "\n",
        "#link variables\n",
        "all_season_leagues=[]\n",
        "all_league_teams={}\n",
        "all_team_players={}\n",
        "\n",
        "#test variables\n",
        "player_ids=[]\n",
        "player_count=0\n",
        "\n",
        "#final tables culomns & Each player's table\n",
        "player_table_culomns = ['player_id', 'name', 'birth_date', 'height', 'current_international', 'main_position', 'foot', 'current_club', 'goals_scored', 'goals_assisted', 'goals_conceded', 'clean_sheets', 'total_appearence', 'agent']\n",
        "transfer_table_culomns = ['player_id', 'Season', 'Date', 'Left', 'Joined', 'MV', 'Fee']\n",
        "\n",
        "player = pd.DataFrame(columns = player_table_culomns)\n",
        "transfer = pd.DataFrame(columns = transfer_table_culomns)\n",
        "\n",
        "#final tables (all datas from players)\n",
        "player_table = pd.DataFrame(columns = player_table_culomns)\n",
        "transfer_table = pd.DataFrame(columns = transfer_table_culomns)\n",
        "\n",
        "\n",
        "for c_id in tqdm(country_id, desc =\"countries\"):\n",
        "  \n",
        "  for i, s_id in enumerate(season):\n",
        "    link = country_season_link_format.format(c_id, s_id)\n",
        "    \n",
        "    all_season_leagues=(league_links(link))\n",
        "    print('----- leagues links',all_season_leagues)\n",
        "    \n",
        "    for league_link in tqdm(all_season_leagues, desc='leagues'):\n",
        "      #print(league_link)\n",
        "      all_league_teams=(team_links(league_link))\n",
        "      \n",
        "      for team_link in tqdm(all_league_teams, desc='teams'):  \n",
        "       \n",
        "        all_team_players=(player_links(team_link))\n",
        "        for player_link in (all_team_players):\n",
        "        \n",
        "          try:\n",
        "            if player_id(player_link) not in player_ids:\n",
        "              player_count+=1\n",
        "              #print ('new id added','   ',player_count,'  ', player_id(player_link))\n",
        "              player_ids.append(player_id(player_link))\n",
        "              player, transfer = find_player_info(player_link)\n",
        "              \n",
        "              player_table.loc[len(player_table.index)]= player\n",
        "              transfer_table = pd.concat([transfer_table, transfer], axis=0)\n",
        "            else:\n",
        "              print(player_link + ' duplicate id found and skiped')\n",
        "            continue\n",
        "          except:\n",
        "            print(player_link + ' something wrong and skiped')           \n",
        "            continue\n",
        "          \n",
        "\n",
        "\n",
        "player_table.to_csv('player_table.csv', encoding='utf-8')\n",
        "transfer_table.to_csv('trasnfer_table.csv', encoding='utf-8')\n",
        "#df.to_csv(file_name, sep='\\t', encoding='utf-8')\n"
      ],
      "metadata": {
        "id": "vxpzxgpniJ9L"
      },
      "execution_count": null,
      "outputs": []
    },
    {
      "cell_type": "markdown",
      "source": [
        "# Test area"
      ],
      "metadata": {
        "id": "hF0b2mtHxrka"
      }
    },
    {
      "cell_type": "code",
      "source": [
        "def test (id): # id is for returning an eeror \n",
        "  detail_page = detail_page_request(id)\n",
        "  detail_link_format = 'https://www.transfermarkt.com/ruben-dias/leistungsdatendetails/spieler/{}/saison//verein/0/liga/0/wettbewerb//pos/0/trainer_id/0/plus/1'\n",
        "  # find table in html\n",
        "  try:\n",
        "    table = detail_page.find('table', class_='items')\n",
        "  except:\n",
        "    print(detail_link_format.format(id)+\" detail table not found!\")\n",
        "\n",
        "  # find column names\n",
        "  column_values=['player_id']\n",
        "  try:\n",
        "    header = detail_page.find('table', class_='items').find('thead').find('tr').find_all('th')\n",
        "    for th in header:\n",
        "      if th['id'] == 'yw1_c2':\n",
        "        continue\n",
        "      try:\n",
        "        column_values.append(th.find('a').find('span')['title'])\n",
        "      except:\n",
        "        column_values.append(th.text)\n",
        "    #print(column_values)\n",
        "  except:\n",
        "    print(detail_link_format.format(id)+\" table column_value found!\")\n",
        "\n",
        "  # creat data frame \n",
        "  detail_table= pd.DataFrame(columns = column_values)\n",
        "\n",
        "  # find table rows and add to dataframe \n",
        "  try:\n",
        "    rows = detail_page.find('table', class_='items').find('tbody').find_all('tr')\n",
        "    for row in rows:\n",
        "      table_row = []\n",
        "      table_row.append(id)\n",
        "      for section in row.find_all('td'):\n",
        "        if section.text !='':\n",
        "          table_row.append(section.text)\n",
        "        else:\n",
        "          try:\n",
        "            table_row.append(section.a['title'])\n",
        "          except:\n",
        "            continue\n",
        "      detail_table.loc[len(detail_table.index)]= table_row  \n",
        "  except:\n",
        "    print(detail_link_format.format(id)+\" table row not found!\")\n",
        "\n",
        "  return detail_table"
      ],
      "metadata": {
        "id": "b81_gHjy0vHF"
      },
      "execution_count": 60,
      "outputs": []
    },
    {
      "cell_type": "code",
      "source": [
        "id = ['357885', '120629']\n",
        "table = pd.DataFrame()\n",
        "for i in id:\n",
        "  table = pd.concat([table, test(i)], axis=0)\n",
        "table.head\n",
        "table.to_csv('stat_test1.csv', encoding='utf-8')"
      ],
      "metadata": {
        "id": "LAYf53cFnMMG"
      },
      "execution_count": 61,
      "outputs": []
    },
    {
      "cell_type": "markdown",
      "source": [
        "## Creting Test .csv files "
      ],
      "metadata": {
        "id": "eTlA_fkhmllh"
      }
    },
    {
      "cell_type": "code",
      "source": [
        "# find the first two league of each season for test\n",
        "def first_two_league (link):\n",
        "  page = requests.get(link, headers=headers)\n",
        "  page = BeautifulSoup(page.content, 'html.parser')\n",
        "  #page.prettify\n",
        "  leagues_link = []\n",
        "  leagues={'First Tier', 'Second Tier', 'Third Tier', 'Fourth Tier', 'Fifth Tier'}\n",
        "  tr_tags= page.find('table', class_= 'items').find('tbody').find_all('tr')\n",
        "  flag = 2\n",
        "  #for tr in tr_tags:\n",
        "\n",
        "  for i, tr in enumerate(tr_tags):  \n",
        "    if i >1: \n",
        "      break\n",
        "    if(tr.find('td',class_='extrarow bg_blau_20 hauptlink') and tr.find('td',class_='extrarow bg_blau_20 hauptlink').text not in leagues):\n",
        "      #print(tr.find('td',class_='extrarow bg_blau_20 hauptlink').text)\n",
        "      flag =0\n",
        "    elif (tr.find('td',class_='extrarow bg_blau_20 hauptlink') and tr.find('td',class_='extrarow bg_blau_20 hauptlink').text in leagues):\n",
        "      flag = 1\n",
        "    #if(tr.find('td', class_='hauptlink').find('tbody')):\n",
        "    if(flag):\n",
        "      try:\n",
        "        lg_link = tr.find('td', class_='hauptlink').find('a')['href']\n",
        "        #print(lg_link)\n",
        "        leagues_link.append('https://www.transfermarkt.com'+lg_link)\n",
        "      except:\n",
        "        continue\n",
        "  return leagues_link"
      ],
      "metadata": {
        "id": "fnAooFxDnu_5"
      },
      "execution_count": 37,
      "outputs": []
    },
    {
      "cell_type": "code",
      "source": [
        "#find the first three team of each league for test\n",
        "def first_three_team(link): #link of the league teams page\n",
        "  page = requests.get(link, headers=headers)\n",
        "  page = BeautifulSoup(page.content, 'html.parser')\n",
        "  try:\n",
        "    team_tag = page.find('table', class_='items').find('tbody').find_all('tr')\n",
        "  except:\n",
        "    print(link+ ' team table not found!')\n",
        "  team_link =[]\n",
        "  for i, tr in enumerate(team_tag):\n",
        "    if i>2:\n",
        "      break\n",
        "\n",
        "    try:\n",
        "      team_link.append('https://www.transfermarkt.com'+tr.find('td').find_next('td').find('a')['href'])\n",
        "    except:\n",
        "      print(link+ ' team link not found')\n",
        "      team_link.append(np.nan)\n",
        "  \n",
        "  return team_link"
      ],
      "metadata": {
        "id": "lFMcilchnEE5"
      },
      "execution_count": 66,
      "outputs": []
    },
    {
      "cell_type": "code",
      "source": [
        "# find first 10 players link by team link\n",
        "def first_ten_players(link): \n",
        "  page = requests.get(link, headers=headers)\n",
        "  time.sleep(2)\n",
        "  page = BeautifulSoup(page.content, 'html.parser')\n",
        "\n",
        "  players_link=[]\n",
        "  player_tag = page.find('table', class_='items').find('tbody').find_all('tr')\n",
        "  for tr in player_tag:\n",
        "    if len(players_link)>9:\n",
        "      break\n",
        "    try:\n",
        "      player_link= tr.find('table', class_='inline-table').find('td', class_='hauptlink').find('div', class_='di nowrap').find('a')['href']\n",
        "      players_link.append('https://www.transfermarkt.com'+ player_link)\n",
        "    except:\n",
        "      #print('player link not found')\n",
        "      continue\n",
        "    #print(player_name)\n",
        "  \n",
        "  return players_link\n"
      ],
      "metadata": {
        "id": "OPktOnztsOeu"
      },
      "execution_count": 67,
      "outputs": []
    },
    {
      "cell_type": "code",
      "source": [
        "country_season_link_format = 'https://www.transfermarkt.com/wettbewerbe/national/wettbewerbe/{}/saison_id/{}/plus/1'\n",
        "#country_id = {'189', '50', '157', '40', '75'} #England, France, Spain, Germany, Italy\n",
        "country_id = {'189'} #England, France\n",
        "season = {'2021'}\n",
        "\n",
        "#link variables\n",
        "all_season_leagues=[]\n",
        "all_league_teams={}\n",
        "all_team_players={}\n",
        "\n",
        "#test variables\n",
        "player_ids=[]\n",
        "player_count=0\n",
        "\n",
        "#final tables culomns & Each player's table\n",
        "player_table_culomns = ['player_id', 'name', 'birth_date', 'height', 'current_international', 'main_position', 'foot', 'current_club', 'goals_scored', 'goals_assisted', 'goals_conceded', 'clean_sheets', 'total_appearence', 'agent']\n",
        "transfer_table_culomns = ['player_id', 'Season', 'Date', 'Left', 'Joined', 'MV', 'Fee']\n",
        "\n",
        "player = pd.DataFrame(columns = player_table_culomns)\n",
        "transfer = pd.DataFrame(columns = transfer_table_culomns)\n",
        "statistics = pd.DataFrame()\n",
        "\n",
        "#final tables (all datas from players)\n",
        "player_table = pd.DataFrame(columns = player_table_culomns)\n",
        "transfer_table = pd.DataFrame(columns = transfer_table_culomns)\n",
        "statistics_table= pd.DataFrame()\n",
        "\n",
        "\n",
        "for c_id in tqdm(country_id, desc =\"countries\"):\n",
        "  \n",
        "  for i, s_id in enumerate(season):\n",
        "    link = country_season_link_format.format(c_id, s_id)\n",
        "    \n",
        "    all_season_leagues=(first_two_league(link))\n",
        "    print('----- leagues links',all_season_leagues)\n",
        "    \n",
        "    for league_link in tqdm(all_season_leagues, desc='leagues'):\n",
        "      #print(league_link)\n",
        "      all_league_teams=(first_three_team(league_link))\n",
        "      #print('-------- leage teams',all_league_teams)\n",
        "      #for team_link in tnrange(all_league_teams, desc =\"teams\"):\n",
        "      for team_link in tqdm(all_league_teams, desc='teams'):  \n",
        "       \n",
        "        all_team_players=(first_ten_players(team_link))\n",
        "        for player_link in (all_team_players):\n",
        "          #print('player info: find_player_info')\n",
        "          #print(player_link)\n",
        "          #print(find_player_info(player_link))\n",
        "          try:\n",
        "            if player_id(player_link) not in player_ids:\n",
        "              player_count+=1\n",
        "              #print ('new id added','   ',player_count,'  ', player_id(player_link))\n",
        "              player_ids.append(player_id(player_link))\n",
        "              player, transfer, statistics = find_player_info(player_link)\n",
        "              \n",
        "              player_table.loc[len(player_table.index)]= player\n",
        "              transfer_table = pd.concat([transfer_table, transfer], axis=0)\n",
        "              statistics_table = pd.concat([statistics_table, statistics], axis=0)\n",
        "            else:\n",
        "              print(player_link + ' duplicate id found and skiped')\n",
        "            continue\n",
        "          except:\n",
        "            print(player_link + ' something wrong and skiped')           \n",
        "            continue\n",
        "          \n",
        "\n",
        "\n",
        "player_table.to_csv('test_player_table.csv', encoding='utf-8')\n",
        "transfer_table.to_csv('test_trasnfer_table.csv', encoding='utf-8')\n",
        "statistics_table.to_csv('test_statistics_table.csv', encoding='utf-8')\n",
        "#df.to_csv(file_name, sep='\\t', encoding='utf-8')\n",
        "\n",
        "    \n"
      ],
      "metadata": {
        "id": "C_jwkujqpM4h"
      },
      "execution_count": null,
      "outputs": []
    },
    {
      "cell_type": "markdown",
      "source": [
        "## test area for test tables"
      ],
      "metadata": {
        "id": "Pim1x5HnCAUW"
      }
    },
    {
      "cell_type": "code",
      "source": [
        "links= ['https://www.transfermarkt.com/manuel-neuer/profil/spieler/17259', 'https://www.transfermarkt.com/david-alaba/profil/spieler/59016','https://www.transfermarkt.com/jerome-boateng/profil/spieler/26485']\n",
        "\n",
        "#final tables culomns & Each player's table\n",
        "player_table_culomns = ['player_id', 'name', 'birth_date', 'height', 'current_international', 'main_position', 'foot', 'current_club', 'goals_scored', 'goals_assisted', 'goals_conceded', 'clean_sheets', 'total_appearence', 'agent']\n",
        "transfer_table_culomns = ['player_id','season', 'date', 'left', 'joined', 'MV', 'Fee']\n",
        "\n",
        "player = pd.DataFrame(columns = player_table_culomns)\n",
        "transfer = pd.DataFrame()\n",
        "\n",
        "#test variables\n",
        "player_ids=[]\n",
        "player_count=0\n",
        "\n",
        "#final tables (all datas from players)\n",
        "player_table = pd.DataFrame(columns = player_table_culomns)\n",
        "transfer_table = pd.DataFrame(columns = transfer_table_culomns)\n",
        "\n",
        "\n",
        "all_league_teams= ['https://www.transfermarkt.com/manchester-city/startseite/verein/281/saison_id/2019','https://www.transfermarkt.com/fc-watford/startseite/verein/1010/saison_id/2019','https://www.transfermarkt.com/norwich-city/startseite/verein/1123/saison_id/2019']\n",
        "#print('player info list ',player)\n",
        "#print('transfer dataframe ', transfer)\n",
        "for team_link in tqdm(all_league_teams, desc='teams'):       \n",
        "  all_team_players=(first_ten_players(team_link))\n",
        "  for player_link in tqdm(all_team_players):\n",
        "    page = requests.get(player_link, headers=headers)\n",
        "    page = BeautifulSoup(page.content, 'html.parser')\n",
        "\n",
        "    try:\n",
        "        if player_id(player_link) not in player_ids:\n",
        "            player_count+=1\n",
        "            #print ('new id added','   ',player_count,'  ', player_id(player_link))\n",
        "            player_ids.append(player_id(player_link))\n",
        "            player, transfer = find_player_info(player_link)\n",
        "        else:\n",
        "          print(player_link + ' duplicate id found and skiped')\n",
        "          continue\n",
        "    except:\n",
        "      print(player_link + ' something wrong and skiped')           \n",
        "      continue\n",
        "    player_table.loc[len(player_table.index)]= player\n",
        "    transfer_table = pd.concat([transfer_table, transfer], axis=0)\n",
        "  #transfer_table = pd.concat([transfer_table, transfer], axis=0)\n",
        "\n",
        "print(player_table)\n",
        "player_table.to_csv('only for test2.csv', encoding='utf-8')\n",
        "#print(transfer_table)"
      ],
      "metadata": {
        "id": "gJKEBc5d6tEj"
      },
      "execution_count": null,
      "outputs": []
    }
  ]
}
