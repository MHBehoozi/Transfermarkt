{
  "cells": [
    {
      "cell_type": "markdown",
      "metadata": {
        "id": "f0xffZPIAOpu"
      },
      "source": [
        "# Import libraries"
      ]
    },
    {
      "cell_type": "code",
      "execution_count": null,
      "metadata": {
        "id": "S7ey5wl1AOpw"
      },
      "outputs": [],
      "source": [
        "import pandas as pd\n",
        "import numpy as np\n",
        "from bs4 import BeautifulSoup\n",
        "import requests\n",
        "from sqlalchemy.engine import url\n",
        "import glob\n",
        "from sqlalchemy import create_engine\n",
        "from sqlalchemy import text\n",
        "from urllib.parse import quote_plus\n",
        "import pandas as pd \n",
        "import numpy as np\n",
        "from datetime import datetime"
      ]
    },
    {
      "cell_type": "markdown",
      "metadata": {
        "id": "QTQUP4qvAOpw"
      },
      "source": [
        "# Data Cleaning"
      ]
    },
    {
      "cell_type": "code",
      "execution_count": null,
      "metadata": {
        "id": "v0rtfZAhAOpx"
      },
      "outputs": [],
      "source": [
        "cup_winners=pd.read_csv('cup_winners.csv') "
      ]
    },
    {
      "cell_type": "code",
      "execution_count": null,
      "metadata": {
        "id": "tBsFCmAXAOpx"
      },
      "outputs": [],
      "source": [
        "cup_winners=cup_winners[cup_winners['win_year_to']==2022]"
      ]
    },
    {
      "cell_type": "code",
      "execution_count": null,
      "metadata": {
        "colab": {
          "base_uri": "https://localhost:8080/"
        },
        "id": "_nR_7tOYAOpx",
        "outputId": "8d58087b-a056-4791-c474-7abb71a78c01"
      },
      "outputs": [
        {
          "output_type": "execute_result",
          "data": {
            "text/plain": [
              "(25, 6)"
            ]
          },
          "metadata": {},
          "execution_count": 6
        }
      ],
      "source": [
        "cup_winners.shape"
      ]
    },
    {
      "cell_type": "code",
      "execution_count": null,
      "metadata": {
        "colab": {
          "base_uri": "https://localhost:8080/",
          "height": 423
        },
        "id": "oVAEYg9jAOpy",
        "outputId": "a957ecab-a45b-48e2-ec55-d85130ab651f"
      },
      "outputs": [
        {
          "output_type": "execute_result",
          "data": {
            "text/plain": [
              "      nation  club_id               club_name                   cup_name  \\\n",
              "0    England      281         Manchester City           English Champion   \n",
              "1    England      281         Manchester City           English Champion   \n",
              "2    England      281         Manchester City           English Champion   \n",
              "3    England      281         Manchester City           English Champion   \n",
              "4    England      281         Manchester City              FA Cup Winner   \n",
              "..       ...      ...                     ...                        ...   \n",
              "161    Spain      368              Sevilla FC       Europa League Winner   \n",
              "162    Spain      331              CA Osasuna  Spanish 2nd tier champion   \n",
              "163    Spain      714  RCD Espanyol Barcelona  Spanish 2nd tier champion   \n",
              "164    Spain      367          Rayo Vallecano  Spanish 2nd tier champion   \n",
              "165    Spain     3302              UD Almería  Spanish 2nd tier champion   \n",
              "\n",
              "     win_year_from  win_year_to  \n",
              "0             2021         2022  \n",
              "1             2020         2021  \n",
              "2             2018         2019  \n",
              "3             2017         2018  \n",
              "4             2018         2019  \n",
              "..             ...          ...  \n",
              "161           2015         2016  \n",
              "162           2018         2019  \n",
              "163           2020         2021  \n",
              "164           2017         2018  \n",
              "165           2021         2022  \n",
              "\n",
              "[166 rows x 6 columns]"
            ],
            "text/html": [
              "\n",
              "  <div id=\"df-0ea414fe-6eb7-4266-8eb7-636246c7ac44\">\n",
              "    <div class=\"colab-df-container\">\n",
              "      <div>\n",
              "<style scoped>\n",
              "    .dataframe tbody tr th:only-of-type {\n",
              "        vertical-align: middle;\n",
              "    }\n",
              "\n",
              "    .dataframe tbody tr th {\n",
              "        vertical-align: top;\n",
              "    }\n",
              "\n",
              "    .dataframe thead th {\n",
              "        text-align: right;\n",
              "    }\n",
              "</style>\n",
              "<table border=\"1\" class=\"dataframe\">\n",
              "  <thead>\n",
              "    <tr style=\"text-align: right;\">\n",
              "      <th></th>\n",
              "      <th>nation</th>\n",
              "      <th>club_id</th>\n",
              "      <th>club_name</th>\n",
              "      <th>cup_name</th>\n",
              "      <th>win_year_from</th>\n",
              "      <th>win_year_to</th>\n",
              "    </tr>\n",
              "  </thead>\n",
              "  <tbody>\n",
              "    <tr>\n",
              "      <th>0</th>\n",
              "      <td>England</td>\n",
              "      <td>281</td>\n",
              "      <td>Manchester City</td>\n",
              "      <td>English Champion</td>\n",
              "      <td>2021</td>\n",
              "      <td>2022</td>\n",
              "    </tr>\n",
              "    <tr>\n",
              "      <th>1</th>\n",
              "      <td>England</td>\n",
              "      <td>281</td>\n",
              "      <td>Manchester City</td>\n",
              "      <td>English Champion</td>\n",
              "      <td>2020</td>\n",
              "      <td>2021</td>\n",
              "    </tr>\n",
              "    <tr>\n",
              "      <th>2</th>\n",
              "      <td>England</td>\n",
              "      <td>281</td>\n",
              "      <td>Manchester City</td>\n",
              "      <td>English Champion</td>\n",
              "      <td>2018</td>\n",
              "      <td>2019</td>\n",
              "    </tr>\n",
              "    <tr>\n",
              "      <th>3</th>\n",
              "      <td>England</td>\n",
              "      <td>281</td>\n",
              "      <td>Manchester City</td>\n",
              "      <td>English Champion</td>\n",
              "      <td>2017</td>\n",
              "      <td>2018</td>\n",
              "    </tr>\n",
              "    <tr>\n",
              "      <th>4</th>\n",
              "      <td>England</td>\n",
              "      <td>281</td>\n",
              "      <td>Manchester City</td>\n",
              "      <td>FA Cup Winner</td>\n",
              "      <td>2018</td>\n",
              "      <td>2019</td>\n",
              "    </tr>\n",
              "    <tr>\n",
              "      <th>...</th>\n",
              "      <td>...</td>\n",
              "      <td>...</td>\n",
              "      <td>...</td>\n",
              "      <td>...</td>\n",
              "      <td>...</td>\n",
              "      <td>...</td>\n",
              "    </tr>\n",
              "    <tr>\n",
              "      <th>161</th>\n",
              "      <td>Spain</td>\n",
              "      <td>368</td>\n",
              "      <td>Sevilla FC</td>\n",
              "      <td>Europa League Winner</td>\n",
              "      <td>2015</td>\n",
              "      <td>2016</td>\n",
              "    </tr>\n",
              "    <tr>\n",
              "      <th>162</th>\n",
              "      <td>Spain</td>\n",
              "      <td>331</td>\n",
              "      <td>CA Osasuna</td>\n",
              "      <td>Spanish 2nd tier champion</td>\n",
              "      <td>2018</td>\n",
              "      <td>2019</td>\n",
              "    </tr>\n",
              "    <tr>\n",
              "      <th>163</th>\n",
              "      <td>Spain</td>\n",
              "      <td>714</td>\n",
              "      <td>RCD Espanyol Barcelona</td>\n",
              "      <td>Spanish 2nd tier champion</td>\n",
              "      <td>2020</td>\n",
              "      <td>2021</td>\n",
              "    </tr>\n",
              "    <tr>\n",
              "      <th>164</th>\n",
              "      <td>Spain</td>\n",
              "      <td>367</td>\n",
              "      <td>Rayo Vallecano</td>\n",
              "      <td>Spanish 2nd tier champion</td>\n",
              "      <td>2017</td>\n",
              "      <td>2018</td>\n",
              "    </tr>\n",
              "    <tr>\n",
              "      <th>165</th>\n",
              "      <td>Spain</td>\n",
              "      <td>3302</td>\n",
              "      <td>UD Almería</td>\n",
              "      <td>Spanish 2nd tier champion</td>\n",
              "      <td>2021</td>\n",
              "      <td>2022</td>\n",
              "    </tr>\n",
              "  </tbody>\n",
              "</table>\n",
              "<p>166 rows × 6 columns</p>\n",
              "</div>\n",
              "      <button class=\"colab-df-convert\" onclick=\"convertToInteractive('df-0ea414fe-6eb7-4266-8eb7-636246c7ac44')\"\n",
              "              title=\"Convert this dataframe to an interactive table.\"\n",
              "              style=\"display:none;\">\n",
              "        \n",
              "  <svg xmlns=\"http://www.w3.org/2000/svg\" height=\"24px\"viewBox=\"0 0 24 24\"\n",
              "       width=\"24px\">\n",
              "    <path d=\"M0 0h24v24H0V0z\" fill=\"none\"/>\n",
              "    <path d=\"M18.56 5.44l.94 2.06.94-2.06 2.06-.94-2.06-.94-.94-2.06-.94 2.06-2.06.94zm-11 1L8.5 8.5l.94-2.06 2.06-.94-2.06-.94L8.5 2.5l-.94 2.06-2.06.94zm10 10l.94 2.06.94-2.06 2.06-.94-2.06-.94-.94-2.06-.94 2.06-2.06.94z\"/><path d=\"M17.41 7.96l-1.37-1.37c-.4-.4-.92-.59-1.43-.59-.52 0-1.04.2-1.43.59L10.3 9.45l-7.72 7.72c-.78.78-.78 2.05 0 2.83L4 21.41c.39.39.9.59 1.41.59.51 0 1.02-.2 1.41-.59l7.78-7.78 2.81-2.81c.8-.78.8-2.07 0-2.86zM5.41 20L4 18.59l7.72-7.72 1.47 1.35L5.41 20z\"/>\n",
              "  </svg>\n",
              "      </button>\n",
              "      \n",
              "  <style>\n",
              "    .colab-df-container {\n",
              "      display:flex;\n",
              "      flex-wrap:wrap;\n",
              "      gap: 12px;\n",
              "    }\n",
              "\n",
              "    .colab-df-convert {\n",
              "      background-color: #E8F0FE;\n",
              "      border: none;\n",
              "      border-radius: 50%;\n",
              "      cursor: pointer;\n",
              "      display: none;\n",
              "      fill: #1967D2;\n",
              "      height: 32px;\n",
              "      padding: 0 0 0 0;\n",
              "      width: 32px;\n",
              "    }\n",
              "\n",
              "    .colab-df-convert:hover {\n",
              "      background-color: #E2EBFA;\n",
              "      box-shadow: 0px 1px 2px rgba(60, 64, 67, 0.3), 0px 1px 3px 1px rgba(60, 64, 67, 0.15);\n",
              "      fill: #174EA6;\n",
              "    }\n",
              "\n",
              "    [theme=dark] .colab-df-convert {\n",
              "      background-color: #3B4455;\n",
              "      fill: #D2E3FC;\n",
              "    }\n",
              "\n",
              "    [theme=dark] .colab-df-convert:hover {\n",
              "      background-color: #434B5C;\n",
              "      box-shadow: 0px 1px 3px 1px rgba(0, 0, 0, 0.15);\n",
              "      filter: drop-shadow(0px 1px 2px rgba(0, 0, 0, 0.3));\n",
              "      fill: #FFFFFF;\n",
              "    }\n",
              "  </style>\n",
              "\n",
              "      <script>\n",
              "        const buttonEl =\n",
              "          document.querySelector('#df-0ea414fe-6eb7-4266-8eb7-636246c7ac44 button.colab-df-convert');\n",
              "        buttonEl.style.display =\n",
              "          google.colab.kernel.accessAllowed ? 'block' : 'none';\n",
              "\n",
              "        async function convertToInteractive(key) {\n",
              "          const element = document.querySelector('#df-0ea414fe-6eb7-4266-8eb7-636246c7ac44');\n",
              "          const dataTable =\n",
              "            await google.colab.kernel.invokeFunction('convertToInteractive',\n",
              "                                                     [key], {});\n",
              "          if (!dataTable) return;\n",
              "\n",
              "          const docLinkHtml = 'Like what you see? Visit the ' +\n",
              "            '<a target=\"_blank\" href=https://colab.research.google.com/notebooks/data_table.ipynb>data table notebook</a>'\n",
              "            + ' to learn more about interactive tables.';\n",
              "          element.innerHTML = '';\n",
              "          dataTable['output_type'] = 'display_data';\n",
              "          await google.colab.output.renderOutput(dataTable, element);\n",
              "          const docLink = document.createElement('div');\n",
              "          docLink.innerHTML = docLinkHtml;\n",
              "          element.appendChild(docLink);\n",
              "        }\n",
              "      </script>\n",
              "    </div>\n",
              "  </div>\n",
              "  "
            ]
          },
          "metadata": {},
          "execution_count": 7
        }
      ],
      "source": [
        "cup_winners_selected=pd.read_csv('cup_winners_selected.csv')\n",
        "cup_winners_selected"
      ]
    },
    {
      "cell_type": "code",
      "execution_count": null,
      "metadata": {
        "colab": {
          "base_uri": "https://localhost:8080/"
        },
        "id": "jlkWiuxfAOpy",
        "outputId": "1cbc91dd-26ca-4289-842c-a2bf6fba92b7"
      },
      "outputs": [
        {
          "output_type": "execute_result",
          "data": {
            "text/plain": [
              "49"
            ]
          },
          "metadata": {},
          "execution_count": 8
        }
      ],
      "source": [
        "len(cup_winners_selected['club_id'].unique())"
      ]
    },
    {
      "cell_type": "code",
      "execution_count": null,
      "metadata": {
        "id": "uBExHmCXAOpy"
      },
      "outputs": [],
      "source": [
        "cup_name=cup_winners_selected['cup_name'].unique()\n",
        "awards_id=[]\n",
        "awards=[]"
      ]
    },
    {
      "cell_type": "code",
      "execution_count": null,
      "metadata": {
        "id": "GrVd6yVZAOpy"
      },
      "outputs": [],
      "source": [
        "for i in range(len(cup_name)):\n",
        "    award=cup_name[i]\n",
        "    award_id='A-'+ str(i+1)\n",
        "    awards_id.append(award_id)\n",
        "    awards.append(award)"
      ]
    },
    {
      "cell_type": "code",
      "execution_count": null,
      "metadata": {
        "colab": {
          "base_uri": "https://localhost:8080/",
          "height": 958
        },
        "id": "-plv5FySAOpz",
        "outputId": "7566501a-c82d-4d18-f85d-e9f1bde3d853"
      },
      "outputs": [
        {
          "output_type": "execute_result",
          "data": {
            "text/plain": [
              "   award_id                       cup_name\n",
              "0       A-1               English Champion\n",
              "1       A-2                  FA Cup Winner\n",
              "2       A-3      English League Cup winner\n",
              "3       A-4        English Supercup Winner\n",
              "4       A-5        Champions League Winner\n",
              "5       A-6     FIFA Club World Cup winner\n",
              "6       A-7           UEFA Supercup Winner\n",
              "7       A-8           Europa League Winner\n",
              "8       A-9      English 2nd tier champion\n",
              "9      A-10                German Champion\n",
              "10     A-11             German Cup winner \n",
              "11     A-12        German Super Cup Winner\n",
              "12     A-13  German 2. Bundesliga Champion\n",
              "13     A-14             Italian Cup winner\n",
              "14     A-15               Italian Champion\n",
              "15     A-16       Italian Super Cup winner\n",
              "16     A-17       Conference League winner\n",
              "17     A-18  Italian Lega Pro Champion (A)\n",
              "18     A-19               Scudetto Serie D\n",
              "19     A-20       Italian Serie B champion\n",
              "20     A-21  Italian Lega Pro Champion (C)\n",
              "21     A-22                French Champion\n",
              "22     A-23             French Cup winner \n",
              "23     A-24       French league cup winner\n",
              "24     A-25         French Supercup Winner\n",
              "25     A-26               Spanish Champion\n",
              "26     A-27       Spanish Super Cup winner\n",
              "27     A-28            Spanish Cup winner \n",
              "28     A-29      Spanish 2nd tier champion"
            ],
            "text/html": [
              "\n",
              "  <div id=\"df-e9a96c3c-2d5a-4991-affb-6fbcc4afcd4c\">\n",
              "    <div class=\"colab-df-container\">\n",
              "      <div>\n",
              "<style scoped>\n",
              "    .dataframe tbody tr th:only-of-type {\n",
              "        vertical-align: middle;\n",
              "    }\n",
              "\n",
              "    .dataframe tbody tr th {\n",
              "        vertical-align: top;\n",
              "    }\n",
              "\n",
              "    .dataframe thead th {\n",
              "        text-align: right;\n",
              "    }\n",
              "</style>\n",
              "<table border=\"1\" class=\"dataframe\">\n",
              "  <thead>\n",
              "    <tr style=\"text-align: right;\">\n",
              "      <th></th>\n",
              "      <th>award_id</th>\n",
              "      <th>cup_name</th>\n",
              "    </tr>\n",
              "  </thead>\n",
              "  <tbody>\n",
              "    <tr>\n",
              "      <th>0</th>\n",
              "      <td>A-1</td>\n",
              "      <td>English Champion</td>\n",
              "    </tr>\n",
              "    <tr>\n",
              "      <th>1</th>\n",
              "      <td>A-2</td>\n",
              "      <td>FA Cup Winner</td>\n",
              "    </tr>\n",
              "    <tr>\n",
              "      <th>2</th>\n",
              "      <td>A-3</td>\n",
              "      <td>English League Cup winner</td>\n",
              "    </tr>\n",
              "    <tr>\n",
              "      <th>3</th>\n",
              "      <td>A-4</td>\n",
              "      <td>English Supercup Winner</td>\n",
              "    </tr>\n",
              "    <tr>\n",
              "      <th>4</th>\n",
              "      <td>A-5</td>\n",
              "      <td>Champions League Winner</td>\n",
              "    </tr>\n",
              "    <tr>\n",
              "      <th>5</th>\n",
              "      <td>A-6</td>\n",
              "      <td>FIFA Club World Cup winner</td>\n",
              "    </tr>\n",
              "    <tr>\n",
              "      <th>6</th>\n",
              "      <td>A-7</td>\n",
              "      <td>UEFA Supercup Winner</td>\n",
              "    </tr>\n",
              "    <tr>\n",
              "      <th>7</th>\n",
              "      <td>A-8</td>\n",
              "      <td>Europa League Winner</td>\n",
              "    </tr>\n",
              "    <tr>\n",
              "      <th>8</th>\n",
              "      <td>A-9</td>\n",
              "      <td>English 2nd tier champion</td>\n",
              "    </tr>\n",
              "    <tr>\n",
              "      <th>9</th>\n",
              "      <td>A-10</td>\n",
              "      <td>German Champion</td>\n",
              "    </tr>\n",
              "    <tr>\n",
              "      <th>10</th>\n",
              "      <td>A-11</td>\n",
              "      <td>German Cup winner</td>\n",
              "    </tr>\n",
              "    <tr>\n",
              "      <th>11</th>\n",
              "      <td>A-12</td>\n",
              "      <td>German Super Cup Winner</td>\n",
              "    </tr>\n",
              "    <tr>\n",
              "      <th>12</th>\n",
              "      <td>A-13</td>\n",
              "      <td>German 2. Bundesliga Champion</td>\n",
              "    </tr>\n",
              "    <tr>\n",
              "      <th>13</th>\n",
              "      <td>A-14</td>\n",
              "      <td>Italian Cup winner</td>\n",
              "    </tr>\n",
              "    <tr>\n",
              "      <th>14</th>\n",
              "      <td>A-15</td>\n",
              "      <td>Italian Champion</td>\n",
              "    </tr>\n",
              "    <tr>\n",
              "      <th>15</th>\n",
              "      <td>A-16</td>\n",
              "      <td>Italian Super Cup winner</td>\n",
              "    </tr>\n",
              "    <tr>\n",
              "      <th>16</th>\n",
              "      <td>A-17</td>\n",
              "      <td>Conference League winner</td>\n",
              "    </tr>\n",
              "    <tr>\n",
              "      <th>17</th>\n",
              "      <td>A-18</td>\n",
              "      <td>Italian Lega Pro Champion (A)</td>\n",
              "    </tr>\n",
              "    <tr>\n",
              "      <th>18</th>\n",
              "      <td>A-19</td>\n",
              "      <td>Scudetto Serie D</td>\n",
              "    </tr>\n",
              "    <tr>\n",
              "      <th>19</th>\n",
              "      <td>A-20</td>\n",
              "      <td>Italian Serie B champion</td>\n",
              "    </tr>\n",
              "    <tr>\n",
              "      <th>20</th>\n",
              "      <td>A-21</td>\n",
              "      <td>Italian Lega Pro Champion (C)</td>\n",
              "    </tr>\n",
              "    <tr>\n",
              "      <th>21</th>\n",
              "      <td>A-22</td>\n",
              "      <td>French Champion</td>\n",
              "    </tr>\n",
              "    <tr>\n",
              "      <th>22</th>\n",
              "      <td>A-23</td>\n",
              "      <td>French Cup winner</td>\n",
              "    </tr>\n",
              "    <tr>\n",
              "      <th>23</th>\n",
              "      <td>A-24</td>\n",
              "      <td>French league cup winner</td>\n",
              "    </tr>\n",
              "    <tr>\n",
              "      <th>24</th>\n",
              "      <td>A-25</td>\n",
              "      <td>French Supercup Winner</td>\n",
              "    </tr>\n",
              "    <tr>\n",
              "      <th>25</th>\n",
              "      <td>A-26</td>\n",
              "      <td>Spanish Champion</td>\n",
              "    </tr>\n",
              "    <tr>\n",
              "      <th>26</th>\n",
              "      <td>A-27</td>\n",
              "      <td>Spanish Super Cup winner</td>\n",
              "    </tr>\n",
              "    <tr>\n",
              "      <th>27</th>\n",
              "      <td>A-28</td>\n",
              "      <td>Spanish Cup winner</td>\n",
              "    </tr>\n",
              "    <tr>\n",
              "      <th>28</th>\n",
              "      <td>A-29</td>\n",
              "      <td>Spanish 2nd tier champion</td>\n",
              "    </tr>\n",
              "  </tbody>\n",
              "</table>\n",
              "</div>\n",
              "      <button class=\"colab-df-convert\" onclick=\"convertToInteractive('df-e9a96c3c-2d5a-4991-affb-6fbcc4afcd4c')\"\n",
              "              title=\"Convert this dataframe to an interactive table.\"\n",
              "              style=\"display:none;\">\n",
              "        \n",
              "  <svg xmlns=\"http://www.w3.org/2000/svg\" height=\"24px\"viewBox=\"0 0 24 24\"\n",
              "       width=\"24px\">\n",
              "    <path d=\"M0 0h24v24H0V0z\" fill=\"none\"/>\n",
              "    <path d=\"M18.56 5.44l.94 2.06.94-2.06 2.06-.94-2.06-.94-.94-2.06-.94 2.06-2.06.94zm-11 1L8.5 8.5l.94-2.06 2.06-.94-2.06-.94L8.5 2.5l-.94 2.06-2.06.94zm10 10l.94 2.06.94-2.06 2.06-.94-2.06-.94-.94-2.06-.94 2.06-2.06.94z\"/><path d=\"M17.41 7.96l-1.37-1.37c-.4-.4-.92-.59-1.43-.59-.52 0-1.04.2-1.43.59L10.3 9.45l-7.72 7.72c-.78.78-.78 2.05 0 2.83L4 21.41c.39.39.9.59 1.41.59.51 0 1.02-.2 1.41-.59l7.78-7.78 2.81-2.81c.8-.78.8-2.07 0-2.86zM5.41 20L4 18.59l7.72-7.72 1.47 1.35L5.41 20z\"/>\n",
              "  </svg>\n",
              "      </button>\n",
              "      \n",
              "  <style>\n",
              "    .colab-df-container {\n",
              "      display:flex;\n",
              "      flex-wrap:wrap;\n",
              "      gap: 12px;\n",
              "    }\n",
              "\n",
              "    .colab-df-convert {\n",
              "      background-color: #E8F0FE;\n",
              "      border: none;\n",
              "      border-radius: 50%;\n",
              "      cursor: pointer;\n",
              "      display: none;\n",
              "      fill: #1967D2;\n",
              "      height: 32px;\n",
              "      padding: 0 0 0 0;\n",
              "      width: 32px;\n",
              "    }\n",
              "\n",
              "    .colab-df-convert:hover {\n",
              "      background-color: #E2EBFA;\n",
              "      box-shadow: 0px 1px 2px rgba(60, 64, 67, 0.3), 0px 1px 3px 1px rgba(60, 64, 67, 0.15);\n",
              "      fill: #174EA6;\n",
              "    }\n",
              "\n",
              "    [theme=dark] .colab-df-convert {\n",
              "      background-color: #3B4455;\n",
              "      fill: #D2E3FC;\n",
              "    }\n",
              "\n",
              "    [theme=dark] .colab-df-convert:hover {\n",
              "      background-color: #434B5C;\n",
              "      box-shadow: 0px 1px 3px 1px rgba(0, 0, 0, 0.15);\n",
              "      filter: drop-shadow(0px 1px 2px rgba(0, 0, 0, 0.3));\n",
              "      fill: #FFFFFF;\n",
              "    }\n",
              "  </style>\n",
              "\n",
              "      <script>\n",
              "        const buttonEl =\n",
              "          document.querySelector('#df-e9a96c3c-2d5a-4991-affb-6fbcc4afcd4c button.colab-df-convert');\n",
              "        buttonEl.style.display =\n",
              "          google.colab.kernel.accessAllowed ? 'block' : 'none';\n",
              "\n",
              "        async function convertToInteractive(key) {\n",
              "          const element = document.querySelector('#df-e9a96c3c-2d5a-4991-affb-6fbcc4afcd4c');\n",
              "          const dataTable =\n",
              "            await google.colab.kernel.invokeFunction('convertToInteractive',\n",
              "                                                     [key], {});\n",
              "          if (!dataTable) return;\n",
              "\n",
              "          const docLinkHtml = 'Like what you see? Visit the ' +\n",
              "            '<a target=\"_blank\" href=https://colab.research.google.com/notebooks/data_table.ipynb>data table notebook</a>'\n",
              "            + ' to learn more about interactive tables.';\n",
              "          element.innerHTML = '';\n",
              "          dataTable['output_type'] = 'display_data';\n",
              "          await google.colab.output.renderOutput(dataTable, element);\n",
              "          const docLink = document.createElement('div');\n",
              "          docLink.innerHTML = docLinkHtml;\n",
              "          element.appendChild(docLink);\n",
              "        }\n",
              "      </script>\n",
              "    </div>\n",
              "  </div>\n",
              "  "
            ]
          },
          "metadata": {},
          "execution_count": 11
        }
      ],
      "source": [
        "dic={}\n",
        "dic['award_id']=awards_id\n",
        "dic['cup_name']=awards\n",
        "df=pd.DataFrame(data=dic)\n",
        "df"
      ]
    },
    {
      "cell_type": "code",
      "execution_count": null,
      "metadata": {
        "id": "kc24Ls2MAOpz"
      },
      "outputs": [],
      "source": [
        "merged_df=cup_winners_selected.merge(df, on='cup_name', how='left')"
      ]
    },
    {
      "cell_type": "code",
      "execution_count": null,
      "metadata": {
        "id": "4SgObGr5AOpz"
      },
      "outputs": [],
      "source": [
        "merged_df.drop(['win_year_to'],axis=1,inplace=True)"
      ]
    },
    {
      "cell_type": "code",
      "execution_count": null,
      "metadata": {
        "colab": {
          "base_uri": "https://localhost:8080/",
          "height": 423
        },
        "id": "DMhq9VadAOpz",
        "outputId": "0caa0b05-96cd-41ca-ba55-937ce207813c"
      },
      "outputs": [
        {
          "output_type": "execute_result",
          "data": {
            "text/plain": [
              "      nation  club_id               club_name                   cup_name  \\\n",
              "0    England      281         Manchester City           English Champion   \n",
              "1    England      281         Manchester City           English Champion   \n",
              "2    England      281         Manchester City           English Champion   \n",
              "3    England      281         Manchester City           English Champion   \n",
              "4    England      281         Manchester City              FA Cup Winner   \n",
              "..       ...      ...                     ...                        ...   \n",
              "161    Spain      368              Sevilla FC       Europa League Winner   \n",
              "162    Spain      331              CA Osasuna  Spanish 2nd tier champion   \n",
              "163    Spain      714  RCD Espanyol Barcelona  Spanish 2nd tier champion   \n",
              "164    Spain      367          Rayo Vallecano  Spanish 2nd tier champion   \n",
              "165    Spain     3302              UD Almería  Spanish 2nd tier champion   \n",
              "\n",
              "     win_year_from award_id  \n",
              "0             2021      A-1  \n",
              "1             2020      A-1  \n",
              "2             2018      A-1  \n",
              "3             2017      A-1  \n",
              "4             2018      A-2  \n",
              "..             ...      ...  \n",
              "161           2015      A-8  \n",
              "162           2018     A-29  \n",
              "163           2020     A-29  \n",
              "164           2017     A-29  \n",
              "165           2021     A-29  \n",
              "\n",
              "[166 rows x 6 columns]"
            ],
            "text/html": [
              "\n",
              "  <div id=\"df-13db39b2-c58a-474d-aaac-36a5f8077683\">\n",
              "    <div class=\"colab-df-container\">\n",
              "      <div>\n",
              "<style scoped>\n",
              "    .dataframe tbody tr th:only-of-type {\n",
              "        vertical-align: middle;\n",
              "    }\n",
              "\n",
              "    .dataframe tbody tr th {\n",
              "        vertical-align: top;\n",
              "    }\n",
              "\n",
              "    .dataframe thead th {\n",
              "        text-align: right;\n",
              "    }\n",
              "</style>\n",
              "<table border=\"1\" class=\"dataframe\">\n",
              "  <thead>\n",
              "    <tr style=\"text-align: right;\">\n",
              "      <th></th>\n",
              "      <th>nation</th>\n",
              "      <th>club_id</th>\n",
              "      <th>club_name</th>\n",
              "      <th>cup_name</th>\n",
              "      <th>win_year_from</th>\n",
              "      <th>award_id</th>\n",
              "    </tr>\n",
              "  </thead>\n",
              "  <tbody>\n",
              "    <tr>\n",
              "      <th>0</th>\n",
              "      <td>England</td>\n",
              "      <td>281</td>\n",
              "      <td>Manchester City</td>\n",
              "      <td>English Champion</td>\n",
              "      <td>2021</td>\n",
              "      <td>A-1</td>\n",
              "    </tr>\n",
              "    <tr>\n",
              "      <th>1</th>\n",
              "      <td>England</td>\n",
              "      <td>281</td>\n",
              "      <td>Manchester City</td>\n",
              "      <td>English Champion</td>\n",
              "      <td>2020</td>\n",
              "      <td>A-1</td>\n",
              "    </tr>\n",
              "    <tr>\n",
              "      <th>2</th>\n",
              "      <td>England</td>\n",
              "      <td>281</td>\n",
              "      <td>Manchester City</td>\n",
              "      <td>English Champion</td>\n",
              "      <td>2018</td>\n",
              "      <td>A-1</td>\n",
              "    </tr>\n",
              "    <tr>\n",
              "      <th>3</th>\n",
              "      <td>England</td>\n",
              "      <td>281</td>\n",
              "      <td>Manchester City</td>\n",
              "      <td>English Champion</td>\n",
              "      <td>2017</td>\n",
              "      <td>A-1</td>\n",
              "    </tr>\n",
              "    <tr>\n",
              "      <th>4</th>\n",
              "      <td>England</td>\n",
              "      <td>281</td>\n",
              "      <td>Manchester City</td>\n",
              "      <td>FA Cup Winner</td>\n",
              "      <td>2018</td>\n",
              "      <td>A-2</td>\n",
              "    </tr>\n",
              "    <tr>\n",
              "      <th>...</th>\n",
              "      <td>...</td>\n",
              "      <td>...</td>\n",
              "      <td>...</td>\n",
              "      <td>...</td>\n",
              "      <td>...</td>\n",
              "      <td>...</td>\n",
              "    </tr>\n",
              "    <tr>\n",
              "      <th>161</th>\n",
              "      <td>Spain</td>\n",
              "      <td>368</td>\n",
              "      <td>Sevilla FC</td>\n",
              "      <td>Europa League Winner</td>\n",
              "      <td>2015</td>\n",
              "      <td>A-8</td>\n",
              "    </tr>\n",
              "    <tr>\n",
              "      <th>162</th>\n",
              "      <td>Spain</td>\n",
              "      <td>331</td>\n",
              "      <td>CA Osasuna</td>\n",
              "      <td>Spanish 2nd tier champion</td>\n",
              "      <td>2018</td>\n",
              "      <td>A-29</td>\n",
              "    </tr>\n",
              "    <tr>\n",
              "      <th>163</th>\n",
              "      <td>Spain</td>\n",
              "      <td>714</td>\n",
              "      <td>RCD Espanyol Barcelona</td>\n",
              "      <td>Spanish 2nd tier champion</td>\n",
              "      <td>2020</td>\n",
              "      <td>A-29</td>\n",
              "    </tr>\n",
              "    <tr>\n",
              "      <th>164</th>\n",
              "      <td>Spain</td>\n",
              "      <td>367</td>\n",
              "      <td>Rayo Vallecano</td>\n",
              "      <td>Spanish 2nd tier champion</td>\n",
              "      <td>2017</td>\n",
              "      <td>A-29</td>\n",
              "    </tr>\n",
              "    <tr>\n",
              "      <th>165</th>\n",
              "      <td>Spain</td>\n",
              "      <td>3302</td>\n",
              "      <td>UD Almería</td>\n",
              "      <td>Spanish 2nd tier champion</td>\n",
              "      <td>2021</td>\n",
              "      <td>A-29</td>\n",
              "    </tr>\n",
              "  </tbody>\n",
              "</table>\n",
              "<p>166 rows × 6 columns</p>\n",
              "</div>\n",
              "      <button class=\"colab-df-convert\" onclick=\"convertToInteractive('df-13db39b2-c58a-474d-aaac-36a5f8077683')\"\n",
              "              title=\"Convert this dataframe to an interactive table.\"\n",
              "              style=\"display:none;\">\n",
              "        \n",
              "  <svg xmlns=\"http://www.w3.org/2000/svg\" height=\"24px\"viewBox=\"0 0 24 24\"\n",
              "       width=\"24px\">\n",
              "    <path d=\"M0 0h24v24H0V0z\" fill=\"none\"/>\n",
              "    <path d=\"M18.56 5.44l.94 2.06.94-2.06 2.06-.94-2.06-.94-.94-2.06-.94 2.06-2.06.94zm-11 1L8.5 8.5l.94-2.06 2.06-.94-2.06-.94L8.5 2.5l-.94 2.06-2.06.94zm10 10l.94 2.06.94-2.06 2.06-.94-2.06-.94-.94-2.06-.94 2.06-2.06.94z\"/><path d=\"M17.41 7.96l-1.37-1.37c-.4-.4-.92-.59-1.43-.59-.52 0-1.04.2-1.43.59L10.3 9.45l-7.72 7.72c-.78.78-.78 2.05 0 2.83L4 21.41c.39.39.9.59 1.41.59.51 0 1.02-.2 1.41-.59l7.78-7.78 2.81-2.81c.8-.78.8-2.07 0-2.86zM5.41 20L4 18.59l7.72-7.72 1.47 1.35L5.41 20z\"/>\n",
              "  </svg>\n",
              "      </button>\n",
              "      \n",
              "  <style>\n",
              "    .colab-df-container {\n",
              "      display:flex;\n",
              "      flex-wrap:wrap;\n",
              "      gap: 12px;\n",
              "    }\n",
              "\n",
              "    .colab-df-convert {\n",
              "      background-color: #E8F0FE;\n",
              "      border: none;\n",
              "      border-radius: 50%;\n",
              "      cursor: pointer;\n",
              "      display: none;\n",
              "      fill: #1967D2;\n",
              "      height: 32px;\n",
              "      padding: 0 0 0 0;\n",
              "      width: 32px;\n",
              "    }\n",
              "\n",
              "    .colab-df-convert:hover {\n",
              "      background-color: #E2EBFA;\n",
              "      box-shadow: 0px 1px 2px rgba(60, 64, 67, 0.3), 0px 1px 3px 1px rgba(60, 64, 67, 0.15);\n",
              "      fill: #174EA6;\n",
              "    }\n",
              "\n",
              "    [theme=dark] .colab-df-convert {\n",
              "      background-color: #3B4455;\n",
              "      fill: #D2E3FC;\n",
              "    }\n",
              "\n",
              "    [theme=dark] .colab-df-convert:hover {\n",
              "      background-color: #434B5C;\n",
              "      box-shadow: 0px 1px 3px 1px rgba(0, 0, 0, 0.15);\n",
              "      filter: drop-shadow(0px 1px 2px rgba(0, 0, 0, 0.3));\n",
              "      fill: #FFFFFF;\n",
              "    }\n",
              "  </style>\n",
              "\n",
              "      <script>\n",
              "        const buttonEl =\n",
              "          document.querySelector('#df-13db39b2-c58a-474d-aaac-36a5f8077683 button.colab-df-convert');\n",
              "        buttonEl.style.display =\n",
              "          google.colab.kernel.accessAllowed ? 'block' : 'none';\n",
              "\n",
              "        async function convertToInteractive(key) {\n",
              "          const element = document.querySelector('#df-13db39b2-c58a-474d-aaac-36a5f8077683');\n",
              "          const dataTable =\n",
              "            await google.colab.kernel.invokeFunction('convertToInteractive',\n",
              "                                                     [key], {});\n",
              "          if (!dataTable) return;\n",
              "\n",
              "          const docLinkHtml = 'Like what you see? Visit the ' +\n",
              "            '<a target=\"_blank\" href=https://colab.research.google.com/notebooks/data_table.ipynb>data table notebook</a>'\n",
              "            + ' to learn more about interactive tables.';\n",
              "          element.innerHTML = '';\n",
              "          dataTable['output_type'] = 'display_data';\n",
              "          await google.colab.output.renderOutput(dataTable, element);\n",
              "          const docLink = document.createElement('div');\n",
              "          docLink.innerHTML = docLinkHtml;\n",
              "          element.appendChild(docLink);\n",
              "        }\n",
              "      </script>\n",
              "    </div>\n",
              "  </div>\n",
              "  "
            ]
          },
          "metadata": {},
          "execution_count": 14
        }
      ],
      "source": [
        "merged_df"
      ]
    },
    {
      "cell_type": "markdown",
      "metadata": {
        "id": "QcaOB-Z9AOpz"
      },
      "source": [
        "# Award Table"
      ]
    },
    {
      "cell_type": "code",
      "execution_count": null,
      "metadata": {
        "colab": {
          "base_uri": "https://localhost:8080/",
          "height": 206
        },
        "id": "SA9XValEAOpz",
        "outputId": "f236420d-0cbf-410f-f4d9-0be49e8bdb92"
      },
      "outputs": [
        {
          "output_type": "execute_result",
          "data": {
            "text/plain": [
              "  award_id                   cup_name\n",
              "0      A-1           English Champion\n",
              "1      A-2              FA Cup Winner\n",
              "2      A-3  English League Cup winner\n",
              "3      A-4    English Supercup Winner\n",
              "4      A-5    Champions League Winner"
            ],
            "text/html": [
              "\n",
              "  <div id=\"df-63f6cdfa-5734-47ea-8c53-2645af383482\">\n",
              "    <div class=\"colab-df-container\">\n",
              "      <div>\n",
              "<style scoped>\n",
              "    .dataframe tbody tr th:only-of-type {\n",
              "        vertical-align: middle;\n",
              "    }\n",
              "\n",
              "    .dataframe tbody tr th {\n",
              "        vertical-align: top;\n",
              "    }\n",
              "\n",
              "    .dataframe thead th {\n",
              "        text-align: right;\n",
              "    }\n",
              "</style>\n",
              "<table border=\"1\" class=\"dataframe\">\n",
              "  <thead>\n",
              "    <tr style=\"text-align: right;\">\n",
              "      <th></th>\n",
              "      <th>award_id</th>\n",
              "      <th>cup_name</th>\n",
              "    </tr>\n",
              "  </thead>\n",
              "  <tbody>\n",
              "    <tr>\n",
              "      <th>0</th>\n",
              "      <td>A-1</td>\n",
              "      <td>English Champion</td>\n",
              "    </tr>\n",
              "    <tr>\n",
              "      <th>1</th>\n",
              "      <td>A-2</td>\n",
              "      <td>FA Cup Winner</td>\n",
              "    </tr>\n",
              "    <tr>\n",
              "      <th>2</th>\n",
              "      <td>A-3</td>\n",
              "      <td>English League Cup winner</td>\n",
              "    </tr>\n",
              "    <tr>\n",
              "      <th>3</th>\n",
              "      <td>A-4</td>\n",
              "      <td>English Supercup Winner</td>\n",
              "    </tr>\n",
              "    <tr>\n",
              "      <th>4</th>\n",
              "      <td>A-5</td>\n",
              "      <td>Champions League Winner</td>\n",
              "    </tr>\n",
              "  </tbody>\n",
              "</table>\n",
              "</div>\n",
              "      <button class=\"colab-df-convert\" onclick=\"convertToInteractive('df-63f6cdfa-5734-47ea-8c53-2645af383482')\"\n",
              "              title=\"Convert this dataframe to an interactive table.\"\n",
              "              style=\"display:none;\">\n",
              "        \n",
              "  <svg xmlns=\"http://www.w3.org/2000/svg\" height=\"24px\"viewBox=\"0 0 24 24\"\n",
              "       width=\"24px\">\n",
              "    <path d=\"M0 0h24v24H0V0z\" fill=\"none\"/>\n",
              "    <path d=\"M18.56 5.44l.94 2.06.94-2.06 2.06-.94-2.06-.94-.94-2.06-.94 2.06-2.06.94zm-11 1L8.5 8.5l.94-2.06 2.06-.94-2.06-.94L8.5 2.5l-.94 2.06-2.06.94zm10 10l.94 2.06.94-2.06 2.06-.94-2.06-.94-.94-2.06-.94 2.06-2.06.94z\"/><path d=\"M17.41 7.96l-1.37-1.37c-.4-.4-.92-.59-1.43-.59-.52 0-1.04.2-1.43.59L10.3 9.45l-7.72 7.72c-.78.78-.78 2.05 0 2.83L4 21.41c.39.39.9.59 1.41.59.51 0 1.02-.2 1.41-.59l7.78-7.78 2.81-2.81c.8-.78.8-2.07 0-2.86zM5.41 20L4 18.59l7.72-7.72 1.47 1.35L5.41 20z\"/>\n",
              "  </svg>\n",
              "      </button>\n",
              "      \n",
              "  <style>\n",
              "    .colab-df-container {\n",
              "      display:flex;\n",
              "      flex-wrap:wrap;\n",
              "      gap: 12px;\n",
              "    }\n",
              "\n",
              "    .colab-df-convert {\n",
              "      background-color: #E8F0FE;\n",
              "      border: none;\n",
              "      border-radius: 50%;\n",
              "      cursor: pointer;\n",
              "      display: none;\n",
              "      fill: #1967D2;\n",
              "      height: 32px;\n",
              "      padding: 0 0 0 0;\n",
              "      width: 32px;\n",
              "    }\n",
              "\n",
              "    .colab-df-convert:hover {\n",
              "      background-color: #E2EBFA;\n",
              "      box-shadow: 0px 1px 2px rgba(60, 64, 67, 0.3), 0px 1px 3px 1px rgba(60, 64, 67, 0.15);\n",
              "      fill: #174EA6;\n",
              "    }\n",
              "\n",
              "    [theme=dark] .colab-df-convert {\n",
              "      background-color: #3B4455;\n",
              "      fill: #D2E3FC;\n",
              "    }\n",
              "\n",
              "    [theme=dark] .colab-df-convert:hover {\n",
              "      background-color: #434B5C;\n",
              "      box-shadow: 0px 1px 3px 1px rgba(0, 0, 0, 0.15);\n",
              "      filter: drop-shadow(0px 1px 2px rgba(0, 0, 0, 0.3));\n",
              "      fill: #FFFFFF;\n",
              "    }\n",
              "  </style>\n",
              "\n",
              "      <script>\n",
              "        const buttonEl =\n",
              "          document.querySelector('#df-63f6cdfa-5734-47ea-8c53-2645af383482 button.colab-df-convert');\n",
              "        buttonEl.style.display =\n",
              "          google.colab.kernel.accessAllowed ? 'block' : 'none';\n",
              "\n",
              "        async function convertToInteractive(key) {\n",
              "          const element = document.querySelector('#df-63f6cdfa-5734-47ea-8c53-2645af383482');\n",
              "          const dataTable =\n",
              "            await google.colab.kernel.invokeFunction('convertToInteractive',\n",
              "                                                     [key], {});\n",
              "          if (!dataTable) return;\n",
              "\n",
              "          const docLinkHtml = 'Like what you see? Visit the ' +\n",
              "            '<a target=\"_blank\" href=https://colab.research.google.com/notebooks/data_table.ipynb>data table notebook</a>'\n",
              "            + ' to learn more about interactive tables.';\n",
              "          element.innerHTML = '';\n",
              "          dataTable['output_type'] = 'display_data';\n",
              "          await google.colab.output.renderOutput(dataTable, element);\n",
              "          const docLink = document.createElement('div');\n",
              "          docLink.innerHTML = docLinkHtml;\n",
              "          element.appendChild(docLink);\n",
              "        }\n",
              "      </script>\n",
              "    </div>\n",
              "  </div>\n",
              "  "
            ]
          },
          "metadata": {},
          "execution_count": 15
        }
      ],
      "source": [
        "df.head()"
      ]
    },
    {
      "cell_type": "code",
      "source": [
        "df.shape"
      ],
      "metadata": {
        "colab": {
          "base_uri": "https://localhost:8080/"
        },
        "id": "nrYxhe_7A2jU",
        "outputId": "cb131a8f-331e-4f3d-dab9-6e2c4c5aa523"
      },
      "execution_count": null,
      "outputs": [
        {
          "output_type": "execute_result",
          "data": {
            "text/plain": [
              "(29, 2)"
            ]
          },
          "metadata": {},
          "execution_count": 16
        }
      ]
    },
    {
      "cell_type": "code",
      "execution_count": null,
      "metadata": {
        "id": "7g_BEusQAOp0"
      },
      "outputs": [],
      "source": [
        "df.to_csv('Awards.csv', index=False)"
      ]
    },
    {
      "cell_type": "markdown",
      "metadata": {
        "id": "-HDJG1nEAOp0"
      },
      "source": [
        "# Awards_winners Table"
      ]
    },
    {
      "cell_type": "code",
      "execution_count": null,
      "metadata": {
        "id": "K807FPG4AOp0"
      },
      "outputs": [],
      "source": [
        "merged_df.rename(columns = {'win_year_from':'win_year'}, inplace = True)"
      ]
    },
    {
      "cell_type": "code",
      "execution_count": null,
      "metadata": {
        "id": "mMu6nyjlAOp0"
      },
      "outputs": [],
      "source": [
        "merged_df.drop(['club_name'],axis=1,inplace=True)"
      ]
    },
    {
      "cell_type": "code",
      "execution_count": null,
      "metadata": {
        "id": "8lQ5nJGwAOp0"
      },
      "outputs": [],
      "source": [
        "merged_df.drop(['cup_name'],axis=1,inplace=True)"
      ]
    },
    {
      "cell_type": "code",
      "execution_count": null,
      "metadata": {
        "colab": {
          "base_uri": "https://localhost:8080/",
          "height": 206
        },
        "id": "8C53SrvxAOp0",
        "outputId": "ca02e059-9b01-4069-d2e9-de6c496ec350"
      },
      "outputs": [
        {
          "output_type": "execute_result",
          "data": {
            "text/plain": [
              "    nation  club_id  win_year award_id\n",
              "0  England      281      2021      A-1\n",
              "1  England      281      2020      A-1\n",
              "2  England      281      2018      A-1\n",
              "3  England      281      2017      A-1\n",
              "4  England      281      2018      A-2"
            ],
            "text/html": [
              "\n",
              "  <div id=\"df-3c8bc408-6a0b-431f-af84-5c2adaff1b80\">\n",
              "    <div class=\"colab-df-container\">\n",
              "      <div>\n",
              "<style scoped>\n",
              "    .dataframe tbody tr th:only-of-type {\n",
              "        vertical-align: middle;\n",
              "    }\n",
              "\n",
              "    .dataframe tbody tr th {\n",
              "        vertical-align: top;\n",
              "    }\n",
              "\n",
              "    .dataframe thead th {\n",
              "        text-align: right;\n",
              "    }\n",
              "</style>\n",
              "<table border=\"1\" class=\"dataframe\">\n",
              "  <thead>\n",
              "    <tr style=\"text-align: right;\">\n",
              "      <th></th>\n",
              "      <th>nation</th>\n",
              "      <th>club_id</th>\n",
              "      <th>win_year</th>\n",
              "      <th>award_id</th>\n",
              "    </tr>\n",
              "  </thead>\n",
              "  <tbody>\n",
              "    <tr>\n",
              "      <th>0</th>\n",
              "      <td>England</td>\n",
              "      <td>281</td>\n",
              "      <td>2021</td>\n",
              "      <td>A-1</td>\n",
              "    </tr>\n",
              "    <tr>\n",
              "      <th>1</th>\n",
              "      <td>England</td>\n",
              "      <td>281</td>\n",
              "      <td>2020</td>\n",
              "      <td>A-1</td>\n",
              "    </tr>\n",
              "    <tr>\n",
              "      <th>2</th>\n",
              "      <td>England</td>\n",
              "      <td>281</td>\n",
              "      <td>2018</td>\n",
              "      <td>A-1</td>\n",
              "    </tr>\n",
              "    <tr>\n",
              "      <th>3</th>\n",
              "      <td>England</td>\n",
              "      <td>281</td>\n",
              "      <td>2017</td>\n",
              "      <td>A-1</td>\n",
              "    </tr>\n",
              "    <tr>\n",
              "      <th>4</th>\n",
              "      <td>England</td>\n",
              "      <td>281</td>\n",
              "      <td>2018</td>\n",
              "      <td>A-2</td>\n",
              "    </tr>\n",
              "  </tbody>\n",
              "</table>\n",
              "</div>\n",
              "      <button class=\"colab-df-convert\" onclick=\"convertToInteractive('df-3c8bc408-6a0b-431f-af84-5c2adaff1b80')\"\n",
              "              title=\"Convert this dataframe to an interactive table.\"\n",
              "              style=\"display:none;\">\n",
              "        \n",
              "  <svg xmlns=\"http://www.w3.org/2000/svg\" height=\"24px\"viewBox=\"0 0 24 24\"\n",
              "       width=\"24px\">\n",
              "    <path d=\"M0 0h24v24H0V0z\" fill=\"none\"/>\n",
              "    <path d=\"M18.56 5.44l.94 2.06.94-2.06 2.06-.94-2.06-.94-.94-2.06-.94 2.06-2.06.94zm-11 1L8.5 8.5l.94-2.06 2.06-.94-2.06-.94L8.5 2.5l-.94 2.06-2.06.94zm10 10l.94 2.06.94-2.06 2.06-.94-2.06-.94-.94-2.06-.94 2.06-2.06.94z\"/><path d=\"M17.41 7.96l-1.37-1.37c-.4-.4-.92-.59-1.43-.59-.52 0-1.04.2-1.43.59L10.3 9.45l-7.72 7.72c-.78.78-.78 2.05 0 2.83L4 21.41c.39.39.9.59 1.41.59.51 0 1.02-.2 1.41-.59l7.78-7.78 2.81-2.81c.8-.78.8-2.07 0-2.86zM5.41 20L4 18.59l7.72-7.72 1.47 1.35L5.41 20z\"/>\n",
              "  </svg>\n",
              "      </button>\n",
              "      \n",
              "  <style>\n",
              "    .colab-df-container {\n",
              "      display:flex;\n",
              "      flex-wrap:wrap;\n",
              "      gap: 12px;\n",
              "    }\n",
              "\n",
              "    .colab-df-convert {\n",
              "      background-color: #E8F0FE;\n",
              "      border: none;\n",
              "      border-radius: 50%;\n",
              "      cursor: pointer;\n",
              "      display: none;\n",
              "      fill: #1967D2;\n",
              "      height: 32px;\n",
              "      padding: 0 0 0 0;\n",
              "      width: 32px;\n",
              "    }\n",
              "\n",
              "    .colab-df-convert:hover {\n",
              "      background-color: #E2EBFA;\n",
              "      box-shadow: 0px 1px 2px rgba(60, 64, 67, 0.3), 0px 1px 3px 1px rgba(60, 64, 67, 0.15);\n",
              "      fill: #174EA6;\n",
              "    }\n",
              "\n",
              "    [theme=dark] .colab-df-convert {\n",
              "      background-color: #3B4455;\n",
              "      fill: #D2E3FC;\n",
              "    }\n",
              "\n",
              "    [theme=dark] .colab-df-convert:hover {\n",
              "      background-color: #434B5C;\n",
              "      box-shadow: 0px 1px 3px 1px rgba(0, 0, 0, 0.15);\n",
              "      filter: drop-shadow(0px 1px 2px rgba(0, 0, 0, 0.3));\n",
              "      fill: #FFFFFF;\n",
              "    }\n",
              "  </style>\n",
              "\n",
              "      <script>\n",
              "        const buttonEl =\n",
              "          document.querySelector('#df-3c8bc408-6a0b-431f-af84-5c2adaff1b80 button.colab-df-convert');\n",
              "        buttonEl.style.display =\n",
              "          google.colab.kernel.accessAllowed ? 'block' : 'none';\n",
              "\n",
              "        async function convertToInteractive(key) {\n",
              "          const element = document.querySelector('#df-3c8bc408-6a0b-431f-af84-5c2adaff1b80');\n",
              "          const dataTable =\n",
              "            await google.colab.kernel.invokeFunction('convertToInteractive',\n",
              "                                                     [key], {});\n",
              "          if (!dataTable) return;\n",
              "\n",
              "          const docLinkHtml = 'Like what you see? Visit the ' +\n",
              "            '<a target=\"_blank\" href=https://colab.research.google.com/notebooks/data_table.ipynb>data table notebook</a>'\n",
              "            + ' to learn more about interactive tables.';\n",
              "          element.innerHTML = '';\n",
              "          dataTable['output_type'] = 'display_data';\n",
              "          await google.colab.output.renderOutput(dataTable, element);\n",
              "          const docLink = document.createElement('div');\n",
              "          docLink.innerHTML = docLinkHtml;\n",
              "          element.appendChild(docLink);\n",
              "        }\n",
              "      </script>\n",
              "    </div>\n",
              "  </div>\n",
              "  "
            ]
          },
          "metadata": {},
          "execution_count": 21
        }
      ],
      "source": [
        "merged_df.head()"
      ]
    },
    {
      "cell_type": "code",
      "source": [
        "merged_df.shape"
      ],
      "metadata": {
        "colab": {
          "base_uri": "https://localhost:8080/"
        },
        "id": "O5O570UZBAFF",
        "outputId": "2d2c4f1d-3616-49a2-a722-8490982c817f"
      },
      "execution_count": null,
      "outputs": [
        {
          "output_type": "execute_result",
          "data": {
            "text/plain": [
              "(166, 4)"
            ]
          },
          "metadata": {},
          "execution_count": 23
        }
      ]
    },
    {
      "cell_type": "code",
      "execution_count": null,
      "metadata": {
        "id": "-adPveFTAOp1"
      },
      "outputs": [],
      "source": [
        "merged_df.to_csv('Awards_winners.csv', index=False)"
      ]
    },
    {
      "cell_type": "markdown",
      "metadata": {
        "id": "Wa3KbnQlAOp1"
      },
      "source": [
        "# read all CSV files for England PriemerLeague"
      ]
    },
    {
      "cell_type": "code",
      "execution_count": null,
      "metadata": {
        "id": "K7qV49siAOp1"
      },
      "outputs": [],
      "source": [
        "PriemerLeague2015=pd.read_csv('PriemerLeague2015.csv')\n",
        "PriemerLeague2015['Season']='2015'\n",
        "PriemerLeague2016=pd.read_csv('PriemerLeague2016.csv')\n",
        "PriemerLeague2016['Season']='2016'\n",
        "PriemerLeague2017=pd.read_csv('PriemerLeague2017.csv')\n",
        "PriemerLeague2017['Season']='2017'\n",
        "PriemerLeague2018=pd.read_csv('PriemerLeague2018.csv')\n",
        "PriemerLeague2018['Season']='2018'\n",
        "PriemerLeague2019=pd.read_csv('PriemerLeague2019.csv')\n",
        "PriemerLeague2019['Season']='2019'\n",
        "PriemerLeague2020=pd.read_csv('PriemerLeague2020.csv')\n",
        "PriemerLeague2020['Season']='2020'\n",
        "PriemerLeague2021=pd.read_csv('PriemerLeague2021.csv')\n",
        "PriemerLeague2021['Season']='2021'"
      ]
    },
    {
      "cell_type": "code",
      "execution_count": null,
      "metadata": {
        "id": "n06b0Tq8AOp1"
      },
      "outputs": [],
      "source": [
        "England=pd.concat([PriemerLeague2015,PriemerLeague2016,PriemerLeague2017,PriemerLeague2018,PriemerLeague2019,PriemerLeague2020,PriemerLeague2021],ignore_index=True)"
      ]
    },
    {
      "cell_type": "code",
      "execution_count": null,
      "metadata": {
        "id": "oAqVpkV0AOp1"
      },
      "outputs": [],
      "source": [
        "England.drop(['Unnamed: 0'],axis=1,inplace=True)"
      ]
    },
    {
      "cell_type": "code",
      "execution_count": null,
      "metadata": {
        "id": "hZn_k4c_AOp1",
        "outputId": "2673c389-5973-44e3-c6b4-c114e6989923",
        "colab": {
          "base_uri": "https://localhost:8080/",
          "height": 354
        }
      },
      "outputs": [
        {
          "output_type": "execute_result",
          "data": {
            "text/plain": [
              "           Club Name     League name  Average age of players  \\\n",
              "0         Chelsea FC  Premier League                    25.5   \n",
              "1    Manchester City  Premier League                    26.8   \n",
              "2         Arsenal FC  Premier League                    25.2   \n",
              "3  Manchester United  Premier League                    26.0   \n",
              "4       Liverpool FC  Premier League                    26.7   \n",
              "\n",
              "       Stadium name         Coach name    Coach Date Club Values Season  \n",
              "0   Stamford Bridge      José Mourinho   Jul 1, 2013     €1.02bn   2015  \n",
              "1    Etihad Stadium  Manuel Pellegrini   Jul 1, 2013     €1.05bn   2015  \n",
              "2  Emirates Stadium      Arsène Wenger   Oct 1, 1996    €890.00m   2015  \n",
              "3      Old Trafford     Louis van Gaal  Jul 14, 2014    €795.70m   2015  \n",
              "4           Anfield    Brendan Rodgers   Jul 1, 2012    €879.00m   2015  "
            ],
            "text/html": [
              "\n",
              "  <div id=\"df-c45fd3ea-0b64-4985-a195-8e14ae950517\">\n",
              "    <div class=\"colab-df-container\">\n",
              "      <div>\n",
              "<style scoped>\n",
              "    .dataframe tbody tr th:only-of-type {\n",
              "        vertical-align: middle;\n",
              "    }\n",
              "\n",
              "    .dataframe tbody tr th {\n",
              "        vertical-align: top;\n",
              "    }\n",
              "\n",
              "    .dataframe thead th {\n",
              "        text-align: right;\n",
              "    }\n",
              "</style>\n",
              "<table border=\"1\" class=\"dataframe\">\n",
              "  <thead>\n",
              "    <tr style=\"text-align: right;\">\n",
              "      <th></th>\n",
              "      <th>Club Name</th>\n",
              "      <th>League name</th>\n",
              "      <th>Average age of players</th>\n",
              "      <th>Stadium name</th>\n",
              "      <th>Coach name</th>\n",
              "      <th>Coach Date</th>\n",
              "      <th>Club Values</th>\n",
              "      <th>Season</th>\n",
              "    </tr>\n",
              "  </thead>\n",
              "  <tbody>\n",
              "    <tr>\n",
              "      <th>0</th>\n",
              "      <td>Chelsea FC</td>\n",
              "      <td>Premier League</td>\n",
              "      <td>25.5</td>\n",
              "      <td>Stamford Bridge</td>\n",
              "      <td>José Mourinho</td>\n",
              "      <td>Jul 1, 2013</td>\n",
              "      <td>€1.02bn</td>\n",
              "      <td>2015</td>\n",
              "    </tr>\n",
              "    <tr>\n",
              "      <th>1</th>\n",
              "      <td>Manchester City</td>\n",
              "      <td>Premier League</td>\n",
              "      <td>26.8</td>\n",
              "      <td>Etihad Stadium</td>\n",
              "      <td>Manuel Pellegrini</td>\n",
              "      <td>Jul 1, 2013</td>\n",
              "      <td>€1.05bn</td>\n",
              "      <td>2015</td>\n",
              "    </tr>\n",
              "    <tr>\n",
              "      <th>2</th>\n",
              "      <td>Arsenal FC</td>\n",
              "      <td>Premier League</td>\n",
              "      <td>25.2</td>\n",
              "      <td>Emirates Stadium</td>\n",
              "      <td>Arsène Wenger</td>\n",
              "      <td>Oct 1, 1996</td>\n",
              "      <td>€890.00m</td>\n",
              "      <td>2015</td>\n",
              "    </tr>\n",
              "    <tr>\n",
              "      <th>3</th>\n",
              "      <td>Manchester United</td>\n",
              "      <td>Premier League</td>\n",
              "      <td>26.0</td>\n",
              "      <td>Old Trafford</td>\n",
              "      <td>Louis van Gaal</td>\n",
              "      <td>Jul 14, 2014</td>\n",
              "      <td>€795.70m</td>\n",
              "      <td>2015</td>\n",
              "    </tr>\n",
              "    <tr>\n",
              "      <th>4</th>\n",
              "      <td>Liverpool FC</td>\n",
              "      <td>Premier League</td>\n",
              "      <td>26.7</td>\n",
              "      <td>Anfield</td>\n",
              "      <td>Brendan Rodgers</td>\n",
              "      <td>Jul 1, 2012</td>\n",
              "      <td>€879.00m</td>\n",
              "      <td>2015</td>\n",
              "    </tr>\n",
              "  </tbody>\n",
              "</table>\n",
              "</div>\n",
              "      <button class=\"colab-df-convert\" onclick=\"convertToInteractive('df-c45fd3ea-0b64-4985-a195-8e14ae950517')\"\n",
              "              title=\"Convert this dataframe to an interactive table.\"\n",
              "              style=\"display:none;\">\n",
              "        \n",
              "  <svg xmlns=\"http://www.w3.org/2000/svg\" height=\"24px\"viewBox=\"0 0 24 24\"\n",
              "       width=\"24px\">\n",
              "    <path d=\"M0 0h24v24H0V0z\" fill=\"none\"/>\n",
              "    <path d=\"M18.56 5.44l.94 2.06.94-2.06 2.06-.94-2.06-.94-.94-2.06-.94 2.06-2.06.94zm-11 1L8.5 8.5l.94-2.06 2.06-.94-2.06-.94L8.5 2.5l-.94 2.06-2.06.94zm10 10l.94 2.06.94-2.06 2.06-.94-2.06-.94-.94-2.06-.94 2.06-2.06.94z\"/><path d=\"M17.41 7.96l-1.37-1.37c-.4-.4-.92-.59-1.43-.59-.52 0-1.04.2-1.43.59L10.3 9.45l-7.72 7.72c-.78.78-.78 2.05 0 2.83L4 21.41c.39.39.9.59 1.41.59.51 0 1.02-.2 1.41-.59l7.78-7.78 2.81-2.81c.8-.78.8-2.07 0-2.86zM5.41 20L4 18.59l7.72-7.72 1.47 1.35L5.41 20z\"/>\n",
              "  </svg>\n",
              "      </button>\n",
              "      \n",
              "  <style>\n",
              "    .colab-df-container {\n",
              "      display:flex;\n",
              "      flex-wrap:wrap;\n",
              "      gap: 12px;\n",
              "    }\n",
              "\n",
              "    .colab-df-convert {\n",
              "      background-color: #E8F0FE;\n",
              "      border: none;\n",
              "      border-radius: 50%;\n",
              "      cursor: pointer;\n",
              "      display: none;\n",
              "      fill: #1967D2;\n",
              "      height: 32px;\n",
              "      padding: 0 0 0 0;\n",
              "      width: 32px;\n",
              "    }\n",
              "\n",
              "    .colab-df-convert:hover {\n",
              "      background-color: #E2EBFA;\n",
              "      box-shadow: 0px 1px 2px rgba(60, 64, 67, 0.3), 0px 1px 3px 1px rgba(60, 64, 67, 0.15);\n",
              "      fill: #174EA6;\n",
              "    }\n",
              "\n",
              "    [theme=dark] .colab-df-convert {\n",
              "      background-color: #3B4455;\n",
              "      fill: #D2E3FC;\n",
              "    }\n",
              "\n",
              "    [theme=dark] .colab-df-convert:hover {\n",
              "      background-color: #434B5C;\n",
              "      box-shadow: 0px 1px 3px 1px rgba(0, 0, 0, 0.15);\n",
              "      filter: drop-shadow(0px 1px 2px rgba(0, 0, 0, 0.3));\n",
              "      fill: #FFFFFF;\n",
              "    }\n",
              "  </style>\n",
              "\n",
              "      <script>\n",
              "        const buttonEl =\n",
              "          document.querySelector('#df-c45fd3ea-0b64-4985-a195-8e14ae950517 button.colab-df-convert');\n",
              "        buttonEl.style.display =\n",
              "          google.colab.kernel.accessAllowed ? 'block' : 'none';\n",
              "\n",
              "        async function convertToInteractive(key) {\n",
              "          const element = document.querySelector('#df-c45fd3ea-0b64-4985-a195-8e14ae950517');\n",
              "          const dataTable =\n",
              "            await google.colab.kernel.invokeFunction('convertToInteractive',\n",
              "                                                     [key], {});\n",
              "          if (!dataTable) return;\n",
              "\n",
              "          const docLinkHtml = 'Like what you see? Visit the ' +\n",
              "            '<a target=\"_blank\" href=https://colab.research.google.com/notebooks/data_table.ipynb>data table notebook</a>'\n",
              "            + ' to learn more about interactive tables.';\n",
              "          element.innerHTML = '';\n",
              "          dataTable['output_type'] = 'display_data';\n",
              "          await google.colab.output.renderOutput(dataTable, element);\n",
              "          const docLink = document.createElement('div');\n",
              "          docLink.innerHTML = docLinkHtml;\n",
              "          element.appendChild(docLink);\n",
              "        }\n",
              "      </script>\n",
              "    </div>\n",
              "  </div>\n",
              "  "
            ]
          },
          "metadata": {},
          "execution_count": 7
        }
      ],
      "source": [
        "England.head()"
      ]
    },
    {
      "cell_type": "code",
      "execution_count": null,
      "metadata": {
        "id": "cyUE_6DMAOp2",
        "outputId": "7d129c0e-d4a1-48a5-8b07-5dd03a86c2b8",
        "colab": {
          "base_uri": "https://localhost:8080/"
        }
      },
      "outputs": [
        {
          "output_type": "execute_result",
          "data": {
            "text/plain": [
              "(140, 8)"
            ]
          },
          "metadata": {},
          "execution_count": 8
        }
      ],
      "source": [
        "England.shape"
      ]
    },
    {
      "cell_type": "code",
      "execution_count": null,
      "metadata": {
        "id": "QIZeLR0hAOp2"
      },
      "outputs": [],
      "source": [
        "England['Country']='England'"
      ]
    },
    {
      "cell_type": "code",
      "execution_count": null,
      "metadata": {
        "id": "kBLbxnyRAOp2",
        "outputId": "29b31bd9-64c0-44d5-e73b-470aa6ed5db3",
        "colab": {
          "base_uri": "https://localhost:8080/"
        }
      },
      "outputs": [
        {
          "output_type": "execute_result",
          "data": {
            "text/plain": [
              "Club Name                 0\n",
              "League name               0\n",
              "Average age of players    0\n",
              "Stadium name              0\n",
              "Coach name                0\n",
              "Coach Date                0\n",
              "Club Values               0\n",
              "Season                    0\n",
              "Country                   0\n",
              "dtype: int64"
            ]
          },
          "metadata": {},
          "execution_count": 10
        }
      ],
      "source": [
        "England.isnull().sum()"
      ]
    },
    {
      "cell_type": "markdown",
      "metadata": {
        "id": "VUQ7YJzmAOp2"
      },
      "source": [
        "# read all csv files for spain: Laliga"
      ]
    },
    {
      "cell_type": "code",
      "execution_count": null,
      "metadata": {
        "id": "4ohnP27eAOp2"
      },
      "outputs": [],
      "source": [
        "laliga_2015=pd.read_csv('laliga_2015.csv')\n",
        "laliga_2015['Season']='2015'\n",
        "laliga_2016=pd.read_csv('laliga_2016.csv')\n",
        "laliga_2016['Season']='2016'\n",
        "laliga_2017=pd.read_csv('laliga_2017.csv')\n",
        "laliga_2017['Season']='2017'\n",
        "laliga_2018=pd.read_csv('laliga_2018.csv')\n",
        "laliga_2018['Season']='2018'\n",
        "laliga_2019=pd.read_csv('laliga_2019.csv')\n",
        "laliga_2019['Season']='2019'\n",
        "laliga_2020=pd.read_csv('laliga_2020.csv')\n",
        "laliga_2020['Season']='2020'\n",
        "laliga_2021=pd.read_csv('laliga_2021.csv')\n",
        "laliga_2021['Season']='2021'"
      ]
    },
    {
      "cell_type": "code",
      "execution_count": null,
      "metadata": {
        "id": "TzKsa6rfAOp3",
        "outputId": "bdad3872-bf72-47ee-e536-1fb4f84cb05e",
        "colab": {
          "base_uri": "https://localhost:8080/"
        }
      },
      "outputs": [
        {
          "output_type": "execute_result",
          "data": {
            "text/plain": [
              "(20, 9)"
            ]
          },
          "metadata": {},
          "execution_count": 12
        }
      ],
      "source": [
        "laliga_2015.shape"
      ]
    },
    {
      "cell_type": "code",
      "execution_count": null,
      "metadata": {
        "id": "enVxn5rJAOp3"
      },
      "outputs": [],
      "source": [
        "Spain=pd.concat([laliga_2015,laliga_2016,laliga_2017,laliga_2018,laliga_2019,laliga_2020,laliga_2021])"
      ]
    },
    {
      "cell_type": "code",
      "execution_count": null,
      "metadata": {
        "id": "bjc_tyynAOp3",
        "outputId": "6a946b54-cc85-4f64-fbbd-c61dbcb00397",
        "colab": {
          "base_uri": "https://localhost:8080/"
        }
      },
      "outputs": [
        {
          "output_type": "execute_result",
          "data": {
            "text/plain": [
              "(140, 9)"
            ]
          },
          "metadata": {},
          "execution_count": 14
        }
      ],
      "source": [
        "Spain.shape"
      ]
    },
    {
      "cell_type": "code",
      "execution_count": null,
      "metadata": {
        "id": "kJ6MYbPFAOp3"
      },
      "outputs": [],
      "source": [
        "Spain.drop(['Unnamed: 0'],axis=1,inplace=True)"
      ]
    },
    {
      "cell_type": "code",
      "execution_count": null,
      "metadata": {
        "id": "5kk-u2PHAOp3"
      },
      "outputs": [],
      "source": [
        "Spain['Country']='Spain'"
      ]
    },
    {
      "cell_type": "code",
      "execution_count": null,
      "metadata": {
        "id": "4aTrzOKzAOp3",
        "outputId": "23c5fc95-ed5b-407f-87b3-ea2fb4e14bba",
        "colab": {
          "base_uri": "https://localhost:8080/",
          "height": 354
        }
      },
      "outputs": [
        {
          "output_type": "execute_result",
          "data": {
            "text/plain": [
              "            Club Name League name  Average age of players  \\\n",
              "0         Real Madrid      LaLiga                    27.4   \n",
              "1        FC Barcelona      LaLiga                    25.5   \n",
              "2  Atlético de Madrid      LaLiga                    28.5   \n",
              "3          Sevilla FC      LaLiga                    28.8   \n",
              "4         Valencia CF      LaLiga                    25.0   \n",
              "\n",
              "            Stadium name       Coach name    Coach Date Club Values Season  \\\n",
              "0      Santiago Bernabéu  Zinédine Zidane   Jan 4, 2016    €860.80m   2015   \n",
              "1       Spotify Camp Nou     Luis Enrique   Jul 1, 2014    €767.00m   2015   \n",
              "2  Civitas Metropolitano    Diego Simeone  Dec 23, 2011    €457.00m   2015   \n",
              "3  Ramón Sánchez-Pizjuán   Jorge Sampaoli   Jul 1, 2016    €209.00m   2015   \n",
              "4               Mestalla   Pako Ayestarán  Mar 30, 2016    €225.65m   2015   \n",
              "\n",
              "  Country  \n",
              "0   Spain  \n",
              "1   Spain  \n",
              "2   Spain  \n",
              "3   Spain  \n",
              "4   Spain  "
            ],
            "text/html": [
              "\n",
              "  <div id=\"df-ca8823bd-2253-4fac-bd9a-c26d06e9de8c\">\n",
              "    <div class=\"colab-df-container\">\n",
              "      <div>\n",
              "<style scoped>\n",
              "    .dataframe tbody tr th:only-of-type {\n",
              "        vertical-align: middle;\n",
              "    }\n",
              "\n",
              "    .dataframe tbody tr th {\n",
              "        vertical-align: top;\n",
              "    }\n",
              "\n",
              "    .dataframe thead th {\n",
              "        text-align: right;\n",
              "    }\n",
              "</style>\n",
              "<table border=\"1\" class=\"dataframe\">\n",
              "  <thead>\n",
              "    <tr style=\"text-align: right;\">\n",
              "      <th></th>\n",
              "      <th>Club Name</th>\n",
              "      <th>League name</th>\n",
              "      <th>Average age of players</th>\n",
              "      <th>Stadium name</th>\n",
              "      <th>Coach name</th>\n",
              "      <th>Coach Date</th>\n",
              "      <th>Club Values</th>\n",
              "      <th>Season</th>\n",
              "      <th>Country</th>\n",
              "    </tr>\n",
              "  </thead>\n",
              "  <tbody>\n",
              "    <tr>\n",
              "      <th>0</th>\n",
              "      <td>Real Madrid</td>\n",
              "      <td>LaLiga</td>\n",
              "      <td>27.4</td>\n",
              "      <td>Santiago Bernabéu</td>\n",
              "      <td>Zinédine Zidane</td>\n",
              "      <td>Jan 4, 2016</td>\n",
              "      <td>€860.80m</td>\n",
              "      <td>2015</td>\n",
              "      <td>Spain</td>\n",
              "    </tr>\n",
              "    <tr>\n",
              "      <th>1</th>\n",
              "      <td>FC Barcelona</td>\n",
              "      <td>LaLiga</td>\n",
              "      <td>25.5</td>\n",
              "      <td>Spotify Camp Nou</td>\n",
              "      <td>Luis Enrique</td>\n",
              "      <td>Jul 1, 2014</td>\n",
              "      <td>€767.00m</td>\n",
              "      <td>2015</td>\n",
              "      <td>Spain</td>\n",
              "    </tr>\n",
              "    <tr>\n",
              "      <th>2</th>\n",
              "      <td>Atlético de Madrid</td>\n",
              "      <td>LaLiga</td>\n",
              "      <td>28.5</td>\n",
              "      <td>Civitas Metropolitano</td>\n",
              "      <td>Diego Simeone</td>\n",
              "      <td>Dec 23, 2011</td>\n",
              "      <td>€457.00m</td>\n",
              "      <td>2015</td>\n",
              "      <td>Spain</td>\n",
              "    </tr>\n",
              "    <tr>\n",
              "      <th>3</th>\n",
              "      <td>Sevilla FC</td>\n",
              "      <td>LaLiga</td>\n",
              "      <td>28.8</td>\n",
              "      <td>Ramón Sánchez-Pizjuán</td>\n",
              "      <td>Jorge Sampaoli</td>\n",
              "      <td>Jul 1, 2016</td>\n",
              "      <td>€209.00m</td>\n",
              "      <td>2015</td>\n",
              "      <td>Spain</td>\n",
              "    </tr>\n",
              "    <tr>\n",
              "      <th>4</th>\n",
              "      <td>Valencia CF</td>\n",
              "      <td>LaLiga</td>\n",
              "      <td>25.0</td>\n",
              "      <td>Mestalla</td>\n",
              "      <td>Pako Ayestarán</td>\n",
              "      <td>Mar 30, 2016</td>\n",
              "      <td>€225.65m</td>\n",
              "      <td>2015</td>\n",
              "      <td>Spain</td>\n",
              "    </tr>\n",
              "  </tbody>\n",
              "</table>\n",
              "</div>\n",
              "      <button class=\"colab-df-convert\" onclick=\"convertToInteractive('df-ca8823bd-2253-4fac-bd9a-c26d06e9de8c')\"\n",
              "              title=\"Convert this dataframe to an interactive table.\"\n",
              "              style=\"display:none;\">\n",
              "        \n",
              "  <svg xmlns=\"http://www.w3.org/2000/svg\" height=\"24px\"viewBox=\"0 0 24 24\"\n",
              "       width=\"24px\">\n",
              "    <path d=\"M0 0h24v24H0V0z\" fill=\"none\"/>\n",
              "    <path d=\"M18.56 5.44l.94 2.06.94-2.06 2.06-.94-2.06-.94-.94-2.06-.94 2.06-2.06.94zm-11 1L8.5 8.5l.94-2.06 2.06-.94-2.06-.94L8.5 2.5l-.94 2.06-2.06.94zm10 10l.94 2.06.94-2.06 2.06-.94-2.06-.94-.94-2.06-.94 2.06-2.06.94z\"/><path d=\"M17.41 7.96l-1.37-1.37c-.4-.4-.92-.59-1.43-.59-.52 0-1.04.2-1.43.59L10.3 9.45l-7.72 7.72c-.78.78-.78 2.05 0 2.83L4 21.41c.39.39.9.59 1.41.59.51 0 1.02-.2 1.41-.59l7.78-7.78 2.81-2.81c.8-.78.8-2.07 0-2.86zM5.41 20L4 18.59l7.72-7.72 1.47 1.35L5.41 20z\"/>\n",
              "  </svg>\n",
              "      </button>\n",
              "      \n",
              "  <style>\n",
              "    .colab-df-container {\n",
              "      display:flex;\n",
              "      flex-wrap:wrap;\n",
              "      gap: 12px;\n",
              "    }\n",
              "\n",
              "    .colab-df-convert {\n",
              "      background-color: #E8F0FE;\n",
              "      border: none;\n",
              "      border-radius: 50%;\n",
              "      cursor: pointer;\n",
              "      display: none;\n",
              "      fill: #1967D2;\n",
              "      height: 32px;\n",
              "      padding: 0 0 0 0;\n",
              "      width: 32px;\n",
              "    }\n",
              "\n",
              "    .colab-df-convert:hover {\n",
              "      background-color: #E2EBFA;\n",
              "      box-shadow: 0px 1px 2px rgba(60, 64, 67, 0.3), 0px 1px 3px 1px rgba(60, 64, 67, 0.15);\n",
              "      fill: #174EA6;\n",
              "    }\n",
              "\n",
              "    [theme=dark] .colab-df-convert {\n",
              "      background-color: #3B4455;\n",
              "      fill: #D2E3FC;\n",
              "    }\n",
              "\n",
              "    [theme=dark] .colab-df-convert:hover {\n",
              "      background-color: #434B5C;\n",
              "      box-shadow: 0px 1px 3px 1px rgba(0, 0, 0, 0.15);\n",
              "      filter: drop-shadow(0px 1px 2px rgba(0, 0, 0, 0.3));\n",
              "      fill: #FFFFFF;\n",
              "    }\n",
              "  </style>\n",
              "\n",
              "      <script>\n",
              "        const buttonEl =\n",
              "          document.querySelector('#df-ca8823bd-2253-4fac-bd9a-c26d06e9de8c button.colab-df-convert');\n",
              "        buttonEl.style.display =\n",
              "          google.colab.kernel.accessAllowed ? 'block' : 'none';\n",
              "\n",
              "        async function convertToInteractive(key) {\n",
              "          const element = document.querySelector('#df-ca8823bd-2253-4fac-bd9a-c26d06e9de8c');\n",
              "          const dataTable =\n",
              "            await google.colab.kernel.invokeFunction('convertToInteractive',\n",
              "                                                     [key], {});\n",
              "          if (!dataTable) return;\n",
              "\n",
              "          const docLinkHtml = 'Like what you see? Visit the ' +\n",
              "            '<a target=\"_blank\" href=https://colab.research.google.com/notebooks/data_table.ipynb>data table notebook</a>'\n",
              "            + ' to learn more about interactive tables.';\n",
              "          element.innerHTML = '';\n",
              "          dataTable['output_type'] = 'display_data';\n",
              "          await google.colab.output.renderOutput(dataTable, element);\n",
              "          const docLink = document.createElement('div');\n",
              "          docLink.innerHTML = docLinkHtml;\n",
              "          element.appendChild(docLink);\n",
              "        }\n",
              "      </script>\n",
              "    </div>\n",
              "  </div>\n",
              "  "
            ]
          },
          "metadata": {},
          "execution_count": 17
        }
      ],
      "source": [
        "Spain.head()"
      ]
    },
    {
      "cell_type": "code",
      "execution_count": null,
      "metadata": {
        "id": "-vXETZOZAOp-",
        "outputId": "195bece5-06bd-45e3-9f66-8be2e55b7c3f",
        "colab": {
          "base_uri": "https://localhost:8080/"
        }
      },
      "outputs": [
        {
          "output_type": "execute_result",
          "data": {
            "text/plain": [
              "Club Name                 0\n",
              "League name               0\n",
              "Average age of players    0\n",
              "Stadium name              0\n",
              "Coach name                0\n",
              "Coach Date                0\n",
              "Club Values               0\n",
              "Season                    0\n",
              "Country                   0\n",
              "dtype: int64"
            ]
          },
          "metadata": {},
          "execution_count": 18
        }
      ],
      "source": [
        "Spain.isnull().sum()"
      ]
    },
    {
      "cell_type": "markdown",
      "metadata": {
        "id": "G07nUmhGAOp_"
      },
      "source": [
        "# Germany"
      ]
    },
    {
      "cell_type": "code",
      "execution_count": null,
      "metadata": {
        "id": "9GuQT1seAOp_"
      },
      "outputs": [],
      "source": [
        "Bundesliga_2015=pd.read_csv('Bundesliga_2015.csv')\n",
        "Bundesliga_2015['Season']='2015'\n",
        "Bundesliga_2016=pd.read_csv('Bundesliga_2016.csv')\n",
        "Bundesliga_2016['Season']='2016'\n",
        "Bundesliga_2017=pd.read_csv('Bundesliga_2017.csv')\n",
        "Bundesliga_2017['Season']='2017'\n",
        "Bundesliga_2018=pd.read_csv('Bundesliga_2018.csv')\n",
        "Bundesliga_2018['Season']='2018'\n",
        "Bundesliga_2019=pd.read_csv('Bundesliga_2019.csv')\n",
        "Bundesliga_2019['Season']='2019'\n",
        "Bundesliga_2020=pd.read_csv('Bundesliga_2020.csv')\n",
        "Bundesliga_2020['Season']='2020'\n",
        "Bundesliga_2021=pd.read_csv('Bundesliga_2021.csv')\n",
        "Bundesliga_2021['Season']='2021'"
      ]
    },
    {
      "cell_type": "code",
      "execution_count": null,
      "metadata": {
        "id": "Yewm7Zh7AOp_",
        "outputId": "04c7f1a3-ccc3-4fc1-afcd-e4b96a24a462",
        "colab": {
          "base_uri": "https://localhost:8080/"
        }
      },
      "outputs": [
        {
          "output_type": "execute_result",
          "data": {
            "text/plain": [
              "(18, 9)"
            ]
          },
          "metadata": {},
          "execution_count": 20
        }
      ],
      "source": [
        "Bundesliga_2015.shape"
      ]
    },
    {
      "cell_type": "code",
      "execution_count": null,
      "metadata": {
        "id": "f7tv3DByAOp_"
      },
      "outputs": [],
      "source": [
        "Germany=pd.concat([Bundesliga_2015,Bundesliga_2016,Bundesliga_2017,Bundesliga_2018,Bundesliga_2019,Bundesliga_2020,Bundesliga_2021])"
      ]
    },
    {
      "cell_type": "code",
      "execution_count": null,
      "metadata": {
        "id": "-h9_Wrb-AOp_"
      },
      "outputs": [],
      "source": [
        "Germany.drop(['Unnamed: 0'],axis=1,inplace=True)"
      ]
    },
    {
      "cell_type": "code",
      "execution_count": null,
      "metadata": {
        "id": "I66mQso4AOp_"
      },
      "outputs": [],
      "source": [
        "Germany['Country']='Germany'"
      ]
    },
    {
      "cell_type": "code",
      "execution_count": null,
      "metadata": {
        "id": "S4iwPHgQAOqA",
        "outputId": "17f1c5eb-6998-4587-c646-bc06b6de4493",
        "colab": {
          "base_uri": "https://localhost:8080/",
          "height": 354
        }
      },
      "outputs": [
        {
          "output_type": "execute_result",
          "data": {
            "text/plain": [
              "             Club Name League name  Average age of players       Stadium name  \\\n",
              "0        Bayern Munich  Bundesliga                    26.5      Allianz Arena   \n",
              "1    Borussia Dortmund  Bundesliga                    24.6  SIGNAL IDUNA PARK   \n",
              "2        VfL Wolfsburg  Bundesliga                    24.6   Volkswagen Arena   \n",
              "3  Bayer 04 Leverkusen  Bundesliga                    24.9           BayArena   \n",
              "4        FC Schalke 04  Bundesliga                    27.3      Veltins-Arena   \n",
              "\n",
              "            Coach name   Coach Date Club Values Season  Country  \n",
              "0        Pep Guardiola  Jul 1, 2013    €979.70m   2015  Germany  \n",
              "1        Thomas Tuchel  Jul 1, 2015    €547.70m   2015  Germany  \n",
              "2       Dieter Hecking  Jan 1, 2013    €200.70m   2015  Germany  \n",
              "3        Roger Schmidt  Jul 1, 2014    €421.85m   2015  Germany  \n",
              "4  André Breitenreiter  Jul 1, 2015     €60.40m   2015  Germany  "
            ],
            "text/html": [
              "\n",
              "  <div id=\"df-e4da5f60-0647-45fd-a404-fe1927cb626c\">\n",
              "    <div class=\"colab-df-container\">\n",
              "      <div>\n",
              "<style scoped>\n",
              "    .dataframe tbody tr th:only-of-type {\n",
              "        vertical-align: middle;\n",
              "    }\n",
              "\n",
              "    .dataframe tbody tr th {\n",
              "        vertical-align: top;\n",
              "    }\n",
              "\n",
              "    .dataframe thead th {\n",
              "        text-align: right;\n",
              "    }\n",
              "</style>\n",
              "<table border=\"1\" class=\"dataframe\">\n",
              "  <thead>\n",
              "    <tr style=\"text-align: right;\">\n",
              "      <th></th>\n",
              "      <th>Club Name</th>\n",
              "      <th>League name</th>\n",
              "      <th>Average age of players</th>\n",
              "      <th>Stadium name</th>\n",
              "      <th>Coach name</th>\n",
              "      <th>Coach Date</th>\n",
              "      <th>Club Values</th>\n",
              "      <th>Season</th>\n",
              "      <th>Country</th>\n",
              "    </tr>\n",
              "  </thead>\n",
              "  <tbody>\n",
              "    <tr>\n",
              "      <th>0</th>\n",
              "      <td>Bayern Munich</td>\n",
              "      <td>Bundesliga</td>\n",
              "      <td>26.5</td>\n",
              "      <td>Allianz Arena</td>\n",
              "      <td>Pep Guardiola</td>\n",
              "      <td>Jul 1, 2013</td>\n",
              "      <td>€979.70m</td>\n",
              "      <td>2015</td>\n",
              "      <td>Germany</td>\n",
              "    </tr>\n",
              "    <tr>\n",
              "      <th>1</th>\n",
              "      <td>Borussia Dortmund</td>\n",
              "      <td>Bundesliga</td>\n",
              "      <td>24.6</td>\n",
              "      <td>SIGNAL IDUNA PARK</td>\n",
              "      <td>Thomas Tuchel</td>\n",
              "      <td>Jul 1, 2015</td>\n",
              "      <td>€547.70m</td>\n",
              "      <td>2015</td>\n",
              "      <td>Germany</td>\n",
              "    </tr>\n",
              "    <tr>\n",
              "      <th>2</th>\n",
              "      <td>VfL Wolfsburg</td>\n",
              "      <td>Bundesliga</td>\n",
              "      <td>24.6</td>\n",
              "      <td>Volkswagen Arena</td>\n",
              "      <td>Dieter Hecking</td>\n",
              "      <td>Jan 1, 2013</td>\n",
              "      <td>€200.70m</td>\n",
              "      <td>2015</td>\n",
              "      <td>Germany</td>\n",
              "    </tr>\n",
              "    <tr>\n",
              "      <th>3</th>\n",
              "      <td>Bayer 04 Leverkusen</td>\n",
              "      <td>Bundesliga</td>\n",
              "      <td>24.9</td>\n",
              "      <td>BayArena</td>\n",
              "      <td>Roger Schmidt</td>\n",
              "      <td>Jul 1, 2014</td>\n",
              "      <td>€421.85m</td>\n",
              "      <td>2015</td>\n",
              "      <td>Germany</td>\n",
              "    </tr>\n",
              "    <tr>\n",
              "      <th>4</th>\n",
              "      <td>FC Schalke 04</td>\n",
              "      <td>Bundesliga</td>\n",
              "      <td>27.3</td>\n",
              "      <td>Veltins-Arena</td>\n",
              "      <td>André Breitenreiter</td>\n",
              "      <td>Jul 1, 2015</td>\n",
              "      <td>€60.40m</td>\n",
              "      <td>2015</td>\n",
              "      <td>Germany</td>\n",
              "    </tr>\n",
              "  </tbody>\n",
              "</table>\n",
              "</div>\n",
              "      <button class=\"colab-df-convert\" onclick=\"convertToInteractive('df-e4da5f60-0647-45fd-a404-fe1927cb626c')\"\n",
              "              title=\"Convert this dataframe to an interactive table.\"\n",
              "              style=\"display:none;\">\n",
              "        \n",
              "  <svg xmlns=\"http://www.w3.org/2000/svg\" height=\"24px\"viewBox=\"0 0 24 24\"\n",
              "       width=\"24px\">\n",
              "    <path d=\"M0 0h24v24H0V0z\" fill=\"none\"/>\n",
              "    <path d=\"M18.56 5.44l.94 2.06.94-2.06 2.06-.94-2.06-.94-.94-2.06-.94 2.06-2.06.94zm-11 1L8.5 8.5l.94-2.06 2.06-.94-2.06-.94L8.5 2.5l-.94 2.06-2.06.94zm10 10l.94 2.06.94-2.06 2.06-.94-2.06-.94-.94-2.06-.94 2.06-2.06.94z\"/><path d=\"M17.41 7.96l-1.37-1.37c-.4-.4-.92-.59-1.43-.59-.52 0-1.04.2-1.43.59L10.3 9.45l-7.72 7.72c-.78.78-.78 2.05 0 2.83L4 21.41c.39.39.9.59 1.41.59.51 0 1.02-.2 1.41-.59l7.78-7.78 2.81-2.81c.8-.78.8-2.07 0-2.86zM5.41 20L4 18.59l7.72-7.72 1.47 1.35L5.41 20z\"/>\n",
              "  </svg>\n",
              "      </button>\n",
              "      \n",
              "  <style>\n",
              "    .colab-df-container {\n",
              "      display:flex;\n",
              "      flex-wrap:wrap;\n",
              "      gap: 12px;\n",
              "    }\n",
              "\n",
              "    .colab-df-convert {\n",
              "      background-color: #E8F0FE;\n",
              "      border: none;\n",
              "      border-radius: 50%;\n",
              "      cursor: pointer;\n",
              "      display: none;\n",
              "      fill: #1967D2;\n",
              "      height: 32px;\n",
              "      padding: 0 0 0 0;\n",
              "      width: 32px;\n",
              "    }\n",
              "\n",
              "    .colab-df-convert:hover {\n",
              "      background-color: #E2EBFA;\n",
              "      box-shadow: 0px 1px 2px rgba(60, 64, 67, 0.3), 0px 1px 3px 1px rgba(60, 64, 67, 0.15);\n",
              "      fill: #174EA6;\n",
              "    }\n",
              "\n",
              "    [theme=dark] .colab-df-convert {\n",
              "      background-color: #3B4455;\n",
              "      fill: #D2E3FC;\n",
              "    }\n",
              "\n",
              "    [theme=dark] .colab-df-convert:hover {\n",
              "      background-color: #434B5C;\n",
              "      box-shadow: 0px 1px 3px 1px rgba(0, 0, 0, 0.15);\n",
              "      filter: drop-shadow(0px 1px 2px rgba(0, 0, 0, 0.3));\n",
              "      fill: #FFFFFF;\n",
              "    }\n",
              "  </style>\n",
              "\n",
              "      <script>\n",
              "        const buttonEl =\n",
              "          document.querySelector('#df-e4da5f60-0647-45fd-a404-fe1927cb626c button.colab-df-convert');\n",
              "        buttonEl.style.display =\n",
              "          google.colab.kernel.accessAllowed ? 'block' : 'none';\n",
              "\n",
              "        async function convertToInteractive(key) {\n",
              "          const element = document.querySelector('#df-e4da5f60-0647-45fd-a404-fe1927cb626c');\n",
              "          const dataTable =\n",
              "            await google.colab.kernel.invokeFunction('convertToInteractive',\n",
              "                                                     [key], {});\n",
              "          if (!dataTable) return;\n",
              "\n",
              "          const docLinkHtml = 'Like what you see? Visit the ' +\n",
              "            '<a target=\"_blank\" href=https://colab.research.google.com/notebooks/data_table.ipynb>data table notebook</a>'\n",
              "            + ' to learn more about interactive tables.';\n",
              "          element.innerHTML = '';\n",
              "          dataTable['output_type'] = 'display_data';\n",
              "          await google.colab.output.renderOutput(dataTable, element);\n",
              "          const docLink = document.createElement('div');\n",
              "          docLink.innerHTML = docLinkHtml;\n",
              "          element.appendChild(docLink);\n",
              "        }\n",
              "      </script>\n",
              "    </div>\n",
              "  </div>\n",
              "  "
            ]
          },
          "metadata": {},
          "execution_count": 24
        }
      ],
      "source": [
        "Germany.head()"
      ]
    },
    {
      "cell_type": "code",
      "execution_count": null,
      "metadata": {
        "id": "iwcx6DsHAOqA",
        "outputId": "698d0e88-58a2-442f-9edf-e3b36b6acd46",
        "colab": {
          "base_uri": "https://localhost:8080/"
        }
      },
      "outputs": [
        {
          "output_type": "execute_result",
          "data": {
            "text/plain": [
              "Club Name                 0\n",
              "League name               0\n",
              "Average age of players    0\n",
              "Stadium name              0\n",
              "Coach name                0\n",
              "Coach Date                0\n",
              "Club Values               0\n",
              "Season                    0\n",
              "Country                   0\n",
              "dtype: int64"
            ]
          },
          "metadata": {},
          "execution_count": 25
        }
      ],
      "source": [
        "Germany.isnull().sum()"
      ]
    },
    {
      "cell_type": "markdown",
      "metadata": {
        "id": "Kql1LuczAOqA"
      },
      "source": [
        "# France"
      ]
    },
    {
      "cell_type": "code",
      "execution_count": null,
      "metadata": {
        "id": "eGqNV0s2AOqA"
      },
      "outputs": [],
      "source": [
        "Ligue1_2015=pd.read_csv('Ligue1_2015.csv')\n",
        "Ligue1_2015['Season']='2015'\n",
        "Ligue1_2016=pd.read_csv('Ligue1_2016.csv')\n",
        "Ligue1_2016['Season']='2016'\n",
        "Ligue1_2017=pd.read_csv('Ligue1_2017.csv')\n",
        "Ligue1_2017['Season']='2017'\n",
        "Ligue1_2018=pd.read_csv('Ligue1_2018.csv')\n",
        "Ligue1_2018['Season']='2018'\n",
        "Ligue1_2019=pd.read_csv('Ligue1_2019.csv')\n",
        "Ligue1_2019['Season']='2019'\n",
        "Ligue1_2020=pd.read_csv('Ligue1_2020.csv')\n",
        "Ligue1_2020['Season']='2020'\n",
        "Ligue1_2021=pd.read_csv('Ligue1_2021.csv')\n",
        "Ligue1_2021['Season']='2021'"
      ]
    },
    {
      "cell_type": "code",
      "execution_count": null,
      "metadata": {
        "id": "ZLN3ySmMAOqA",
        "outputId": "6137870a-2d55-4ad5-86a0-6c97ed276830",
        "colab": {
          "base_uri": "https://localhost:8080/"
        }
      },
      "outputs": [
        {
          "output_type": "stream",
          "name": "stderr",
          "text": [
            "<ipython-input-27-74046bd9dc2d>:1: SettingWithCopyWarning: \n",
            "A value is trying to be set on a copy of a slice from a DataFrame\n",
            "\n",
            "See the caveats in the documentation: https://pandas.pydata.org/pandas-docs/stable/user_guide/indexing.html#returning-a-view-versus-a-copy\n",
            "  Ligue1_2015['Club Values'].loc[19]='€18.40m'\n"
          ]
        }
      ],
      "source": [
        "Ligue1_2015['Club Values'].loc[19]='€18.40m'"
      ]
    },
    {
      "cell_type": "code",
      "execution_count": null,
      "metadata": {
        "id": "TJNaKKD4AOqB"
      },
      "outputs": [],
      "source": [
        "France=pd.concat([Ligue1_2015,Ligue1_2016,Ligue1_2017,Ligue1_2018,Ligue1_2019,Ligue1_2020,Ligue1_2021])"
      ]
    },
    {
      "cell_type": "code",
      "execution_count": null,
      "metadata": {
        "id": "I5jOXPgdAOqB"
      },
      "outputs": [],
      "source": [
        "France.drop(['Unnamed: 0'],axis=1,inplace=True)"
      ]
    },
    {
      "cell_type": "code",
      "execution_count": null,
      "metadata": {
        "id": "Nen_VGewAOqB",
        "outputId": "195dd921-f660-4949-ee13-e0c96e18d383",
        "colab": {
          "base_uri": "https://localhost:8080/"
        }
      },
      "outputs": [
        {
          "output_type": "execute_result",
          "data": {
            "text/plain": [
              "(140, 8)"
            ]
          },
          "metadata": {},
          "execution_count": 30
        }
      ],
      "source": [
        "France.shape"
      ]
    },
    {
      "cell_type": "code",
      "execution_count": null,
      "metadata": {
        "id": "wWdvkEEqAOqB"
      },
      "outputs": [],
      "source": [
        "France['Country']='France'"
      ]
    },
    {
      "cell_type": "code",
      "execution_count": null,
      "metadata": {
        "id": "2_YKp8GIAOqB",
        "outputId": "482cb912-b43a-4205-df1a-0bd6da522379",
        "colab": {
          "base_uri": "https://localhost:8080/"
        }
      },
      "outputs": [
        {
          "output_type": "execute_result",
          "data": {
            "text/plain": [
              "Club Name                 0\n",
              "League name               0\n",
              "Average age of players    0\n",
              "Stadium name              0\n",
              "Coach name                0\n",
              "Coach Date                0\n",
              "Club Values               0\n",
              "Season                    0\n",
              "Country                   0\n",
              "dtype: int64"
            ]
          },
          "metadata": {},
          "execution_count": 32
        }
      ],
      "source": [
        "France.isnull().sum()"
      ]
    },
    {
      "cell_type": "code",
      "execution_count": null,
      "metadata": {
        "id": "LW7Lc699AOqC",
        "outputId": "3cdf68e3-3159-46e1-deca-759d204c3d2c",
        "colab": {
          "base_uri": "https://localhost:8080/",
          "height": 354
        }
      },
      "outputs": [
        {
          "output_type": "execute_result",
          "data": {
            "text/plain": [
              "             Club Name League name  Average age of players  \\\n",
              "0  Paris Saint-Germain     Ligue 1                    25.1   \n",
              "1            AS Monaco     Ligue 1                    24.3   \n",
              "2       Olympique Lyon     Ligue 1                    25.2   \n",
              "3  Olympique Marseille     Ligue 1                    26.7   \n",
              "4     AS Saint-Étienne     Ligue 2                    25.1   \n",
              "\n",
              "              Stadium name          Coach name    Coach Date Club Values  \\\n",
              "0         Parc des Princes       Laurent Blanc  Jun 25, 2013    €882.55m   \n",
              "1           Stade Louis-II     Leonardo Jardim   Jul 1, 2014    €324.20m   \n",
              "2         Groupama Stadium     Hubert Fournier   Jul 1, 2014    €231.80m   \n",
              "3         Orange Vélodrome      Marcelo Bielsa   Jul 1, 2014    €259.20m   \n",
              "4  Stade Geoffroy-Guichard  Christophe Galtier  Dec 16, 2009     €39.00m   \n",
              "\n",
              "  Season Country  \n",
              "0   2015  France  \n",
              "1   2015  France  \n",
              "2   2015  France  \n",
              "3   2015  France  \n",
              "4   2015  France  "
            ],
            "text/html": [
              "\n",
              "  <div id=\"df-820ab51b-3e4c-4a34-b8e0-fb2ac19c6cc0\">\n",
              "    <div class=\"colab-df-container\">\n",
              "      <div>\n",
              "<style scoped>\n",
              "    .dataframe tbody tr th:only-of-type {\n",
              "        vertical-align: middle;\n",
              "    }\n",
              "\n",
              "    .dataframe tbody tr th {\n",
              "        vertical-align: top;\n",
              "    }\n",
              "\n",
              "    .dataframe thead th {\n",
              "        text-align: right;\n",
              "    }\n",
              "</style>\n",
              "<table border=\"1\" class=\"dataframe\">\n",
              "  <thead>\n",
              "    <tr style=\"text-align: right;\">\n",
              "      <th></th>\n",
              "      <th>Club Name</th>\n",
              "      <th>League name</th>\n",
              "      <th>Average age of players</th>\n",
              "      <th>Stadium name</th>\n",
              "      <th>Coach name</th>\n",
              "      <th>Coach Date</th>\n",
              "      <th>Club Values</th>\n",
              "      <th>Season</th>\n",
              "      <th>Country</th>\n",
              "    </tr>\n",
              "  </thead>\n",
              "  <tbody>\n",
              "    <tr>\n",
              "      <th>0</th>\n",
              "      <td>Paris Saint-Germain</td>\n",
              "      <td>Ligue 1</td>\n",
              "      <td>25.1</td>\n",
              "      <td>Parc des Princes</td>\n",
              "      <td>Laurent Blanc</td>\n",
              "      <td>Jun 25, 2013</td>\n",
              "      <td>€882.55m</td>\n",
              "      <td>2015</td>\n",
              "      <td>France</td>\n",
              "    </tr>\n",
              "    <tr>\n",
              "      <th>1</th>\n",
              "      <td>AS Monaco</td>\n",
              "      <td>Ligue 1</td>\n",
              "      <td>24.3</td>\n",
              "      <td>Stade Louis-II</td>\n",
              "      <td>Leonardo Jardim</td>\n",
              "      <td>Jul 1, 2014</td>\n",
              "      <td>€324.20m</td>\n",
              "      <td>2015</td>\n",
              "      <td>France</td>\n",
              "    </tr>\n",
              "    <tr>\n",
              "      <th>2</th>\n",
              "      <td>Olympique Lyon</td>\n",
              "      <td>Ligue 1</td>\n",
              "      <td>25.2</td>\n",
              "      <td>Groupama Stadium</td>\n",
              "      <td>Hubert Fournier</td>\n",
              "      <td>Jul 1, 2014</td>\n",
              "      <td>€231.80m</td>\n",
              "      <td>2015</td>\n",
              "      <td>France</td>\n",
              "    </tr>\n",
              "    <tr>\n",
              "      <th>3</th>\n",
              "      <td>Olympique Marseille</td>\n",
              "      <td>Ligue 1</td>\n",
              "      <td>26.7</td>\n",
              "      <td>Orange Vélodrome</td>\n",
              "      <td>Marcelo Bielsa</td>\n",
              "      <td>Jul 1, 2014</td>\n",
              "      <td>€259.20m</td>\n",
              "      <td>2015</td>\n",
              "      <td>France</td>\n",
              "    </tr>\n",
              "    <tr>\n",
              "      <th>4</th>\n",
              "      <td>AS Saint-Étienne</td>\n",
              "      <td>Ligue 2</td>\n",
              "      <td>25.1</td>\n",
              "      <td>Stade Geoffroy-Guichard</td>\n",
              "      <td>Christophe Galtier</td>\n",
              "      <td>Dec 16, 2009</td>\n",
              "      <td>€39.00m</td>\n",
              "      <td>2015</td>\n",
              "      <td>France</td>\n",
              "    </tr>\n",
              "  </tbody>\n",
              "</table>\n",
              "</div>\n",
              "      <button class=\"colab-df-convert\" onclick=\"convertToInteractive('df-820ab51b-3e4c-4a34-b8e0-fb2ac19c6cc0')\"\n",
              "              title=\"Convert this dataframe to an interactive table.\"\n",
              "              style=\"display:none;\">\n",
              "        \n",
              "  <svg xmlns=\"http://www.w3.org/2000/svg\" height=\"24px\"viewBox=\"0 0 24 24\"\n",
              "       width=\"24px\">\n",
              "    <path d=\"M0 0h24v24H0V0z\" fill=\"none\"/>\n",
              "    <path d=\"M18.56 5.44l.94 2.06.94-2.06 2.06-.94-2.06-.94-.94-2.06-.94 2.06-2.06.94zm-11 1L8.5 8.5l.94-2.06 2.06-.94-2.06-.94L8.5 2.5l-.94 2.06-2.06.94zm10 10l.94 2.06.94-2.06 2.06-.94-2.06-.94-.94-2.06-.94 2.06-2.06.94z\"/><path d=\"M17.41 7.96l-1.37-1.37c-.4-.4-.92-.59-1.43-.59-.52 0-1.04.2-1.43.59L10.3 9.45l-7.72 7.72c-.78.78-.78 2.05 0 2.83L4 21.41c.39.39.9.59 1.41.59.51 0 1.02-.2 1.41-.59l7.78-7.78 2.81-2.81c.8-.78.8-2.07 0-2.86zM5.41 20L4 18.59l7.72-7.72 1.47 1.35L5.41 20z\"/>\n",
              "  </svg>\n",
              "      </button>\n",
              "      \n",
              "  <style>\n",
              "    .colab-df-container {\n",
              "      display:flex;\n",
              "      flex-wrap:wrap;\n",
              "      gap: 12px;\n",
              "    }\n",
              "\n",
              "    .colab-df-convert {\n",
              "      background-color: #E8F0FE;\n",
              "      border: none;\n",
              "      border-radius: 50%;\n",
              "      cursor: pointer;\n",
              "      display: none;\n",
              "      fill: #1967D2;\n",
              "      height: 32px;\n",
              "      padding: 0 0 0 0;\n",
              "      width: 32px;\n",
              "    }\n",
              "\n",
              "    .colab-df-convert:hover {\n",
              "      background-color: #E2EBFA;\n",
              "      box-shadow: 0px 1px 2px rgba(60, 64, 67, 0.3), 0px 1px 3px 1px rgba(60, 64, 67, 0.15);\n",
              "      fill: #174EA6;\n",
              "    }\n",
              "\n",
              "    [theme=dark] .colab-df-convert {\n",
              "      background-color: #3B4455;\n",
              "      fill: #D2E3FC;\n",
              "    }\n",
              "\n",
              "    [theme=dark] .colab-df-convert:hover {\n",
              "      background-color: #434B5C;\n",
              "      box-shadow: 0px 1px 3px 1px rgba(0, 0, 0, 0.15);\n",
              "      filter: drop-shadow(0px 1px 2px rgba(0, 0, 0, 0.3));\n",
              "      fill: #FFFFFF;\n",
              "    }\n",
              "  </style>\n",
              "\n",
              "      <script>\n",
              "        const buttonEl =\n",
              "          document.querySelector('#df-820ab51b-3e4c-4a34-b8e0-fb2ac19c6cc0 button.colab-df-convert');\n",
              "        buttonEl.style.display =\n",
              "          google.colab.kernel.accessAllowed ? 'block' : 'none';\n",
              "\n",
              "        async function convertToInteractive(key) {\n",
              "          const element = document.querySelector('#df-820ab51b-3e4c-4a34-b8e0-fb2ac19c6cc0');\n",
              "          const dataTable =\n",
              "            await google.colab.kernel.invokeFunction('convertToInteractive',\n",
              "                                                     [key], {});\n",
              "          if (!dataTable) return;\n",
              "\n",
              "          const docLinkHtml = 'Like what you see? Visit the ' +\n",
              "            '<a target=\"_blank\" href=https://colab.research.google.com/notebooks/data_table.ipynb>data table notebook</a>'\n",
              "            + ' to learn more about interactive tables.';\n",
              "          element.innerHTML = '';\n",
              "          dataTable['output_type'] = 'display_data';\n",
              "          await google.colab.output.renderOutput(dataTable, element);\n",
              "          const docLink = document.createElement('div');\n",
              "          docLink.innerHTML = docLinkHtml;\n",
              "          element.appendChild(docLink);\n",
              "        }\n",
              "      </script>\n",
              "    </div>\n",
              "  </div>\n",
              "  "
            ]
          },
          "metadata": {},
          "execution_count": 33
        }
      ],
      "source": [
        "France.head()"
      ]
    },
    {
      "cell_type": "markdown",
      "source": [
        "#Italy"
      ],
      "metadata": {
        "id": "XRT28zdkCtJC"
      }
    },
    {
      "cell_type": "code",
      "execution_count": null,
      "metadata": {
        "id": "-W1P2emTAOqC"
      },
      "outputs": [],
      "source": [
        "SeriaA_2015=pd.read_csv('SeriaA_2015.csv')\n",
        "SeriaA_2015['Season']='2015'\n",
        "SeriaA_2016=pd.read_csv('SeriaA_2016.csv')\n",
        "SeriaA_2016['Season']='2016'\n",
        "SeriaA_2017=pd.read_csv('SeriaA_2017.csv')\n",
        "SeriaA_2017['Season']='2017'\n",
        "SeriaA_2018=pd.read_csv('SeriaA_2018.csv')\n",
        "SeriaA_2018['Season']='2018'\n",
        "SeriaA_2019=pd.read_csv('SeriaA_2019.csv')\n",
        "SeriaA_2019['Season']='2019'\n",
        "SeriaA_2020=pd.read_csv('SeriaA_2020.csv')\n",
        "SeriaA_2020['Season']='2020'\n",
        "SeriaA_2021=pd.read_csv('SeriaA_2021.csv')\n",
        "SeriaA_2021['Season']='2021'"
      ]
    },
    {
      "cell_type": "code",
      "execution_count": null,
      "metadata": {
        "id": "rO7qFqIKAOqC"
      },
      "outputs": [],
      "source": [
        "Italy=pd.concat([SeriaA_2015,SeriaA_2016,SeriaA_2017,SeriaA_2018,SeriaA_2019,SeriaA_2020,SeriaA_2021],ignore_index=True)"
      ]
    },
    {
      "cell_type": "code",
      "execution_count": null,
      "metadata": {
        "id": "G_UKsVtwAOqC"
      },
      "outputs": [],
      "source": [
        "Italy.drop(['Unnamed: 0'],axis=1,inplace=True)"
      ]
    },
    {
      "cell_type": "code",
      "execution_count": null,
      "metadata": {
        "id": "JebDraEcAOqC"
      },
      "outputs": [],
      "source": [
        "Italy['Country']='Italy'"
      ]
    },
    {
      "cell_type": "code",
      "execution_count": null,
      "metadata": {
        "id": "hub3ErP-AOqC",
        "outputId": "a21ddd1a-0ef7-41cf-b139-96b2bc05c8b5",
        "colab": {
          "base_uri": "https://localhost:8080/"
        }
      },
      "outputs": [
        {
          "output_type": "stream",
          "name": "stderr",
          "text": [
            "<ipython-input-38-8c69c123d789>:1: SettingWithCopyWarning: \n",
            "A value is trying to be set on a copy of a slice from a DataFrame\n",
            "\n",
            "See the caveats in the documentation: https://pandas.pydata.org/pandas-docs/stable/user_guide/indexing.html#returning-a-view-versus-a-copy\n",
            "  Italy['Club Values'].loc[17]='€49.78m'\n"
          ]
        }
      ],
      "source": [
        "Italy['Club Values'].loc[17]='€49.78m'"
      ]
    },
    {
      "cell_type": "code",
      "execution_count": null,
      "metadata": {
        "id": "c4W1xk2LAOqD",
        "outputId": "8c0e8cd2-648f-466c-a902-0b194a0966ed",
        "colab": {
          "base_uri": "https://localhost:8080/",
          "height": 598
        }
      },
      "outputs": [
        {
          "output_type": "execute_result",
          "data": {
            "text/plain": [
              "        Club Name League name  Average age of players  \\\n",
              "0     Juventus FC     Serie A                    27.0   \n",
              "1         AS Roma     Serie A                    26.2   \n",
              "2      SSC Napoli     Serie A                    26.2   \n",
              "3     Inter Milan     Serie A                    28.5   \n",
              "4        AC Milan     Serie A                    27.0   \n",
              "5  ACF Fiorentina     Serie A                    26.5   \n",
              "6        SS Lazio     Serie A                    27.2   \n",
              "7    UC Sampdoria     Serie A                    26.6   \n",
              "8       Genoa CFC     Serie B                    26.4   \n",
              "9     US Sassuolo     Serie A                    25.9   \n",
              "\n",
              "                          Stadium name            Coach name    Coach Date  \\\n",
              "0                      Allianz Stadium  Massimiliano Allegri  Jul 16, 2014   \n",
              "1                     Olimpico di Roma           Rudi Garcia   Jul 1, 2013   \n",
              "2        Stadio Diego Armando Maradona        Maurizio Sarri  Jun 11, 2015   \n",
              "3                      Giuseppe Meazza       Roberto Mancini  Nov 14, 2014   \n",
              "4                      Giuseppe Meazza     Siniša Mihajlović  Jun 16, 2015   \n",
              "5                      Artemio Franchi           Paulo Sousa  Jun 21, 2015   \n",
              "6                     Olimpico di Roma         Stefano Pioli   Jul 1, 2014   \n",
              "7                       Luigi Ferraris          Walter Zenga  Jun 11, 2015   \n",
              "8                       Luigi Ferraris  Gian Piero Gasperini  Sep 29, 2013   \n",
              "9  Mapei Stadium - Città del Tricolore  Eusebio Di Francesco   Mar 3, 2014   \n",
              "\n",
              "  Club Values Season Country  \n",
              "0    €420.70m   2015   Italy  \n",
              "1    €317.15m   2015   Italy  \n",
              "2    €629.00m   2015   Italy  \n",
              "3    €534.45m   2015   Italy  \n",
              "4    €547.25m   2015   Italy  \n",
              "5    €236.30m   2015   Italy  \n",
              "6    €274.15m   2015   Italy  \n",
              "7     €71.45m   2015   Italy  \n",
              "8     €52.55m   2015   Italy  \n",
              "9    €171.40m   2015   Italy  "
            ],
            "text/html": [
              "\n",
              "  <div id=\"df-ff6bffcd-954e-4a54-99f1-914d20eba191\">\n",
              "    <div class=\"colab-df-container\">\n",
              "      <div>\n",
              "<style scoped>\n",
              "    .dataframe tbody tr th:only-of-type {\n",
              "        vertical-align: middle;\n",
              "    }\n",
              "\n",
              "    .dataframe tbody tr th {\n",
              "        vertical-align: top;\n",
              "    }\n",
              "\n",
              "    .dataframe thead th {\n",
              "        text-align: right;\n",
              "    }\n",
              "</style>\n",
              "<table border=\"1\" class=\"dataframe\">\n",
              "  <thead>\n",
              "    <tr style=\"text-align: right;\">\n",
              "      <th></th>\n",
              "      <th>Club Name</th>\n",
              "      <th>League name</th>\n",
              "      <th>Average age of players</th>\n",
              "      <th>Stadium name</th>\n",
              "      <th>Coach name</th>\n",
              "      <th>Coach Date</th>\n",
              "      <th>Club Values</th>\n",
              "      <th>Season</th>\n",
              "      <th>Country</th>\n",
              "    </tr>\n",
              "  </thead>\n",
              "  <tbody>\n",
              "    <tr>\n",
              "      <th>0</th>\n",
              "      <td>Juventus FC</td>\n",
              "      <td>Serie A</td>\n",
              "      <td>27.0</td>\n",
              "      <td>Allianz Stadium</td>\n",
              "      <td>Massimiliano Allegri</td>\n",
              "      <td>Jul 16, 2014</td>\n",
              "      <td>€420.70m</td>\n",
              "      <td>2015</td>\n",
              "      <td>Italy</td>\n",
              "    </tr>\n",
              "    <tr>\n",
              "      <th>1</th>\n",
              "      <td>AS Roma</td>\n",
              "      <td>Serie A</td>\n",
              "      <td>26.2</td>\n",
              "      <td>Olimpico di Roma</td>\n",
              "      <td>Rudi Garcia</td>\n",
              "      <td>Jul 1, 2013</td>\n",
              "      <td>€317.15m</td>\n",
              "      <td>2015</td>\n",
              "      <td>Italy</td>\n",
              "    </tr>\n",
              "    <tr>\n",
              "      <th>2</th>\n",
              "      <td>SSC Napoli</td>\n",
              "      <td>Serie A</td>\n",
              "      <td>26.2</td>\n",
              "      <td>Stadio Diego Armando Maradona</td>\n",
              "      <td>Maurizio Sarri</td>\n",
              "      <td>Jun 11, 2015</td>\n",
              "      <td>€629.00m</td>\n",
              "      <td>2015</td>\n",
              "      <td>Italy</td>\n",
              "    </tr>\n",
              "    <tr>\n",
              "      <th>3</th>\n",
              "      <td>Inter Milan</td>\n",
              "      <td>Serie A</td>\n",
              "      <td>28.5</td>\n",
              "      <td>Giuseppe Meazza</td>\n",
              "      <td>Roberto Mancini</td>\n",
              "      <td>Nov 14, 2014</td>\n",
              "      <td>€534.45m</td>\n",
              "      <td>2015</td>\n",
              "      <td>Italy</td>\n",
              "    </tr>\n",
              "    <tr>\n",
              "      <th>4</th>\n",
              "      <td>AC Milan</td>\n",
              "      <td>Serie A</td>\n",
              "      <td>27.0</td>\n",
              "      <td>Giuseppe Meazza</td>\n",
              "      <td>Siniša Mihajlović</td>\n",
              "      <td>Jun 16, 2015</td>\n",
              "      <td>€547.25m</td>\n",
              "      <td>2015</td>\n",
              "      <td>Italy</td>\n",
              "    </tr>\n",
              "    <tr>\n",
              "      <th>5</th>\n",
              "      <td>ACF Fiorentina</td>\n",
              "      <td>Serie A</td>\n",
              "      <td>26.5</td>\n",
              "      <td>Artemio Franchi</td>\n",
              "      <td>Paulo Sousa</td>\n",
              "      <td>Jun 21, 2015</td>\n",
              "      <td>€236.30m</td>\n",
              "      <td>2015</td>\n",
              "      <td>Italy</td>\n",
              "    </tr>\n",
              "    <tr>\n",
              "      <th>6</th>\n",
              "      <td>SS Lazio</td>\n",
              "      <td>Serie A</td>\n",
              "      <td>27.2</td>\n",
              "      <td>Olimpico di Roma</td>\n",
              "      <td>Stefano Pioli</td>\n",
              "      <td>Jul 1, 2014</td>\n",
              "      <td>€274.15m</td>\n",
              "      <td>2015</td>\n",
              "      <td>Italy</td>\n",
              "    </tr>\n",
              "    <tr>\n",
              "      <th>7</th>\n",
              "      <td>UC Sampdoria</td>\n",
              "      <td>Serie A</td>\n",
              "      <td>26.6</td>\n",
              "      <td>Luigi Ferraris</td>\n",
              "      <td>Walter Zenga</td>\n",
              "      <td>Jun 11, 2015</td>\n",
              "      <td>€71.45m</td>\n",
              "      <td>2015</td>\n",
              "      <td>Italy</td>\n",
              "    </tr>\n",
              "    <tr>\n",
              "      <th>8</th>\n",
              "      <td>Genoa CFC</td>\n",
              "      <td>Serie B</td>\n",
              "      <td>26.4</td>\n",
              "      <td>Luigi Ferraris</td>\n",
              "      <td>Gian Piero Gasperini</td>\n",
              "      <td>Sep 29, 2013</td>\n",
              "      <td>€52.55m</td>\n",
              "      <td>2015</td>\n",
              "      <td>Italy</td>\n",
              "    </tr>\n",
              "    <tr>\n",
              "      <th>9</th>\n",
              "      <td>US Sassuolo</td>\n",
              "      <td>Serie A</td>\n",
              "      <td>25.9</td>\n",
              "      <td>Mapei Stadium - Città del Tricolore</td>\n",
              "      <td>Eusebio Di Francesco</td>\n",
              "      <td>Mar 3, 2014</td>\n",
              "      <td>€171.40m</td>\n",
              "      <td>2015</td>\n",
              "      <td>Italy</td>\n",
              "    </tr>\n",
              "  </tbody>\n",
              "</table>\n",
              "</div>\n",
              "      <button class=\"colab-df-convert\" onclick=\"convertToInteractive('df-ff6bffcd-954e-4a54-99f1-914d20eba191')\"\n",
              "              title=\"Convert this dataframe to an interactive table.\"\n",
              "              style=\"display:none;\">\n",
              "        \n",
              "  <svg xmlns=\"http://www.w3.org/2000/svg\" height=\"24px\"viewBox=\"0 0 24 24\"\n",
              "       width=\"24px\">\n",
              "    <path d=\"M0 0h24v24H0V0z\" fill=\"none\"/>\n",
              "    <path d=\"M18.56 5.44l.94 2.06.94-2.06 2.06-.94-2.06-.94-.94-2.06-.94 2.06-2.06.94zm-11 1L8.5 8.5l.94-2.06 2.06-.94-2.06-.94L8.5 2.5l-.94 2.06-2.06.94zm10 10l.94 2.06.94-2.06 2.06-.94-2.06-.94-.94-2.06-.94 2.06-2.06.94z\"/><path d=\"M17.41 7.96l-1.37-1.37c-.4-.4-.92-.59-1.43-.59-.52 0-1.04.2-1.43.59L10.3 9.45l-7.72 7.72c-.78.78-.78 2.05 0 2.83L4 21.41c.39.39.9.59 1.41.59.51 0 1.02-.2 1.41-.59l7.78-7.78 2.81-2.81c.8-.78.8-2.07 0-2.86zM5.41 20L4 18.59l7.72-7.72 1.47 1.35L5.41 20z\"/>\n",
              "  </svg>\n",
              "      </button>\n",
              "      \n",
              "  <style>\n",
              "    .colab-df-container {\n",
              "      display:flex;\n",
              "      flex-wrap:wrap;\n",
              "      gap: 12px;\n",
              "    }\n",
              "\n",
              "    .colab-df-convert {\n",
              "      background-color: #E8F0FE;\n",
              "      border: none;\n",
              "      border-radius: 50%;\n",
              "      cursor: pointer;\n",
              "      display: none;\n",
              "      fill: #1967D2;\n",
              "      height: 32px;\n",
              "      padding: 0 0 0 0;\n",
              "      width: 32px;\n",
              "    }\n",
              "\n",
              "    .colab-df-convert:hover {\n",
              "      background-color: #E2EBFA;\n",
              "      box-shadow: 0px 1px 2px rgba(60, 64, 67, 0.3), 0px 1px 3px 1px rgba(60, 64, 67, 0.15);\n",
              "      fill: #174EA6;\n",
              "    }\n",
              "\n",
              "    [theme=dark] .colab-df-convert {\n",
              "      background-color: #3B4455;\n",
              "      fill: #D2E3FC;\n",
              "    }\n",
              "\n",
              "    [theme=dark] .colab-df-convert:hover {\n",
              "      background-color: #434B5C;\n",
              "      box-shadow: 0px 1px 3px 1px rgba(0, 0, 0, 0.15);\n",
              "      filter: drop-shadow(0px 1px 2px rgba(0, 0, 0, 0.3));\n",
              "      fill: #FFFFFF;\n",
              "    }\n",
              "  </style>\n",
              "\n",
              "      <script>\n",
              "        const buttonEl =\n",
              "          document.querySelector('#df-ff6bffcd-954e-4a54-99f1-914d20eba191 button.colab-df-convert');\n",
              "        buttonEl.style.display =\n",
              "          google.colab.kernel.accessAllowed ? 'block' : 'none';\n",
              "\n",
              "        async function convertToInteractive(key) {\n",
              "          const element = document.querySelector('#df-ff6bffcd-954e-4a54-99f1-914d20eba191');\n",
              "          const dataTable =\n",
              "            await google.colab.kernel.invokeFunction('convertToInteractive',\n",
              "                                                     [key], {});\n",
              "          if (!dataTable) return;\n",
              "\n",
              "          const docLinkHtml = 'Like what you see? Visit the ' +\n",
              "            '<a target=\"_blank\" href=https://colab.research.google.com/notebooks/data_table.ipynb>data table notebook</a>'\n",
              "            + ' to learn more about interactive tables.';\n",
              "          element.innerHTML = '';\n",
              "          dataTable['output_type'] = 'display_data';\n",
              "          await google.colab.output.renderOutput(dataTable, element);\n",
              "          const docLink = document.createElement('div');\n",
              "          docLink.innerHTML = docLinkHtml;\n",
              "          element.appendChild(docLink);\n",
              "        }\n",
              "      </script>\n",
              "    </div>\n",
              "  </div>\n",
              "  "
            ]
          },
          "metadata": {},
          "execution_count": 40
        }
      ],
      "source": [
        "Italy.head(10)"
      ]
    },
    {
      "cell_type": "code",
      "source": [
        "Italy['Club Name'].unique()"
      ],
      "metadata": {
        "colab": {
          "base_uri": "https://localhost:8080/"
        },
        "id": "We0OJlt-4JUx",
        "outputId": "1f8ec776-f22b-45a6-812f-d7534daaf019"
      },
      "execution_count": null,
      "outputs": [
        {
          "output_type": "execute_result",
          "data": {
            "text/plain": [
              "array(['Juventus FC', 'AS Roma', 'SSC Napoli', 'Inter Milan', 'AC Milan',\n",
              "       'ACF Fiorentina', 'SS Lazio', 'UC Sampdoria', 'Genoa CFC',\n",
              "       'US Sassuolo', 'Udinese Calcio', 'Torino FC', 'Atalanta BC',\n",
              "       'Bologna FC 1909', 'FC Empoli', 'Palermo FC', 'AC Carpi',\n",
              "       'Chievo Verona', 'Hellas Verona', 'Frosinone Calcio',\n",
              "       'Cagliari Calcio', 'Delfino Pescara 1936', 'FC Crotone', 'SPAL',\n",
              "       'Benevento Calcio', 'Parma Calcio 1913', 'Brescia Calcio',\n",
              "       'US Lecce', 'Spezia Calcio', 'Venezia FC', 'US Salernitana 1919'],\n",
              "      dtype=object)"
            ]
          },
          "metadata": {},
          "execution_count": 41
        }
      ]
    },
    {
      "cell_type": "code",
      "execution_count": null,
      "metadata": {
        "id": "QpyzO9nWAOqD",
        "outputId": "6dbbd93f-c77a-44a3-a43a-e9316d2095d2",
        "colab": {
          "base_uri": "https://localhost:8080/"
        }
      },
      "outputs": [
        {
          "output_type": "execute_result",
          "data": {
            "text/plain": [
              "Club Name                 0\n",
              "League name               4\n",
              "Average age of players    4\n",
              "Stadium name              0\n",
              "Coach name                0\n",
              "Coach Date                0\n",
              "Club Values               3\n",
              "Season                    0\n",
              "Country                   0\n",
              "dtype: int64"
            ]
          },
          "metadata": {},
          "execution_count": 51
        }
      ],
      "source": [
        "Italy.isnull().sum()"
      ]
    },
    {
      "cell_type": "code",
      "execution_count": null,
      "metadata": {
        "id": "Go5cprT1AOqD"
      },
      "outputs": [],
      "source": [
        "Clubs_df=pd.concat([Spain,England,Germany,France,Italy],ignore_index=True)"
      ]
    },
    {
      "cell_type": "code",
      "execution_count": null,
      "metadata": {
        "id": "Zbys3wMvAOqD",
        "outputId": "47d6c809-5cd5-4af4-bc80-b969d4f1d426",
        "colab": {
          "base_uri": "https://localhost:8080/"
        }
      },
      "outputs": [
        {
          "output_type": "execute_result",
          "data": {
            "text/plain": [
              "(686, 9)"
            ]
          },
          "metadata": {},
          "execution_count": 53
        }
      ],
      "source": [
        "Clubs_df.shape"
      ]
    },
    {
      "cell_type": "code",
      "execution_count": null,
      "metadata": {
        "id": "PIdmAdeBAOqD"
      },
      "outputs": [],
      "source": [
        "Clubs_df.rename(columns = {'Club Values':'Total market value','Coach Date':'Appointed Date'}, inplace = True)"
      ]
    },
    {
      "cell_type": "code",
      "execution_count": null,
      "metadata": {
        "id": "-5wM0hOFAOqE"
      },
      "outputs": [],
      "source": [
        "Clubs_df['Appointed Date'] = Clubs_df['Appointed Date'].astype('datetime64[ns]') "
      ]
    },
    {
      "cell_type": "code",
      "execution_count": null,
      "metadata": {
        "id": "xuhjwefSAOqE"
      },
      "outputs": [],
      "source": [
        "Clubs_df['Total market value']=Clubs_df['Total market value'].str.replace('€','')"
      ]
    },
    {
      "cell_type": "code",
      "execution_count": null,
      "metadata": {
        "id": "Rfu6zhj7AOqE",
        "outputId": "deebdca9-7566-435c-8d61-4a49c604bc42",
        "colab": {
          "base_uri": "https://localhost:8080/",
          "height": 371
        }
      },
      "outputs": [
        {
          "output_type": "execute_result",
          "data": {
            "text/plain": [
              "            Club Name League name  Average age of players  \\\n",
              "0         Real Madrid      LaLiga                    27.4   \n",
              "1        FC Barcelona      LaLiga                    25.5   \n",
              "2  Atlético de Madrid      LaLiga                    28.5   \n",
              "3          Sevilla FC      LaLiga                    28.8   \n",
              "4         Valencia CF      LaLiga                    25.0   \n",
              "\n",
              "            Stadium name       Coach name Appointed Date Total market value  \\\n",
              "0      Santiago Bernabéu  Zinédine Zidane     2016-01-04            860.80m   \n",
              "1       Spotify Camp Nou     Luis Enrique     2014-07-01            767.00m   \n",
              "2  Civitas Metropolitano    Diego Simeone     2011-12-23            457.00m   \n",
              "3  Ramón Sánchez-Pizjuán   Jorge Sampaoli     2016-07-01            209.00m   \n",
              "4               Mestalla   Pako Ayestarán     2016-03-30            225.65m   \n",
              "\n",
              "  Season Country  \n",
              "0   2015   Spain  \n",
              "1   2015   Spain  \n",
              "2   2015   Spain  \n",
              "3   2015   Spain  \n",
              "4   2015   Spain  "
            ],
            "text/html": [
              "\n",
              "  <div id=\"df-12138d18-bad7-4cb1-a86b-5771a31c4fd0\">\n",
              "    <div class=\"colab-df-container\">\n",
              "      <div>\n",
              "<style scoped>\n",
              "    .dataframe tbody tr th:only-of-type {\n",
              "        vertical-align: middle;\n",
              "    }\n",
              "\n",
              "    .dataframe tbody tr th {\n",
              "        vertical-align: top;\n",
              "    }\n",
              "\n",
              "    .dataframe thead th {\n",
              "        text-align: right;\n",
              "    }\n",
              "</style>\n",
              "<table border=\"1\" class=\"dataframe\">\n",
              "  <thead>\n",
              "    <tr style=\"text-align: right;\">\n",
              "      <th></th>\n",
              "      <th>Club Name</th>\n",
              "      <th>League name</th>\n",
              "      <th>Average age of players</th>\n",
              "      <th>Stadium name</th>\n",
              "      <th>Coach name</th>\n",
              "      <th>Appointed Date</th>\n",
              "      <th>Total market value</th>\n",
              "      <th>Season</th>\n",
              "      <th>Country</th>\n",
              "    </tr>\n",
              "  </thead>\n",
              "  <tbody>\n",
              "    <tr>\n",
              "      <th>0</th>\n",
              "      <td>Real Madrid</td>\n",
              "      <td>LaLiga</td>\n",
              "      <td>27.4</td>\n",
              "      <td>Santiago Bernabéu</td>\n",
              "      <td>Zinédine Zidane</td>\n",
              "      <td>2016-01-04</td>\n",
              "      <td>860.80m</td>\n",
              "      <td>2015</td>\n",
              "      <td>Spain</td>\n",
              "    </tr>\n",
              "    <tr>\n",
              "      <th>1</th>\n",
              "      <td>FC Barcelona</td>\n",
              "      <td>LaLiga</td>\n",
              "      <td>25.5</td>\n",
              "      <td>Spotify Camp Nou</td>\n",
              "      <td>Luis Enrique</td>\n",
              "      <td>2014-07-01</td>\n",
              "      <td>767.00m</td>\n",
              "      <td>2015</td>\n",
              "      <td>Spain</td>\n",
              "    </tr>\n",
              "    <tr>\n",
              "      <th>2</th>\n",
              "      <td>Atlético de Madrid</td>\n",
              "      <td>LaLiga</td>\n",
              "      <td>28.5</td>\n",
              "      <td>Civitas Metropolitano</td>\n",
              "      <td>Diego Simeone</td>\n",
              "      <td>2011-12-23</td>\n",
              "      <td>457.00m</td>\n",
              "      <td>2015</td>\n",
              "      <td>Spain</td>\n",
              "    </tr>\n",
              "    <tr>\n",
              "      <th>3</th>\n",
              "      <td>Sevilla FC</td>\n",
              "      <td>LaLiga</td>\n",
              "      <td>28.8</td>\n",
              "      <td>Ramón Sánchez-Pizjuán</td>\n",
              "      <td>Jorge Sampaoli</td>\n",
              "      <td>2016-07-01</td>\n",
              "      <td>209.00m</td>\n",
              "      <td>2015</td>\n",
              "      <td>Spain</td>\n",
              "    </tr>\n",
              "    <tr>\n",
              "      <th>4</th>\n",
              "      <td>Valencia CF</td>\n",
              "      <td>LaLiga</td>\n",
              "      <td>25.0</td>\n",
              "      <td>Mestalla</td>\n",
              "      <td>Pako Ayestarán</td>\n",
              "      <td>2016-03-30</td>\n",
              "      <td>225.65m</td>\n",
              "      <td>2015</td>\n",
              "      <td>Spain</td>\n",
              "    </tr>\n",
              "  </tbody>\n",
              "</table>\n",
              "</div>\n",
              "      <button class=\"colab-df-convert\" onclick=\"convertToInteractive('df-12138d18-bad7-4cb1-a86b-5771a31c4fd0')\"\n",
              "              title=\"Convert this dataframe to an interactive table.\"\n",
              "              style=\"display:none;\">\n",
              "        \n",
              "  <svg xmlns=\"http://www.w3.org/2000/svg\" height=\"24px\"viewBox=\"0 0 24 24\"\n",
              "       width=\"24px\">\n",
              "    <path d=\"M0 0h24v24H0V0z\" fill=\"none\"/>\n",
              "    <path d=\"M18.56 5.44l.94 2.06.94-2.06 2.06-.94-2.06-.94-.94-2.06-.94 2.06-2.06.94zm-11 1L8.5 8.5l.94-2.06 2.06-.94-2.06-.94L8.5 2.5l-.94 2.06-2.06.94zm10 10l.94 2.06.94-2.06 2.06-.94-2.06-.94-.94-2.06-.94 2.06-2.06.94z\"/><path d=\"M17.41 7.96l-1.37-1.37c-.4-.4-.92-.59-1.43-.59-.52 0-1.04.2-1.43.59L10.3 9.45l-7.72 7.72c-.78.78-.78 2.05 0 2.83L4 21.41c.39.39.9.59 1.41.59.51 0 1.02-.2 1.41-.59l7.78-7.78 2.81-2.81c.8-.78.8-2.07 0-2.86zM5.41 20L4 18.59l7.72-7.72 1.47 1.35L5.41 20z\"/>\n",
              "  </svg>\n",
              "      </button>\n",
              "      \n",
              "  <style>\n",
              "    .colab-df-container {\n",
              "      display:flex;\n",
              "      flex-wrap:wrap;\n",
              "      gap: 12px;\n",
              "    }\n",
              "\n",
              "    .colab-df-convert {\n",
              "      background-color: #E8F0FE;\n",
              "      border: none;\n",
              "      border-radius: 50%;\n",
              "      cursor: pointer;\n",
              "      display: none;\n",
              "      fill: #1967D2;\n",
              "      height: 32px;\n",
              "      padding: 0 0 0 0;\n",
              "      width: 32px;\n",
              "    }\n",
              "\n",
              "    .colab-df-convert:hover {\n",
              "      background-color: #E2EBFA;\n",
              "      box-shadow: 0px 1px 2px rgba(60, 64, 67, 0.3), 0px 1px 3px 1px rgba(60, 64, 67, 0.15);\n",
              "      fill: #174EA6;\n",
              "    }\n",
              "\n",
              "    [theme=dark] .colab-df-convert {\n",
              "      background-color: #3B4455;\n",
              "      fill: #D2E3FC;\n",
              "    }\n",
              "\n",
              "    [theme=dark] .colab-df-convert:hover {\n",
              "      background-color: #434B5C;\n",
              "      box-shadow: 0px 1px 3px 1px rgba(0, 0, 0, 0.15);\n",
              "      filter: drop-shadow(0px 1px 2px rgba(0, 0, 0, 0.3));\n",
              "      fill: #FFFFFF;\n",
              "    }\n",
              "  </style>\n",
              "\n",
              "      <script>\n",
              "        const buttonEl =\n",
              "          document.querySelector('#df-12138d18-bad7-4cb1-a86b-5771a31c4fd0 button.colab-df-convert');\n",
              "        buttonEl.style.display =\n",
              "          google.colab.kernel.accessAllowed ? 'block' : 'none';\n",
              "\n",
              "        async function convertToInteractive(key) {\n",
              "          const element = document.querySelector('#df-12138d18-bad7-4cb1-a86b-5771a31c4fd0');\n",
              "          const dataTable =\n",
              "            await google.colab.kernel.invokeFunction('convertToInteractive',\n",
              "                                                     [key], {});\n",
              "          if (!dataTable) return;\n",
              "\n",
              "          const docLinkHtml = 'Like what you see? Visit the ' +\n",
              "            '<a target=\"_blank\" href=https://colab.research.google.com/notebooks/data_table.ipynb>data table notebook</a>'\n",
              "            + ' to learn more about interactive tables.';\n",
              "          element.innerHTML = '';\n",
              "          dataTable['output_type'] = 'display_data';\n",
              "          await google.colab.output.renderOutput(dataTable, element);\n",
              "          const docLink = document.createElement('div');\n",
              "          docLink.innerHTML = docLinkHtml;\n",
              "          element.appendChild(docLink);\n",
              "        }\n",
              "      </script>\n",
              "    </div>\n",
              "  </div>\n",
              "  "
            ]
          },
          "metadata": {},
          "execution_count": 123
        }
      ],
      "source": [
        "Clubs_df.head() "
      ]
    },
    {
      "cell_type": "code",
      "source": [
        "Clubs_df.to_csv('Clubs_df.csv', index=False)"
      ],
      "metadata": {
        "id": "q1CB5Wl77jDB"
      },
      "execution_count": null,
      "outputs": []
    },
    {
      "cell_type": "code",
      "source": [
        "Clubs_df.shape"
      ],
      "metadata": {
        "colab": {
          "base_uri": "https://localhost:8080/"
        },
        "id": "W5eNEpxMP-Nc",
        "outputId": "00805982-2ba5-4966-c095-67ee777b6e3e"
      },
      "execution_count": null,
      "outputs": [
        {
          "output_type": "execute_result",
          "data": {
            "text/plain": [
              "(686, 9)"
            ]
          },
          "metadata": {},
          "execution_count": 125
        }
      ]
    },
    {
      "cell_type": "code",
      "source": [
        "balance=pd.read_csv('over_all_balance.csv')"
      ],
      "metadata": {
        "id": "wzEwzv-GFxnS"
      },
      "execution_count": null,
      "outputs": []
    },
    {
      "cell_type": "code",
      "source": [
        "balance.rename(columns = {'Club':'Club Name'}, inplace = True)"
      ],
      "metadata": {
        "id": "C5yIurV1H198"
      },
      "execution_count": null,
      "outputs": []
    },
    {
      "cell_type": "code",
      "source": [
        "balance.shape"
      ],
      "metadata": {
        "colab": {
          "base_uri": "https://localhost:8080/"
        },
        "id": "GcDXuNUnIbby",
        "outputId": "96219b1d-0a27-42b7-aa81-b1763eb89951"
      },
      "execution_count": null,
      "outputs": [
        {
          "output_type": "execute_result",
          "data": {
            "text/plain": [
              "(686, 10)"
            ]
          },
          "metadata": {},
          "execution_count": 128
        }
      ]
    },
    {
      "cell_type": "code",
      "source": [
        "len(balance['link'].unique())"
      ],
      "metadata": {
        "colab": {
          "base_uri": "https://localhost:8080/"
        },
        "id": "FkR4flPs4xzF",
        "outputId": "d2a5aab3-a404-4728-ad73-5eb6e1bcd014"
      },
      "execution_count": null,
      "outputs": [
        {
          "output_type": "execute_result",
          "data": {
            "text/plain": [
              "686"
            ]
          },
          "metadata": {},
          "execution_count": 129
        }
      ]
    },
    {
      "cell_type": "code",
      "source": [
        "len(balance['id'].unique())"
      ],
      "metadata": {
        "colab": {
          "base_uri": "https://localhost:8080/"
        },
        "id": "Q7KPOvb844ah",
        "outputId": "a0d67e50-bdc3-40fb-9105-90236c065f66"
      },
      "execution_count": null,
      "outputs": [
        {
          "output_type": "execute_result",
          "data": {
            "text/plain": [
              "147"
            ]
          },
          "metadata": {},
          "execution_count": 130
        }
      ]
    },
    {
      "cell_type": "code",
      "source": [
        "balance.head()"
      ],
      "metadata": {
        "colab": {
          "base_uri": "https://localhost:8080/",
          "height": 357
        },
        "id": "pM6EgL92GAB3",
        "outputId": "f18331c3-6fac-47fb-9355-4f152799955c"
      },
      "execution_count": null,
      "outputs": [
        {
          "output_type": "execute_result",
          "data": {
            "text/plain": [
              "           Club Name   id  Country  \\\n",
              "0         Chelsea FC  631  England   \n",
              "1    Manchester City  281  England   \n",
              "2         Arsenal FC   11  England   \n",
              "3  Manchester United  985  England   \n",
              "4       Liverpool FC   31  England   \n",
              "\n",
              "                                                link  Season    income  \\\n",
              "0  https://www.transfermarkt.com/fc-chelsea/start...    2015   €87.49m   \n",
              "1  https://www.transfermarkt.com/manchester-city/...    2015   €67.44m   \n",
              "2  https://www.transfermarkt.com/fc-arsenal/start...    2015    €2.50m   \n",
              "3  https://www.transfermarkt.com/manchester-unite...    2015  €100.67m   \n",
              "4  https://www.transfermarkt.com/fc-liverpool/sta...    2015   €90.55m   \n",
              "\n",
              "      expend overall_balance  income_arrival  expend_arrival  \n",
              "0   €96.50m         €-9.01m               32              37  \n",
              "1  €208.47m       €-141.03m               23              20  \n",
              "2   €26.50m        €-24.00m               11              13  \n",
              "3  €156.00m        €-55.33m               20              22  \n",
              "4  €126.50m        €-35.95m               24              23  "
            ],
            "text/html": [
              "\n",
              "  <div id=\"df-8e83a807-643d-4c65-b4ff-a25800b3b009\">\n",
              "    <div class=\"colab-df-container\">\n",
              "      <div>\n",
              "<style scoped>\n",
              "    .dataframe tbody tr th:only-of-type {\n",
              "        vertical-align: middle;\n",
              "    }\n",
              "\n",
              "    .dataframe tbody tr th {\n",
              "        vertical-align: top;\n",
              "    }\n",
              "\n",
              "    .dataframe thead th {\n",
              "        text-align: right;\n",
              "    }\n",
              "</style>\n",
              "<table border=\"1\" class=\"dataframe\">\n",
              "  <thead>\n",
              "    <tr style=\"text-align: right;\">\n",
              "      <th></th>\n",
              "      <th>Club Name</th>\n",
              "      <th>id</th>\n",
              "      <th>Country</th>\n",
              "      <th>link</th>\n",
              "      <th>Season</th>\n",
              "      <th>income</th>\n",
              "      <th>expend</th>\n",
              "      <th>overall_balance</th>\n",
              "      <th>income_arrival</th>\n",
              "      <th>expend_arrival</th>\n",
              "    </tr>\n",
              "  </thead>\n",
              "  <tbody>\n",
              "    <tr>\n",
              "      <th>0</th>\n",
              "      <td>Chelsea FC</td>\n",
              "      <td>631</td>\n",
              "      <td>England</td>\n",
              "      <td>https://www.transfermarkt.com/fc-chelsea/start...</td>\n",
              "      <td>2015</td>\n",
              "      <td>€87.49m</td>\n",
              "      <td>€96.50m</td>\n",
              "      <td>€-9.01m</td>\n",
              "      <td>32</td>\n",
              "      <td>37</td>\n",
              "    </tr>\n",
              "    <tr>\n",
              "      <th>1</th>\n",
              "      <td>Manchester City</td>\n",
              "      <td>281</td>\n",
              "      <td>England</td>\n",
              "      <td>https://www.transfermarkt.com/manchester-city/...</td>\n",
              "      <td>2015</td>\n",
              "      <td>€67.44m</td>\n",
              "      <td>€208.47m</td>\n",
              "      <td>€-141.03m</td>\n",
              "      <td>23</td>\n",
              "      <td>20</td>\n",
              "    </tr>\n",
              "    <tr>\n",
              "      <th>2</th>\n",
              "      <td>Arsenal FC</td>\n",
              "      <td>11</td>\n",
              "      <td>England</td>\n",
              "      <td>https://www.transfermarkt.com/fc-arsenal/start...</td>\n",
              "      <td>2015</td>\n",
              "      <td>€2.50m</td>\n",
              "      <td>€26.50m</td>\n",
              "      <td>€-24.00m</td>\n",
              "      <td>11</td>\n",
              "      <td>13</td>\n",
              "    </tr>\n",
              "    <tr>\n",
              "      <th>3</th>\n",
              "      <td>Manchester United</td>\n",
              "      <td>985</td>\n",
              "      <td>England</td>\n",
              "      <td>https://www.transfermarkt.com/manchester-unite...</td>\n",
              "      <td>2015</td>\n",
              "      <td>€100.67m</td>\n",
              "      <td>€156.00m</td>\n",
              "      <td>€-55.33m</td>\n",
              "      <td>20</td>\n",
              "      <td>22</td>\n",
              "    </tr>\n",
              "    <tr>\n",
              "      <th>4</th>\n",
              "      <td>Liverpool FC</td>\n",
              "      <td>31</td>\n",
              "      <td>England</td>\n",
              "      <td>https://www.transfermarkt.com/fc-liverpool/sta...</td>\n",
              "      <td>2015</td>\n",
              "      <td>€90.55m</td>\n",
              "      <td>€126.50m</td>\n",
              "      <td>€-35.95m</td>\n",
              "      <td>24</td>\n",
              "      <td>23</td>\n",
              "    </tr>\n",
              "  </tbody>\n",
              "</table>\n",
              "</div>\n",
              "      <button class=\"colab-df-convert\" onclick=\"convertToInteractive('df-8e83a807-643d-4c65-b4ff-a25800b3b009')\"\n",
              "              title=\"Convert this dataframe to an interactive table.\"\n",
              "              style=\"display:none;\">\n",
              "        \n",
              "  <svg xmlns=\"http://www.w3.org/2000/svg\" height=\"24px\"viewBox=\"0 0 24 24\"\n",
              "       width=\"24px\">\n",
              "    <path d=\"M0 0h24v24H0V0z\" fill=\"none\"/>\n",
              "    <path d=\"M18.56 5.44l.94 2.06.94-2.06 2.06-.94-2.06-.94-.94-2.06-.94 2.06-2.06.94zm-11 1L8.5 8.5l.94-2.06 2.06-.94-2.06-.94L8.5 2.5l-.94 2.06-2.06.94zm10 10l.94 2.06.94-2.06 2.06-.94-2.06-.94-.94-2.06-.94 2.06-2.06.94z\"/><path d=\"M17.41 7.96l-1.37-1.37c-.4-.4-.92-.59-1.43-.59-.52 0-1.04.2-1.43.59L10.3 9.45l-7.72 7.72c-.78.78-.78 2.05 0 2.83L4 21.41c.39.39.9.59 1.41.59.51 0 1.02-.2 1.41-.59l7.78-7.78 2.81-2.81c.8-.78.8-2.07 0-2.86zM5.41 20L4 18.59l7.72-7.72 1.47 1.35L5.41 20z\"/>\n",
              "  </svg>\n",
              "      </button>\n",
              "      \n",
              "  <style>\n",
              "    .colab-df-container {\n",
              "      display:flex;\n",
              "      flex-wrap:wrap;\n",
              "      gap: 12px;\n",
              "    }\n",
              "\n",
              "    .colab-df-convert {\n",
              "      background-color: #E8F0FE;\n",
              "      border: none;\n",
              "      border-radius: 50%;\n",
              "      cursor: pointer;\n",
              "      display: none;\n",
              "      fill: #1967D2;\n",
              "      height: 32px;\n",
              "      padding: 0 0 0 0;\n",
              "      width: 32px;\n",
              "    }\n",
              "\n",
              "    .colab-df-convert:hover {\n",
              "      background-color: #E2EBFA;\n",
              "      box-shadow: 0px 1px 2px rgba(60, 64, 67, 0.3), 0px 1px 3px 1px rgba(60, 64, 67, 0.15);\n",
              "      fill: #174EA6;\n",
              "    }\n",
              "\n",
              "    [theme=dark] .colab-df-convert {\n",
              "      background-color: #3B4455;\n",
              "      fill: #D2E3FC;\n",
              "    }\n",
              "\n",
              "    [theme=dark] .colab-df-convert:hover {\n",
              "      background-color: #434B5C;\n",
              "      box-shadow: 0px 1px 3px 1px rgba(0, 0, 0, 0.15);\n",
              "      filter: drop-shadow(0px 1px 2px rgba(0, 0, 0, 0.3));\n",
              "      fill: #FFFFFF;\n",
              "    }\n",
              "  </style>\n",
              "\n",
              "      <script>\n",
              "        const buttonEl =\n",
              "          document.querySelector('#df-8e83a807-643d-4c65-b4ff-a25800b3b009 button.colab-df-convert');\n",
              "        buttonEl.style.display =\n",
              "          google.colab.kernel.accessAllowed ? 'block' : 'none';\n",
              "\n",
              "        async function convertToInteractive(key) {\n",
              "          const element = document.querySelector('#df-8e83a807-643d-4c65-b4ff-a25800b3b009');\n",
              "          const dataTable =\n",
              "            await google.colab.kernel.invokeFunction('convertToInteractive',\n",
              "                                                     [key], {});\n",
              "          if (!dataTable) return;\n",
              "\n",
              "          const docLinkHtml = 'Like what you see? Visit the ' +\n",
              "            '<a target=\"_blank\" href=https://colab.research.google.com/notebooks/data_table.ipynb>data table notebook</a>'\n",
              "            + ' to learn more about interactive tables.';\n",
              "          element.innerHTML = '';\n",
              "          dataTable['output_type'] = 'display_data';\n",
              "          await google.colab.output.renderOutput(dataTable, element);\n",
              "          const docLink = document.createElement('div');\n",
              "          docLink.innerHTML = docLinkHtml;\n",
              "          element.appendChild(docLink);\n",
              "        }\n",
              "      </script>\n",
              "    </div>\n",
              "  </div>\n",
              "  "
            ]
          },
          "metadata": {},
          "execution_count": 131
        }
      ]
    },
    {
      "cell_type": "code",
      "source": [
        "balance['Season']=balance['Season'].astype(str)"
      ],
      "metadata": {
        "id": "Db7lTF3mM7Pj"
      },
      "execution_count": null,
      "outputs": []
    },
    {
      "cell_type": "code",
      "source": [
        "Clubs_df['Season']=Clubs_df['Season'].astype(str)"
      ],
      "metadata": {
        "id": "I7RM6XXhNFqy"
      },
      "execution_count": null,
      "outputs": []
    },
    {
      "cell_type": "code",
      "source": [
        "Clubs_df.isnull().sum()"
      ],
      "metadata": {
        "colab": {
          "base_uri": "https://localhost:8080/"
        },
        "id": "5mW1XdTiQKfr",
        "outputId": "80d35e7c-b215-40c2-9ab4-39c19d7a392a"
      },
      "execution_count": null,
      "outputs": [
        {
          "output_type": "execute_result",
          "data": {
            "text/plain": [
              "Club Name                 0\n",
              "League name               4\n",
              "Average age of players    4\n",
              "Stadium name              0\n",
              "Coach name                0\n",
              "Appointed Date            0\n",
              "Total market value        3\n",
              "Season                    0\n",
              "Country                   0\n",
              "dtype: int64"
            ]
          },
          "metadata": {},
          "execution_count": 134
        }
      ]
    },
    {
      "cell_type": "code",
      "source": [
        "balance.isnull().sum()"
      ],
      "metadata": {
        "colab": {
          "base_uri": "https://localhost:8080/"
        },
        "id": "VJZsWJb3QPWw",
        "outputId": "f1db6207-5936-476d-9659-e68334c887d9"
      },
      "execution_count": null,
      "outputs": [
        {
          "output_type": "execute_result",
          "data": {
            "text/plain": [
              "Club Name          0\n",
              "id                 0\n",
              "Country            0\n",
              "link               0\n",
              "Season             0\n",
              "income             0\n",
              "expend             0\n",
              "overall_balance    0\n",
              "income_arrival     0\n",
              "expend_arrival     0\n",
              "dtype: int64"
            ]
          },
          "metadata": {},
          "execution_count": 135
        }
      ]
    },
    {
      "cell_type": "code",
      "source": [
        "len(Clubs_df['Stadium name'].unique())"
      ],
      "metadata": {
        "colab": {
          "base_uri": "https://localhost:8080/"
        },
        "id": "mTbQDlH4Q5Av",
        "outputId": "8e800ef5-a83d-4647-a4ab-e1dfdefac4ba"
      },
      "execution_count": null,
      "outputs": [
        {
          "output_type": "execute_result",
          "data": {
            "text/plain": [
              "143"
            ]
          },
          "metadata": {},
          "execution_count": 136
        }
      ]
    },
    {
      "cell_type": "code",
      "source": [
        "merged=balance.merge(Clubs_df,on=['Season','Club Name'],how='left')"
      ],
      "metadata": {
        "id": "zkUoYUOVGE9O"
      },
      "execution_count": null,
      "outputs": []
    },
    {
      "cell_type": "code",
      "source": [
        "merged.drop(['Country_x','link','Club Name','Country_y'],axis=1,inplace=True)"
      ],
      "metadata": {
        "id": "jIiP1mLpP-jI"
      },
      "execution_count": null,
      "outputs": []
    },
    {
      "cell_type": "code",
      "source": [
        "merged['expend']=merged['expend'].str.replace('€','') \n",
        "merged['income']=merged['income'].str.replace('€','') \n",
        "merged['overall_balance']=merged['overall_balance'].str.replace('€','') "
      ],
      "metadata": {
        "id": "9C9rzSy4SuYp"
      },
      "execution_count": null,
      "outputs": []
    },
    {
      "cell_type": "code",
      "source": [
        "merged.shape"
      ],
      "metadata": {
        "colab": {
          "base_uri": "https://localhost:8080/"
        },
        "id": "zxhelqMPQdyE",
        "outputId": "d8e1f4fc-e1f9-41b2-8742-ddcbad15b55f"
      },
      "execution_count": null,
      "outputs": [
        {
          "output_type": "execute_result",
          "data": {
            "text/plain": [
              "(686, 13)"
            ]
          },
          "metadata": {},
          "execution_count": 140
        }
      ]
    },
    {
      "cell_type": "code",
      "source": [
        "merged.isnull().sum()"
      ],
      "metadata": {
        "colab": {
          "base_uri": "https://localhost:8080/"
        },
        "id": "pUJfQLw6QhYg",
        "outputId": "498b5339-f97b-4b64-c144-306fbe117b23"
      },
      "execution_count": null,
      "outputs": [
        {
          "output_type": "execute_result",
          "data": {
            "text/plain": [
              "id                         0\n",
              "Season                     0\n",
              "income                     0\n",
              "expend                     0\n",
              "overall_balance            0\n",
              "income_arrival             0\n",
              "expend_arrival             0\n",
              "League name               14\n",
              "Average age of players    14\n",
              "Stadium name              10\n",
              "Coach name                10\n",
              "Appointed Date            10\n",
              "Total market value        13\n",
              "dtype: int64"
            ]
          },
          "metadata": {},
          "execution_count": 141
        }
      ]
    },
    {
      "cell_type": "code",
      "source": [
        "merged.head()"
      ],
      "metadata": {
        "colab": {
          "base_uri": "https://localhost:8080/",
          "height": 391
        },
        "id": "KBYQVQwuJc0K",
        "outputId": "5a1d8782-f51f-46aa-f882-06cb4c28e46e"
      },
      "execution_count": null,
      "outputs": [
        {
          "output_type": "execute_result",
          "data": {
            "text/plain": [
              "    id Season   income    expend overall_balance  income_arrival  \\\n",
              "0  631   2015   87.49m   96.50m          -9.01m               32   \n",
              "1  281   2015   67.44m  208.47m        -141.03m               23   \n",
              "2   11   2015    2.50m   26.50m         -24.00m               11   \n",
              "3  985   2015  100.67m  156.00m         -55.33m               20   \n",
              "4   31   2015   90.55m  126.50m         -35.95m               24   \n",
              "\n",
              "   expend_arrival     League name  Average age of players      Stadium name  \\\n",
              "0              37  Premier League                    25.5   Stamford Bridge   \n",
              "1              20  Premier League                    26.8    Etihad Stadium   \n",
              "2              13  Premier League                    25.2  Emirates Stadium   \n",
              "3              22  Premier League                    26.0      Old Trafford   \n",
              "4              23  Premier League                    26.7           Anfield   \n",
              "\n",
              "          Coach name Appointed Date Total market value  \n",
              "0      José Mourinho     2013-07-01             1.02bn  \n",
              "1  Manuel Pellegrini     2013-07-01             1.05bn  \n",
              "2      Arsène Wenger     1996-10-01            890.00m  \n",
              "3     Louis van Gaal     2014-07-14            795.70m  \n",
              "4    Brendan Rodgers     2012-07-01            879.00m  "
            ],
            "text/html": [
              "\n",
              "  <div id=\"df-1bbe733b-6618-44f3-bea5-947c97a567c6\">\n",
              "    <div class=\"colab-df-container\">\n",
              "      <div>\n",
              "<style scoped>\n",
              "    .dataframe tbody tr th:only-of-type {\n",
              "        vertical-align: middle;\n",
              "    }\n",
              "\n",
              "    .dataframe tbody tr th {\n",
              "        vertical-align: top;\n",
              "    }\n",
              "\n",
              "    .dataframe thead th {\n",
              "        text-align: right;\n",
              "    }\n",
              "</style>\n",
              "<table border=\"1\" class=\"dataframe\">\n",
              "  <thead>\n",
              "    <tr style=\"text-align: right;\">\n",
              "      <th></th>\n",
              "      <th>id</th>\n",
              "      <th>Season</th>\n",
              "      <th>income</th>\n",
              "      <th>expend</th>\n",
              "      <th>overall_balance</th>\n",
              "      <th>income_arrival</th>\n",
              "      <th>expend_arrival</th>\n",
              "      <th>League name</th>\n",
              "      <th>Average age of players</th>\n",
              "      <th>Stadium name</th>\n",
              "      <th>Coach name</th>\n",
              "      <th>Appointed Date</th>\n",
              "      <th>Total market value</th>\n",
              "    </tr>\n",
              "  </thead>\n",
              "  <tbody>\n",
              "    <tr>\n",
              "      <th>0</th>\n",
              "      <td>631</td>\n",
              "      <td>2015</td>\n",
              "      <td>87.49m</td>\n",
              "      <td>96.50m</td>\n",
              "      <td>-9.01m</td>\n",
              "      <td>32</td>\n",
              "      <td>37</td>\n",
              "      <td>Premier League</td>\n",
              "      <td>25.5</td>\n",
              "      <td>Stamford Bridge</td>\n",
              "      <td>José Mourinho</td>\n",
              "      <td>2013-07-01</td>\n",
              "      <td>1.02bn</td>\n",
              "    </tr>\n",
              "    <tr>\n",
              "      <th>1</th>\n",
              "      <td>281</td>\n",
              "      <td>2015</td>\n",
              "      <td>67.44m</td>\n",
              "      <td>208.47m</td>\n",
              "      <td>-141.03m</td>\n",
              "      <td>23</td>\n",
              "      <td>20</td>\n",
              "      <td>Premier League</td>\n",
              "      <td>26.8</td>\n",
              "      <td>Etihad Stadium</td>\n",
              "      <td>Manuel Pellegrini</td>\n",
              "      <td>2013-07-01</td>\n",
              "      <td>1.05bn</td>\n",
              "    </tr>\n",
              "    <tr>\n",
              "      <th>2</th>\n",
              "      <td>11</td>\n",
              "      <td>2015</td>\n",
              "      <td>2.50m</td>\n",
              "      <td>26.50m</td>\n",
              "      <td>-24.00m</td>\n",
              "      <td>11</td>\n",
              "      <td>13</td>\n",
              "      <td>Premier League</td>\n",
              "      <td>25.2</td>\n",
              "      <td>Emirates Stadium</td>\n",
              "      <td>Arsène Wenger</td>\n",
              "      <td>1996-10-01</td>\n",
              "      <td>890.00m</td>\n",
              "    </tr>\n",
              "    <tr>\n",
              "      <th>3</th>\n",
              "      <td>985</td>\n",
              "      <td>2015</td>\n",
              "      <td>100.67m</td>\n",
              "      <td>156.00m</td>\n",
              "      <td>-55.33m</td>\n",
              "      <td>20</td>\n",
              "      <td>22</td>\n",
              "      <td>Premier League</td>\n",
              "      <td>26.0</td>\n",
              "      <td>Old Trafford</td>\n",
              "      <td>Louis van Gaal</td>\n",
              "      <td>2014-07-14</td>\n",
              "      <td>795.70m</td>\n",
              "    </tr>\n",
              "    <tr>\n",
              "      <th>4</th>\n",
              "      <td>31</td>\n",
              "      <td>2015</td>\n",
              "      <td>90.55m</td>\n",
              "      <td>126.50m</td>\n",
              "      <td>-35.95m</td>\n",
              "      <td>24</td>\n",
              "      <td>23</td>\n",
              "      <td>Premier League</td>\n",
              "      <td>26.7</td>\n",
              "      <td>Anfield</td>\n",
              "      <td>Brendan Rodgers</td>\n",
              "      <td>2012-07-01</td>\n",
              "      <td>879.00m</td>\n",
              "    </tr>\n",
              "  </tbody>\n",
              "</table>\n",
              "</div>\n",
              "      <button class=\"colab-df-convert\" onclick=\"convertToInteractive('df-1bbe733b-6618-44f3-bea5-947c97a567c6')\"\n",
              "              title=\"Convert this dataframe to an interactive table.\"\n",
              "              style=\"display:none;\">\n",
              "        \n",
              "  <svg xmlns=\"http://www.w3.org/2000/svg\" height=\"24px\"viewBox=\"0 0 24 24\"\n",
              "       width=\"24px\">\n",
              "    <path d=\"M0 0h24v24H0V0z\" fill=\"none\"/>\n",
              "    <path d=\"M18.56 5.44l.94 2.06.94-2.06 2.06-.94-2.06-.94-.94-2.06-.94 2.06-2.06.94zm-11 1L8.5 8.5l.94-2.06 2.06-.94-2.06-.94L8.5 2.5l-.94 2.06-2.06.94zm10 10l.94 2.06.94-2.06 2.06-.94-2.06-.94-.94-2.06-.94 2.06-2.06.94z\"/><path d=\"M17.41 7.96l-1.37-1.37c-.4-.4-.92-.59-1.43-.59-.52 0-1.04.2-1.43.59L10.3 9.45l-7.72 7.72c-.78.78-.78 2.05 0 2.83L4 21.41c.39.39.9.59 1.41.59.51 0 1.02-.2 1.41-.59l7.78-7.78 2.81-2.81c.8-.78.8-2.07 0-2.86zM5.41 20L4 18.59l7.72-7.72 1.47 1.35L5.41 20z\"/>\n",
              "  </svg>\n",
              "      </button>\n",
              "      \n",
              "  <style>\n",
              "    .colab-df-container {\n",
              "      display:flex;\n",
              "      flex-wrap:wrap;\n",
              "      gap: 12px;\n",
              "    }\n",
              "\n",
              "    .colab-df-convert {\n",
              "      background-color: #E8F0FE;\n",
              "      border: none;\n",
              "      border-radius: 50%;\n",
              "      cursor: pointer;\n",
              "      display: none;\n",
              "      fill: #1967D2;\n",
              "      height: 32px;\n",
              "      padding: 0 0 0 0;\n",
              "      width: 32px;\n",
              "    }\n",
              "\n",
              "    .colab-df-convert:hover {\n",
              "      background-color: #E2EBFA;\n",
              "      box-shadow: 0px 1px 2px rgba(60, 64, 67, 0.3), 0px 1px 3px 1px rgba(60, 64, 67, 0.15);\n",
              "      fill: #174EA6;\n",
              "    }\n",
              "\n",
              "    [theme=dark] .colab-df-convert {\n",
              "      background-color: #3B4455;\n",
              "      fill: #D2E3FC;\n",
              "    }\n",
              "\n",
              "    [theme=dark] .colab-df-convert:hover {\n",
              "      background-color: #434B5C;\n",
              "      box-shadow: 0px 1px 3px 1px rgba(0, 0, 0, 0.15);\n",
              "      filter: drop-shadow(0px 1px 2px rgba(0, 0, 0, 0.3));\n",
              "      fill: #FFFFFF;\n",
              "    }\n",
              "  </style>\n",
              "\n",
              "      <script>\n",
              "        const buttonEl =\n",
              "          document.querySelector('#df-1bbe733b-6618-44f3-bea5-947c97a567c6 button.colab-df-convert');\n",
              "        buttonEl.style.display =\n",
              "          google.colab.kernel.accessAllowed ? 'block' : 'none';\n",
              "\n",
              "        async function convertToInteractive(key) {\n",
              "          const element = document.querySelector('#df-1bbe733b-6618-44f3-bea5-947c97a567c6');\n",
              "          const dataTable =\n",
              "            await google.colab.kernel.invokeFunction('convertToInteractive',\n",
              "                                                     [key], {});\n",
              "          if (!dataTable) return;\n",
              "\n",
              "          const docLinkHtml = 'Like what you see? Visit the ' +\n",
              "            '<a target=\"_blank\" href=https://colab.research.google.com/notebooks/data_table.ipynb>data table notebook</a>'\n",
              "            + ' to learn more about interactive tables.';\n",
              "          element.innerHTML = '';\n",
              "          dataTable['output_type'] = 'display_data';\n",
              "          await google.colab.output.renderOutput(dataTable, element);\n",
              "          const docLink = document.createElement('div');\n",
              "          docLink.innerHTML = docLinkHtml;\n",
              "          element.appendChild(docLink);\n",
              "        }\n",
              "      </script>\n",
              "    </div>\n",
              "  </div>\n",
              "  "
            ]
          },
          "metadata": {},
          "execution_count": 111
        }
      ]
    },
    {
      "cell_type": "code",
      "source": [
        "merged.shape"
      ],
      "metadata": {
        "colab": {
          "base_uri": "https://localhost:8080/"
        },
        "id": "jGcVtk2INeVc",
        "outputId": "1902a713-037c-47a1-8fbf-22e83c7d3fa9"
      },
      "execution_count": null,
      "outputs": [
        {
          "output_type": "execute_result",
          "data": {
            "text/plain": [
              "(686, 13)"
            ]
          },
          "metadata": {},
          "execution_count": 199
        }
      ]
    },
    {
      "cell_type": "markdown",
      "metadata": {
        "id": "5-jpmSZ3AOqE"
      },
      "source": [
        "# Ctreating final dataframe according to dabase"
      ]
    },
    {
      "cell_type": "markdown",
      "metadata": {
        "id": "9p7HBFhnAOqE"
      },
      "source": [
        "# Club DataFrame"
      ]
    },
    {
      "cell_type": "markdown",
      "metadata": {
        "id": "L0Ho17DSAOqE"
      },
      "source": [
        "include columns:\n",
        "1. id\n",
        "2. name\n",
        "3. Country"
      ]
    },
    {
      "cell_type": "code",
      "execution_count": null,
      "metadata": {
        "id": "8qkLmi3bAOqE"
      },
      "outputs": [],
      "source": [
        "club_table=pd.read_csv('Club_table.csv')"
      ]
    },
    {
      "cell_type": "code",
      "source": [
        "club_table.rename(columns = {'Club':'Club Name'}, inplace = True)"
      ],
      "metadata": {
        "id": "Xed4qF4-9x0T"
      },
      "execution_count": null,
      "outputs": []
    },
    {
      "cell_type": "code",
      "execution_count": null,
      "metadata": {
        "id": "4Un51q9QAOqF",
        "outputId": "7313ef20-da15-473e-ca42-98d406798f38",
        "colab": {
          "base_uri": "https://localhost:8080/",
          "height": 206
        }
      },
      "outputs": [
        {
          "output_type": "execute_result",
          "data": {
            "text/plain": [
              "    id               Club  Country\n",
              "0  631         Chelsea FC  England\n",
              "1  281    Manchester City  England\n",
              "2   11         Arsenal FC  England\n",
              "3  985  Manchester United  England\n",
              "4   31       Liverpool FC  England"
            ],
            "text/html": [
              "\n",
              "  <div id=\"df-ef224c9a-6af8-4d5d-8a73-7bd390a523f8\">\n",
              "    <div class=\"colab-df-container\">\n",
              "      <div>\n",
              "<style scoped>\n",
              "    .dataframe tbody tr th:only-of-type {\n",
              "        vertical-align: middle;\n",
              "    }\n",
              "\n",
              "    .dataframe tbody tr th {\n",
              "        vertical-align: top;\n",
              "    }\n",
              "\n",
              "    .dataframe thead th {\n",
              "        text-align: right;\n",
              "    }\n",
              "</style>\n",
              "<table border=\"1\" class=\"dataframe\">\n",
              "  <thead>\n",
              "    <tr style=\"text-align: right;\">\n",
              "      <th></th>\n",
              "      <th>id</th>\n",
              "      <th>Club</th>\n",
              "      <th>Country</th>\n",
              "    </tr>\n",
              "  </thead>\n",
              "  <tbody>\n",
              "    <tr>\n",
              "      <th>0</th>\n",
              "      <td>631</td>\n",
              "      <td>Chelsea FC</td>\n",
              "      <td>England</td>\n",
              "    </tr>\n",
              "    <tr>\n",
              "      <th>1</th>\n",
              "      <td>281</td>\n",
              "      <td>Manchester City</td>\n",
              "      <td>England</td>\n",
              "    </tr>\n",
              "    <tr>\n",
              "      <th>2</th>\n",
              "      <td>11</td>\n",
              "      <td>Arsenal FC</td>\n",
              "      <td>England</td>\n",
              "    </tr>\n",
              "    <tr>\n",
              "      <th>3</th>\n",
              "      <td>985</td>\n",
              "      <td>Manchester United</td>\n",
              "      <td>England</td>\n",
              "    </tr>\n",
              "    <tr>\n",
              "      <th>4</th>\n",
              "      <td>31</td>\n",
              "      <td>Liverpool FC</td>\n",
              "      <td>England</td>\n",
              "    </tr>\n",
              "  </tbody>\n",
              "</table>\n",
              "</div>\n",
              "      <button class=\"colab-df-convert\" onclick=\"convertToInteractive('df-ef224c9a-6af8-4d5d-8a73-7bd390a523f8')\"\n",
              "              title=\"Convert this dataframe to an interactive table.\"\n",
              "              style=\"display:none;\">\n",
              "        \n",
              "  <svg xmlns=\"http://www.w3.org/2000/svg\" height=\"24px\"viewBox=\"0 0 24 24\"\n",
              "       width=\"24px\">\n",
              "    <path d=\"M0 0h24v24H0V0z\" fill=\"none\"/>\n",
              "    <path d=\"M18.56 5.44l.94 2.06.94-2.06 2.06-.94-2.06-.94-.94-2.06-.94 2.06-2.06.94zm-11 1L8.5 8.5l.94-2.06 2.06-.94-2.06-.94L8.5 2.5l-.94 2.06-2.06.94zm10 10l.94 2.06.94-2.06 2.06-.94-2.06-.94-.94-2.06-.94 2.06-2.06.94z\"/><path d=\"M17.41 7.96l-1.37-1.37c-.4-.4-.92-.59-1.43-.59-.52 0-1.04.2-1.43.59L10.3 9.45l-7.72 7.72c-.78.78-.78 2.05 0 2.83L4 21.41c.39.39.9.59 1.41.59.51 0 1.02-.2 1.41-.59l7.78-7.78 2.81-2.81c.8-.78.8-2.07 0-2.86zM5.41 20L4 18.59l7.72-7.72 1.47 1.35L5.41 20z\"/>\n",
              "  </svg>\n",
              "      </button>\n",
              "      \n",
              "  <style>\n",
              "    .colab-df-container {\n",
              "      display:flex;\n",
              "      flex-wrap:wrap;\n",
              "      gap: 12px;\n",
              "    }\n",
              "\n",
              "    .colab-df-convert {\n",
              "      background-color: #E8F0FE;\n",
              "      border: none;\n",
              "      border-radius: 50%;\n",
              "      cursor: pointer;\n",
              "      display: none;\n",
              "      fill: #1967D2;\n",
              "      height: 32px;\n",
              "      padding: 0 0 0 0;\n",
              "      width: 32px;\n",
              "    }\n",
              "\n",
              "    .colab-df-convert:hover {\n",
              "      background-color: #E2EBFA;\n",
              "      box-shadow: 0px 1px 2px rgba(60, 64, 67, 0.3), 0px 1px 3px 1px rgba(60, 64, 67, 0.15);\n",
              "      fill: #174EA6;\n",
              "    }\n",
              "\n",
              "    [theme=dark] .colab-df-convert {\n",
              "      background-color: #3B4455;\n",
              "      fill: #D2E3FC;\n",
              "    }\n",
              "\n",
              "    [theme=dark] .colab-df-convert:hover {\n",
              "      background-color: #434B5C;\n",
              "      box-shadow: 0px 1px 3px 1px rgba(0, 0, 0, 0.15);\n",
              "      filter: drop-shadow(0px 1px 2px rgba(0, 0, 0, 0.3));\n",
              "      fill: #FFFFFF;\n",
              "    }\n",
              "  </style>\n",
              "\n",
              "      <script>\n",
              "        const buttonEl =\n",
              "          document.querySelector('#df-ef224c9a-6af8-4d5d-8a73-7bd390a523f8 button.colab-df-convert');\n",
              "        buttonEl.style.display =\n",
              "          google.colab.kernel.accessAllowed ? 'block' : 'none';\n",
              "\n",
              "        async function convertToInteractive(key) {\n",
              "          const element = document.querySelector('#df-ef224c9a-6af8-4d5d-8a73-7bd390a523f8');\n",
              "          const dataTable =\n",
              "            await google.colab.kernel.invokeFunction('convertToInteractive',\n",
              "                                                     [key], {});\n",
              "          if (!dataTable) return;\n",
              "\n",
              "          const docLinkHtml = 'Like what you see? Visit the ' +\n",
              "            '<a target=\"_blank\" href=https://colab.research.google.com/notebooks/data_table.ipynb>data table notebook</a>'\n",
              "            + ' to learn more about interactive tables.';\n",
              "          element.innerHTML = '';\n",
              "          dataTable['output_type'] = 'display_data';\n",
              "          await google.colab.output.renderOutput(dataTable, element);\n",
              "          const docLink = document.createElement('div');\n",
              "          docLink.innerHTML = docLinkHtml;\n",
              "          element.appendChild(docLink);\n",
              "        }\n",
              "      </script>\n",
              "    </div>\n",
              "  </div>\n",
              "  "
            ]
          },
          "metadata": {},
          "execution_count": 84
        }
      ],
      "source": [
        "club_table.head()"
      ]
    },
    {
      "cell_type": "code",
      "execution_count": null,
      "metadata": {
        "id": "jRiUsDqLAOqF",
        "outputId": "e26dfa0a-0353-4147-8ae7-39ab5a4be31a",
        "colab": {
          "base_uri": "https://localhost:8080/"
        }
      },
      "outputs": [
        {
          "output_type": "execute_result",
          "data": {
            "text/plain": [
              "id           0\n",
              "Club Name    0\n",
              "Country      0\n",
              "dtype: int64"
            ]
          },
          "metadata": {},
          "execution_count": 86
        }
      ],
      "source": [
        "club_table.isnull().sum()"
      ]
    },
    {
      "cell_type": "markdown",
      "source": [
        "#Coach Table"
      ],
      "metadata": {
        "id": "_YeWYzHpEQHo"
      }
    },
    {
      "cell_type": "code",
      "source": [
        "Coach_table=pd.DataFrame()\n",
        "Coach_table['Club Name']=Clubs_df['Club Name']\n",
        "Coach_table['Coach name']=Clubs_df['Coach name']\n",
        "Coach_table['Appointed Date']=Clubs_df['Appointed Date']\n",
        "Coach_table=Coach_table.drop_duplicates(keep='last')"
      ],
      "metadata": {
        "id": "Cgnz5hzuEL08"
      },
      "execution_count": null,
      "outputs": []
    },
    {
      "cell_type": "code",
      "source": [
        "coach_df=Coach_table.merge(club_table,on='Club Name',how='left')"
      ],
      "metadata": {
        "id": "U8pp6uPe3B05"
      },
      "execution_count": null,
      "outputs": []
    },
    {
      "cell_type": "code",
      "source": [
        "index=coach_df[coach_df['Club Name']=='AC Carpi'].index.tolist()\n",
        "coach_df.drop(index,axis=0,inplace=True)"
      ],
      "metadata": {
        "id": "ERlemDIJDXkz"
      },
      "execution_count": null,
      "outputs": []
    },
    {
      "cell_type": "code",
      "source": [
        "index=coach_df[coach_df['Club Name']=='Palermo FC'].index.tolist()\n",
        "coach_df.drop(index,axis=0,inplace=True)"
      ],
      "metadata": {
        "id": "vJItewIAAnaS"
      },
      "execution_count": null,
      "outputs": []
    },
    {
      "cell_type": "code",
      "source": [
        "coach_df.isnull().sum()"
      ],
      "metadata": {
        "colab": {
          "base_uri": "https://localhost:8080/"
        },
        "id": "_8t33PepDuqB",
        "outputId": "9ae59d1a-43c3-4d48-c446-ae55ab3d08db"
      },
      "execution_count": null,
      "outputs": [
        {
          "output_type": "execute_result",
          "data": {
            "text/plain": [
              "Club Name         0\n",
              "Coach name        0\n",
              "Appointed Date    0\n",
              "id                0\n",
              "Country           0\n",
              "dtype: int64"
            ]
          },
          "metadata": {},
          "execution_count": 116
        }
      ]
    },
    {
      "cell_type": "code",
      "source": [
        "coach_df.drop(['Club Name','Country'],axis=1,inplace=True)"
      ],
      "metadata": {
        "id": "_syufGCDGMo6"
      },
      "execution_count": null,
      "outputs": []
    },
    {
      "cell_type": "code",
      "source": [
        "coach_df.head()"
      ],
      "metadata": {
        "colab": {
          "base_uri": "https://localhost:8080/",
          "height": 206
        },
        "id": "SpWr_JilGdVI",
        "outputId": "a004b1a7-5f43-44ba-c451-44777be8e263"
      },
      "execution_count": null,
      "outputs": [
        {
          "output_type": "execute_result",
          "data": {
            "text/plain": [
              "         Coach name Appointed Date      id\n",
              "0      Luis Enrique     2014-07-01   131.0\n",
              "1    Jorge Sampaoli     2016-07-01   368.0\n",
              "2    Pako Ayestarán     2016-03-30  1049.0\n",
              "3         Marcelino     2013-01-15  1050.0\n",
              "4  Ernesto Valverde     2013-07-01   621.0"
            ],
            "text/html": [
              "\n",
              "  <div id=\"df-7f2f69b5-0c76-4e36-a492-4983d3cf8574\">\n",
              "    <div class=\"colab-df-container\">\n",
              "      <div>\n",
              "<style scoped>\n",
              "    .dataframe tbody tr th:only-of-type {\n",
              "        vertical-align: middle;\n",
              "    }\n",
              "\n",
              "    .dataframe tbody tr th {\n",
              "        vertical-align: top;\n",
              "    }\n",
              "\n",
              "    .dataframe thead th {\n",
              "        text-align: right;\n",
              "    }\n",
              "</style>\n",
              "<table border=\"1\" class=\"dataframe\">\n",
              "  <thead>\n",
              "    <tr style=\"text-align: right;\">\n",
              "      <th></th>\n",
              "      <th>Coach name</th>\n",
              "      <th>Appointed Date</th>\n",
              "      <th>id</th>\n",
              "    </tr>\n",
              "  </thead>\n",
              "  <tbody>\n",
              "    <tr>\n",
              "      <th>0</th>\n",
              "      <td>Luis Enrique</td>\n",
              "      <td>2014-07-01</td>\n",
              "      <td>131.0</td>\n",
              "    </tr>\n",
              "    <tr>\n",
              "      <th>1</th>\n",
              "      <td>Jorge Sampaoli</td>\n",
              "      <td>2016-07-01</td>\n",
              "      <td>368.0</td>\n",
              "    </tr>\n",
              "    <tr>\n",
              "      <th>2</th>\n",
              "      <td>Pako Ayestarán</td>\n",
              "      <td>2016-03-30</td>\n",
              "      <td>1049.0</td>\n",
              "    </tr>\n",
              "    <tr>\n",
              "      <th>3</th>\n",
              "      <td>Marcelino</td>\n",
              "      <td>2013-01-15</td>\n",
              "      <td>1050.0</td>\n",
              "    </tr>\n",
              "    <tr>\n",
              "      <th>4</th>\n",
              "      <td>Ernesto Valverde</td>\n",
              "      <td>2013-07-01</td>\n",
              "      <td>621.0</td>\n",
              "    </tr>\n",
              "  </tbody>\n",
              "</table>\n",
              "</div>\n",
              "      <button class=\"colab-df-convert\" onclick=\"convertToInteractive('df-7f2f69b5-0c76-4e36-a492-4983d3cf8574')\"\n",
              "              title=\"Convert this dataframe to an interactive table.\"\n",
              "              style=\"display:none;\">\n",
              "        \n",
              "  <svg xmlns=\"http://www.w3.org/2000/svg\" height=\"24px\"viewBox=\"0 0 24 24\"\n",
              "       width=\"24px\">\n",
              "    <path d=\"M0 0h24v24H0V0z\" fill=\"none\"/>\n",
              "    <path d=\"M18.56 5.44l.94 2.06.94-2.06 2.06-.94-2.06-.94-.94-2.06-.94 2.06-2.06.94zm-11 1L8.5 8.5l.94-2.06 2.06-.94-2.06-.94L8.5 2.5l-.94 2.06-2.06.94zm10 10l.94 2.06.94-2.06 2.06-.94-2.06-.94-.94-2.06-.94 2.06-2.06.94z\"/><path d=\"M17.41 7.96l-1.37-1.37c-.4-.4-.92-.59-1.43-.59-.52 0-1.04.2-1.43.59L10.3 9.45l-7.72 7.72c-.78.78-.78 2.05 0 2.83L4 21.41c.39.39.9.59 1.41.59.51 0 1.02-.2 1.41-.59l7.78-7.78 2.81-2.81c.8-.78.8-2.07 0-2.86zM5.41 20L4 18.59l7.72-7.72 1.47 1.35L5.41 20z\"/>\n",
              "  </svg>\n",
              "      </button>\n",
              "      \n",
              "  <style>\n",
              "    .colab-df-container {\n",
              "      display:flex;\n",
              "      flex-wrap:wrap;\n",
              "      gap: 12px;\n",
              "    }\n",
              "\n",
              "    .colab-df-convert {\n",
              "      background-color: #E8F0FE;\n",
              "      border: none;\n",
              "      border-radius: 50%;\n",
              "      cursor: pointer;\n",
              "      display: none;\n",
              "      fill: #1967D2;\n",
              "      height: 32px;\n",
              "      padding: 0 0 0 0;\n",
              "      width: 32px;\n",
              "    }\n",
              "\n",
              "    .colab-df-convert:hover {\n",
              "      background-color: #E2EBFA;\n",
              "      box-shadow: 0px 1px 2px rgba(60, 64, 67, 0.3), 0px 1px 3px 1px rgba(60, 64, 67, 0.15);\n",
              "      fill: #174EA6;\n",
              "    }\n",
              "\n",
              "    [theme=dark] .colab-df-convert {\n",
              "      background-color: #3B4455;\n",
              "      fill: #D2E3FC;\n",
              "    }\n",
              "\n",
              "    [theme=dark] .colab-df-convert:hover {\n",
              "      background-color: #434B5C;\n",
              "      box-shadow: 0px 1px 3px 1px rgba(0, 0, 0, 0.15);\n",
              "      filter: drop-shadow(0px 1px 2px rgba(0, 0, 0, 0.3));\n",
              "      fill: #FFFFFF;\n",
              "    }\n",
              "  </style>\n",
              "\n",
              "      <script>\n",
              "        const buttonEl =\n",
              "          document.querySelector('#df-7f2f69b5-0c76-4e36-a492-4983d3cf8574 button.colab-df-convert');\n",
              "        buttonEl.style.display =\n",
              "          google.colab.kernel.accessAllowed ? 'block' : 'none';\n",
              "\n",
              "        async function convertToInteractive(key) {\n",
              "          const element = document.querySelector('#df-7f2f69b5-0c76-4e36-a492-4983d3cf8574');\n",
              "          const dataTable =\n",
              "            await google.colab.kernel.invokeFunction('convertToInteractive',\n",
              "                                                     [key], {});\n",
              "          if (!dataTable) return;\n",
              "\n",
              "          const docLinkHtml = 'Like what you see? Visit the ' +\n",
              "            '<a target=\"_blank\" href=https://colab.research.google.com/notebooks/data_table.ipynb>data table notebook</a>'\n",
              "            + ' to learn more about interactive tables.';\n",
              "          element.innerHTML = '';\n",
              "          dataTable['output_type'] = 'display_data';\n",
              "          await google.colab.output.renderOutput(dataTable, element);\n",
              "          const docLink = document.createElement('div');\n",
              "          docLink.innerHTML = docLinkHtml;\n",
              "          element.appendChild(docLink);\n",
              "        }\n",
              "      </script>\n",
              "    </div>\n",
              "  </div>\n",
              "  "
            ]
          },
          "metadata": {},
          "execution_count": 120
        }
      ]
    },
    {
      "cell_type": "code",
      "source": [
        "coach_df.shape"
      ],
      "metadata": {
        "colab": {
          "base_uri": "https://localhost:8080/"
        },
        "id": "UWs91v2HGoLD",
        "outputId": "2e0f2b36-248a-418f-a847-2f667cfbffa5"
      },
      "execution_count": null,
      "outputs": [
        {
          "output_type": "execute_result",
          "data": {
            "text/plain": [
              "(415, 3)"
            ]
          },
          "metadata": {},
          "execution_count": 122
        }
      ]
    },
    {
      "cell_type": "code",
      "source": [
        "coach_df.to_csv('coach_df.csv', index=False)"
      ],
      "metadata": {
        "id": "8ViBw9FAGHmu"
      },
      "execution_count": null,
      "outputs": []
    },
    {
      "cell_type": "markdown",
      "source": [
        "#Stadium "
      ],
      "metadata": {
        "id": "HAKCBY_9HtPm"
      }
    },
    {
      "cell_type": "code",
      "source": [
        "len(Clubs_df['Stadium name'].unique())"
      ],
      "metadata": {
        "colab": {
          "base_uri": "https://localhost:8080/"
        },
        "id": "m1HMv-34H0Er",
        "outputId": "90e3a1e8-8c22-4faf-f174-3603f8255ebe"
      },
      "execution_count": null,
      "outputs": [
        {
          "output_type": "execute_result",
          "data": {
            "text/plain": [
              "143"
            ]
          },
          "metadata": {},
          "execution_count": 156
        }
      ]
    },
    {
      "cell_type": "code",
      "source": [
        "Clubs_df.columns"
      ],
      "metadata": {
        "colab": {
          "base_uri": "https://localhost:8080/"
        },
        "id": "_fR4lKXzIcG8",
        "outputId": "1fc488eb-c7ee-42a2-e15a-a9a449eebab1"
      },
      "execution_count": null,
      "outputs": [
        {
          "output_type": "execute_result",
          "data": {
            "text/plain": [
              "Index(['Club Name', 'League name', 'Average age of players', 'Stadium name',\n",
              "       'Coach name', 'Appointed Date', 'Total market value', 'Season',\n",
              "       'Country'],\n",
              "      dtype='object')"
            ]
          },
          "metadata": {},
          "execution_count": 158
        }
      ]
    },
    {
      "cell_type": "code",
      "source": [
        "len(merged['Stadium name'].unique())"
      ],
      "metadata": {
        "colab": {
          "base_uri": "https://localhost:8080/"
        },
        "id": "cVb35LbRH0HB",
        "outputId": "586e9bd0-0f43-405e-91c4-2c5fb75619a3"
      },
      "execution_count": null,
      "outputs": [
        {
          "output_type": "execute_result",
          "data": {
            "text/plain": [
              "142"
            ]
          },
          "metadata": {},
          "execution_count": 157
        }
      ]
    },
    {
      "cell_type": "code",
      "source": [
        "Stadium_df=pd.DataFrame()\n",
        "Stadium_df['Club Name']=Clubs_df['Club Name']\n",
        "Stadium_df['Stadium name']=Clubs_df['Stadium name']\n",
        "Stadium_df=Stadium_df.drop_duplicates(keep='last')"
      ],
      "metadata": {
        "id": "1DdSbJUuH0KK"
      },
      "execution_count": null,
      "outputs": []
    },
    {
      "cell_type": "code",
      "source": [
        "Stadium_df.shape"
      ],
      "metadata": {
        "colab": {
          "base_uri": "https://localhost:8080/"
        },
        "id": "zWeX1zlBJEQa",
        "outputId": "5c017b30-17ec-47a7-edb0-b2dfa0eaa34a"
      },
      "execution_count": null,
      "outputs": [
        {
          "output_type": "execute_result",
          "data": {
            "text/plain": [
              "(147, 2)"
            ]
          },
          "metadata": {},
          "execution_count": 185
        }
      ]
    },
    {
      "cell_type": "code",
      "source": [
        "Stadium_table=Stadium_df.merge(club_table,on='Club Name',how='left')"
      ],
      "metadata": {
        "id": "5PnU4UNyI86j"
      },
      "execution_count": null,
      "outputs": []
    },
    {
      "cell_type": "code",
      "source": [
        "Stadium_table.drop(['Country','Club Name'],axis=1,inplace=True)"
      ],
      "metadata": {
        "id": "3-ZHiw3SJQP0"
      },
      "execution_count": null,
      "outputs": []
    },
    {
      "cell_type": "code",
      "source": [
        "Stadium_table.rename(columns = {'id':'Club_id'} , inplace = True)"
      ],
      "metadata": {
        "id": "MUhu8_mZJt2n"
      },
      "execution_count": null,
      "outputs": []
    },
    {
      "cell_type": "code",
      "source": [
        "Stadium_table.head()"
      ],
      "metadata": {
        "colab": {
          "base_uri": "https://localhost:8080/",
          "height": 206
        },
        "id": "vo2AuN5KJe_O",
        "outputId": "3d9bfedd-3a98-4539-8dbc-29813d4d5633"
      },
      "execution_count": null,
      "outputs": [
        {
          "output_type": "execute_result",
          "data": {
            "text/plain": [
              "                        Stadium name  Club_id\n",
              "0  El Molinón - Enrique Castro Quini   2448.0\n",
              "1            Estadio de Gran Canaria    472.0\n",
              "2                      Abanca Riazor    897.0\n",
              "3                        La Rosaleda   1084.0\n",
              "4                          Montilivi  12321.0"
            ],
            "text/html": [
              "\n",
              "  <div id=\"df-4f394e32-a5b9-4791-af5e-c351ad70dcc3\">\n",
              "    <div class=\"colab-df-container\">\n",
              "      <div>\n",
              "<style scoped>\n",
              "    .dataframe tbody tr th:only-of-type {\n",
              "        vertical-align: middle;\n",
              "    }\n",
              "\n",
              "    .dataframe tbody tr th {\n",
              "        vertical-align: top;\n",
              "    }\n",
              "\n",
              "    .dataframe thead th {\n",
              "        text-align: right;\n",
              "    }\n",
              "</style>\n",
              "<table border=\"1\" class=\"dataframe\">\n",
              "  <thead>\n",
              "    <tr style=\"text-align: right;\">\n",
              "      <th></th>\n",
              "      <th>Stadium name</th>\n",
              "      <th>Club_id</th>\n",
              "    </tr>\n",
              "  </thead>\n",
              "  <tbody>\n",
              "    <tr>\n",
              "      <th>0</th>\n",
              "      <td>El Molinón - Enrique Castro Quini</td>\n",
              "      <td>2448.0</td>\n",
              "    </tr>\n",
              "    <tr>\n",
              "      <th>1</th>\n",
              "      <td>Estadio de Gran Canaria</td>\n",
              "      <td>472.0</td>\n",
              "    </tr>\n",
              "    <tr>\n",
              "      <th>2</th>\n",
              "      <td>Abanca Riazor</td>\n",
              "      <td>897.0</td>\n",
              "    </tr>\n",
              "    <tr>\n",
              "      <th>3</th>\n",
              "      <td>La Rosaleda</td>\n",
              "      <td>1084.0</td>\n",
              "    </tr>\n",
              "    <tr>\n",
              "      <th>4</th>\n",
              "      <td>Montilivi</td>\n",
              "      <td>12321.0</td>\n",
              "    </tr>\n",
              "  </tbody>\n",
              "</table>\n",
              "</div>\n",
              "      <button class=\"colab-df-convert\" onclick=\"convertToInteractive('df-4f394e32-a5b9-4791-af5e-c351ad70dcc3')\"\n",
              "              title=\"Convert this dataframe to an interactive table.\"\n",
              "              style=\"display:none;\">\n",
              "        \n",
              "  <svg xmlns=\"http://www.w3.org/2000/svg\" height=\"24px\"viewBox=\"0 0 24 24\"\n",
              "       width=\"24px\">\n",
              "    <path d=\"M0 0h24v24H0V0z\" fill=\"none\"/>\n",
              "    <path d=\"M18.56 5.44l.94 2.06.94-2.06 2.06-.94-2.06-.94-.94-2.06-.94 2.06-2.06.94zm-11 1L8.5 8.5l.94-2.06 2.06-.94-2.06-.94L8.5 2.5l-.94 2.06-2.06.94zm10 10l.94 2.06.94-2.06 2.06-.94-2.06-.94-.94-2.06-.94 2.06-2.06.94z\"/><path d=\"M17.41 7.96l-1.37-1.37c-.4-.4-.92-.59-1.43-.59-.52 0-1.04.2-1.43.59L10.3 9.45l-7.72 7.72c-.78.78-.78 2.05 0 2.83L4 21.41c.39.39.9.59 1.41.59.51 0 1.02-.2 1.41-.59l7.78-7.78 2.81-2.81c.8-.78.8-2.07 0-2.86zM5.41 20L4 18.59l7.72-7.72 1.47 1.35L5.41 20z\"/>\n",
              "  </svg>\n",
              "      </button>\n",
              "      \n",
              "  <style>\n",
              "    .colab-df-container {\n",
              "      display:flex;\n",
              "      flex-wrap:wrap;\n",
              "      gap: 12px;\n",
              "    }\n",
              "\n",
              "    .colab-df-convert {\n",
              "      background-color: #E8F0FE;\n",
              "      border: none;\n",
              "      border-radius: 50%;\n",
              "      cursor: pointer;\n",
              "      display: none;\n",
              "      fill: #1967D2;\n",
              "      height: 32px;\n",
              "      padding: 0 0 0 0;\n",
              "      width: 32px;\n",
              "    }\n",
              "\n",
              "    .colab-df-convert:hover {\n",
              "      background-color: #E2EBFA;\n",
              "      box-shadow: 0px 1px 2px rgba(60, 64, 67, 0.3), 0px 1px 3px 1px rgba(60, 64, 67, 0.15);\n",
              "      fill: #174EA6;\n",
              "    }\n",
              "\n",
              "    [theme=dark] .colab-df-convert {\n",
              "      background-color: #3B4455;\n",
              "      fill: #D2E3FC;\n",
              "    }\n",
              "\n",
              "    [theme=dark] .colab-df-convert:hover {\n",
              "      background-color: #434B5C;\n",
              "      box-shadow: 0px 1px 3px 1px rgba(0, 0, 0, 0.15);\n",
              "      filter: drop-shadow(0px 1px 2px rgba(0, 0, 0, 0.3));\n",
              "      fill: #FFFFFF;\n",
              "    }\n",
              "  </style>\n",
              "\n",
              "      <script>\n",
              "        const buttonEl =\n",
              "          document.querySelector('#df-4f394e32-a5b9-4791-af5e-c351ad70dcc3 button.colab-df-convert');\n",
              "        buttonEl.style.display =\n",
              "          google.colab.kernel.accessAllowed ? 'block' : 'none';\n",
              "\n",
              "        async function convertToInteractive(key) {\n",
              "          const element = document.querySelector('#df-4f394e32-a5b9-4791-af5e-c351ad70dcc3');\n",
              "          const dataTable =\n",
              "            await google.colab.kernel.invokeFunction('convertToInteractive',\n",
              "                                                     [key], {});\n",
              "          if (!dataTable) return;\n",
              "\n",
              "          const docLinkHtml = 'Like what you see? Visit the ' +\n",
              "            '<a target=\"_blank\" href=https://colab.research.google.com/notebooks/data_table.ipynb>data table notebook</a>'\n",
              "            + ' to learn more about interactive tables.';\n",
              "          element.innerHTML = '';\n",
              "          dataTable['output_type'] = 'display_data';\n",
              "          await google.colab.output.renderOutput(dataTable, element);\n",
              "          const docLink = document.createElement('div');\n",
              "          docLink.innerHTML = docLinkHtml;\n",
              "          element.appendChild(docLink);\n",
              "        }\n",
              "      </script>\n",
              "    </div>\n",
              "  </div>\n",
              "  "
            ]
          },
          "metadata": {},
          "execution_count": 189
        }
      ]
    },
    {
      "cell_type": "code",
      "source": [
        "Stadium_table.shape"
      ],
      "metadata": {
        "colab": {
          "base_uri": "https://localhost:8080/"
        },
        "id": "xKUky0jmJlk_",
        "outputId": "2c67e475-2fa9-4697-c926-f9b8a3b3e01a"
      },
      "execution_count": null,
      "outputs": [
        {
          "output_type": "execute_result",
          "data": {
            "text/plain": [
              "(147, 2)"
            ]
          },
          "metadata": {},
          "execution_count": 190
        }
      ]
    },
    {
      "cell_type": "code",
      "source": [
        "Stadium_table.isnull().sum()"
      ],
      "metadata": {
        "colab": {
          "base_uri": "https://localhost:8080/"
        },
        "id": "opX6n8kcJ99b",
        "outputId": "5baefe82-9bc7-48fe-fb45-a5278486a59d"
      },
      "execution_count": null,
      "outputs": [
        {
          "output_type": "execute_result",
          "data": {
            "text/plain": [
              "Stadium name    0\n",
              "Club_id         2\n",
              "dtype: int64"
            ]
          },
          "metadata": {},
          "execution_count": 191
        }
      ]
    },
    {
      "cell_type": "code",
      "source": [
        "index=Stadium_table[Stadium_table['Club_id'].isnull()].index.tolist()"
      ],
      "metadata": {
        "id": "6of2GF0wJ-K7"
      },
      "execution_count": null,
      "outputs": []
    },
    {
      "cell_type": "code",
      "source": [
        "Stadium_table.drop(index,axis=0,inplace=True)"
      ],
      "metadata": {
        "id": "MO0k4RLZKhx3"
      },
      "execution_count": null,
      "outputs": []
    },
    {
      "cell_type": "code",
      "source": [
        "Stadium_table.isnull().sum()"
      ],
      "metadata": {
        "colab": {
          "base_uri": "https://localhost:8080/"
        },
        "id": "RibJKLSAKni4",
        "outputId": "6dc8cdbf-669c-4c21-c51d-6ff1b2079182"
      },
      "execution_count": null,
      "outputs": [
        {
          "output_type": "execute_result",
          "data": {
            "text/plain": [
              "Stadium name    0\n",
              "Club_id         0\n",
              "dtype: int64"
            ]
          },
          "metadata": {},
          "execution_count": 194
        }
      ]
    },
    {
      "cell_type": "code",
      "source": [
        "Stadium_table.shape"
      ],
      "metadata": {
        "colab": {
          "base_uri": "https://localhost:8080/"
        },
        "id": "Y83kAzzFKsRg",
        "outputId": "75abb113-dde1-4d51-9904-3ae9964f5af9"
      },
      "execution_count": null,
      "outputs": [
        {
          "output_type": "execute_result",
          "data": {
            "text/plain": [
              "(145, 2)"
            ]
          },
          "metadata": {},
          "execution_count": 195
        }
      ]
    },
    {
      "cell_type": "code",
      "source": [
        "Stadium_table.to_csv('Stadium_table.csv', index=False)"
      ],
      "metadata": {
        "id": "sr4iacnFKwJN"
      },
      "execution_count": null,
      "outputs": []
    },
    {
      "cell_type": "markdown",
      "source": [
        "#Club statistics"
      ],
      "metadata": {
        "id": "zqzMQf0CTy9D"
      }
    },
    {
      "cell_type": "markdown",
      "metadata": {
        "id": "j7ZUbmmKAOqF"
      },
      "source": [
        "we should have table named club include this columns:\n",
        "1. id\n",
        "2. Market_value\n",
        "5. Income\n",
        "6. Expenditure\n",
        "7. Overall_balance\n",
        "8. Total market value\n",
        "9. Coach name\n",
        "10. Appointed Date\n",
        "11. Stadium name\n",
        "12. Average age of players\n",
        "13. season\n",
        "14. Arrivals\n",
        "15. DEPARTURES"
      ]
    },
    {
      "cell_type": "code",
      "source": [
        "merged.rename(columns = {'income_arrival':'ARRIVALS','expend_arrival':'DEPARTURES'} , inplace = True)"
      ],
      "metadata": {
        "id": "_tUf2EknUdwE"
      },
      "execution_count": null,
      "outputs": []
    },
    {
      "cell_type": "code",
      "source": [
        "merged['Total market value']=merged['Total market value'].astype(str)"
      ],
      "metadata": {
        "id": "xVdMDcv7Y7_u"
      },
      "execution_count": null,
      "outputs": []
    },
    {
      "cell_type": "code",
      "source": [
        "for i in range(len(merged['expend'])):\n",
        "  \n",
        "  if 'm' in merged['expend'][i]:\n",
        "    merged['expend'][i]=float(merged['expend'][i].replace('m',''))*1000000\n",
        "     \n",
        "    \n",
        "  elif 'k' in merged['expend'][i]:\n",
        "    merged['expend'][i]=float(merged['expend'][i].replace('k',''))*1000\n",
        "  else:\n",
        "    merged['expend'][i]=float(merged['expend'][i])"
      ],
      "metadata": {
        "colab": {
          "base_uri": "https://localhost:8080/"
        },
        "id": "jMhlYxACZJ2C",
        "outputId": "81c6324e-a1ce-43b8-b091-7f2a30e1015e"
      },
      "execution_count": null,
      "outputs": [
        {
          "output_type": "stream",
          "name": "stderr",
          "text": [
            "<ipython-input-144-ef5f4726cdad>:4: SettingWithCopyWarning: \n",
            "A value is trying to be set on a copy of a slice from a DataFrame\n",
            "\n",
            "See the caveats in the documentation: https://pandas.pydata.org/pandas-docs/stable/user_guide/indexing.html#returning-a-view-versus-a-copy\n",
            "  merged['expend'][i]=float(merged['expend'][i].replace('m',''))*1000000\n",
            "<ipython-input-144-ef5f4726cdad>:10: SettingWithCopyWarning: \n",
            "A value is trying to be set on a copy of a slice from a DataFrame\n",
            "\n",
            "See the caveats in the documentation: https://pandas.pydata.org/pandas-docs/stable/user_guide/indexing.html#returning-a-view-versus-a-copy\n",
            "  merged['expend'][i]=float(merged['expend'][i])\n",
            "<ipython-input-144-ef5f4726cdad>:8: SettingWithCopyWarning: \n",
            "A value is trying to be set on a copy of a slice from a DataFrame\n",
            "\n",
            "See the caveats in the documentation: https://pandas.pydata.org/pandas-docs/stable/user_guide/indexing.html#returning-a-view-versus-a-copy\n",
            "  merged['expend'][i]=float(merged['expend'][i].replace('k',''))*1000\n"
          ]
        }
      ]
    },
    {
      "cell_type": "code",
      "source": [
        "for i in range(len(merged['Total market value'])):\n",
        "  \n",
        "  if 'm' in merged['Total market value'][i]:\n",
        "    merged['Total market value'][i]=float(merged['Total market value'][i].replace('m',''))*1000000\n",
        "\n",
        "  elif 'bn' in merged['Total market value'][i]:\n",
        " \n",
        "    merged['Total market value'][i]=float(merged['Total market value'][i].replace('bn',''))*1000000000\n",
        "  else:\n",
        "\n",
        "    merged['Total market value'][i]=float(merged['Total market value'][i])"
      ],
      "metadata": {
        "colab": {
          "base_uri": "https://localhost:8080/"
        },
        "id": "DbJdDseWVDUv",
        "outputId": "1866c9f5-183a-4175-c229-253513b5274b"
      },
      "execution_count": null,
      "outputs": [
        {
          "output_type": "stream",
          "name": "stderr",
          "text": [
            "<ipython-input-145-af0021b8fd5e>:8: SettingWithCopyWarning: \n",
            "A value is trying to be set on a copy of a slice from a DataFrame\n",
            "\n",
            "See the caveats in the documentation: https://pandas.pydata.org/pandas-docs/stable/user_guide/indexing.html#returning-a-view-versus-a-copy\n",
            "  merged['Total market value'][i]=float(merged['Total market value'][i].replace('bn',''))*1000000000\n",
            "<ipython-input-145-af0021b8fd5e>:4: SettingWithCopyWarning: \n",
            "A value is trying to be set on a copy of a slice from a DataFrame\n",
            "\n",
            "See the caveats in the documentation: https://pandas.pydata.org/pandas-docs/stable/user_guide/indexing.html#returning-a-view-versus-a-copy\n",
            "  merged['Total market value'][i]=float(merged['Total market value'][i].replace('m',''))*1000000\n",
            "<ipython-input-145-af0021b8fd5e>:11: SettingWithCopyWarning: \n",
            "A value is trying to be set on a copy of a slice from a DataFrame\n",
            "\n",
            "See the caveats in the documentation: https://pandas.pydata.org/pandas-docs/stable/user_guide/indexing.html#returning-a-view-versus-a-copy\n",
            "  merged['Total market value'][i]=float(merged['Total market value'][i])\n"
          ]
        }
      ]
    },
    {
      "cell_type": "code",
      "source": [
        "merged['income']=merged['income'].apply(lambda x: float(x[:-1]) * 1000000 if 'm' in x else float(x[:-2]) * 1000000000 if 'bn' in x else float(x[:-1]) * 1000 if x.endswith('k') else float(x))"
      ],
      "metadata": {
        "id": "zSu59emkaD8t"
      },
      "execution_count": null,
      "outputs": []
    },
    {
      "cell_type": "code",
      "source": [
        "for i in range(len(merged['overall_balance'])):\n",
        "  sign=merged['overall_balance'][i][0]\n",
        "  if 'm' in merged['overall_balance'][i]:\n",
        "    if sign=='-':\n",
        "        merged['overall_balance'][i]=float(merged['overall_balance'][i][1:].replace('m',''))*1000000 *-1\n",
        "    else:\n",
        "        merged['overall_balance'][i]=float(merged['overall_balance'][i][1:].replace('m',''))*1000000\n",
        "  elif 'k' in merged['overall_balance'][i]:\n",
        "    if sign=='-':\n",
        "        merged['overall_balance'][i]=float(merged['overall_balance'][i][1:].replace('k',''))*1000 *-1\n",
        "    else:\n",
        "        merged['overall_balance'][i]=float(merged['overall_balance'][i][1:].replace('k',''))*1000\n",
        " \n",
        "  else:\n",
        "      merged['overall_balance'][i]=float(merged['overall_balance'][i][1:])"
      ],
      "metadata": {
        "colab": {
          "base_uri": "https://localhost:8080/"
        },
        "id": "ECMRKjZpf7bY",
        "outputId": "42088049-0b52-4651-a0e2-5529e948281e"
      },
      "execution_count": null,
      "outputs": [
        {
          "output_type": "stream",
          "name": "stderr",
          "text": [
            "<ipython-input-147-340c108c49ee>:5: SettingWithCopyWarning: \n",
            "A value is trying to be set on a copy of a slice from a DataFrame\n",
            "\n",
            "See the caveats in the documentation: https://pandas.pydata.org/pandas-docs/stable/user_guide/indexing.html#returning-a-view-versus-a-copy\n",
            "  merged['overall_balance'][i]=float(merged['overall_balance'][i][1:].replace('m',''))*1000000 *-1\n",
            "<ipython-input-147-340c108c49ee>:7: SettingWithCopyWarning: \n",
            "A value is trying to be set on a copy of a slice from a DataFrame\n",
            "\n",
            "See the caveats in the documentation: https://pandas.pydata.org/pandas-docs/stable/user_guide/indexing.html#returning-a-view-versus-a-copy\n",
            "  merged['overall_balance'][i]=float(merged['overall_balance'][i][1:].replace('m',''))*1000000\n",
            "<ipython-input-147-340c108c49ee>:15: SettingWithCopyWarning: \n",
            "A value is trying to be set on a copy of a slice from a DataFrame\n",
            "\n",
            "See the caveats in the documentation: https://pandas.pydata.org/pandas-docs/stable/user_guide/indexing.html#returning-a-view-versus-a-copy\n",
            "  merged['overall_balance'][i]=float(merged['overall_balance'][i][1:])\n",
            "<ipython-input-147-340c108c49ee>:10: SettingWithCopyWarning: \n",
            "A value is trying to be set on a copy of a slice from a DataFrame\n",
            "\n",
            "See the caveats in the documentation: https://pandas.pydata.org/pandas-docs/stable/user_guide/indexing.html#returning-a-view-versus-a-copy\n",
            "  merged['overall_balance'][i]=float(merged['overall_balance'][i][1:].replace('k',''))*1000 *-1\n",
            "<ipython-input-147-340c108c49ee>:12: SettingWithCopyWarning: \n",
            "A value is trying to be set on a copy of a slice from a DataFrame\n",
            "\n",
            "See the caveats in the documentation: https://pandas.pydata.org/pandas-docs/stable/user_guide/indexing.html#returning-a-view-versus-a-copy\n",
            "  merged['overall_balance'][i]=float(merged['overall_balance'][i][1:].replace('k',''))*1000\n"
          ]
        }
      ]
    },
    {
      "cell_type": "code",
      "source": [
        "merged['Season']=merged['Season'].astype('int')"
      ],
      "metadata": {
        "id": "tGqyZ4qXTMKB"
      },
      "execution_count": null,
      "outputs": []
    },
    {
      "cell_type": "code",
      "source": [
        "merged.drop(['Coach name','Appointed Date'],axis=1,inplace=True)"
      ],
      "metadata": {
        "id": "uiVlkE_2HcEY"
      },
      "execution_count": null,
      "outputs": []
    },
    {
      "cell_type": "code",
      "source": [
        "merged.drop(['Stadium name'],axis=1,inplace=True)"
      ],
      "metadata": {
        "id": "j01ncxKaLsnj"
      },
      "execution_count": null,
      "outputs": []
    },
    {
      "cell_type": "code",
      "source": [
        "merged.head()"
      ],
      "metadata": {
        "colab": {
          "base_uri": "https://localhost:8080/",
          "height": 371
        },
        "id": "nZWHzSxkUGXd",
        "outputId": "dcbcb7d5-7418-405a-9a53-3272f4103f92"
      },
      "execution_count": null,
      "outputs": [
        {
          "output_type": "execute_result",
          "data": {
            "text/plain": [
              "    id  Season       income       expend overall_balance  ARRIVALS  \\\n",
              "0  631    2015   87490000.0   96500000.0      -9010000.0        32   \n",
              "1  281    2015   67440000.0  208470000.0    -141030000.0        23   \n",
              "2   11    2015    2500000.0   26500000.0     -24000000.0        11   \n",
              "3  985    2015  100670000.0  156000000.0     -55330000.0        20   \n",
              "4   31    2015   90550000.0  126500000.0     -35950000.0        24   \n",
              "\n",
              "   DEPARTURES     League name  Average age of players Total market value  \n",
              "0          37  Premier League                    25.5       1020000000.0  \n",
              "1          20  Premier League                    26.8       1050000000.0  \n",
              "2          13  Premier League                    25.2        890000000.0  \n",
              "3          22  Premier League                    26.0        795700000.0  \n",
              "4          23  Premier League                    26.7        879000000.0  "
            ],
            "text/html": [
              "\n",
              "  <div id=\"df-19795529-a8a1-4472-bc47-10dceb12b3ad\">\n",
              "    <div class=\"colab-df-container\">\n",
              "      <div>\n",
              "<style scoped>\n",
              "    .dataframe tbody tr th:only-of-type {\n",
              "        vertical-align: middle;\n",
              "    }\n",
              "\n",
              "    .dataframe tbody tr th {\n",
              "        vertical-align: top;\n",
              "    }\n",
              "\n",
              "    .dataframe thead th {\n",
              "        text-align: right;\n",
              "    }\n",
              "</style>\n",
              "<table border=\"1\" class=\"dataframe\">\n",
              "  <thead>\n",
              "    <tr style=\"text-align: right;\">\n",
              "      <th></th>\n",
              "      <th>id</th>\n",
              "      <th>Season</th>\n",
              "      <th>income</th>\n",
              "      <th>expend</th>\n",
              "      <th>overall_balance</th>\n",
              "      <th>ARRIVALS</th>\n",
              "      <th>DEPARTURES</th>\n",
              "      <th>League name</th>\n",
              "      <th>Average age of players</th>\n",
              "      <th>Total market value</th>\n",
              "    </tr>\n",
              "  </thead>\n",
              "  <tbody>\n",
              "    <tr>\n",
              "      <th>0</th>\n",
              "      <td>631</td>\n",
              "      <td>2015</td>\n",
              "      <td>87490000.0</td>\n",
              "      <td>96500000.0</td>\n",
              "      <td>-9010000.0</td>\n",
              "      <td>32</td>\n",
              "      <td>37</td>\n",
              "      <td>Premier League</td>\n",
              "      <td>25.5</td>\n",
              "      <td>1020000000.0</td>\n",
              "    </tr>\n",
              "    <tr>\n",
              "      <th>1</th>\n",
              "      <td>281</td>\n",
              "      <td>2015</td>\n",
              "      <td>67440000.0</td>\n",
              "      <td>208470000.0</td>\n",
              "      <td>-141030000.0</td>\n",
              "      <td>23</td>\n",
              "      <td>20</td>\n",
              "      <td>Premier League</td>\n",
              "      <td>26.8</td>\n",
              "      <td>1050000000.0</td>\n",
              "    </tr>\n",
              "    <tr>\n",
              "      <th>2</th>\n",
              "      <td>11</td>\n",
              "      <td>2015</td>\n",
              "      <td>2500000.0</td>\n",
              "      <td>26500000.0</td>\n",
              "      <td>-24000000.0</td>\n",
              "      <td>11</td>\n",
              "      <td>13</td>\n",
              "      <td>Premier League</td>\n",
              "      <td>25.2</td>\n",
              "      <td>890000000.0</td>\n",
              "    </tr>\n",
              "    <tr>\n",
              "      <th>3</th>\n",
              "      <td>985</td>\n",
              "      <td>2015</td>\n",
              "      <td>100670000.0</td>\n",
              "      <td>156000000.0</td>\n",
              "      <td>-55330000.0</td>\n",
              "      <td>20</td>\n",
              "      <td>22</td>\n",
              "      <td>Premier League</td>\n",
              "      <td>26.0</td>\n",
              "      <td>795700000.0</td>\n",
              "    </tr>\n",
              "    <tr>\n",
              "      <th>4</th>\n",
              "      <td>31</td>\n",
              "      <td>2015</td>\n",
              "      <td>90550000.0</td>\n",
              "      <td>126500000.0</td>\n",
              "      <td>-35950000.0</td>\n",
              "      <td>24</td>\n",
              "      <td>23</td>\n",
              "      <td>Premier League</td>\n",
              "      <td>26.7</td>\n",
              "      <td>879000000.0</td>\n",
              "    </tr>\n",
              "  </tbody>\n",
              "</table>\n",
              "</div>\n",
              "      <button class=\"colab-df-convert\" onclick=\"convertToInteractive('df-19795529-a8a1-4472-bc47-10dceb12b3ad')\"\n",
              "              title=\"Convert this dataframe to an interactive table.\"\n",
              "              style=\"display:none;\">\n",
              "        \n",
              "  <svg xmlns=\"http://www.w3.org/2000/svg\" height=\"24px\"viewBox=\"0 0 24 24\"\n",
              "       width=\"24px\">\n",
              "    <path d=\"M0 0h24v24H0V0z\" fill=\"none\"/>\n",
              "    <path d=\"M18.56 5.44l.94 2.06.94-2.06 2.06-.94-2.06-.94-.94-2.06-.94 2.06-2.06.94zm-11 1L8.5 8.5l.94-2.06 2.06-.94-2.06-.94L8.5 2.5l-.94 2.06-2.06.94zm10 10l.94 2.06.94-2.06 2.06-.94-2.06-.94-.94-2.06-.94 2.06-2.06.94z\"/><path d=\"M17.41 7.96l-1.37-1.37c-.4-.4-.92-.59-1.43-.59-.52 0-1.04.2-1.43.59L10.3 9.45l-7.72 7.72c-.78.78-.78 2.05 0 2.83L4 21.41c.39.39.9.59 1.41.59.51 0 1.02-.2 1.41-.59l7.78-7.78 2.81-2.81c.8-.78.8-2.07 0-2.86zM5.41 20L4 18.59l7.72-7.72 1.47 1.35L5.41 20z\"/>\n",
              "  </svg>\n",
              "      </button>\n",
              "      \n",
              "  <style>\n",
              "    .colab-df-container {\n",
              "      display:flex;\n",
              "      flex-wrap:wrap;\n",
              "      gap: 12px;\n",
              "    }\n",
              "\n",
              "    .colab-df-convert {\n",
              "      background-color: #E8F0FE;\n",
              "      border: none;\n",
              "      border-radius: 50%;\n",
              "      cursor: pointer;\n",
              "      display: none;\n",
              "      fill: #1967D2;\n",
              "      height: 32px;\n",
              "      padding: 0 0 0 0;\n",
              "      width: 32px;\n",
              "    }\n",
              "\n",
              "    .colab-df-convert:hover {\n",
              "      background-color: #E2EBFA;\n",
              "      box-shadow: 0px 1px 2px rgba(60, 64, 67, 0.3), 0px 1px 3px 1px rgba(60, 64, 67, 0.15);\n",
              "      fill: #174EA6;\n",
              "    }\n",
              "\n",
              "    [theme=dark] .colab-df-convert {\n",
              "      background-color: #3B4455;\n",
              "      fill: #D2E3FC;\n",
              "    }\n",
              "\n",
              "    [theme=dark] .colab-df-convert:hover {\n",
              "      background-color: #434B5C;\n",
              "      box-shadow: 0px 1px 3px 1px rgba(0, 0, 0, 0.15);\n",
              "      filter: drop-shadow(0px 1px 2px rgba(0, 0, 0, 0.3));\n",
              "      fill: #FFFFFF;\n",
              "    }\n",
              "  </style>\n",
              "\n",
              "      <script>\n",
              "        const buttonEl =\n",
              "          document.querySelector('#df-19795529-a8a1-4472-bc47-10dceb12b3ad button.colab-df-convert');\n",
              "        buttonEl.style.display =\n",
              "          google.colab.kernel.accessAllowed ? 'block' : 'none';\n",
              "\n",
              "        async function convertToInteractive(key) {\n",
              "          const element = document.querySelector('#df-19795529-a8a1-4472-bc47-10dceb12b3ad');\n",
              "          const dataTable =\n",
              "            await google.colab.kernel.invokeFunction('convertToInteractive',\n",
              "                                                     [key], {});\n",
              "          if (!dataTable) return;\n",
              "\n",
              "          const docLinkHtml = 'Like what you see? Visit the ' +\n",
              "            '<a target=\"_blank\" href=https://colab.research.google.com/notebooks/data_table.ipynb>data table notebook</a>'\n",
              "            + ' to learn more about interactive tables.';\n",
              "          element.innerHTML = '';\n",
              "          dataTable['output_type'] = 'display_data';\n",
              "          await google.colab.output.renderOutput(dataTable, element);\n",
              "          const docLink = document.createElement('div');\n",
              "          docLink.innerHTML = docLinkHtml;\n",
              "          element.appendChild(docLink);\n",
              "        }\n",
              "      </script>\n",
              "    </div>\n",
              "  </div>\n",
              "  "
            ]
          },
          "metadata": {},
          "execution_count": 199
        }
      ]
    },
    {
      "cell_type": "code",
      "source": [
        "len(merged['id'].unique())"
      ],
      "metadata": {
        "colab": {
          "base_uri": "https://localhost:8080/"
        },
        "id": "xUYoNfR_SvsM",
        "outputId": "8ce9c882-fb78-4f3a-9cc7-50b95f1f09fa"
      },
      "execution_count": null,
      "outputs": [
        {
          "output_type": "execute_result",
          "data": {
            "text/plain": [
              "147"
            ]
          },
          "metadata": {},
          "execution_count": 200
        }
      ]
    },
    {
      "cell_type": "code",
      "source": [
        "merged.to_csv('Clubs_stats.csv', index=False)"
      ],
      "metadata": {
        "id": "7H0Ga4OKkaW2"
      },
      "execution_count": null,
      "outputs": []
    },
    {
      "cell_type": "markdown",
      "metadata": {
        "id": "vQSIHvGfAOqF"
      },
      "source": [
        "# Player table"
      ]
    },
    {
      "cell_type": "code",
      "execution_count": null,
      "metadata": {
        "id": "s6vO7oRxAOqF"
      },
      "outputs": [],
      "source": [
        "players=pd.read_csv('test_player_table V2.csv')"
      ]
    },
    {
      "cell_type": "code",
      "execution_count": null,
      "metadata": {
        "id": "e7LGkiV5AOqF"
      },
      "outputs": [],
      "source": [
        "players.drop(['Unnamed: 0'],axis=1,inplace=True)"
      ]
    },
    {
      "cell_type": "code",
      "source": [
        "players.columns"
      ],
      "metadata": {
        "colab": {
          "base_uri": "https://localhost:8080/"
        },
        "id": "BrnuQTGPmfFL",
        "outputId": "62f7672d-8d42-43c2-ea26-68cef3f8b73a"
      },
      "execution_count": null,
      "outputs": [
        {
          "output_type": "execute_result",
          "data": {
            "text/plain": [
              "Index(['player_id', 'name', 'birth_date', 'height', 'current_international',\n",
              "       'main_position', 'foot', 'current_club', 'goals_scored',\n",
              "       'goals_assisted', 'goals_conceded', 'clean_sheets', 'total_appearence',\n",
              "       'agent'],\n",
              "      dtype='object')"
            ]
          },
          "metadata": {},
          "execution_count": 204
        }
      ]
    },
    {
      "cell_type": "code",
      "execution_count": null,
      "metadata": {
        "id": "voHiZ5-aAOqF",
        "outputId": "e4843eb9-3e0a-4555-f0d6-ec7c2a7f0fae",
        "colab": {
          "base_uri": "https://localhost:8080/"
        }
      },
      "outputs": [
        {
          "output_type": "execute_result",
          "data": {
            "text/plain": [
              "(30, 14)"
            ]
          },
          "metadata": {},
          "execution_count": 205
        }
      ],
      "source": [
        "players.shape"
      ]
    },
    {
      "cell_type": "code",
      "execution_count": null,
      "metadata": {
        "id": "iwWGvhd5AOqG",
        "outputId": "628b672f-852f-44ec-fb7b-55f8243790f5",
        "colab": {
          "base_uri": "https://localhost:8080/"
        }
      },
      "outputs": [
        {
          "output_type": "stream",
          "name": "stderr",
          "text": [
            "<ipython-input-206-c83df1101d84>:1: FutureWarning: The default value of regex will change from True to False in a future version. In addition, single character regular expressions will *not* be treated as literal strings when regex=True.\n",
            "  players['birth_date']=players['birth_date'].str.replace('[','').str.replace(']','').str.replace(\"'\",\"\").str.replace(', Happy, Birthday','')\n"
          ]
        }
      ],
      "source": [
        "players['birth_date']=players['birth_date'].str.replace('[','').str.replace(']','').str.replace(\"'\",\"\").str.replace(', Happy, Birthday','')"
      ]
    },
    {
      "cell_type": "code",
      "execution_count": null,
      "metadata": {
        "id": "l9XB3dj8AOqG"
      },
      "outputs": [],
      "source": [
        "players['birth_date']=players['birth_date'].astype('datetime64[ns]') "
      ]
    },
    {
      "cell_type": "code",
      "execution_count": null,
      "metadata": {
        "id": "9QJ0NLOfAOqG",
        "outputId": "d8f7231e-2403-4c6f-eb5a-d5167c361cd8",
        "colab": {
          "base_uri": "https://localhost:8080/",
          "height": 357
        }
      },
      "outputs": [
        {
          "output_type": "execute_result",
          "data": {
            "text/plain": [
              "   player_id            name birth_date  height current_international  \\\n",
              "0     238223         Ederson 1993-08-17   188.0                Brazil   \n",
              "1     221624    Zack Steffen 1995-04-02   191.0         United States   \n",
              "2      14555    Scott Carson 1985-09-03   188.0               England   \n",
              "3     621997  Cieran Slicker 2002-09-15     NaN              Scotland   \n",
              "4     258004      Rúben Dias 1997-05-14   187.0              Portugal   \n",
              "\n",
              "          main_position   foot   current_club goals_scored goals_assisted  \\\n",
              "0            Goalkeeper   left       Man City            -              -   \n",
              "1            Goalkeeper  right  Middlesbrough            -              -   \n",
              "2            Goalkeeper  right       Man City            -              4   \n",
              "3            Goalkeeper    NaN   Man City U21            -              1   \n",
              "4  Defender Centre Back  right       Man City           16             13   \n",
              "\n",
              "   goals_conceded  clean_sheets  total_appearence                agent  \n",
              "0           341.0         192.0               413            Gestifute  \n",
              "1           254.0          51.0               191            Wasserman  \n",
              "2           661.0         153.0               522            Wasserman  \n",
              "3            83.0          18.0                59  Unique Sports Group  \n",
              "4             NaN           NaN               337            Gestifute  "
            ],
            "text/html": [
              "\n",
              "  <div id=\"df-a8362148-7a55-4ad9-a779-4f0cb81f9159\">\n",
              "    <div class=\"colab-df-container\">\n",
              "      <div>\n",
              "<style scoped>\n",
              "    .dataframe tbody tr th:only-of-type {\n",
              "        vertical-align: middle;\n",
              "    }\n",
              "\n",
              "    .dataframe tbody tr th {\n",
              "        vertical-align: top;\n",
              "    }\n",
              "\n",
              "    .dataframe thead th {\n",
              "        text-align: right;\n",
              "    }\n",
              "</style>\n",
              "<table border=\"1\" class=\"dataframe\">\n",
              "  <thead>\n",
              "    <tr style=\"text-align: right;\">\n",
              "      <th></th>\n",
              "      <th>player_id</th>\n",
              "      <th>name</th>\n",
              "      <th>birth_date</th>\n",
              "      <th>height</th>\n",
              "      <th>current_international</th>\n",
              "      <th>main_position</th>\n",
              "      <th>foot</th>\n",
              "      <th>current_club</th>\n",
              "      <th>goals_scored</th>\n",
              "      <th>goals_assisted</th>\n",
              "      <th>goals_conceded</th>\n",
              "      <th>clean_sheets</th>\n",
              "      <th>total_appearence</th>\n",
              "      <th>agent</th>\n",
              "    </tr>\n",
              "  </thead>\n",
              "  <tbody>\n",
              "    <tr>\n",
              "      <th>0</th>\n",
              "      <td>238223</td>\n",
              "      <td>Ederson</td>\n",
              "      <td>1993-08-17</td>\n",
              "      <td>188.0</td>\n",
              "      <td>Brazil</td>\n",
              "      <td>Goalkeeper</td>\n",
              "      <td>left</td>\n",
              "      <td>Man City</td>\n",
              "      <td>-</td>\n",
              "      <td>-</td>\n",
              "      <td>341.0</td>\n",
              "      <td>192.0</td>\n",
              "      <td>413</td>\n",
              "      <td>Gestifute</td>\n",
              "    </tr>\n",
              "    <tr>\n",
              "      <th>1</th>\n",
              "      <td>221624</td>\n",
              "      <td>Zack Steffen</td>\n",
              "      <td>1995-04-02</td>\n",
              "      <td>191.0</td>\n",
              "      <td>United States</td>\n",
              "      <td>Goalkeeper</td>\n",
              "      <td>right</td>\n",
              "      <td>Middlesbrough</td>\n",
              "      <td>-</td>\n",
              "      <td>-</td>\n",
              "      <td>254.0</td>\n",
              "      <td>51.0</td>\n",
              "      <td>191</td>\n",
              "      <td>Wasserman</td>\n",
              "    </tr>\n",
              "    <tr>\n",
              "      <th>2</th>\n",
              "      <td>14555</td>\n",
              "      <td>Scott Carson</td>\n",
              "      <td>1985-09-03</td>\n",
              "      <td>188.0</td>\n",
              "      <td>England</td>\n",
              "      <td>Goalkeeper</td>\n",
              "      <td>right</td>\n",
              "      <td>Man City</td>\n",
              "      <td>-</td>\n",
              "      <td>4</td>\n",
              "      <td>661.0</td>\n",
              "      <td>153.0</td>\n",
              "      <td>522</td>\n",
              "      <td>Wasserman</td>\n",
              "    </tr>\n",
              "    <tr>\n",
              "      <th>3</th>\n",
              "      <td>621997</td>\n",
              "      <td>Cieran Slicker</td>\n",
              "      <td>2002-09-15</td>\n",
              "      <td>NaN</td>\n",
              "      <td>Scotland</td>\n",
              "      <td>Goalkeeper</td>\n",
              "      <td>NaN</td>\n",
              "      <td>Man City U21</td>\n",
              "      <td>-</td>\n",
              "      <td>1</td>\n",
              "      <td>83.0</td>\n",
              "      <td>18.0</td>\n",
              "      <td>59</td>\n",
              "      <td>Unique Sports Group</td>\n",
              "    </tr>\n",
              "    <tr>\n",
              "      <th>4</th>\n",
              "      <td>258004</td>\n",
              "      <td>Rúben Dias</td>\n",
              "      <td>1997-05-14</td>\n",
              "      <td>187.0</td>\n",
              "      <td>Portugal</td>\n",
              "      <td>Defender Centre Back</td>\n",
              "      <td>right</td>\n",
              "      <td>Man City</td>\n",
              "      <td>16</td>\n",
              "      <td>13</td>\n",
              "      <td>NaN</td>\n",
              "      <td>NaN</td>\n",
              "      <td>337</td>\n",
              "      <td>Gestifute</td>\n",
              "    </tr>\n",
              "  </tbody>\n",
              "</table>\n",
              "</div>\n",
              "      <button class=\"colab-df-convert\" onclick=\"convertToInteractive('df-a8362148-7a55-4ad9-a779-4f0cb81f9159')\"\n",
              "              title=\"Convert this dataframe to an interactive table.\"\n",
              "              style=\"display:none;\">\n",
              "        \n",
              "  <svg xmlns=\"http://www.w3.org/2000/svg\" height=\"24px\"viewBox=\"0 0 24 24\"\n",
              "       width=\"24px\">\n",
              "    <path d=\"M0 0h24v24H0V0z\" fill=\"none\"/>\n",
              "    <path d=\"M18.56 5.44l.94 2.06.94-2.06 2.06-.94-2.06-.94-.94-2.06-.94 2.06-2.06.94zm-11 1L8.5 8.5l.94-2.06 2.06-.94-2.06-.94L8.5 2.5l-.94 2.06-2.06.94zm10 10l.94 2.06.94-2.06 2.06-.94-2.06-.94-.94-2.06-.94 2.06-2.06.94z\"/><path d=\"M17.41 7.96l-1.37-1.37c-.4-.4-.92-.59-1.43-.59-.52 0-1.04.2-1.43.59L10.3 9.45l-7.72 7.72c-.78.78-.78 2.05 0 2.83L4 21.41c.39.39.9.59 1.41.59.51 0 1.02-.2 1.41-.59l7.78-7.78 2.81-2.81c.8-.78.8-2.07 0-2.86zM5.41 20L4 18.59l7.72-7.72 1.47 1.35L5.41 20z\"/>\n",
              "  </svg>\n",
              "      </button>\n",
              "      \n",
              "  <style>\n",
              "    .colab-df-container {\n",
              "      display:flex;\n",
              "      flex-wrap:wrap;\n",
              "      gap: 12px;\n",
              "    }\n",
              "\n",
              "    .colab-df-convert {\n",
              "      background-color: #E8F0FE;\n",
              "      border: none;\n",
              "      border-radius: 50%;\n",
              "      cursor: pointer;\n",
              "      display: none;\n",
              "      fill: #1967D2;\n",
              "      height: 32px;\n",
              "      padding: 0 0 0 0;\n",
              "      width: 32px;\n",
              "    }\n",
              "\n",
              "    .colab-df-convert:hover {\n",
              "      background-color: #E2EBFA;\n",
              "      box-shadow: 0px 1px 2px rgba(60, 64, 67, 0.3), 0px 1px 3px 1px rgba(60, 64, 67, 0.15);\n",
              "      fill: #174EA6;\n",
              "    }\n",
              "\n",
              "    [theme=dark] .colab-df-convert {\n",
              "      background-color: #3B4455;\n",
              "      fill: #D2E3FC;\n",
              "    }\n",
              "\n",
              "    [theme=dark] .colab-df-convert:hover {\n",
              "      background-color: #434B5C;\n",
              "      box-shadow: 0px 1px 3px 1px rgba(0, 0, 0, 0.15);\n",
              "      filter: drop-shadow(0px 1px 2px rgba(0, 0, 0, 0.3));\n",
              "      fill: #FFFFFF;\n",
              "    }\n",
              "  </style>\n",
              "\n",
              "      <script>\n",
              "        const buttonEl =\n",
              "          document.querySelector('#df-a8362148-7a55-4ad9-a779-4f0cb81f9159 button.colab-df-convert');\n",
              "        buttonEl.style.display =\n",
              "          google.colab.kernel.accessAllowed ? 'block' : 'none';\n",
              "\n",
              "        async function convertToInteractive(key) {\n",
              "          const element = document.querySelector('#df-a8362148-7a55-4ad9-a779-4f0cb81f9159');\n",
              "          const dataTable =\n",
              "            await google.colab.kernel.invokeFunction('convertToInteractive',\n",
              "                                                     [key], {});\n",
              "          if (!dataTable) return;\n",
              "\n",
              "          const docLinkHtml = 'Like what you see? Visit the ' +\n",
              "            '<a target=\"_blank\" href=https://colab.research.google.com/notebooks/data_table.ipynb>data table notebook</a>'\n",
              "            + ' to learn more about interactive tables.';\n",
              "          element.innerHTML = '';\n",
              "          dataTable['output_type'] = 'display_data';\n",
              "          await google.colab.output.renderOutput(dataTable, element);\n",
              "          const docLink = document.createElement('div');\n",
              "          docLink.innerHTML = docLinkHtml;\n",
              "          element.appendChild(docLink);\n",
              "        }\n",
              "      </script>\n",
              "    </div>\n",
              "  </div>\n",
              "  "
            ]
          },
          "metadata": {},
          "execution_count": 208
        }
      ],
      "source": [
        "players.head()"
      ]
    },
    {
      "cell_type": "code",
      "execution_count": null,
      "metadata": {
        "id": "b47Z40llAOqG",
        "outputId": "1257a703-5d92-48da-f836-69ca2643da8f",
        "colab": {
          "base_uri": "https://localhost:8080/"
        }
      },
      "outputs": [
        {
          "output_type": "stream",
          "name": "stderr",
          "text": [
            "<ipython-input-209-9f983482473b>:2: SettingWithCopyWarning: \n",
            "A value is trying to be set on a copy of a slice from a DataFrame\n",
            "\n",
            "See the caveats in the documentation: https://pandas.pydata.org/pandas-docs/stable/user_guide/indexing.html#returning-a-view-versus-a-copy\n",
            "  players['goals_conceded'].loc[index]=players['goals_conceded'].loc[index].replace(np.nan,'-')\n"
          ]
        }
      ],
      "source": [
        "index=players[players['main_position']!='Goalkeeper']['goals_conceded'].index\n",
        "players['goals_conceded'].loc[index]=players['goals_conceded'].loc[index].replace(np.nan,'-')"
      ]
    },
    {
      "cell_type": "code",
      "execution_count": null,
      "metadata": {
        "id": "f_LH5vFiAOqG",
        "outputId": "1fbd45be-74bc-4167-f6a6-033f848c146b",
        "colab": {
          "base_uri": "https://localhost:8080/"
        }
      },
      "outputs": [
        {
          "output_type": "stream",
          "name": "stderr",
          "text": [
            "<ipython-input-210-41555362beed>:1: SettingWithCopyWarning: \n",
            "A value is trying to be set on a copy of a slice from a DataFrame\n",
            "\n",
            "See the caveats in the documentation: https://pandas.pydata.org/pandas-docs/stable/user_guide/indexing.html#returning-a-view-versus-a-copy\n",
            "  players['clean_sheets'].loc[index]=players['clean_sheets'].loc[index].replace(np.nan,'-')\n"
          ]
        }
      ],
      "source": [
        "players['clean_sheets'].loc[index]=players['clean_sheets'].loc[index].replace(np.nan,'-')"
      ]
    },
    {
      "cell_type": "code",
      "execution_count": null,
      "metadata": {
        "id": "DPE4-c2iAOqG",
        "outputId": "ede6b7ce-80a4-4e27-9ba3-701db0f6784b",
        "colab": {
          "base_uri": "https://localhost:8080/",
          "height": 357
        }
      },
      "outputs": [
        {
          "output_type": "execute_result",
          "data": {
            "text/plain": [
              "   player_id            name birth_date  height current_international  \\\n",
              "0     238223         Ederson 1993-08-17   188.0                Brazil   \n",
              "1     221624    Zack Steffen 1995-04-02   191.0         United States   \n",
              "2      14555    Scott Carson 1985-09-03   188.0               England   \n",
              "3     621997  Cieran Slicker 2002-09-15     NaN              Scotland   \n",
              "4     258004      Rúben Dias 1997-05-14   187.0              Portugal   \n",
              "\n",
              "          main_position   foot   current_club goals_scored goals_assisted  \\\n",
              "0            Goalkeeper   left       Man City            -              -   \n",
              "1            Goalkeeper  right  Middlesbrough            -              -   \n",
              "2            Goalkeeper  right       Man City            -              4   \n",
              "3            Goalkeeper    NaN   Man City U21            -              1   \n",
              "4  Defender Centre Back  right       Man City           16             13   \n",
              "\n",
              "  goals_conceded clean_sheets  total_appearence                agent  \n",
              "0          341.0        192.0               413            Gestifute  \n",
              "1          254.0         51.0               191            Wasserman  \n",
              "2          661.0        153.0               522            Wasserman  \n",
              "3           83.0         18.0                59  Unique Sports Group  \n",
              "4              -            -               337            Gestifute  "
            ],
            "text/html": [
              "\n",
              "  <div id=\"df-4f9e5257-53c1-42c5-a652-b974e1f1d78e\">\n",
              "    <div class=\"colab-df-container\">\n",
              "      <div>\n",
              "<style scoped>\n",
              "    .dataframe tbody tr th:only-of-type {\n",
              "        vertical-align: middle;\n",
              "    }\n",
              "\n",
              "    .dataframe tbody tr th {\n",
              "        vertical-align: top;\n",
              "    }\n",
              "\n",
              "    .dataframe thead th {\n",
              "        text-align: right;\n",
              "    }\n",
              "</style>\n",
              "<table border=\"1\" class=\"dataframe\">\n",
              "  <thead>\n",
              "    <tr style=\"text-align: right;\">\n",
              "      <th></th>\n",
              "      <th>player_id</th>\n",
              "      <th>name</th>\n",
              "      <th>birth_date</th>\n",
              "      <th>height</th>\n",
              "      <th>current_international</th>\n",
              "      <th>main_position</th>\n",
              "      <th>foot</th>\n",
              "      <th>current_club</th>\n",
              "      <th>goals_scored</th>\n",
              "      <th>goals_assisted</th>\n",
              "      <th>goals_conceded</th>\n",
              "      <th>clean_sheets</th>\n",
              "      <th>total_appearence</th>\n",
              "      <th>agent</th>\n",
              "    </tr>\n",
              "  </thead>\n",
              "  <tbody>\n",
              "    <tr>\n",
              "      <th>0</th>\n",
              "      <td>238223</td>\n",
              "      <td>Ederson</td>\n",
              "      <td>1993-08-17</td>\n",
              "      <td>188.0</td>\n",
              "      <td>Brazil</td>\n",
              "      <td>Goalkeeper</td>\n",
              "      <td>left</td>\n",
              "      <td>Man City</td>\n",
              "      <td>-</td>\n",
              "      <td>-</td>\n",
              "      <td>341.0</td>\n",
              "      <td>192.0</td>\n",
              "      <td>413</td>\n",
              "      <td>Gestifute</td>\n",
              "    </tr>\n",
              "    <tr>\n",
              "      <th>1</th>\n",
              "      <td>221624</td>\n",
              "      <td>Zack Steffen</td>\n",
              "      <td>1995-04-02</td>\n",
              "      <td>191.0</td>\n",
              "      <td>United States</td>\n",
              "      <td>Goalkeeper</td>\n",
              "      <td>right</td>\n",
              "      <td>Middlesbrough</td>\n",
              "      <td>-</td>\n",
              "      <td>-</td>\n",
              "      <td>254.0</td>\n",
              "      <td>51.0</td>\n",
              "      <td>191</td>\n",
              "      <td>Wasserman</td>\n",
              "    </tr>\n",
              "    <tr>\n",
              "      <th>2</th>\n",
              "      <td>14555</td>\n",
              "      <td>Scott Carson</td>\n",
              "      <td>1985-09-03</td>\n",
              "      <td>188.0</td>\n",
              "      <td>England</td>\n",
              "      <td>Goalkeeper</td>\n",
              "      <td>right</td>\n",
              "      <td>Man City</td>\n",
              "      <td>-</td>\n",
              "      <td>4</td>\n",
              "      <td>661.0</td>\n",
              "      <td>153.0</td>\n",
              "      <td>522</td>\n",
              "      <td>Wasserman</td>\n",
              "    </tr>\n",
              "    <tr>\n",
              "      <th>3</th>\n",
              "      <td>621997</td>\n",
              "      <td>Cieran Slicker</td>\n",
              "      <td>2002-09-15</td>\n",
              "      <td>NaN</td>\n",
              "      <td>Scotland</td>\n",
              "      <td>Goalkeeper</td>\n",
              "      <td>NaN</td>\n",
              "      <td>Man City U21</td>\n",
              "      <td>-</td>\n",
              "      <td>1</td>\n",
              "      <td>83.0</td>\n",
              "      <td>18.0</td>\n",
              "      <td>59</td>\n",
              "      <td>Unique Sports Group</td>\n",
              "    </tr>\n",
              "    <tr>\n",
              "      <th>4</th>\n",
              "      <td>258004</td>\n",
              "      <td>Rúben Dias</td>\n",
              "      <td>1997-05-14</td>\n",
              "      <td>187.0</td>\n",
              "      <td>Portugal</td>\n",
              "      <td>Defender Centre Back</td>\n",
              "      <td>right</td>\n",
              "      <td>Man City</td>\n",
              "      <td>16</td>\n",
              "      <td>13</td>\n",
              "      <td>-</td>\n",
              "      <td>-</td>\n",
              "      <td>337</td>\n",
              "      <td>Gestifute</td>\n",
              "    </tr>\n",
              "  </tbody>\n",
              "</table>\n",
              "</div>\n",
              "      <button class=\"colab-df-convert\" onclick=\"convertToInteractive('df-4f9e5257-53c1-42c5-a652-b974e1f1d78e')\"\n",
              "              title=\"Convert this dataframe to an interactive table.\"\n",
              "              style=\"display:none;\">\n",
              "        \n",
              "  <svg xmlns=\"http://www.w3.org/2000/svg\" height=\"24px\"viewBox=\"0 0 24 24\"\n",
              "       width=\"24px\">\n",
              "    <path d=\"M0 0h24v24H0V0z\" fill=\"none\"/>\n",
              "    <path d=\"M18.56 5.44l.94 2.06.94-2.06 2.06-.94-2.06-.94-.94-2.06-.94 2.06-2.06.94zm-11 1L8.5 8.5l.94-2.06 2.06-.94-2.06-.94L8.5 2.5l-.94 2.06-2.06.94zm10 10l.94 2.06.94-2.06 2.06-.94-2.06-.94-.94-2.06-.94 2.06-2.06.94z\"/><path d=\"M17.41 7.96l-1.37-1.37c-.4-.4-.92-.59-1.43-.59-.52 0-1.04.2-1.43.59L10.3 9.45l-7.72 7.72c-.78.78-.78 2.05 0 2.83L4 21.41c.39.39.9.59 1.41.59.51 0 1.02-.2 1.41-.59l7.78-7.78 2.81-2.81c.8-.78.8-2.07 0-2.86zM5.41 20L4 18.59l7.72-7.72 1.47 1.35L5.41 20z\"/>\n",
              "  </svg>\n",
              "      </button>\n",
              "      \n",
              "  <style>\n",
              "    .colab-df-container {\n",
              "      display:flex;\n",
              "      flex-wrap:wrap;\n",
              "      gap: 12px;\n",
              "    }\n",
              "\n",
              "    .colab-df-convert {\n",
              "      background-color: #E8F0FE;\n",
              "      border: none;\n",
              "      border-radius: 50%;\n",
              "      cursor: pointer;\n",
              "      display: none;\n",
              "      fill: #1967D2;\n",
              "      height: 32px;\n",
              "      padding: 0 0 0 0;\n",
              "      width: 32px;\n",
              "    }\n",
              "\n",
              "    .colab-df-convert:hover {\n",
              "      background-color: #E2EBFA;\n",
              "      box-shadow: 0px 1px 2px rgba(60, 64, 67, 0.3), 0px 1px 3px 1px rgba(60, 64, 67, 0.15);\n",
              "      fill: #174EA6;\n",
              "    }\n",
              "\n",
              "    [theme=dark] .colab-df-convert {\n",
              "      background-color: #3B4455;\n",
              "      fill: #D2E3FC;\n",
              "    }\n",
              "\n",
              "    [theme=dark] .colab-df-convert:hover {\n",
              "      background-color: #434B5C;\n",
              "      box-shadow: 0px 1px 3px 1px rgba(0, 0, 0, 0.15);\n",
              "      filter: drop-shadow(0px 1px 2px rgba(0, 0, 0, 0.3));\n",
              "      fill: #FFFFFF;\n",
              "    }\n",
              "  </style>\n",
              "\n",
              "      <script>\n",
              "        const buttonEl =\n",
              "          document.querySelector('#df-4f9e5257-53c1-42c5-a652-b974e1f1d78e button.colab-df-convert');\n",
              "        buttonEl.style.display =\n",
              "          google.colab.kernel.accessAllowed ? 'block' : 'none';\n",
              "\n",
              "        async function convertToInteractive(key) {\n",
              "          const element = document.querySelector('#df-4f9e5257-53c1-42c5-a652-b974e1f1d78e');\n",
              "          const dataTable =\n",
              "            await google.colab.kernel.invokeFunction('convertToInteractive',\n",
              "                                                     [key], {});\n",
              "          if (!dataTable) return;\n",
              "\n",
              "          const docLinkHtml = 'Like what you see? Visit the ' +\n",
              "            '<a target=\"_blank\" href=https://colab.research.google.com/notebooks/data_table.ipynb>data table notebook</a>'\n",
              "            + ' to learn more about interactive tables.';\n",
              "          element.innerHTML = '';\n",
              "          dataTable['output_type'] = 'display_data';\n",
              "          await google.colab.output.renderOutput(dataTable, element);\n",
              "          const docLink = document.createElement('div');\n",
              "          docLink.innerHTML = docLinkHtml;\n",
              "          element.appendChild(docLink);\n",
              "        }\n",
              "      </script>\n",
              "    </div>\n",
              "  </div>\n",
              "  "
            ]
          },
          "metadata": {},
          "execution_count": 211
        }
      ],
      "source": [
        "players.head()"
      ]
    },
    {
      "cell_type": "code",
      "source": [
        "len(players['player_id'].unique())"
      ],
      "metadata": {
        "colab": {
          "base_uri": "https://localhost:8080/"
        },
        "id": "OQCdvO8pYcJS",
        "outputId": "c7ed1173-af12-43ef-d28d-aa847afdfd40"
      },
      "execution_count": null,
      "outputs": [
        {
          "output_type": "execute_result",
          "data": {
            "text/plain": [
              "30"
            ]
          },
          "metadata": {},
          "execution_count": 212
        }
      ]
    },
    {
      "cell_type": "code",
      "source": [
        "players.columns"
      ],
      "metadata": {
        "colab": {
          "base_uri": "https://localhost:8080/"
        },
        "id": "hxsXhV4kbEhG",
        "outputId": "be0e2f04-4cfd-4828-be52-f42bf7d6bc83"
      },
      "execution_count": null,
      "outputs": [
        {
          "output_type": "execute_result",
          "data": {
            "text/plain": [
              "Index(['player_id', 'name', 'birth_date', 'height', 'current_international',\n",
              "       'main_position', 'foot', 'current_club', 'goals_scored',\n",
              "       'goals_assisted', 'goals_conceded', 'clean_sheets', 'total_appearence',\n",
              "       'agent'],\n",
              "      dtype='object')"
            ]
          },
          "metadata": {},
          "execution_count": 213
        }
      ]
    },
    {
      "cell_type": "code",
      "execution_count": null,
      "metadata": {
        "id": "m_3Ez7M8AOqH",
        "outputId": "880028df-c8b7-46bb-f684-189f437cda27",
        "colab": {
          "base_uri": "https://localhost:8080/"
        }
      },
      "outputs": [
        {
          "output_type": "execute_result",
          "data": {
            "text/plain": [
              "player_id                0\n",
              "name                     0\n",
              "birth_date               0\n",
              "height                   1\n",
              "current_international    0\n",
              "main_position            0\n",
              "foot                     1\n",
              "current_club             0\n",
              "goals_scored             0\n",
              "goals_assisted           0\n",
              "goals_conceded           0\n",
              "clean_sheets             0\n",
              "total_appearence         0\n",
              "agent                    4\n",
              "dtype: int64"
            ]
          },
          "metadata": {},
          "execution_count": 214
        }
      ],
      "source": [
        "players.isnull().sum()"
      ]
    },
    {
      "cell_type": "code",
      "source": [
        "players.to_csv('players.csv',index=False)"
      ],
      "metadata": {
        "id": "anlt6xEDYrO2"
      },
      "execution_count": null,
      "outputs": []
    },
    {
      "cell_type": "markdown",
      "metadata": {
        "id": "z4BlFFSTAOqH"
      },
      "source": [
        "# player_statistics table"
      ]
    },
    {
      "cell_type": "code",
      "execution_count": null,
      "metadata": {
        "id": "DWa4Q7yWAOqH"
      },
      "outputs": [],
      "source": [
        "palyers_statistic=pd.read_csv('test_statistics_table.csv')"
      ]
    },
    {
      "cell_type": "code",
      "execution_count": null,
      "metadata": {
        "id": "kJAFcmWsAOqH",
        "outputId": "bd901029-dbeb-4ff6-8234-a5f3f21d9919",
        "colab": {
          "base_uri": "https://localhost:8080/"
        }
      },
      "outputs": [
        {
          "output_type": "execute_result",
          "data": {
            "text/plain": [
              "(4209, 21)"
            ]
          },
          "metadata": {},
          "execution_count": 216
        }
      ],
      "source": [
        "palyers_statistic.shape"
      ]
    },
    {
      "cell_type": "code",
      "source": [
        "palyers_statistic.columns"
      ],
      "metadata": {
        "colab": {
          "base_uri": "https://localhost:8080/"
        },
        "id": "VHlCiqPkjv7R",
        "outputId": "64e64892-d37f-47a4-c1b7-82114951424c"
      },
      "execution_count": null,
      "outputs": [
        {
          "output_type": "execute_result",
          "data": {
            "text/plain": [
              "Index(['Unnamed: 0', 'player_id', 'Season', 'Competition', 'Club', 'Squad',\n",
              "       'Appearances', 'PPG', 'Goals', 'Own goals', 'Substitutions on',\n",
              "       'Substitutions off', 'Yellow cards', 'Second yellow cards', 'Red cards',\n",
              "       'Goals conceded', 'Clean sheets', 'Minutes played', 'Assists',\n",
              "       'Penalty goals', 'Minutes per goal'],\n",
              "      dtype='object')"
            ]
          },
          "metadata": {},
          "execution_count": 217
        }
      ]
    },
    {
      "cell_type": "code",
      "execution_count": null,
      "metadata": {
        "id": "cXMmvYmxAOqH"
      },
      "outputs": [],
      "source": [
        "palyers_statistic.drop(['Unnamed: 0'],axis=1,inplace=True)"
      ]
    },
    {
      "cell_type": "code",
      "source": [
        "# transforming '16/17' to '2016'\n",
        "def year_transformer(raw_year):\n",
        "    year = raw_year.split('/')[0]\n",
        "    if len(year) == 2:\n",
        "        if int(year) <=22:\n",
        "            return '20' + year\n",
        "        else:\n",
        "            return '19' + year\n",
        "    elif len(year) == 4:\n",
        "        return year"
      ],
      "metadata": {
        "id": "hjDyiVvSaMWx"
      },
      "execution_count": 7,
      "outputs": []
    },
    {
      "cell_type": "code",
      "source": [
        "palyers_statistic['Season']=palyers_statistic['Season'].apply(lambda x:year_transformer(x) )"
      ],
      "metadata": {
        "id": "uwUi0jJ-aTmS"
      },
      "execution_count": null,
      "outputs": []
    },
    {
      "cell_type": "code",
      "execution_count": null,
      "metadata": {
        "id": "rzrrygtXAOqH",
        "outputId": "3632d297-5087-4196-9308-76a7b7712c43",
        "colab": {
          "base_uri": "https://localhost:8080/",
          "height": 426
        }
      },
      "outputs": [
        {
          "output_type": "execute_result",
          "data": {
            "text/plain": [
              "      player_id Season            Competition                     Club  Squad  \\\n",
              "4204     138787   2018     NL South Play-offs                Woking FC      2   \n",
              "4205     138787   2018  National League South                Woking FC      1   \n",
              "4206     138787   2018                 FA Cup                Woking FC      3   \n",
              "4207     138787   2011                 FA Cup  Salisbury City (- 2014)      4   \n",
              "4208     138787   2009             League Two           Aldershot Town      1   \n",
              "\n",
              "     Appearances   PPG Goals Own goals Substitutions on Substitutions off  \\\n",
              "4204           2  3.00     -         -                -                 -   \n",
              "4205           1  1.00     1         -                -                 -   \n",
              "4206           3  2.00     -         -                -                 -   \n",
              "4207           1  3.00     -         -                1                 -   \n",
              "4208           -     -     -         -                -                 -   \n",
              "\n",
              "     Yellow cards Second yellow cards Red cards Goals conceded Clean sheets  \\\n",
              "4204            1                   -         -            NaN          NaN   \n",
              "4205            -                   -         -            NaN          NaN   \n",
              "4206            -                   -         -            NaN          NaN   \n",
              "4207            -                   -         -            NaN          NaN   \n",
              "4208            -                   -         -            NaN          NaN   \n",
              "\n",
              "     Minutes played Assists Penalty goals Minutes per goal  \n",
              "4204           180'       -             -                -  \n",
              "4205            90'       -             -              90'  \n",
              "4206           270'       1             -                -  \n",
              "4207            34'       -             -                -  \n",
              "4208              -       -             -                -  "
            ],
            "text/html": [
              "\n",
              "  <div id=\"df-da4cda1f-eb1b-45cf-876f-6e631dc2e660\">\n",
              "    <div class=\"colab-df-container\">\n",
              "      <div>\n",
              "<style scoped>\n",
              "    .dataframe tbody tr th:only-of-type {\n",
              "        vertical-align: middle;\n",
              "    }\n",
              "\n",
              "    .dataframe tbody tr th {\n",
              "        vertical-align: top;\n",
              "    }\n",
              "\n",
              "    .dataframe thead th {\n",
              "        text-align: right;\n",
              "    }\n",
              "</style>\n",
              "<table border=\"1\" class=\"dataframe\">\n",
              "  <thead>\n",
              "    <tr style=\"text-align: right;\">\n",
              "      <th></th>\n",
              "      <th>player_id</th>\n",
              "      <th>Season</th>\n",
              "      <th>Competition</th>\n",
              "      <th>Club</th>\n",
              "      <th>Squad</th>\n",
              "      <th>Appearances</th>\n",
              "      <th>PPG</th>\n",
              "      <th>Goals</th>\n",
              "      <th>Own goals</th>\n",
              "      <th>Substitutions on</th>\n",
              "      <th>Substitutions off</th>\n",
              "      <th>Yellow cards</th>\n",
              "      <th>Second yellow cards</th>\n",
              "      <th>Red cards</th>\n",
              "      <th>Goals conceded</th>\n",
              "      <th>Clean sheets</th>\n",
              "      <th>Minutes played</th>\n",
              "      <th>Assists</th>\n",
              "      <th>Penalty goals</th>\n",
              "      <th>Minutes per goal</th>\n",
              "    </tr>\n",
              "  </thead>\n",
              "  <tbody>\n",
              "    <tr>\n",
              "      <th>4204</th>\n",
              "      <td>138787</td>\n",
              "      <td>2018</td>\n",
              "      <td>NL South Play-offs</td>\n",
              "      <td>Woking FC</td>\n",
              "      <td>2</td>\n",
              "      <td>2</td>\n",
              "      <td>3.00</td>\n",
              "      <td>-</td>\n",
              "      <td>-</td>\n",
              "      <td>-</td>\n",
              "      <td>-</td>\n",
              "      <td>1</td>\n",
              "      <td>-</td>\n",
              "      <td>-</td>\n",
              "      <td>NaN</td>\n",
              "      <td>NaN</td>\n",
              "      <td>180'</td>\n",
              "      <td>-</td>\n",
              "      <td>-</td>\n",
              "      <td>-</td>\n",
              "    </tr>\n",
              "    <tr>\n",
              "      <th>4205</th>\n",
              "      <td>138787</td>\n",
              "      <td>2018</td>\n",
              "      <td>National League South</td>\n",
              "      <td>Woking FC</td>\n",
              "      <td>1</td>\n",
              "      <td>1</td>\n",
              "      <td>1.00</td>\n",
              "      <td>1</td>\n",
              "      <td>-</td>\n",
              "      <td>-</td>\n",
              "      <td>-</td>\n",
              "      <td>-</td>\n",
              "      <td>-</td>\n",
              "      <td>-</td>\n",
              "      <td>NaN</td>\n",
              "      <td>NaN</td>\n",
              "      <td>90'</td>\n",
              "      <td>-</td>\n",
              "      <td>-</td>\n",
              "      <td>90'</td>\n",
              "    </tr>\n",
              "    <tr>\n",
              "      <th>4206</th>\n",
              "      <td>138787</td>\n",
              "      <td>2018</td>\n",
              "      <td>FA Cup</td>\n",
              "      <td>Woking FC</td>\n",
              "      <td>3</td>\n",
              "      <td>3</td>\n",
              "      <td>2.00</td>\n",
              "      <td>-</td>\n",
              "      <td>-</td>\n",
              "      <td>-</td>\n",
              "      <td>-</td>\n",
              "      <td>-</td>\n",
              "      <td>-</td>\n",
              "      <td>-</td>\n",
              "      <td>NaN</td>\n",
              "      <td>NaN</td>\n",
              "      <td>270'</td>\n",
              "      <td>1</td>\n",
              "      <td>-</td>\n",
              "      <td>-</td>\n",
              "    </tr>\n",
              "    <tr>\n",
              "      <th>4207</th>\n",
              "      <td>138787</td>\n",
              "      <td>2011</td>\n",
              "      <td>FA Cup</td>\n",
              "      <td>Salisbury City (- 2014)</td>\n",
              "      <td>4</td>\n",
              "      <td>1</td>\n",
              "      <td>3.00</td>\n",
              "      <td>-</td>\n",
              "      <td>-</td>\n",
              "      <td>1</td>\n",
              "      <td>-</td>\n",
              "      <td>-</td>\n",
              "      <td>-</td>\n",
              "      <td>-</td>\n",
              "      <td>NaN</td>\n",
              "      <td>NaN</td>\n",
              "      <td>34'</td>\n",
              "      <td>-</td>\n",
              "      <td>-</td>\n",
              "      <td>-</td>\n",
              "    </tr>\n",
              "    <tr>\n",
              "      <th>4208</th>\n",
              "      <td>138787</td>\n",
              "      <td>2009</td>\n",
              "      <td>League Two</td>\n",
              "      <td>Aldershot Town</td>\n",
              "      <td>1</td>\n",
              "      <td>-</td>\n",
              "      <td>-</td>\n",
              "      <td>-</td>\n",
              "      <td>-</td>\n",
              "      <td>-</td>\n",
              "      <td>-</td>\n",
              "      <td>-</td>\n",
              "      <td>-</td>\n",
              "      <td>-</td>\n",
              "      <td>NaN</td>\n",
              "      <td>NaN</td>\n",
              "      <td>-</td>\n",
              "      <td>-</td>\n",
              "      <td>-</td>\n",
              "      <td>-</td>\n",
              "    </tr>\n",
              "  </tbody>\n",
              "</table>\n",
              "</div>\n",
              "      <button class=\"colab-df-convert\" onclick=\"convertToInteractive('df-da4cda1f-eb1b-45cf-876f-6e631dc2e660')\"\n",
              "              title=\"Convert this dataframe to an interactive table.\"\n",
              "              style=\"display:none;\">\n",
              "        \n",
              "  <svg xmlns=\"http://www.w3.org/2000/svg\" height=\"24px\"viewBox=\"0 0 24 24\"\n",
              "       width=\"24px\">\n",
              "    <path d=\"M0 0h24v24H0V0z\" fill=\"none\"/>\n",
              "    <path d=\"M18.56 5.44l.94 2.06.94-2.06 2.06-.94-2.06-.94-.94-2.06-.94 2.06-2.06.94zm-11 1L8.5 8.5l.94-2.06 2.06-.94-2.06-.94L8.5 2.5l-.94 2.06-2.06.94zm10 10l.94 2.06.94-2.06 2.06-.94-2.06-.94-.94-2.06-.94 2.06-2.06.94z\"/><path d=\"M17.41 7.96l-1.37-1.37c-.4-.4-.92-.59-1.43-.59-.52 0-1.04.2-1.43.59L10.3 9.45l-7.72 7.72c-.78.78-.78 2.05 0 2.83L4 21.41c.39.39.9.59 1.41.59.51 0 1.02-.2 1.41-.59l7.78-7.78 2.81-2.81c.8-.78.8-2.07 0-2.86zM5.41 20L4 18.59l7.72-7.72 1.47 1.35L5.41 20z\"/>\n",
              "  </svg>\n",
              "      </button>\n",
              "      \n",
              "  <style>\n",
              "    .colab-df-container {\n",
              "      display:flex;\n",
              "      flex-wrap:wrap;\n",
              "      gap: 12px;\n",
              "    }\n",
              "\n",
              "    .colab-df-convert {\n",
              "      background-color: #E8F0FE;\n",
              "      border: none;\n",
              "      border-radius: 50%;\n",
              "      cursor: pointer;\n",
              "      display: none;\n",
              "      fill: #1967D2;\n",
              "      height: 32px;\n",
              "      padding: 0 0 0 0;\n",
              "      width: 32px;\n",
              "    }\n",
              "\n",
              "    .colab-df-convert:hover {\n",
              "      background-color: #E2EBFA;\n",
              "      box-shadow: 0px 1px 2px rgba(60, 64, 67, 0.3), 0px 1px 3px 1px rgba(60, 64, 67, 0.15);\n",
              "      fill: #174EA6;\n",
              "    }\n",
              "\n",
              "    [theme=dark] .colab-df-convert {\n",
              "      background-color: #3B4455;\n",
              "      fill: #D2E3FC;\n",
              "    }\n",
              "\n",
              "    [theme=dark] .colab-df-convert:hover {\n",
              "      background-color: #434B5C;\n",
              "      box-shadow: 0px 1px 3px 1px rgba(0, 0, 0, 0.15);\n",
              "      filter: drop-shadow(0px 1px 2px rgba(0, 0, 0, 0.3));\n",
              "      fill: #FFFFFF;\n",
              "    }\n",
              "  </style>\n",
              "\n",
              "      <script>\n",
              "        const buttonEl =\n",
              "          document.querySelector('#df-da4cda1f-eb1b-45cf-876f-6e631dc2e660 button.colab-df-convert');\n",
              "        buttonEl.style.display =\n",
              "          google.colab.kernel.accessAllowed ? 'block' : 'none';\n",
              "\n",
              "        async function convertToInteractive(key) {\n",
              "          const element = document.querySelector('#df-da4cda1f-eb1b-45cf-876f-6e631dc2e660');\n",
              "          const dataTable =\n",
              "            await google.colab.kernel.invokeFunction('convertToInteractive',\n",
              "                                                     [key], {});\n",
              "          if (!dataTable) return;\n",
              "\n",
              "          const docLinkHtml = 'Like what you see? Visit the ' +\n",
              "            '<a target=\"_blank\" href=https://colab.research.google.com/notebooks/data_table.ipynb>data table notebook</a>'\n",
              "            + ' to learn more about interactive tables.';\n",
              "          element.innerHTML = '';\n",
              "          dataTable['output_type'] = 'display_data';\n",
              "          await google.colab.output.renderOutput(dataTable, element);\n",
              "          const docLink = document.createElement('div');\n",
              "          docLink.innerHTML = docLinkHtml;\n",
              "          element.appendChild(docLink);\n",
              "        }\n",
              "      </script>\n",
              "    </div>\n",
              "  </div>\n",
              "  "
            ]
          },
          "metadata": {},
          "execution_count": 221
        }
      ],
      "source": [
        "palyers_statistic.tail()"
      ]
    },
    {
      "cell_type": "markdown",
      "metadata": {
        "id": "C0KTDrzmAOqI"
      },
      "source": [
        "# Transfer Table"
      ]
    },
    {
      "cell_type": "code",
      "source": [
        "import pandas as pd"
      ],
      "metadata": {
        "id": "3Jk-PypvkaTX"
      },
      "execution_count": 2,
      "outputs": []
    },
    {
      "cell_type": "code",
      "execution_count": 74,
      "metadata": {
        "id": "Rw-D2Z6_AOqI"
      },
      "outputs": [],
      "source": [
        "transfers=pd.read_csv('test_trasnfer_table V2.csv')"
      ]
    },
    {
      "cell_type": "code",
      "execution_count": 75,
      "metadata": {
        "id": "m7Wb3KdJAOqI",
        "outputId": "efda93e6-b277-44a6-bcf0-591d70360b59",
        "colab": {
          "base_uri": "https://localhost:8080/"
        }
      },
      "outputs": [
        {
          "output_type": "execute_result",
          "data": {
            "text/plain": [
              "(220, 8)"
            ]
          },
          "metadata": {},
          "execution_count": 75
        }
      ],
      "source": [
        "transfers.shape"
      ]
    },
    {
      "cell_type": "code",
      "source": [
        "transfers['Season']=transfers['Season'].apply(lambda x:year_transformer(x) )"
      ],
      "metadata": {
        "id": "4y3L6DhSdCVh"
      },
      "execution_count": 76,
      "outputs": []
    },
    {
      "cell_type": "code",
      "execution_count": 77,
      "metadata": {
        "id": "xIuFzS3fAOqI"
      },
      "outputs": [],
      "source": [
        "transfers.drop(['Unnamed: 0'],axis=1,inplace=True)"
      ]
    },
    {
      "cell_type": "code",
      "execution_count": 78,
      "metadata": {
        "id": "hmmICgh-AOqI"
      },
      "outputs": [],
      "source": [
        "transfers['Fee']=transfers['Fee'].replace('freetransfer','free transfer')"
      ]
    },
    {
      "cell_type": "code",
      "source": [
        "transfers['Fee']=transfers['Fee'].replace('Endofloan','End of loan')"
      ],
      "metadata": {
        "id": "aaBYEBI3Qqnj"
      },
      "execution_count": 79,
      "outputs": []
    },
    {
      "cell_type": "code",
      "source": [
        "transfers['Fee']=transfers['Fee'].replace('loantransfer','loan transfer')"
      ],
      "metadata": {
        "id": "vQwKld80Q2uL"
      },
      "execution_count": 80,
      "outputs": []
    },
    {
      "cell_type": "code",
      "source": [
        "transfers.isnull().sum()"
      ],
      "metadata": {
        "id": "3q_6r3BgUUUb",
        "outputId": "f81c3d50-67c9-459f-d7cc-badb66080fb1",
        "colab": {
          "base_uri": "https://localhost:8080/"
        }
      },
      "execution_count": 81,
      "outputs": [
        {
          "output_type": "execute_result",
          "data": {
            "text/plain": [
              "player_id    0\n",
              "Season       0\n",
              "Date         0\n",
              "Left         0\n",
              "Joined       0\n",
              "MV           0\n",
              "Fee          0\n",
              "dtype: int64"
            ]
          },
          "metadata": {},
          "execution_count": 81
        }
      ]
    },
    {
      "cell_type": "code",
      "source": [
        "def change_date(date):\n",
        "  date=date[:3]+','+date[3:]\n",
        "  return date"
      ],
      "metadata": {
        "id": "18JxHHDASAnd"
      },
      "execution_count": 82,
      "outputs": []
    },
    {
      "cell_type": "code",
      "source": [
        "transfers['MV']=transfers['MV'].str.replace('€','')"
      ],
      "metadata": {
        "id": "YvSo3xdxlv_b"
      },
      "execution_count": 83,
      "outputs": []
    },
    {
      "cell_type": "code",
      "source": [
        "transfers['MV']=transfers['MV'].apply(lambda x: float(x[:-1]) * 1000000 if 'm' in x else float(x[:-2]) * 1000000000 if 'bn' in x else float(x[:-1]) * 1000 if x.endswith('k') else x)"
      ],
      "metadata": {
        "id": "F3e9P_1dl5yh"
      },
      "execution_count": 84,
      "outputs": []
    },
    {
      "cell_type": "code",
      "source": [
        "transfers['Date']=transfers['Date'].apply(lambda x: change_date(x))"
      ],
      "metadata": {
        "id": "BpHgOUW-Rpqc"
      },
      "execution_count": 85,
      "outputs": []
    },
    {
      "cell_type": "code",
      "source": [
        "transfers.rename(columns={'Fee':'Transfer_Fee'},inplace=True)"
      ],
      "metadata": {
        "id": "dDH3mHTSmSvN"
      },
      "execution_count": 86,
      "outputs": []
    },
    {
      "cell_type": "code",
      "source": [
        "transfers['Transfer_Fee']=transfers['Transfer_Fee'].str.replace('€','')"
      ],
      "metadata": {
        "id": "vaAyRNG6muuH"
      },
      "execution_count": 87,
      "outputs": []
    },
    {
      "cell_type": "code",
      "source": [
        "transfers['Transfer_Fee']=transfers['Transfer_Fee'].str.replace('?','-')"
      ],
      "metadata": {
        "colab": {
          "base_uri": "https://localhost:8080/"
        },
        "id": "JkmiU9NKon7U",
        "outputId": "7025b7ed-8f0e-4021-9b02-cd816cafb25f"
      },
      "execution_count": 88,
      "outputs": [
        {
          "output_type": "stream",
          "name": "stderr",
          "text": [
            "<ipython-input-88-5abf76b62e34>:1: FutureWarning: The default value of regex will change from True to False in a future version. In addition, single character regular expressions will *not* be treated as literal strings when regex=True.\n",
            "  transfers['Transfer_Fee']=transfers['Transfer_Fee'].str.replace('?','-')\n"
          ]
        }
      ]
    },
    {
      "cell_type": "code",
      "source": [
        "index=transfers[transfers['Transfer_Fee'].str.contains('Loanfee')].index\n",
        "transfers['Loan_Fee']=transfers['Transfer_Fee'].apply(lambda x:x.split(':')[1] if 'Loanfee' in x else x if 'loan' in x else '-')"
      ],
      "metadata": {
        "id": "eZ9N4n8nm2gF"
      },
      "execution_count": 89,
      "outputs": []
    },
    {
      "cell_type": "code",
      "source": [
        "transfers['Transfer_Fee']=transfers['Transfer_Fee'].apply(lambda x: '-' if ('Loan' in x or 'loan' in x) else x )"
      ],
      "metadata": {
        "id": "6EExNECMpjXz"
      },
      "execution_count": 90,
      "outputs": []
    },
    {
      "cell_type": "code",
      "source": [
        "transfers['Transfer_Fee']=transfers['Transfer_Fee'].apply(lambda x: float(x[:-1]) * 1000000 if 'm' in x else float(x[:-2]) * 1000000000 if 'bn' in x else float(x[:-1]) * 1000 if x.endswith('k') else x)"
      ],
      "metadata": {
        "id": "jdoQqNNwmesQ"
      },
      "execution_count": 91,
      "outputs": []
    },
    {
      "cell_type": "code",
      "source": [
        "transfers['Loan_Fee']=transfers['Loan_Fee'].apply(lambda x: float(x[:-1]) * 1000000 if 'm' in x else float(x[:-2]) * 1000000000 if 'bn' in x else float(x[:-1]) * 1000 if x.endswith('k') else x)"
      ],
      "metadata": {
        "id": "OsVep65LqeZJ"
      },
      "execution_count": 93,
      "outputs": []
    },
    {
      "cell_type": "code",
      "source": [
        "transfers['Date']=pd.to_datetime(transfers['Date'], format='%b,%d,%Y')"
      ],
      "metadata": {
        "id": "OezaPCJ3rH6W"
      },
      "execution_count": 101,
      "outputs": []
    },
    {
      "cell_type": "code",
      "source": [
        "transfers.head()"
      ],
      "metadata": {
        "colab": {
          "base_uri": "https://localhost:8080/",
          "height": 206
        },
        "id": "YnSmROeJlrZe",
        "outputId": "8ecb8437-65f9-441a-ef03-222009553e51"
      },
      "execution_count": 102,
      "outputs": [
        {
          "output_type": "execute_result",
          "data": {
            "text/plain": [
              "   player_id Season       Date        Left      Joined          MV  \\\n",
              "0     238223   2017 2017-07-01     Benfica     ManCity  22000000.0   \n",
              "1     238223   2015 2015-07-01    RioAveFC     Benfica   1200000.0   \n",
              "2     238223   2012 2012-07-01  GDRibeirão    RioAveFC           -   \n",
              "3     238223   2011 2011-07-01  BenficaU19  GDRibeirão           -   \n",
              "4     238223   2010 2010-07-01  BenficaU17  BenficaU19           -   \n",
              "\n",
              "    Transfer_Fee Loan_Fee  \n",
              "0     40000000.0        -  \n",
              "1       500000.0        -  \n",
              "2  free transfer        -  \n",
              "3  free transfer        -  \n",
              "4              -        -  "
            ],
            "text/html": [
              "\n",
              "  <div id=\"df-d910393a-7347-4aef-aebd-4efef6ad7265\">\n",
              "    <div class=\"colab-df-container\">\n",
              "      <div>\n",
              "<style scoped>\n",
              "    .dataframe tbody tr th:only-of-type {\n",
              "        vertical-align: middle;\n",
              "    }\n",
              "\n",
              "    .dataframe tbody tr th {\n",
              "        vertical-align: top;\n",
              "    }\n",
              "\n",
              "    .dataframe thead th {\n",
              "        text-align: right;\n",
              "    }\n",
              "</style>\n",
              "<table border=\"1\" class=\"dataframe\">\n",
              "  <thead>\n",
              "    <tr style=\"text-align: right;\">\n",
              "      <th></th>\n",
              "      <th>player_id</th>\n",
              "      <th>Season</th>\n",
              "      <th>Date</th>\n",
              "      <th>Left</th>\n",
              "      <th>Joined</th>\n",
              "      <th>MV</th>\n",
              "      <th>Transfer_Fee</th>\n",
              "      <th>Loan_Fee</th>\n",
              "    </tr>\n",
              "  </thead>\n",
              "  <tbody>\n",
              "    <tr>\n",
              "      <th>0</th>\n",
              "      <td>238223</td>\n",
              "      <td>2017</td>\n",
              "      <td>2017-07-01</td>\n",
              "      <td>Benfica</td>\n",
              "      <td>ManCity</td>\n",
              "      <td>22000000.0</td>\n",
              "      <td>40000000.0</td>\n",
              "      <td>-</td>\n",
              "    </tr>\n",
              "    <tr>\n",
              "      <th>1</th>\n",
              "      <td>238223</td>\n",
              "      <td>2015</td>\n",
              "      <td>2015-07-01</td>\n",
              "      <td>RioAveFC</td>\n",
              "      <td>Benfica</td>\n",
              "      <td>1200000.0</td>\n",
              "      <td>500000.0</td>\n",
              "      <td>-</td>\n",
              "    </tr>\n",
              "    <tr>\n",
              "      <th>2</th>\n",
              "      <td>238223</td>\n",
              "      <td>2012</td>\n",
              "      <td>2012-07-01</td>\n",
              "      <td>GDRibeirão</td>\n",
              "      <td>RioAveFC</td>\n",
              "      <td>-</td>\n",
              "      <td>free transfer</td>\n",
              "      <td>-</td>\n",
              "    </tr>\n",
              "    <tr>\n",
              "      <th>3</th>\n",
              "      <td>238223</td>\n",
              "      <td>2011</td>\n",
              "      <td>2011-07-01</td>\n",
              "      <td>BenficaU19</td>\n",
              "      <td>GDRibeirão</td>\n",
              "      <td>-</td>\n",
              "      <td>free transfer</td>\n",
              "      <td>-</td>\n",
              "    </tr>\n",
              "    <tr>\n",
              "      <th>4</th>\n",
              "      <td>238223</td>\n",
              "      <td>2010</td>\n",
              "      <td>2010-07-01</td>\n",
              "      <td>BenficaU17</td>\n",
              "      <td>BenficaU19</td>\n",
              "      <td>-</td>\n",
              "      <td>-</td>\n",
              "      <td>-</td>\n",
              "    </tr>\n",
              "  </tbody>\n",
              "</table>\n",
              "</div>\n",
              "      <button class=\"colab-df-convert\" onclick=\"convertToInteractive('df-d910393a-7347-4aef-aebd-4efef6ad7265')\"\n",
              "              title=\"Convert this dataframe to an interactive table.\"\n",
              "              style=\"display:none;\">\n",
              "        \n",
              "  <svg xmlns=\"http://www.w3.org/2000/svg\" height=\"24px\"viewBox=\"0 0 24 24\"\n",
              "       width=\"24px\">\n",
              "    <path d=\"M0 0h24v24H0V0z\" fill=\"none\"/>\n",
              "    <path d=\"M18.56 5.44l.94 2.06.94-2.06 2.06-.94-2.06-.94-.94-2.06-.94 2.06-2.06.94zm-11 1L8.5 8.5l.94-2.06 2.06-.94-2.06-.94L8.5 2.5l-.94 2.06-2.06.94zm10 10l.94 2.06.94-2.06 2.06-.94-2.06-.94-.94-2.06-.94 2.06-2.06.94z\"/><path d=\"M17.41 7.96l-1.37-1.37c-.4-.4-.92-.59-1.43-.59-.52 0-1.04.2-1.43.59L10.3 9.45l-7.72 7.72c-.78.78-.78 2.05 0 2.83L4 21.41c.39.39.9.59 1.41.59.51 0 1.02-.2 1.41-.59l7.78-7.78 2.81-2.81c.8-.78.8-2.07 0-2.86zM5.41 20L4 18.59l7.72-7.72 1.47 1.35L5.41 20z\"/>\n",
              "  </svg>\n",
              "      </button>\n",
              "      \n",
              "  <style>\n",
              "    .colab-df-container {\n",
              "      display:flex;\n",
              "      flex-wrap:wrap;\n",
              "      gap: 12px;\n",
              "    }\n",
              "\n",
              "    .colab-df-convert {\n",
              "      background-color: #E8F0FE;\n",
              "      border: none;\n",
              "      border-radius: 50%;\n",
              "      cursor: pointer;\n",
              "      display: none;\n",
              "      fill: #1967D2;\n",
              "      height: 32px;\n",
              "      padding: 0 0 0 0;\n",
              "      width: 32px;\n",
              "    }\n",
              "\n",
              "    .colab-df-convert:hover {\n",
              "      background-color: #E2EBFA;\n",
              "      box-shadow: 0px 1px 2px rgba(60, 64, 67, 0.3), 0px 1px 3px 1px rgba(60, 64, 67, 0.15);\n",
              "      fill: #174EA6;\n",
              "    }\n",
              "\n",
              "    [theme=dark] .colab-df-convert {\n",
              "      background-color: #3B4455;\n",
              "      fill: #D2E3FC;\n",
              "    }\n",
              "\n",
              "    [theme=dark] .colab-df-convert:hover {\n",
              "      background-color: #434B5C;\n",
              "      box-shadow: 0px 1px 3px 1px rgba(0, 0, 0, 0.15);\n",
              "      filter: drop-shadow(0px 1px 2px rgba(0, 0, 0, 0.3));\n",
              "      fill: #FFFFFF;\n",
              "    }\n",
              "  </style>\n",
              "\n",
              "      <script>\n",
              "        const buttonEl =\n",
              "          document.querySelector('#df-d910393a-7347-4aef-aebd-4efef6ad7265 button.colab-df-convert');\n",
              "        buttonEl.style.display =\n",
              "          google.colab.kernel.accessAllowed ? 'block' : 'none';\n",
              "\n",
              "        async function convertToInteractive(key) {\n",
              "          const element = document.querySelector('#df-d910393a-7347-4aef-aebd-4efef6ad7265');\n",
              "          const dataTable =\n",
              "            await google.colab.kernel.invokeFunction('convertToInteractive',\n",
              "                                                     [key], {});\n",
              "          if (!dataTable) return;\n",
              "\n",
              "          const docLinkHtml = 'Like what you see? Visit the ' +\n",
              "            '<a target=\"_blank\" href=https://colab.research.google.com/notebooks/data_table.ipynb>data table notebook</a>'\n",
              "            + ' to learn more about interactive tables.';\n",
              "          element.innerHTML = '';\n",
              "          dataTable['output_type'] = 'display_data';\n",
              "          await google.colab.output.renderOutput(dataTable, element);\n",
              "          const docLink = document.createElement('div');\n",
              "          docLink.innerHTML = docLinkHtml;\n",
              "          element.appendChild(docLink);\n",
              "        }\n",
              "      </script>\n",
              "    </div>\n",
              "  </div>\n",
              "  "
            ]
          },
          "metadata": {},
          "execution_count": 102
        }
      ]
    }
  ],
  "metadata": {
    "kernelspec": {
      "display_name": "Python 3",
      "language": "python",
      "name": "python3"
    },
    "language_info": {
      "codemirror_mode": {
        "name": "ipython",
        "version": 3
      },
      "file_extension": ".py",
      "mimetype": "text/x-python",
      "name": "python",
      "nbconvert_exporter": "python",
      "pygments_lexer": "ipython3",
      "version": "3.8.5"
    },
    "colab": {
      "provenance": []
    }
  },
  "nbformat": 4,
  "nbformat_minor": 0
}